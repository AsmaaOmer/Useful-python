{
 "cells": [
  {
   "cell_type": "markdown",
   "metadata": {},
   "source": [
    "https://github.com/linkedin/luminol\n",
    "\n",
    "\n",
    "Luminol is a light weight python library for time series data analysis. The two major functionalities it supports are anomaly detection and correlation. It can be used to investigate possible causes of anomaly. You collect time series data and Luminol can:\n",
    "\n",
    "Given a time series, detect if the data contains any anomaly and gives you back a time window where the anomaly happened in, a time stamp where the anomaly reaches its severity, and a score indicating how severe is the anomaly compare to others in the time series.\n",
    "Given two time series, help find their correlation coefficient. Since the correlation mechanism allows a shift room, you are able to correlate two peaks that are slightly apart in time.\n",
    "Luminol is configurable in a sense that you can choose which specific algorithm you want to use for anomaly detection or correlation. In addition, the library does not rely on any predefined threshold on the values of a time series. Instead, it assigns each data point an anomaly score and identifies anomalies using the scores.\n",
    "\n",
    "By using the library, we can establish a logic flow for root cause analysis. For example, suppose there is a spike in network latency:\n",
    "\n",
    "Anomaly detection discovers the spike in network latency time series\n",
    "Get the anomaly period of the spike, and correlate with other system metrics(GC, IO, CPU, etc.) in the same time range\n",
    "Get a ranked list of correlated metrics, and the root cause candidates are likely to be on the top.\n",
    "Investigating the possible ways to automate root cause analysis is one of the main reasons we developed this library and it will be a fundamental part of the future work.\n",
    "\n",
    "Requirements\n",
    "```\n",
    "numpy\n",
    "scipy\n",
    "future==0.16.0\n",
    "```"
   ]
  },
  {
   "cell_type": "code",
   "execution_count": 1,
   "metadata": {},
   "outputs": [],
   "source": [
    "import matplotlib.pyplot as plt\n",
    "%matplotlib inline"
   ]
  },
  {
   "cell_type": "markdown",
   "metadata": {},
   "source": [
    "# Calculate anomaly scores."
   ]
  },
  {
   "cell_type": "code",
   "execution_count": 2,
   "metadata": {},
   "outputs": [
    {
     "name": "stdout",
     "output_type": "stream",
     "text": [
      "0 0.0\n",
      "1 0.8731282501307988\n",
      "2 1.5716308502354377\n",
      "3 2.1363368633427995\n",
      "4 1.70906949067424\n",
      "5 2.905418134146207\n",
      "6 1.1715411093483696\n",
      "7 0.9372328874786957\n",
      "8 0.7497863099829566\n"
     ]
    }
   ],
   "source": [
    "from luminol.anomaly_detector import AnomalyDetector\n",
    "\n",
    "ts = {0: 0, 1: 0.5, 2: 1, 3: 1, 4: 1, 5: 0, 6: 0, 7: 0, 8: 0}\n",
    "\n",
    "my_detector = AnomalyDetector(ts)\n",
    "score = my_detector.get_all_scores()\n",
    "scores = []\n",
    "for timestamp, value in score.iteritems():\n",
    "    print(timestamp, value)\n",
    "    scores.append(value)"
   ]
  },
  {
   "cell_type": "code",
   "execution_count": 7,
   "metadata": {},
   "outputs": [
    {
     "data": {
      "text/plain": [
       "[<matplotlib.lines.Line2D at 0x11f077390>]"
      ]
     },
     "execution_count": 7,
     "metadata": {},
     "output_type": "execute_result"
    },
    {
     "data": {
      "image/png": "[encoded data removed]",
      "text/plain": [
       "<matplotlib.figure.Figure at 0x11f077320>"
      ]
     },
     "metadata": {},
     "output_type": "display_data"
    }
   ],
   "source": [
    "plt.plot(ts.values(), 'bo')\n",
    "plt.plot(scores, 'r*')"
   ]
  },
  {
   "cell_type": "markdown",
   "metadata": {},
   "source": [
    "# Correlate ts1 with ts2 on every anomaly."
   ]
  },
  {
   "cell_type": "code",
   "execution_count": 4,
   "metadata": {},
   "outputs": [],
   "source": [
    "from luminol.anomaly_detector import AnomalyDetector\n",
    "from luminol.correlator import Correlator\n",
    "\n",
    "ts1 = {0: 0, 1: 0.5, 2: 1, 3: 1, 4: 1, 5: 0, 6: 0, 7: 0, 8: 0}\n",
    "ts2 = {0: 0, 1: 0.5, 2: 1, 3: 0.5, 4: 1, 5: 0, 6: 1, 7: 1, 8: 1}"
   ]
  },
  {
   "cell_type": "code",
   "execution_count": 5,
   "metadata": {},
   "outputs": [
    {
     "data": {
      "text/plain": [
       "<matplotlib.legend.Legend at 0x11f5b4a58>"
      ]
     },
     "execution_count": 5,
     "metadata": {},
     "output_type": "execute_result"
    },
    {
     "data": {
      "image/png": "[encoded data removed]",
      "text/plain": [
       "<matplotlib.figure.Figure at 0x10f9f3b38>"
      ]
     },
     "metadata": {},
     "output_type": "display_data"
    }
   ],
   "source": [
    "plt.plot(ts1.values(), 'bo', label='ts1')\n",
    "plt.plot(ts2.values(), 'r*', label='ts2')\n",
    "plt.legend()"
   ]
  },
  {
   "cell_type": "code",
   "execution_count": 6,
   "metadata": {},
   "outputs": [
    {
     "name": "stdout",
     "output_type": "stream",
     "text": [
      "ts2 correlate with ts1 at time period (2, 5)\n"
     ]
    }
   ],
   "source": [
    "my_detector = AnomalyDetector(ts1, score_threshold=1.5)\n",
    "score = my_detector.get_all_scores()\n",
    "anomalies = my_detector.get_anomalies()\n",
    "for a in anomalies:\n",
    "    time_period = a.get_time_window()\n",
    "    my_correlator = Correlator(ts1, ts2, time_period)\n",
    "    if my_correlator.is_correlated(threshold=0.8):\n",
    "        print(\"ts2 correlate with ts1 at time period (%d, %d)\" % time_period)"
   ]
  },
  {
   "cell_type": "code",
   "execution_count": null,
   "metadata": {},
   "outputs": [],
   "source": []
  }
 ],
 "metadata": {
  "kernelspec": {
   "display_name": "Python 3",
   "language": "python",
   "name": "python3"
  },
  "language_info": {
   "codemirror_mode": {
    "name": "ipython",
    "version": 3
   },
   "file_extension": ".py",
   "mimetype": "text/x-python",
   "name": "python",
   "nbconvert_exporter": "python",
   "pygments_lexer": "ipython3",
   "version": "3.6.4"
  }
 },
 "nbformat": 4,
 "nbformat_minor": 2
}
