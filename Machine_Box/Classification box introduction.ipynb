{
 "cells": [
  {
   "cell_type": "markdown",
   "metadata": {},
   "source": [
    "# classificationbox\n",
    "https://machineboxio.com/docs/classificationbox\n",
    "\n",
    "classificationbox is [online learning](https://en.wikipedia.org/wiki/Online_machine_learning) (supervised learning), it works also with little data but it build the classifier function so it needs more data. for my bird monirtoring project my 2 classes would be bird/no_bird, and I just post the image data\n",
    "\n",
    "Classifiers can be made to help solve a wide range of example use cases, for example:\n",
    "* Learn about how your company is perceived by grouping tweets into positive and negative\n",
    "* Automatically group photos of cats and dogs\n",
    "* Group emails into spam and non-spam categories\n",
    "* Build a classifier to detect the language of a piece of text based on previously taught examples\n",
    "\n",
    "```\n",
    "sudo docker pull machinebox/classificationbox\n",
    "\n",
    "sudo docker run -p 8080:8080 -e \"MB_KEY=$MB_KEY\" machinebox/classificationbox\n",
    "```\n",
    "http://localhost:8080/"
   ]
  },
  {
   "cell_type": "code",
   "execution_count": 1,
   "metadata": {},
   "outputs": [],
   "source": [
    "import requests"
   ]
  },
  {
   "cell_type": "code",
   "execution_count": 2,
   "metadata": {},
   "outputs": [],
   "source": [
    "IP = 'localhost'\n",
    "#IP = '192.168.0.30'\n",
    "PORT = '8080'\n",
    "CLASSIFIER = 'classificationbox'\n",
    "MODEL_ID = \"sentiment1\"\n",
    "\n",
    "MODEL_CREATION_URL = 'http://{}:{}/{}/models'.format(IP, PORT, CLASSIFIER)\n",
    "MODEL_TEACH_URL = 'http://{}:{}/{}/models/{}/teach'.format(IP, PORT, CLASSIFIER, MODEL_ID)\n",
    "MODEL_PREDICT_URL = 'http://{}:{}/{}/models/{}/predict'.format(IP, PORT, CLASSIFIER, MODEL_ID)\n",
    "MODEL_STATS_URL = 'http://{}:{}/{}/models/{}/stats'.format(IP, PORT, CLASSIFIER, MODEL_ID)"
   ]
  },
  {
   "cell_type": "markdown",
   "metadata": {},
   "source": [
    "# Model creation\n",
    "First we create the model, which simply consists of providing some basic config and a list of classes"
   ]
  },
  {
   "cell_type": "code",
   "execution_count": 3,
   "metadata": {},
   "outputs": [],
   "source": [
    "model = {\"id\": MODEL_ID,\n",
    "         \"name\": \"sentimentModel\",\n",
    "         \"options\": {\n",
    "             \"ngrams\": 1,\n",
    "             \"skipgrams\": 1},\n",
    "         \"classes\": [\n",
    "             \"class1\",\n",
    "             \"class2\",\n",
    "             \"class3\"]}"
   ]
  },
  {
   "cell_type": "code",
   "execution_count": 4,
   "metadata": {},
   "outputs": [
    {
     "data": {
      "text/plain": [
       "{'id': 'sentiment1',\n",
       " 'name': 'sentimentModel',\n",
       " 'options': {'ngrams': 1, 'skipgrams': 1},\n",
       " 'classes': ['class1', 'class2', 'class3']}"
      ]
     },
     "execution_count": 4,
     "metadata": {},
     "output_type": "execute_result"
    }
   ],
   "source": [
    "model"
   ]
  },
  {
   "cell_type": "code",
   "execution_count": 5,
   "metadata": {},
   "outputs": [
    {
     "data": {
      "text/plain": [
       "{'success': True,\n",
       " 'id': 'sentiment1',\n",
       " 'name': 'sentimentModel',\n",
       " 'options': {'ngrams': 1, 'skipgrams': 1},\n",
       " 'predict_only': False}"
      ]
     },
     "execution_count": 5,
     "metadata": {},
     "output_type": "execute_result"
    }
   ],
   "source": [
    "requests.post(MODEL_CREATION_URL, json=model).json() # Create the model"
   ]
  },
  {
   "cell_type": "markdown",
   "metadata": {},
   "source": [
    "Check the model was created by making a get"
   ]
  },
  {
   "cell_type": "code",
   "execution_count": 6,
   "metadata": {},
   "outputs": [
    {
     "data": {
      "text/plain": [
       "{'success': True,\n",
       " 'models': [{'id': '5b0ce5d8023d4e35', 'name': '5b0ce5d8023d4e35'},\n",
       "  {'id': 'sentiment1', 'name': 'sentimentModel'}]}"
      ]
     },
     "execution_count": 6,
     "metadata": {},
     "output_type": "execute_result"
    }
   ],
   "source": [
    "requests.get(MODEL_CREATION_URL).json()"
   ]
  },
  {
   "cell_type": "markdown",
   "metadata": {},
   "source": [
    "# Teaching the model\n",
    "Post some data to the model, possible inputs (features) are:\n",
    "* number - An integer or floating point number (e.g. likes, age, size)\n",
    "* text - A blob of text that will broken down into tokens (e.g. body of an article)\n",
    "* keyword - A string value that will not be tokenized (e.g. cities, authors)\n",
    "* list - A comma separated list of keywords (e.g. visit history articleA,articleB,articleC,...)\n",
    "* image_url - The URL to an image (which will be downloaded by Classificationbox)\n",
    "* image_base64 - A string containing the base64 encoded image data"
   ]
  },
  {
   "cell_type": "code",
   "execution_count": 7,
   "metadata": {},
   "outputs": [],
   "source": [
    "data_to_teach = {\n",
    "    \"class\": \"class1\",\n",
    "    \"inputs\": [\n",
    "        {\"key\": \"user_age\", \"type\": \"number\", \"value\": \"25\"},\n",
    "        {\"key\": \"user_interests\", \"type\": \"list\", \"value\": \"music,cooking,ml\"},\n",
    "        {\"key\": \"user_location\", \"type\": \"keyword\", \"value\": \"London\"}\n",
    "    ]}"
   ]
  },
  {
   "cell_type": "code",
   "execution_count": 8,
   "metadata": {},
   "outputs": [
    {
     "data": {
      "text/plain": [
       "{'class': 'class1',\n",
       " 'inputs': [{'key': 'user_age', 'type': 'number', 'value': '25'},\n",
       "  {'key': 'user_interests', 'type': 'list', 'value': 'music,cooking,ml'},\n",
       "  {'key': 'user_location', 'type': 'keyword', 'value': 'London'}]}"
      ]
     },
     "execution_count": 8,
     "metadata": {},
     "output_type": "execute_result"
    }
   ],
   "source": [
    "data_to_teach"
   ]
  },
  {
   "cell_type": "code",
   "execution_count": 9,
   "metadata": {},
   "outputs": [
    {
     "data": {
      "text/plain": [
       "{'success': True}"
      ]
     },
     "execution_count": 9,
     "metadata": {},
     "output_type": "execute_result"
    }
   ],
   "source": [
    "requests.post(MODEL_TEACH_URL, json=data_to_teach).json() # Create the model"
   ]
  },
  {
   "cell_type": "markdown",
   "metadata": {},
   "source": [
    "# Model prediction\n",
    "Now make a prediction "
   ]
  },
  {
   "cell_type": "code",
   "execution_count": 10,
   "metadata": {},
   "outputs": [
    {
     "data": {
      "text/plain": [
       "{'success': True,\n",
       " 'classes': [{'id': 'class1', 'score': 0.42109},\n",
       "  {'id': 'class3', 'score': 0.293062},\n",
       "  {'id': 'class2', 'score': 0.285848}]}"
      ]
     },
     "execution_count": 10,
     "metadata": {},
     "output_type": "execute_result"
    }
   ],
   "source": [
    "data_query = {\n",
    "    \"limit\": 10,\n",
    "    \"inputs\": [\n",
    "        {\"key\": \"user_age\", \"type\": \"number\", \"value\": \"25\"},\n",
    "        {\"key\": \"user_interests\", \"type\": \"list\", \"value\": \"music,cooking,ml\"},\n",
    "        {\"key\": \"user_location\", \"type\": \"keyword\", \"value\": \"London\"}]}\n",
    "\n",
    "requests.post(MODEL_PREDICT_URL, json=data_query).json()"
   ]
  },
  {
   "cell_type": "markdown",
   "metadata": {},
   "source": [
    "OK it predicted `class1`\n",
    "\n",
    "Lets check the model stats"
   ]
  },
  {
   "cell_type": "code",
   "execution_count": 11,
   "metadata": {},
   "outputs": [
    {
     "data": {
      "text/plain": [
       "{'success': True,\n",
       " 'predictions': 1,\n",
       " 'examples': 1,\n",
       " 'classes': [{'name': 'class1', 'examples': 1}]}"
      ]
     },
     "execution_count": 11,
     "metadata": {},
     "output_type": "execute_result"
    }
   ],
   "source": [
    "requests.get(MODEL_STATS_URL).json()"
   ]
  },
  {
   "cell_type": "markdown",
   "metadata": {},
   "source": [
    "# Download the model\n",
    "You can download the model state into a binary file for backup, and upload previously saved models."
   ]
  },
  {
   "cell_type": "code",
   "execution_count": 12,
   "metadata": {},
   "outputs": [],
   "source": [
    "MODEL_STATE_URL = 'http://{}:{}/classificationbox/state/{}'.format(IP, PORT, MODEL_ID)"
   ]
  },
  {
   "cell_type": "code",
   "execution_count": 13,
   "metadata": {},
   "outputs": [
    {
     "name": "stdout",
     "output_type": "stream",
     "text": [
      "model_sentiment1.classificationbox\n"
     ]
    },
    {
     "data": {
      "text/plain": [
       "1211"
      ]
     },
     "execution_count": 13,
     "metadata": {},
     "output_type": "execute_result"
    }
   ],
   "source": [
    "response = requests.get(MODEL_STATE_URL)\n",
    "filename = \"model_{}.classificationbox\".format(MODEL_ID)\n",
    "print(filename)\n",
    "open(filename, 'wb').write(response.content)"
   ]
  },
  {
   "cell_type": "code",
   "execution_count": 14,
   "metadata": {},
   "outputs": [
    {
     "name": "stdout",
     "output_type": "stream",
     "text": [
      "Classification box introduction.ipynb  cat.1.jpg\r\n",
      "Classificationbox images.ipynb         cat.2.jpg\r\n",
      "Facebox.ipynb                          model_sentiment1.classificationbox\r\n",
      "Facebox_HA_development.ipynb           monkey.jpg\r\n",
      "Tagbox tag images.ipynb                thebeatles.jpg\r\n"
     ]
    }
   ],
   "source": [
    "ls"
   ]
  },
  {
   "cell_type": "code",
   "execution_count": null,
   "metadata": {},
   "outputs": [],
   "source": []
  }
 ],
 "metadata": {
  "kernelspec": {
   "display_name": "Python 3",
   "language": "python",
   "name": "python3"
  },
  "language_info": {
   "codemirror_mode": {
    "name": "ipython",
    "version": 3
   },
   "file_extension": ".py",
   "mimetype": "text/x-python",
   "name": "python",
   "nbconvert_exporter": "python",
   "pygments_lexer": "ipython3",
   "version": "3.6.4"
  }
 },
 "nbformat": 4,
 "nbformat_minor": 2
}
