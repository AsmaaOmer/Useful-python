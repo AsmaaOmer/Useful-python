{
 "cells": [
  {
   "cell_type": "markdown",
   "metadata": {},
   "source": [
    "* https://medium.com/planet-stories/a-gentle-introduction-to-gdal-part-1-a3253eb96082\n",
    "* [List of gdal utilities](https://www.gdal.org/gdal_utilities.html)"
   ]
  },
  {
   "cell_type": "code",
   "execution_count": 1,
   "metadata": {},
   "outputs": [
    {
     "name": "stdout",
     "output_type": "stream",
     "text": [
      "GDAL 2.2.4, released 2018/03/19\r\n"
     ]
    }
   ],
   "source": [
    "!gdalinfo --version"
   ]
  },
  {
   "cell_type": "code",
   "execution_count": 2,
   "metadata": {},
   "outputs": [
    {
     "name": "stdout",
     "output_type": "stream",
     "text": [
      "Driver: GTiff/GeoTIFF\r\n",
      "Files: /Users/robincole/Documents/Github/rasterio/tests/data/RGB.byte.tif\r\n",
      "Size is 791, 718\r\n",
      "Coordinate System is:\r\n",
      "PROJCS[\"UTM Zone 18, Northern Hemisphere\",\r\n",
      "    GEOGCS[\"Unknown datum based upon the WGS 84 ellipsoid\",\r\n",
      "        DATUM[\"Not_specified_based_on_WGS_84_spheroid\",\r\n",
      "            SPHEROID[\"WGS 84\",6378137,298.257223563,\r\n",
      "                AUTHORITY[\"EPSG\",\"7030\"]]],\r\n",
      "        PRIMEM[\"Greenwich\",0],\r\n",
      "        UNIT[\"degree\",0.0174532925199433]],\r\n",
      "    PROJECTION[\"Transverse_Mercator\"],\r\n",
      "    PARAMETER[\"latitude_of_origin\",0],\r\n",
      "    PARAMETER[\"central_meridian\",-75],\r\n",
      "    PARAMETER[\"scale_factor\",0.9996],\r\n",
      "    PARAMETER[\"false_easting\",500000],\r\n",
      "    PARAMETER[\"false_northing\",0],\r\n",
      "    UNIT[\"metre\",1,\r\n",
      "        AUTHORITY[\"EPSG\",\"9001\"]]]\r\n",
      "Origin = (101985.000000000000000,2826915.000000000000000)\r\n",
      "Pixel Size = (300.037926675094809,-300.041782729804993)\r\n",
      "Metadata:\r\n",
      "  AREA_OR_POINT=Area\r\n",
      "Image Structure Metadata:\r\n",
      "  INTERLEAVE=PIXEL\r\n",
      "Corner Coordinates:\r\n",
      "Upper Left  (  101985.000, 2826915.000) ( 78d57'31.14\"W, 25d30'21.91\"N)\r\n",
      "Lower Left  (  101985.000, 2611485.000) ( 78d53'53.28\"W, 23d33'53.97\"N)\r\n",
      "Upper Right (  339315.000, 2826915.000) ( 76d35'57.98\"W, 25d33' 3.15\"N)\r\n",
      "Lower Right (  339315.000, 2611485.000) ( 76d34'29.73\"W, 23d36'21.41\"N)\r\n",
      "Center      (  220650.000, 2719200.000) ( 77d45'28.46\"W, 24d33'41.70\"N)\r\n",
      "Band 1 Block=791x3 Type=Byte, ColorInterp=Red\r\n",
      "  Min=0.000 Max=255.000   Computed Min/Max=1.000,255.000\r\n",
      "  Minimum=0.000, Maximum=255.000, Mean=29.948, StdDev=52.341\r\n",
      "  NoData Value=0\r\n",
      "  Metadata:\r\n",
      "    STATISTICS_MAXIMUM=255\r\n",
      "    STATISTICS_MEAN=29.947726688477\r\n",
      "    STATISTICS_MINIMUM=0\r\n",
      "    STATISTICS_STDDEV=52.340921626611\r\n",
      "Band 2 Block=791x3 Type=Byte, ColorInterp=Green\r\n",
      "  Min=0.000 Max=255.000   Computed Min/Max=1.000,255.000\r\n",
      "  Minimum=0.000, Maximum=255.000, Mean=44.516, StdDev=56.934\r\n",
      "  NoData Value=0\r\n",
      "  Metadata:\r\n",
      "    STATISTICS_MAXIMUM=255\r\n",
      "    STATISTICS_MEAN=44.516147889382\r\n",
      "    STATISTICS_MINIMUM=0\r\n",
      "    STATISTICS_STDDEV=56.934318291876\r\n",
      "Band 3 Block=791x3 Type=Byte, ColorInterp=Blue\r\n",
      "  Min=0.000 Max=255.000   Computed Min/Max=1.000,255.000\r\n",
      "  Minimum=0.000, Maximum=255.000, Mean=48.113, StdDev=60.113\r\n",
      "  NoData Value=0\r\n",
      "  Metadata:\r\n",
      "    STATISTICS_MAXIMUM=255\r\n",
      "    STATISTICS_MEAN=48.113056354743\r\n",
      "    STATISTICS_MINIMUM=0\r\n",
      "    STATISTICS_STDDEV=60.112778509941\r\n"
     ]
    }
   ],
   "source": [
    "!gdalinfo /Users/robincole/Documents/Github/rasterio/tests/data/RGB.byte.tif -mm"
   ]
  },
  {
   "cell_type": "markdown",
   "metadata": {},
   "source": [
    "[gdal_translate](https://www.gdal.org/gdal_translate.html)"
   ]
  },
  {
   "cell_type": "code",
   "execution_count": 4,
   "metadata": {},
   "outputs": [
    {
     "name": "stdout",
     "output_type": "stream",
     "text": [
      "Input file size is 791, 718\n",
      "0...10...20...30...40...50...60...70...80...90...100 - done.\n"
     ]
    }
   ],
   "source": [
    "!gdal_translate -of JPEG -co QUALITY=70 -co PROGRESSIVE=ON -outsize 1400 0 -r bilinear /Users/robincole/Documents/Github/rasterio/tests/data/RGB.byte.tif CANYrelief1.jpg"
   ]
  },
  {
   "cell_type": "code",
   "execution_count": 5,
   "metadata": {},
   "outputs": [
    {
     "name": "stdout",
     "output_type": "stream",
     "text": [
      "CANYrelief1.jpg          GDAL from CLI.ipynb\r\n",
      "CANYrelief1.jpg.aux.xml  README.md\r\n"
     ]
    }
   ],
   "source": [
    "ls"
   ]
  },
  {
   "cell_type": "code",
   "execution_count": null,
   "metadata": {},
   "outputs": [],
   "source": []
  }
 ],
 "metadata": {
  "kernelspec": {
   "display_name": "Python 3",
   "language": "python",
   "name": "python3"
  },
  "language_info": {
   "codemirror_mode": {
    "name": "ipython",
    "version": 3
   },
   "file_extension": ".py",
   "mimetype": "text/x-python",
   "name": "python",
   "nbconvert_exporter": "python",
   "pygments_lexer": "ipython3",
   "version": "3.6.5"
  }
 },
 "nbformat": 4,
 "nbformat_minor": 2
}
