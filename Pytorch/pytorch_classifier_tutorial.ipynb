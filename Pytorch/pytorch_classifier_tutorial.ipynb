{
 "cells": [
  {
   "cell_type": "markdown",
   "metadata": {},
   "source": [
    "http://pytorch.org/tutorials/beginner/deep_learning_60min_blitz.html"
   ]
  },
  {
   "cell_type": "code",
   "execution_count": 1,
   "metadata": {},
   "outputs": [],
   "source": [
    "import torch"
   ]
  },
  {
   "cell_type": "code",
   "execution_count": 2,
   "metadata": {},
   "outputs": [
    {
     "data": {
      "text/plain": [
       "'0.4.1'"
      ]
     },
     "execution_count": 2,
     "metadata": {},
     "output_type": "execute_result"
    }
   ],
   "source": [
    "torch.__version__"
   ]
  },
  {
   "cell_type": "code",
   "execution_count": 3,
   "metadata": {},
   "outputs": [
    {
     "data": {
      "text/plain": [
       "tensor([[ 0.0000, -2.0000,  0.0000],\n",
       "        [-2.0000,  0.0000,  0.0000],\n",
       "        [ 0.0000,  0.0000,  0.0000],\n",
       "        [ 0.0000,  0.0000,  0.0000],\n",
       "        [ 0.0000,  0.0000,  0.0000]])"
      ]
     },
     "execution_count": 3,
     "metadata": {},
     "output_type": "execute_result"
    }
   ],
   "source": [
    "x = torch.Tensor(5, 3)\n",
    "x"
   ]
  },
  {
   "cell_type": "code",
   "execution_count": 4,
   "metadata": {},
   "outputs": [
    {
     "name": "stdout",
     "output_type": "stream",
     "text": [
      "torch.Size([5, 3])\n"
     ]
    }
   ],
   "source": [
    "print(x.size())"
   ]
  },
  {
   "cell_type": "code",
   "execution_count": 5,
   "metadata": {},
   "outputs": [],
   "source": [
    "from torch.autograd import Variable"
   ]
  },
  {
   "cell_type": "code",
   "execution_count": 6,
   "metadata": {},
   "outputs": [
    {
     "name": "stdout",
     "output_type": "stream",
     "text": [
      "tensor([[1., 1.],\n",
      "        [1., 1.]], requires_grad=True)\n"
     ]
    }
   ],
   "source": [
    "x = Variable(torch.ones(2, 2), requires_grad=True)\n",
    "print(x)"
   ]
  },
  {
   "cell_type": "code",
   "execution_count": 7,
   "metadata": {},
   "outputs": [
    {
     "name": "stdout",
     "output_type": "stream",
     "text": [
      "tensor([[3., 3.],\n",
      "        [3., 3.]], grad_fn=<AddBackward>)\n"
     ]
    }
   ],
   "source": [
    "y = x + 2\n",
    "print(y)"
   ]
  },
  {
   "cell_type": "code",
   "execution_count": 8,
   "metadata": {},
   "outputs": [
    {
     "name": "stdout",
     "output_type": "stream",
     "text": [
      "<AddBackward object at 0x10aceb198>\n"
     ]
    }
   ],
   "source": [
    "print(y.grad_fn)"
   ]
  },
  {
   "cell_type": "code",
   "execution_count": 9,
   "metadata": {},
   "outputs": [
    {
     "name": "stdout",
     "output_type": "stream",
     "text": [
      "tensor([[27., 27.],\n",
      "        [27., 27.]], grad_fn=<MulBackward>) tensor(27., grad_fn=<MeanBackward1>)\n"
     ]
    }
   ],
   "source": [
    "z = y * y * 3\n",
    "out = z.mean()\n",
    "\n",
    "print(z, out)"
   ]
  },
  {
   "cell_type": "code",
   "execution_count": 10,
   "metadata": {},
   "outputs": [],
   "source": [
    "out.backward()"
   ]
  },
  {
   "cell_type": "code",
   "execution_count": 11,
   "metadata": {},
   "outputs": [
    {
     "name": "stdout",
     "output_type": "stream",
     "text": [
      "tensor([[4.5000, 4.5000],\n",
      "        [4.5000, 4.5000]])\n"
     ]
    }
   ],
   "source": [
    "print(x.grad)"
   ]
  },
  {
   "cell_type": "markdown",
   "metadata": {},
   "source": [
    "## Training a classifier\n",
    "http://pytorch.org/tutorials/beginner/blitz/cifar10_tutorial.html"
   ]
  },
  {
   "cell_type": "code",
   "execution_count": 12,
   "metadata": {},
   "outputs": [],
   "source": [
    "import torch\n",
    "import torchvision\n",
    "import torchvision.transforms as transforms"
   ]
  },
  {
   "cell_type": "code",
   "execution_count": 13,
   "metadata": {},
   "outputs": [
    {
     "name": "stdout",
     "output_type": "stream",
     "text": [
      "Files already downloaded and verified\n",
      "Files already downloaded and verified\n"
     ]
    }
   ],
   "source": [
    "transform = transforms.Compose(\n",
    "    [transforms.ToTensor(),\n",
    "     transforms.Normalize((0.5, 0.5, 0.5), (0.5, 0.5, 0.5))])\n",
    "\n",
    "trainset = torchvision.datasets.CIFAR10(root='./data', train=True,\n",
    "                                        download=True, transform=transform)\n",
    "trainloader = torch.utils.data.DataLoader(trainset, batch_size=4,\n",
    "                                          shuffle=True, num_workers=2)\n",
    "\n",
    "testset = torchvision.datasets.CIFAR10(root='./data', train=False,\n",
    "                                       download=True, transform=transform)\n",
    "testloader = torch.utils.data.DataLoader(testset, batch_size=4,\n",
    "                                         shuffle=False, num_workers=2)\n",
    "\n",
    "classes = ('plane', 'car', 'bird', 'cat',\n",
    "           'deer', 'dog', 'frog', 'horse', 'ship', 'truck')"
   ]
  },
  {
   "cell_type": "code",
   "execution_count": 14,
   "metadata": {},
   "outputs": [
    {
     "name": "stdout",
     "output_type": "stream",
     "text": [
      "horse   cat   car plane\n"
     ]
    },
    {
     "data": {
      "image/png": "[encoded data removed]",
      "text/plain": [
       "<Figure size 432x288 with 1 Axes>"
      ]
     },
     "metadata": {},
     "output_type": "display_data"
    }
   ],
   "source": [
    "%matplotlib inline\n",
    "import matplotlib.pyplot as plt\n",
    "import numpy as np\n",
    "\n",
    "# functions to show an image\n",
    "\n",
    "\n",
    "def imshow(img):\n",
    "    img = img / 2 + 0.5     # unnormalize\n",
    "    npimg = img.numpy()\n",
    "    plt.imshow(np.transpose(npimg, (1, 2, 0)))\n",
    "\n",
    "\n",
    "# get some random training images\n",
    "dataiter = iter(trainloader)\n",
    "images, labels = dataiter.next()\n",
    "\n",
    "# show images\n",
    "imshow(torchvision.utils.make_grid(images))\n",
    "# print labels\n",
    "print(' '.join('%5s' % classes[labels[j]] for j in range(4)))"
   ]
  },
  {
   "cell_type": "code",
   "execution_count": 15,
   "metadata": {},
   "outputs": [],
   "source": [
    "from torch.autograd import Variable\n",
    "import torch.nn as nn\n",
    "import torch.nn.functional as F\n",
    "\n",
    "\n",
    "class Net(nn.Module):\n",
    "    def __init__(self):\n",
    "        super(Net, self).__init__()\n",
    "        self.conv1 = nn.Conv2d(3, 6, 5)\n",
    "        self.pool = nn.MaxPool2d(2, 2)\n",
    "        self.conv2 = nn.Conv2d(6, 16, 5)\n",
    "        self.fc1 = nn.Linear(16 * 5 * 5, 120)\n",
    "        self.fc2 = nn.Linear(120, 84)\n",
    "        self.fc3 = nn.Linear(84, 10)\n",
    "\n",
    "    def forward(self, x):\n",
    "        x = self.pool(F.relu(self.conv1(x)))\n",
    "        x = self.pool(F.relu(self.conv2(x)))\n",
    "        x = x.view(-1, 16 * 5 * 5)\n",
    "        x = F.relu(self.fc1(x))\n",
    "        x = F.relu(self.fc2(x))\n",
    "        x = self.fc3(x)\n",
    "        return x\n",
    "\n",
    "\n",
    "net = Net()"
   ]
  },
  {
   "cell_type": "code",
   "execution_count": 16,
   "metadata": {},
   "outputs": [],
   "source": [
    "import torch.optim as optim\n",
    "\n",
    "criterion = nn.CrossEntropyLoss()\n",
    "optimizer = optim.SGD(net.parameters(), lr=0.001, momentum=0.9)"
   ]
  },
  {
   "cell_type": "code",
   "execution_count": 17,
   "metadata": {},
   "outputs": [
    {
     "name": "stderr",
     "output_type": "stream",
     "text": [
      "/Users/robincole/anaconda3/lib/python3.6/site-packages/ipykernel_launcher.py:25: UserWarning: invalid index of a 0-dim tensor. This will be an error in PyTorch 0.5. Use tensor.item() to convert a 0-dim tensor to a Python number\n"
     ]
    },
    {
     "name": "stdout",
     "output_type": "stream",
     "text": [
      "[1,  2000] loss: 2.183\n",
      "[1,  4000] loss: 1.810\n",
      "[1,  6000] loss: 1.632\n",
      "[1,  8000] loss: 1.571\n",
      "[1, 10000] loss: 1.498\n",
      "[1, 12000] loss: 1.444\n",
      "[2,  2000] loss: 1.390\n",
      "[2,  4000] loss: 1.373\n",
      "[2,  6000] loss: 1.318\n",
      "[2,  8000] loss: 1.300\n",
      "[2, 10000] loss: 1.262\n",
      "[2, 12000] loss: 1.262\n",
      "[3,  2000] loss: 1.200\n",
      "[3,  4000] loss: 1.188\n",
      "[3,  6000] loss: 1.199\n",
      "[3,  8000] loss: 1.163\n",
      "[3, 10000] loss: 1.162\n",
      "[3, 12000] loss: 1.131\n",
      "[4,  2000] loss: 1.084\n",
      "[4,  4000] loss: 1.107\n",
      "[4,  6000] loss: 1.086\n",
      "[4,  8000] loss: 1.060\n",
      "[4, 10000] loss: 1.073\n",
      "[4, 12000] loss: 1.090\n",
      "[5,  2000] loss: 1.006\n",
      "[5,  4000] loss: 1.006\n",
      "[5,  6000] loss: 1.002\n",
      "[5,  8000] loss: 1.025\n",
      "[5, 10000] loss: 1.017\n",
      "[5, 12000] loss: 1.017\n",
      "[6,  2000] loss: 0.921\n",
      "[6,  4000] loss: 0.941\n",
      "[6,  6000] loss: 0.966\n",
      "[6,  8000] loss: 0.959\n",
      "[6, 10000] loss: 0.990\n",
      "[6, 12000] loss: 0.975\n",
      "[7,  2000] loss: 0.854\n",
      "[7,  4000] loss: 0.905\n",
      "[7,  6000] loss: 0.913\n",
      "[7,  8000] loss: 0.904\n",
      "[7, 10000] loss: 0.928\n",
      "[7, 12000] loss: 0.963\n",
      "[8,  2000] loss: 0.835\n",
      "[8,  4000] loss: 0.861\n",
      "[8,  6000] loss: 0.870\n",
      "[8,  8000] loss: 0.888\n",
      "[8, 10000] loss: 0.908\n",
      "[8, 12000] loss: 0.894\n",
      "[9,  2000] loss: 0.784\n",
      "[9,  4000] loss: 0.838\n",
      "[9,  6000] loss: 0.842\n",
      "[9,  8000] loss: 0.837\n",
      "[9, 10000] loss: 0.856\n",
      "[9, 12000] loss: 0.863\n",
      "[10,  2000] loss: 0.743\n",
      "[10,  4000] loss: 0.787\n",
      "[10,  6000] loss: 0.799\n",
      "[10,  8000] loss: 0.807\n",
      "[10, 10000] loss: 0.852\n",
      "[10, 12000] loss: 0.844\n",
      "[11,  2000] loss: 0.731\n",
      "[11,  4000] loss: 0.757\n",
      "[11,  6000] loss: 0.779\n",
      "[11,  8000] loss: 0.786\n",
      "[11, 10000] loss: 0.804\n",
      "[11, 12000] loss: 0.836\n",
      "[12,  2000] loss: 0.697\n",
      "[12,  4000] loss: 0.742\n",
      "[12,  6000] loss: 0.745\n",
      "[12,  8000] loss: 0.772\n",
      "[12, 10000] loss: 0.787\n",
      "[12, 12000] loss: 0.819\n",
      "[13,  2000] loss: 0.705\n",
      "[13,  4000] loss: 0.707\n",
      "[13,  6000] loss: 0.741\n",
      "[13,  8000] loss: 0.765\n",
      "[13, 10000] loss: 0.754\n",
      "[13, 12000] loss: 0.799\n",
      "[14,  2000] loss: 0.672\n",
      "[14,  4000] loss: 0.704\n",
      "[14,  6000] loss: 0.723\n",
      "[14,  8000] loss: 0.751\n",
      "[14, 10000] loss: 0.749\n",
      "[14, 12000] loss: 0.762\n",
      "[15,  2000] loss: 0.647\n",
      "[15,  4000] loss: 0.663\n",
      "[15,  6000] loss: 0.695\n",
      "[15,  8000] loss: 0.729\n",
      "[15, 10000] loss: 0.739\n",
      "[15, 12000] loss: 0.752\n",
      "[16,  2000] loss: 0.641\n",
      "[16,  4000] loss: 0.676\n",
      "[16,  6000] loss: 0.692\n",
      "[16,  8000] loss: 0.689\n",
      "[16, 10000] loss: 0.718\n",
      "[16, 12000] loss: 0.726\n",
      "[17,  2000] loss: 0.608\n",
      "[17,  4000] loss: 0.631\n",
      "[17,  6000] loss: 0.691\n",
      "[17,  8000] loss: 0.667\n",
      "[17, 10000] loss: 0.709\n",
      "[17, 12000] loss: 0.737\n",
      "[18,  2000] loss: 0.578\n",
      "[18,  4000] loss: 0.634\n",
      "[18,  6000] loss: 0.661\n",
      "[18,  8000] loss: 0.697\n",
      "[18, 10000] loss: 0.691\n",
      "[18, 12000] loss: 0.716\n",
      "[19,  2000] loss: 0.596\n",
      "[19,  4000] loss: 0.650\n",
      "[19,  6000] loss: 0.659\n",
      "[19,  8000] loss: 0.685\n",
      "[19, 10000] loss: 0.685\n",
      "[19, 12000] loss: 0.698\n",
      "[20,  2000] loss: 0.585\n",
      "[20,  4000] loss: 0.596\n",
      "[20,  6000] loss: 0.626\n",
      "[20,  8000] loss: 0.667\n",
      "[20, 10000] loss: 0.690\n",
      "[20, 12000] loss: 0.693\n",
      "[21,  2000] loss: 0.567\n",
      "[21,  4000] loss: 0.596\n",
      "[21,  6000] loss: 0.663\n",
      "[21,  8000] loss: 0.671\n",
      "[21, 10000] loss: 0.670\n",
      "[21, 12000] loss: 0.670\n",
      "[22,  2000] loss: 0.581\n",
      "[22,  4000] loss: 0.609\n",
      "[22,  6000] loss: 0.620\n",
      "[22,  8000] loss: 0.661\n",
      "[22, 10000] loss: 0.697\n",
      "[22, 12000] loss: 0.678\n",
      "[23,  2000] loss: 0.575\n",
      "[23,  4000] loss: 0.586\n",
      "[23,  6000] loss: 0.623\n",
      "[23,  8000] loss: 0.659\n",
      "[23, 10000] loss: 0.661\n",
      "[23, 12000] loss: 0.679\n",
      "[24,  2000] loss: 0.558\n",
      "[24,  4000] loss: 0.596\n",
      "[24,  6000] loss: 0.632\n",
      "[24,  8000] loss: 0.643\n",
      "[24, 10000] loss: 0.663\n",
      "[24, 12000] loss: 0.671\n",
      "[25,  2000] loss: 0.543\n",
      "[25,  4000] loss: 0.606\n",
      "[25,  6000] loss: 0.627\n",
      "[25,  8000] loss: 0.646\n",
      "[25, 10000] loss: 0.665\n",
      "[25, 12000] loss: 0.634\n",
      "Finished Training\n",
      "CPU times: user 11min 42s, sys: 1min 59s, total: 13min 42s\n",
      "Wall time: 13min 10s\n"
     ]
    },
    {
     "data": {
      "image/png": "[encoded data removed]",
      "text/plain": [
       "<Figure size 432x288 with 1 Axes>"
      ]
     },
     "metadata": {},
     "output_type": "display_data"
    }
   ],
   "source": [
    "%%time\n",
    "loss_record = []\n",
    "\n",
    "epochs = 25\n",
    "\n",
    "for epoch in range(epochs):  # loop over the dataset multiple times\n",
    "\n",
    "    running_loss = 0.0\n",
    "    for i, data in enumerate(trainloader, 0):\n",
    "        # get the inputs\n",
    "        inputs, labels = data\n",
    "\n",
    "        # wrap them in Variable\n",
    "        inputs, labels = Variable(inputs), Variable(labels)\n",
    "\n",
    "        # zero the parameter gradients\n",
    "        optimizer.zero_grad()\n",
    "\n",
    "        # forward + backward + optimize\n",
    "        outputs = net(inputs)\n",
    "        loss = criterion(outputs, labels)\n",
    "        loss.backward()\n",
    "        optimizer.step()\n",
    "\n",
    "        # print statistics\n",
    "        running_loss += loss.data[0]\n",
    "        \n",
    "        if i % 2000 == 1999:    # print every 2000 mini-batches\n",
    "            print('[%d, %5d] loss: %.3f' %\n",
    "                  (epoch + 1, i + 1, running_loss / 2000))\n",
    "            loss_record.append(running_loss/ 2000)\n",
    "            running_loss = 0.0\n",
    "\n",
    "print('Finished Training')\n",
    "plt.plot(loss_record)"
   ]
  },
  {
   "cell_type": "code",
   "execution_count": 18,
   "metadata": {},
   "outputs": [
    {
     "name": "stdout",
     "output_type": "stream",
     "text": [
      "GroundTruth:    cat  ship  ship plane\n"
     ]
    },
    {
     "data": {
      "image/png": "[encoded data removed]",
      "text/plain": [
       "<Figure size 432x288 with 1 Axes>"
      ]
     },
     "metadata": {},
     "output_type": "display_data"
    }
   ],
   "source": [
    "dataiter = iter(testloader)\n",
    "images, labels = dataiter.next()\n",
    "\n",
    "# print images\n",
    "imshow(torchvision.utils.make_grid(images))\n",
    "print('GroundTruth: ', ' '.join('%5s' % classes[labels[j]] for j in range(4)))"
   ]
  },
  {
   "cell_type": "code",
   "execution_count": 19,
   "metadata": {},
   "outputs": [],
   "source": [
    "outputs = net(Variable(images))"
   ]
  },
  {
   "cell_type": "code",
   "execution_count": 20,
   "metadata": {},
   "outputs": [
    {
     "name": "stdout",
     "output_type": "stream",
     "text": [
      "Predicted:    cat  ship  ship plane\n"
     ]
    }
   ],
   "source": [
    "_, predicted = torch.max(outputs.data, 1)\n",
    "\n",
    "print('Predicted: ', ' '.join('%5s' % classes[predicted[j]]\n",
    "                              for j in range(4)))"
   ]
  },
  {
   "cell_type": "code",
   "execution_count": 21,
   "metadata": {},
   "outputs": [
    {
     "name": "stdout",
     "output_type": "stream",
     "text": [
      "Accuracy of the network on the 10000 test images: 59 %\n"
     ]
    }
   ],
   "source": [
    "correct = 0\n",
    "total = 0\n",
    "for data in testloader:\n",
    "    images, labels = data\n",
    "    outputs = net(Variable(images))\n",
    "    _, predicted = torch.max(outputs.data, 1)\n",
    "    total += labels.size(0)\n",
    "    correct += (predicted == labels).sum()\n",
    "\n",
    "print('Accuracy of the network on the 10000 test images: %d %%' % (\n",
    "    100 * correct / total))"
   ]
  },
  {
   "cell_type": "markdown",
   "metadata": {},
   "source": [
    "## Accuracy vs epochs\n",
    "* 2 epochs - Accuracy of the network on the 10000 test images: 53 %, Wall time: 57 s\n",
    "* 5 epochs - Accuracy of the network on the 10000 test images: 62 %, Wall time: 2min 18s\n",
    "* 25 epochs - Accuracy of the network on the 10000 test images: 59 %, Wall time: 13min 10s, see ringing as learning rate too high"
   ]
  },
  {
   "cell_type": "code",
   "execution_count": null,
   "metadata": {},
   "outputs": [],
   "source": []
  }
 ],
 "metadata": {
  "kernelspec": {
   "display_name": "Python 3",
   "language": "python",
   "name": "python3"
  },
  "language_info": {
   "codemirror_mode": {
    "name": "ipython",
    "version": 3
   },
   "file_extension": ".py",
   "mimetype": "text/x-python",
   "name": "python",
   "nbconvert_exporter": "python",
   "pygments_lexer": "ipython3",
   "version": "3.6.5"
  }
 },
 "nbformat": 4,
 "nbformat_minor": 2
}
