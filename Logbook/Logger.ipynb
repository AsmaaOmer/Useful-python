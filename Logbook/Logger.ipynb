{
 "cells": [
  {
   "cell_type": "markdown",
   "metadata": {},
   "source": [
    "Logbook makes it very easy to get started with logging. Just import the logger class, create yourself a logger and you are set:"
   ]
  },
  {
   "cell_type": "code",
   "execution_count": 6,
   "metadata": {},
   "outputs": [],
   "source": [
    "from logbook import Logger, StreamHandler, warn"
   ]
  },
  {
   "cell_type": "code",
   "execution_count": 9,
   "metadata": {},
   "outputs": [],
   "source": [
    "import time\n",
    "import sys\n",
    "StreamHandler(sys.stdout).push_application()"
   ]
  },
  {
   "cell_type": "code",
   "execution_count": 3,
   "metadata": {},
   "outputs": [],
   "source": [
    "log = Logger('Logbook')"
   ]
  },
  {
   "cell_type": "code",
   "execution_count": 5,
   "metadata": {},
   "outputs": [
    {
     "name": "stdout",
     "output_type": "stream",
     "text": [
      "[2019-04-23 12:42:15.722798] INFO: Logbook: Hello, World!\n"
     ]
    }
   ],
   "source": [
    "log.info('Hello, World!')"
   ]
  },
  {
   "cell_type": "code",
   "execution_count": 7,
   "metadata": {},
   "outputs": [
    {
     "name": "stdout",
     "output_type": "stream",
     "text": [
      "[2019-04-23 12:43:07.045994] WARNING: Generic: This is a warning\n"
     ]
    }
   ],
   "source": [
    "warn('This is a warning')"
   ]
  },
  {
   "cell_type": "markdown",
   "metadata": {},
   "source": [
    "## Logbook setups\n",
    "https://logbook.readthedocs.io/en/stable/setups.html"
   ]
  },
  {
   "cell_type": "code",
   "execution_count": 8,
   "metadata": {},
   "outputs": [],
   "source": [
    "from logbook import FileHandler\n",
    "log_handler = FileHandler('application.log')"
   ]
  },
  {
   "cell_type": "code",
   "execution_count": 10,
   "metadata": {},
   "outputs": [],
   "source": [
    "with log_handler.applicationbound():\n",
    "    for i in range(10):\n",
    "        log.info(f'message {i}')\n",
    "        time.sleep(1)"
   ]
  },
  {
   "cell_type": "markdown",
   "metadata": {},
   "source": [
    "Now read the file"
   ]
  },
  {
   "cell_type": "code",
   "execution_count": 11,
   "metadata": {},
   "outputs": [
    {
     "name": "stdout",
     "output_type": "stream",
     "text": [
      "[2019-04-23 12:46:58.940833] INFO: Logbook: message 0\n",
      "\n",
      "[2019-04-23 12:46:59.946528] INFO: Logbook: message 1\n",
      "\n",
      "[2019-04-23 12:47:00.950825] INFO: Logbook: message 2\n",
      "\n",
      "[2019-04-23 12:47:01.953147] INFO: Logbook: message 3\n",
      "\n",
      "[2019-04-23 12:47:02.955559] INFO: Logbook: message 4\n",
      "\n",
      "[2019-04-23 12:47:03.957974] INFO: Logbook: message 5\n",
      "\n",
      "[2019-04-23 12:47:04.962858] INFO: Logbook: message 6\n",
      "\n",
      "[2019-04-23 12:47:05.965784] INFO: Logbook: message 7\n",
      "\n",
      "[2019-04-23 12:47:06.966610] INFO: Logbook: message 8\n",
      "\n",
      "[2019-04-23 12:47:07.971326] INFO: Logbook: message 9\n",
      "\n"
     ]
    }
   ],
   "source": [
    "with open('application.log') as log:\n",
    "    for line in log.readlines():\n",
    "        print(line)"
   ]
  },
  {
   "cell_type": "code",
   "execution_count": null,
   "metadata": {},
   "outputs": [],
   "source": []
  }
 ],
 "metadata": {
  "kernelspec": {
   "display_name": "Python 3",
   "language": "python",
   "name": "python3"
  },
  "language_info": {
   "codemirror_mode": {
    "name": "ipython",
    "version": 3
   },
   "file_extension": ".py",
   "mimetype": "text/x-python",
   "name": "python",
   "nbconvert_exporter": "python",
   "pygments_lexer": "ipython3",
   "version": "3.6.5"
  }
 },
 "nbformat": 4,
 "nbformat_minor": 2
}
