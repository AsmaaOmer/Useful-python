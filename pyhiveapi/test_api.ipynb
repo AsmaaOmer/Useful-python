{
 "cells": [
  {
   "cell_type": "markdown",
   "metadata": {},
   "source": [
    "## Pyhiveapi\n",
    "* Example -> https://github.com/Rendili/pyhiveapi/blob/master/examples/pyhiveapi_example_1.py\n",
    "* This package uses the API -> http://www.smartofthehome.com/2016/05/hive-rest-api-v6/\n",
    "* There is also a CLI app -> https://github.com/fstanis/hivecli\n",
    "\n",
    "I am loading my api credentials from a json file"
   ]
  },
  {
   "cell_type": "code",
   "execution_count": 26,
   "metadata": {},
   "outputs": [],
   "source": [
    "import json"
   ]
  },
  {
   "cell_type": "code",
   "execution_count": 27,
   "metadata": {},
   "outputs": [],
   "source": [
    "def load_api_secrets(filename):\n",
    "    \"\"\"Convenience to load the API key from a json file.\"\"\"\n",
    "    try:\n",
    "        with open(filename, 'r') as fp:\n",
    "            api_params = json.load(fp)\n",
    "    except Exception as e:\n",
    "        print('Failed to load API secrets key: {}'.format(e))\n",
    "        api_params = None\n",
    "    return api_params['username'], api_params['password']"
   ]
  },
  {
   "cell_type": "code",
   "execution_count": 28,
   "metadata": {},
   "outputs": [],
   "source": [
    "filename = \"/Users/robincole/Desktop/Hive_API_key.json\"\n",
    "\n",
    "HiveUserName, HivePassword = load_api_secrets(filename)\n",
    "UpdateIntervalInMinutes = 2"
   ]
  },
  {
   "cell_type": "code",
   "execution_count": 29,
   "metadata": {},
   "outputs": [],
   "source": [
    "from pyhiveapi import Pyhiveapi\n",
    "\n",
    "HiveAPI = Pyhiveapi()\n",
    "heating = Pyhiveapi.Heating()\n",
    "hotwater = Pyhiveapi.Hotwater()"
   ]
  },
  {
   "cell_type": "code",
   "execution_count": 30,
   "metadata": {},
   "outputs": [
    {
     "name": "stdout",
     "output_type": "stream",
     "text": [
      "Attempt to log in to the Hive API\n"
     ]
    }
   ],
   "source": [
    "print(\"Attempt to log in to the Hive API\")\n",
    "api_device_list_all = {}\n",
    "api_device_list_all = HiveAPI.initialise_api(HiveUserName, HivePassword, UpdateIntervalInMinutes)"
   ]
  },
  {
   "cell_type": "code",
   "execution_count": 31,
   "metadata": {},
   "outputs": [
    {
     "data": {
      "text/plain": [
       "{'device_list_sensor': [{'HA_DeviceType': 'Hub_OnlineStatus',\n",
       "   'Hive_NodeID': '79de2240-da80-4f01-9c54-ba9553ea3969',\n",
       "   'Hive_NodeName': 'Hub',\n",
       "   'Hive_DeviceType': 'Hub'},\n",
       "  {'HA_DeviceType': 'Heating_CurrentTemperature',\n",
       "   'Hive_NodeID': '9fe040ad-25ee-43e9-bee1-a7ebe46ffd08',\n",
       "   'Hive_NodeName': None,\n",
       "   'Hive_DeviceType': 'Heating'},\n",
       "  {'HA_DeviceType': 'Heating_TargetTemperature',\n",
       "   'Hive_NodeID': '9fe040ad-25ee-43e9-bee1-a7ebe46ffd08',\n",
       "   'Hive_NodeName': None,\n",
       "   'Hive_DeviceType': 'Heating'},\n",
       "  {'HA_DeviceType': 'Heating_State',\n",
       "   'Hive_NodeID': '9fe040ad-25ee-43e9-bee1-a7ebe46ffd08',\n",
       "   'Hive_NodeName': None,\n",
       "   'Hive_DeviceType': 'Heating'},\n",
       "  {'HA_DeviceType': 'Heating_Mode',\n",
       "   'Hive_NodeID': '9fe040ad-25ee-43e9-bee1-a7ebe46ffd08',\n",
       "   'Hive_NodeName': None,\n",
       "   'Hive_DeviceType': 'Heating'},\n",
       "  {'HA_DeviceType': 'Heating_Boost',\n",
       "   'Hive_NodeID': '9fe040ad-25ee-43e9-bee1-a7ebe46ffd08',\n",
       "   'Hive_NodeName': None,\n",
       "   'Hive_DeviceType': 'Heating'},\n",
       "  {'HA_DeviceType': 'HotWater_State',\n",
       "   'Hive_NodeID': '2d680b2d-99fa-41aa-97e4-5b2d1d7ba244',\n",
       "   'Hive_NodeName': None,\n",
       "   'Hive_DeviceType': 'HotWater'},\n",
       "  {'HA_DeviceType': 'HotWater_Mode',\n",
       "   'Hive_NodeID': '2d680b2d-99fa-41aa-97e4-5b2d1d7ba244',\n",
       "   'Hive_NodeName': None,\n",
       "   'Hive_DeviceType': 'HotWater'},\n",
       "  {'HA_DeviceType': 'HotWater_Boost',\n",
       "   'Hive_NodeID': '2d680b2d-99fa-41aa-97e4-5b2d1d7ba244',\n",
       "   'Hive_NodeName': None,\n",
       "   'Hive_DeviceType': 'HotWater'},\n",
       "  {'HA_DeviceType': 'Hive_Device_BatteryLevel',\n",
       "   'Hive_NodeID': '7ed2b1bf-084d-4f7e-90c6-4814b89ee092',\n",
       "   'Hive_NodeName': None,\n",
       "   'Hive_DeviceType': 'thermostatui'},\n",
       "  {'HA_DeviceType': 'Hive_Device_Availability',\n",
       "   'Hive_NodeID': '7ed2b1bf-084d-4f7e-90c6-4814b89ee092',\n",
       "   'Hive_NodeName': None,\n",
       "   'Hive_DeviceType': 'thermostatui'}],\n",
       " 'device_list_binary_sensor': [],\n",
       " 'device_list_climate': [{'HA_DeviceType': 'Heating',\n",
       "   'Hive_NodeID': '9fe040ad-25ee-43e9-bee1-a7ebe46ffd08',\n",
       "   'Hive_NodeName': None,\n",
       "   'Hive_DeviceType': 'Heating',\n",
       "   'Thermostat_NodeID': '7ed2b1bf-084d-4f7e-90c6-4814b89ee092'},\n",
       "  {'HA_DeviceType': 'HotWater',\n",
       "   'Hive_NodeID': '2d680b2d-99fa-41aa-97e4-5b2d1d7ba244',\n",
       "   'Hive_NodeName': None,\n",
       "   'Hive_DeviceType': 'HotWater'}],\n",
       " 'device_list_light': [],\n",
       " 'device_list_plug': []}"
      ]
     },
     "execution_count": 31,
     "metadata": {},
     "output_type": "execute_result"
    }
   ],
   "source": [
    "api_device_list_all"
   ]
  },
  {
   "cell_type": "markdown",
   "metadata": {},
   "source": [
    "OK that works"
   ]
  },
  {
   "cell_type": "code",
   "execution_count": 32,
   "metadata": {},
   "outputs": [],
   "source": [
    "api_device_list_climate = api_device_list_all[\"device_list_climate\"]"
   ]
  },
  {
   "cell_type": "code",
   "execution_count": 33,
   "metadata": {},
   "outputs": [
    {
     "name": "stdout",
     "output_type": "stream",
     "text": [
      "2\n"
     ]
    }
   ],
   "source": [
    "print(len(api_device_list_climate))"
   ]
  },
  {
   "cell_type": "code",
   "execution_count": 34,
   "metadata": {},
   "outputs": [
    {
     "data": {
      "text/plain": [
       "[{'HA_DeviceType': 'Heating',\n",
       "  'Hive_NodeID': '9fe040ad-25ee-43e9-bee1-a7ebe46ffd08',\n",
       "  'Hive_NodeName': None,\n",
       "  'Hive_DeviceType': 'Heating',\n",
       "  'Thermostat_NodeID': '7ed2b1bf-084d-4f7e-90c6-4814b89ee092'},\n",
       " {'HA_DeviceType': 'HotWater',\n",
       "  'Hive_NodeID': '2d680b2d-99fa-41aa-97e4-5b2d1d7ba244',\n",
       "  'Hive_NodeName': None,\n",
       "  'Hive_DeviceType': 'HotWater'}]"
      ]
     },
     "execution_count": 34,
     "metadata": {},
     "output_type": "execute_result"
    }
   ],
   "source": [
    "api_device_list_climate"
   ]
  },
  {
   "cell_type": "code",
   "execution_count": 35,
   "metadata": {},
   "outputs": [
    {
     "name": "stdout",
     "output_type": "stream",
     "text": [
      "climate :: None : Heating : 9fe040ad-25ee-43e9-bee1-a7ebe46ffd08\n",
      "climate :: None : HotWater : 2d680b2d-99fa-41aa-97e4-5b2d1d7ba244\n"
     ]
    }
   ],
   "source": [
    "for adevice in api_device_list_climate:\n",
    "    print(\"climate :: \" + str(adevice[\"Hive_NodeName\"]) + \" : \" + str(adevice[\"HA_DeviceType\"]) + \" : \" + str(adevice[\"Hive_NodeID\"]))"
   ]
  },
  {
   "cell_type": "code",
   "execution_count": 37,
   "metadata": {},
   "outputs": [
    {
     "data": {
      "text/plain": [
       "'9fe040ad-25ee-43e9-bee1-a7ebe46ffd08'"
      ]
     },
     "execution_count": 37,
     "metadata": {},
     "output_type": "execute_result"
    }
   ],
   "source": [
    "Heating_NodeID_SingleZone = api_device_list_climate[0][\"Hive_NodeID\"]\n",
    "Heating_NodeID_SingleZone"
   ]
  },
  {
   "cell_type": "markdown",
   "metadata": {},
   "source": [
    "## Get temperature"
   ]
  },
  {
   "cell_type": "code",
   "execution_count": 38,
   "metadata": {},
   "outputs": [
    {
     "name": "stdout",
     "output_type": "stream",
     "text": [
      "Attempt to get heating current temperature\n",
      "Heating Current = 17.2\n"
     ]
    }
   ],
   "source": [
    "print(\"Attempt to get heating current temperature\")\n",
    "Heating_Current = heating.current_temperature(Heating_NodeID_SingleZone)\n",
    "print(\"Heating Current = \" + str(Heating_Current))"
   ]
  },
  {
   "cell_type": "code",
   "execution_count": 39,
   "metadata": {},
   "outputs": [
    {
     "name": "stdout",
     "output_type": "stream",
     "text": [
      "Attempt to get heating target temperature\n",
      "Heating Target = 8.0\n"
     ]
    }
   ],
   "source": [
    "print(\"Attempt to get heating target temperature\")\n",
    "Heating_Target = heating.get_target_temperature(Heating_NodeID_SingleZone)\n",
    "print(\"Heating Target = \" + str(Heating_Target))"
   ]
  },
  {
   "cell_type": "code",
   "execution_count": 40,
   "metadata": {},
   "outputs": [
    {
     "name": "stdout",
     "output_type": "stream",
     "text": [
      "Attempt to get heating mode\n",
      "Heating Mode = SCHEDULE\n"
     ]
    }
   ],
   "source": [
    "print(\"Attempt to get heating mode\")\n",
    "Heating_Mode = heating.get_mode(Heating_NodeID_SingleZone)\n",
    "print(\"Heating Mode = \" + str(Heating_Mode))"
   ]
  },
  {
   "cell_type": "code",
   "execution_count": 41,
   "metadata": {},
   "outputs": [
    {
     "name": "stdout",
     "output_type": "stream",
     "text": [
      "Attempt to get heating state\n",
      "Heating State = OFF\n"
     ]
    }
   ],
   "source": [
    "print(\"Attempt to get heating state\")\n",
    "Heating_State = heating.get_state(Heating_NodeID_SingleZone)\n",
    "print(\"Heating State = \" + str(Heating_State))"
   ]
  },
  {
   "cell_type": "code",
   "execution_count": 42,
   "metadata": {},
   "outputs": [
    {
     "name": "stdout",
     "output_type": "stream",
     "text": [
      "Attempt to get heating boost\n",
      "Heating Boost = OFF\n"
     ]
    }
   ],
   "source": [
    "print(\"Attempt to get heating boost\")\n",
    "Heating_Boost = heating.get_boost(Heating_NodeID_SingleZone)\n",
    "print(\"Heating Boost = \" + str(Heating_Boost))"
   ]
  },
  {
   "cell_type": "code",
   "execution_count": 43,
   "metadata": {},
   "outputs": [
    {
     "name": "stdout",
     "output_type": "stream",
     "text": [
      "Attempt to set heating boost for 5 minutes at 17.5c\n",
      "Heating Boost On = True\n"
     ]
    }
   ],
   "source": [
    "print(\"Attempt to set heating boost for 5 minutes at 17.5c\")\n",
    "Heating_Boost = heating.turn_boost_on(Heating_NodeID_SingleZone, 5, 17.5)\n",
    "print(\"Heating Boost On = \" + str(Heating_Boost))"
   ]
  },
  {
   "cell_type": "code",
   "execution_count": 44,
   "metadata": {},
   "outputs": [
    {
     "name": "stdout",
     "output_type": "stream",
     "text": [
      "Attempt to get heating target temperature\n",
      "Heating Target = 17.5\n"
     ]
    }
   ],
   "source": [
    "print(\"Attempt to get heating target temperature\")\n",
    "Heating_Target = heating.get_target_temperature(Heating_NodeID_SingleZone)\n",
    "print(\"Heating Target = \" + str(Heating_Target))"
   ]
  },
  {
   "cell_type": "code",
   "execution_count": 45,
   "metadata": {},
   "outputs": [
    {
     "name": "stdout",
     "output_type": "stream",
     "text": [
      "Attempt to get heating boost\n",
      "Heating Boost = ON\n"
     ]
    }
   ],
   "source": [
    "print(\"Attempt to get heating boost\")\n",
    "Heating_Boost = heating.get_boost(Heating_NodeID_SingleZone)\n",
    "print(\"Heating Boost = \" + str(Heating_Boost))"
   ]
  },
  {
   "cell_type": "code",
   "execution_count": 46,
   "metadata": {},
   "outputs": [
    {
     "name": "stdout",
     "output_type": "stream",
     "text": [
      "Attempt to get heating remaining boost time\n",
      "Boost ends in 5 minutes\n"
     ]
    }
   ],
   "source": [
    "print(\"Attempt to get heating remaining boost time\")\n",
    "print(\"Boost ends in \" + str(heating.get_boost_time(Heating_NodeID_SingleZone)) + \" minutes\")"
   ]
  },
  {
   "cell_type": "markdown",
   "metadata": {},
   "source": [
    "## Outside temperature"
   ]
  },
  {
   "cell_type": "code",
   "execution_count": 47,
   "metadata": {},
   "outputs": [],
   "source": [
    "weather = Pyhiveapi.Weather()"
   ]
  },
  {
   "cell_type": "code",
   "execution_count": 48,
   "metadata": {},
   "outputs": [
    {
     "name": "stdout",
     "output_type": "stream",
     "text": [
      "Attempt to get Outside temperature\n",
      "Outside Temperature = 0.0\n"
     ]
    }
   ],
   "source": [
    "print(\"Attempt to get Outside temperature\")\n",
    "Weather_Temperature = weather.temperature()\n",
    "print(\"Outside Temperature = \" + str(Weather_Temperature))"
   ]
  },
  {
   "cell_type": "markdown",
   "metadata": {},
   "source": [
    "## Update data"
   ]
  },
  {
   "cell_type": "code",
   "execution_count": 50,
   "metadata": {},
   "outputs": [
    {
     "name": "stdout",
     "output_type": "stream",
     "text": [
      "Update Data\n",
      "Update Data result = False\n",
      "An update result of False = data is cached and a Hive API call was not made\n"
     ]
    }
   ],
   "source": [
    "print(\"Update Data\")\n",
    "result = HiveAPI.update_data(Heating_NodeID_SingleZone)\n",
    "print(\"Update Data result = \" + str(result))\n",
    "print(\"An update result of False = data is cached and a Hive API call was not made\")"
   ]
  },
  {
   "cell_type": "code",
   "execution_count": null,
   "metadata": {},
   "outputs": [],
   "source": []
  }
 ],
 "metadata": {
  "kernelspec": {
   "display_name": "Python 3",
   "language": "python",
   "name": "python3"
  },
  "language_info": {
   "codemirror_mode": {
    "name": "ipython",
    "version": 3
   },
   "file_extension": ".py",
   "mimetype": "text/x-python",
   "name": "python",
   "nbconvert_exporter": "python",
   "pygments_lexer": "ipython3",
   "version": "3.6.5"
  }
 },
 "nbformat": 4,
 "nbformat_minor": 2
}
