{
 "cells": [
  {
   "cell_type": "markdown",
   "metadata": {},
   "source": [
    "https://github.com/Rendili/pyhiveapi/blob/master/examples/pyhiveapi_example_1.py\n",
    "\n",
    "I am loading my api credentials from a json file"
   ]
  },
  {
   "cell_type": "code",
   "execution_count": 1,
   "metadata": {},
   "outputs": [],
   "source": [
    "import json"
   ]
  },
  {
   "cell_type": "code",
   "execution_count": 2,
   "metadata": {},
   "outputs": [],
   "source": [
    "def load_api_secrets(filename):\n",
    "    \"\"\"Convenience to load the API key from a json file.\"\"\"\n",
    "    try:\n",
    "        with open(filename, 'r') as fp:\n",
    "            api_params = json.load(fp)\n",
    "    except Exception as e:\n",
    "        print('Failed to load API secrets key: {}'.format(e))\n",
    "        api_params = None\n",
    "    return api_params['username'], api_params['password']"
   ]
  },
  {
   "cell_type": "code",
   "execution_count": 3,
   "metadata": {},
   "outputs": [],
   "source": [
    "filename = \"/Users/robincole/Desktop/Hive_API_key.json\"\n",
    "\n",
    "HiveUserName, HivePassword = load_api_secrets(filename)\n",
    "UpdateIntervalInMinutes = 2"
   ]
  },
  {
   "cell_type": "code",
   "execution_count": 4,
   "metadata": {},
   "outputs": [],
   "source": [
    "from pyhiveapi import Pyhiveapi\n",
    "\n",
    "HiveAPI = Pyhiveapi()\n",
    "heating = Pyhiveapi.Heating()\n",
    "hotwater = Pyhiveapi.Hotwater()"
   ]
  },
  {
   "cell_type": "code",
   "execution_count": 5,
   "metadata": {},
   "outputs": [
    {
     "name": "stdout",
     "output_type": "stream",
     "text": [
      "Attempt to log in to the Hive API\n"
     ]
    }
   ],
   "source": [
    "print(\"Attempt to log in to the Hive API\")\n",
    "api_device_list_all = {}\n",
    "api_device_list_all = HiveAPI.initialise_api(HiveUserName, HivePassword, UpdateIntervalInMinutes)"
   ]
  },
  {
   "cell_type": "code",
   "execution_count": 6,
   "metadata": {},
   "outputs": [
    {
     "data": {
      "text/plain": [
       "{'device_list_sensor': [{'HA_DeviceType': 'Hub_OnlineStatus',\n",
       "   'Hive_NodeID': '79de2240-da80-4f01-9c54-ba9553ea3969',\n",
       "   'Hive_NodeName': 'Hub',\n",
       "   'Hive_DeviceType': 'Hub'},\n",
       "  {'HA_DeviceType': 'Heating_CurrentTemperature',\n",
       "   'Hive_NodeID': '9fe040ad-25ee-43e9-bee1-a7ebe46ffd08',\n",
       "   'Hive_NodeName': None,\n",
       "   'Hive_DeviceType': 'Heating'},\n",
       "  {'HA_DeviceType': 'Heating_TargetTemperature',\n",
       "   'Hive_NodeID': '9fe040ad-25ee-43e9-bee1-a7ebe46ffd08',\n",
       "   'Hive_NodeName': None,\n",
       "   'Hive_DeviceType': 'Heating'},\n",
       "  {'HA_DeviceType': 'Heating_State',\n",
       "   'Hive_NodeID': '9fe040ad-25ee-43e9-bee1-a7ebe46ffd08',\n",
       "   'Hive_NodeName': None,\n",
       "   'Hive_DeviceType': 'Heating'},\n",
       "  {'HA_DeviceType': 'Heating_Mode',\n",
       "   'Hive_NodeID': '9fe040ad-25ee-43e9-bee1-a7ebe46ffd08',\n",
       "   'Hive_NodeName': None,\n",
       "   'Hive_DeviceType': 'Heating'},\n",
       "  {'HA_DeviceType': 'Heating_Boost',\n",
       "   'Hive_NodeID': '9fe040ad-25ee-43e9-bee1-a7ebe46ffd08',\n",
       "   'Hive_NodeName': None,\n",
       "   'Hive_DeviceType': 'Heating'},\n",
       "  {'HA_DeviceType': 'HotWater_State',\n",
       "   'Hive_NodeID': '2d680b2d-99fa-41aa-97e4-5b2d1d7ba244',\n",
       "   'Hive_NodeName': None,\n",
       "   'Hive_DeviceType': 'HotWater'},\n",
       "  {'HA_DeviceType': 'HotWater_Mode',\n",
       "   'Hive_NodeID': '2d680b2d-99fa-41aa-97e4-5b2d1d7ba244',\n",
       "   'Hive_NodeName': None,\n",
       "   'Hive_DeviceType': 'HotWater'},\n",
       "  {'HA_DeviceType': 'HotWater_Boost',\n",
       "   'Hive_NodeID': '2d680b2d-99fa-41aa-97e4-5b2d1d7ba244',\n",
       "   'Hive_NodeName': None,\n",
       "   'Hive_DeviceType': 'HotWater'},\n",
       "  {'HA_DeviceType': 'Hive_Device_BatteryLevel',\n",
       "   'Hive_NodeID': '7ed2b1bf-084d-4f7e-90c6-4814b89ee092',\n",
       "   'Hive_NodeName': None,\n",
       "   'Hive_DeviceType': 'thermostatui'},\n",
       "  {'HA_DeviceType': 'Hive_Device_Availability',\n",
       "   'Hive_NodeID': '7ed2b1bf-084d-4f7e-90c6-4814b89ee092',\n",
       "   'Hive_NodeName': None,\n",
       "   'Hive_DeviceType': 'thermostatui'}],\n",
       " 'device_list_binary_sensor': [],\n",
       " 'device_list_climate': [{'HA_DeviceType': 'Heating',\n",
       "   'Hive_NodeID': '9fe040ad-25ee-43e9-bee1-a7ebe46ffd08',\n",
       "   'Hive_NodeName': None,\n",
       "   'Hive_DeviceType': 'Heating',\n",
       "   'Thermostat_NodeID': '7ed2b1bf-084d-4f7e-90c6-4814b89ee092'},\n",
       "  {'HA_DeviceType': 'HotWater',\n",
       "   'Hive_NodeID': '2d680b2d-99fa-41aa-97e4-5b2d1d7ba244',\n",
       "   'Hive_NodeName': None,\n",
       "   'Hive_DeviceType': 'HotWater'}],\n",
       " 'device_list_light': [],\n",
       " 'device_list_plug': []}"
      ]
     },
     "execution_count": 6,
     "metadata": {},
     "output_type": "execute_result"
    }
   ],
   "source": [
    "api_device_list_all"
   ]
  },
  {
   "cell_type": "markdown",
   "metadata": {},
   "source": [
    "OK that works"
   ]
  },
  {
   "cell_type": "code",
   "execution_count": 7,
   "metadata": {},
   "outputs": [],
   "source": [
    "api_device_list_climate = api_device_list_all[\"device_list_climate\"]"
   ]
  },
  {
   "cell_type": "code",
   "execution_count": 23,
   "metadata": {},
   "outputs": [
    {
     "name": "stdout",
     "output_type": "stream",
     "text": [
      "2\n"
     ]
    }
   ],
   "source": [
    "print(len(api_device_list_climate))"
   ]
  },
  {
   "cell_type": "code",
   "execution_count": 8,
   "metadata": {},
   "outputs": [
    {
     "data": {
      "text/plain": [
       "[{'HA_DeviceType': 'Heating',\n",
       "  'Hive_NodeID': '9fe040ad-25ee-43e9-bee1-a7ebe46ffd08',\n",
       "  'Hive_NodeName': None,\n",
       "  'Hive_DeviceType': 'Heating',\n",
       "  'Thermostat_NodeID': '7ed2b1bf-084d-4f7e-90c6-4814b89ee092'},\n",
       " {'HA_DeviceType': 'HotWater',\n",
       "  'Hive_NodeID': '2d680b2d-99fa-41aa-97e4-5b2d1d7ba244',\n",
       "  'Hive_NodeName': None,\n",
       "  'Hive_DeviceType': 'HotWater'}]"
      ]
     },
     "execution_count": 8,
     "metadata": {},
     "output_type": "execute_result"
    }
   ],
   "source": [
    "api_device_list_climate"
   ]
  },
  {
   "cell_type": "code",
   "execution_count": 9,
   "metadata": {},
   "outputs": [
    {
     "name": "stdout",
     "output_type": "stream",
     "text": [
      "climate :: None : Heating : 9fe040ad-25ee-43e9-bee1-a7ebe46ffd08\n",
      "climate :: None : HotWater : 2d680b2d-99fa-41aa-97e4-5b2d1d7ba244\n"
     ]
    }
   ],
   "source": [
    "for adevice in api_device_list_climate:\n",
    "    print(\"climate :: \" + str(adevice[\"Hive_NodeName\"]) + \" : \" + str(adevice[\"HA_DeviceType\"]) + \" : \" + str(adevice[\"Hive_NodeID\"]))"
   ]
  },
  {
   "cell_type": "code",
   "execution_count": 10,
   "metadata": {},
   "outputs": [],
   "source": [
    "Heating_NodeID_SingleZone = str(adevice[\"Hive_NodeID\"])"
   ]
  },
  {
   "cell_type": "markdown",
   "metadata": {},
   "source": [
    "## Get temperature"
   ]
  },
  {
   "cell_type": "code",
   "execution_count": 11,
   "metadata": {},
   "outputs": [
    {
     "name": "stdout",
     "output_type": "stream",
     "text": [
      "2d680b2d-99fa-41aa-97e4-5b2d1d7ba244\n",
      "Attempt to get heating current temperature\n",
      "Heating Current = 0.0\n"
     ]
    }
   ],
   "source": [
    "print(Heating_NodeID_SingleZone)\n",
    "print(\"Attempt to get heating current temperature\")\n",
    "Heating_Current = heating.current_temperature(Heating_NodeID_SingleZone)\n",
    "print(\"Heating Current = \" + str(Heating_Current))"
   ]
  },
  {
   "cell_type": "code",
   "execution_count": 12,
   "metadata": {},
   "outputs": [
    {
     "name": "stdout",
     "output_type": "stream",
     "text": [
      "Attempt to get heating target temperature\n",
      "Heating Target = 0.0\n"
     ]
    }
   ],
   "source": [
    "print(\"Attempt to get heating target temperature\")\n",
    "Heating_Target = heating.get_target_temperature(Heating_NodeID_SingleZone)\n",
    "print(\"Heating Target = \" + str(Heating_Target))"
   ]
  },
  {
   "cell_type": "code",
   "execution_count": 13,
   "metadata": {},
   "outputs": [
    {
     "name": "stdout",
     "output_type": "stream",
     "text": [
      "Attempt to get heating mode\n",
      "Heating Mode = UNKNOWN\n"
     ]
    }
   ],
   "source": [
    "print(\"Attempt to get heating mode\")\n",
    "Heating_Mode = heating.get_mode(Heating_NodeID_SingleZone)\n",
    "print(\"Heating Mode = \" + str(Heating_Mode))"
   ]
  },
  {
   "cell_type": "code",
   "execution_count": 14,
   "metadata": {},
   "outputs": [
    {
     "name": "stdout",
     "output_type": "stream",
     "text": [
      "Attempt to get heating state\n",
      "Heating State = OFF\n"
     ]
    }
   ],
   "source": [
    "print(\"Attempt to get heating state\")\n",
    "Heating_State = heating.get_state(Heating_NodeID_SingleZone)\n",
    "print(\"Heating State = \" + str(Heating_State))"
   ]
  },
  {
   "cell_type": "code",
   "execution_count": 15,
   "metadata": {},
   "outputs": [
    {
     "name": "stdout",
     "output_type": "stream",
     "text": [
      "Attempt to get heating boost\n",
      "Heating Boost = UNKNOWN\n"
     ]
    }
   ],
   "source": [
    "print(\"Attempt to get heating boost\")\n",
    "Heating_Boost = heating.get_boost(Heating_NodeID_SingleZone)\n",
    "print(\"Heating Boost = \" + str(Heating_Boost))"
   ]
  },
  {
   "cell_type": "code",
   "execution_count": 16,
   "metadata": {},
   "outputs": [
    {
     "name": "stdout",
     "output_type": "stream",
     "text": [
      "Attempt to set heating boost for 5 minutes at 17.5c\n",
      "Heating Boost On = False\n"
     ]
    }
   ],
   "source": [
    "print(\"Attempt to set heating boost for 5 minutes at 17.5c\")\n",
    "Heating_Boost = heating.turn_boost_on(Heating_NodeID_SingleZone, 5, 17.5)\n",
    "print(\"Heating Boost On = \" + str(Heating_Boost))"
   ]
  },
  {
   "cell_type": "code",
   "execution_count": 17,
   "metadata": {},
   "outputs": [
    {
     "name": "stdout",
     "output_type": "stream",
     "text": [
      "Attempt to get heating target temperature\n",
      "Heating Target = 0.0\n"
     ]
    }
   ],
   "source": [
    "print(\"Attempt to get heating target temperature\")\n",
    "Heating_Target = heating.get_target_temperature(Heating_NodeID_SingleZone)\n",
    "print(\"Heating Target = \" + str(Heating_Target))"
   ]
  },
  {
   "cell_type": "code",
   "execution_count": 18,
   "metadata": {},
   "outputs": [
    {
     "name": "stdout",
     "output_type": "stream",
     "text": [
      "Attempt to get heating boost\n",
      "Heating Boost = UNKNOWN\n"
     ]
    }
   ],
   "source": [
    "print(\"Attempt to get heating boost\")\n",
    "Heating_Boost = heating.get_boost(Heating_NodeID_SingleZone)\n",
    "print(\"Heating Boost = \" + str(Heating_Boost))"
   ]
  },
  {
   "cell_type": "code",
   "execution_count": 19,
   "metadata": {},
   "outputs": [
    {
     "name": "stdout",
     "output_type": "stream",
     "text": [
      "Attempt to get heating remaining boost time\n",
      "Boost ends in UNKNOWN minutes\n"
     ]
    }
   ],
   "source": [
    "print(\"Attempt to get heating remaining boost time\")\n",
    "print(\"Boost ends in \" + str(heating.get_boost_time(Heating_NodeID_SingleZone)) + \" minutes\")"
   ]
  },
  {
   "cell_type": "markdown",
   "metadata": {},
   "source": [
    "## Outside temperature"
   ]
  },
  {
   "cell_type": "code",
   "execution_count": 20,
   "metadata": {},
   "outputs": [],
   "source": [
    "weather = Pyhiveapi.Weather()"
   ]
  },
  {
   "cell_type": "code",
   "execution_count": 21,
   "metadata": {},
   "outputs": [
    {
     "name": "stdout",
     "output_type": "stream",
     "text": [
      "Attempt to get Outside temperature\n",
      "Outside Temperature = 0.0\n"
     ]
    }
   ],
   "source": [
    "print(\"Attempt to get Outside temperature\")\n",
    "Weather_Temperature = weather.temperature()\n",
    "print(\"Outside Temperature = \" + str(Weather_Temperature))"
   ]
  },
  {
   "cell_type": "markdown",
   "metadata": {},
   "source": [
    "## Update data"
   ]
  },
  {
   "cell_type": "code",
   "execution_count": 22,
   "metadata": {},
   "outputs": [
    {
     "name": "stdout",
     "output_type": "stream",
     "text": [
      "Update Data\n",
      "Update Data result = False\n",
      "An update result of False = data is cached and a Hive API call was not made\n"
     ]
    }
   ],
   "source": [
    "print(\"Update Data\")\n",
    "result = HiveAPI.update_data(Heating_NodeID_SingleZone)\n",
    "print(\"Update Data result = \" + str(result))\n",
    "print(\"An update result of False = data is cached and a Hive API call was not made\")"
   ]
  },
  {
   "cell_type": "code",
   "execution_count": null,
   "metadata": {},
   "outputs": [],
   "source": []
  }
 ],
 "metadata": {
  "kernelspec": {
   "display_name": "Python 3",
   "language": "python",
   "name": "python3"
  },
  "language_info": {
   "codemirror_mode": {
    "name": "ipython",
    "version": 3
   },
   "file_extension": ".py",
   "mimetype": "text/x-python",
   "name": "python",
   "nbconvert_exporter": "python",
   "pygments_lexer": "ipython3",
   "version": "3.6.5"
  }
 },
 "nbformat": 4,
 "nbformat_minor": 2
}
