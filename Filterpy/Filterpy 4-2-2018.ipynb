{
 "cells": [
  {
   "cell_type": "markdown",
   "metadata": {},
   "source": [
    "https://github.com/rlabbe/filterpy"
   ]
  },
  {
   "cell_type": "code",
   "execution_count": 1,
   "metadata": {},
   "outputs": [],
   "source": [
    "import numpy as np\n",
    "from filterpy.kalman import KalmanFilter\n",
    "from filterpy.common import Q_discrete_white_noise\n",
    "import matplotlib.pyplot as plt\n",
    "%matplotlib inline"
   ]
  },
  {
   "cell_type": "code",
   "execution_count": 2,
   "metadata": {},
   "outputs": [],
   "source": [
    "my_filter = KalmanFilter(dim_x=2, dim_z=1)"
   ]
  },
  {
   "cell_type": "code",
   "execution_count": 3,
   "metadata": {},
   "outputs": [],
   "source": [
    "dt=1.0\n",
    "my_filter.x = np.array([[2.],\n",
    "                [0.]])       # initial state (location and velocity)\n",
    "\n",
    "my_filter.F = np.array([[1.,1.],\n",
    "                [0.,1.]])    # state transition matrix\n",
    "\n",
    "my_filter.H = np.array([[1.,0.]])    # Measurement function\n",
    "my_filter.P *= 1000.                 # covariance matrix\n",
    "my_filter.R = 5                      # state uncertainty\n",
    "my_filter.Q = Q_discrete_white_noise(2, dt, .1) # process uncertainty"
   ]
  },
  {
   "cell_type": "code",
   "execution_count": 4,
   "metadata": {},
   "outputs": [
    {
     "data": {
      "text/plain": [
       "1.0965006564657107"
      ]
     },
     "execution_count": 4,
     "metadata": {},
     "output_type": "execute_result"
    }
   ],
   "source": [
    "def get_some_measurement(i):\n",
    "    return np.sin(i/(2*np.pi)) + 0.5*np.random.random()\n",
    "\n",
    "get_some_measurement(50)"
   ]
  },
  {
   "cell_type": "code",
   "execution_count": 5,
   "metadata": {},
   "outputs": [],
   "source": [
    "measurement = []\n",
    "filter_result = []\n",
    "\n",
    "for i in range(100):\n",
    "    my_filter.predict()\n",
    "    measurement.append(get_some_measurement(i))\n",
    "    my_filter.update(measurement[i])\n",
    "\n",
    "    # do something with the output\n",
    "    x = my_filter.x[0][0]\n",
    "    filter_result.append(x)"
   ]
  },
  {
   "cell_type": "code",
   "execution_count": 6,
   "metadata": {},
   "outputs": [
    {
     "data": {
      "image/png": "[encoded data removed]",
      "text/plain": [
       "<matplotlib.figure.Figure at 0x11071e940>"
      ]
     },
     "metadata": {},
     "output_type": "display_data"
    }
   ],
   "source": [
    "plt.plot(measurement, 'ro')\n",
    "plt.plot(filter_result, 'b');"
   ]
  },
  {
   "cell_type": "code",
   "execution_count": null,
   "metadata": {},
   "outputs": [],
   "source": []
  }
 ],
 "metadata": {
  "kernelspec": {
   "display_name": "Python 3",
   "language": "python",
   "name": "python3"
  },
  "language_info": {
   "codemirror_mode": {
    "name": "ipython",
    "version": 3
   },
   "file_extension": ".py",
   "mimetype": "text/x-python",
   "name": "python",
   "nbconvert_exporter": "python",
   "pygments_lexer": "ipython3",
   "version": "3.6.3"
  }
 },
 "nbformat": 4,
 "nbformat_minor": 2
}
