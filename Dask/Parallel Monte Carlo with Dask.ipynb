{
 "cells": [
  {
   "cell_type": "markdown",
   "metadata": {},
   "source": [
    "https://www.distributedpython.com/2018/09/25/dask-delayed/\n",
    "\n",
    "Today, we will look at how to implement a Monte Carlo simulation to value an Asian option in a Jupyter notebook; and how to distribute that Monte Carlo simluation across a cluster using Dask. \n",
    "\n",
    "## Asian options\n",
    "An Asian option is an exotic type of financial option contract. The payoff at expiry depends on the average underlying price over some pre-set period of time - different to a plain vanilla option where the payoff depends on the underlying price at expiry (fun fact: they are called Asian options because legend has it that Bankers Trust traded the first option linked to the average price of crude oil in in Tokyo back in 1987).\n",
    "\n",
    "The payoff of a fixed-strike Asian call option at expiry is defined as: `C(T) = max(0, A(T) - K)`. There is no closed form analytical formula to determine the fair value any time before expiry for this kind of option. But we can determine the fair value by simulating a large number of paths for the underlying asset price and calculate the payout at expiry for each path. The fair value is then the discounted average over all these Monte Carlo simulations.\n",
    "\n",
    "## Random walk\n",
    "We assume that the current value of the underlying asset price is composed of the past value and a determinstic upward trend plus an error term defined as a white noise (a normal variable with zero mean and variance one). This is called a random walk with drift. Given a start price s0, a constant drift mu and volatility sigma, we can simulate the price path over days number of days like this:"
   ]
  },
  {
   "cell_type": "code",
   "execution_count": 1,
   "metadata": {},
   "outputs": [],
   "source": [
    "import numpy as np\n",
    "import matplotlib.pyplot as plt\n",
    "%matplotlib inline\n",
    "\n",
    "def random_walk(s0, mu, sigma, days):\n",
    "    dt = 1/365.\n",
    "    prices = np.zeros(days)\n",
    "    shocks = np.zeros(days)\n",
    "    prices[0] = s0\n",
    "    for i in range(1, days):\n",
    "        e = np.random.normal(loc=mu * dt, scale=sigma * np.sqrt(dt))\n",
    "        prices[i] = prices[i-1] * (1 + e)\n",
    "    return prices"
   ]
  },
  {
   "cell_type": "markdown",
   "metadata": {},
   "source": [
    "For any random path, we can now calculate the average price and, given the strike price K, the payoff at expiry:"
   ]
  },
  {
   "cell_type": "code",
   "execution_count": 2,
   "metadata": {},
   "outputs": [],
   "source": [
    "days = 365 * 4  # days to expiry\n",
    "s0 = 100  # current underlying price\n",
    "mu = 0.02  # drift\n",
    "sigma = 0.2  # volatility\n",
    "K = 100  # strike price\n",
    "\n",
    "value_trace = random_walk(s0, mu, sigma, days)"
   ]
  },
  {
   "cell_type": "code",
   "execution_count": 3,
   "metadata": {},
   "outputs": [
    {
     "data": {
      "image/png": "[encoded data removed]",
      "text/plain": [
       "<Figure size 432x288 with 1 Axes>"
      ]
     },
     "metadata": {},
     "output_type": "display_data"
    }
   ],
   "source": [
    "plt.plot(value_trace);"
   ]
  },
  {
   "cell_type": "code",
   "execution_count": 4,
   "metadata": {},
   "outputs": [
    {
     "name": "stdout",
     "output_type": "stream",
     "text": [
      "A:124.9924883622237, C:24.992488362223696\n"
     ]
    }
   ],
   "source": [
    "A = np.average(random_walk(s0, mu, sigma, days))\n",
    "C = max(0, A - K)\n",
    "\n",
    "print(f\"A:{A}, C:{C}\")"
   ]
  },
  {
   "cell_type": "markdown",
   "metadata": {},
   "source": [
    "## Monte Carlo Simulation\n",
    "We need to generate a large number of random price paths for the underlying. For each price path we calculate the associated payoff. These payoffs are averaged and discounted to today. This result is the value of the option. The actual number of simulations n required depends on the confidence level you are comfortable with for the estimate. That, in turn, depends on your option’s parameters. I won’t go into details here, so let’s just assume that n = 10000. We need to generate n random paths and calculate the average value of the option at expiry:"
   ]
  },
  {
   "cell_type": "code",
   "execution_count": 5,
   "metadata": {},
   "outputs": [
    {
     "name": "stdout",
     "output_type": "stream",
     "text": [
      "CPU times: user 40.2 s, sys: 215 ms, total: 40.4 s\n",
      "Wall time: 40.7 s\n"
     ]
    },
    {
     "data": {
      "text/plain": [
       "11.784090437691411"
      ]
     },
     "execution_count": 5,
     "metadata": {},
     "output_type": "execute_result"
    }
   ],
   "source": [
    "n = 10000\n",
    "%time np.average([max(0, np.average(random_walk(s0, mu, sigma, days)) - K) for i in range(0, n)])"
   ]
  },
  {
   "cell_type": "markdown",
   "metadata": {},
   "source": [
    "So the compute taks 40 seconds\n",
    "\n",
    "## Dask task scheduler: dask.distributed\n",
    "If you have more than one CPU at your disposal, you can bring down the calculation time by distributing the random walk generation across multiple CPUs. This is where Dask comes in. Dask is a flexible library for parallel computing in Python, optimised for interactive computational workloads. Instead of running n random walks in a single Jupyter notebook process, we make Dask distribute these calculations across a number of processes.\n",
    "\n",
    "Distributing these calculations is the job of the task scheduler. Think of the task scheduler as a server that manages where and how calculations as executed. There are different types of schedulers: single machine scheduler (limited to local machine) and distributed scheduler (distributed across a cluster). Here, I will use a simple single machine scheduler.\n",
    "\n",
    "Start a local dask.distributed process scheduler:"
   ]
  },
  {
   "cell_type": "code",
   "execution_count": 6,
   "metadata": {},
   "outputs": [],
   "source": [
    "from dask.distributed import Client\n",
    "client = Client(scheduler_port=8786)"
   ]
  },
  {
   "cell_type": "code",
   "execution_count": 7,
   "metadata": {},
   "outputs": [
    {
     "data": {
      "text/html": [
       "<table style=\"border: 2px solid white;\">\n",
       "<tr>\n",
       "<td style=\"vertical-align: top; border: 0px solid white\">\n",
       "<h3>Client</h3>\n",
       "<ul>\n",
       "  <li><b>Scheduler: </b>tcp://127.0.0.1:8786\n",
       "  <li><b>Dashboard: </b><a href='http://127.0.0.1:8787/status' target='_blank'>http://127.0.0.1:8787/status</a>\n",
       "</ul>\n",
       "</td>\n",
       "<td style=\"vertical-align: top; border: 0px solid white\">\n",
       "<h3>Cluster</h3>\n",
       "<ul>\n",
       "  <li><b>Workers: </b>4</li>\n",
       "  <li><b>Cores: </b>4</li>\n",
       "  <li><b>Memory: </b>8.59 GB</li>\n",
       "</ul>\n",
       "</td>\n",
       "</tr>\n",
       "</table>"
      ],
      "text/plain": [
       "<Client: scheduler='tcp://127.0.0.1:8786' processes=4 cores=4>"
      ]
     },
     "execution_count": 7,
     "metadata": {},
     "output_type": "execute_result"
    }
   ],
   "source": [
    "client"
   ]
  },
  {
   "cell_type": "markdown",
   "metadata": {},
   "source": [
    "## Wrapping functions with dask.delayed\n",
    "We need to instruct our `random_walk` and `np.average` function calls to execute lazily. Instead of executing the functions immediately, we want to defer execution via the Dask task scheduler. We can achieve this by wrapping functions in dask.delayed. Alternatively, you can decorate your functions with `@dask.delayed` (not covered in this blog post, though have a look at http://dask.pydata.org/en/latest/delayed.html#decorator). This delays the execution of the function and generates a task graph instead."
   ]
  },
  {
   "cell_type": "code",
   "execution_count": 8,
   "metadata": {},
   "outputs": [],
   "source": [
    "from dask import delayed\n",
    "\n",
    "s0 = 100\n",
    "K = 100\n",
    "mu = 0.02\n",
    "sigma = 0.2\n",
    "days = 365*4\n",
    "n = 10000\n",
    "\n",
    "result = delayed(np.average)([\n",
    "    delayed(max)(\n",
    "        0, \n",
    "        delayed(np.average)(random_walk(s0, mu, sigma, days)) - K\n",
    "    ) for i in range(0, n)\n",
    "])"
   ]
  },
  {
   "cell_type": "markdown",
   "metadata": {},
   "source": [
    "result is now a `Delayed` object and contains the task graph. The task graph is a directed acyclic graph (DAG) and models the dependencies between the `np.average`, `max` and `random_walk` function calls - without executing them. This allows Dask to optimise its task execution strategy."
   ]
  },
  {
   "cell_type": "markdown",
   "metadata": {},
   "source": [
    "## Execute the task graph\n",
    "We have everything in place now to execute the actual calculation of result. Remember that result up to this point is just a Delayed object. Execute the computation:"
   ]
  },
  {
   "cell_type": "code",
   "execution_count": 9,
   "metadata": {},
   "outputs": [
    {
     "name": "stdout",
     "output_type": "stream",
     "text": [
      "CPU times: user 11.2 s, sys: 891 ms, total: 12.1 s\n",
      "Wall time: 18 s\n"
     ]
    },
    {
     "data": {
      "text/plain": [
       "11.799691854254482"
      ]
     },
     "execution_count": 9,
     "metadata": {},
     "output_type": "execute_result"
    }
   ],
   "source": [
    "%time result.compute()"
   ]
  },
  {
   "cell_type": "markdown",
   "metadata": {},
   "source": [
    "In essence, the calculation time has roughly halved on 4 cores compared to 1 core. The reason it has not reduced to 25% is that there is some overhead involved in managing and distributing the task themselves. "
   ]
  },
  {
   "cell_type": "markdown",
   "metadata": {},
   "source": [
    "## Using decorators"
   ]
  },
  {
   "cell_type": "code",
   "execution_count": 11,
   "metadata": {},
   "outputs": [],
   "source": [
    "@delayed\n",
    "def random_walk(s0, mu, sigma, days):\n",
    "    dt = 1/365.\n",
    "    prices = np.zeros(days)\n",
    "    shocks = np.zeros(days)\n",
    "    prices[0] = s0\n",
    "    for i in range(1, days):\n",
    "        e = np.random.normal(loc=mu * dt, scale=sigma * np.sqrt(dt))\n",
    "        prices[i] = prices[i-1] * (1 + e)\n",
    "    return prices\n",
    "\n",
    "@delayed\n",
    "def daverage(x):\n",
    "    return np.average(x)\n",
    "\n",
    "@delayed\n",
    "def dmax(a, b):\n",
    "    return max(a, b)\n",
    "\n",
    "s0 = 100\n",
    "K = 100\n",
    "mu = 0.02\n",
    "sigma = 0.2\n",
    "days = 365*4\n",
    "n = 10000\n",
    "\n",
    "result = daverage([dmax(0, daverage(random_walk(s0, mu, sigma, days)) - K) for i in range(0, n)])"
   ]
  },
  {
   "cell_type": "code",
   "execution_count": 12,
   "metadata": {},
   "outputs": [
    {
     "name": "stdout",
     "output_type": "stream",
     "text": [
      "CPU times: user 25.8 s, sys: 1.04 s, total: 26.9 s\n",
      "Wall time: 56.1 s\n"
     ]
    },
    {
     "data": {
      "text/plain": [
       "11.848867826659987"
      ]
     },
     "execution_count": 12,
     "metadata": {},
     "output_type": "execute_result"
    }
   ],
   "source": [
    "%time result.compute()"
   ]
  },
  {
   "cell_type": "markdown",
   "metadata": {},
   "source": [
    "Interesting, time went up"
   ]
  },
  {
   "cell_type": "markdown",
   "metadata": {},
   "source": [
    "## Pure Numpy\n",
    "I know the point of this article is to show how to use Dask, but it also shows an example of premature parallelisation--in this case you can get vastly faster results with straight numpy. Here's my implementation:"
   ]
  },
  {
   "cell_type": "code",
   "execution_count": 16,
   "metadata": {},
   "outputs": [
    {
     "name": "stdout",
     "output_type": "stream",
     "text": [
      "CPU times: user 748 ms, sys: 35 ms, total: 783 ms\n",
      "Wall time: 756 ms\n"
     ]
    }
   ],
   "source": [
    "%%time\n",
    "dt = 1/365\n",
    "\n",
    "# Generate an array of normally-distributed random numbers of shape (days - 1, n)\n",
    "rands = np.random.normal(loc=1 + mu * dt, scale=sigma * np.sqrt(dt), size=(days - 1, n))\n",
    "\n",
    "# Prepend rands with a row of ones for the first day's price\n",
    "rands = np.insert(rands, 0, 1, axis=0)\n",
    "\n",
    "# Value the Asian option along the first axis,\n",
    "# then take the mean value over the n runs\n",
    "result = np.average((s0 * np.average(rands.cumprod(axis=0), axis=0) - K).clip(0))"
   ]
  },
  {
   "cell_type": "code",
   "execution_count": 17,
   "metadata": {},
   "outputs": [
    {
     "data": {
      "text/plain": [
       "11.75526836503868"
      ]
     },
     "execution_count": 17,
     "metadata": {},
     "output_type": "execute_result"
    }
   ],
   "source": [
    "result"
   ]
  },
  {
   "cell_type": "markdown",
   "metadata": {},
   "source": [
    "Numpy takes less than a second"
   ]
  },
  {
   "cell_type": "code",
   "execution_count": null,
   "metadata": {},
   "outputs": [],
   "source": []
  }
 ],
 "metadata": {
  "kernelspec": {
   "display_name": "Python 3",
   "language": "python",
   "name": "python3"
  },
  "language_info": {
   "codemirror_mode": {
    "name": "ipython",
    "version": 3
   },
   "file_extension": ".py",
   "mimetype": "text/x-python",
   "name": "python",
   "nbconvert_exporter": "python",
   "pygments_lexer": "ipython3",
   "version": "3.6.5"
  }
 },
 "nbformat": 4,
 "nbformat_minor": 2
}
