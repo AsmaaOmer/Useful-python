{
 "cells": [
  {
   "cell_type": "markdown",
   "metadata": {},
   "source": [
    "https://matplotlib.org/3.1.1/api/_as_gen/matplotlib.axes.Axes.imshow.html#matplotlib.axes.Axes.imshow"
   ]
  },
  {
   "cell_type": "code",
   "execution_count": 1,
   "metadata": {},
   "outputs": [],
   "source": [
    "import numpy as np\n",
    "import matplotlib.pyplot as plt\n",
    "\n",
    "# Fixing random state for reproducibility\n",
    "np.random.seed(19680801)\n",
    "\n",
    "def format_coord(x, y):\n",
    "    col = int(x + 0.5)\n",
    "    row = int(y + 0.5)\n",
    "    if col >= 0 and col < numcols and row >= 0 and row < numrows:\n",
    "        z = X[row, col]\n",
    "        return 'x=%1.4f, y=%1.4f, z=%1.4f' % (x, y, z)\n",
    "    else:\n",
    "        return 'x=%1.4f, y=%1.4f' % (x, y)"
   ]
  },
  {
   "cell_type": "code",
   "execution_count": 5,
   "metadata": {},
   "outputs": [
    {
     "data": {
      "image/png": "[encoded data removed]",
      "text/plain": [
       "<Figure size 432x288 with 1 Axes>"
      ]
     },
     "metadata": {
      "needs_background": "light"
     },
     "output_type": "display_data"
    }
   ],
   "source": [
    "X = 10*np.random.rand(5, 3)\n",
    "\n",
    "fig, ax = plt.subplots() # returns single Axes object\n",
    "ax.imshow(X, interpolation='nearest')\n",
    "# ax.autoscale(enable=False)\n",
    "\n",
    "numrows, numcols = X.shape\n",
    "\n",
    "ax.format_coord = format_coord\n",
    "plt.show()"
   ]
  },
  {
   "cell_type": "code",
   "execution_count": 3,
   "metadata": {},
   "outputs": [
    {
     "data": {
      "text/plain": [
       "<Figure size 432x288 with 0 Axes>"
      ]
     },
     "execution_count": 3,
     "metadata": {},
     "output_type": "execute_result"
    },
    {
     "data": {
      "text/plain": [
       "<Figure size 432x288 with 0 Axes>"
      ]
     },
     "metadata": {},
     "output_type": "display_data"
    }
   ],
   "source": [
    "plt.gcf()"
   ]
  },
  {
   "cell_type": "code",
   "execution_count": 4,
   "metadata": {},
   "outputs": [
    {
     "name": "stdout",
     "output_type": "stream",
     "text": [
      "Help on method autoscale in module matplotlib.axes._base:\n",
      "\n",
      "autoscale(enable=True, axis='both', tight=None) method of matplotlib.axes._subplots.AxesSubplot instance\n",
      "    Autoscale the axis view to the data (toggle).\n",
      "    \n",
      "    Convenience method for simple axis view autoscaling.\n",
      "    It turns autoscaling on or off, and then,\n",
      "    if autoscaling for either axis is on, it performs\n",
      "    the autoscaling on the specified axis or axes.\n",
      "    \n",
      "    Parameters\n",
      "    ----------\n",
      "    enable : bool or None, optional\n",
      "        True (default) turns autoscaling on, False turns it off.\n",
      "        None leaves the autoscaling state unchanged.\n",
      "    \n",
      "    axis : {'both', 'x', 'y'}, optional\n",
      "        which axis to operate on; default is 'both'\n",
      "    \n",
      "    tight : bool or None, optional\n",
      "        If True, set view limits to data limits;\n",
      "        if False, let the locator and margins expand the view limits;\n",
      "        if None, use tight scaling if the only artist is an image,\n",
      "        otherwise treat *tight* as False.\n",
      "        The *tight* setting is retained for future autoscaling\n",
      "        until it is explicitly changed.\n",
      "\n"
     ]
    }
   ],
   "source": [
    "help(ax.autoscale)"
   ]
  },
  {
   "cell_type": "code",
   "execution_count": null,
   "metadata": {},
   "outputs": [],
   "source": []
  }
 ],
 "metadata": {
  "kernelspec": {
   "display_name": "Python 3",
   "language": "python",
   "name": "python3"
  },
  "language_info": {
   "codemirror_mode": {
    "name": "ipython",
    "version": 3
   },
   "file_extension": ".py",
   "mimetype": "text/x-python",
   "name": "python",
   "nbconvert_exporter": "python",
   "pygments_lexer": "ipython3",
   "version": "3.7.3"
  }
 },
 "nbformat": 4,
 "nbformat_minor": 4
}
