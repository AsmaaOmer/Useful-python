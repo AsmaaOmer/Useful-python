{
 "cells": [
  {
   "cell_type": "code",
   "execution_count": 1,
   "metadata": {},
   "outputs": [
    {
     "name": "stderr",
     "output_type": "stream",
     "text": [
      "MovieWriter imagemagick unavailable.\n"
     ]
    }
   ],
   "source": [
    "# All scripts on TomRoelandts.com assume Python 3.\n",
    " \n",
    "import numpy as np\n",
    "import matplotlib.pyplot as plt\n",
    "import matplotlib.animation as anim\n",
    " \n",
    "class AnimatedGif:\n",
    "    def __init__(self, size=(640, 480)):\n",
    "        self.fig = plt.figure()\n",
    "        self.fig.set_size_inches(size[0] / 100, size[1] / 100)\n",
    "        ax = self.fig.add_axes([0, 0, 1, 1], frameon=False, aspect=1)\n",
    "        ax.set_xticks([])\n",
    "        ax.set_yticks([])\n",
    "        self.images = []\n",
    " \n",
    "    def add(self, image, label=''):\n",
    "        plt_im = plt.imshow(image, cmap='Greys', vmin=0, vmax=1, animated=True)\n",
    "        plt_txt = plt.text(10, 310, label, color='red')\n",
    "        self.images.append([plt_im, plt_txt])\n",
    " \n",
    "    def save(self, filename):\n",
    "        animation = anim.ArtistAnimation(self.fig, self.images)\n",
    "        animation.save(filename, writer='imagemagick', fps=1)\n",
    " \n",
    "m = 480\n",
    "n = 320\n",
    "x = np.linspace(-2, 1, num=m).reshape((1, m))\n",
    "y = np.linspace(-1, 1, num=n).reshape((n, 1))\n",
    "C = np.tile(x, (n, 1)) + 1j * np.tile(y, (1, m))\n",
    "Z = np.zeros((n, m), dtype=complex)\n",
    "M = np.full((n, m), True, dtype=bool)\n",
    " \n",
    "animated_gif = AnimatedGif(size=(m, n))\n",
    "animated_gif.add(M, label='0')\n",
    "images = []\n",
    "for i in range(1, 151):\n",
    "    Z[M] = Z[M] * Z[M] + C[M]\n",
    "    M[np.abs(Z) > 2] = False\n",
    "    if i <= 15 or not (i % 10):\n",
    "        animated_gif.add(M, label=str(i))\n",
    " \n",
    "animated_gif.save('mandelbrot-animated.gif')"
   ]
  },
  {
   "cell_type": "code",
   "execution_count": null,
   "metadata": {},
   "outputs": [],
   "source": []
  }
 ],
 "metadata": {
  "kernelspec": {
   "display_name": "Python 3",
   "language": "python",
   "name": "python3"
  },
  "language_info": {
   "codemirror_mode": {
    "name": "ipython",
    "version": 3
   },
   "file_extension": ".py",
   "mimetype": "text/x-python",
   "name": "python",
   "nbconvert_exporter": "python",
   "pygments_lexer": "ipython3",
   "version": "3.6.5"
  }
 },
 "nbformat": 4,
 "nbformat_minor": 2
}
