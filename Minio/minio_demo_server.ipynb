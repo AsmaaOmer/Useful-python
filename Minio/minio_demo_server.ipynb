{
 "cells": [
  {
   "cell_type": "markdown",
   "metadata": {},
   "source": [
    "https://docs.min.io/docs/python-client-quickstart-guide.html\n",
    "\n",
    "Use the demo server at https://play.min.io:9000/"
   ]
  },
  {
   "cell_type": "code",
   "execution_count": 6,
   "metadata": {},
   "outputs": [],
   "source": [
    "from minio import Minio\n",
    "from minio.error import ResponseError\n",
    "\n",
    "minioClient = Minio('play.min.io:9000',\n",
    "                    access_key='Q3AM3UQ867SPQQA43P2F',\n",
    "                    secret_key='zuf+tfteSlswRu7BJ86wekitnifILbZam1KYY3TG',\n",
    "                    secure=True)"
   ]
  },
  {
   "cell_type": "markdown",
   "metadata": {},
   "source": [
    "List buckets"
   ]
  },
  {
   "cell_type": "code",
   "execution_count": 9,
   "metadata": {},
   "outputs": [
    {
     "name": "stdout",
     "output_type": "stream",
     "text": [
      "0vijay 2019-04-09 09:28:01.280000+00:00\n",
      "60pfnqwxjykharzxkgzst0zxxlzsvkvo 2019-04-09 21:12:02.032000+00:00\n",
      "aaa 2019-04-10 05:06:13.568000+00:00\n",
      "abucket 2019-04-10 11:09:06.081000+00:00\n",
      "akeneo-test-1 2019-04-09 21:26:38.588000+00:00\n",
      "alex1234tes 2019-04-08 05:32:25.930000+00:00\n",
      "anabucketprueba 2019-04-09 05:39:58.228000+00:00\n",
      "apple-.one 2019-04-09 17:59:29.564000+00:00\n",
      "apps 2019-04-07 11:08:46.904000+00:00\n",
      "art123 2019-04-10 08:49:13.081000+00:00\n"
     ]
    }
   ],
   "source": [
    "buckets = minioClient.list_buckets()\n",
    "for bucket in buckets[:10]:\n",
    "    print(bucket.name, bucket.creation_date)"
   ]
  },
  {
   "cell_type": "code",
   "execution_count": 10,
   "metadata": {},
   "outputs": [
    {
     "data": {
      "text/plain": [
       "True"
      ]
     },
     "execution_count": 10,
     "metadata": {},
     "output_type": "execute_result"
    }
   ],
   "source": [
    "test_bucket_name = 'anabucketprueba'\n",
    "minioClient.bucket_exists(test_bucket_name)"
   ]
  },
  {
   "cell_type": "code",
   "execution_count": 14,
   "metadata": {},
   "outputs": [
    {
     "data": {
      "text/plain": [
       "[(b'Beginning Ubuntu Linux, 6th Edition.pdf', 47141928),\n",
       " (b'prueba2_2019-04-01_11:08:49_split_0.csv', 3),\n",
       " (b'prueba2_2019-04-01_11:08:50_split_1.csv', 20101),\n",
       " (b'prueba2_minio.txt', 13),\n",
       " (b'prueba3_minio.txt', 13),\n",
       " (b'prueba_2019-04-01_11:04:44_split_0.csv', 3),\n",
       " (b'prueba_2019-04-01_11:04:46_split_1.csv', 111641),\n",
       " (b'prueba_2019-04-01_11:04:47_split_2.csv', 20101)]"
      ]
     },
     "execution_count": 14,
     "metadata": {},
     "output_type": "execute_result"
    }
   ],
   "source": [
    "files = [(f.object_name.encode('utf-8'), f.size) for f in minioClient.list_objects(test_bucket_name)]\n",
    "files"
   ]
  },
  {
   "cell_type": "code",
   "execution_count": null,
   "metadata": {},
   "outputs": [],
   "source": []
  }
 ],
 "metadata": {
  "kernelspec": {
   "display_name": "Python 3",
   "language": "python",
   "name": "python3"
  },
  "language_info": {
   "codemirror_mode": {
    "name": "ipython",
    "version": 3
   },
   "file_extension": ".py",
   "mimetype": "text/x-python",
   "name": "python",
   "nbconvert_exporter": "python",
   "pygments_lexer": "ipython3",
   "version": "3.6.5"
  }
 },
 "nbformat": 4,
 "nbformat_minor": 2
}
