{
 "cells": [
  {
   "cell_type": "markdown",
   "metadata": {},
   "source": [
    "https://bottlepy.org/docs/dev/"
   ]
  },
  {
   "cell_type": "code",
   "execution_count": 1,
   "metadata": {},
   "outputs": [],
   "source": [
    "from bottle import route, run, template"
   ]
  },
  {
   "cell_type": "code",
   "execution_count": 2,
   "metadata": {},
   "outputs": [],
   "source": [
    "@route('/hello/<name>')\n",
    "def index(name):\n",
    "    return template('<b>Hello {{name}}</b>!', name=name)"
   ]
  },
  {
   "cell_type": "code",
   "execution_count": null,
   "metadata": {},
   "outputs": [
    {
     "name": "stderr",
     "output_type": "stream",
     "text": [
      "Bottle v0.12.16 server starting up (using WSGIRefServer())...\n",
      "Listening on http://localhost:8080/\n",
      "Hit Ctrl-C to quit.\n",
      "\n",
      "127.0.0.1 - - [10/Mar/2019 07:23:31] \"GET / HTTP/1.1\" 404 720\n",
      "127.0.0.1 - - [10/Mar/2019 07:23:31] \"GET /favicon.ico HTTP/1.1\" 404 742\n",
      "127.0.0.1 - - [10/Mar/2019 07:23:40] \"GET / HTTP/1.1\" 404 720\n",
      "127.0.0.1 - - [10/Mar/2019 07:24:18] \"GET / HTTP/1.1\" 404 720\n",
      "127.0.0.1 - - [10/Mar/2019 07:24:39] \"GET /hello/world HTTP/1.1\" 200 19\n",
      "127.0.0.1 - - [10/Mar/2019 07:24:59] \"GET /hello/world HTTP/1.1\" 200 19\n"
     ]
    }
   ],
   "source": [
    "run(host='localhost', port=8080)"
   ]
  },
  {
   "cell_type": "markdown",
   "metadata": {},
   "source": [
    "[http://localhost:8080/hello/world](http://localhost:8080/hello/world)"
   ]
  },
  {
   "cell_type": "code",
   "execution_count": null,
   "metadata": {},
   "outputs": [],
   "source": []
  }
 ],
 "metadata": {
  "kernelspec": {
   "display_name": "Python 3",
   "language": "python",
   "name": "python3"
  },
  "language_info": {
   "codemirror_mode": {
    "name": "ipython",
    "version": 3
   },
   "file_extension": ".py",
   "mimetype": "text/x-python",
   "name": "python",
   "nbconvert_exporter": "python",
   "pygments_lexer": "ipython3",
   "version": "3.6.5"
  }
 },
 "nbformat": 4,
 "nbformat_minor": 2
}
