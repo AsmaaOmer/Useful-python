{
 "cells": [
  {
   "cell_type": "markdown",
   "metadata": {},
   "source": [
    "https://plot.ly/python/gantt/\n",
    "\n",
    "Note this is a paid service and you only get one chart on the free service"
   ]
  },
  {
   "cell_type": "code",
   "execution_count": 1,
   "metadata": {
    "collapsed": false
   },
   "outputs": [
    {
     "data": {
      "text/plain": [
       "'3.4.2'"
      ]
     },
     "execution_count": 1,
     "metadata": {},
     "output_type": "execute_result"
    }
   ],
   "source": [
    "import plotly\n",
    "plotly.__version__"
   ]
  },
  {
   "cell_type": "code",
   "execution_count": 3,
   "metadata": {
    "collapsed": false
   },
   "outputs": [],
   "source": [
    "import plotly.plotly as py\n",
    "from plotly.tools import FigureFactory as FF\n",
    "#py.sign_in('user', 'API_key')"
   ]
  },
  {
   "cell_type": "code",
   "execution_count": null,
   "metadata": {
    "collapsed": false
   },
   "outputs": [
    {
     "name": "stderr",
     "output_type": "stream",
     "text": [
      "/Users/robincole/anaconda3/lib/python3.6/site-packages/plotly/tools.py:1545: UserWarning:\n",
      "\n",
      "plotly.tools.FigureFactory.create_gantt is deprecated. Use plotly.figure_factory.create_gantt\n",
      "\n"
     ]
    }
   ],
   "source": [
    "df = [dict(Task=\"Job A\", Start='2009-01-01', Finish='2009-02-30'),\n",
    "      dict(Task=\"Job B\", Start='2009-03-05', Finish='2009-04-15'),\n",
    "      dict(Task=\"Job C\", Start='2009-02-20', Finish='2009-05-30')]\n",
    "\n",
    "fig = FF.create_gantt(df)\n",
    "py.iplot(fig, filename='Simple Gantt Chart', world_readable=True)"
   ]
  },
  {
   "cell_type": "code",
   "execution_count": null,
   "metadata": {
    "collapsed": true
   },
   "outputs": [],
   "source": []
  }
 ],
 "metadata": {
  "anaconda-cloud": {},
  "kernelspec": {
   "display_name": "Python 3",
   "language": "python",
   "name": "python3"
  },
  "language_info": {
   "codemirror_mode": {
    "name": "ipython",
    "version": 3
   },
   "file_extension": ".py",
   "mimetype": "text/x-python",
   "name": "python",
   "nbconvert_exporter": "python",
   "pygments_lexer": "ipython3",
   "version": "3.6.5"
  }
 },
 "nbformat": 4,
 "nbformat_minor": 2
}
