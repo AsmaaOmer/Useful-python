{
 "cells": [
  {
   "cell_type": "markdown",
   "metadata": {},
   "source": [
    "Iterate over images saved by the webcam and capture all predictions"
   ]
  },
  {
   "cell_type": "code",
   "execution_count": 21,
   "metadata": {},
   "outputs": [],
   "source": [
    "img_dir = \"/Users/robin/Pictures/\""
   ]
  },
  {
   "cell_type": "code",
   "execution_count": 22,
   "metadata": {},
   "outputs": [],
   "source": [
    "import glob\n",
    "from PIL import Image, ImageDraw\n",
    "import json\n",
    "import requests\n",
    "import pandas as pd\n",
    "import matplotlib.pyplot as plt\n",
    "%matplotlib inline\n",
    "\n",
    "IP = \"localhost\"\n",
    "PORT = \"5000\"\n",
    "\n",
    "TIME_FORMAT = \"%Y-%m-%d_%H:%M:%S\"\n",
    "TIMEOUT = 10 # seconds for a request\n",
    "\n",
    "TARGET = 'person'"
   ]
  },
  {
   "cell_type": "code",
   "execution_count": 23,
   "metadata": {},
   "outputs": [],
   "source": [
    "files = glob.glob(img_dir + \"*.jpg\")"
   ]
  },
  {
   "cell_type": "code",
   "execution_count": 24,
   "metadata": {},
   "outputs": [
    {
     "data": {
      "text/plain": [
       "['/Users/robin/Pictures/filezilla_hassio.jpg',\n",
       " '/Users/robin/Pictures/blank.jpg',\n",
       " '/Users/robin/Pictures/family.jpg',\n",
       " '/Users/robin/Pictures/medicine.jpg',\n",
       " '/Users/robin/Pictures/black.jpg']"
      ]
     },
     "execution_count": 24,
     "metadata": {},
     "output_type": "execute_result"
    }
   ],
   "source": [
    "files[:5]"
   ]
  },
  {
   "cell_type": "code",
   "execution_count": 25,
   "metadata": {},
   "outputs": [
    {
     "name": "stdout",
     "output_type": "stream",
     "text": [
      "/Users/robin/Pictures/filezilla_hassio.jpg\n",
      "/Users/robin/Pictures/blank.jpg\n",
      "/Users/robin/Pictures/family.jpg\n",
      "/Users/robin/Pictures/medicine.jpg\n",
      "/Users/robin/Pictures/black.jpg\n"
     ]
    }
   ],
   "source": [
    "for file in files[:5]:\n",
    "    print(file)"
   ]
  },
  {
   "cell_type": "markdown",
   "metadata": {},
   "source": [
    "Process the image"
   ]
  },
  {
   "cell_type": "code",
   "execution_count": 27,
   "metadata": {},
   "outputs": [],
   "source": [
    "def process_image(file_path: str) -> dict:\n",
    "    \"\"\"\n",
    "    Process an image with deepstack.\n",
    "    \"\"\"\n",
    "    try:\n",
    "        image_bytes = open(file_path, \"rb\").read()\n",
    "        print(f\"opened {file_path}\")\n",
    "        response = requests.post(f\"http://{IP}:{PORT}/v1/vision/detection\", files={\"image\":image_bytes}, timeout=TIMEOUT)\n",
    "        predictions = response.json()['predictions']\n",
    "        print(f\"Total of {len(predictions)} predictions\")\n",
    "        print(\"--------\")\n",
    "        return predictions\n",
    "    except Exception as exc:\n",
    "        print(exc)"
   ]
  },
  {
   "cell_type": "code",
   "execution_count": 28,
   "metadata": {},
   "outputs": [
    {
     "name": "stdout",
     "output_type": "stream",
     "text": [
      "opened /Users/robin/Pictures/family.jpg\n",
      "Total of 2 predictions\n",
      "--------\n"
     ]
    }
   ],
   "source": [
    "predictions = process_image(files[2])"
   ]
  },
  {
   "cell_type": "markdown",
   "metadata": {},
   "source": [
    "We can now append each prediction as a row in a table"
   ]
  },
  {
   "cell_type": "code",
   "execution_count": 29,
   "metadata": {},
   "outputs": [
    {
     "name": "stdout",
     "output_type": "stream",
     "text": [
      "opened /Users/robin/Pictures/filezilla_hassio.jpg\n",
      "Total of 0 predictions\n",
      "--------\n",
      "opened /Users/robin/Pictures/blank.jpg\n",
      "Total of 0 predictions\n",
      "--------\n",
      "opened /Users/robin/Pictures/family.jpg\n",
      "Total of 2 predictions\n",
      "--------\n",
      "opened /Users/robin/Pictures/medicine.jpg\n",
      "Total of 0 predictions\n",
      "--------\n",
      "opened /Users/robin/Pictures/black.jpg\n",
      "Total of 0 predictions\n",
      "--------\n",
      "opened /Users/robin/Pictures/test-image3.jpg\n",
      "Total of 3 predictions\n",
      "--------\n",
      "opened /Users/robin/Pictures/fishtank.jpg\n",
      "Total of 0 predictions\n",
      "--------\n"
     ]
    }
   ],
   "source": [
    "predictions_list = []\n",
    "\n",
    "for file_path in files:\n",
    "    predictions = None\n",
    "    predictions = process_image(file_path)\n",
    "    if predictions:\n",
    "        for prediction in predictions:\n",
    "            prediction[\"file_path\"] = file_path\n",
    "            predictions_list.append(prediction)"
   ]
  },
  {
   "cell_type": "code",
   "execution_count": 30,
   "metadata": {},
   "outputs": [],
   "source": [
    "df = pd.DataFrame(predictions_list)"
   ]
  },
  {
   "cell_type": "code",
   "execution_count": 31,
   "metadata": {},
   "outputs": [],
   "source": [
    "df[\"confidence\"] = pd.to_numeric(df[\"confidence\"])"
   ]
  },
  {
   "cell_type": "code",
   "execution_count": 32,
   "metadata": {},
   "outputs": [
    {
     "data": {
      "text/html": [
       "<div>\n",
       "<style scoped>\n",
       "    .dataframe tbody tr th:only-of-type {\n",
       "        vertical-align: middle;\n",
       "    }\n",
       "\n",
       "    .dataframe tbody tr th {\n",
       "        vertical-align: top;\n",
       "    }\n",
       "\n",
       "    .dataframe thead th {\n",
       "        text-align: right;\n",
       "    }\n",
       "</style>\n",
       "<table border=\"1\" class=\"dataframe\">\n",
       "  <thead>\n",
       "    <tr style=\"text-align: right;\">\n",
       "      <th></th>\n",
       "      <th>confidence</th>\n",
       "      <th>file_path</th>\n",
       "      <th>label</th>\n",
       "      <th>x_max</th>\n",
       "      <th>x_min</th>\n",
       "      <th>y_max</th>\n",
       "      <th>y_min</th>\n",
       "    </tr>\n",
       "  </thead>\n",
       "  <tbody>\n",
       "    <tr>\n",
       "      <th>0</th>\n",
       "      <td>0.998541</td>\n",
       "      <td>/Users/robin/Pictures/family.jpg</td>\n",
       "      <td>person</td>\n",
       "      <td>768</td>\n",
       "      <td>327</td>\n",
       "      <td>627</td>\n",
       "      <td>53</td>\n",
       "    </tr>\n",
       "    <tr>\n",
       "      <th>1</th>\n",
       "      <td>0.994190</td>\n",
       "      <td>/Users/robin/Pictures/family.jpg</td>\n",
       "      <td>person</td>\n",
       "      <td>1015</td>\n",
       "      <td>556</td>\n",
       "      <td>647</td>\n",
       "      <td>0</td>\n",
       "    </tr>\n",
       "    <tr>\n",
       "      <th>2</th>\n",
       "      <td>0.999866</td>\n",
       "      <td>/Users/robin/Pictures/test-image3.jpg</td>\n",
       "      <td>person</td>\n",
       "      <td>485</td>\n",
       "      <td>258</td>\n",
       "      <td>676</td>\n",
       "      <td>0</td>\n",
       "    </tr>\n",
       "    <tr>\n",
       "      <th>3</th>\n",
       "      <td>0.999655</td>\n",
       "      <td>/Users/robin/Pictures/test-image3.jpg</td>\n",
       "      <td>person</td>\n",
       "      <td>639</td>\n",
       "      <td>405</td>\n",
       "      <td>652</td>\n",
       "      <td>0</td>\n",
       "    </tr>\n",
       "    <tr>\n",
       "      <th>4</th>\n",
       "      <td>0.997456</td>\n",
       "      <td>/Users/robin/Pictures/test-image3.jpg</td>\n",
       "      <td>dog</td>\n",
       "      <td>825</td>\n",
       "      <td>624</td>\n",
       "      <td>591</td>\n",
       "      <td>311</td>\n",
       "    </tr>\n",
       "  </tbody>\n",
       "</table>\n",
       "</div>"
      ],
      "text/plain": [
       "   confidence                              file_path   label  x_max  x_min  \\\n",
       "0    0.998541       /Users/robin/Pictures/family.jpg  person    768    327   \n",
       "1    0.994190       /Users/robin/Pictures/family.jpg  person   1015    556   \n",
       "2    0.999866  /Users/robin/Pictures/test-image3.jpg  person    485    258   \n",
       "3    0.999655  /Users/robin/Pictures/test-image3.jpg  person    639    405   \n",
       "4    0.997456  /Users/robin/Pictures/test-image3.jpg     dog    825    624   \n",
       "\n",
       "   y_max  y_min  \n",
       "0    627     53  \n",
       "1    647      0  \n",
       "2    676      0  \n",
       "3    652      0  \n",
       "4    591    311  "
      ]
     },
     "execution_count": 32,
     "metadata": {},
     "output_type": "execute_result"
    }
   ],
   "source": [
    "df.head()"
   ]
  },
  {
   "cell_type": "code",
   "execution_count": 33,
   "metadata": {},
   "outputs": [],
   "source": [
    "df.to_csv('image_record.csv')"
   ]
  },
  {
   "cell_type": "code",
   "execution_count": 34,
   "metadata": {},
   "outputs": [],
   "source": [
    "persons_df = df[df[\"label\"] == 'person'].groupby([\"file_path\"]).count()[\"confidence\"]"
   ]
  },
  {
   "cell_type": "code",
   "execution_count": 35,
   "metadata": {},
   "outputs": [],
   "source": [
    "persons_df = persons_df.reset_index()"
   ]
  },
  {
   "cell_type": "code",
   "execution_count": 36,
   "metadata": {},
   "outputs": [
    {
     "data": {
      "text/html": [
       "<div>\n",
       "<style scoped>\n",
       "    .dataframe tbody tr th:only-of-type {\n",
       "        vertical-align: middle;\n",
       "    }\n",
       "\n",
       "    .dataframe tbody tr th {\n",
       "        vertical-align: top;\n",
       "    }\n",
       "\n",
       "    .dataframe thead th {\n",
       "        text-align: right;\n",
       "    }\n",
       "</style>\n",
       "<table border=\"1\" class=\"dataframe\">\n",
       "  <thead>\n",
       "    <tr style=\"text-align: right;\">\n",
       "      <th></th>\n",
       "      <th>file_path</th>\n",
       "      <th>confidence</th>\n",
       "    </tr>\n",
       "  </thead>\n",
       "  <tbody>\n",
       "    <tr>\n",
       "      <th>0</th>\n",
       "      <td>/Users/robin/Pictures/family.jpg</td>\n",
       "      <td>2</td>\n",
       "    </tr>\n",
       "    <tr>\n",
       "      <th>1</th>\n",
       "      <td>/Users/robin/Pictures/test-image3.jpg</td>\n",
       "      <td>2</td>\n",
       "    </tr>\n",
       "  </tbody>\n",
       "</table>\n",
       "</div>"
      ],
      "text/plain": [
       "                               file_path  confidence\n",
       "0       /Users/robin/Pictures/family.jpg           2\n",
       "1  /Users/robin/Pictures/test-image3.jpg           2"
      ]
     },
     "execution_count": 36,
     "metadata": {},
     "output_type": "execute_result"
    }
   ],
   "source": [
    "persons_df.head()"
   ]
  },
  {
   "cell_type": "markdown",
   "metadata": {},
   "source": [
    "## Do some queries\n",
    "See what objects are given a low score"
   ]
  },
  {
   "cell_type": "code",
   "execution_count": 38,
   "metadata": {},
   "outputs": [
    {
     "data": {
      "text/plain": [
       "label\n",
       "dog       1\n",
       "person    4\n",
       "Name: confidence, dtype: int64"
      ]
     },
     "execution_count": 38,
     "metadata": {},
     "output_type": "execute_result"
    }
   ],
   "source": [
    "all_counts = df.groupby(['label']).count()[\"confidence\"]\n",
    "all_counts"
   ]
  }
 ],
 "metadata": {
  "kernelspec": {
   "display_name": "Python 3",
   "language": "python",
   "name": "python3"
  },
  "language_info": {
   "codemirror_mode": {
    "name": "ipython",
    "version": 3
   },
   "file_extension": ".py",
   "mimetype": "text/x-python",
   "name": "python",
   "nbconvert_exporter": "python",
   "pygments_lexer": "ipython3",
   "version": "3.7.3"
  }
 },
 "nbformat": 4,
 "nbformat_minor": 4
}
