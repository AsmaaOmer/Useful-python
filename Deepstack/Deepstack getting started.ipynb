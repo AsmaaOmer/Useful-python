{
 "cells": [
  {
   "cell_type": "markdown",
   "metadata": {},
   "source": [
    "Run face and object detection\n",
    "```\n",
    "docker run -e VISION-DETECTION=True -e VISION-FACE=True -e MODE=High -d \\\n",
    "      -v localstorage:/datastore -p 5000:5000 \\\n",
    "       --name deepstack deepquestai/deepstack:noavx\n",
    "```"
   ]
  },
  {
   "cell_type": "code",
   "execution_count": null,
   "metadata": {},
   "outputs": [],
   "source": [
    "import requests\n",
    "from PIL import Image, ImageDraw"
   ]
  },
  {
   "cell_type": "code",
   "execution_count": null,
   "metadata": {},
   "outputs": [],
   "source": [
    "def draw_box(draw, prediction, text='', color=(255, 0, 0)):\n",
    "    \"\"\"Draw bounding box on image.\"\"\"\n",
    "    (left, right, top, bottom) = (prediction['x_min'], prediction['x_max'], prediction['y_min'], prediction['y_max'])\n",
    "    draw.line([(left, top), (left, bottom), (right, bottom), (right, top), (left, top)], width=5, fill=color)\n",
    "    if text:\n",
    "        draw.text((left, abs(top-15)), text, fill=color)"
   ]
  },
  {
   "cell_type": "code",
   "execution_count": null,
   "metadata": {},
   "outputs": [],
   "source": [
    "def format_confidence(confidence):\n",
    "    \"\"\"Takes a confidence from the API like \n",
    "       0.55623 and returne 55.6 (%).\n",
    "    \"\"\"\n",
    "    return round(float(confidence)*100, 1)\n",
    "\n",
    "format_confidence(0.55623)"
   ]
  },
  {
   "cell_type": "code",
   "execution_count": null,
   "metadata": {},
   "outputs": [],
   "source": [
    "# IP_ADDR = 'localhost'\n",
    "IP_ADDR = '192.168.1.252'\n",
    "PORT = 80"
   ]
  },
  {
   "cell_type": "markdown",
   "metadata": {},
   "source": [
    "## Face detection\n",
    "https://deepstackpython.readthedocs.io/en/latest/facedetection.html"
   ]
  },
  {
   "cell_type": "markdown",
   "metadata": {},
   "source": [
    "Register a face - this can take a long time"
   ]
  },
  {
   "cell_type": "code",
   "execution_count": null,
   "metadata": {},
   "outputs": [],
   "source": [
    "image_data = open(\"idris.jpg\",\"rb\").read()\n",
    "response = requests.post(f\"http://{IP_ADDR}:{PORT}/v1/vision/face/register\",files={\"image\":image_data}, data={\"userid\":\"Idris Elba\"})"
   ]
  },
  {
   "cell_type": "code",
   "execution_count": null,
   "metadata": {},
   "outputs": [],
   "source": [
    "response.json()"
   ]
  },
  {
   "cell_type": "markdown",
   "metadata": {},
   "source": [
    "Run a face detection - fast option"
   ]
  },
  {
   "cell_type": "code",
   "execution_count": null,
   "metadata": {},
   "outputs": [],
   "source": [
    "image_data = open(\"couple.jpg\",\"rb\").read()\n",
    "response = requests.post(f\"http://{IP_ADDR}:{PORT}/v1/vision/face\",files={\"image\":image_data})"
   ]
  },
  {
   "cell_type": "code",
   "execution_count": null,
   "metadata": {},
   "outputs": [],
   "source": [
    "response.json()"
   ]
  },
  {
   "cell_type": "code",
   "execution_count": null,
   "metadata": {},
   "outputs": [],
   "source": [
    "predictions = response.json()['predictions']"
   ]
  },
  {
   "cell_type": "code",
   "execution_count": null,
   "metadata": {},
   "outputs": [],
   "source": [
    "image = Image.open(\"couple.jpg\")\n",
    "draw = ImageDraw.Draw(image)\n",
    "\n",
    "for prediction in predictions:\n",
    "    prediction_confidence = format_confidence(prediction['confidence'])\n",
    "    draw_box(draw, prediction, str(prediction_confidence))\n",
    "\n",
    "display(image)"
   ]
  },
  {
   "cell_type": "markdown",
   "metadata": {},
   "source": [
    "Run face recognition - this can also take a long time"
   ]
  },
  {
   "cell_type": "code",
   "execution_count": null,
   "metadata": {},
   "outputs": [],
   "source": [
    "response = requests.post(f\"http://{IP_ADDR}:{PORT}/v1/vision/face/recognize\", files={\"image\":image_data})"
   ]
  },
  {
   "cell_type": "code",
   "execution_count": null,
   "metadata": {},
   "outputs": [],
   "source": [
    "response.json()"
   ]
  },
  {
   "cell_type": "markdown",
   "metadata": {},
   "source": [
    "## Object detection\n",
    "https://deepstackpython.readthedocs.io/en/latest/objectdetection.html"
   ]
  },
  {
   "cell_type": "code",
   "execution_count": null,
   "metadata": {},
   "outputs": [],
   "source": [
    "ls"
   ]
  },
  {
   "cell_type": "code",
   "execution_count": null,
   "metadata": {},
   "outputs": [],
   "source": [
    "%%time\n",
    "img_file_test = \"test-image3.jpg\"\n",
    "print(img_file_test)\n",
    "image_data = open(img_file_test,\"rb\").read()\n",
    "response = requests.post(f\"http://{IP_ADDR}:{PORT}/v1/vision/detection\",files={\"image\":image_data})"
   ]
  },
  {
   "cell_type": "code",
   "execution_count": null,
   "metadata": {},
   "outputs": [],
   "source": [
    "predictions = response.json()['predictions']\n",
    "predictions"
   ]
  },
  {
   "cell_type": "code",
   "execution_count": null,
   "metadata": {},
   "outputs": [],
   "source": [
    "image = Image.open(img_file_test)\n",
    "draw = ImageDraw.Draw(image)\n",
    "\n",
    "for prediction in predictions:\n",
    "    prediction_confidence = format_confidence(prediction['confidence'])\n",
    "    draw_box(draw, prediction, str(prediction_confidence))\n",
    "\n",
    "display(image)"
   ]
  },
  {
   "cell_type": "markdown",
   "metadata": {},
   "source": [
    "## Add auth\n",
    "API key can be added to deepstack by including `-e API-KEY=Mysecretkey`. It is necessary to unset the admin key by passing it as an empty string `-e API-KEY=\"\"`\n",
    "\n",
    "The API Key protects all recognition and detection endpoints including face, scene, object detection and custom models. "
   ]
  },
  {
   "cell_type": "code",
   "execution_count": null,
   "metadata": {},
   "outputs": [],
   "source": [
    "image_data = open(\"couple.jpg\",\"rb\").read()\n",
    "response = requests.post(f\"http://{IP_ADDR}:{PORT}/v1/vision/face\",files={\"image\":image_data}, data={\"api_key\":\"\"})"
   ]
  },
  {
   "cell_type": "markdown",
   "metadata": {},
   "source": [
    "If no key provided"
   ]
  },
  {
   "cell_type": "code",
   "execution_count": null,
   "metadata": {},
   "outputs": [],
   "source": [
    "response.status_code"
   ]
  },
  {
   "cell_type": "code",
   "execution_count": null,
   "metadata": {},
   "outputs": [],
   "source": [
    "response.json()"
   ]
  },
  {
   "cell_type": "markdown",
   "metadata": {},
   "source": [
    "Provide the key in `data`"
   ]
  },
  {
   "cell_type": "code",
   "execution_count": null,
   "metadata": {},
   "outputs": [],
   "source": [
    "response = requests.post(f\"http://{IP_ADDR}:{PORT}/v1/vision/face\",\n",
    "                         files={\"image\":image_data}, \n",
    "                         data={\"api_key\":\"Mysecretkey\"})"
   ]
  },
  {
   "cell_type": "code",
   "execution_count": null,
   "metadata": {},
   "outputs": [],
   "source": [
    "response.json()"
   ]
  },
  {
   "cell_type": "markdown",
   "metadata": {},
   "source": [
    "The default api_key is a blank string and this can be passed with any reqyest where an api_key has not been set"
   ]
  },
  {
   "cell_type": "code",
   "execution_count": null,
   "metadata": {},
   "outputs": [],
   "source": []
  }
 ],
 "metadata": {
  "kernelspec": {
   "display_name": "Python 3",
   "language": "python",
   "name": "python3"
  },
  "language_info": {
   "codemirror_mode": {
    "name": "ipython",
    "version": 3
   },
   "file_extension": ".py",
   "mimetype": "text/x-python",
   "name": "python",
   "nbconvert_exporter": "python",
   "pygments_lexer": "ipython3",
   "version": "3.7.3"
  }
 },
 "nbformat": 4,
 "nbformat_minor": 4
}
