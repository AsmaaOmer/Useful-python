{
 "cells": [
  {
   "cell_type": "markdown",
   "metadata": {},
   "source": [
    "## Face detection\n",
    "https://deepstackpython.readthedocs.io/en/latest/facedetection.html"
   ]
  },
  {
   "cell_type": "code",
   "execution_count": 2,
   "metadata": {},
   "outputs": [],
   "source": [
    "import requests"
   ]
  },
  {
   "cell_type": "code",
   "execution_count": 3,
   "metadata": {},
   "outputs": [
    {
     "name": "stdout",
     "output_type": "stream",
     "text": [
      "female\n",
      "male\n",
      "male\n",
      "female\n",
      "{'predictions': [{'y_min': 174, 'y_max': 303, 'confidence': 100, 'x_min': 534, 'gender': 'female', 'x_max': 629}, {'y_min': 146, 'y_max': 275, 'confidence': 99, 'x_min': 616, 'gender': 'male', 'x_max': 711}, {'y_min': 147, 'y_max': 259, 'confidence': 98, 'x_min': 729, 'gender': 'male', 'x_max': 811}, {'y_min': 190, 'y_max': 290, 'confidence': 99, 'x_min': 471, 'gender': 'female', 'x_max': 549}], 'success': True}\n",
      "CPU times: user 5.06 ms, sys: 2.81 ms, total: 7.87 ms\n",
      "Wall time: 3.25 s\n"
     ]
    }
   ],
   "source": [
    "%%time\n",
    "image_data = open(\"family.jpg\",\"rb\").read()\n",
    "\n",
    "response = requests.post(\"http://localhost:80/v1/vision/face\",files={\"image\":image_data}).json()\n",
    "\n",
    "for person in response[\"predictions\"]:\n",
    "    print(person[\"gender\"])\n",
    "\n",
    "print(response)"
   ]
  },
  {
   "cell_type": "markdown",
   "metadata": {},
   "source": [
    "## Object detection\n",
    "https://deepstackpython.readthedocs.io/en/latest/objectdetection.html"
   ]
  },
  {
   "cell_type": "code",
   "execution_count": 4,
   "metadata": {},
   "outputs": [
    {
     "name": "stdout",
     "output_type": "stream",
     "text": [
      "dog\n",
      "person\n",
      "person\n",
      "{'predictions': [{'y_min': 354, 'label': 'dog', 'confidence': 99, 'x_min': 633, 'y_max': 546, 'x_max': 819}, {'y_min': 116, 'label': 'person', 'confidence': 99, 'x_min': 440, 'y_max': 516, 'x_max': 601}, {'y_min': 84, 'label': 'person', 'confidence': 99, 'x_min': 295, 'y_max': 514, 'x_max': 445}], 'success': True}\n",
      "CPU times: user 5.2 ms, sys: 3.75 ms, total: 8.95 ms\n",
      "Wall time: 8.65 s\n"
     ]
    }
   ],
   "source": [
    "%%time\n",
    "image_data = open(\"test-image3.jpg\",\"rb\").read()\n",
    "\n",
    "response = requests.post(\"http://localhost:80/v1/vision/detection\",files={\"image\":image_data}).json()\n",
    "\n",
    "for object in response[\"predictions\"]:\n",
    "    print(object[\"label\"])\n",
    "\n",
    "print(response)"
   ]
  },
  {
   "cell_type": "code",
   "execution_count": 5,
   "metadata": {},
   "outputs": [],
   "source": [
    "from PIL import Image\n",
    "\n",
    "image_data = open(\"test-image3.jpg\",\"rb\").read()\n",
    "image = Image.open(\"test-image3.jpg\").convert(\"RGB\")\n",
    "\n",
    "response = requests.post(\"http://localhost:80/v1/vision/detection\",files={\"image\":image_data}).json()\n",
    "i = 0\n",
    "for object in response[\"predictions\"]:\n",
    "\n",
    "    label = object[\"label\"]\n",
    "    y_max = int(object[\"y_max\"])\n",
    "    y_min = int(object[\"y_min\"])\n",
    "    x_max = int(object[\"x_max\"])\n",
    "    x_min = int(object[\"x_min\"])\n",
    "    cropped = image.crop((x_min,y_min,x_max,y_max))\n",
    "    cropped.save(\"image{}_{}.jpg\".format(i,label))\n",
    "\n",
    "    i += 1"
   ]
  },
  {
   "cell_type": "code",
   "execution_count": null,
   "metadata": {},
   "outputs": [],
   "source": []
  }
 ],
 "metadata": {
  "kernelspec": {
   "display_name": "Python 3",
   "language": "python",
   "name": "python3"
  },
  "language_info": {
   "codemirror_mode": {
    "name": "ipython",
    "version": 3
   },
   "file_extension": ".py",
   "mimetype": "text/x-python",
   "name": "python",
   "nbconvert_exporter": "python",
   "pygments_lexer": "ipython3",
   "version": "3.6.5"
  }
 },
 "nbformat": 4,
 "nbformat_minor": 2
}
