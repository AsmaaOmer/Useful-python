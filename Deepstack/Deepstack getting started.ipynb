{
 "cells": [
  {
   "cell_type": "markdown",
   "metadata": {},
   "source": [
    "## Face detection\n",
    "https://deepstackpython.readthedocs.io/en/latest/facedetection.html\n",
    "\n",
    "`sudo docker run -e VISION-FACE=True -e MODE=Low -v localstorage:/datastore -p 9999:5000 deepquestai/deepstack:noavx`"
   ]
  },
  {
   "cell_type": "code",
   "execution_count": 1,
   "metadata": {},
   "outputs": [],
   "source": [
    "import requests"
   ]
  },
  {
   "cell_type": "code",
   "execution_count": 2,
   "metadata": {},
   "outputs": [],
   "source": [
    "IP_ADDR = '192.168.1.164' # 'localhost'\n",
    "PORT = '9999'"
   ]
  },
  {
   "cell_type": "code",
   "execution_count": 9,
   "metadata": {},
   "outputs": [],
   "source": [
    "image_data = open(\"family.jpg\",\"rb\").read()"
   ]
  },
  {
   "cell_type": "code",
   "execution_count": 20,
   "metadata": {},
   "outputs": [
    {
     "name": "stdout",
     "output_type": "stream",
     "text": [
      "CPU times: user 5.84 ms, sys: 2.65 ms, total: 8.49 ms\n",
      "Wall time: 10.1 s\n"
     ]
    }
   ],
   "source": [
    "%%time\n",
    "response = requests.post(f\"http://{IP_ADDR}:{PORT}/v1/vision/face\",files={\"image\":image_data})"
   ]
  },
  {
   "cell_type": "code",
   "execution_count": 21,
   "metadata": {},
   "outputs": [
    {
     "ename": "NameError",
     "evalue": "name 'response' is not defined",
     "output_type": "error",
     "traceback": [
      "\u001b[0;31m---------------------------------------------------------------------------\u001b[0m",
      "\u001b[0;31mNameError\u001b[0m                                 Traceback (most recent call last)",
      "\u001b[0;32m<ipython-input-21-34c975fa6377>\u001b[0m in \u001b[0;36m<module>\u001b[0;34m\u001b[0m\n\u001b[0;32m----> 1\u001b[0;31m \u001b[0mresponse\u001b[0m\u001b[0;34m.\u001b[0m\u001b[0mjson\u001b[0m\u001b[0;34m(\u001b[0m\u001b[0;34m)\u001b[0m\u001b[0;34m\u001b[0m\u001b[0m\n\u001b[0m",
      "\u001b[0;31mNameError\u001b[0m: name 'response' is not defined"
     ]
    }
   ],
   "source": [
    "response.json()"
   ]
  },
  {
   "cell_type": "code",
   "execution_count": 22,
   "metadata": {},
   "outputs": [
    {
     "ename": "NameError",
     "evalue": "name 'response' is not defined",
     "output_type": "error",
     "traceback": [
      "\u001b[0;31m---------------------------------------------------------------------------\u001b[0m",
      "\u001b[0;31mNameError\u001b[0m                                 Traceback (most recent call last)",
      "\u001b[0;32m<ipython-input-22-ab0153f39f33>\u001b[0m in \u001b[0;36m<module>\u001b[0;34m\u001b[0m\n\u001b[0;32m----> 1\u001b[0;31m \u001b[0mresponse\u001b[0m\u001b[0;34m\u001b[0m\u001b[0m\n\u001b[0m",
      "\u001b[0;31mNameError\u001b[0m: name 'response' is not defined"
     ]
    }
   ],
   "source": [
    "response"
   ]
  },
  {
   "cell_type": "markdown",
   "metadata": {},
   "source": [
    "Why am I getting this error..?"
   ]
  },
  {
   "cell_type": "code",
   "execution_count": 19,
   "metadata": {},
   "outputs": [
    {
     "name": "stdout",
     "output_type": "stream",
     "text": [
      "{'success': True, 'predictions': [{'confidence': 0.99747, 'y_min': 148, 'x_min': 626, 'y_max': 261, 'x_max': 709}, {'confidence': 0.9961338, 'y_min': 173, 'x_min': 542, 'y_max': 286, 'x_max': 619}, {'confidence': 0.9922891, 'y_min': 194, 'x_min': 474, 'y_max': 277, 'x_max': 542}, {'confidence': 0.991122, 'y_min': 159, 'x_min': 728, 'y_max': 243, 'x_max': 806}]}\n"
     ]
    }
   ],
   "source": [
    "print(requests.post(f\"http://{IP_ADDR}:{PORT}/v1/vision/face\",files={\"image\":image_data}).json())"
   ]
  },
  {
   "cell_type": "markdown",
   "metadata": {},
   "source": [
    "## Object detection\n",
    "https://deepstackpython.readthedocs.io/en/latest/objectdetection.html"
   ]
  },
  {
   "cell_type": "code",
   "execution_count": 4,
   "metadata": {},
   "outputs": [
    {
     "name": "stdout",
     "output_type": "stream",
     "text": [
      "dog\n",
      "person\n",
      "person\n",
      "{'predictions': [{'y_min': 354, 'label': 'dog', 'confidence': 99, 'x_min': 633, 'y_max': 546, 'x_max': 819}, {'y_min': 116, 'label': 'person', 'confidence': 99, 'x_min': 440, 'y_max': 516, 'x_max': 601}, {'y_min': 84, 'label': 'person', 'confidence': 99, 'x_min': 295, 'y_max': 514, 'x_max': 445}], 'success': True}\n",
      "CPU times: user 5.2 ms, sys: 3.75 ms, total: 8.95 ms\n",
      "Wall time: 8.65 s\n"
     ]
    }
   ],
   "source": [
    "%%time\n",
    "image_data = open(\"test-image3.jpg\",\"rb\").read()\n",
    "\n",
    "response = requests.post(\"http://localhost:80/v1/vision/detection\",files={\"image\":image_data}).json()\n",
    "\n",
    "for object in response[\"predictions\"]:\n",
    "    print(object[\"label\"])\n",
    "\n",
    "print(response)"
   ]
  },
  {
   "cell_type": "code",
   "execution_count": 5,
   "metadata": {},
   "outputs": [],
   "source": [
    "from PIL import Image\n",
    "\n",
    "image_data = open(\"test-image3.jpg\",\"rb\").read()\n",
    "image = Image.open(\"test-image3.jpg\").convert(\"RGB\")\n",
    "\n",
    "response = requests.post(\"http://localhost:80/v1/vision/detection\",files={\"image\":image_data}).json()\n",
    "i = 0\n",
    "for object in response[\"predictions\"]:\n",
    "\n",
    "    label = object[\"label\"]\n",
    "    y_max = int(object[\"y_max\"])\n",
    "    y_min = int(object[\"y_min\"])\n",
    "    x_max = int(object[\"x_max\"])\n",
    "    x_min = int(object[\"x_min\"])\n",
    "    cropped = image.crop((x_min,y_min,x_max,y_max))\n",
    "    cropped.save(\"image{}_{}.jpg\".format(i,label))\n",
    "\n",
    "    i += 1"
   ]
  },
  {
   "cell_type": "code",
   "execution_count": null,
   "metadata": {},
   "outputs": [],
   "source": []
  }
 ],
 "metadata": {
  "kernelspec": {
   "display_name": "Python 3",
   "language": "python",
   "name": "python3"
  },
  "language_info": {
   "codemirror_mode": {
    "name": "ipython",
    "version": 3
   },
   "file_extension": ".py",
   "mimetype": "text/x-python",
   "name": "python",
   "nbconvert_exporter": "python",
   "pygments_lexer": "ipython3",
   "version": "3.6.5"
  }
 },
 "nbformat": 4,
 "nbformat_minor": 2
}
