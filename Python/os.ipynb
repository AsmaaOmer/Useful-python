{
 "cells": [
  {
   "cell_type": "code",
   "execution_count": 1,
   "metadata": {},
   "outputs": [],
   "source": [
    "import os"
   ]
  },
  {
   "cell_type": "code",
   "execution_count": 2,
   "metadata": {},
   "outputs": [
    {
     "data": {
      "text/plain": [
       "'/Users/robin/Github/Useful-python/Python'"
      ]
     },
     "execution_count": 2,
     "metadata": {},
     "output_type": "execute_result"
    }
   ],
   "source": [
    "os.getcwd()"
   ]
  },
  {
   "cell_type": "markdown",
   "metadata": {},
   "source": [
    "https://docs.python.org/3/library/os.html#os.getenv"
   ]
  },
  {
   "cell_type": "code",
   "execution_count": 3,
   "metadata": {},
   "outputs": [
    {
     "data": {
      "text/plain": [
       "'doesntExist!'"
      ]
     },
     "execution_count": 3,
     "metadata": {},
     "output_type": "execute_result"
    }
   ],
   "source": [
    "os.getenv(\"MADEUPENV\", \"doesntExist!\")"
   ]
  },
  {
   "cell_type": "code",
   "execution_count": 4,
   "metadata": {},
   "outputs": [
    {
     "name": "stdout",
     "output_type": "stream",
     "text": [
      "TERM_PROGRAM=iTerm.app\n",
      "SHELL=/bin/bash\n",
      "TERM=xterm-color\n",
      "CLICOLOR=1\n",
      "TMPDIR=/var/folders/th/p79ctr092t9c_795pyl79n6c0000gn/T/\n",
      "Apple_PubSub_Socket_Render=/private/tmp/com.apple.launchd.2eCKmfmYqr/Render\n",
      "CONDA_SHLVL=1\n",
      "TERM_PROGRAM_VERSION=3.2.9\n",
      "CONDA_PROMPT_MODIFIER=(base) \n",
      "TERM_SESSION_ID=w0t0p0:69711BF3-4344-4B63-A9B6-356399278F17\n",
      "USER=robin\n",
      "CONDA_EXE=//anaconda3/bin/conda\n",
      "SSH_AUTH_SOCK=/private/tmp/com.apple.launchd.rOe60qmqbD/Listeners\n",
      "KERNEL_LAUNCH_TIMEOUT=40\n",
      "__CF_USER_TEXT_ENCODING=0x1F5:0x0:0x2\n",
      "JPY_PARENT_PID=2846\n",
      "PAGER=cat\n",
      "_CE_CONDA=\n",
      "PATH=//anaconda3/bin://anaconda3/condabin:/usr/local/bin:/usr/bin:/bin:/usr/sbin:/sbin:/Library/TeX/texbin:/usr/local/go/bin:/opt/X11/bin:/Applications/Wireshark.app/Contents/MacOS:/Applications/Postgres.app/Contents/Versions/latest/bin\n",
      "_=/usr/bin/env\n",
      "CONDA_PREFIX=//anaconda3\n",
      "PWD=/Users/robin/Github/Useful-python/Python\n",
      "MPLBACKEND=module://ipykernel.pylab.backend_inline\n",
      "LANG=en_GB.UTF-8\n",
      "ITERM_PROFILE=Default\n",
      "XPC_FLAGS=0x0\n",
      "XPC_SERVICE_NAME=0\n",
      "_CE_M=\n",
      "COLORFGBG=7;0\n",
      "HOME=/Users/robin\n",
      "SHLVL=2\n",
      "ITERM_SESSION_ID=w0t0p0:69711BF3-4344-4B63-A9B6-356399278F17\n",
      "LOGNAME=robin\n",
      "CONDA_PYTHON_EXE=//anaconda3/bin/python\n",
      "CONDA_DEFAULT_ENV=base\n",
      "DISPLAY=/private/tmp/com.apple.launchd.U72PVTTouo/org.macosforge.xquartz:0\n",
      "GIT_PAGER=cat\n",
      "COLORTERM=truecolor\n"
     ]
    }
   ],
   "source": [
    "!env"
   ]
  },
  {
   "cell_type": "code",
   "execution_count": 5,
   "metadata": {},
   "outputs": [
    {
     "data": {
      "text/plain": [
       "'iTerm.app'"
      ]
     },
     "execution_count": 5,
     "metadata": {},
     "output_type": "execute_result"
    }
   ],
   "source": [
    "os.getenv(\"TERM_PROGRAM\", \"doesExist!\")"
   ]
  },
  {
   "cell_type": "code",
   "execution_count": null,
   "metadata": {},
   "outputs": [],
   "source": []
  }
 ],
 "metadata": {
  "kernelspec": {
   "display_name": "Python 3",
   "language": "python",
   "name": "python3"
  },
  "language_info": {
   "codemirror_mode": {
    "name": "ipython",
    "version": 3
   },
   "file_extension": ".py",
   "mimetype": "text/x-python",
   "name": "python",
   "nbconvert_exporter": "python",
   "pygments_lexer": "ipython3",
   "version": "3.7.3"
  }
 },
 "nbformat": 4,
 "nbformat_minor": 4
}
