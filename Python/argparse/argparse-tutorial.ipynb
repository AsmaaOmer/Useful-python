{
 "cells": [
  {
   "cell_type": "markdown",
   "metadata": {},
   "source": [
    "argparse is the “recommended command-line parsing module in the Python standard library.” It’s what you use to get command line arguments into your program.\n",
    "\n",
    "## Positional args\n",
    "https://towardsdatascience.com/learn-enough-python-to-be-useful-argparse-e482e1764e05"
   ]
  },
  {
   "cell_type": "code",
   "execution_count": 5,
   "metadata": {},
   "outputs": [
    {
     "name": "stdout",
     "output_type": "stream",
     "text": [
      "usage: videos.py [-h] [--my_optional MY_OPTIONAL] indir outdir\n",
      "\n",
      "Videos to images\n",
      "\n",
      "positional arguments:\n",
      "  indir                 Input dir for videos\n",
      "  outdir                Output dir for image\n",
      "\n",
      "optional arguments:\n",
      "  -h, --help            show this help message and exit\n",
      "  --my_optional MY_OPTIONAL\n",
      "                        provide an integer (default: 2)\n"
     ]
    }
   ],
   "source": [
    "!python3 videos.py --help"
   ]
  },
  {
   "cell_type": "code",
   "execution_count": 6,
   "metadata": {},
   "outputs": [
    {
     "name": "stdout",
     "output_type": "stream",
     "text": [
      "usage: videos.py [-h] [--my_optional MY_OPTIONAL] indir outdir\n",
      "videos.py: error: the following arguments are required: outdir\n"
     ]
    }
   ],
   "source": [
    "!python3 videos.py /videos"
   ]
  },
  {
   "cell_type": "code",
   "execution_count": 7,
   "metadata": {},
   "outputs": [
    {
     "name": "stdout",
     "output_type": "stream",
     "text": [
      "/videos\n",
      "/images\n",
      "2\n"
     ]
    }
   ],
   "source": [
    "!python3 videos.py /videos /images"
   ]
  },
  {
   "cell_type": "markdown",
   "metadata": {},
   "source": [
    "## Optional\n",
    "Optional arguments are created just like positional arguments except that they have a '--' double dash at the start of their name (or a'-' single dash and one additional character for the short version). For example, you can create an optional argument with parser.add_argument('-m', '--my_optional')."
   ]
  },
  {
   "cell_type": "code",
   "execution_count": 10,
   "metadata": {},
   "outputs": [
    {
     "name": "stdout",
     "output_type": "stream",
     "text": [
      "/videos\n",
      "/images\n",
      "5\n"
     ]
    }
   ],
   "source": [
    "!python3 videos.py /videos /images --my_optional=5"
   ]
  },
  {
   "cell_type": "code",
   "execution_count": null,
   "metadata": {},
   "outputs": [],
   "source": []
  }
 ],
 "metadata": {
  "kernelspec": {
   "display_name": "Python 3",
   "language": "python",
   "name": "python3"
  },
  "language_info": {
   "codemirror_mode": {
    "name": "ipython",
    "version": 3
   },
   "file_extension": ".py",
   "mimetype": "text/x-python",
   "name": "python",
   "nbconvert_exporter": "python",
   "pygments_lexer": "ipython3",
   "version": "3.7.3"
  }
 },
 "nbformat": 4,
 "nbformat_minor": 4
}
