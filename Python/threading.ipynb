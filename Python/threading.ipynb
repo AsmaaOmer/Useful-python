{
 "cells": [
  {
   "cell_type": "markdown",
   "metadata": {},
   "source": [
    "* https://realpython.com/intro-to-python-threading/\n",
    "* https://docs.python.org/3/library/threading.html -> threading is part of the standard library\n",
    "\n",
    "## What Is a Thread?\n",
    "A thread is a separate flow of execution. This means that your program will have two things happening at once. But for most Python 3 implementations the different threads do not actually execute at the same time: they merely appear to.\n",
    "\n",
    "It’s tempting to think of threading as having two (or more) different processors running on your program, each one doing an independent task at the same time. That’s almost right. The threads may be running on different processors, but they will only be running one at a time.\n",
    "\n",
    "* Because of the way CPython implementation of Python works, threading may not speed up all tasks. This is due to interactions with the GIL that essentially limit one Python thread to run at a time.\n",
    "* Tasks that spend much of their time waiting for external events are generally good candidates for threading.\n",
    "* Architecting your program to use threading can also provide gains in design clarity. Most of the examples you’ll learn about in this tutorial are not necessarily going to run faster because they use threads. Using threading in them helps to make the design cleaner and easier to reason about.\n",
    "\n",
    "Starting a thread:\n",
    "```python\n",
    "x = threading.Thread(target=thread_function, args=(1,))\n",
    "x.start()\n",
    "```\n",
    "\n",
    "See `threadingexample.py` -> When you create a Thread, you pass it a function and a list containing the arguments to that function. In this case, you’re telling the Thread to run thread_function() and to pass it 1 as an argument."
   ]
  },
  {
   "cell_type": "code",
   "execution_count": 3,
   "metadata": {},
   "outputs": [
    {
     "name": "stdout",
     "output_type": "stream",
     "text": [
      "16:44:45: Main    : before creating thread\n",
      "16:44:45: Main    : before running thread\n",
      "16:44:45: Thread 1: starting\n",
      "16:44:45: Main    : wait for the thread to finish\n",
      "16:44:45: Main    : all done\n",
      "16:44:47: Thread 1: finishing\n"
     ]
    }
   ],
   "source": [
    "!python3 threadingexample.py"
   ]
  },
  {
   "cell_type": "markdown",
   "metadata": {},
   "source": [
    "## Daemon Threads\n",
    "In computer science, a daemon is a process that runs in the background.\n",
    "\n",
    "Python threading has a more specific meaning for daemon. A daemon thread will shut down immediately when the program exits. One way to think about these definitions is to consider the daemon thread a thread that runs in the background without worrying about shutting it down."
   ]
  },
  {
   "cell_type": "markdown",
   "metadata": {},
   "source": [
    "## ThreadPoolExecutor\n",
    "ThreadPoolExecutor -> a pool of workers"
   ]
  },
  {
   "cell_type": "markdown",
   "metadata": {},
   "source": [
    "## Race conditions\n",
    "Race conditions can occur when two or more threads access a shared piece of data or resource"
   ]
  },
  {
   "cell_type": "code",
   "execution_count": null,
   "metadata": {},
   "outputs": [],
   "source": []
  }
 ],
 "metadata": {
  "kernelspec": {
   "display_name": "Python 3",
   "language": "python",
   "name": "python3"
  },
  "language_info": {
   "codemirror_mode": {
    "name": "ipython",
    "version": 3
   },
   "file_extension": ".py",
   "mimetype": "text/x-python",
   "name": "python",
   "nbconvert_exporter": "python",
   "pygments_lexer": "ipython3",
   "version": "3.6.5"
  }
 },
 "nbformat": 4,
 "nbformat_minor": 2
}
