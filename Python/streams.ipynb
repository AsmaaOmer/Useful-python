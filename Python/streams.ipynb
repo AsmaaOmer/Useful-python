{
 "cells": [
  {
   "cell_type": "markdown",
   "metadata": {},
   "source": [
    "https://medium.com/python4you/python-io-streams-in-examples-97d2c4367207\n",
    "\n",
    "Streams -> in memory file like objects, dont' save data to disk but keep in RAM\n",
    "\n",
    "2 different stream classes:\n",
    "\n",
    "* BytesIO — expects binary-like objects and produces bytes objects\n",
    "* StringIO — expects and produces str objects"
   ]
  },
  {
   "cell_type": "markdown",
   "metadata": {},
   "source": [
    "```python\n",
    "import requests\n",
    "import io\n",
    "\n",
    "r = requests.get(\"https://images.unsplash.com/photo-1452857576997-f0f12cd77844?ixlib=rb-1.2.1&ixid=eyJhcHBfaWQiOjEyMDd9&auto=format&fit=crop&w=2850&q=80\")\n",
    "with io.BytesIO() as buf:\n",
    "    buf.write(r.content)\n",
    "    buf.seek(0)\n",
    "\n",
    "    requests.post(\n",
    "        \"https://api.telegram.org/bot<TOKEN>/sendPhoto?chat_id=<chat_id>\",\n",
    "        files={\"photo\": buf}\n",
    "    )\n",
    "```"
   ]
  },
  {
   "cell_type": "markdown",
   "metadata": {},
   "source": [
    "## BytesIO\n",
    "* https://docs.python.org/3/library/io.html#binary-i-o"
   ]
  },
  {
   "cell_type": "code",
   "execution_count": null,
   "metadata": {},
   "outputs": [],
   "source": []
  }
 ],
 "metadata": {
  "kernelspec": {
   "display_name": "Python 3",
   "language": "python",
   "name": "python3"
  },
  "language_info": {
   "codemirror_mode": {
    "name": "ipython",
    "version": 3
   },
   "file_extension": ".py",
   "mimetype": "text/x-python",
   "name": "python",
   "nbconvert_exporter": "python",
   "pygments_lexer": "ipython3",
   "version": "3.6.5"
  }
 },
 "nbformat": 4,
 "nbformat_minor": 2
}
