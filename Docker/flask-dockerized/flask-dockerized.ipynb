{
 "cells": [
  {
   "cell_type": "markdown",
   "metadata": {},
   "source": [
    "Lets run through this tutorial https://stackabuse.com/dockerizing-python-applications/\n",
    "\n",
    "**TLDR**: Docker Containers are lightweight alternatives to Virtual Machines – unlike VM's, we don't need to pre-allocate RAM, CPU, or other resources for them and we don't need to boot a new VM for each and every application since we're working with only one operating system.\n",
    "\n",
    "Developers don't need to burden themselves with shipping special versions of software for different environments and can focus on creating the core business logic behind the app.\n",
    "\n",
    "**Note** Am doing development via Jupyter lab using this notebook, as well as the terminal. Not all docker commands can be run from Jupyter successfully, e.g. `docker run` prevents you from executing further cells"
   ]
  },
  {
   "cell_type": "code",
   "execution_count": 1,
   "metadata": {},
   "outputs": [
    {
     "name": "stdout",
     "output_type": "stream",
     "text": [
      "Docker version 18.09.1, build 4c52b90\n"
     ]
    }
   ],
   "source": [
    "!docker -v"
   ]
  },
  {
   "cell_type": "markdown",
   "metadata": {},
   "source": [
    "To run an application with Docker, we have to build a container with all of the dependencies used in it - which in our case is only Flask. To do this, we'll include a `requirements.txt` file containing the required dependencies and create a Dockerfile that relies on the file to build an image.\n",
    "\n",
    "Also, when we launch the container, we'll have to have access to the HTTP ports on which the app is running.\n",
    "\n",
    "Our directory structure will be:"
   ]
  },
  {
   "cell_type": "markdown",
   "metadata": {},
   "source": [
    "```\n",
    "docker-flask-tutorial  \n",
    "    ├── requirements.txt\n",
    "    ├── Dockerfile\n",
    "    └── app\n",
    "        └── app.py\n",
    "        └── <other .py files>\n",
    "```"
   ]
  },
  {
   "cell_type": "markdown",
   "metadata": {},
   "source": [
    "## How Docker Images are Built\n",
    "Docker images are built using the `docker build` command. When building an image, Docker creates so-called \"layers\". Each layer records the changes resulting from a command in the Dockerfile and the state of the image after running the command."
   ]
  },
  {
   "cell_type": "markdown",
   "metadata": {},
   "source": [
    "cd into `docker-flask-tutorial` and run `docker build -t docker-flask:latest .`"
   ]
  },
  {
   "cell_type": "markdown",
   "metadata": {},
   "source": [
    "Now run the container"
   ]
  },
  {
   "cell_type": "code",
   "execution_count": null,
   "metadata": {},
   "outputs": [
    {
     "name": "stdout",
     "output_type": "stream",
     "text": [
      " * Serving Flask app \"app\" (lazy loading)\n",
      " * Environment: production\n",
      "   WARNING: Do not use the development server in a production environment.\n",
      "   Use a production WSGI server instead.\n",
      " * Debug mode: on\n",
      " * Running on http://0.0.0.0:5000/ (Press CTRL+C to quit)\n",
      " * Restarting with stat\n",
      " * Debugger is active!\n",
      " * Debugger PIN: 326-836-556\n",
      "172.17.0.1 - - [24/Jan/2019 04:56:06] \"GET / HTTP/1.1\" 200 -\n",
      "172.17.0.1 - - [24/Jan/2019 04:56:20] \"GET / HTTP/1.1\" 200 -\n"
     ]
    }
   ],
   "source": [
    "!docker run --name flaskapp -p5000:5000 docker-flask:latest"
   ]
  },
  {
   "cell_type": "code",
   "execution_count": null,
   "metadata": {},
   "outputs": [],
   "source": [
    "!docker ps"
   ]
  },
  {
   "cell_type": "markdown",
   "metadata": {},
   "source": [
    "## Running Application in Debug Mode with Auto-Restart\n",
    "Due to the advantages of containerization described earlier, it makes sense to develop applications that will be deployed in containers within the container itself. This ensures that from the beginning, the environment in which the app is built is clean and thus eliminates surprises during delivery.\n",
    "\n",
    "However, while developing an app it's important to have quick re-build and test cycles to check each intermediate step during development. For this purpose, web-app developers depend on auto-restart facilities provided by frameworks like Flask. It's possible to leverage this from within the container as well.\n",
    "\n",
    "**TLDR**: If we make changes to the application when the container is running and save the file, Flask detects the changes and restarts the app:"
   ]
  },
  {
   "cell_type": "markdown",
   "metadata": {},
   "source": [
    "## Conclusion\n",
    "In this article, we dove into Docker, a widely-used containerization tool. We created a simple web application with Flask, a custom Docker image based on Ubuntu for running our web application in development and production mode."
   ]
  },
  {
   "cell_type": "code",
   "execution_count": null,
   "metadata": {},
   "outputs": [],
   "source": []
  }
 ],
 "metadata": {
  "kernelspec": {
   "display_name": "Python 3",
   "language": "python",
   "name": "python3"
  },
  "language_info": {
   "codemirror_mode": {
    "name": "ipython",
    "version": 3
   },
   "file_extension": ".py",
   "mimetype": "text/x-python",
   "name": "python",
   "nbconvert_exporter": "python",
   "pygments_lexer": "ipython3",
   "version": "3.6.5"
  }
 },
 "nbformat": 4,
 "nbformat_minor": 2
}
