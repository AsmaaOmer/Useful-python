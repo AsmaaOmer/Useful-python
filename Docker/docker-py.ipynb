{
 "cells": [
  {
   "cell_type": "markdown",
   "metadata": {},
   "source": [
    "https://docker-py.readthedocs.io/en/stable/"
   ]
  },
  {
   "cell_type": "code",
   "execution_count": 1,
   "metadata": {},
   "outputs": [],
   "source": [
    "# !pip install docker"
   ]
  },
  {
   "cell_type": "code",
   "execution_count": 2,
   "metadata": {},
   "outputs": [],
   "source": [
    "import docker\n",
    "client = docker.from_env()"
   ]
  },
  {
   "cell_type": "code",
   "execution_count": 3,
   "metadata": {},
   "outputs": [
    {
     "data": {
      "text/plain": [
       "{'Platform': {'Name': 'Docker Engine - Community'},\n",
       " 'Components': [{'Name': 'Engine',\n",
       "   'Version': '18.09.1',\n",
       "   'Details': {'ApiVersion': '1.39',\n",
       "    'Arch': 'amd64',\n",
       "    'BuildTime': '2019-01-09T19:41:49.000000000+00:00',\n",
       "    'Experimental': 'false',\n",
       "    'GitCommit': '4c52b90',\n",
       "    'GoVersion': 'go1.10.6',\n",
       "    'KernelVersion': '4.9.125-linuxkit',\n",
       "    'MinAPIVersion': '1.12',\n",
       "    'Os': 'linux'}}],\n",
       " 'Version': '18.09.1',\n",
       " 'ApiVersion': '1.39',\n",
       " 'MinAPIVersion': '1.12',\n",
       " 'GitCommit': '4c52b90',\n",
       " 'GoVersion': 'go1.10.6',\n",
       " 'Os': 'linux',\n",
       " 'Arch': 'amd64',\n",
       " 'KernelVersion': '4.9.125-linuxkit',\n",
       " 'BuildTime': '2019-01-09T19:41:49.000000000+00:00'}"
      ]
     },
     "execution_count": 3,
     "metadata": {},
     "output_type": "execute_result"
    }
   ],
   "source": [
    "client.version()"
   ]
  },
  {
   "cell_type": "code",
   "execution_count": null,
   "metadata": {},
   "outputs": [],
   "source": [
    "client.containers.run(\"ubuntu\", \"echo hello world\")"
   ]
  },
  {
   "cell_type": "code",
   "execution_count": null,
   "metadata": {},
   "outputs": [],
   "source": [
    "client.containers.list()"
   ]
  },
  {
   "cell_type": "code",
   "execution_count": null,
   "metadata": {},
   "outputs": [],
   "source": []
  }
 ],
 "metadata": {
  "kernelspec": {
   "display_name": "Python 3",
   "language": "python",
   "name": "python3"
  },
  "language_info": {
   "codemirror_mode": {
    "name": "ipython",
    "version": 3
   },
   "file_extension": ".py",
   "mimetype": "text/x-python",
   "name": "python",
   "nbconvert_exporter": "python",
   "pygments_lexer": "ipython3",
   "version": "3.6.5"
  }
 },
 "nbformat": 4,
 "nbformat_minor": 2
}
