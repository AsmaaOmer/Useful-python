{
 "cells": [
  {
   "cell_type": "markdown",
   "metadata": {},
   "source": [
    "http://www.uvm.edu/~dburrill/python/Monte_Carlo_Calculation_of_Pi/"
   ]
  },
  {
   "cell_type": "code",
   "execution_count": 1,
   "metadata": {},
   "outputs": [],
   "source": [
    "## Imports\n",
    "import math\n",
    "import random\n",
    "\n",
    "# Random seed set to system time\n",
    "\n",
    "## Functions\n",
    "def fMag(vector):\n",
    "    ## Variables\n",
    "    mag = 0\n",
    "\n",
    "    ## Calculate magnitude\n",
    "    mag = math.sqrt(vector[0]**2 + vector[1]**2)\n",
    "\n",
    "    return mag"
   ]
  },
  {
   "cell_type": "code",
   "execution_count": 5,
   "metadata": {},
   "outputs": [
    {
     "data": {
      "text/plain": [
       "[0.7145177294966771, 0.9921484496280923]"
      ]
     },
     "execution_count": 5,
     "metadata": {},
     "output_type": "execute_result"
    }
   ],
   "source": [
    "## Variables\n",
    "amt = 100000\n",
    "sideLen = 2.0 # Define rectangle\n",
    "coordList = []\n",
    "circleCount = 0\n",
    "\n",
    "## Generate coordinates\n",
    "coordList = [[random.uniform(-(sideLen/2),(sideLen/2)),random.uniform(-(sideLen/2),(sideLen/2))] for index in range(amt)]\n",
    "coordList[0]"
   ]
  },
  {
   "cell_type": "code",
   "execution_count": 6,
   "metadata": {},
   "outputs": [],
   "source": [
    "## Find circleCount\n",
    "magList = map(fMag,coordList)"
   ]
  },
  {
   "cell_type": "markdown",
   "metadata": {},
   "source": [
    "Get number of counts that fall within the circle"
   ]
  },
  {
   "cell_type": "code",
   "execution_count": 7,
   "metadata": {},
   "outputs": [
    {
     "data": {
      "text/plain": [
       "78526"
      ]
     },
     "execution_count": 7,
     "metadata": {},
     "output_type": "execute_result"
    }
   ],
   "source": [
    "circleCount = len([val for val in filter(lambda x: x <= (sideLen/2),magList)])\n",
    "circleCount"
   ]
  },
  {
   "cell_type": "code",
   "execution_count": 4,
   "metadata": {},
   "outputs": [
    {
     "name": "stdout",
     "output_type": "stream",
     "text": [
      "3.13832\n",
      "0.0010428042996867416\n"
     ]
    }
   ],
   "source": [
    "## Return ratio\n",
    "ratio = float(circleCount)/len(coordList)\n",
    "pi = 4*ratio\n",
    "diff = (math.pi-pi)/pi\n",
    "\n",
    "print(pi)\n",
    "print(diff)"
   ]
  },
  {
   "cell_type": "code",
   "execution_count": null,
   "metadata": {},
   "outputs": [],
   "source": []
  }
 ],
 "metadata": {
  "kernelspec": {
   "display_name": "Python 3",
   "language": "python",
   "name": "python3"
  },
  "language_info": {
   "codemirror_mode": {
    "name": "ipython",
    "version": 3
   },
   "file_extension": ".py",
   "mimetype": "text/x-python",
   "name": "python",
   "nbconvert_exporter": "python",
   "pygments_lexer": "ipython3",
   "version": "3.6.5"
  }
 },
 "nbformat": 4,
 "nbformat_minor": 2
}
