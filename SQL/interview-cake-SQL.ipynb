{
 "cells": [
  {
   "cell_type": "markdown",
   "metadata": {},
   "source": [
    "https://www.interviewcake.com/article/python/sql\n",
    "\n",
    "To start the server and logon as root\n",
    "```\n",
    "mysql.server start && mysql -u root\n",
    "```\n",
    "\n",
    "```sql\n",
    "USE BAKERY;\n",
    "```\n",
    "\n",
    "I am working through the excercises at the terminal but lets also work along using sqlalchemy"
   ]
  },
  {
   "cell_type": "code",
   "execution_count": 8,
   "metadata": {},
   "outputs": [],
   "source": [
    "import pandas as pd"
   ]
  },
  {
   "cell_type": "code",
   "execution_count": 1,
   "metadata": {},
   "outputs": [
    {
     "name": "stdout",
     "output_type": "stream",
     "text": [
      "1.2.15\n"
     ]
    }
   ],
   "source": [
    "import sqlalchemy\n",
    "print(sqlalchemy.__version__)"
   ]
  },
  {
   "cell_type": "code",
   "execution_count": 7,
   "metadata": {},
   "outputs": [],
   "source": [
    "from sqlalchemy import create_engine, inspect\n",
    "from sqlalchemy.sql import select\n",
    "\n",
    "user = 'root'\n",
    "ip = 'localhost'\n",
    "db = 'bakery'\n",
    "engine = create_engine(f'mysql+pymysql://{user}@{ip}/{db}?charset=utf8', echo=False)"
   ]
  },
  {
   "cell_type": "code",
   "execution_count": 6,
   "metadata": {},
   "outputs": [
    {
     "data": {
      "text/plain": [
       "['cakes', 'customers', 'orders']"
      ]
     },
     "execution_count": 6,
     "metadata": {},
     "output_type": "execute_result"
    }
   ],
   "source": [
    "inspector = inspect(engine)\n",
    "\n",
    "# Get table information\n",
    "inspector.get_table_names()"
   ]
  },
  {
   "cell_type": "markdown",
   "metadata": {},
   "source": [
    "Explore the `orders` table"
   ]
  },
  {
   "cell_type": "code",
   "execution_count": 5,
   "metadata": {},
   "outputs": [
    {
     "data": {
      "text/plain": [
       "[{'name': 'order_id',\n",
       "  'type': INTEGER(display_width=11),\n",
       "  'default': None,\n",
       "  'comment': None,\n",
       "  'nullable': False,\n",
       "  'autoincrement': True},\n",
       " {'name': 'cake_id',\n",
       "  'type': INTEGER(display_width=11),\n",
       "  'default': None,\n",
       "  'comment': None,\n",
       "  'nullable': False,\n",
       "  'autoincrement': False},\n",
       " {'name': 'customer_id',\n",
       "  'type': INTEGER(display_width=11),\n",
       "  'default': None,\n",
       "  'comment': None,\n",
       "  'nullable': True,\n",
       "  'autoincrement': False},\n",
       " {'name': 'pickup_date',\n",
       "  'type': DATE(),\n",
       "  'default': None,\n",
       "  'comment': None,\n",
       "  'nullable': False}]"
      ]
     },
     "execution_count": 5,
     "metadata": {},
     "output_type": "execute_result"
    }
   ],
   "source": [
    "inspector.get_columns('orders')"
   ]
  },
  {
   "cell_type": "markdown",
   "metadata": {},
   "source": [
    "We can see the top 10 entries, using sql\n",
    "```sql\n",
    "select * from bakery.orders limit 10;\n",
    "```\n",
    "\n",
    "Demo using pandas"
   ]
  },
  {
   "cell_type": "code",
   "execution_count": 9,
   "metadata": {},
   "outputs": [
    {
     "data": {
      "text/html": [
       "<div>\n",
       "<style scoped>\n",
       "    .dataframe tbody tr th:only-of-type {\n",
       "        vertical-align: middle;\n",
       "    }\n",
       "\n",
       "    .dataframe tbody tr th {\n",
       "        vertical-align: top;\n",
       "    }\n",
       "\n",
       "    .dataframe thead th {\n",
       "        text-align: right;\n",
       "    }\n",
       "</style>\n",
       "<table border=\"1\" class=\"dataframe\">\n",
       "  <thead>\n",
       "    <tr style=\"text-align: right;\">\n",
       "      <th></th>\n",
       "      <th>order_id</th>\n",
       "      <th>cake_id</th>\n",
       "      <th>customer_id</th>\n",
       "      <th>pickup_date</th>\n",
       "    </tr>\n",
       "  </thead>\n",
       "  <tbody>\n",
       "    <tr>\n",
       "      <th>0</th>\n",
       "      <td>1</td>\n",
       "      <td>2</td>\n",
       "      <td>None</td>\n",
       "      <td>2017-01-08</td>\n",
       "    </tr>\n",
       "    <tr>\n",
       "      <th>1</th>\n",
       "      <td>2</td>\n",
       "      <td>1</td>\n",
       "      <td>None</td>\n",
       "      <td>2017-09-17</td>\n",
       "    </tr>\n",
       "    <tr>\n",
       "      <th>2</th>\n",
       "      <td>3</td>\n",
       "      <td>3</td>\n",
       "      <td>None</td>\n",
       "      <td>2017-07-19</td>\n",
       "    </tr>\n",
       "    <tr>\n",
       "      <th>3</th>\n",
       "      <td>4</td>\n",
       "      <td>2</td>\n",
       "      <td>None</td>\n",
       "      <td>2017-12-03</td>\n",
       "    </tr>\n",
       "    <tr>\n",
       "      <th>4</th>\n",
       "      <td>5</td>\n",
       "      <td>2</td>\n",
       "      <td>None</td>\n",
       "      <td>2017-08-20</td>\n",
       "    </tr>\n",
       "    <tr>\n",
       "      <th>5</th>\n",
       "      <td>6</td>\n",
       "      <td>3</td>\n",
       "      <td>None</td>\n",
       "      <td>2017-04-10</td>\n",
       "    </tr>\n",
       "    <tr>\n",
       "      <th>6</th>\n",
       "      <td>7</td>\n",
       "      <td>3</td>\n",
       "      <td>None</td>\n",
       "      <td>2017-10-03</td>\n",
       "    </tr>\n",
       "    <tr>\n",
       "      <th>7</th>\n",
       "      <td>8</td>\n",
       "      <td>3</td>\n",
       "      <td>None</td>\n",
       "      <td>2017-08-08</td>\n",
       "    </tr>\n",
       "    <tr>\n",
       "      <th>8</th>\n",
       "      <td>9</td>\n",
       "      <td>3</td>\n",
       "      <td>None</td>\n",
       "      <td>2017-12-11</td>\n",
       "    </tr>\n",
       "    <tr>\n",
       "      <th>9</th>\n",
       "      <td>10</td>\n",
       "      <td>2</td>\n",
       "      <td>None</td>\n",
       "      <td>2017-12-10</td>\n",
       "    </tr>\n",
       "  </tbody>\n",
       "</table>\n",
       "</div>"
      ],
      "text/plain": [
       "   order_id  cake_id customer_id pickup_date\n",
       "0         1        2        None  2017-01-08\n",
       "1         2        1        None  2017-09-17\n",
       "2         3        3        None  2017-07-19\n",
       "3         4        2        None  2017-12-03\n",
       "4         5        2        None  2017-08-20\n",
       "5         6        3        None  2017-04-10\n",
       "6         7        3        None  2017-10-03\n",
       "7         8        3        None  2017-08-08\n",
       "8         9        3        None  2017-12-11\n",
       "9        10        2        None  2017-12-10"
      ]
     },
     "execution_count": 9,
     "metadata": {},
     "output_type": "execute_result"
    }
   ],
   "source": [
    "sql = \"select * from bakery.orders limit 10;\"\n",
    "df = pd.read_sql(sql, con=engine)\n",
    "df"
   ]
  },
  {
   "cell_type": "markdown",
   "metadata": {},
   "source": [
    "And using sqlalchemy"
   ]
  },
  {
   "cell_type": "code",
   "execution_count": 11,
   "metadata": {},
   "outputs": [
    {
     "name": "stdout",
     "output_type": "stream",
     "text": [
      "(1, 2, None, datetime.date(2017, 1, 8))\n",
      "(2, 1, None, datetime.date(2017, 9, 17))\n",
      "(3, 3, None, datetime.date(2017, 7, 19))\n",
      "(4, 2, None, datetime.date(2017, 12, 3))\n",
      "(5, 2, None, datetime.date(2017, 8, 20))\n",
      "(6, 3, None, datetime.date(2017, 4, 10))\n",
      "(7, 3, None, datetime.date(2017, 10, 3))\n",
      "(8, 3, None, datetime.date(2017, 8, 8))\n",
      "(9, 3, None, datetime.date(2017, 12, 11))\n",
      "(10, 2, None, datetime.date(2017, 12, 10))\n"
     ]
    }
   ],
   "source": [
    "result = engine.execute(sql)\n",
    " \n",
    "for row in result:\n",
    "    print(row)"
   ]
  },
  {
   "cell_type": "code",
   "execution_count": null,
   "metadata": {},
   "outputs": [],
   "source": []
  }
 ],
 "metadata": {
  "kernelspec": {
   "display_name": "Python 3",
   "language": "python",
   "name": "python3"
  },
  "language_info": {
   "codemirror_mode": {
    "name": "ipython",
    "version": 3
   },
   "file_extension": ".py",
   "mimetype": "text/x-python",
   "name": "python",
   "nbconvert_exporter": "python",
   "pygments_lexer": "ipython3",
   "version": "3.6.5"
  }
 },
 "nbformat": 4,
 "nbformat_minor": 2
}
