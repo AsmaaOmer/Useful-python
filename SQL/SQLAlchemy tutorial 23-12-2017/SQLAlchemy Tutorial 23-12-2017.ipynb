{
 "cells": [
  {
   "cell_type": "markdown",
   "metadata": {},
   "source": [
    "https://www.blog.pythonlibrary.org/2010/02/03/another-step-by-step-sqlalchemy-tutorial-part-1-of-2/\n",
    "\n",
    "View db with DB browser for SQLite http://sqlitebrowser.org/\n",
    "\n",
    "Cheat sheet https://www.pythonsheets.com/notes/python-sqlalchemy.html"
   ]
  },
  {
   "cell_type": "code",
   "execution_count": 2,
   "metadata": {},
   "outputs": [
    {
     "name": "stdout",
     "output_type": "stream",
     "text": [
      "1.1.13\n"
     ]
    }
   ],
   "source": [
    "import sqlalchemy\n",
    "print(sqlalchemy.__version__)"
   ]
  },
  {
   "cell_type": "code",
   "execution_count": 30,
   "metadata": {},
   "outputs": [],
   "source": [
    "from sqlalchemy import create_engine\n",
    "from sqlalchemy import MetaData, Column, Table, ForeignKey\n",
    "from sqlalchemy import Integer, String\n",
    "from sqlalchemy import inspect\n",
    "from sqlalchemy.sql import select\n",
    "from sqlalchemy.sql import and_\n",
    "import pandas as pd"
   ]
  },
  {
   "cell_type": "code",
   "execution_count": 7,
   "metadata": {},
   "outputs": [],
   "source": [
    "engine = create_engine('sqlite:///tutorial.db',\n",
    "                       echo=True)"
   ]
  },
  {
   "cell_type": "markdown",
   "metadata": {},
   "source": [
    "Next step creates the .db file"
   ]
  },
  {
   "cell_type": "code",
   "execution_count": 8,
   "metadata": {},
   "outputs": [
    {
     "name": "stdout",
     "output_type": "stream",
     "text": [
      "2017-12-23 15:24:09,136 INFO sqlalchemy.engine.base.Engine SELECT CAST('test plain returns' AS VARCHAR(60)) AS anon_1\n",
      "2017-12-23 15:24:09,137 INFO sqlalchemy.engine.base.Engine ()\n",
      "2017-12-23 15:24:09,140 INFO sqlalchemy.engine.base.Engine SELECT CAST('test unicode returns' AS VARCHAR(60)) AS anon_1\n",
      "2017-12-23 15:24:09,142 INFO sqlalchemy.engine.base.Engine ()\n",
      "2017-12-23 15:24:09,146 INFO sqlalchemy.engine.base.Engine PRAGMA table_info(\"users\")\n",
      "2017-12-23 15:24:09,149 INFO sqlalchemy.engine.base.Engine ()\n",
      "2017-12-23 15:24:09,154 INFO sqlalchemy.engine.base.Engine PRAGMA table_info(\"addresses\")\n",
      "2017-12-23 15:24:09,157 INFO sqlalchemy.engine.base.Engine ()\n",
      "2017-12-23 15:24:09,160 INFO sqlalchemy.engine.base.Engine \n",
      "CREATE TABLE users (\n",
      "\tid INTEGER NOT NULL, \n",
      "\tname VARCHAR(40), \n",
      "\tage INTEGER, \n",
      "\tpassword VARCHAR, \n",
      "\tPRIMARY KEY (id)\n",
      ")\n",
      "\n",
      "\n",
      "2017-12-23 15:24:09,163 INFO sqlalchemy.engine.base.Engine ()\n",
      "2017-12-23 15:24:09,167 INFO sqlalchemy.engine.base.Engine COMMIT\n",
      "2017-12-23 15:24:09,170 INFO sqlalchemy.engine.base.Engine \n",
      "CREATE TABLE addresses (\n",
      "\tid INTEGER NOT NULL, \n",
      "\tuser_id INTEGER, \n",
      "\temail_address VARCHAR NOT NULL, \n",
      "\tPRIMARY KEY (id), \n",
      "\tFOREIGN KEY(user_id) REFERENCES users (id)\n",
      ")\n",
      "\n",
      "\n",
      "2017-12-23 15:24:09,174 INFO sqlalchemy.engine.base.Engine ()\n",
      "2017-12-23 15:24:09,183 INFO sqlalchemy.engine.base.Engine COMMIT\n"
     ]
    }
   ],
   "source": [
    "metadata = MetaData(bind=engine)\n",
    " \n",
    "users_table = Table('users', metadata,\n",
    "                    Column('id', Integer, primary_key=True),\n",
    "                    Column('name', String(40)),\n",
    "                    Column('age', Integer),\n",
    "                    Column('password', String),\n",
    "                    )\n",
    " \n",
    "addresses_table = Table('addresses', metadata,\n",
    "                        Column('id', Integer, primary_key=True),\n",
    "                        Column('user_id', None, ForeignKey('users.id')),\n",
    "                        Column('email_address', String, nullable=False)                            \n",
    "                        )\n",
    " \n",
    "# create tables in database\n",
    "metadata.create_all()"
   ]
  },
  {
   "cell_type": "code",
   "execution_count": 26,
   "metadata": {},
   "outputs": [
    {
     "name": "stdout",
     "output_type": "stream",
     "text": [
      "2017-12-23 15:39:52,803 INFO sqlalchemy.engine.base.Engine SELECT name FROM sqlite_master WHERE type='table' ORDER BY name\n",
      "2017-12-23 15:39:52,805 INFO sqlalchemy.engine.base.Engine ()\n",
      "['addresses', 'users']\n"
     ]
    }
   ],
   "source": [
    "inspector = inspect(engine)\n",
    "\n",
    "# Get table information\n",
    "print(inspector.get_table_names())"
   ]
  },
  {
   "cell_type": "code",
   "execution_count": 29,
   "metadata": {},
   "outputs": [
    {
     "name": "stdout",
     "output_type": "stream",
     "text": [
      "[{'name': 'id', 'type': INTEGER(), 'nullable': False, 'default': None, 'autoincrement': 'auto', 'primary_key': 1}, {'name': 'name', 'type': VARCHAR(length=40), 'nullable': True, 'default': None, 'autoincrement': 'auto', 'primary_key': 0}, {'name': 'age', 'type': INTEGER(), 'nullable': True, 'default': None, 'autoincrement': 'auto', 'primary_key': 0}, {'name': 'password', 'type': VARCHAR(), 'nullable': True, 'default': None, 'autoincrement': 'auto', 'primary_key': 0}]\n"
     ]
    }
   ],
   "source": [
    "# Get column information\n",
    "print(inspector.get_columns('users'))"
   ]
  },
  {
   "cell_type": "markdown",
   "metadata": {},
   "source": [
    "### Insert some data"
   ]
  },
  {
   "cell_type": "code",
   "execution_count": 10,
   "metadata": {},
   "outputs": [
    {
     "name": "stdout",
     "output_type": "stream",
     "text": [
      "2017-12-23 15:27:52,205 INFO sqlalchemy.engine.base.Engine INSERT INTO users (name, age, password) VALUES (?, ?, ?)\n",
      "2017-12-23 15:27:52,208 INFO sqlalchemy.engine.base.Engine ('Joe', 20, 'pass')\n",
      "2017-12-23 15:27:52,213 INFO sqlalchemy.engine.base.Engine COMMIT\n"
     ]
    },
    {
     "data": {
      "text/plain": [
       "<sqlalchemy.engine.result.ResultProxy at 0x10d14ba90>"
      ]
     },
     "execution_count": 10,
     "metadata": {},
     "output_type": "execute_result"
    }
   ],
   "source": [
    "# create an Insert object\n",
    "ins = users_table.insert()\n",
    "# add values to the Insert object\n",
    "new_user = ins.values(name=\"Joe\", age=20, password=\"pass\")\n",
    " \n",
    "# create a database connection\n",
    "conn = engine.connect()\n",
    "# add user to database by executing SQL\n",
    "conn.execute(new_user)"
   ]
  },
  {
   "cell_type": "code",
   "execution_count": 11,
   "metadata": {},
   "outputs": [
    {
     "name": "stdout",
     "output_type": "stream",
     "text": [
      "2017-12-23 15:28:59,321 INFO sqlalchemy.engine.base.Engine INSERT INTO users (name, age, password) VALUES (?, ?, ?)\n",
      "2017-12-23 15:28:59,324 INFO sqlalchemy.engine.base.Engine ('Shinji', 15, 'nihongo')\n",
      "2017-12-23 15:28:59,327 INFO sqlalchemy.engine.base.Engine COMMIT\n",
      "2017-12-23 15:28:59,331 INFO sqlalchemy.engine.base.Engine INSERT INTO users (name, age, password) VALUES (?, ?, ?)\n",
      "2017-12-23 15:28:59,334 INFO sqlalchemy.engine.base.Engine ('Martha', 45, 'dingbat')\n",
      "2017-12-23 15:28:59,337 INFO sqlalchemy.engine.base.Engine COMMIT\n"
     ]
    }
   ],
   "source": [
    "# a connectionless way to Insert a user\n",
    "ins = users_table.insert()\n",
    "result = engine.execute(ins, name=\"Shinji\", age=15, password=\"nihongo\")\n",
    " \n",
    "# another connectionless Insert\n",
    "result = users_table.insert().execute(name=\"Martha\", age=45, password=\"dingbat\")"
   ]
  },
  {
   "cell_type": "markdown",
   "metadata": {},
   "source": [
    "Insert multiple rows"
   ]
  },
  {
   "cell_type": "code",
   "execution_count": 12,
   "metadata": {},
   "outputs": [
    {
     "name": "stdout",
     "output_type": "stream",
     "text": [
      "2017-12-23 15:29:31,756 INFO sqlalchemy.engine.base.Engine INSERT INTO users (name, age, password) VALUES (?, ?, ?)\n",
      "2017-12-23 15:29:31,760 INFO sqlalchemy.engine.base.Engine (('Ted', 10, 'dink'), ('Asahina', 25, 'nippon'), ('Evan', 40, 'macaca'))\n",
      "2017-12-23 15:29:31,763 INFO sqlalchemy.engine.base.Engine COMMIT\n"
     ]
    },
    {
     "data": {
      "text/plain": [
       "<sqlalchemy.engine.result.ResultProxy at 0x10b614978>"
      ]
     },
     "execution_count": 12,
     "metadata": {},
     "output_type": "execute_result"
    }
   ],
   "source": [
    "conn.execute(users_table.insert(), [\n",
    "    {\"name\": \"Ted\", \"age\":10, \"password\":\"dink\"},\n",
    "    {\"name\": \"Asahina\", \"age\":25, \"password\":\"nippon\"},\n",
    "    {\"name\": \"Evan\", \"age\":40, \"password\":\"macaca\"}\n",
    "])"
   ]
  },
  {
   "cell_type": "code",
   "execution_count": 14,
   "metadata": {},
   "outputs": [
    {
     "name": "stdout",
     "output_type": "stream",
     "text": [
      "2017-12-23 15:31:55,820 INFO sqlalchemy.engine.base.Engine SELECT users.id, users.name, users.age, users.password \n",
      "FROM users\n",
      "2017-12-23 15:31:55,823 INFO sqlalchemy.engine.base.Engine ()\n",
      "(1, 'Joe', 20, 'pass')\n",
      "(2, 'Shinji', 15, 'nihongo')\n",
      "(3, 'Martha', 45, 'dingbat')\n",
      "(4, 'Ted', 10, 'dink')\n",
      "(5, 'Asahina', 25, 'nippon')\n",
      "(6, 'Evan', 40, 'macaca')\n"
     ]
    }
   ],
   "source": [
    "### Selecting\n",
    " \n",
    "s = select([users_table])\n",
    "result = s.execute()\n",
    " \n",
    "for row in result:\n",
    "    print(row)"
   ]
  },
  {
   "cell_type": "markdown",
   "metadata": {},
   "source": [
    "Get all the results in a list of tuples"
   ]
  },
  {
   "cell_type": "code",
   "execution_count": 15,
   "metadata": {},
   "outputs": [
    {
     "name": "stdout",
     "output_type": "stream",
     "text": [
      "2017-12-23 15:32:52,322 INFO sqlalchemy.engine.base.Engine SELECT users.id, users.name, users.age, users.password \n",
      "FROM users\n",
      "2017-12-23 15:32:52,326 INFO sqlalchemy.engine.base.Engine ()\n"
     ]
    }
   ],
   "source": [
    "conn = engine.connect()\n",
    "res = conn.execute(s)\n",
    "rows = res.fetchall()"
   ]
  },
  {
   "cell_type": "code",
   "execution_count": 16,
   "metadata": {},
   "outputs": [
    {
     "data": {
      "text/plain": [
       "[(1, 'Joe', 20, 'pass'),\n",
       " (2, 'Shinji', 15, 'nihongo'),\n",
       " (3, 'Martha', 45, 'dingbat'),\n",
       " (4, 'Ted', 10, 'dink'),\n",
       " (5, 'Asahina', 25, 'nippon'),\n",
       " (6, 'Evan', 40, 'macaca')]"
      ]
     },
     "execution_count": 16,
     "metadata": {},
     "output_type": "execute_result"
    }
   ],
   "source": [
    "rows"
   ]
  },
  {
   "cell_type": "code",
   "execution_count": 18,
   "metadata": {},
   "outputs": [
    {
     "name": "stdout",
     "output_type": "stream",
     "text": [
      "2017-12-23 15:33:53,578 INFO sqlalchemy.engine.base.Engine SELECT users.name, users.age \n",
      "FROM users\n",
      "2017-12-23 15:33:53,580 INFO sqlalchemy.engine.base.Engine ()\n",
      "('Joe', 20)\n",
      "('Shinji', 15)\n",
      "('Martha', 45)\n",
      "('Ted', 10)\n",
      "('Asahina', 25)\n",
      "('Evan', 40)\n"
     ]
    }
   ],
   "source": [
    "s = select([users_table.c.name, users_table.c.age])\n",
    "result = conn.execute(s)\n",
    "for row in result:\n",
    "    print(row)"
   ]
  },
  {
   "cell_type": "code",
   "execution_count": 20,
   "metadata": {},
   "outputs": [
    {
     "name": "stdout",
     "output_type": "stream",
     "text": [
      "2017-12-23 15:35:08,229 INFO sqlalchemy.engine.base.Engine SELECT users.id, users.name, users.age, users.password \n",
      "FROM users \n",
      "WHERE users.id > ?\n",
      "2017-12-23 15:35:08,232 INFO sqlalchemy.engine.base.Engine (3,)\n",
      "(4, 'Ted', 10, 'dink')\n",
      "(5, 'Asahina', 25, 'nippon')\n",
      "(6, 'Evan', 40, 'macaca')\n"
     ]
    }
   ],
   "source": [
    "# The following is the equivalent to \n",
    "# SELECT * FROM users WHERE id > 3\n",
    "s = select([users_table], users_table.c.id > 3)\n",
    "result = conn.execute(s)\n",
    "for row in result:\n",
    "    print(row)"
   ]
  },
  {
   "cell_type": "code",
   "execution_count": 23,
   "metadata": {},
   "outputs": [
    {
     "name": "stdout",
     "output_type": "stream",
     "text": [
      "2017-12-23 15:37:31,234 INFO sqlalchemy.engine.base.Engine SELECT users.id, users.name, users.age, users.password \n",
      "FROM users \n",
      "WHERE users.name = ? AND users.age < ?\n",
      "2017-12-23 15:37:31,237 INFO sqlalchemy.engine.base.Engine ('Martha', 25)\n"
     ]
    }
   ],
   "source": [
    "# You can use the \"and_\" module to AND multiple fields together\n",
    "\n",
    "s = select([users_table]).where(and_(users_table.c.name == 'Martha',users_table.c.age < 25))\n",
    "\n",
    "result = conn.execute(s)\n",
    "for row in result:\n",
    "    print(row)"
   ]
  },
  {
   "cell_type": "markdown",
   "metadata": {},
   "source": [
    "## Pandas\n",
    "Lets get the data as a dataframe"
   ]
  },
  {
   "cell_type": "code",
   "execution_count": 63,
   "metadata": {},
   "outputs": [
    {
     "name": "stdout",
     "output_type": "stream",
     "text": [
      "Performing query...\n",
      "2017-12-23 15:59:15,676 INFO sqlalchemy.engine.base.Engine PRAGMA table_info(\"select * from users\")\n",
      "2017-12-23 15:59:15,679 INFO sqlalchemy.engine.base.Engine ()\n",
      "2017-12-23 15:59:15,682 INFO sqlalchemy.engine.base.Engine select * from users\n",
      "2017-12-23 15:59:15,684 INFO sqlalchemy.engine.base.Engine ()\n"
     ]
    }
   ],
   "source": [
    "sql = \"select * from users\"\n",
    "print('Performing query...')\n",
    "df = pd.read_sql(sql, con=engine)"
   ]
  },
  {
   "cell_type": "code",
   "execution_count": 64,
   "metadata": {},
   "outputs": [
    {
     "data": {
      "text/html": [
       "<div>\n",
       "<style scoped>\n",
       "    .dataframe tbody tr th:only-of-type {\n",
       "        vertical-align: middle;\n",
       "    }\n",
       "\n",
       "    .dataframe tbody tr th {\n",
       "        vertical-align: top;\n",
       "    }\n",
       "\n",
       "    .dataframe thead th {\n",
       "        text-align: right;\n",
       "    }\n",
       "</style>\n",
       "<table border=\"1\" class=\"dataframe\">\n",
       "  <thead>\n",
       "    <tr style=\"text-align: right;\">\n",
       "      <th></th>\n",
       "      <th>id</th>\n",
       "      <th>name</th>\n",
       "      <th>age</th>\n",
       "      <th>password</th>\n",
       "    </tr>\n",
       "  </thead>\n",
       "  <tbody>\n",
       "    <tr>\n",
       "      <th>0</th>\n",
       "      <td>1</td>\n",
       "      <td>Joe</td>\n",
       "      <td>20</td>\n",
       "      <td>pass</td>\n",
       "    </tr>\n",
       "    <tr>\n",
       "      <th>1</th>\n",
       "      <td>2</td>\n",
       "      <td>Shinji</td>\n",
       "      <td>15</td>\n",
       "      <td>nihongo</td>\n",
       "    </tr>\n",
       "    <tr>\n",
       "      <th>2</th>\n",
       "      <td>3</td>\n",
       "      <td>Martha</td>\n",
       "      <td>45</td>\n",
       "      <td>dingbat</td>\n",
       "    </tr>\n",
       "    <tr>\n",
       "      <th>3</th>\n",
       "      <td>4</td>\n",
       "      <td>Ted</td>\n",
       "      <td>10</td>\n",
       "      <td>dink</td>\n",
       "    </tr>\n",
       "    <tr>\n",
       "      <th>4</th>\n",
       "      <td>5</td>\n",
       "      <td>Asahina</td>\n",
       "      <td>25</td>\n",
       "      <td>nippon</td>\n",
       "    </tr>\n",
       "    <tr>\n",
       "      <th>5</th>\n",
       "      <td>6</td>\n",
       "      <td>Evan</td>\n",
       "      <td>40</td>\n",
       "      <td>macaca</td>\n",
       "    </tr>\n",
       "  </tbody>\n",
       "</table>\n",
       "</div>"
      ],
      "text/plain": [
       "   id     name  age password\n",
       "0   1      Joe   20     pass\n",
       "1   2   Shinji   15  nihongo\n",
       "2   3   Martha   45  dingbat\n",
       "3   4      Ted   10     dink\n",
       "4   5  Asahina   25   nippon\n",
       "5   6     Evan   40   macaca"
      ]
     },
     "execution_count": 64,
     "metadata": {},
     "output_type": "execute_result"
    }
   ],
   "source": [
    "df"
   ]
  },
  {
   "cell_type": "code",
   "execution_count": 72,
   "metadata": {},
   "outputs": [],
   "source": [
    "df_copy = df.copy()"
   ]
  },
  {
   "cell_type": "code",
   "execution_count": 73,
   "metadata": {},
   "outputs": [
    {
     "data": {
      "text/html": [
       "<div>\n",
       "<style scoped>\n",
       "    .dataframe tbody tr th:only-of-type {\n",
       "        vertical-align: middle;\n",
       "    }\n",
       "\n",
       "    .dataframe tbody tr th {\n",
       "        vertical-align: top;\n",
       "    }\n",
       "\n",
       "    .dataframe thead th {\n",
       "        text-align: right;\n",
       "    }\n",
       "</style>\n",
       "<table border=\"1\" class=\"dataframe\">\n",
       "  <thead>\n",
       "    <tr style=\"text-align: right;\">\n",
       "      <th></th>\n",
       "      <th>id</th>\n",
       "      <th>name</th>\n",
       "      <th>age</th>\n",
       "      <th>password</th>\n",
       "    </tr>\n",
       "  </thead>\n",
       "  <tbody>\n",
       "    <tr>\n",
       "      <th>0</th>\n",
       "      <td>1</td>\n",
       "      <td>Joe</td>\n",
       "      <td>20</td>\n",
       "      <td>pass</td>\n",
       "    </tr>\n",
       "    <tr>\n",
       "      <th>1</th>\n",
       "      <td>2</td>\n",
       "      <td>Shinji</td>\n",
       "      <td>15</td>\n",
       "      <td>nihongo</td>\n",
       "    </tr>\n",
       "    <tr>\n",
       "      <th>2</th>\n",
       "      <td>3</td>\n",
       "      <td>Martha</td>\n",
       "      <td>45</td>\n",
       "      <td>dingbat</td>\n",
       "    </tr>\n",
       "    <tr>\n",
       "      <th>3</th>\n",
       "      <td>4</td>\n",
       "      <td>Ted</td>\n",
       "      <td>10</td>\n",
       "      <td>dink</td>\n",
       "    </tr>\n",
       "    <tr>\n",
       "      <th>4</th>\n",
       "      <td>5</td>\n",
       "      <td>Asahina</td>\n",
       "      <td>25</td>\n",
       "      <td>nippon</td>\n",
       "    </tr>\n",
       "    <tr>\n",
       "      <th>5</th>\n",
       "      <td>6</td>\n",
       "      <td>Evan</td>\n",
       "      <td>40</td>\n",
       "      <td>macaca</td>\n",
       "    </tr>\n",
       "  </tbody>\n",
       "</table>\n",
       "</div>"
      ],
      "text/plain": [
       "   id     name  age password\n",
       "0   1      Joe   20     pass\n",
       "1   2   Shinji   15  nihongo\n",
       "2   3   Martha   45  dingbat\n",
       "3   4      Ted   10     dink\n",
       "4   5  Asahina   25   nippon\n",
       "5   6     Evan   40   macaca"
      ]
     },
     "execution_count": 73,
     "metadata": {},
     "output_type": "execute_result"
    }
   ],
   "source": [
    "df_copy"
   ]
  },
  {
   "cell_type": "code",
   "execution_count": 74,
   "metadata": {},
   "outputs": [
    {
     "data": {
      "text/plain": [
       "{'age': 100, 'id': 6, 'name': 'Robin', 'password': 'foo'}"
      ]
     },
     "execution_count": 74,
     "metadata": {},
     "output_type": "execute_result"
    }
   ],
   "source": [
    "new_entry = {}\n",
    "new_entry['id'] = 6\n",
    "new_entry['name'] = 'Robin'\n",
    "new_entry['age'] = 100\n",
    "new_entry['password'] = 'foo'\n",
    "new_entry"
   ]
  },
  {
   "cell_type": "code",
   "execution_count": 83,
   "metadata": {},
   "outputs": [],
   "source": [
    "new_entry_s = pd.Series(new_entry) # Create the series from a dic"
   ]
  },
  {
   "cell_type": "code",
   "execution_count": 84,
   "metadata": {},
   "outputs": [
    {
     "data": {
      "text/plain": [
       "age           100\n",
       "id              6\n",
       "name        Robin\n",
       "password      foo\n",
       "dtype: object"
      ]
     },
     "execution_count": 84,
     "metadata": {},
     "output_type": "execute_result"
    }
   ],
   "source": [
    "new_entry_s"
   ]
  },
  {
   "cell_type": "code",
   "execution_count": 89,
   "metadata": {},
   "outputs": [],
   "source": [
    "df_copy = df_copy.append(new_entry_s, ignore_index=True)"
   ]
  },
  {
   "cell_type": "code",
   "execution_count": 90,
   "metadata": {},
   "outputs": [
    {
     "data": {
      "text/html": [
       "<div>\n",
       "<style scoped>\n",
       "    .dataframe tbody tr th:only-of-type {\n",
       "        vertical-align: middle;\n",
       "    }\n",
       "\n",
       "    .dataframe tbody tr th {\n",
       "        vertical-align: top;\n",
       "    }\n",
       "\n",
       "    .dataframe thead th {\n",
       "        text-align: right;\n",
       "    }\n",
       "</style>\n",
       "<table border=\"1\" class=\"dataframe\">\n",
       "  <thead>\n",
       "    <tr style=\"text-align: right;\">\n",
       "      <th></th>\n",
       "      <th>id</th>\n",
       "      <th>name</th>\n",
       "      <th>age</th>\n",
       "      <th>password</th>\n",
       "    </tr>\n",
       "  </thead>\n",
       "  <tbody>\n",
       "    <tr>\n",
       "      <th>0</th>\n",
       "      <td>1</td>\n",
       "      <td>Joe</td>\n",
       "      <td>20</td>\n",
       "      <td>pass</td>\n",
       "    </tr>\n",
       "    <tr>\n",
       "      <th>1</th>\n",
       "      <td>2</td>\n",
       "      <td>Shinji</td>\n",
       "      <td>15</td>\n",
       "      <td>nihongo</td>\n",
       "    </tr>\n",
       "    <tr>\n",
       "      <th>2</th>\n",
       "      <td>3</td>\n",
       "      <td>Martha</td>\n",
       "      <td>45</td>\n",
       "      <td>dingbat</td>\n",
       "    </tr>\n",
       "    <tr>\n",
       "      <th>3</th>\n",
       "      <td>4</td>\n",
       "      <td>Ted</td>\n",
       "      <td>10</td>\n",
       "      <td>dink</td>\n",
       "    </tr>\n",
       "    <tr>\n",
       "      <th>4</th>\n",
       "      <td>5</td>\n",
       "      <td>Asahina</td>\n",
       "      <td>25</td>\n",
       "      <td>nippon</td>\n",
       "    </tr>\n",
       "    <tr>\n",
       "      <th>5</th>\n",
       "      <td>6</td>\n",
       "      <td>Evan</td>\n",
       "      <td>40</td>\n",
       "      <td>macaca</td>\n",
       "    </tr>\n",
       "    <tr>\n",
       "      <th>6</th>\n",
       "      <td>6</td>\n",
       "      <td>Robin</td>\n",
       "      <td>100</td>\n",
       "      <td>foo</td>\n",
       "    </tr>\n",
       "  </tbody>\n",
       "</table>\n",
       "</div>"
      ],
      "text/plain": [
       "   id     name  age password\n",
       "0   1      Joe   20     pass\n",
       "1   2   Shinji   15  nihongo\n",
       "2   3   Martha   45  dingbat\n",
       "3   4      Ted   10     dink\n",
       "4   5  Asahina   25   nippon\n",
       "5   6     Evan   40   macaca\n",
       "6   6    Robin  100      foo"
      ]
     },
     "execution_count": 90,
     "metadata": {},
     "output_type": "execute_result"
    }
   ],
   "source": [
    "df_copy"
   ]
  },
  {
   "cell_type": "code",
   "execution_count": 93,
   "metadata": {},
   "outputs": [
    {
     "name": "stdout",
     "output_type": "stream",
     "text": [
      "2017-12-23 16:10:02,321 INFO sqlalchemy.engine.base.Engine PRAGMA table_info(\"users\")\n",
      "2017-12-23 16:10:02,325 INFO sqlalchemy.engine.base.Engine ()\n",
      "2017-12-23 16:10:02,328 INFO sqlalchemy.engine.base.Engine PRAGMA table_info(\"users\")\n",
      "2017-12-23 16:10:02,330 INFO sqlalchemy.engine.base.Engine ()\n",
      "2017-12-23 16:10:02,333 INFO sqlalchemy.engine.base.Engine SELECT name FROM sqlite_master WHERE type='table' ORDER BY name\n",
      "2017-12-23 16:10:02,336 INFO sqlalchemy.engine.base.Engine ()\n",
      "2017-12-23 16:10:02,339 INFO sqlalchemy.engine.base.Engine PRAGMA table_info(\"users\")\n",
      "2017-12-23 16:10:02,342 INFO sqlalchemy.engine.base.Engine ()\n",
      "2017-12-23 16:10:02,346 INFO sqlalchemy.engine.base.Engine SELECT sql FROM  (SELECT * FROM sqlite_master UNION ALL   SELECT * FROM sqlite_temp_master) WHERE name = 'users' AND type = 'table'\n",
      "2017-12-23 16:10:02,349 INFO sqlalchemy.engine.base.Engine ()\n",
      "2017-12-23 16:10:02,352 INFO sqlalchemy.engine.base.Engine PRAGMA foreign_key_list(\"users\")\n",
      "2017-12-23 16:10:02,354 INFO sqlalchemy.engine.base.Engine ()\n",
      "2017-12-23 16:10:02,356 INFO sqlalchemy.engine.base.Engine SELECT sql FROM  (SELECT * FROM sqlite_master UNION ALL   SELECT * FROM sqlite_temp_master) WHERE name = 'users' AND type = 'table'\n",
      "2017-12-23 16:10:02,358 INFO sqlalchemy.engine.base.Engine ()\n",
      "2017-12-23 16:10:02,361 INFO sqlalchemy.engine.base.Engine PRAGMA index_list(\"users\")\n",
      "2017-12-23 16:10:02,363 INFO sqlalchemy.engine.base.Engine ()\n",
      "2017-12-23 16:10:02,365 INFO sqlalchemy.engine.base.Engine PRAGMA index_info(\"ix_users_index\")\n",
      "2017-12-23 16:10:02,367 INFO sqlalchemy.engine.base.Engine ()\n",
      "2017-12-23 16:10:02,370 INFO sqlalchemy.engine.base.Engine PRAGMA index_list(\"users\")\n",
      "2017-12-23 16:10:02,372 INFO sqlalchemy.engine.base.Engine ()\n",
      "2017-12-23 16:10:02,375 INFO sqlalchemy.engine.base.Engine PRAGMA index_info(\"ix_users_index\")\n",
      "2017-12-23 16:10:02,377 INFO sqlalchemy.engine.base.Engine ()\n",
      "2017-12-23 16:10:02,379 INFO sqlalchemy.engine.base.Engine SELECT sql FROM  (SELECT * FROM sqlite_master UNION ALL   SELECT * FROM sqlite_temp_master) WHERE name = 'users' AND type = 'table'\n",
      "2017-12-23 16:10:02,382 INFO sqlalchemy.engine.base.Engine ()\n",
      "2017-12-23 16:10:02,386 INFO sqlalchemy.engine.base.Engine \n",
      "DROP TABLE users\n",
      "2017-12-23 16:10:02,389 INFO sqlalchemy.engine.base.Engine ()\n",
      "2017-12-23 16:10:02,395 INFO sqlalchemy.engine.base.Engine COMMIT\n",
      "2017-12-23 16:10:02,399 INFO sqlalchemy.engine.base.Engine \n",
      "CREATE TABLE users (\n",
      "\tid BIGINT, \n",
      "\tname TEXT, \n",
      "\tage BIGINT, \n",
      "\tpassword TEXT\n",
      ")\n",
      "\n",
      "\n",
      "2017-12-23 16:10:02,402 INFO sqlalchemy.engine.base.Engine ()\n",
      "2017-12-23 16:10:02,407 INFO sqlalchemy.engine.base.Engine COMMIT\n",
      "2017-12-23 16:10:02,410 INFO sqlalchemy.engine.base.Engine BEGIN (implicit)\n",
      "2017-12-23 16:10:02,413 INFO sqlalchemy.engine.base.Engine INSERT INTO users (id, name, age, password) VALUES (?, ?, ?, ?)\n",
      "2017-12-23 16:10:02,415 INFO sqlalchemy.engine.base.Engine ((1, 'Joe', 20, 'pass'), (2, 'Shinji', 15, 'nihongo'), (3, 'Martha', 45, 'dingbat'), (4, 'Ted', 10, 'dink'), (5, 'Asahina', 25, 'nippon'), (6, 'Evan', 40, 'macaca'), (6, 'Robin', 100, 'foo'))\n",
      "2017-12-23 16:10:02,420 INFO sqlalchemy.engine.base.Engine COMMIT\n"
     ]
    }
   ],
   "source": [
    "df_copy.to_sql(name='users', con=engine, if_exists='replace', index=False)"
   ]
  },
  {
   "cell_type": "code",
   "execution_count": 94,
   "metadata": {},
   "outputs": [
    {
     "name": "stdout",
     "output_type": "stream",
     "text": [
      "2017-12-23 16:10:04,339 INFO sqlalchemy.engine.base.Engine select * from users;\n",
      "2017-12-23 16:10:04,344 INFO sqlalchemy.engine.base.Engine ()\n"
     ]
    },
    {
     "data": {
      "text/html": [
       "<div>\n",
       "<style scoped>\n",
       "    .dataframe tbody tr th:only-of-type {\n",
       "        vertical-align: middle;\n",
       "    }\n",
       "\n",
       "    .dataframe tbody tr th {\n",
       "        vertical-align: top;\n",
       "    }\n",
       "\n",
       "    .dataframe thead th {\n",
       "        text-align: right;\n",
       "    }\n",
       "</style>\n",
       "<table border=\"1\" class=\"dataframe\">\n",
       "  <thead>\n",
       "    <tr style=\"text-align: right;\">\n",
       "      <th></th>\n",
       "      <th>id</th>\n",
       "      <th>name</th>\n",
       "      <th>age</th>\n",
       "      <th>password</th>\n",
       "    </tr>\n",
       "  </thead>\n",
       "  <tbody>\n",
       "    <tr>\n",
       "      <th>0</th>\n",
       "      <td>1</td>\n",
       "      <td>Joe</td>\n",
       "      <td>20</td>\n",
       "      <td>pass</td>\n",
       "    </tr>\n",
       "    <tr>\n",
       "      <th>1</th>\n",
       "      <td>2</td>\n",
       "      <td>Shinji</td>\n",
       "      <td>15</td>\n",
       "      <td>nihongo</td>\n",
       "    </tr>\n",
       "    <tr>\n",
       "      <th>2</th>\n",
       "      <td>3</td>\n",
       "      <td>Martha</td>\n",
       "      <td>45</td>\n",
       "      <td>dingbat</td>\n",
       "    </tr>\n",
       "    <tr>\n",
       "      <th>3</th>\n",
       "      <td>4</td>\n",
       "      <td>Ted</td>\n",
       "      <td>10</td>\n",
       "      <td>dink</td>\n",
       "    </tr>\n",
       "    <tr>\n",
       "      <th>4</th>\n",
       "      <td>5</td>\n",
       "      <td>Asahina</td>\n",
       "      <td>25</td>\n",
       "      <td>nippon</td>\n",
       "    </tr>\n",
       "    <tr>\n",
       "      <th>5</th>\n",
       "      <td>6</td>\n",
       "      <td>Evan</td>\n",
       "      <td>40</td>\n",
       "      <td>macaca</td>\n",
       "    </tr>\n",
       "    <tr>\n",
       "      <th>6</th>\n",
       "      <td>6</td>\n",
       "      <td>Robin</td>\n",
       "      <td>100</td>\n",
       "      <td>foo</td>\n",
       "    </tr>\n",
       "  </tbody>\n",
       "</table>\n",
       "</div>"
      ],
      "text/plain": [
       "   id     name  age password\n",
       "0   1      Joe   20     pass\n",
       "1   2   Shinji   15  nihongo\n",
       "2   3   Martha   45  dingbat\n",
       "3   4      Ted   10     dink\n",
       "4   5  Asahina   25   nippon\n",
       "5   6     Evan   40   macaca\n",
       "6   6    Robin  100      foo"
      ]
     },
     "execution_count": 94,
     "metadata": {},
     "output_type": "execute_result"
    }
   ],
   "source": [
    "pd.read_sql_query(\"select * from users;\", conn)"
   ]
  },
  {
   "cell_type": "code",
   "execution_count": null,
   "metadata": {},
   "outputs": [],
   "source": []
  }
 ],
 "metadata": {
  "kernelspec": {
   "display_name": "Python 3",
   "language": "python",
   "name": "python3"
  },
  "language_info": {
   "codemirror_mode": {
    "name": "ipython",
    "version": 3
   },
   "file_extension": ".py",
   "mimetype": "text/x-python",
   "name": "python",
   "nbconvert_exporter": "python",
   "pygments_lexer": "ipython3",
   "version": "3.6.3"
  }
 },
 "nbformat": 4,
 "nbformat_minor": 2
}
