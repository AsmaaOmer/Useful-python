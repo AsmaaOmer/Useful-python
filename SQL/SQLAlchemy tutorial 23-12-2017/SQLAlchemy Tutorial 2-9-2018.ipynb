{
 "cells": [
  {
   "cell_type": "markdown",
   "metadata": {},
   "source": [
    "https://www.blog.pythonlibrary.org/2010/02/03/another-step-by-step-sqlalchemy-tutorial-part-1-of-2/\n",
    "\n",
    "View db with DB browser for SQLite http://sqlitebrowser.org/\n",
    "\n",
    "Cheat sheet https://www.pythonsheets.com/notes/python-sqlalchemy.html"
   ]
  },
  {
   "cell_type": "code",
   "execution_count": 1,
   "metadata": {},
   "outputs": [
    {
     "name": "stdout",
     "output_type": "stream",
     "text": [
      "1.2.7\n"
     ]
    }
   ],
   "source": [
    "import sqlalchemy\n",
    "print(sqlalchemy.__version__)"
   ]
  },
  {
   "cell_type": "code",
   "execution_count": 2,
   "metadata": {},
   "outputs": [],
   "source": [
    "from sqlalchemy import create_engine\n",
    "from sqlalchemy import MetaData, Column, Table, ForeignKey\n",
    "from sqlalchemy import Integer, String\n",
    "from sqlalchemy import inspect\n",
    "from sqlalchemy.sql import select\n",
    "from sqlalchemy.sql import and_\n",
    "import pandas as pd"
   ]
  },
  {
   "cell_type": "markdown",
   "metadata": {},
   "source": [
    "Using a postgres server"
   ]
  },
  {
   "cell_type": "code",
   "execution_count": 10,
   "metadata": {},
   "outputs": [],
   "source": [
    "from sqlalchemy import create_engine\n",
    "engine = create_engine('postgresql://localhost/robincole', echo=True)"
   ]
  },
  {
   "cell_type": "code",
   "execution_count": 11,
   "metadata": {},
   "outputs": [],
   "source": [
    "# Alternatively using sqlite\n",
    "# engine = create_engine('sqlite:///tutorial.db', echo=True)"
   ]
  },
  {
   "cell_type": "markdown",
   "metadata": {},
   "source": [
    "Next step creates the .db file"
   ]
  },
  {
   "cell_type": "code",
   "execution_count": 12,
   "metadata": {},
   "outputs": [
    {
     "name": "stdout",
     "output_type": "stream",
     "text": [
      "2018-09-02 08:11:39,962 INFO sqlalchemy.engine.base.Engine select version()\n",
      "2018-09-02 08:11:39,963 INFO sqlalchemy.engine.base.Engine {}\n",
      "2018-09-02 08:11:39,965 INFO sqlalchemy.engine.base.Engine select current_schema()\n",
      "2018-09-02 08:11:39,966 INFO sqlalchemy.engine.base.Engine {}\n",
      "2018-09-02 08:11:39,967 INFO sqlalchemy.engine.base.Engine SELECT CAST('test plain returns' AS VARCHAR(60)) AS anon_1\n",
      "2018-09-02 08:11:39,968 INFO sqlalchemy.engine.base.Engine {}\n",
      "2018-09-02 08:11:39,970 INFO sqlalchemy.engine.base.Engine SELECT CAST('test unicode returns' AS VARCHAR(60)) AS anon_1\n",
      "2018-09-02 08:11:39,970 INFO sqlalchemy.engine.base.Engine {}\n",
      "2018-09-02 08:11:39,972 INFO sqlalchemy.engine.base.Engine show standard_conforming_strings\n",
      "2018-09-02 08:11:39,972 INFO sqlalchemy.engine.base.Engine {}\n",
      "2018-09-02 08:11:39,976 INFO sqlalchemy.engine.base.Engine select relname from pg_class c join pg_namespace n on n.oid=c.relnamespace where pg_catalog.pg_table_is_visible(c.oid) and relname=%(name)s\n",
      "2018-09-02 08:11:39,977 INFO sqlalchemy.engine.base.Engine {'name': 'users'}\n",
      "2018-09-02 08:11:39,984 INFO sqlalchemy.engine.base.Engine select relname from pg_class c join pg_namespace n on n.oid=c.relnamespace where pg_catalog.pg_table_is_visible(c.oid) and relname=%(name)s\n",
      "2018-09-02 08:11:39,985 INFO sqlalchemy.engine.base.Engine {'name': 'addresses'}\n"
     ]
    }
   ],
   "source": [
    "metadata = MetaData(bind=engine)\n",
    " \n",
    "users_table = Table('users', metadata,\n",
    "                    Column('id', Integer, primary_key=True),\n",
    "                    Column('name', String(40)),\n",
    "                    Column('age', Integer),\n",
    "                    Column('password', String),\n",
    "                    )\n",
    " \n",
    "addresses_table = Table('addresses', metadata,\n",
    "                        Column('id', Integer, primary_key=True),\n",
    "                        Column('user_id', None, ForeignKey('users.id')),\n",
    "                        Column('email_address', String, nullable=False)                            \n",
    "                        )\n",
    " \n",
    "# create tables in database\n",
    "metadata.create_all()"
   ]
  },
  {
   "cell_type": "code",
   "execution_count": 13,
   "metadata": {},
   "outputs": [
    {
     "name": "stdout",
     "output_type": "stream",
     "text": [
      "2018-09-02 08:11:46,226 INFO sqlalchemy.engine.base.Engine SELECT c.relname FROM pg_class c JOIN pg_namespace n ON n.oid = c.relnamespace WHERE n.nspname = %(schema)s AND c.relkind = 'r'\n",
      "2018-09-02 08:11:46,227 INFO sqlalchemy.engine.base.Engine {'schema': 'public'}\n",
      "['users', 'addresses']\n"
     ]
    }
   ],
   "source": [
    "inspector = inspect(engine)\n",
    "\n",
    "# Get table information\n",
    "print(inspector.get_table_names())"
   ]
  },
  {
   "cell_type": "code",
   "execution_count": 14,
   "metadata": {},
   "outputs": [
    {
     "name": "stdout",
     "output_type": "stream",
     "text": [
      "2018-09-02 08:11:47,424 INFO sqlalchemy.engine.base.Engine \n",
      "            SELECT c.oid\n",
      "            FROM pg_catalog.pg_class c\n",
      "            LEFT JOIN pg_catalog.pg_namespace n ON n.oid = c.relnamespace\n",
      "            WHERE (pg_catalog.pg_table_is_visible(c.oid))\n",
      "            AND c.relname = %(table_name)s AND c.relkind in ('r', 'v', 'm', 'f')\n",
      "        \n",
      "2018-09-02 08:11:47,425 INFO sqlalchemy.engine.base.Engine {'table_name': 'users'}\n",
      "2018-09-02 08:11:47,430 INFO sqlalchemy.engine.base.Engine \n",
      "            SELECT a.attname,\n",
      "              pg_catalog.format_type(a.atttypid, a.atttypmod),\n",
      "              (SELECT pg_catalog.pg_get_expr(d.adbin, d.adrelid)\n",
      "                FROM pg_catalog.pg_attrdef d\n",
      "               WHERE d.adrelid = a.attrelid AND d.adnum = a.attnum\n",
      "               AND a.atthasdef)\n",
      "              AS DEFAULT,\n",
      "              a.attnotnull, a.attnum, a.attrelid as table_oid,\n",
      "              pgd.description as comment\n",
      "            FROM pg_catalog.pg_attribute a\n",
      "            LEFT JOIN pg_catalog.pg_description pgd ON (\n",
      "                pgd.objoid = a.attrelid AND pgd.objsubid = a.attnum)\n",
      "            WHERE a.attrelid = %(table_oid)s\n",
      "            AND a.attnum > 0 AND NOT a.attisdropped\n",
      "            ORDER BY a.attnum\n",
      "        \n",
      "2018-09-02 08:11:47,430 INFO sqlalchemy.engine.base.Engine {'table_oid': 24578}\n",
      "2018-09-02 08:11:47,437 INFO sqlalchemy.engine.base.Engine \n",
      "            SELECT t.typname as \"name\",\n",
      "               pg_catalog.format_type(t.typbasetype, t.typtypmod) as \"attype\",\n",
      "               not t.typnotnull as \"nullable\",\n",
      "               t.typdefault as \"default\",\n",
      "               pg_catalog.pg_type_is_visible(t.oid) as \"visible\",\n",
      "               n.nspname as \"schema\"\n",
      "            FROM pg_catalog.pg_type t\n",
      "               LEFT JOIN pg_catalog.pg_namespace n ON n.oid = t.typnamespace\n",
      "            WHERE t.typtype = 'd'\n",
      "        \n",
      "2018-09-02 08:11:47,438 INFO sqlalchemy.engine.base.Engine {}\n",
      "2018-09-02 08:11:47,440 INFO sqlalchemy.engine.base.Engine \n",
      "            SELECT t.typname as \"name\",\n",
      "               -- no enum defaults in 8.4 at least\n",
      "               -- t.typdefault as \"default\",\n",
      "               pg_catalog.pg_type_is_visible(t.oid) as \"visible\",\n",
      "               n.nspname as \"schema\",\n",
      "               e.enumlabel as \"label\"\n",
      "            FROM pg_catalog.pg_type t\n",
      "                 LEFT JOIN pg_catalog.pg_namespace n ON n.oid = t.typnamespace\n",
      "                 LEFT JOIN pg_catalog.pg_enum e ON t.oid = e.enumtypid\n",
      "            WHERE t.typtype = 'e'\n",
      "        ORDER BY \"schema\", \"name\", e.oid\n",
      "2018-09-02 08:11:47,441 INFO sqlalchemy.engine.base.Engine {}\n",
      "[{'name': 'id', 'type': INTEGER(), 'nullable': False, 'default': \"nextval('users_id_seq'::regclass)\", 'autoincrement': True, 'comment': None}, {'name': 'name', 'type': VARCHAR(length=40), 'nullable': True, 'default': None, 'autoincrement': False, 'comment': None}, {'name': 'age', 'type': INTEGER(), 'nullable': True, 'default': None, 'autoincrement': False, 'comment': None}, {'name': 'password', 'type': VARCHAR(), 'nullable': True, 'default': None, 'autoincrement': False, 'comment': None}]\n"
     ]
    }
   ],
   "source": [
    "# Get column information\n",
    "print(inspector.get_columns('users'))"
   ]
  },
  {
   "cell_type": "markdown",
   "metadata": {},
   "source": [
    "### Insert some data"
   ]
  },
  {
   "cell_type": "code",
   "execution_count": 15,
   "metadata": {},
   "outputs": [
    {
     "name": "stdout",
     "output_type": "stream",
     "text": [
      "2018-09-02 08:11:50,602 INFO sqlalchemy.engine.base.Engine INSERT INTO users (name, age, password) VALUES (%(name)s, %(age)s, %(password)s) RETURNING users.id\n",
      "2018-09-02 08:11:50,603 INFO sqlalchemy.engine.base.Engine {'name': 'Joe', 'age': 20, 'password': 'pass'}\n",
      "2018-09-02 08:11:50,606 INFO sqlalchemy.engine.base.Engine COMMIT\n"
     ]
    },
    {
     "data": {
      "text/plain": [
       "<sqlalchemy.engine.result.ResultProxy at 0x114525a90>"
      ]
     },
     "execution_count": 15,
     "metadata": {},
     "output_type": "execute_result"
    }
   ],
   "source": [
    "# create an Insert object\n",
    "ins = users_table.insert()\n",
    "# add values to the Insert object\n",
    "new_user = ins.values(name=\"Joe\", age=20, password=\"pass\")\n",
    " \n",
    "# create a database connection\n",
    "conn = engine.connect()\n",
    "# add user to database by executing SQL\n",
    "conn.execute(new_user)"
   ]
  },
  {
   "cell_type": "code",
   "execution_count": 16,
   "metadata": {},
   "outputs": [
    {
     "name": "stdout",
     "output_type": "stream",
     "text": [
      "2018-09-02 08:11:52,196 INFO sqlalchemy.engine.base.Engine INSERT INTO users (name, age, password) VALUES (%(name)s, %(age)s, %(password)s) RETURNING users.id\n",
      "2018-09-02 08:11:52,197 INFO sqlalchemy.engine.base.Engine {'name': 'Shinji', 'age': 15, 'password': 'nihongo'}\n",
      "2018-09-02 08:11:52,201 INFO sqlalchemy.engine.base.Engine COMMIT\n",
      "2018-09-02 08:11:52,203 INFO sqlalchemy.engine.base.Engine INSERT INTO users (name, age, password) VALUES (%(name)s, %(age)s, %(password)s) RETURNING users.id\n",
      "2018-09-02 08:11:52,204 INFO sqlalchemy.engine.base.Engine {'name': 'Martha', 'age': 45, 'password': 'dingbat'}\n",
      "2018-09-02 08:11:52,205 INFO sqlalchemy.engine.base.Engine COMMIT\n"
     ]
    }
   ],
   "source": [
    "# a connectionless way to Insert a user\n",
    "ins = users_table.insert()\n",
    "result = engine.execute(ins, name=\"Shinji\", age=15, password=\"nihongo\")\n",
    " \n",
    "# another connectionless Insert\n",
    "result = users_table.insert().execute(name=\"Martha\", age=45, password=\"dingbat\")"
   ]
  },
  {
   "cell_type": "markdown",
   "metadata": {},
   "source": [
    "Insert multiple rows"
   ]
  },
  {
   "cell_type": "code",
   "execution_count": 17,
   "metadata": {},
   "outputs": [
    {
     "name": "stdout",
     "output_type": "stream",
     "text": [
      "2018-09-02 08:11:53,434 INFO sqlalchemy.engine.base.Engine INSERT INTO users (name, age, password) VALUES (%(name)s, %(age)s, %(password)s)\n",
      "2018-09-02 08:11:53,436 INFO sqlalchemy.engine.base.Engine ({'name': 'Ted', 'age': 10, 'password': 'dink'}, {'name': 'Asahina', 'age': 25, 'password': 'nippon'}, {'name': 'Evan', 'age': 40, 'password': 'macaca'})\n",
      "2018-09-02 08:11:53,440 INFO sqlalchemy.engine.base.Engine COMMIT\n"
     ]
    },
    {
     "data": {
      "text/plain": [
       "<sqlalchemy.engine.result.ResultProxy at 0x11450ee80>"
      ]
     },
     "execution_count": 17,
     "metadata": {},
     "output_type": "execute_result"
    }
   ],
   "source": [
    "conn.execute(users_table.insert(), [\n",
    "    {\"name\": \"Ted\", \"age\":10, \"password\":\"dink\"},\n",
    "    {\"name\": \"Asahina\", \"age\":25, \"password\":\"nippon\"},\n",
    "    {\"name\": \"Evan\", \"age\":40, \"password\":\"macaca\"}\n",
    "])"
   ]
  },
  {
   "cell_type": "code",
   "execution_count": 18,
   "metadata": {},
   "outputs": [
    {
     "name": "stdout",
     "output_type": "stream",
     "text": [
      "2018-09-02 08:11:55,055 INFO sqlalchemy.engine.base.Engine SELECT users.id, users.name, users.age, users.password \n",
      "FROM users\n",
      "2018-09-02 08:11:55,056 INFO sqlalchemy.engine.base.Engine {}\n",
      "(1, 'Joe', 20, 'pass')\n",
      "(2, 'Joe', 20, 'pass')\n",
      "(3, 'Shinji', 15, 'nihongo')\n",
      "(4, 'Martha', 45, 'dingbat')\n",
      "(5, 'Ted', 10, 'dink')\n",
      "(6, 'Asahina', 25, 'nippon')\n",
      "(7, 'Evan', 40, 'macaca')\n"
     ]
    }
   ],
   "source": [
    "### Selecting\n",
    " \n",
    "s = select([users_table])\n",
    "result = s.execute()\n",
    " \n",
    "for row in result:\n",
    "    print(row)"
   ]
  },
  {
   "cell_type": "markdown",
   "metadata": {},
   "source": [
    "Get all the results in a list of tuples"
   ]
  },
  {
   "cell_type": "code",
   "execution_count": 19,
   "metadata": {},
   "outputs": [
    {
     "name": "stdout",
     "output_type": "stream",
     "text": [
      "2018-09-02 08:11:57,175 INFO sqlalchemy.engine.base.Engine SELECT users.id, users.name, users.age, users.password \n",
      "FROM users\n",
      "2018-09-02 08:11:57,177 INFO sqlalchemy.engine.base.Engine {}\n"
     ]
    }
   ],
   "source": [
    "conn = engine.connect()\n",
    "res = conn.execute(s)\n",
    "rows = res.fetchall()"
   ]
  },
  {
   "cell_type": "code",
   "execution_count": 20,
   "metadata": {},
   "outputs": [
    {
     "data": {
      "text/plain": [
       "[(1, 'Joe', 20, 'pass'),\n",
       " (2, 'Joe', 20, 'pass'),\n",
       " (3, 'Shinji', 15, 'nihongo'),\n",
       " (4, 'Martha', 45, 'dingbat'),\n",
       " (5, 'Ted', 10, 'dink'),\n",
       " (6, 'Asahina', 25, 'nippon'),\n",
       " (7, 'Evan', 40, 'macaca')]"
      ]
     },
     "execution_count": 20,
     "metadata": {},
     "output_type": "execute_result"
    }
   ],
   "source": [
    "rows"
   ]
  },
  {
   "cell_type": "code",
   "execution_count": 21,
   "metadata": {},
   "outputs": [
    {
     "name": "stdout",
     "output_type": "stream",
     "text": [
      "2018-09-02 08:11:58,262 INFO sqlalchemy.engine.base.Engine SELECT users.name, users.age \n",
      "FROM users\n",
      "2018-09-02 08:11:58,263 INFO sqlalchemy.engine.base.Engine {}\n",
      "('Joe', 20)\n",
      "('Joe', 20)\n",
      "('Shinji', 15)\n",
      "('Martha', 45)\n",
      "('Ted', 10)\n",
      "('Asahina', 25)\n",
      "('Evan', 40)\n"
     ]
    }
   ],
   "source": [
    "s = select([users_table.c.name, users_table.c.age])\n",
    "result = conn.execute(s)\n",
    "for row in result:\n",
    "    print(row)"
   ]
  },
  {
   "cell_type": "code",
   "execution_count": 22,
   "metadata": {},
   "outputs": [
    {
     "name": "stdout",
     "output_type": "stream",
     "text": [
      "2018-09-02 08:11:58,807 INFO sqlalchemy.engine.base.Engine SELECT users.id, users.name, users.age, users.password \n",
      "FROM users \n",
      "WHERE users.id > %(id_1)s\n",
      "2018-09-02 08:11:58,809 INFO sqlalchemy.engine.base.Engine {'id_1': 3}\n",
      "(4, 'Martha', 45, 'dingbat')\n",
      "(5, 'Ted', 10, 'dink')\n",
      "(6, 'Asahina', 25, 'nippon')\n",
      "(7, 'Evan', 40, 'macaca')\n"
     ]
    }
   ],
   "source": [
    "# The following is the equivalent to \n",
    "# SELECT * FROM users WHERE id > 3\n",
    "s = select([users_table], users_table.c.id > 3)\n",
    "result = conn.execute(s)\n",
    "for row in result:\n",
    "    print(row)"
   ]
  },
  {
   "cell_type": "code",
   "execution_count": 23,
   "metadata": {},
   "outputs": [
    {
     "name": "stdout",
     "output_type": "stream",
     "text": [
      "2018-09-02 08:11:59,443 INFO sqlalchemy.engine.base.Engine SELECT users.id, users.name, users.age, users.password \n",
      "FROM users \n",
      "WHERE users.name = %(name_1)s AND users.age < %(age_1)s\n",
      "2018-09-02 08:11:59,444 INFO sqlalchemy.engine.base.Engine {'name_1': 'Martha', 'age_1': 25}\n"
     ]
    }
   ],
   "source": [
    "# You can use the \"and_\" module to AND multiple fields together\n",
    "\n",
    "s = select([users_table]).where(and_(users_table.c.name == 'Martha',users_table.c.age < 25))\n",
    "\n",
    "result = conn.execute(s)\n",
    "for row in result:\n",
    "    print(row)"
   ]
  },
  {
   "cell_type": "markdown",
   "metadata": {},
   "source": [
    "## Pandas\n",
    "Lets get the data as a dataframe"
   ]
  },
  {
   "cell_type": "code",
   "execution_count": 24,
   "metadata": {},
   "outputs": [
    {
     "name": "stdout",
     "output_type": "stream",
     "text": [
      "Performing query...\n",
      "2018-09-02 08:12:02,850 INFO sqlalchemy.engine.base.Engine select relname from pg_class c join pg_namespace n on n.oid=c.relnamespace where pg_catalog.pg_table_is_visible(c.oid) and relname=%(name)s\n",
      "2018-09-02 08:12:02,850 INFO sqlalchemy.engine.base.Engine {'name': 'select * from users'}\n",
      "2018-09-02 08:12:02,855 INFO sqlalchemy.engine.base.Engine select * from users\n",
      "2018-09-02 08:12:02,855 INFO sqlalchemy.engine.base.Engine {}\n"
     ]
    }
   ],
   "source": [
    "sql = \"select * from users\"\n",
    "print('Performing query...')\n",
    "df = pd.read_sql(sql, con=engine)"
   ]
  },
  {
   "cell_type": "code",
   "execution_count": 25,
   "metadata": {},
   "outputs": [
    {
     "data": {
      "text/html": [
       "<div>\n",
       "<style scoped>\n",
       "    .dataframe tbody tr th:only-of-type {\n",
       "        vertical-align: middle;\n",
       "    }\n",
       "\n",
       "    .dataframe tbody tr th {\n",
       "        vertical-align: top;\n",
       "    }\n",
       "\n",
       "    .dataframe thead th {\n",
       "        text-align: right;\n",
       "    }\n",
       "</style>\n",
       "<table border=\"1\" class=\"dataframe\">\n",
       "  <thead>\n",
       "    <tr style=\"text-align: right;\">\n",
       "      <th></th>\n",
       "      <th>id</th>\n",
       "      <th>name</th>\n",
       "      <th>age</th>\n",
       "      <th>password</th>\n",
       "    </tr>\n",
       "  </thead>\n",
       "  <tbody>\n",
       "    <tr>\n",
       "      <th>0</th>\n",
       "      <td>1</td>\n",
       "      <td>Joe</td>\n",
       "      <td>20</td>\n",
       "      <td>pass</td>\n",
       "    </tr>\n",
       "    <tr>\n",
       "      <th>1</th>\n",
       "      <td>2</td>\n",
       "      <td>Joe</td>\n",
       "      <td>20</td>\n",
       "      <td>pass</td>\n",
       "    </tr>\n",
       "    <tr>\n",
       "      <th>2</th>\n",
       "      <td>3</td>\n",
       "      <td>Shinji</td>\n",
       "      <td>15</td>\n",
       "      <td>nihongo</td>\n",
       "    </tr>\n",
       "    <tr>\n",
       "      <th>3</th>\n",
       "      <td>4</td>\n",
       "      <td>Martha</td>\n",
       "      <td>45</td>\n",
       "      <td>dingbat</td>\n",
       "    </tr>\n",
       "    <tr>\n",
       "      <th>4</th>\n",
       "      <td>5</td>\n",
       "      <td>Ted</td>\n",
       "      <td>10</td>\n",
       "      <td>dink</td>\n",
       "    </tr>\n",
       "    <tr>\n",
       "      <th>5</th>\n",
       "      <td>6</td>\n",
       "      <td>Asahina</td>\n",
       "      <td>25</td>\n",
       "      <td>nippon</td>\n",
       "    </tr>\n",
       "    <tr>\n",
       "      <th>6</th>\n",
       "      <td>7</td>\n",
       "      <td>Evan</td>\n",
       "      <td>40</td>\n",
       "      <td>macaca</td>\n",
       "    </tr>\n",
       "  </tbody>\n",
       "</table>\n",
       "</div>"
      ],
      "text/plain": [
       "   id     name  age password\n",
       "0   1      Joe   20     pass\n",
       "1   2      Joe   20     pass\n",
       "2   3   Shinji   15  nihongo\n",
       "3   4   Martha   45  dingbat\n",
       "4   5      Ted   10     dink\n",
       "5   6  Asahina   25   nippon\n",
       "6   7     Evan   40   macaca"
      ]
     },
     "execution_count": 25,
     "metadata": {},
     "output_type": "execute_result"
    }
   ],
   "source": [
    "df"
   ]
  },
  {
   "cell_type": "code",
   "execution_count": 26,
   "metadata": {},
   "outputs": [],
   "source": [
    "df_copy = df.copy()"
   ]
  },
  {
   "cell_type": "code",
   "execution_count": 27,
   "metadata": {},
   "outputs": [
    {
     "data": {
      "text/html": [
       "<div>\n",
       "<style scoped>\n",
       "    .dataframe tbody tr th:only-of-type {\n",
       "        vertical-align: middle;\n",
       "    }\n",
       "\n",
       "    .dataframe tbody tr th {\n",
       "        vertical-align: top;\n",
       "    }\n",
       "\n",
       "    .dataframe thead th {\n",
       "        text-align: right;\n",
       "    }\n",
       "</style>\n",
       "<table border=\"1\" class=\"dataframe\">\n",
       "  <thead>\n",
       "    <tr style=\"text-align: right;\">\n",
       "      <th></th>\n",
       "      <th>id</th>\n",
       "      <th>name</th>\n",
       "      <th>age</th>\n",
       "      <th>password</th>\n",
       "    </tr>\n",
       "  </thead>\n",
       "  <tbody>\n",
       "    <tr>\n",
       "      <th>0</th>\n",
       "      <td>1</td>\n",
       "      <td>Joe</td>\n",
       "      <td>20</td>\n",
       "      <td>pass</td>\n",
       "    </tr>\n",
       "    <tr>\n",
       "      <th>1</th>\n",
       "      <td>2</td>\n",
       "      <td>Joe</td>\n",
       "      <td>20</td>\n",
       "      <td>pass</td>\n",
       "    </tr>\n",
       "    <tr>\n",
       "      <th>2</th>\n",
       "      <td>3</td>\n",
       "      <td>Shinji</td>\n",
       "      <td>15</td>\n",
       "      <td>nihongo</td>\n",
       "    </tr>\n",
       "    <tr>\n",
       "      <th>3</th>\n",
       "      <td>4</td>\n",
       "      <td>Martha</td>\n",
       "      <td>45</td>\n",
       "      <td>dingbat</td>\n",
       "    </tr>\n",
       "    <tr>\n",
       "      <th>4</th>\n",
       "      <td>5</td>\n",
       "      <td>Ted</td>\n",
       "      <td>10</td>\n",
       "      <td>dink</td>\n",
       "    </tr>\n",
       "    <tr>\n",
       "      <th>5</th>\n",
       "      <td>6</td>\n",
       "      <td>Asahina</td>\n",
       "      <td>25</td>\n",
       "      <td>nippon</td>\n",
       "    </tr>\n",
       "    <tr>\n",
       "      <th>6</th>\n",
       "      <td>7</td>\n",
       "      <td>Evan</td>\n",
       "      <td>40</td>\n",
       "      <td>macaca</td>\n",
       "    </tr>\n",
       "  </tbody>\n",
       "</table>\n",
       "</div>"
      ],
      "text/plain": [
       "   id     name  age password\n",
       "0   1      Joe   20     pass\n",
       "1   2      Joe   20     pass\n",
       "2   3   Shinji   15  nihongo\n",
       "3   4   Martha   45  dingbat\n",
       "4   5      Ted   10     dink\n",
       "5   6  Asahina   25   nippon\n",
       "6   7     Evan   40   macaca"
      ]
     },
     "execution_count": 27,
     "metadata": {},
     "output_type": "execute_result"
    }
   ],
   "source": [
    "df_copy"
   ]
  },
  {
   "cell_type": "code",
   "execution_count": 28,
   "metadata": {},
   "outputs": [
    {
     "data": {
      "text/plain": [
       "{'id': 6, 'name': 'Robin', 'age': 100, 'password': 'foo'}"
      ]
     },
     "execution_count": 28,
     "metadata": {},
     "output_type": "execute_result"
    }
   ],
   "source": [
    "new_entry = {}\n",
    "new_entry['id'] = 6\n",
    "new_entry['name'] = 'Robin'\n",
    "new_entry['age'] = 100\n",
    "new_entry['password'] = 'foo'\n",
    "new_entry"
   ]
  },
  {
   "cell_type": "code",
   "execution_count": 29,
   "metadata": {},
   "outputs": [],
   "source": [
    "new_entry_s = pd.Series(new_entry) # Create the series from a dic"
   ]
  },
  {
   "cell_type": "code",
   "execution_count": 30,
   "metadata": {},
   "outputs": [
    {
     "data": {
      "text/plain": [
       "id              6\n",
       "name        Robin\n",
       "age           100\n",
       "password      foo\n",
       "dtype: object"
      ]
     },
     "execution_count": 30,
     "metadata": {},
     "output_type": "execute_result"
    }
   ],
   "source": [
    "new_entry_s"
   ]
  },
  {
   "cell_type": "code",
   "execution_count": 31,
   "metadata": {},
   "outputs": [],
   "source": [
    "df_copy = df_copy.append(new_entry_s, ignore_index=True)"
   ]
  },
  {
   "cell_type": "code",
   "execution_count": 32,
   "metadata": {},
   "outputs": [
    {
     "data": {
      "text/html": [
       "<div>\n",
       "<style scoped>\n",
       "    .dataframe tbody tr th:only-of-type {\n",
       "        vertical-align: middle;\n",
       "    }\n",
       "\n",
       "    .dataframe tbody tr th {\n",
       "        vertical-align: top;\n",
       "    }\n",
       "\n",
       "    .dataframe thead th {\n",
       "        text-align: right;\n",
       "    }\n",
       "</style>\n",
       "<table border=\"1\" class=\"dataframe\">\n",
       "  <thead>\n",
       "    <tr style=\"text-align: right;\">\n",
       "      <th></th>\n",
       "      <th>id</th>\n",
       "      <th>name</th>\n",
       "      <th>age</th>\n",
       "      <th>password</th>\n",
       "    </tr>\n",
       "  </thead>\n",
       "  <tbody>\n",
       "    <tr>\n",
       "      <th>0</th>\n",
       "      <td>1</td>\n",
       "      <td>Joe</td>\n",
       "      <td>20</td>\n",
       "      <td>pass</td>\n",
       "    </tr>\n",
       "    <tr>\n",
       "      <th>1</th>\n",
       "      <td>2</td>\n",
       "      <td>Joe</td>\n",
       "      <td>20</td>\n",
       "      <td>pass</td>\n",
       "    </tr>\n",
       "    <tr>\n",
       "      <th>2</th>\n",
       "      <td>3</td>\n",
       "      <td>Shinji</td>\n",
       "      <td>15</td>\n",
       "      <td>nihongo</td>\n",
       "    </tr>\n",
       "    <tr>\n",
       "      <th>3</th>\n",
       "      <td>4</td>\n",
       "      <td>Martha</td>\n",
       "      <td>45</td>\n",
       "      <td>dingbat</td>\n",
       "    </tr>\n",
       "    <tr>\n",
       "      <th>4</th>\n",
       "      <td>5</td>\n",
       "      <td>Ted</td>\n",
       "      <td>10</td>\n",
       "      <td>dink</td>\n",
       "    </tr>\n",
       "    <tr>\n",
       "      <th>5</th>\n",
       "      <td>6</td>\n",
       "      <td>Asahina</td>\n",
       "      <td>25</td>\n",
       "      <td>nippon</td>\n",
       "    </tr>\n",
       "    <tr>\n",
       "      <th>6</th>\n",
       "      <td>7</td>\n",
       "      <td>Evan</td>\n",
       "      <td>40</td>\n",
       "      <td>macaca</td>\n",
       "    </tr>\n",
       "    <tr>\n",
       "      <th>7</th>\n",
       "      <td>6</td>\n",
       "      <td>Robin</td>\n",
       "      <td>100</td>\n",
       "      <td>foo</td>\n",
       "    </tr>\n",
       "  </tbody>\n",
       "</table>\n",
       "</div>"
      ],
      "text/plain": [
       "   id     name  age password\n",
       "0   1      Joe   20     pass\n",
       "1   2      Joe   20     pass\n",
       "2   3   Shinji   15  nihongo\n",
       "3   4   Martha   45  dingbat\n",
       "4   5      Ted   10     dink\n",
       "5   6  Asahina   25   nippon\n",
       "6   7     Evan   40   macaca\n",
       "7   6    Robin  100      foo"
      ]
     },
     "execution_count": 32,
     "metadata": {},
     "output_type": "execute_result"
    }
   ],
   "source": [
    "df_copy"
   ]
  },
  {
   "cell_type": "code",
   "execution_count": null,
   "metadata": {},
   "outputs": [
    {
     "name": "stdout",
     "output_type": "stream",
     "text": [
      "2018-09-02 08:12:10,054 INFO sqlalchemy.engine.base.Engine select relname from pg_class c join pg_namespace n on n.oid=c.relnamespace where pg_catalog.pg_table_is_visible(c.oid) and relname=%(name)s\n",
      "2018-09-02 08:12:10,055 INFO sqlalchemy.engine.base.Engine {'name': 'users'}\n",
      "2018-09-02 08:12:10,060 INFO sqlalchemy.engine.base.Engine select relname from pg_class c join pg_namespace n on n.oid=c.relnamespace where pg_catalog.pg_table_is_visible(c.oid) and relname=%(name)s\n",
      "2018-09-02 08:12:10,061 INFO sqlalchemy.engine.base.Engine {'name': 'users'}\n",
      "2018-09-02 08:12:10,063 INFO sqlalchemy.engine.base.Engine SELECT c.relname FROM pg_class c JOIN pg_namespace n ON n.oid = c.relnamespace WHERE n.nspname = %(schema)s AND c.relkind = 'r'\n",
      "2018-09-02 08:12:10,064 INFO sqlalchemy.engine.base.Engine {'schema': 'public'}\n",
      "2018-09-02 08:12:10,067 INFO sqlalchemy.engine.base.Engine \n",
      "            SELECT c.oid\n",
      "            FROM pg_catalog.pg_class c\n",
      "            LEFT JOIN pg_catalog.pg_namespace n ON n.oid = c.relnamespace\n",
      "            WHERE (pg_catalog.pg_table_is_visible(c.oid))\n",
      "            AND c.relname = %(table_name)s AND c.relkind in ('r', 'v', 'm', 'f')\n",
      "        \n",
      "2018-09-02 08:12:10,068 INFO sqlalchemy.engine.base.Engine {'table_name': 'users'}\n",
      "2018-09-02 08:12:10,070 INFO sqlalchemy.engine.base.Engine \n",
      "            SELECT a.attname,\n",
      "              pg_catalog.format_type(a.atttypid, a.atttypmod),\n",
      "              (SELECT pg_catalog.pg_get_expr(d.adbin, d.adrelid)\n",
      "                FROM pg_catalog.pg_attrdef d\n",
      "               WHERE d.adrelid = a.attrelid AND d.adnum = a.attnum\n",
      "               AND a.atthasdef)\n",
      "              AS DEFAULT,\n",
      "              a.attnotnull, a.attnum, a.attrelid as table_oid,\n",
      "              pgd.description as comment\n",
      "            FROM pg_catalog.pg_attribute a\n",
      "            LEFT JOIN pg_catalog.pg_description pgd ON (\n",
      "                pgd.objoid = a.attrelid AND pgd.objsubid = a.attnum)\n",
      "            WHERE a.attrelid = %(table_oid)s\n",
      "            AND a.attnum > 0 AND NOT a.attisdropped\n",
      "            ORDER BY a.attnum\n",
      "        \n",
      "2018-09-02 08:12:10,071 INFO sqlalchemy.engine.base.Engine {'table_oid': 24578}\n",
      "2018-09-02 08:12:10,077 INFO sqlalchemy.engine.base.Engine \n",
      "            SELECT t.typname as \"name\",\n",
      "               pg_catalog.format_type(t.typbasetype, t.typtypmod) as \"attype\",\n",
      "               not t.typnotnull as \"nullable\",\n",
      "               t.typdefault as \"default\",\n",
      "               pg_catalog.pg_type_is_visible(t.oid) as \"visible\",\n",
      "               n.nspname as \"schema\"\n",
      "            FROM pg_catalog.pg_type t\n",
      "               LEFT JOIN pg_catalog.pg_namespace n ON n.oid = t.typnamespace\n",
      "            WHERE t.typtype = 'd'\n",
      "        \n",
      "2018-09-02 08:12:10,078 INFO sqlalchemy.engine.base.Engine {}\n",
      "2018-09-02 08:12:10,080 INFO sqlalchemy.engine.base.Engine \n",
      "            SELECT t.typname as \"name\",\n",
      "               -- no enum defaults in 8.4 at least\n",
      "               -- t.typdefault as \"default\",\n",
      "               pg_catalog.pg_type_is_visible(t.oid) as \"visible\",\n",
      "               n.nspname as \"schema\",\n",
      "               e.enumlabel as \"label\"\n",
      "            FROM pg_catalog.pg_type t\n",
      "                 LEFT JOIN pg_catalog.pg_namespace n ON n.oid = t.typnamespace\n",
      "                 LEFT JOIN pg_catalog.pg_enum e ON t.oid = e.enumtypid\n",
      "            WHERE t.typtype = 'e'\n",
      "        ORDER BY \"schema\", \"name\", e.oid\n",
      "2018-09-02 08:12:10,081 INFO sqlalchemy.engine.base.Engine {}\n",
      "2018-09-02 08:12:10,085 INFO sqlalchemy.engine.base.Engine \n",
      "                SELECT a.attname\n",
      "                FROM pg_attribute a JOIN (\n",
      "                    SELECT unnest(ix.indkey) attnum,\n",
      "                           generate_subscripts(ix.indkey, 1) ord\n",
      "                    FROM pg_index ix\n",
      "                    WHERE ix.indrelid = %(table_oid)s AND ix.indisprimary\n",
      "                    ) k ON a.attnum=k.attnum\n",
      "                WHERE a.attrelid = %(table_oid)s\n",
      "                ORDER BY k.ord\n",
      "            \n",
      "2018-09-02 08:12:10,086 INFO sqlalchemy.engine.base.Engine {'table_oid': 24578}\n",
      "2018-09-02 08:12:10,092 INFO sqlalchemy.engine.base.Engine \n",
      "        SELECT conname\n",
      "           FROM  pg_catalog.pg_constraint r\n",
      "           WHERE r.conrelid = %(table_oid)s AND r.contype = 'p'\n",
      "           ORDER BY 1\n",
      "        \n",
      "2018-09-02 08:12:10,095 INFO sqlalchemy.engine.base.Engine {'table_oid': 24578}\n",
      "2018-09-02 08:12:10,104 INFO sqlalchemy.engine.base.Engine \n",
      "          SELECT r.conname,\n",
      "                pg_catalog.pg_get_constraintdef(r.oid, true) as condef,\n",
      "                n.nspname as conschema\n",
      "          FROM  pg_catalog.pg_constraint r,\n",
      "                pg_namespace n,\n",
      "                pg_class c\n",
      "\n",
      "          WHERE r.conrelid = %(table)s AND\n",
      "                r.contype = 'f' AND\n",
      "                c.oid = confrelid AND\n",
      "                n.oid = c.relnamespace\n",
      "          ORDER BY 1\n",
      "        \n",
      "2018-09-02 08:12:10,105 INFO sqlalchemy.engine.base.Engine {'table': 24578}\n",
      "2018-09-02 08:12:10,110 INFO sqlalchemy.engine.base.Engine \n",
      "              SELECT\n",
      "                  i.relname as relname,\n",
      "                  ix.indisunique, ix.indexprs, ix.indpred,\n",
      "                  a.attname, a.attnum, c.conrelid, ix.indkey::varchar,\n",
      "                  i.reloptions, am.amname\n",
      "              FROM\n",
      "                  pg_class t\n",
      "                        join pg_index ix on t.oid = ix.indrelid\n",
      "                        join pg_class i on i.oid = ix.indexrelid\n",
      "                        left outer join\n",
      "                            pg_attribute a\n",
      "                            on t.oid = a.attrelid and a.attnum = ANY(ix.indkey)\n",
      "                        left outer join\n",
      "                            pg_constraint c\n",
      "                            on (ix.indrelid = c.conrelid and\n",
      "                                ix.indexrelid = c.conindid and\n",
      "                                c.contype in ('p', 'u', 'x'))\n",
      "                        left outer join\n",
      "                            pg_am am\n",
      "                            on i.relam = am.oid\n",
      "              WHERE\n",
      "                  t.relkind IN ('r', 'v', 'f', 'm')\n",
      "                  and t.oid = %(table_oid)s\n",
      "                  and ix.indisprimary = 'f'\n",
      "              ORDER BY\n",
      "                  t.relname,\n",
      "                  i.relname\n",
      "            \n",
      "2018-09-02 08:12:10,112 INFO sqlalchemy.engine.base.Engine {'table_oid': 24578}\n",
      "2018-09-02 08:12:10,118 INFO sqlalchemy.engine.base.Engine \n",
      "            SELECT\n",
      "                cons.conname as name,\n",
      "                cons.conkey as key,\n",
      "                a.attnum as col_num,\n",
      "                a.attname as col_name\n",
      "            FROM\n",
      "                pg_catalog.pg_constraint cons\n",
      "                join pg_attribute a\n",
      "                  on cons.conrelid = a.attrelid AND\n",
      "                    a.attnum = ANY(cons.conkey)\n",
      "            WHERE\n",
      "                cons.conrelid = %(table_oid)s AND\n",
      "                cons.contype = 'u'\n",
      "        \n",
      "2018-09-02 08:12:10,120 INFO sqlalchemy.engine.base.Engine {'table_oid': 24578}\n",
      "2018-09-02 08:12:10,122 INFO sqlalchemy.engine.base.Engine \n",
      "            SELECT\n",
      "                cons.conname as name,\n",
      "                cons.consrc as src\n",
      "            FROM\n",
      "                pg_catalog.pg_constraint cons\n",
      "            WHERE\n",
      "                cons.conrelid = %(table_oid)s AND\n",
      "                cons.contype = 'c'\n",
      "        \n",
      "2018-09-02 08:12:10,123 INFO sqlalchemy.engine.base.Engine {'table_oid': 24578}\n",
      "2018-09-02 08:12:10,125 INFO sqlalchemy.engine.base.Engine \n",
      "            SELECT\n",
      "                pgd.description as table_comment\n",
      "            FROM\n",
      "                pg_catalog.pg_description pgd\n",
      "            WHERE\n",
      "                pgd.objsubid = 0 AND\n",
      "                pgd.objoid = %(table_oid)s\n",
      "        \n",
      "2018-09-02 08:12:10,126 INFO sqlalchemy.engine.base.Engine {'table_oid': 24578}\n",
      "2018-09-02 08:12:10,128 INFO sqlalchemy.engine.base.Engine \n",
      "DROP TABLE users\n",
      "2018-09-02 08:12:10,129 INFO sqlalchemy.engine.base.Engine {}\n"
     ]
    }
   ],
   "source": [
    "df_copy.to_sql(name='users', con=engine, if_exists='replace', index=False)"
   ]
  },
  {
   "cell_type": "code",
   "execution_count": null,
   "metadata": {},
   "outputs": [],
   "source": [
    "pd.read_sql_query(\"select * from users;\", conn)"
   ]
  },
  {
   "cell_type": "code",
   "execution_count": null,
   "metadata": {},
   "outputs": [],
   "source": []
  }
 ],
 "metadata": {
  "kernelspec": {
   "display_name": "Python 3",
   "language": "python",
   "name": "python3"
  },
  "language_info": {
   "codemirror_mode": {
    "name": "ipython",
    "version": 3
   },
   "file_extension": ".py",
   "mimetype": "text/x-python",
   "name": "python",
   "nbconvert_exporter": "python",
   "pygments_lexer": "ipython3",
   "version": "3.6.5"
  }
 },
 "nbformat": 4,
 "nbformat_minor": 2
}
