{
 "cells": [
  {
   "cell_type": "markdown",
   "metadata": {},
   "source": [
    "https://pandas.pydata.org/pandas-docs/stable/generated/pandas.DataFrame.to_sql.html\n",
    "\n",
    "data types https://www.w3schools.com/sql/sql_dates.asp\n",
    "\n",
    "Kaggle SQL https://www.kaggle.com/jsab16/sql-and-python-analysis-on-world-indicators\n",
    "\n",
    "DATE - format YYYY-MM-DD\n",
    "\n",
    "I've got the raw data in some csv, needs some cleaning. Place in pandas dataframe\n",
    "Create tables using sqlalchemy and insert data."
   ]
  },
  {
   "cell_type": "code",
   "execution_count": 1,
   "metadata": {},
   "outputs": [],
   "source": [
    "import pandas as pd\n",
    "from sqlalchemy import create_engine, inspect\n",
    "from sqlalchemy import MetaData, Column, Table, ForeignKey\n",
    "from sqlalchemy import Integer, String, Date, Float\n",
    "from datetime import datetime, timedelta"
   ]
  },
  {
   "cell_type": "markdown",
   "metadata": {},
   "source": [
    "We will need to create datetimes"
   ]
  },
  {
   "cell_type": "code",
   "execution_count": 2,
   "metadata": {},
   "outputs": [
    {
     "name": "stdout",
     "output_type": "stream",
     "text": [
      "2018-01-01\n"
     ]
    }
   ],
   "source": [
    "now = datetime.now()\n",
    "print(now.strftime(\"%Y-%m-%d\"))"
   ]
  },
  {
   "cell_type": "code",
   "execution_count": 3,
   "metadata": {},
   "outputs": [
    {
     "data": {
      "text/plain": [
       "datetime.datetime(2017, 12, 27, 12, 16, 18, 372940)"
      ]
     },
     "execution_count": 3,
     "metadata": {},
     "output_type": "execute_result"
    }
   ],
   "source": [
    "(now - timedelta(days=5))"
   ]
  },
  {
   "cell_type": "markdown",
   "metadata": {},
   "source": [
    "Lets create the database"
   ]
  },
  {
   "cell_type": "code",
   "execution_count": 4,
   "metadata": {},
   "outputs": [],
   "source": [
    "engine = create_engine('sqlite:///data.db', echo=True)"
   ]
  },
  {
   "cell_type": "code",
   "execution_count": 5,
   "metadata": {},
   "outputs": [
    {
     "name": "stdout",
     "output_type": "stream",
     "text": [
      "2018-01-01 12:16:18,433 INFO sqlalchemy.engine.base.Engine SELECT CAST('test plain returns' AS VARCHAR(60)) AS anon_1\n",
      "2018-01-01 12:16:18,477 INFO sqlalchemy.engine.base.Engine ()\n",
      "2018-01-01 12:16:18,484 INFO sqlalchemy.engine.base.Engine SELECT CAST('test unicode returns' AS VARCHAR(60)) AS anon_1\n",
      "2018-01-01 12:16:18,486 INFO sqlalchemy.engine.base.Engine ()\n"
     ]
    }
   ],
   "source": [
    "conn = engine.connect()"
   ]
  },
  {
   "cell_type": "code",
   "execution_count": 6,
   "metadata": {},
   "outputs": [
    {
     "name": "stdout",
     "output_type": "stream",
     "text": [
      "2018-01-01 12:16:18,582 INFO sqlalchemy.engine.base.Engine PRAGMA table_info(\"product\")\n",
      "2018-01-01 12:16:18,584 INFO sqlalchemy.engine.base.Engine ()\n",
      "2018-01-01 12:16:18,591 INFO sqlalchemy.engine.base.Engine PRAGMA table_info(\"orders\")\n",
      "2018-01-01 12:16:18,596 INFO sqlalchemy.engine.base.Engine ()\n",
      "2018-01-01 12:16:18,599 INFO sqlalchemy.engine.base.Engine \n",
      "CREATE TABLE product (\n",
      "\tproduct_id INTEGER NOT NULL, \n",
      "\tname VARCHAR(128), \n",
      "\trrp FLOAT, \n",
      "\tavailable_from DATE, \n",
      "\tPRIMARY KEY (product_id)\n",
      ")\n",
      "\n",
      "\n",
      "2018-01-01 12:16:18,604 INFO sqlalchemy.engine.base.Engine ()\n",
      "2018-01-01 12:16:18,617 INFO sqlalchemy.engine.base.Engine COMMIT\n",
      "2018-01-01 12:16:18,623 INFO sqlalchemy.engine.base.Engine \n",
      "CREATE TABLE orders (\n",
      "\torder_id INTEGER NOT NULL, \n",
      "\tproduct_id INTEGER, \n",
      "\tquantity INTEGER, \n",
      "\torder_price FLOAT, \n",
      "\tdispatch_date DATE, \n",
      "\tPRIMARY KEY (order_id), \n",
      "\tFOREIGN KEY(product_id) REFERENCES product (product_id)\n",
      ")\n",
      "\n",
      "\n",
      "2018-01-01 12:16:18,626 INFO sqlalchemy.engine.base.Engine ()\n",
      "2018-01-01 12:16:18,633 INFO sqlalchemy.engine.base.Engine COMMIT\n"
     ]
    }
   ],
   "source": [
    "metadata = MetaData(bind=engine)\n",
    " \n",
    "product_table = Table('product', metadata,\n",
    "                    Column('product_id', Integer, primary_key=True),\n",
    "                    Column('name', String(128)),\n",
    "                    Column('rrp', Float),\n",
    "                    Column('available_from', Date),\n",
    "                    )\n",
    " \n",
    "orders_table = Table('orders', metadata,\n",
    "                     Column('order_id', Integer, primary_key=True),\n",
    "                     Column('product_id', Integer, ForeignKey('product.product_id')),\n",
    "                     Column('quantity', Integer),\n",
    "                     Column('order_price', Float),\n",
    "                     Column('dispatch_date', Date),            \n",
    "                    )\n",
    " \n",
    "# create tables in database\n",
    "metadata.create_all()"
   ]
  },
  {
   "cell_type": "markdown",
   "metadata": {},
   "source": [
    "All looks good"
   ]
  },
  {
   "cell_type": "markdown",
   "metadata": {},
   "source": [
    "### Product\n",
    "Need to do some formatting on csv data"
   ]
  },
  {
   "cell_type": "code",
   "execution_count": 7,
   "metadata": {},
   "outputs": [
    {
     "data": {
      "text/html": [
       "<div>\n",
       "<style scoped>\n",
       "    .dataframe tbody tr th:only-of-type {\n",
       "        vertical-align: middle;\n",
       "    }\n",
       "\n",
       "    .dataframe tbody tr th {\n",
       "        vertical-align: top;\n",
       "    }\n",
       "\n",
       "    .dataframe thead th {\n",
       "        text-align: right;\n",
       "    }\n",
       "</style>\n",
       "<table border=\"1\" class=\"dataframe\">\n",
       "  <thead>\n",
       "    <tr style=\"text-align: right;\">\n",
       "      <th></th>\n",
       "      <th>product_id</th>\n",
       "      <th>name</th>\n",
       "      <th>rrp</th>\n",
       "      <th>available_from_text</th>\n",
       "    </tr>\n",
       "  </thead>\n",
       "  <tbody>\n",
       "    <tr>\n",
       "      <th>0</th>\n",
       "      <td>101</td>\n",
       "      <td>\\t Bayesian Methods for Nonlinear Classificati...</td>\n",
       "      <td>94.95</td>\n",
       "      <td>\\t (last thursday)</td>\n",
       "    </tr>\n",
       "    <tr>\n",
       "      <th>1</th>\n",
       "      <td>102</td>\n",
       "      <td>\\t (next year) in Review (preorder)</td>\n",
       "      <td>21.95</td>\n",
       "      <td>\\t (next year)</td>\n",
       "    </tr>\n",
       "    <tr>\n",
       "      <th>2</th>\n",
       "      <td>103</td>\n",
       "      <td>\\t Learn Python in Ten Minutes</td>\n",
       "      <td>2.15</td>\n",
       "      <td>(three months ago)</td>\n",
       "    </tr>\n",
       "    <tr>\n",
       "      <th>3</th>\n",
       "      <td>104</td>\n",
       "      <td>\\t sports almanac (1999-2049)</td>\n",
       "      <td>3.38</td>\n",
       "      <td>\\t (2 years ago)</td>\n",
       "    </tr>\n",
       "    <tr>\n",
       "      <th>4</th>\n",
       "      <td>105</td>\n",
       "      <td>\\t finance for dummies</td>\n",
       "      <td>84.99</td>\n",
       "      <td>\\t (1 year ago)</td>\n",
       "    </tr>\n",
       "  </tbody>\n",
       "</table>\n",
       "</div>"
      ],
      "text/plain": [
       "   product_id                                             \\tname  \\trrp  \\\n",
       "0         101  \\t Bayesian Methods for Nonlinear Classificati...  94.95   \n",
       "1         102                \\t (next year) in Review (preorder)  21.95   \n",
       "2         103                     \\t Learn Python in Ten Minutes   2.15   \n",
       "3         104                      \\t sports almanac (1999-2049)   3.38   \n",
       "4         105                             \\t finance for dummies  84.99   \n",
       "\n",
       "  \\tavailable_from_text  \n",
       "0    \\t (last thursday)  \n",
       "1        \\t (next year)  \n",
       "2    (three months ago)  \n",
       "3      \\t (2 years ago)  \n",
       "4       \\t (1 year ago)  "
      ]
     },
     "execution_count": 7,
     "metadata": {},
     "output_type": "execute_result"
    }
   ],
   "source": [
    "product = pd.read_csv('product.csv')\n",
    "product"
   ]
  },
  {
   "cell_type": "markdown",
   "metadata": {},
   "source": [
    "Lets turn available_from_text into available_from in datetime strings"
   ]
  },
  {
   "cell_type": "code",
   "execution_count": 8,
   "metadata": {},
   "outputs": [],
   "source": [
    "product['available_from'] = \"NULL\"  # Create the available_from column"
   ]
  },
  {
   "cell_type": "code",
   "execution_count": 9,
   "metadata": {},
   "outputs": [],
   "source": [
    "product.at[0, 'available_from'] = (now - timedelta(days=6)).strftime(\"%Y-%m-%d\")\n",
    "product.at[1, 'available_from'] = (now + timedelta(days=365)).strftime(\"%Y-%m-%d\")\n",
    "product.at[2, 'available_from'] = (now - timedelta(days=3*30)).strftime(\"%Y-%m-%d\")\n",
    "product.at[3, 'available_from'] = (now - timedelta(days=365*2)).strftime(\"%Y-%m-%d\")\n",
    "product.at[4, 'available_from'] = (now - timedelta(days=365*1)).strftime(\"%Y-%m-%d\")"
   ]
  },
  {
   "cell_type": "code",
   "execution_count": 10,
   "metadata": {},
   "outputs": [
    {
     "data": {
      "text/html": [
       "<div>\n",
       "<style scoped>\n",
       "    .dataframe tbody tr th:only-of-type {\n",
       "        vertical-align: middle;\n",
       "    }\n",
       "\n",
       "    .dataframe tbody tr th {\n",
       "        vertical-align: top;\n",
       "    }\n",
       "\n",
       "    .dataframe thead th {\n",
       "        text-align: right;\n",
       "    }\n",
       "</style>\n",
       "<table border=\"1\" class=\"dataframe\">\n",
       "  <thead>\n",
       "    <tr style=\"text-align: right;\">\n",
       "      <th></th>\n",
       "      <th>product_id</th>\n",
       "      <th>name</th>\n",
       "      <th>rrp</th>\n",
       "      <th>available_from_text</th>\n",
       "      <th>available_from</th>\n",
       "    </tr>\n",
       "  </thead>\n",
       "  <tbody>\n",
       "    <tr>\n",
       "      <th>0</th>\n",
       "      <td>101</td>\n",
       "      <td>\\t Bayesian Methods for Nonlinear Classificati...</td>\n",
       "      <td>94.95</td>\n",
       "      <td>\\t (last thursday)</td>\n",
       "      <td>2017-12-26</td>\n",
       "    </tr>\n",
       "    <tr>\n",
       "      <th>1</th>\n",
       "      <td>102</td>\n",
       "      <td>\\t (next year) in Review (preorder)</td>\n",
       "      <td>21.95</td>\n",
       "      <td>\\t (next year)</td>\n",
       "      <td>2019-01-01</td>\n",
       "    </tr>\n",
       "    <tr>\n",
       "      <th>2</th>\n",
       "      <td>103</td>\n",
       "      <td>\\t Learn Python in Ten Minutes</td>\n",
       "      <td>2.15</td>\n",
       "      <td>(three months ago)</td>\n",
       "      <td>2017-10-03</td>\n",
       "    </tr>\n",
       "    <tr>\n",
       "      <th>3</th>\n",
       "      <td>104</td>\n",
       "      <td>\\t sports almanac (1999-2049)</td>\n",
       "      <td>3.38</td>\n",
       "      <td>\\t (2 years ago)</td>\n",
       "      <td>2016-01-02</td>\n",
       "    </tr>\n",
       "    <tr>\n",
       "      <th>4</th>\n",
       "      <td>105</td>\n",
       "      <td>\\t finance for dummies</td>\n",
       "      <td>84.99</td>\n",
       "      <td>\\t (1 year ago)</td>\n",
       "      <td>2017-01-01</td>\n",
       "    </tr>\n",
       "  </tbody>\n",
       "</table>\n",
       "</div>"
      ],
      "text/plain": [
       "   product_id                                             \\tname  \\trrp  \\\n",
       "0         101  \\t Bayesian Methods for Nonlinear Classificati...  94.95   \n",
       "1         102                \\t (next year) in Review (preorder)  21.95   \n",
       "2         103                     \\t Learn Python in Ten Minutes   2.15   \n",
       "3         104                      \\t sports almanac (1999-2049)   3.38   \n",
       "4         105                             \\t finance for dummies  84.99   \n",
       "\n",
       "  \\tavailable_from_text available_from  \n",
       "0    \\t (last thursday)     2017-12-26  \n",
       "1        \\t (next year)     2019-01-01  \n",
       "2    (three months ago)     2017-10-03  \n",
       "3      \\t (2 years ago)     2016-01-02  \n",
       "4       \\t (1 year ago)     2017-01-01  "
      ]
     },
     "execution_count": 10,
     "metadata": {},
     "output_type": "execute_result"
    }
   ],
   "source": [
    "product"
   ]
  },
  {
   "cell_type": "code",
   "execution_count": 11,
   "metadata": {},
   "outputs": [],
   "source": [
    "product.columns = [i.strip('\\t') for i in product.columns.tolist()]"
   ]
  },
  {
   "cell_type": "code",
   "execution_count": 12,
   "metadata": {},
   "outputs": [],
   "source": [
    "product = product.drop(columns='available_from_text')"
   ]
  },
  {
   "cell_type": "code",
   "execution_count": 13,
   "metadata": {},
   "outputs": [],
   "source": [
    "product['name'] = product['name'].apply(lambda x: x.strip('\\t'))"
   ]
  },
  {
   "cell_type": "code",
   "execution_count": 14,
   "metadata": {},
   "outputs": [
    {
     "data": {
      "text/html": [
       "<div>\n",
       "<style scoped>\n",
       "    .dataframe tbody tr th:only-of-type {\n",
       "        vertical-align: middle;\n",
       "    }\n",
       "\n",
       "    .dataframe tbody tr th {\n",
       "        vertical-align: top;\n",
       "    }\n",
       "\n",
       "    .dataframe thead th {\n",
       "        text-align: right;\n",
       "    }\n",
       "</style>\n",
       "<table border=\"1\" class=\"dataframe\">\n",
       "  <thead>\n",
       "    <tr style=\"text-align: right;\">\n",
       "      <th></th>\n",
       "      <th>product_id</th>\n",
       "      <th>name</th>\n",
       "      <th>rrp</th>\n",
       "      <th>available_from</th>\n",
       "    </tr>\n",
       "  </thead>\n",
       "  <tbody>\n",
       "    <tr>\n",
       "      <th>0</th>\n",
       "      <td>101</td>\n",
       "      <td>Bayesian Methods for Nonlinear Classification...</td>\n",
       "      <td>94.95</td>\n",
       "      <td>2017-12-26</td>\n",
       "    </tr>\n",
       "    <tr>\n",
       "      <th>1</th>\n",
       "      <td>102</td>\n",
       "      <td>(next year) in Review (preorder)</td>\n",
       "      <td>21.95</td>\n",
       "      <td>2019-01-01</td>\n",
       "    </tr>\n",
       "    <tr>\n",
       "      <th>2</th>\n",
       "      <td>103</td>\n",
       "      <td>Learn Python in Ten Minutes</td>\n",
       "      <td>2.15</td>\n",
       "      <td>2017-10-03</td>\n",
       "    </tr>\n",
       "    <tr>\n",
       "      <th>3</th>\n",
       "      <td>104</td>\n",
       "      <td>sports almanac (1999-2049)</td>\n",
       "      <td>3.38</td>\n",
       "      <td>2016-01-02</td>\n",
       "    </tr>\n",
       "    <tr>\n",
       "      <th>4</th>\n",
       "      <td>105</td>\n",
       "      <td>finance for dummies</td>\n",
       "      <td>84.99</td>\n",
       "      <td>2017-01-01</td>\n",
       "    </tr>\n",
       "  </tbody>\n",
       "</table>\n",
       "</div>"
      ],
      "text/plain": [
       "   product_id                                               name    rrp  \\\n",
       "0         101   Bayesian Methods for Nonlinear Classification...  94.95   \n",
       "1         102                   (next year) in Review (preorder)  21.95   \n",
       "2         103                        Learn Python in Ten Minutes   2.15   \n",
       "3         104                         sports almanac (1999-2049)   3.38   \n",
       "4         105                                finance for dummies  84.99   \n",
       "\n",
       "  available_from  \n",
       "0     2017-12-26  \n",
       "1     2019-01-01  \n",
       "2     2017-10-03  \n",
       "3     2016-01-02  \n",
       "4     2017-01-01  "
      ]
     },
     "execution_count": 14,
     "metadata": {},
     "output_type": "execute_result"
    }
   ],
   "source": [
    "product"
   ]
  },
  {
   "cell_type": "markdown",
   "metadata": {},
   "source": [
    "Insert product into database"
   ]
  },
  {
   "cell_type": "code",
   "execution_count": 15,
   "metadata": {},
   "outputs": [
    {
     "name": "stdout",
     "output_type": "stream",
     "text": [
      "2018-01-01 12:16:18,845 INFO sqlalchemy.engine.base.Engine PRAGMA table_info(\"product\")\n",
      "2018-01-01 12:16:18,853 INFO sqlalchemy.engine.base.Engine ()\n",
      "2018-01-01 12:16:18,858 INFO sqlalchemy.engine.base.Engine BEGIN (implicit)\n",
      "2018-01-01 12:16:18,863 INFO sqlalchemy.engine.base.Engine INSERT INTO product (product_id, name, rrp, available_from) VALUES (?, ?, ?, ?)\n",
      "2018-01-01 12:16:18,865 INFO sqlalchemy.engine.base.Engine ((101, ' Bayesian Methods for Nonlinear Classification and Regression', 94.95, '2017-12-26'), (102, ' (next year) in Review (preorder)', 21.95, '2019-01-01'), (103, ' Learn Python in Ten Minutes', 2.15, '2017-10-03'), (104, ' sports almanac (1999-2049)', 3.38, '2016-01-02'), (105, ' finance for dummies', 84.99, '2017-01-01'))\n",
      "2018-01-01 12:16:18,871 INFO sqlalchemy.engine.base.Engine COMMIT\n"
     ]
    }
   ],
   "source": [
    "product.to_sql(con=engine, name=\"product\", if_exists='append', index=False)"
   ]
  },
  {
   "cell_type": "markdown",
   "metadata": {},
   "source": [
    "### Orders\n",
    "Again need to do some cleaning"
   ]
  },
  {
   "cell_type": "code",
   "execution_count": 16,
   "metadata": {},
   "outputs": [],
   "source": [
    "orders = pd.read_csv('orders.csv')"
   ]
  },
  {
   "cell_type": "markdown",
   "metadata": {},
   "source": [
    "For some reason, the indexes have unwanted whitespace so strip out"
   ]
  },
  {
   "cell_type": "code",
   "execution_count": 17,
   "metadata": {},
   "outputs": [],
   "source": [
    "orders.columns = [i.strip() for i in orders.columns.tolist()]"
   ]
  },
  {
   "cell_type": "code",
   "execution_count": 18,
   "metadata": {},
   "outputs": [
    {
     "data": {
      "text/html": [
       "<div>\n",
       "<style scoped>\n",
       "    .dataframe tbody tr th:only-of-type {\n",
       "        vertical-align: middle;\n",
       "    }\n",
       "\n",
       "    .dataframe tbody tr th {\n",
       "        vertical-align: top;\n",
       "    }\n",
       "\n",
       "    .dataframe thead th {\n",
       "        text-align: right;\n",
       "    }\n",
       "</style>\n",
       "<table border=\"1\" class=\"dataframe\">\n",
       "  <thead>\n",
       "    <tr style=\"text-align: right;\">\n",
       "      <th></th>\n",
       "      <th>order_id</th>\n",
       "      <th>product_id</th>\n",
       "      <th>quantity</th>\n",
       "      <th>order_price</th>\n",
       "      <th>dispatch_date_text</th>\n",
       "    </tr>\n",
       "  </thead>\n",
       "  <tbody>\n",
       "    <tr>\n",
       "      <th>0</th>\n",
       "      <td>1000</td>\n",
       "      <td>101</td>\n",
       "      <td>1</td>\n",
       "      <td>90.00</td>\n",
       "      <td>(two months ago)</td>\n",
       "    </tr>\n",
       "    <tr>\n",
       "      <th>1</th>\n",
       "      <td>1001</td>\n",
       "      <td>103</td>\n",
       "      <td>1</td>\n",
       "      <td>1.15</td>\n",
       "      <td>(40 days ago)</td>\n",
       "    </tr>\n",
       "    <tr>\n",
       "      <th>2</th>\n",
       "      <td>1002</td>\n",
       "      <td>101</td>\n",
       "      <td>10</td>\n",
       "      <td>90.00</td>\n",
       "      <td>(11 months ago)</td>\n",
       "    </tr>\n",
       "    <tr>\n",
       "      <th>3</th>\n",
       "      <td>1003</td>\n",
       "      <td>104</td>\n",
       "      <td>11</td>\n",
       "      <td>3.38</td>\n",
       "      <td>(6 months ago)</td>\n",
       "    </tr>\n",
       "    <tr>\n",
       "      <th>4</th>\n",
       "      <td>1004</td>\n",
       "      <td>105</td>\n",
       "      <td>11</td>\n",
       "      <td>501.33</td>\n",
       "      <td>(two years ago)</td>\n",
       "    </tr>\n",
       "  </tbody>\n",
       "</table>\n",
       "</div>"
      ],
      "text/plain": [
       "   order_id  product_id  quantity  order_price dispatch_date_text\n",
       "0      1000         101         1        90.00   (two months ago)\n",
       "1      1001         103         1         1.15      (40 days ago)\n",
       "2      1002         101        10        90.00    (11 months ago)\n",
       "3      1003         104        11         3.38     (6 months ago)\n",
       "4      1004         105        11       501.33    (two years ago)"
      ]
     },
     "execution_count": 18,
     "metadata": {},
     "output_type": "execute_result"
    }
   ],
   "source": [
    "orders"
   ]
  },
  {
   "cell_type": "code",
   "execution_count": 19,
   "metadata": {},
   "outputs": [],
   "source": [
    "orders['dispatch_date'] = \"NULL\"  # Create the available_from column"
   ]
  },
  {
   "cell_type": "code",
   "execution_count": 20,
   "metadata": {},
   "outputs": [],
   "source": [
    "orders.at[0, 'dispatch_date'] = (now - timedelta(days=2*30)).strftime(\"%Y-%m-%d\")\n",
    "orders.at[1, 'dispatch_date'] = (now - timedelta(days=40)).strftime(\"%Y-%m-%d\")\n",
    "orders.at[2, 'dispatch_date'] = (now - timedelta(days=11*30)).strftime(\"%Y-%m-%d\")\n",
    "orders.at[3, 'dispatch_date'] = (now - timedelta(days=6*30)).strftime(\"%Y-%m-%d\")\n",
    "orders.at[4, 'dispatch_date'] = (now - timedelta(days=2*365)).strftime(\"%Y-%m-%d\")"
   ]
  },
  {
   "cell_type": "code",
   "execution_count": 21,
   "metadata": {},
   "outputs": [
    {
     "data": {
      "text/html": [
       "<div>\n",
       "<style scoped>\n",
       "    .dataframe tbody tr th:only-of-type {\n",
       "        vertical-align: middle;\n",
       "    }\n",
       "\n",
       "    .dataframe tbody tr th {\n",
       "        vertical-align: top;\n",
       "    }\n",
       "\n",
       "    .dataframe thead th {\n",
       "        text-align: right;\n",
       "    }\n",
       "</style>\n",
       "<table border=\"1\" class=\"dataframe\">\n",
       "  <thead>\n",
       "    <tr style=\"text-align: right;\">\n",
       "      <th></th>\n",
       "      <th>order_id</th>\n",
       "      <th>product_id</th>\n",
       "      <th>quantity</th>\n",
       "      <th>order_price</th>\n",
       "      <th>dispatch_date</th>\n",
       "    </tr>\n",
       "  </thead>\n",
       "  <tbody>\n",
       "    <tr>\n",
       "      <th>0</th>\n",
       "      <td>1000</td>\n",
       "      <td>101</td>\n",
       "      <td>1</td>\n",
       "      <td>90.00</td>\n",
       "      <td>2017-11-02</td>\n",
       "    </tr>\n",
       "    <tr>\n",
       "      <th>1</th>\n",
       "      <td>1001</td>\n",
       "      <td>103</td>\n",
       "      <td>1</td>\n",
       "      <td>1.15</td>\n",
       "      <td>2017-11-22</td>\n",
       "    </tr>\n",
       "    <tr>\n",
       "      <th>2</th>\n",
       "      <td>1002</td>\n",
       "      <td>101</td>\n",
       "      <td>10</td>\n",
       "      <td>90.00</td>\n",
       "      <td>2017-02-05</td>\n",
       "    </tr>\n",
       "    <tr>\n",
       "      <th>3</th>\n",
       "      <td>1003</td>\n",
       "      <td>104</td>\n",
       "      <td>11</td>\n",
       "      <td>3.38</td>\n",
       "      <td>2017-07-05</td>\n",
       "    </tr>\n",
       "    <tr>\n",
       "      <th>4</th>\n",
       "      <td>1004</td>\n",
       "      <td>105</td>\n",
       "      <td>11</td>\n",
       "      <td>501.33</td>\n",
       "      <td>2016-01-02</td>\n",
       "    </tr>\n",
       "  </tbody>\n",
       "</table>\n",
       "</div>"
      ],
      "text/plain": [
       "   order_id  product_id  quantity  order_price dispatch_date\n",
       "0      1000         101         1        90.00    2017-11-02\n",
       "1      1001         103         1         1.15    2017-11-22\n",
       "2      1002         101        10        90.00    2017-02-05\n",
       "3      1003         104        11         3.38    2017-07-05\n",
       "4      1004         105        11       501.33    2016-01-02"
      ]
     },
     "execution_count": 21,
     "metadata": {},
     "output_type": "execute_result"
    }
   ],
   "source": [
    "orders = orders.drop(columns='dispatch_date_text')\n",
    "orders"
   ]
  },
  {
   "cell_type": "code",
   "execution_count": 22,
   "metadata": {},
   "outputs": [
    {
     "name": "stdout",
     "output_type": "stream",
     "text": [
      "2018-01-01 12:16:19,089 INFO sqlalchemy.engine.base.Engine PRAGMA table_info(\"orders\")\n",
      "2018-01-01 12:16:19,093 INFO sqlalchemy.engine.base.Engine ()\n",
      "2018-01-01 12:16:19,096 INFO sqlalchemy.engine.base.Engine BEGIN (implicit)\n",
      "2018-01-01 12:16:19,099 INFO sqlalchemy.engine.base.Engine INSERT INTO orders (order_id, product_id, quantity, order_price, dispatch_date) VALUES (?, ?, ?, ?, ?)\n",
      "2018-01-01 12:16:19,101 INFO sqlalchemy.engine.base.Engine ((1000, 101, 1, 90.0, '2017-11-02'), (1001, 103, 1, 1.15, '2017-11-22'), (1002, 101, 10, 90.0, '2017-02-05'), (1003, 104, 11, 3.38, '2017-07-05'), (1004, 105, 11, 501.33, '2016-01-02'))\n",
      "2018-01-01 12:16:19,105 INFO sqlalchemy.engine.base.Engine COMMIT\n"
     ]
    }
   ],
   "source": [
    "orders.to_sql(con=engine, name=\"orders\", if_exists='append', index=False)"
   ]
  },
  {
   "cell_type": "markdown",
   "metadata": {},
   "source": [
    "### Pandas dataframe analysis\n",
    "Task is to find books that have sold fewer than 10 copies in the last year, excluding books that have been available for less than a month. Create copies as dataframes and set DATE to datetime "
   ]
  },
  {
   "cell_type": "code",
   "execution_count": 23,
   "metadata": {},
   "outputs": [],
   "source": [
    "orders_df = orders # .set_index('order_id')\n",
    "orders_df['dispatch_date'] = pd.to_datetime(orders_df['dispatch_date'])\n",
    "product_df = product #.set_index('product_id')\n",
    "product_df['available_from'] = pd.to_datetime(product_df['available_from'])"
   ]
  },
  {
   "cell_type": "code",
   "execution_count": 24,
   "metadata": {},
   "outputs": [
    {
     "data": {
      "text/html": [
       "<div>\n",
       "<style scoped>\n",
       "    .dataframe tbody tr th:only-of-type {\n",
       "        vertical-align: middle;\n",
       "    }\n",
       "\n",
       "    .dataframe tbody tr th {\n",
       "        vertical-align: top;\n",
       "    }\n",
       "\n",
       "    .dataframe thead th {\n",
       "        text-align: right;\n",
       "    }\n",
       "</style>\n",
       "<table border=\"1\" class=\"dataframe\">\n",
       "  <thead>\n",
       "    <tr style=\"text-align: right;\">\n",
       "      <th></th>\n",
       "      <th>order_id</th>\n",
       "      <th>product_id</th>\n",
       "      <th>quantity</th>\n",
       "      <th>order_price</th>\n",
       "      <th>dispatch_date</th>\n",
       "    </tr>\n",
       "  </thead>\n",
       "  <tbody>\n",
       "    <tr>\n",
       "      <th>0</th>\n",
       "      <td>1000</td>\n",
       "      <td>101</td>\n",
       "      <td>1</td>\n",
       "      <td>90.00</td>\n",
       "      <td>2017-11-02</td>\n",
       "    </tr>\n",
       "    <tr>\n",
       "      <th>1</th>\n",
       "      <td>1001</td>\n",
       "      <td>103</td>\n",
       "      <td>1</td>\n",
       "      <td>1.15</td>\n",
       "      <td>2017-11-22</td>\n",
       "    </tr>\n",
       "    <tr>\n",
       "      <th>2</th>\n",
       "      <td>1002</td>\n",
       "      <td>101</td>\n",
       "      <td>10</td>\n",
       "      <td>90.00</td>\n",
       "      <td>2017-02-05</td>\n",
       "    </tr>\n",
       "    <tr>\n",
       "      <th>3</th>\n",
       "      <td>1003</td>\n",
       "      <td>104</td>\n",
       "      <td>11</td>\n",
       "      <td>3.38</td>\n",
       "      <td>2017-07-05</td>\n",
       "    </tr>\n",
       "    <tr>\n",
       "      <th>4</th>\n",
       "      <td>1004</td>\n",
       "      <td>105</td>\n",
       "      <td>11</td>\n",
       "      <td>501.33</td>\n",
       "      <td>2016-01-02</td>\n",
       "    </tr>\n",
       "  </tbody>\n",
       "</table>\n",
       "</div>"
      ],
      "text/plain": [
       "   order_id  product_id  quantity  order_price dispatch_date\n",
       "0      1000         101         1        90.00    2017-11-02\n",
       "1      1001         103         1         1.15    2017-11-22\n",
       "2      1002         101        10        90.00    2017-02-05\n",
       "3      1003         104        11         3.38    2017-07-05\n",
       "4      1004         105        11       501.33    2016-01-02"
      ]
     },
     "execution_count": 24,
     "metadata": {},
     "output_type": "execute_result"
    }
   ],
   "source": [
    "orders_df"
   ]
  },
  {
   "cell_type": "code",
   "execution_count": 25,
   "metadata": {},
   "outputs": [
    {
     "data": {
      "text/html": [
       "<div>\n",
       "<style scoped>\n",
       "    .dataframe tbody tr th:only-of-type {\n",
       "        vertical-align: middle;\n",
       "    }\n",
       "\n",
       "    .dataframe tbody tr th {\n",
       "        vertical-align: top;\n",
       "    }\n",
       "\n",
       "    .dataframe thead th {\n",
       "        text-align: right;\n",
       "    }\n",
       "</style>\n",
       "<table border=\"1\" class=\"dataframe\">\n",
       "  <thead>\n",
       "    <tr style=\"text-align: right;\">\n",
       "      <th></th>\n",
       "      <th>product_id</th>\n",
       "      <th>name</th>\n",
       "      <th>rrp</th>\n",
       "      <th>available_from</th>\n",
       "    </tr>\n",
       "  </thead>\n",
       "  <tbody>\n",
       "    <tr>\n",
       "      <th>0</th>\n",
       "      <td>101</td>\n",
       "      <td>Bayesian Methods for Nonlinear Classification...</td>\n",
       "      <td>94.95</td>\n",
       "      <td>2017-12-26</td>\n",
       "    </tr>\n",
       "    <tr>\n",
       "      <th>1</th>\n",
       "      <td>102</td>\n",
       "      <td>(next year) in Review (preorder)</td>\n",
       "      <td>21.95</td>\n",
       "      <td>2019-01-01</td>\n",
       "    </tr>\n",
       "    <tr>\n",
       "      <th>2</th>\n",
       "      <td>103</td>\n",
       "      <td>Learn Python in Ten Minutes</td>\n",
       "      <td>2.15</td>\n",
       "      <td>2017-10-03</td>\n",
       "    </tr>\n",
       "    <tr>\n",
       "      <th>3</th>\n",
       "      <td>104</td>\n",
       "      <td>sports almanac (1999-2049)</td>\n",
       "      <td>3.38</td>\n",
       "      <td>2016-01-02</td>\n",
       "    </tr>\n",
       "    <tr>\n",
       "      <th>4</th>\n",
       "      <td>105</td>\n",
       "      <td>finance for dummies</td>\n",
       "      <td>84.99</td>\n",
       "      <td>2017-01-01</td>\n",
       "    </tr>\n",
       "  </tbody>\n",
       "</table>\n",
       "</div>"
      ],
      "text/plain": [
       "   product_id                                               name    rrp  \\\n",
       "0         101   Bayesian Methods for Nonlinear Classification...  94.95   \n",
       "1         102                   (next year) in Review (preorder)  21.95   \n",
       "2         103                        Learn Python in Ten Minutes   2.15   \n",
       "3         104                         sports almanac (1999-2049)   3.38   \n",
       "4         105                                finance for dummies  84.99   \n",
       "\n",
       "  available_from  \n",
       "0     2017-12-26  \n",
       "1     2019-01-01  \n",
       "2     2017-10-03  \n",
       "3     2016-01-02  \n",
       "4     2017-01-01  "
      ]
     },
     "execution_count": 25,
     "metadata": {},
     "output_type": "execute_result"
    }
   ],
   "source": [
    "product_df"
   ]
  },
  {
   "cell_type": "markdown",
   "metadata": {},
   "source": [
    "Lets join these two tables on product_id"
   ]
  },
  {
   "cell_type": "code",
   "execution_count": 26,
   "metadata": {},
   "outputs": [
    {
     "data": {
      "text/html": [
       "<div>\n",
       "<style scoped>\n",
       "    .dataframe tbody tr th:only-of-type {\n",
       "        vertical-align: middle;\n",
       "    }\n",
       "\n",
       "    .dataframe tbody tr th {\n",
       "        vertical-align: top;\n",
       "    }\n",
       "\n",
       "    .dataframe thead th {\n",
       "        text-align: right;\n",
       "    }\n",
       "</style>\n",
       "<table border=\"1\" class=\"dataframe\">\n",
       "  <thead>\n",
       "    <tr style=\"text-align: right;\">\n",
       "      <th></th>\n",
       "      <th>order_id</th>\n",
       "      <th>product_id</th>\n",
       "      <th>quantity</th>\n",
       "      <th>order_price</th>\n",
       "      <th>dispatch_date</th>\n",
       "      <th>name</th>\n",
       "      <th>rrp</th>\n",
       "      <th>available_from</th>\n",
       "    </tr>\n",
       "  </thead>\n",
       "  <tbody>\n",
       "    <tr>\n",
       "      <th>0</th>\n",
       "      <td>1000</td>\n",
       "      <td>101</td>\n",
       "      <td>1</td>\n",
       "      <td>90.00</td>\n",
       "      <td>2017-11-02</td>\n",
       "      <td>Bayesian Methods for Nonlinear Classification...</td>\n",
       "      <td>94.95</td>\n",
       "      <td>2017-12-26</td>\n",
       "    </tr>\n",
       "    <tr>\n",
       "      <th>1</th>\n",
       "      <td>1001</td>\n",
       "      <td>103</td>\n",
       "      <td>1</td>\n",
       "      <td>1.15</td>\n",
       "      <td>2017-11-22</td>\n",
       "      <td>Learn Python in Ten Minutes</td>\n",
       "      <td>2.15</td>\n",
       "      <td>2017-10-03</td>\n",
       "    </tr>\n",
       "    <tr>\n",
       "      <th>2</th>\n",
       "      <td>1002</td>\n",
       "      <td>101</td>\n",
       "      <td>10</td>\n",
       "      <td>90.00</td>\n",
       "      <td>2017-02-05</td>\n",
       "      <td>Bayesian Methods for Nonlinear Classification...</td>\n",
       "      <td>94.95</td>\n",
       "      <td>2017-12-26</td>\n",
       "    </tr>\n",
       "    <tr>\n",
       "      <th>3</th>\n",
       "      <td>1003</td>\n",
       "      <td>104</td>\n",
       "      <td>11</td>\n",
       "      <td>3.38</td>\n",
       "      <td>2017-07-05</td>\n",
       "      <td>sports almanac (1999-2049)</td>\n",
       "      <td>3.38</td>\n",
       "      <td>2016-01-02</td>\n",
       "    </tr>\n",
       "    <tr>\n",
       "      <th>4</th>\n",
       "      <td>1004</td>\n",
       "      <td>105</td>\n",
       "      <td>11</td>\n",
       "      <td>501.33</td>\n",
       "      <td>2016-01-02</td>\n",
       "      <td>finance for dummies</td>\n",
       "      <td>84.99</td>\n",
       "      <td>2017-01-01</td>\n",
       "    </tr>\n",
       "  </tbody>\n",
       "</table>\n",
       "</div>"
      ],
      "text/plain": [
       "   order_id  product_id  quantity  order_price dispatch_date  \\\n",
       "0      1000         101         1        90.00    2017-11-02   \n",
       "1      1001         103         1         1.15    2017-11-22   \n",
       "2      1002         101        10        90.00    2017-02-05   \n",
       "3      1003         104        11         3.38    2017-07-05   \n",
       "4      1004         105        11       501.33    2016-01-02   \n",
       "\n",
       "                                                name    rrp available_from  \n",
       "0   Bayesian Methods for Nonlinear Classification...  94.95     2017-12-26  \n",
       "1                        Learn Python in Ten Minutes   2.15     2017-10-03  \n",
       "2   Bayesian Methods for Nonlinear Classification...  94.95     2017-12-26  \n",
       "3                         sports almanac (1999-2049)   3.38     2016-01-02  \n",
       "4                                finance for dummies  84.99     2017-01-01  "
      ]
     },
     "execution_count": 26,
     "metadata": {},
     "output_type": "execute_result"
    }
   ],
   "source": [
    "joined_df = orders_df.join(product_df.set_index('product_id'), on='product_id')\n",
    "joined_df"
   ]
  },
  {
   "cell_type": "markdown",
   "metadata": {},
   "source": [
    "Only interested in last year but exclude books available for less than 30 days"
   ]
  },
  {
   "cell_type": "code",
   "execution_count": 27,
   "metadata": {},
   "outputs": [
    {
     "data": {
      "text/html": [
       "<div>\n",
       "<style scoped>\n",
       "    .dataframe tbody tr th:only-of-type {\n",
       "        vertical-align: middle;\n",
       "    }\n",
       "\n",
       "    .dataframe tbody tr th {\n",
       "        vertical-align: top;\n",
       "    }\n",
       "\n",
       "    .dataframe thead th {\n",
       "        text-align: right;\n",
       "    }\n",
       "</style>\n",
       "<table border=\"1\" class=\"dataframe\">\n",
       "  <thead>\n",
       "    <tr style=\"text-align: right;\">\n",
       "      <th></th>\n",
       "      <th>order_id</th>\n",
       "      <th>product_id</th>\n",
       "      <th>quantity</th>\n",
       "      <th>order_price</th>\n",
       "      <th>dispatch_date</th>\n",
       "      <th>name</th>\n",
       "      <th>rrp</th>\n",
       "      <th>available_from</th>\n",
       "    </tr>\n",
       "  </thead>\n",
       "  <tbody>\n",
       "    <tr>\n",
       "      <th>1</th>\n",
       "      <td>1001</td>\n",
       "      <td>103</td>\n",
       "      <td>1</td>\n",
       "      <td>1.15</td>\n",
       "      <td>2017-11-22</td>\n",
       "      <td>Learn Python in Ten Minutes</td>\n",
       "      <td>2.15</td>\n",
       "      <td>2017-10-03</td>\n",
       "    </tr>\n",
       "    <tr>\n",
       "      <th>3</th>\n",
       "      <td>1003</td>\n",
       "      <td>104</td>\n",
       "      <td>11</td>\n",
       "      <td>3.38</td>\n",
       "      <td>2017-07-05</td>\n",
       "      <td>sports almanac (1999-2049)</td>\n",
       "      <td>3.38</td>\n",
       "      <td>2016-01-02</td>\n",
       "    </tr>\n",
       "  </tbody>\n",
       "</table>\n",
       "</div>"
      ],
      "text/plain": [
       "   order_id  product_id  quantity  order_price dispatch_date  \\\n",
       "1      1001         103         1         1.15    2017-11-22   \n",
       "3      1003         104        11         3.38    2017-07-05   \n",
       "\n",
       "                           name   rrp available_from  \n",
       "1   Learn Python in Ten Minutes  2.15     2017-10-03  \n",
       "3    sports almanac (1999-2049)  3.38     2016-01-02  "
      ]
     },
     "execution_count": 27,
     "metadata": {},
     "output_type": "execute_result"
    }
   ],
   "source": [
    "filtered_df = joined_df[(joined_df['dispatch_date'] > now-timedelta(days=365)) & (joined_df['available_from'] < now-timedelta(days=30))]\n",
    "filtered_df"
   ]
  },
  {
   "cell_type": "markdown",
   "metadata": {},
   "source": [
    "Since we may have multiple orders in the same year for a product, lets to a groupby to be sure we sum the number sold"
   ]
  },
  {
   "cell_type": "code",
   "execution_count": 28,
   "metadata": {},
   "outputs": [
    {
     "data": {
      "text/plain": [
       "product_id\n",
       "103     1\n",
       "104    11\n",
       "Name: quantity, dtype: int64"
      ]
     },
     "execution_count": 28,
     "metadata": {},
     "output_type": "execute_result"
    }
   ],
   "source": [
    "summed_orders_ds = filtered_df.groupby(['product_id'])['quantity'].sum()\n",
    "summed_orders_ds"
   ]
  },
  {
   "cell_type": "markdown",
   "metadata": {},
   "source": [
    "Finally we only want products with less than 10 orders"
   ]
  },
  {
   "cell_type": "code",
   "execution_count": 29,
   "metadata": {},
   "outputs": [
    {
     "data": {
      "text/plain": [
       "product_id\n",
       "103    1\n",
       "Name: quantity, dtype: int64"
      ]
     },
     "execution_count": 29,
     "metadata": {},
     "output_type": "execute_result"
    }
   ],
   "source": [
    "summed_orders_ds[summed_orders_ds < 10]"
   ]
  },
  {
   "cell_type": "markdown",
   "metadata": {},
   "source": [
    "So only product 103 qualifies"
   ]
  },
  {
   "cell_type": "markdown",
   "metadata": {},
   "source": [
    "### Database analysis\n",
    "Lets repeat this analysis process using SQL. \n",
    "Get equivalent of suitable_products_df"
   ]
  },
  {
   "cell_type": "code",
   "execution_count": 30,
   "metadata": {},
   "outputs": [
    {
     "name": "stdout",
     "output_type": "stream",
     "text": [
      "\n",
      "SELECT *\n",
      "FROM product\n",
      "INNER JOIN orders ON orders.product_id=product.product_id;\n",
      "\n",
      "2018-01-01 12:16:19,281 INFO sqlalchemy.engine.base.Engine \n",
      "SELECT *\n",
      "FROM product\n",
      "INNER JOIN orders ON orders.product_id=product.product_id;\n",
      "\n",
      "2018-01-01 12:16:19,283 INFO sqlalchemy.engine.base.Engine ()\n"
     ]
    },
    {
     "data": {
      "text/html": [
       "<div>\n",
       "<style scoped>\n",
       "    .dataframe tbody tr th:only-of-type {\n",
       "        vertical-align: middle;\n",
       "    }\n",
       "\n",
       "    .dataframe tbody tr th {\n",
       "        vertical-align: top;\n",
       "    }\n",
       "\n",
       "    .dataframe thead th {\n",
       "        text-align: right;\n",
       "    }\n",
       "</style>\n",
       "<table border=\"1\" class=\"dataframe\">\n",
       "  <thead>\n",
       "    <tr style=\"text-align: right;\">\n",
       "      <th></th>\n",
       "      <th>product_id</th>\n",
       "      <th>name</th>\n",
       "      <th>rrp</th>\n",
       "      <th>available_from</th>\n",
       "      <th>order_id</th>\n",
       "      <th>product_id</th>\n",
       "      <th>quantity</th>\n",
       "      <th>order_price</th>\n",
       "      <th>dispatch_date</th>\n",
       "    </tr>\n",
       "  </thead>\n",
       "  <tbody>\n",
       "    <tr>\n",
       "      <th>0</th>\n",
       "      <td>101</td>\n",
       "      <td>Bayesian Methods for Nonlinear Classification...</td>\n",
       "      <td>94.95</td>\n",
       "      <td>2017-12-26</td>\n",
       "      <td>1000</td>\n",
       "      <td>101</td>\n",
       "      <td>1</td>\n",
       "      <td>90.00</td>\n",
       "      <td>2017-11-02</td>\n",
       "    </tr>\n",
       "    <tr>\n",
       "      <th>1</th>\n",
       "      <td>103</td>\n",
       "      <td>Learn Python in Ten Minutes</td>\n",
       "      <td>2.15</td>\n",
       "      <td>2017-10-03</td>\n",
       "      <td>1001</td>\n",
       "      <td>103</td>\n",
       "      <td>1</td>\n",
       "      <td>1.15</td>\n",
       "      <td>2017-11-22</td>\n",
       "    </tr>\n",
       "    <tr>\n",
       "      <th>2</th>\n",
       "      <td>101</td>\n",
       "      <td>Bayesian Methods for Nonlinear Classification...</td>\n",
       "      <td>94.95</td>\n",
       "      <td>2017-12-26</td>\n",
       "      <td>1002</td>\n",
       "      <td>101</td>\n",
       "      <td>10</td>\n",
       "      <td>90.00</td>\n",
       "      <td>2017-02-05</td>\n",
       "    </tr>\n",
       "    <tr>\n",
       "      <th>3</th>\n",
       "      <td>104</td>\n",
       "      <td>sports almanac (1999-2049)</td>\n",
       "      <td>3.38</td>\n",
       "      <td>2016-01-02</td>\n",
       "      <td>1003</td>\n",
       "      <td>104</td>\n",
       "      <td>11</td>\n",
       "      <td>3.38</td>\n",
       "      <td>2017-07-05</td>\n",
       "    </tr>\n",
       "    <tr>\n",
       "      <th>4</th>\n",
       "      <td>105</td>\n",
       "      <td>finance for dummies</td>\n",
       "      <td>84.99</td>\n",
       "      <td>2017-01-01</td>\n",
       "      <td>1004</td>\n",
       "      <td>105</td>\n",
       "      <td>11</td>\n",
       "      <td>501.33</td>\n",
       "      <td>2016-01-02</td>\n",
       "    </tr>\n",
       "  </tbody>\n",
       "</table>\n",
       "</div>"
      ],
      "text/plain": [
       "   product_id                                               name    rrp  \\\n",
       "0         101   Bayesian Methods for Nonlinear Classification...  94.95   \n",
       "1         103                        Learn Python in Ten Minutes   2.15   \n",
       "2         101   Bayesian Methods for Nonlinear Classification...  94.95   \n",
       "3         104                         sports almanac (1999-2049)   3.38   \n",
       "4         105                                finance for dummies  84.99   \n",
       "\n",
       "  available_from  order_id  product_id  quantity  order_price dispatch_date  \n",
       "0     2017-12-26      1000         101         1        90.00    2017-11-02  \n",
       "1     2017-10-03      1001         103         1         1.15    2017-11-22  \n",
       "2     2017-12-26      1002         101        10        90.00    2017-02-05  \n",
       "3     2016-01-02      1003         104        11         3.38    2017-07-05  \n",
       "4     2017-01-01      1004         105        11       501.33    2016-01-02  "
      ]
     },
     "execution_count": 30,
     "metadata": {},
     "output_type": "execute_result"
    }
   ],
   "source": [
    "sql = \"\"\"\n",
    "SELECT *\n",
    "FROM product\n",
    "INNER JOIN orders ON orders.product_id=product.product_id;\n",
    "\"\"\"\n",
    "print(sql)\n",
    "pd.read_sql_query(sql, conn)"
   ]
  },
  {
   "cell_type": "markdown",
   "metadata": {},
   "source": [
    "SOLUTION"
   ]
  },
  {
   "cell_type": "code",
   "execution_count": 31,
   "metadata": {},
   "outputs": [
    {
     "name": "stdout",
     "output_type": "stream",
     "text": [
      "\n",
      "SELECT orders.product_id, SUM(orders.quantity)\n",
      "FROM orders\n",
      "INNER JOIN product ON orders.product_id=product.product_id\n",
      "WHERE product.available_from < '2017-11-27'\n",
      "AND orders.dispatch_date > '2016-12-27'\n",
      "GROUP BY orders.product_id\n",
      "HAVING SUM(orders.quantity) < 10\n",
      ";\n",
      "\n",
      "2018-01-01 12:16:19,312 INFO sqlalchemy.engine.base.Engine \n",
      "SELECT orders.product_id, SUM(orders.quantity)\n",
      "FROM orders\n",
      "INNER JOIN product ON orders.product_id=product.product_id\n",
      "WHERE product.available_from < '2017-11-27'\n",
      "AND orders.dispatch_date > '2016-12-27'\n",
      "GROUP BY orders.product_id\n",
      "HAVING SUM(orders.quantity) < 10\n",
      ";\n",
      "\n",
      "2018-01-01 12:16:19,315 INFO sqlalchemy.engine.base.Engine ()\n"
     ]
    },
    {
     "data": {
      "text/html": [
       "<div>\n",
       "<style scoped>\n",
       "    .dataframe tbody tr th:only-of-type {\n",
       "        vertical-align: middle;\n",
       "    }\n",
       "\n",
       "    .dataframe tbody tr th {\n",
       "        vertical-align: top;\n",
       "    }\n",
       "\n",
       "    .dataframe thead th {\n",
       "        text-align: right;\n",
       "    }\n",
       "</style>\n",
       "<table border=\"1\" class=\"dataframe\">\n",
       "  <thead>\n",
       "    <tr style=\"text-align: right;\">\n",
       "      <th></th>\n",
       "      <th>product_id</th>\n",
       "      <th>SUM(orders.quantity)</th>\n",
       "    </tr>\n",
       "  </thead>\n",
       "  <tbody>\n",
       "    <tr>\n",
       "      <th>0</th>\n",
       "      <td>103</td>\n",
       "      <td>1</td>\n",
       "    </tr>\n",
       "  </tbody>\n",
       "</table>\n",
       "</div>"
      ],
      "text/plain": [
       "   product_id  SUM(orders.quantity)\n",
       "0         103                     1"
      ]
     },
     "execution_count": 31,
     "metadata": {},
     "output_type": "execute_result"
    }
   ],
   "source": [
    "sql = \"\"\"\n",
    "SELECT orders.product_id, SUM(orders.quantity)\n",
    "FROM orders\n",
    "INNER JOIN product ON orders.product_id=product.product_id\n",
    "WHERE product.available_from < '2017-11-27'\n",
    "AND orders.dispatch_date > '2016-12-27'\n",
    "GROUP BY orders.product_id\n",
    "HAVING SUM(orders.quantity) < 10\n",
    ";\n",
    "\"\"\"\n",
    "print(sql)\n",
    "pd.read_sql_query(sql, conn)"
   ]
  },
  {
   "cell_type": "code",
   "execution_count": null,
   "metadata": {},
   "outputs": [],
   "source": []
  }
 ],
 "metadata": {
  "kernelspec": {
   "display_name": "Python 3",
   "language": "python",
   "name": "python3"
  },
  "language_info": {
   "codemirror_mode": {
    "name": "ipython",
    "version": 3
   },
   "file_extension": ".py",
   "mimetype": "text/x-python",
   "name": "python",
   "nbconvert_exporter": "python",
   "pygments_lexer": "ipython3",
   "version": "3.6.3"
  }
 },
 "nbformat": 4,
 "nbformat_minor": 2
}
