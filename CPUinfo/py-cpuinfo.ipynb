{
 "cells": [
  {
   "cell_type": "markdown",
   "metadata": {},
   "source": [
    "https://github.com/workhorsy/py-cpuinfo"
   ]
  },
  {
   "cell_type": "code",
   "execution_count": 3,
   "metadata": {},
   "outputs": [],
   "source": [
    "import cpuinfo\n",
    "info = cpuinfo.get_cpu_info()"
   ]
  },
  {
   "cell_type": "code",
   "execution_count": 2,
   "metadata": {},
   "outputs": [
    {
     "data": {
      "text/plain": [
       "{'python_version': '3.6.5.final.0 (64 bit)',\n",
       " 'cpuinfo_version': [5, 0, 0],\n",
       " 'arch': 'X86_64',\n",
       " 'bits': 64,\n",
       " 'count': 4,\n",
       " 'raw_arch_string': 'x86_64',\n",
       " 'vendor_id': 'GenuineIntel',\n",
       " 'brand': 'Intel(R) Core(TM) i5-7360U CPU @ 2.30GHz',\n",
       " 'hz_advertised': '2.3000 GHz',\n",
       " 'hz_actual': '2.3000 GHz',\n",
       " 'hz_advertised_raw': [2300000000, 0],\n",
       " 'hz_actual_raw': [2300000000, 0],\n",
       " 'l2_cache_size': '256',\n",
       " 'stepping': 9,\n",
       " 'model': 142,\n",
       " 'family': 6,\n",
       " 'flags': ['1gbpage',\n",
       "  'acpi',\n",
       "  'adx',\n",
       "  'aes',\n",
       "  'apic',\n",
       "  'avx1.0',\n",
       "  'avx2',\n",
       "  'bmi1',\n",
       "  'bmi2',\n",
       "  'clfsh',\n",
       "  'clfsopt',\n",
       "  'cmov',\n",
       "  'cx16',\n",
       "  'cx8',\n",
       "  'de',\n",
       "  'ds',\n",
       "  'dscpl',\n",
       "  'dtes64',\n",
       "  'em64t',\n",
       "  'erms',\n",
       "  'est',\n",
       "  'f16c',\n",
       "  'fma',\n",
       "  'fpu',\n",
       "  'fpu_csds',\n",
       "  'fxsr',\n",
       "  'hle',\n",
       "  'htt',\n",
       "  'invpcid',\n",
       "  'ipt',\n",
       "  'lahf',\n",
       "  'lzcnt',\n",
       "  'mca',\n",
       "  'mce',\n",
       "  'mmx',\n",
       "  'mon',\n",
       "  'movbe',\n",
       "  'mpx',\n",
       "  'msr',\n",
       "  'mtrr',\n",
       "  'osxsave',\n",
       "  'pae',\n",
       "  'pat',\n",
       "  'pbe',\n",
       "  'pcid',\n",
       "  'pclmulqdq',\n",
       "  'pdcm',\n",
       "  'pge',\n",
       "  'popcnt',\n",
       "  'prefetchw',\n",
       "  'pse',\n",
       "  'pse36',\n",
       "  'rdrand',\n",
       "  'rdseed',\n",
       "  'rdtscp',\n",
       "  'rdwrfsgs',\n",
       "  'rtm',\n",
       "  'seglim64',\n",
       "  'sep',\n",
       "  'sgx',\n",
       "  'smap',\n",
       "  'smep',\n",
       "  'smx',\n",
       "  'ss',\n",
       "  'sse',\n",
       "  'sse2',\n",
       "  'sse3',\n",
       "  'sse4.1',\n",
       "  'sse4.2',\n",
       "  'ssse3',\n",
       "  'syscall',\n",
       "  'tm',\n",
       "  'tm2',\n",
       "  'tpr',\n",
       "  'tsc',\n",
       "  'tsc_thread_offset',\n",
       "  'tsci',\n",
       "  'tsctmr',\n",
       "  'vme',\n",
       "  'vmx',\n",
       "  'x2apic',\n",
       "  'xd',\n",
       "  'xsave']}"
      ]
     },
     "execution_count": 2,
     "metadata": {},
     "output_type": "execute_result"
    }
   ],
   "source": [
    "info"
   ]
  },
  {
   "cell_type": "code",
   "execution_count": 5,
   "metadata": {},
   "outputs": [
    {
     "data": {
      "text/plain": [
       "'vipir-123'"
      ]
     },
     "execution_count": 5,
     "metadata": {},
     "output_type": "execute_result"
    }
   ],
   "source": [
    "'vipir-' + '123'"
   ]
  },
  {
   "cell_type": "code",
   "execution_count": null,
   "metadata": {},
   "outputs": [],
   "source": []
  }
 ],
 "metadata": {
  "kernelspec": {
   "display_name": "Python 3",
   "language": "python",
   "name": "python3"
  },
  "language_info": {
   "codemirror_mode": {
    "name": "ipython",
    "version": 3
   },
   "file_extension": ".py",
   "mimetype": "text/x-python",
   "name": "python",
   "nbconvert_exporter": "python",
   "pygments_lexer": "ipython3",
   "version": "3.6.5"
  }
 },
 "nbformat": 4,
 "nbformat_minor": 2
}
