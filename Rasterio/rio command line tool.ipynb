{
 "cells": [
  {
   "cell_type": "markdown",
   "metadata": {},
   "source": [
    "https://rasterio.readthedocs.io/en/latest/cli.html\n",
    "\n",
    "rio is rasterios command line tool. The CLI allows you to build workflows using shell commands, either interactively at the command prompt or with a script. Many common cases are covered by CLI sub-commands and it is often more convenient to use a ready-made command as opposed to implementing similar functionality as a python script."
   ]
  },
  {
   "cell_type": "code",
   "execution_count": 1,
   "metadata": {},
   "outputs": [
    {
     "name": "stdout",
     "output_type": "stream",
     "text": [
      "Usage: rio [OPTIONS] COMMAND [ARGS]...\r\n",
      "\r\n",
      "  Rasterio command line interface.\r\n",
      "\r\n",
      "Options:\r\n",
      "  -v, --verbose           Increase verbosity.\r\n",
      "  -q, --quiet             Decrease verbosity.\r\n",
      "  --aws-profile TEXT      Select a profile from the AWS credentials file\r\n",
      "  --aws-no-sign-requests  Make requests anonymously\r\n",
      "  --aws-requester-pays    Requester pays data transfer costs\r\n",
      "  --version               Show the version and exit.\r\n",
      "  --gdal-version\r\n",
      "  --help                  Show this message and exit.\r\n",
      "\r\n",
      "Commands:\r\n",
      "  blocks     Write dataset blocks as GeoJSON features.\r\n",
      "  bounds     Write bounding boxes to stdout as GeoJSON.\r\n",
      "  calc       Raster data calculator.\r\n",
      "  clip       Clip a raster to given bounds.\r\n",
      "  convert    Copy and convert raster dataset.\r\n",
      "  edit-info  Edit dataset metadata.\r\n",
      "  env        Print information about the Rasterio environment.\r\n",
      "  gcps       Print ground control points as GeoJSON.\r\n",
      "  info       Print information about a data file.\r\n",
      "  insp       Open a data file and start an interpreter.\r\n",
      "  mask       Mask in raster using features.\r\n",
      "  merge      Merge a stack of raster datasets.\r\n",
      "  overview   Construct overviews in an existing dataset.\r\n",
      "  rasterize  Rasterize features.\r\n",
      "  rm         Delete a dataset.\r\n",
      "  sample     Sample a dataset.\r\n",
      "  shapes     Write shapes extracted from bands or masks.\r\n",
      "  stack      Stack a number of bands into a multiband dataset.\r\n",
      "  transform  Transform coordinates.\r\n",
      "  warp       Warp a raster dataset.\r\n"
     ]
    }
   ],
   "source": [
    "!rio --help"
   ]
  },
  {
   "cell_type": "code",
   "execution_count": 3,
   "metadata": {},
   "outputs": [
    {
     "name": "stdout",
     "output_type": "stream",
     "text": [
      "{\r\n",
      "  \"bbox\": [\r\n",
      "    -78.95864996539396,\r\n",
      "    23.56499121089264,\r\n",
      "    -76.57492370013777,\r\n",
      "    25.55087376743434\r\n",
      "  ],\r\n",
      "  \"features\": [\r\n",
      "    {\r\n",
      "      \"bbox\": [\r\n",
      "        -78.95864996539396,\r\n",
      "        23.56499121089264,\r\n",
      "        -76.57492370013777,\r\n",
      "        25.55087376743434\r\n",
      "      ],\r\n",
      "      \"geometry\": {\r\n",
      "        \"coordinates\": [\r\n",
      "          [\r\n",
      "            [\r\n",
      "              -78.95864996539396,\r\n",
      "              23.56499121089264\r\n",
      "            ],\r\n",
      "            [\r\n",
      "              -76.57492370013777,\r\n",
      "              23.56499121089264\r\n",
      "            ],\r\n",
      "            [\r\n",
      "              -76.57492370013777,\r\n",
      "              25.55087376743434\r\n",
      "            ],\r\n",
      "            [\r\n",
      "              -78.95864996539396,\r\n",
      "              25.55087376743434\r\n",
      "            ],\r\n",
      "            [\r\n",
      "              -78.95864996539396,\r\n",
      "              23.56499121089264\r\n",
      "            ]\r\n",
      "          ]\r\n",
      "        ],\r\n",
      "        \"type\": \"Polygon\"\r\n",
      "      },\r\n",
      "      \"properties\": {\r\n",
      "        \"filename\": \"RGB.byte.tif\",\r\n",
      "        \"id\": \"0\",\r\n",
      "        \"title\": \"/Users/robincole/Documents/Github/rasterio/tests/data/RGB.byte.tif\"\r\n",
      "      },\r\n",
      "      \"type\": \"Feature\"\r\n",
      "    }\r\n",
      "  ],\r\n",
      "  \"type\": \"FeatureCollection\"\r\n",
      "}\r\n"
     ]
    }
   ],
   "source": [
    "!rio bounds /Users/robincole/Documents/Github/rasterio/tests/data/RGB.byte.tif --indent 2"
   ]
  },
  {
   "cell_type": "code",
   "execution_count": null,
   "metadata": {},
   "outputs": [],
   "source": []
  }
 ],
 "metadata": {
  "kernelspec": {
   "display_name": "Python 3",
   "language": "python",
   "name": "python3"
  },
  "language_info": {
   "codemirror_mode": {
    "name": "ipython",
    "version": 3
   },
   "file_extension": ".py",
   "mimetype": "text/x-python",
   "name": "python",
   "nbconvert_exporter": "python",
   "pygments_lexer": "ipython3",
   "version": "3.6.5"
  }
 },
 "nbformat": 4,
 "nbformat_minor": 2
}
