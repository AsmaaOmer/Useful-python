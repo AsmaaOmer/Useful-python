{
 "cells": [
  {
   "cell_type": "markdown",
   "metadata": {},
   "source": [
    "Interact with the Adafruit M0 using https://github.com/adafruit/jupyter_micropython_kernel\n",
    "\n",
    "Follow the instructions to create and edit your ```kernel.json``` file. I've included mine here. I checked the port using the Arduino app. \n",
    "\n",
    "https://github.com/adafruit/Adafruit_CircuitPython_DHT"
   ]
  },
  {
   "cell_type": "code",
   "execution_count": null,
   "metadata": {},
   "outputs": [],
   "source": [
    "print('hello world')"
   ]
  },
  {
   "cell_type": "code",
   "execution_count": 3,
   "metadata": {},
   "outputs": [
    {
     "name": "stdout",
     "output_type": "stream",
     "text": [
      "Traceback (most recent call last):\r\n",
      "  File \"<stdin>\", line 1, in <module>\r\n",
      "  File \"adafruit_dht.py\", line 38, in <module>\r\n",
      "  File \"adafruit_dht.py\", line 38, in <module>\r\n",
      "  File \"adafruit_dht.py\", line 34, in <module>\r\n",
      "ImportError: no module named 'pulseio'\r\n"
     ]
    }
   ],
   "source": [
    "import adafruit_dht"
   ]
  },
  {
   "cell_type": "code",
   "execution_count": null,
   "metadata": {},
   "outputs": [],
   "source": []
  }
 ],
 "metadata": {
  "kernelspec": {
   "display_name": "MicroPython - M0",
   "language": "micropython",
   "name": "micropython"
  },
  "language_info": {
   "file_extension": ".py",
   "mimetype": "text/x-python",
   "name": "python"
  }
 },
 "nbformat": 4,
 "nbformat_minor": 2
}
