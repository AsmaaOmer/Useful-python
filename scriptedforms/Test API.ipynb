{
 "cells": [
  {
   "cell_type": "markdown",
   "metadata": {},
   "source": [
    "https://github.com/SimonBiggs/scriptedforms\n",
    "\n",
    "https://github.com/SimonBiggs/scriptedforms/issues/77\n",
    "\n",
    "```\n",
    "scriptedforms example/example/detailed.md --token boo\n",
    "```"
   ]
  },
  {
   "cell_type": "code",
   "execution_count": 1,
   "metadata": {},
   "outputs": [
    {
     "data": {
      "text/plain": [
       "{\"[1234, 2345, 'George', custom_machine]\": {'defined': True,\n",
       "  'signature': None,\n",
       "  'timestamp': None,\n",
       "  'userid': None,\n",
       "  'value': [1234, 2345, 'George', '']},\n",
       " '_scriptedforms.__version__': '0.5.7',\n",
       " 'bye': {'defined': True,\n",
       "  'signature': None,\n",
       "  'timestamp': None,\n",
       "  'userid': None,\n",
       "  'value': True},\n",
       " 'custom_machine': {'defined': True,\n",
       "  'signature': None,\n",
       "  'timestamp': None,\n",
       "  'userid': None,\n",
       "  'value': ''},\n",
       " 'data[0]': {'defined': True,\n",
       "  'signature': None,\n",
       "  'timestamp': None,\n",
       "  'userid': None,\n",
       "  'value': 15.0},\n",
       " 'data[1]': {'defined': True,\n",
       "  'signature': None,\n",
       "  'timestamp': None,\n",
       "  'userid': None,\n",
       "  'value': 10.0},\n",
       " 'data[2]': {'defined': True,\n",
       "  'signature': None,\n",
       "  'timestamp': None,\n",
       "  'userid': None,\n",
       "  'value': 2.6},\n",
       " 'hello': {'defined': True,\n",
       "  'signature': None,\n",
       "  'timestamp': None,\n",
       "  'userid': None,\n",
       "  'value': False},\n",
       " 'machine': {'defined': True,\n",
       "  'signature': None,\n",
       "  'timestamp': None,\n",
       "  'userid': None,\n",
       "  'value': 2345},\n",
       " 'notes': {'defined': False},\n",
       " 'submit_count >= 10': {'defined': True,\n",
       "  'signature': None,\n",
       "  'timestamp': None,\n",
       "  'userid': None,\n",
       "  'value': False},\n",
       " 'table': {'defined': True,\n",
       "  'signature': None,\n",
       "  'timestamp': None,\n",
       "  'userid': None,\n",
       "  'value': {'data': [{'Avg': None,\n",
       "     'Meas1': 1,\n",
       "     'Meas2': None,\n",
       "     'Meas3': None,\n",
       "     'index': '6MV'},\n",
       "    {'Avg': None, 'Meas1': 4, 'Meas2': 5.0, 'Meas3': None, 'index': '10MV'}],\n",
       "   'schema': {'fields': [{'name': 'index', 'type': 'string'},\n",
       "     {'name': 'Meas1', 'type': 'integer'},\n",
       "     {'name': 'Meas2', 'type': 'number'},\n",
       "     {'name': 'Meas3', 'type': 'number'},\n",
       "     {'name': 'Avg', 'type': 'number'}],\n",
       "    'pandas_version': '0.20.0',\n",
       "    'primaryKey': ['index']}}},\n",
       " 'world': {'defined': True,\n",
       "  'signature': None,\n",
       "  'timestamp': None,\n",
       "  'userid': None,\n",
       "  'value': False}}"
      ]
     },
     "metadata": {},
     "output_type": "display_data"
    }
   ],
   "source": [
    "import requests\n",
    "import json\n",
    "from IPython.display import display\n",
    "\n",
    "result = requests.get('http://localhost:8889/scriptedforms-api/v1/variables/detailed.md?token=boo')\n",
    "display(json.loads(result.text))"
   ]
  },
  {
   "cell_type": "code",
   "execution_count": 2,
   "metadata": {},
   "outputs": [
    {
     "data": {
      "text/plain": [
       "[[{'text/markdown': 'Submitted 1 times!',\n",
       "   'text/plain': '<IPython.core.display.Markdown object>'}]]"
      ]
     },
     "metadata": {},
     "output_type": "display_data"
    }
   ],
   "source": [
    "result = requests.post('http://localhost:8889/scriptedforms-api/v1/section/detailed.md?token=boo', data='submit')\n",
    "display(json.loads(result.text))"
   ]
  },
  {
   "cell_type": "code",
   "execution_count": 4,
   "metadata": {},
   "outputs": [
    {
     "data": {
      "text/plain": [
       "[{'text/plain': '[<matplotlib.lines.Line2D at 0x111e16908>]'},\n",
       " {'image/png': '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\\n',\n",
       "  'text/plain': '<Figure size 432x288 with 1 Axes>'}]"
      ]
     },
     "metadata": {},
     "output_type": "display_data"
    }
   ],
   "source": [
    "result = requests.post('http://localhost:8889/scriptedforms-api/v1/code/detailed.md?token=boo', data='plt.plot(data)')\n",
    "display(json.loads(result.text))"
   ]
  },
  {
   "cell_type": "code",
   "execution_count": 7,
   "metadata": {},
   "outputs": [
    {
     "data": {
      "image/png": "[encoded data removed]"
     },
     "metadata": {},
     "output_type": "display_data"
    }
   ],
   "source": [
    "import requests\n",
    "import json\n",
    "from IPython.display import display, display_png\n",
    "\n",
    "result = requests.post('http://localhost:8889/scriptedforms-api/v1/code/detailed.md?token=boo', data=\"plt.plot([1,2,3,1], 'o')\")\n",
    "png = json.loads(result.text)[1]['image/png'][:-1]\n",
    "display_png(png, raw=True)"
   ]
  },
  {
   "cell_type": "code",
   "execution_count": null,
   "metadata": {},
   "outputs": [],
   "source": []
  }
 ],
 "metadata": {
  "kernelspec": {
   "display_name": "Python 3",
   "language": "python",
   "name": "python3"
  },
  "language_info": {
   "codemirror_mode": {
    "name": "ipython",
    "version": 3
   },
   "file_extension": ".py",
   "mimetype": "text/x-python",
   "name": "python",
   "nbconvert_exporter": "python",
   "pygments_lexer": "ipython3",
   "version": "3.6.3"
  }
 },
 "nbformat": 4,
 "nbformat_minor": 2
}
