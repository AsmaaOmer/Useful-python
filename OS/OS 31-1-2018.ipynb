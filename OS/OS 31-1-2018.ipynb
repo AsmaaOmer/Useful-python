{
 "cells": [
  {
   "cell_type": "markdown",
   "metadata": {},
   "source": [
    "Get the number for files in a folder, get the last modified and print the time last modified."
   ]
  },
  {
   "cell_type": "code",
   "execution_count": 62,
   "metadata": {},
   "outputs": [
    {
     "name": "stdout",
     "output_type": "stream",
     "text": [
      "The number of files is 17\n"
     ]
    }
   ],
   "source": [
    "import os\n",
    "import glob\n",
    "from datetime import datetime\n",
    "\n",
    "DATE_STR_FORMAT = \"%Y-%m-%d %H:%M:%S\"\n",
    "\n",
    "search_term = \"*.png\"\n",
    "#search_term = \"*.jpg\"\n",
    "path = \"/Users/robincole/Pictures/\"\n",
    "files = glob.glob(path + search_term) # * means all if need specific format then *.csv\n",
    "print(\"The number of files is {}\".format(len(files)))"
   ]
  },
  {
   "cell_type": "code",
   "execution_count": 63,
   "metadata": {},
   "outputs": [
    {
     "name": "stdout",
     "output_type": "stream",
     "text": [
      "/Users/robincole/Pictures/on_main.png\n"
     ]
    }
   ],
   "source": [
    "files = sorted(files, key=os.path.getmtime) # sort by \n",
    "latest_file = files[0]\n",
    "print(latest_file)"
   ]
  },
  {
   "cell_type": "code",
   "execution_count": 64,
   "metadata": {},
   "outputs": [
    {
     "name": "stdout",
     "output_type": "stream",
     "text": [
      "2017-09-04 06:37:46\n"
     ]
    }
   ],
   "source": [
    "print(datetime.fromtimestamp(os.path.getmtime(latest_file)).strftime(DATE_STR_FORMAT))"
   ]
  },
  {
   "cell_type": "code",
   "execution_count": null,
   "metadata": {},
   "outputs": [],
   "source": []
  }
 ],
 "metadata": {
  "kernelspec": {
   "display_name": "Python 3",
   "language": "python",
   "name": "python3"
  },
  "language_info": {
   "codemirror_mode": {
    "name": "ipython",
    "version": 3
   },
   "file_extension": ".py",
   "mimetype": "text/x-python",
   "name": "python",
   "nbconvert_exporter": "python",
   "pygments_lexer": "ipython3",
   "version": "3.6.3"
  }
 },
 "nbformat": 4,
 "nbformat_minor": 2
}
