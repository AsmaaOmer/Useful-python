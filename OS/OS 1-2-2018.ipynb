{
 "cells": [
  {
   "cell_type": "markdown",
   "metadata": {},
   "source": [
    "Get the number for files in a folder, get the last modified and print the time last modified.\n",
    "Usage of glob preferred over os.listdir as handles non file objects without exceptions."
   ]
  },
  {
   "cell_type": "code",
   "execution_count": 1,
   "metadata": {},
   "outputs": [
    {
     "name": "stdout",
     "output_type": "stream",
     "text": [
      "/Users/robincole/Google drive/\n"
     ]
    },
    {
     "data": {
      "text/plain": [
       "True"
      ]
     },
     "execution_count": 1,
     "metadata": {},
     "output_type": "execute_result"
    }
   ],
   "source": [
    "import os\n",
    "import glob\n",
    "from datetime import datetime as dt\n",
    "\n",
    "DATE_STR_FORMAT = \"%Y-%m-%d %H:%M:%S\" # Tha HA default format\n",
    "\n",
    "folder_path = \"/Users/robincole/Google drive\"\n",
    "folder_path = os.path.join(folder_path, '')  # If no trailing /, then add\n",
    "print(folder_path)\n",
    "os.path.isdir(folder_path)  # Check valid path"
   ]
  },
  {
   "cell_type": "code",
   "execution_count": 2,
   "metadata": {},
   "outputs": [
    {
     "data": {
      "text/plain": [
       "'Google drive'"
      ]
     },
     "execution_count": 2,
     "metadata": {},
     "output_type": "execute_result"
    }
   ],
   "source": [
    "name = folder_path.split('/')[-2]\n",
    "name"
   ]
  },
  {
   "cell_type": "code",
   "execution_count": 3,
   "metadata": {},
   "outputs": [
    {
     "name": "stdout",
     "output_type": "stream",
     "text": [
      "/Users/robincole/Google drive/*\n",
      "The number of files is 15\n"
     ]
    }
   ],
   "source": [
    "filter_term = \"*.png\"   # Enter a filter on term\n",
    "#filter_term = \"*.jpg\"\n",
    "filter_term = \"*\" \n",
    "\n",
    "query = folder_path + filter_term\n",
    "print(query)\n",
    "files = glob.glob(query) # * means all if need specific format then *.csv\n",
    "print(\"The number of files is {}\".format(len(files)))"
   ]
  },
  {
   "cell_type": "code",
   "execution_count": 4,
   "metadata": {},
   "outputs": [
    {
     "name": "stdout",
     "output_type": "stream",
     "text": [
      "foo.txt\n"
     ]
    }
   ],
   "source": [
    "files = sorted(files, key=os.path.getmtime) # sort by modified time, most recent first.\n",
    "latest_file = files[-1].split('/')[-1]\n",
    "print(latest_file)"
   ]
  },
  {
   "cell_type": "code",
   "execution_count": 5,
   "metadata": {},
   "outputs": [
    {
     "name": "stdout",
     "output_type": "stream",
     "text": [
      "2016-12-27 08:59:24\n"
     ]
    }
   ],
   "source": [
    "print(dt.fromtimestamp(os.path.getmtime(files[0])).strftime(DATE_STR_FORMAT))"
   ]
  },
  {
   "cell_type": "markdown",
   "metadata": {},
   "source": [
    "# Helper functions\n",
    "Reproduce this processing with readable helper functions."
   ]
  },
  {
   "cell_type": "code",
   "execution_count": 6,
   "metadata": {},
   "outputs": [
    {
     "data": {
      "text/plain": [
       "['/Users/robincole/Google drive/Gra_dream_3_mosaic.jpg',\n",
       " '/Users/robincole/Google drive/Gra_dream_1.jpg',\n",
       " '/Users/robincole/Google drive/Gra_dream_2.jpg',\n",
       " '/Users/robincole/Google drive/NPL cover statement v2 26-4-11.docx.gdoc',\n",
       " '/Users/robincole/Google drive/NPL cover statement v2 26-4-11.docx (1).gdoc',\n",
       " '/Users/robincole/Google drive/NPL cover statement v2 26-4-11.gdoc',\n",
       " '/Users/robincole/Google drive/bill.pdf',\n",
       " '/Users/robincole/Google drive/UQ.mbtiles',\n",
       " '/Users/robincole/Google drive/Report.gdoc',\n",
       " '/Users/robincole/Google drive/home-assistant_v2.db',\n",
       " '/Users/robincole/Google drive/Colab Notebooks',\n",
       " '/Users/robincole/Google drive/Photos',\n",
       " '/Users/robincole/Google drive/lesson1.ipynb',\n",
       " '/Users/robincole/Google drive/Icon\\r',\n",
       " '/Users/robincole/Google drive/foo.txt']"
      ]
     },
     "execution_count": 6,
     "metadata": {},
     "output_type": "execute_result"
    }
   ],
   "source": [
    "def get_sorted_files_list(folder_path, filter_term):\n",
    "    \"\"\"Rerturn the sorted list of files in a directory, applying filter.\n",
    "    List entired sorted by modified time, with most recent first.\"\"\"\n",
    "    folder_path = os.path.join(folder_path, '') # If no trailing /, then add\n",
    "    files_list = glob.glob(folder_path + filter_term)\n",
    "    sorted_files_list = sorted(files_list, key=os.path.getmtime)\n",
    "    return sorted_files_list\n",
    "\n",
    "sorted_files_list = get_sorted_files_list(folder_path, filter_term)\n",
    "sorted_files_list"
   ]
  },
  {
   "cell_type": "code",
   "execution_count": 7,
   "metadata": {},
   "outputs": [
    {
     "data": {
      "text/plain": [
       "15"
      ]
     },
     "execution_count": 7,
     "metadata": {},
     "output_type": "execute_result"
    }
   ],
   "source": [
    "def get_number_of_files(files_list):\n",
    "    \"\"\"Rerturn the number of files in a list of files.\"\"\"\n",
    "    number_of_files = len(files_list)\n",
    "    return number_of_files\n",
    "\n",
    "get_number_of_files(sorted_files_list)"
   ]
  },
  {
   "cell_type": "code",
   "execution_count": 8,
   "metadata": {},
   "outputs": [
    {
     "data": {
      "text/plain": [
       "'foo.txt'"
      ]
     },
     "execution_count": 8,
     "metadata": {},
     "output_type": "execute_result"
    }
   ],
   "source": [
    "def get_recent_modified_file(sorted_files_list):\n",
    "    \"\"\"Rerturn the most recently modified file.\"\"\"\n",
    "    recent_modified_file = sorted_files_list[-1].split('/')[-1]\n",
    "    return recent_modified_file\n",
    "\n",
    "recent_modified_file = get_recent_modified_file(sorted_files_list)\n",
    "recent_modified_file"
   ]
  },
  {
   "cell_type": "code",
   "execution_count": 9,
   "metadata": {},
   "outputs": [
    {
     "data": {
      "text/plain": [
       "'2016-12-27 08:59:24'"
      ]
     },
     "execution_count": 9,
     "metadata": {},
     "output_type": "execute_result"
    }
   ],
   "source": [
    "def get_last_updated(recent_modified_file):\n",
    "    \"\"\"Rerturn the datetime a file was last modified.\"\"\"\n",
    "    modified_time = os.path.getmtime(recent_modified_file)\n",
    "    modified_time_datetime = dt.fromtimestamp(modified_time)\n",
    "    return modified_time_datetime.strftime(DATE_STR_FORMAT)\n",
    "\n",
    "get_last_updated(sorted_files_list[0])"
   ]
  },
  {
   "cell_type": "code",
   "execution_count": null,
   "metadata": {},
   "outputs": [],
   "source": []
  }
 ],
 "metadata": {
  "kernelspec": {
   "display_name": "Python 3",
   "language": "python",
   "name": "python3"
  },
  "language_info": {
   "codemirror_mode": {
    "name": "ipython",
    "version": 3
   },
   "file_extension": ".py",
   "mimetype": "text/x-python",
   "name": "python",
   "nbconvert_exporter": "python",
   "pygments_lexer": "ipython3",
   "version": "3.6.3"
  }
 },
 "nbformat": 4,
 "nbformat_minor": 2
}
