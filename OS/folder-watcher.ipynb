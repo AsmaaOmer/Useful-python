{
 "cells": [
  {
   "cell_type": "code",
   "execution_count": 25,
   "metadata": {},
   "outputs": [
    {
     "data": {
      "text/plain": [
       "'/Users/robincole/Documents/Github/Useful-python/OS'"
      ]
     },
     "execution_count": 25,
     "metadata": {},
     "output_type": "execute_result"
    }
   ],
   "source": [
    "pwd"
   ]
  },
  {
   "cell_type": "code",
   "execution_count": 9,
   "metadata": {},
   "outputs": [],
   "source": [
    "import datetime\n",
    "import os"
   ]
  },
  {
   "cell_type": "code",
   "execution_count": 13,
   "metadata": {},
   "outputs": [],
   "source": [
    "def get_timestamp(dir_entry):\n",
    "    \"\"\"Return the timestamp of file modification.\"\"\"\n",
    "    mtime = dir_entry.stat().st_mtime\n",
    "    return datetime.datetime.fromtimestamp(mtime).isoformat()"
   ]
  },
  {
   "cell_type": "code",
   "execution_count": 14,
   "metadata": {},
   "outputs": [],
   "source": [
    "path = '/Users/robincole/Pictures'"
   ]
  },
  {
   "cell_type": "code",
   "execution_count": 34,
   "metadata": {},
   "outputs": [],
   "source": [
    "files = {}"
   ]
  },
  {
   "cell_type": "code",
   "execution_count": 38,
   "metadata": {},
   "outputs": [
    {
     "name": "stdout",
     "output_type": "stream",
     "text": [
      "lamp copy.JPG deleted\n",
      "lamp copy 2.JPG deleted\n"
     ]
    }
   ],
   "source": [
    "current_files = [] \n",
    "previous_files = list(files.keys())\n",
    "\n",
    "with os.scandir(path) as it:\n",
    "    for entry in it:\n",
    "        if not entry.name.startswith('.') and entry.is_file():\n",
    "            file_name = entry.name\n",
    "            current_files.append(file_name)  # Keep record of current files\n",
    "            file_mtime = get_timestamp(entry)\n",
    "            \n",
    "            # Logic to process files\n",
    "            if not file_name in files:\n",
    "                print(\"Adding {} to files\".format(file_name))\n",
    "                files[file_name] = file_mtime # Add the entry\n",
    "\n",
    "# Check if any files deleted                \n",
    "deleted_files = list(set(previous_files) - set(current_files))\n",
    "for file_name in deleted_files:\n",
    "    print(\"{} deleted\".format(file_name))"
   ]
  },
  {
   "cell_type": "code",
   "execution_count": 39,
   "metadata": {},
   "outputs": [
    {
     "data": {
      "text/plain": [
       "['lamp copy.JPG', 'lamp copy 2.JPG']"
      ]
     },
     "execution_count": 39,
     "metadata": {},
     "output_type": "execute_result"
    }
   ],
   "source": [
    "deleted_files"
   ]
  },
  {
   "cell_type": "code",
   "execution_count": 41,
   "metadata": {},
   "outputs": [
    {
     "data": {
      "text/plain": [
       "{'Pasted Graphic 1.png': '2017-10-04T06:18:37.998202',\n",
       " 'RC passport Bio 30-06-11.JPG': '2011-06-30T10:05:28',\n",
       " 'UQ.png': '2017-09-04T17:51:02',\n",
       " 'USBview.png': '2017-12-02T09:13:29.138098',\n",
       " 'audio.png': '2017-10-13T14:24:11.445127',\n",
       " 'automation_editor.png': '2017-09-08T06:58:15',\n",
       " 'automation_editor_2.png': '2017-09-08T06:58:39',\n",
       " 'classifier.png': '2018-02-25T11:03:02.599461',\n",
       " 'front_end_table.png': '2017-09-07T07:40:50',\n",
       " 'graph.png': '2018-02-14T21:44:37.471539',\n",
       " 'graphing.png': '2018-02-22T08:11:00.604861',\n",
       " 'kettle_HA.png': '2018-02-04T10:32:37.618676',\n",
       " 'lamp copy 2.JPG': '2017-09-08T07:09:19',\n",
       " 'lamp copy.JPG': '2017-09-08T07:09:19',\n",
       " 'lamp.JPG': '2017-09-08T07:09:19',\n",
       " 'lamp_notification.png': '2017-09-08T07:10:57',\n",
       " 'movidius-config.png': '2017-12-02T09:38:28.508835',\n",
       " 'movidius-error.png': '2017-12-02T08:57:15.114432',\n",
       " 'notification.PNG': '2017-09-07T07:44:58',\n",
       " 'on_main.png': '2017-09-04T06:37:46',\n",
       " 'robin.jpg': '2017-12-06T08:18:02.990406',\n",
       " 'robot-02.jpg': '2017-09-05T07:25:11',\n",
       " 'robot-02.png': '2017-09-05T07:26:46',\n",
       " 'train_proj.png': '2017-09-05T06:21:27',\n",
       " 'usb-viewer.png': '2017-12-02T09:41:34.200216',\n",
       " 'wemo_kettle.jpg': '2018-02-04T10:20:15'}"
      ]
     },
     "execution_count": 41,
     "metadata": {},
     "output_type": "execute_result"
    }
   ],
   "source": [
    "files"
   ]
  },
  {
   "cell_type": "code",
   "execution_count": null,
   "metadata": {},
   "outputs": [],
   "source": []
  }
 ],
 "metadata": {
  "kernelspec": {
   "display_name": "Python 3",
   "language": "python",
   "name": "python3"
  },
  "language_info": {
   "codemirror_mode": {
    "name": "ipython",
    "version": 3
   },
   "file_extension": ".py",
   "mimetype": "text/x-python",
   "name": "python",
   "nbconvert_exporter": "python",
   "pygments_lexer": "ipython3",
   "version": "3.6.3"
  }
 },
 "nbformat": 4,
 "nbformat_minor": 2
}
