{
 "cells": [
  {
   "cell_type": "code",
   "execution_count": 4,
   "metadata": {},
   "outputs": [
    {
     "data": {
      "text/plain": [
       "'/Users/robincole/Documents/Github/Useful-python/OS'"
      ]
     },
     "execution_count": 4,
     "metadata": {},
     "output_type": "execute_result"
    }
   ],
   "source": [
    "pwd"
   ]
  },
  {
   "cell_type": "code",
   "execution_count": 2,
   "metadata": {},
   "outputs": [],
   "source": [
    "import datetime\n",
    "import os"
   ]
  },
  {
   "cell_type": "code",
   "execution_count": 3,
   "metadata": {},
   "outputs": [],
   "source": [
    "def get_timestamp(dir_entry):\n",
    "    \"\"\"Return the timestamp of file modification.\"\"\"\n",
    "    mtime = dir_entry.stat().st_mtime\n",
    "    return datetime.datetime.fromtimestamp(mtime).isoformat()"
   ]
  },
  {
   "cell_type": "code",
   "execution_count": 9,
   "metadata": {},
   "outputs": [],
   "source": [
    "path = 'dummy_folder'"
   ]
  },
  {
   "cell_type": "code",
   "execution_count": 10,
   "metadata": {},
   "outputs": [],
   "source": [
    "files = {}"
   ]
  },
  {
   "cell_type": "code",
   "execution_count": 81,
   "metadata": {},
   "outputs": [],
   "source": [
    "current_files = [] \n",
    "deleted_files = []\n",
    "added_files = []\n",
    "modified_files = []\n",
    "previous_files = list(files.keys())\n",
    "\n",
    "with os.scandir(path) as it:\n",
    "    for entry in it:\n",
    "        if not entry.name.startswith('.') and entry.is_file():\n",
    "            file_name = entry.name\n",
    "            current_files.append(file_name)  # Keep record of current files\n",
    "            file_mtime = get_timestamp(entry)\n",
    "            \n",
    "            # Logic to process files\n",
    "            if not file_name in files:\n",
    "                added_files.append(file_name)\n",
    "                # print(\"{} added\".format(file_name))\n",
    "                files[file_name] = file_mtime # Add the entry\n",
    "                \n",
    "            elif file_name in files and files[file_name] != file_mtime: # If exists and modified\n",
    "                modified_files.append(file_name)\n",
    "                # print(\"{} modified\".format(file_name))\n",
    "                files[file_name] = file_mtime # Reassign\n",
    "                \n",
    "\n",
    "# Check if any files deleted                \n",
    "deleted_files = list(set(previous_files) - set(current_files))\n",
    "for file_name in deleted_files:\n",
    "    # print(\"{} deleted\".format(file_name))\n",
    "    files.pop(file_name, None)"
   ]
  },
  {
   "cell_type": "code",
   "execution_count": 82,
   "metadata": {},
   "outputs": [
    {
     "data": {
      "text/plain": [
       "{'file1.txt': '2018-02-28T09:05:14.348702',\n",
       " 'file2.txt': '2018-02-28T09:15:36.982517'}"
      ]
     },
     "execution_count": 82,
     "metadata": {},
     "output_type": "execute_result"
    }
   ],
   "source": [
    "files"
   ]
  },
  {
   "cell_type": "code",
   "execution_count": 83,
   "metadata": {},
   "outputs": [
    {
     "data": {
      "text/plain": [
       "[]"
      ]
     },
     "execution_count": 83,
     "metadata": {},
     "output_type": "execute_result"
    }
   ],
   "source": [
    "added_files"
   ]
  },
  {
   "cell_type": "code",
   "execution_count": 84,
   "metadata": {},
   "outputs": [
    {
     "data": {
      "text/plain": [
       "['file2 copy.txt']"
      ]
     },
     "execution_count": 84,
     "metadata": {},
     "output_type": "execute_result"
    }
   ],
   "source": [
    "deleted_files"
   ]
  },
  {
   "cell_type": "code",
   "execution_count": 85,
   "metadata": {},
   "outputs": [
    {
     "data": {
      "text/plain": [
       "[]"
      ]
     },
     "execution_count": 85,
     "metadata": {},
     "output_type": "execute_result"
    }
   ],
   "source": [
    "modified_files"
   ]
  },
  {
   "cell_type": "code",
   "execution_count": null,
   "metadata": {},
   "outputs": [],
   "source": []
  }
 ],
 "metadata": {
  "kernelspec": {
   "display_name": "Python 3",
   "language": "python",
   "name": "python3"
  },
  "language_info": {
   "codemirror_mode": {
    "name": "ipython",
    "version": 3
   },
   "file_extension": ".py",
   "mimetype": "text/x-python",
   "name": "python",
   "nbconvert_exporter": "python",
   "pygments_lexer": "ipython3",
   "version": "3.6.3"
  }
 },
 "nbformat": 4,
 "nbformat_minor": 2
}
