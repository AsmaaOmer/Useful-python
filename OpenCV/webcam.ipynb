{
 "cells": [
  {
   "cell_type": "markdown",
   "metadata": {},
   "source": [
    "https://github.com/RedisGears/AnimalRecognitionDemo/blob/master/camera/read_camera.py"
   ]
  },
  {
   "cell_type": "code",
   "execution_count": 1,
   "metadata": {},
   "outputs": [],
   "source": [
    "import cv2"
   ]
  },
  {
   "cell_type": "code",
   "execution_count": 2,
   "metadata": {},
   "outputs": [
    {
     "data": {
      "text/plain": [
       "'4.1.0'"
      ]
     },
     "execution_count": 2,
     "metadata": {},
     "output_type": "execute_result"
    }
   ],
   "source": [
    "cv2.__version__"
   ]
  },
  {
   "cell_type": "code",
   "execution_count": 3,
   "metadata": {},
   "outputs": [],
   "source": [
    "class Webcam:\n",
    "    def __init__(self, infile=0, fps=15.0):\n",
    "        self.cam = cv2.VideoCapture(infile)\n",
    "        self.cam.set(cv2.CAP_PROP_FPS, fps)\n",
    "        self.cam.set(cv2.CAP_PROP_FRAME_WIDTH, 640)\n",
    "        self.cam.set(cv2.CAP_PROP_FRAME_HEIGHT, 480)\n",
    "\n",
    "    def __iter__(self):\n",
    "        self.count = -1\n",
    "        return self\n",
    "\n",
    "    def next(self): # Python 2.7\n",
    "        self.count += 1\n",
    "\n",
    "        # Read image\n",
    "        ret_val, img0 = self.cam.read()\n",
    "        assert ret_val, 'Webcam Error'\n",
    "\n",
    "        # Preprocess\n",
    "        # img = cv2.flip(img0, 1)\n",
    "        img = img0\n",
    "\n",
    "        return self.count, img\n",
    "\n",
    "    def __len__(self):\n",
    "        return 0"
   ]
  },
  {
   "cell_type": "code",
   "execution_count": null,
   "metadata": {},
   "outputs": [],
   "source": []
  }
 ],
 "metadata": {
  "kernelspec": {
   "display_name": "Python 3",
   "language": "python",
   "name": "python3"
  },
  "language_info": {
   "codemirror_mode": {
    "name": "ipython",
    "version": 3
   },
   "file_extension": ".py",
   "mimetype": "text/x-python",
   "name": "python",
   "nbconvert_exporter": "python",
   "pygments_lexer": "ipython3",
   "version": "3.6.5"
  }
 },
 "nbformat": 4,
 "nbformat_minor": 2
}
