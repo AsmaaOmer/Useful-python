{
 "cells": [
  {
   "cell_type": "code",
   "execution_count": 1,
   "metadata": {},
   "outputs": [
    {
     "name": "stdout",
     "output_type": "stream",
     "text": [
      "Collecting vtk\n",
      "\u001b[?25l  Downloading https://files.pythonhosted.org/packages/52/5a/167ed01d6d15625b1e7772d7313802bec83e53a67aba059c25ddf84506c7/vtk-8.1.0-cp36-cp36m-macosx_10_6_x86_64.whl (54.0MB)\n",
      "\u001b[K    100% |████████████████████████████████| 54.0MB 614kB/s eta 0:00:01   14% |████▌                           | 7.6MB 7.8MB/s eta 0:00:06    43% |██████████████                  | 23.7MB 2.7MB/s eta 0:00:12    72% |███████████████████████         | 38.9MB 14.4MB/s eta 0:00:02\n",
      "\u001b[?25hRequirement already satisfied: requests in /Users/robincole/miniconda3/lib/python3.6/site-packages (2.18.4)\n",
      "Requirement already satisfied: chardet<3.1.0,>=3.0.2 in /Users/robincole/miniconda3/lib/python3.6/site-packages (from requests) (3.0.4)\n",
      "Requirement already satisfied: idna<2.7,>=2.5 in /Users/robincole/miniconda3/lib/python3.6/site-packages (from requests) (2.6)\n",
      "Requirement already satisfied: urllib3<1.23,>=1.21.1 in /Users/robincole/miniconda3/lib/python3.6/site-packages (from requests) (1.22)\n",
      "Requirement already satisfied: certifi>=2017.4.17 in /Users/robincole/miniconda3/lib/python3.6/site-packages (from requests) (2018.1.18)\n",
      "Installing collected packages: vtk\n",
      "Successfully installed vtk-8.1.0\n"
     ]
    }
   ],
   "source": [
    "# Install dependencies for this example\n",
    "# Note: This does not include itk-jupyter-widgets, itself\n",
    "import sys\n",
    "!{sys.executable} -m pip install vtk requests"
   ]
  },
  {
   "cell_type": "code",
   "execution_count": 2,
   "metadata": {},
   "outputs": [],
   "source": [
    "import vtk\n",
    "\n",
    "import requests\n",
    "import shutil\n",
    "import os\n",
    "\n",
    "from itkwidgets import view"
   ]
  },
  {
   "cell_type": "code",
   "execution_count": 3,
   "metadata": {},
   "outputs": [],
   "source": [
    "# Download data\n",
    "file_name = 'vase.vti'\n",
    "if not os.path.exists(file_name):\n",
    "    response = requests.get('https://data.kitware.com/api/v1/file/5a826bdc8d777f0685782960/download', stream=True)\n",
    "    with open(file_name, 'wb') as fp:\n",
    "        response.raw.decode_content = True\n",
    "        shutil.copyfileobj(response.raw, fp)"
   ]
  },
  {
   "cell_type": "code",
   "execution_count": 4,
   "metadata": {},
   "outputs": [],
   "source": [
    "reader = vtk.vtkXMLImageDataReader()\n",
    "reader.SetFileName(file_name)\n",
    "reader.Update()\n",
    "vtk_image = reader.GetOutput()"
   ]
  },
  {
   "cell_type": "code",
   "execution_count": 5,
   "metadata": {},
   "outputs": [
    {
     "data": {
      "application/vnd.jupyter.widget-view+json": {
       "model_id": "0c7052c6afe640de94207d63aa6a7dc3",
       "version_major": 2,
       "version_minor": 0
      },
      "text/plain": [
       "Viewer(image=<itkImagePython.itkImageUC3; proxy of <Swig Object of type 'itkImageUC3 *' at 0x110e504b0> >)"
      ]
     },
     "metadata": {},
     "output_type": "display_data"
    }
   ],
   "source": [
    "view(vtk_image)"
   ]
  },
  {
   "cell_type": "code",
   "execution_count": null,
   "metadata": {},
   "outputs": [],
   "source": []
  }
 ],
 "metadata": {
  "kernelspec": {
   "display_name": "Python 3",
   "language": "python",
   "name": "python3"
  },
  "language_info": {
   "codemirror_mode": {
    "name": "ipython",
    "version": 3
   },
   "file_extension": ".py",
   "mimetype": "text/x-python",
   "name": "python",
   "nbconvert_exporter": "python",
   "pygments_lexer": "ipython3",
   "version": "3.6.4"
  }
 },
 "nbformat": 4,
 "nbformat_minor": 2
}
