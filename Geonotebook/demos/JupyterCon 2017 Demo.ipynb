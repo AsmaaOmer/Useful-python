{
 "cells": [
  {
   "cell_type": "markdown",
   "metadata": {},
   "source": [
    "# Welcome to the Geonotebook\n",
    "GeoNotebook is an application that provides client/server enviroment with inteactive visualization and analysis capabilities using Jupyter notebook, GeoJS and other open source tools.\n",
    "\n",
    "The example notesbooks in this directory will walk you through several of the features that the ```geonotebook``` plugin to Jupyter makes available. The first thing to know about is...\n",
    "\n",
    "### The geonotebook object\n",
    "\n",
    "The ```M``` object is inserted into the kernel automatically once the notebook is started.  This object lives inside the Python kernel's namespace and communicates information to (and receives information from) the GeoJS map. Note that nothing has been imported,  but the ```M``` variable is still available.\n",
    "\n",
    "**Note:** If you are viewing a static version of this notebook you will NOT see the GeoJS map that is dynamically added to a running notebook.  Please see this [Screen shot](https://raw.githubusercontent.com/OpenGeoscience/geonotebook/master/screenshots/geonotebook.png) to get a sense of the running interface."
   ]
  },
  {
   "cell_type": "code",
   "execution_count": null,
   "metadata": {},
   "outputs": [],
   "source": [
    "M"
   ]
  },
  {
   "cell_type": "markdown",
   "metadata": {},
   "source": [
    "### Set the map's center\n",
    "\n",
    "The M object exposes a number of different functions for interacting with the map (which should be located to the right of standard jupyter python cells).\n",
    "\n",
    "Executing the following cell should set the center of the map to New York State. \n"
   ]
  },
  {
   "cell_type": "code",
   "execution_count": 1,
   "metadata": {},
   "outputs": [
    {
     "data": {
      "text/plain": [
       "<promise.promise.Promise at 0x7fb488531e10>"
      ]
     },
     "execution_count": 1,
     "metadata": {},
     "output_type": "execute_result"
    }
   ],
   "source": [
    "# set_center's arguments are longitude, latitude, and zoom level\n",
    "M.set_center(-74, 43, 6)"
   ]
  },
  {
   "cell_type": "markdown",
   "metadata": {},
   "source": [
    "### What just happened?\n",
    "\n",
    "It is important to understand that ```M.set_center(...)``` is a Python statement being made inside the Python kernel. It is using a remote procedure call to change the javascript map's location.\n",
    "\n",
    "The standard Jupyter notebook has three components, (1) the client that makes up the notebook cells, (2) a web server that lists notebook files,  directories and serves notebook assets like HTML and CSS (3) a kernel that executes commands in the chosen language (in our case Python).\n",
    "\n",
    "![what just happened](https://docs.google.com/drawings/d/e/2PACX-1vT60rVDypw7I5pGnfF0nO8vFh-bd-bFbTT1_mMfYrvV66xtdelgxKSogCWkluM0ca6Z62ZA8MzDAmFo/pub?w=1440&h=1080 \"Comm Channel\")\n",
    "\n",
    "When you executed the previous cell the string \"M.set_center(-74, 43, 6)\" was transmitted over a web socket to the webserver,  then proxied through ZeroMQ to the IPykernel where it was evaluated as a Python expression. This is the standard way in which Jupyter notebook takes code from a web browser,  and executes it in an interactive shell (kernel). M is an object in the kernel,  and it has a function *set_center*.  That function executed and returned a [promise](https://pypi.python.org/pypi/promise),  which is why you see something in the cell output like ```<promise.promise.Promise at 0x7f567dd8f290>```\n",
    "\n",
    "While the ```set_center``` function returns a promise,  it also has a side effect. This side effect uses a custom jupyter communication channel (or 'Comm') to tell the map to change its view port so the center is at (in this case) -74.0 latitude,  43.0 longitude,  with a zoom level of 6. \n",
    "\n"
   ]
  },
  {
   "cell_type": "markdown",
   "metadata": {},
   "source": [
    "## Widget example\n",
    "\n",
    "One question you may immediately ask yourself is,  why not have the notebook cell talk to the map directly?  Why get python involved at all? Well, because ```M.set_center``` is just a Python function,  it can do things like leverage the existing widget extension to the notebook.  "
   ]
  },
  {
   "cell_type": "code",
   "execution_count": null,
   "metadata": {
    "collapsed": true
   },
   "outputs": [],
   "source": [
    "from ipywidgets import interact\n",
    "import ipywidgets as widgets\n",
    "\n",
    "def map_widgets(lat=0.0, lon=0.0, zoom=4):\n",
    "  M.set_center(lon, lat, zoom)\n",
    "  \n",
    "interact(map_widgets, lat=(-90.0, 90.0), lon=(-180.0, 180.0), zoom=(1, 9))"
   ]
  },
  {
   "cell_type": "markdown",
   "metadata": {},
   "source": [
    "# Annotations\n",
    "\n",
    "In addition to supporting Python to Map communications,  Geonotebook allows objects and events on the map to communicate back to the Python kernel. One of the primary ways in which this is used is through geonotebook annotations. \n",
    "\n",
    "On the toolbar,  next to the \"CellToolbar\" button,  there should be three additional buttons with a circle,  square and a polygon. Hovering over each of these reveals that they can be used to start a point, rectangle or polygon annotation. \n",
    "\n",
    "### Point annotations\n",
    "Try clicking on the circle icon. Notice that the cursor,  when it hovers over the map,  is now a cross rather than an arrow. Click on the map and a circle annotation should appear. \n",
    "\n",
    "### Rectangle Annotations\n",
    "Try clicking on the square icon. If you click on the map and hold down the left mouse button, then drag the mouse and release the left mouse button you should be able to create a rectangular annotation. \n",
    "\n",
    "### Polygon annotations\n",
    "Try clicking on the polygon icon.  Single click on a series of points to begin creating a polygon annotation. Double click on a point and the final segment will be added completing the annotation.\n"
   ]
  },
  {
   "cell_type": "markdown",
   "metadata": {},
   "source": [
    "Annotations inherit from [shapely](http://toblerity.org/shapely/manual.html) geometries, this means they support a wide range of spatial functions."
   ]
  },
  {
   "cell_type": "code",
   "execution_count": null,
   "metadata": {
    "collapsed": true
   },
   "outputs": [],
   "source": [
    "p = M.layers.annotation.polygons[0]\n",
    "p"
   ]
  },
  {
   "cell_type": "markdown",
   "metadata": {},
   "source": [
    "You can get a list of coordinates for the polygon expressed in latitude and longitude"
   ]
  },
  {
   "cell_type": "code",
   "execution_count": null,
   "metadata": {
    "collapsed": true
   },
   "outputs": [],
   "source": [
    "# List the exterior coordinates of the annotation\n",
    "# Expressed in latitude and longitude point pairs\n",
    "list(p.exterior.coords)"
   ]
  },
  {
   "cell_type": "markdown",
   "metadata": {},
   "source": [
    "Other properties like 'centroid' and 'area' are also available,  keeping in mind that all coordinates are measured in latitude/longitude. This means properties like 'area' will not have much meaning.  You can look at Shapely's [transform](http://toblerity.org/shapely/manual.html#shapely.ops.transform) method for information on how to translate these into to something more useful"
   ]
  },
  {
   "cell_type": "code",
   "execution_count": null,
   "metadata": {
    "collapsed": true
   },
   "outputs": [],
   "source": [
    "list(p.centroid.coords)"
   ]
  },
  {
   "cell_type": "markdown",
   "metadata": {},
   "source": [
    "Here is an example of using shapely's transform method to convert coordinates from latitude/longitude (EPSG:4326)  to Albers equal area (AEA).  The resulting object gives area in units of meters squared "
   ]
  },
  {
   "cell_type": "code",
   "execution_count": null,
   "metadata": {
    "collapsed": true
   },
   "outputs": [],
   "source": [
    "import pyproj\n",
    "import shapely.ops as ops\n",
    "from functools import partial\n",
    "\n",
    "project = partial(pyproj.transform,\n",
    "                  pyproj.Proj(init='EPSG:4326'), \n",
    "                  pyproj.Proj(proj='aea',\n",
    "                    lat1=p.bounds[1],\n",
    "                    lat2=p.bounds[3]))\n",
    "\n",
    "ops.transform(project, p).area"
   ]
  },
  {
   "cell_type": "code",
   "execution_count": null,
   "metadata": {
    "collapsed": true
   },
   "outputs": [],
   "source": [
    "M.layers.annotation.clear_annotations()"
   ]
  },
  {
   "cell_type": "markdown",
   "metadata": {},
   "source": [
    "## National Land Cover Dataset Example"
   ]
  },
  {
   "cell_type": "code",
   "execution_count": null,
   "metadata": {
    "collapsed": true
   },
   "outputs": [],
   "source": [
    "%matplotlib inline"
   ]
  },
  {
   "cell_type": "code",
   "execution_count": null,
   "metadata": {
    "collapsed": true
   },
   "outputs": [],
   "source": [
    "from matplotlib.pylab import plt\n",
    "import numpy as np\n",
    "import pandas as pd"
   ]
  },
  {
   "cell_type": "code",
   "execution_count": null,
   "metadata": {
    "collapsed": true
   },
   "outputs": [],
   "source": [
    "legend = pd.DataFrame([\n",
    "    (11, \"Open Water\", \"#476BA0\"),\n",
    "    (12, \"Perennial Ice/Snow\", \"#D1DDF9\"),\n",
    "    (21, \"Developed, Open Space\",\"#DDC9C9\"),\n",
    "    (22, \"Developed, Low Intensity\", \"#D89382\"),\n",
    "    (23, \"Developed, Medium Intensity\", \"#ED0000\"),\n",
    "    (24, \"Developed High Intensity\", \"#AA0000\"),\n",
    "    (31, \"Barren Land (Rock/Sand/Clay)\", \"#B2ADA3\"),\n",
    "    (41, \"Deciduous Forest\", \"#68AA63\"),\n",
    "    (42, \"Evergreen Forest\", \"#1C6330\"),\n",
    "    (43, \"Mixed Forest\", \"#B5C98E\"),\n",
    "    (51, \"Dwarf Scrub\", \"#A58C30\"),\n",
    "    (52, \"Shrub/Scrub\", \"#CCBA7C\"),\n",
    "    (71, \"Grassland/Herbaceous\", \"#E2E2C1\"),\n",
    "    (72, \"Sedge/Herbaceous\", \"#C9C977\"),\n",
    "    (73, \"Lichens\", \"#99C147\"),\n",
    "    (74, \"Moss\", \"#77AD93\"),\n",
    "    (81, \"Pasture/Hay\", \"#DBD83D\"),\n",
    "    (82, \"Cultivated Crops\", \"#AA7028\"),\n",
    "    (90, \"Woody Wetlands\", \"#BAD8EA\"),\n",
    "    (95, \"Emergent Herbaceous Wetlands\",\"#70A3BA\")],\n",
    "    columns=[\"Code\", \"Desc\", \"Color\"])\n",
    "\n",
    "def highlight(e):\n",
    "    return 'background-color: {}'.format(e)\n"
   ]
  },
  {
   "cell_type": "code",
   "execution_count": null,
   "metadata": {
    "collapsed": true
   },
   "outputs": [],
   "source": [
    "from geonotebook.wrappers import RasterData\n",
    "\n",
    "rd = RasterData(\"/data/kotfic/nlcd_2011_landcover_2011_edition_2014_10_10.tif\")\n",
    "\n",
    "colormap = legend[[\"Code\", \"Color\"]].rename(columns={\n",
    "    \"Code\": \"quantity\", \"Color\": \"color\"}).to_dict(\"records\")"
   ]
  },
  {
   "cell_type": "code",
   "execution_count": null,
   "metadata": {},
   "outputs": [],
   "source": [
    "M.add_layer(rd[1], colormap=colormap, opacity=0.7)"
   ]
  },
  {
   "cell_type": "markdown",
   "metadata": {},
   "source": [
    "### What just happened here?\n",
    "\n",
    "![](https://docs.google.com/drawings/d/e/2PACX-1vSFysHt4BmP1etUUJFtPGXqCCDTHtw5l5kw4f4A4Ts2Fv3IncwfOlfLH9vT6vhNhrc_QArG9YbhgFyK/pub?w=1440&h=1080)"
   ]
  },
  {
   "cell_type": "markdown",
   "metadata": {},
   "source": [
    "## National Land Cover Dataset"
   ]
  },
  {
   "cell_type": "code",
   "execution_count": null,
   "metadata": {},
   "outputs": [],
   "source": [
    "styles = [\n",
    "    dict(selector=\"th,td\", props=[(\"font-size\", \"150%\")])\n",
    "]\n",
    "legend.set_index(\"Code\", inplace=True)\n",
    "legend.style.applymap(highlight).set_table_styles(styles)"
   ]
  },
  {
   "cell_type": "code",
   "execution_count": null,
   "metadata": {},
   "outputs": [],
   "source": [
    "len(legend)"
   ]
  },
  {
   "cell_type": "code",
   "execution_count": null,
   "metadata": {},
   "outputs": [],
   "source": [
    "!du -sh /data/kotfic/nlcd_2011_landcover_2011_edition_2014_10_10.tif"
   ]
  },
  {
   "cell_type": "code",
   "execution_count": null,
   "metadata": {
    "collapsed": true
   },
   "outputs": [],
   "source": [
    "import fiona\n",
    "\n",
    "fh = fiona.open(\"/data/kotfic/nynta-wgs84/nynta-wgs84.shp\")"
   ]
  },
  {
   "cell_type": "code",
   "execution_count": null,
   "metadata": {
    "collapsed": true
   },
   "outputs": [],
   "source": [
    "for feature in fh:\n",
    "    if feature['geometry']['type'] == \"Polygon\" and feature['properties']['BoroName'] == 'Manhattan':\n",
    "        M.add_annotation('polygon', feature['geometry']['coordinates'][0], feature['properties'])"
   ]
  },
  {
   "cell_type": "code",
   "execution_count": null,
   "metadata": {},
   "outputs": [],
   "source": [
    "p = M.layers.annotation.polygons[7]\n",
    "p"
   ]
  },
  {
   "cell_type": "code",
   "execution_count": null,
   "metadata": {},
   "outputs": [],
   "source": [
    "p.NTAName"
   ]
  },
  {
   "cell_type": "code",
   "execution_count": null,
   "metadata": {},
   "outputs": [],
   "source": [
    "l, d = next(p.data)\n",
    "d"
   ]
  },
  {
   "cell_type": "code",
   "execution_count": null,
   "metadata": {},
   "outputs": [],
   "source": [
    "from collections import Counter\n",
    "\n",
    "counts = zip(*np.unique(next(p.data)[1].data, return_counts=True))\n",
    "\n",
    "print(p.NTAName)\n",
    "\n",
    "data, index = zip(*[(num, legend.loc[c, 'Desc']) for c, num in counts if c != 0])\n",
    "pd.Series(data, index=index, name=\"Count\").to_frame()\\\n",
    "    .sort_values(\"Count\", ascending=False)\\\n",
    "    .style.set_table_styles(styles)\n"
   ]
  },
  {
   "cell_type": "code",
   "execution_count": null,
   "metadata": {
    "collapsed": true
   },
   "outputs": [],
   "source": [
    "df = pd.DataFrame([(p.NTAName, n) for p in M.layers.annotation.polygons \n",
    "                     for n in next(p.data)[1].compressed()],\n",
    "                    columns=[\"Neighborhood\", \"Code\"])"
   ]
  },
  {
   "cell_type": "code",
   "execution_count": null,
   "metadata": {
    "scrolled": false
   },
   "outputs": [],
   "source": [
    "n_idx = df['Code'].isin([24])\n",
    "d_idx = df['Code'].isin([21, 22, 23, 24])\n",
    "\n",
    "high_dev_codes = df[n_idx].groupby('Neighborhood').sum()\n",
    "\n",
    "all_codes  = df.groupby('Neighborhood').sum()\n",
    "\n",
    "ddf = (high_dev_codes / all_codes).fillna(0.0).rename(columns={\"Code\": \"High/All\"})\n",
    "ddf.sort_values(\"High/All\", ascending=False).style.set_table_styles(styles)"
   ]
  },
  {
   "cell_type": "markdown",
   "metadata": {},
   "source": [
    "### Don't forget to take a screen shot!"
   ]
  },
  {
   "cell_type": "code",
   "execution_count": null,
   "metadata": {},
   "outputs": [],
   "source": [
    "M.layers.annotation.clear_annotations()\n",
    "M.remove_layer(M.layers[0])"
   ]
  },
  {
   "cell_type": "markdown",
   "metadata": {},
   "source": [
    "# Raster operations on the map\n",
    "\n",
    "In this section we'll take a look at using the built in tile server to render raster data to the map. The tile server used is based on [KTile](https://github.com/OpenGeoscience/KTile) a fork of TileStache and is directly integrated into the Jupyter Notebook. The GeoJS map uses this tile server to render data efficiently to the map for visualization. "
   ]
  },
  {
   "cell_type": "code",
   "execution_count": null,
   "metadata": {},
   "outputs": [],
   "source": [
    "# Set the center of the map to the location the data\n",
    "M.set_center(-120.32, 47.84, 7)"
   ]
  },
  {
   "cell_type": "code",
   "execution_count": null,
   "metadata": {},
   "outputs": [],
   "source": [
    "from geonotebook.wrappers import RasterData\n",
    "\n",
    "rd = RasterData('file:///data/kotfic/L57.Globe.month09.2010.hh09vv04.h6v1.doy247to273.NBAR.v3.0.tiff')\n",
    "rd"
   ]
  },
  {
   "cell_type": "markdown",
   "metadata": {},
   "source": [
    "### Adding a single band with JET colormap"
   ]
  },
  {
   "cell_type": "code",
   "execution_count": null,
   "metadata": {},
   "outputs": [],
   "source": [
    "M.add_layer(rd[4], opacity=0.8)"
   ]
  },
  {
   "cell_type": "markdown",
   "metadata": {},
   "source": [
    "### Something a little less agressive"
   ]
  },
  {
   "cell_type": "code",
   "execution_count": null,
   "metadata": {},
   "outputs": [],
   "source": [
    "M.remove_layer(M.layers[0])\n",
    "\n",
    "cmap = plt.get_cmap('winter', 10)\n",
    "M.add_layer(rd[4], colormap=cmap, opacity=0.8)"
   ]
  },
  {
   "cell_type": "markdown",
   "metadata": {},
   "source": [
    "### Something more appropriate for NDVI"
   ]
  },
  {
   "cell_type": "code",
   "execution_count": null,
   "metadata": {},
   "outputs": [],
   "source": [
    "from matplotlib.colors import LinearSegmentedColormap\n",
    "\n",
    "M.remove_layer(M.layers[0])\n",
    "\n",
    "# Divergent Blue to Beige to Green colormap\n",
    "cmap =LinearSegmentedColormap.from_list(\n",
    "  'ndvi', ['blue', 'beige', 'green'], 20)\n",
    "\n",
    "# Add layer with custom colormap\n",
    "M.add_layer(rd[4], colormap=cmap, opacity=0.8, min=-1.0, max=1.0)"
   ]
  },
  {
   "cell_type": "markdown",
   "metadata": {},
   "source": [
    "# What can I do with this data?\n",
    "\n",
    "We will address the use of annotations for analysis and data comparison in a separate notebook.  For now Let's focus on a small agricultural area north of I-90:"
   ]
  },
  {
   "cell_type": "code",
   "execution_count": null,
   "metadata": {},
   "outputs": [],
   "source": [
    "M.layers.annotation.clear_annotations()"
   ]
  },
  {
   "cell_type": "code",
   "execution_count": null,
   "metadata": {},
   "outputs": [],
   "source": [
    "M.set_center(-119.25618502500376, 47.349300631765104, 11)"
   ]
  },
  {
   "cell_type": "code",
   "execution_count": null,
   "metadata": {},
   "outputs": [],
   "source": [
    "layer, data = next(M.layers.annotation.rectangles[0].data)\n",
    "data"
   ]
  },
  {
   "cell_type": "markdown",
   "metadata": {},
   "source": [
    "As a sanity check we can prove the data is the region we've selected by plotting the data with matplotlib's [imshow](http://matplotlib.org/api/pyplot_api.html#matplotlib.pyplot.imshow) function:\n",
    "\n",
    "*Note* The scale of the matplotlib image may seem slightly different than the rectangle you've selected on the map.  This is because the map is displaying in [Web Mercator](https://en.wikipedia.org/wiki/Web_Mercator) projection (EPSG:3857) while imshow is simply displaying the raw data, selected out of the geotiff (you can think of it as being in a 'row', 'column' projection)."
   ]
  },
  {
   "cell_type": "code",
   "execution_count": null,
   "metadata": {},
   "outputs": [],
   "source": [
    "import numpy as np\n",
    "\n",
    "fig, ax = plt.subplots(figsize=(16, 16))\n",
    "ax.imshow(data, interpolation='none', cmap=cmap, clim=(-1.0, 1.0))"
   ]
  },
  {
   "cell_type": "markdown",
   "metadata": {},
   "source": [
    "### NDVI Segmentation analysis\n",
    "\n",
    "Once we have this data we can run arbitrary analyses on it.  In the next cell we use a sobel filter and a watershed transformation to generate a binary mask of the data.  We then use an implementation of marching cubes to vectorize the data,  effectively segmenting green areas (e.g. fields)  from surrounding areas.\n",
    "\n",
    "This next cell requires both [scipy](https://www.scipy.org/) and [scikit-image](http://scikit-image.org/). Check your operating system documentation for how best to install these packages."
   ]
  },
  {
   "cell_type": "code",
   "execution_count": null,
   "metadata": {},
   "outputs": [],
   "source": [
    "# Adapted from the scikit-image segmentation tutorial\n",
    "# See: http://scikit-image.org/docs/dev/user_guide/tutorial_segmentation.html\n",
    "import numpy as np\n",
    "\n",
    "from skimage import measure\n",
    "from skimage.filters import sobel\n",
    "from skimage.morphology import watershed\n",
    "from scipy import ndimage as ndi\n",
    "\n",
    "\n",
    "WATER_MIN = 0.2\n",
    "WATER_MAX = 0.6\n",
    "\n",
    "def print_segments(data, THRESHOLD = 20):\n",
    "\n",
    "    fig, ax = plt.subplots(figsize=(10., 10.))\n",
    "    edges = sobel(data)\n",
    "\n",
    "\n",
    "    markers = np.zeros_like(data)\n",
    "    markers[data > WATER_MIN] = 2\n",
    "    markers[data > WATER_MAX] = 1\n",
    "\n",
    "\n",
    "    mask = (watershed(edges, markers) - 1).astype(bool)\n",
    "    seg = np.zeros_like(mask, dtype=int)\n",
    "    seg[~mask] = 1\n",
    "\n",
    "    # Fill holes\n",
    "    seg = ndi.binary_fill_holes(seg)\n",
    "\n",
    "    # Ignore entities smaller than THRESHOLD\n",
    "    label_objects, _ = ndi.label(seg)\n",
    "    sizes = np.bincount(label_objects.ravel())\n",
    "    mask_sizes = sizes > THRESHOLD\n",
    "    mask_sizes[0] = 0\n",
    "\n",
    "    clean_segs = mask_sizes[label_objects]\n",
    "\n",
    "    # Find contours of the segmented data\n",
    "    contours = measure.find_contours(clean_segs, 0)\n",
    "    ax.imshow(data, interpolation='none', cmap=cmap, clim=(-1.0, 1.0))\n",
    "\n",
    "    ax.axis('tight')\n",
    "\n",
    "    for n, contour in enumerate(contours):\n",
    "        ax.plot(contour[:, 1], contour[:, 0], linewidth=4)\n",
    "  \n",
    "print_segments(data)"
   ]
  },
  {
   "cell_type": "markdown",
   "metadata": {},
   "source": [
    "### Select a different region"
   ]
  },
  {
   "cell_type": "code",
   "execution_count": null,
   "metadata": {},
   "outputs": [],
   "source": [
    "print_segments(next(M.layers.annotation.rectangles[1].data)[1].data)"
   ]
  },
  {
   "cell_type": "code",
   "execution_count": null,
   "metadata": {},
   "outputs": [],
   "source": [
    "M.layers.annotation.clear_annotations()\n",
    "M.remove_layer(M.layers[0])"
   ]
  }
 ],
 "metadata": {
  "kernelspec": {
   "display_name": "Geonotebook (Python 2)",
   "language": "python",
   "name": "geonotebook2"
  },
  "language_info": {
   "codemirror_mode": {
    "name": "ipython",
    "version": 2
   },
   "file_extension": ".py",
   "mimetype": "text/x-python",
   "name": "python",
   "nbconvert_exporter": "python",
   "pygments_lexer": "ipython2",
   "version": "2.7.13"
  },
  "widgets": {
   "state": {
    "2ac77dc070a1460796b2244c58457a7d": {
     "views": []
    },
    "3005f4f71ab5428a8c346472101f4c2b": {
     "views": []
    },
    "608ce684e1c94ac48d93ad74a064d254": {
     "views": []
    },
    "7cd3f7baa3ec41349bab4a9b486c3f16": {
     "views": [
      {
       "cell_index": 8
      }
     ]
    },
    "869271490bfb46918c0597cf27e70f5d": {
     "views": []
    },
    "aa1b345f19d242c4b2682d9880cba48b": {
     "views": []
    },
    "bdabf7f744b94f879bffe1768c4ef6d3": {
     "views": []
    },
    "cbefb7b872d74114bb6b0b35353b4900": {
     "views": []
    }
   },
   "version": "1.1.2"
  }
 },
 "nbformat": 4,
 "nbformat_minor": 1
}
