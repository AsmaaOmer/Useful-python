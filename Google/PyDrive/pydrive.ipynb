{
 "cells": [
  {
   "cell_type": "markdown",
   "metadata": {},
   "source": [
    "ALWAYS REQUIRES BROWSER AUTHENTICATION AS OATH2, WHAT A HASSLE. TLDR - just upload files using GDrive web page or FileZilla\n",
    "\n",
    "* https://github.com/gsuitedevs/PyDrive\n",
    "* https://gsuitedevs.github.io/PyDrive/docs/build/html/index.html\n",
    "* [Blog post](https://medium.com/@annissouames99/how-to-upload-files-automatically-to-drive-with-python-ee19bb13dda)\n",
    "\n",
    "Download client_secrets.json from Google API Console and OAuth2.0 is done in two lines. You can customize behavior of OAuth2 in one settings file settings.yaml."
   ]
  },
  {
   "cell_type": "code",
   "execution_count": 1,
   "metadata": {},
   "outputs": [],
   "source": [
    "#!pip install PyDrive"
   ]
  },
  {
   "cell_type": "code",
   "execution_count": 2,
   "metadata": {},
   "outputs": [],
   "source": [
    "from pydrive.auth import GoogleAuth\n",
    "from pydrive.drive import GoogleDrive"
   ]
  },
  {
   "cell_type": "code",
   "execution_count": 3,
   "metadata": {},
   "outputs": [],
   "source": [
    "# gauth = GoogleAuth() # for load secrets from this dir "
   ]
  },
  {
   "cell_type": "markdown",
   "metadata": {},
   "source": [
    "## Settings.yaml\n",
    "We probably don't want our secrets in the working dir, so use `settings.yaml` instead"
   ]
  },
  {
   "cell_type": "code",
   "execution_count": 4,
   "metadata": {},
   "outputs": [],
   "source": [
    "gauth = GoogleAuth('settings.yaml')"
   ]
  },
  {
   "cell_type": "code",
   "execution_count": 5,
   "metadata": {},
   "outputs": [],
   "source": [
    "drive = GoogleDrive(gauth)"
   ]
  },
  {
   "cell_type": "code",
   "execution_count": 6,
   "metadata": {},
   "outputs": [
    {
     "name": "stdout",
     "output_type": "stream",
     "text": [
      "Your browser has been opened to visit:\n",
      "\n",
      "    https://accounts.google.com/o/oauth2/auth?client_id=159621982429-9ra7ouk195ctah0n3uev5b2kfi7enc9d.apps.googleusercontent.com&redirect_uri=http%3A%2F%2Flocalhost%3A8080%2F&scope=https%3A%2F%2Fwww.googleapis.com%2Fauth%2Fdrive&access_type=offline&response_type=code\n",
      "\n",
      "Authentication successful.\n"
     ]
    }
   ],
   "source": [
    "gauth.LocalWebserverAuth()"
   ]
  },
  {
   "cell_type": "markdown",
   "metadata": {},
   "source": [
    "List files"
   ]
  },
  {
   "cell_type": "code",
   "execution_count": 7,
   "metadata": {},
   "outputs": [
    {
     "name": "stdout",
     "output_type": "stream",
     "text": [
      "title: Hands-on Deep Learning algorithms Sudharsan Ravichandiran.pdf, id: 10pUR5kSVRIoRo-JdH-PCWjp8B629nSDe\n",
      "title: arduino_tinyml_workshop.ipynb, id: 0B-Quf9XRonO_R2tFSnlSSF8ycXhSWGlGQWhRNU5sUi1xanBV\n",
      "title: Amberwood renovations, id: 1XJeyMqmDEZzfrvTl_734gHLe1Sz2KCE_3nV5QfqhQy8\n",
      "title: documents, id: 1KTkmw0xcOShN5ESI5k6tu-5gwDBJEiv5\n",
      "title: Videos, id: 1tWll4ALr3-8QY50lxE2uKyxfA3rwtgdx\n",
      "title: datasets, id: 15ozj8kwQZ_4MPSr4BULZ_IRJtGtJthih\n",
      "title: aerial_detection_data_for_github, id: 1QpE_iRDq1hUzYNBXSBSnmfe6SgTYE3J4\n",
      "title: Colab Notebooks, id: 1y6csTPsIMyNiqvap14PxXHYAE3LEf_0i\n",
      "title: Photos, id: 0B-Quf9XRonO_V0oxQXdvMUlYZHc\n"
     ]
    }
   ],
   "source": [
    "file_list = drive.ListFile({'q': \"'root' in parents and trashed=false\"}).GetList()\n",
    "for file1 in file_list:\n",
    "    print('title: %s, id: %s' % (file1['title'], file1['id']))"
   ]
  },
  {
   "cell_type": "markdown",
   "metadata": {},
   "source": [
    "Output: \n",
    "```\n",
    "title: Hello.txt, id: 1S-qEsP6ZEHhmkGsX85J5O3jr6jMHX-g5\n",
    "title: Amberwood renovations, id: 1XJeyMqmDEZzfrvTl_734gHLe1Sz2KCE_3nV5QfqhQy8\n",
    "title: deOldifyImages, id: 1J3TdUP2jQleasC1PoUlO6JV0gnsXZiv8\n",
    "title: clouderizer, id: 1kTgmEvLXQl3kDx72lgYrsY2Is7UJJBsI\n",
    "title: IFTTT, id: 1MK3wSrXoNnF1zW9yDyQuRuvjne72PbeI\n",
    "title: Colab Notebooks, id: 1y6csTPsIMyNiqvap14PxXHYAE3LEf_0i\n",
    "title: Photos, id: 0B-Quf9XRonO_V0oxQXdvMUlYZHc\n",
    "```"
   ]
  },
  {
   "cell_type": "markdown",
   "metadata": {},
   "source": [
    "## List files in a dir"
   ]
  },
  {
   "cell_type": "code",
   "execution_count": 13,
   "metadata": {},
   "outputs": [
    {
     "name": "stdout",
     "output_type": "stream",
     "text": [
      "Help on method ListFile in module pydrive.drive:\n",
      "\n",
      "ListFile(param=None) method of pydrive.drive.GoogleDrive instance\n",
      "    Create an instance of GoogleDriveFileList with auth of this instance.\n",
      "    \n",
      "    This method will not fetch from Files.List().\n",
      "    \n",
      "    :param param: parameter to be sent to Files.List().\n",
      "    :type param: dict.\n",
      "    :returns: pydrive.files.GoogleDriveFileList -- initialized with auth of this instance.\n",
      "\n"
     ]
    }
   ],
   "source": [
    "help(drive.ListFile)"
   ]
  },
  {
   "cell_type": "code",
   "execution_count": 12,
   "metadata": {},
   "outputs": [
    {
     "name": "stdout",
     "output_type": "stream",
     "text": [
      "15ozj8kwQZ_4MPSr4BULZ_IRJtGtJthih\n"
     ]
    }
   ],
   "source": [
    "for file1 in file_list:\n",
    "    if file1['title'] == 'datasets':\n",
    "        datasets_id = file1['id']\n",
    "        print(datasets_id)"
   ]
  },
  {
   "cell_type": "markdown",
   "metadata": {},
   "source": [
    "## Upload a file"
   ]
  },
  {
   "cell_type": "code",
   "execution_count": null,
   "metadata": {},
   "outputs": [],
   "source": [
    "filename = 'Hello_3.txt'\n",
    "file1 = drive.CreateFile({'title': filename})  # Create GoogleDriveFile instance with title 'Hello.txt'.\n",
    "file1.SetContentString('Hello World!') # Set content of the file from given string.\n",
    "file1.Upload()"
   ]
  },
  {
   "cell_type": "code",
   "execution_count": null,
   "metadata": {},
   "outputs": [],
   "source": []
  }
 ],
 "metadata": {
  "kernelspec": {
   "display_name": "Python 3",
   "language": "python",
   "name": "python3"
  },
  "language_info": {
   "codemirror_mode": {
    "name": "ipython",
    "version": 3
   },
   "file_extension": ".py",
   "mimetype": "text/x-python",
   "name": "python",
   "nbconvert_exporter": "python",
   "pygments_lexer": "ipython3",
   "version": "3.7.3"
  }
 },
 "nbformat": 4,
 "nbformat_minor": 4
}
