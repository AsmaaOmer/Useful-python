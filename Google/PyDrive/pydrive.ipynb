{
 "cells": [
  {
   "cell_type": "markdown",
   "metadata": {},
   "source": [
    "ALWAYS REQUIRES BROWSER AUTHENTICATION AS OATH2, WHAT A HASSLE. TLDR - just upload files using GDrive web page or FileZilla\n",
    "\n",
    "* https://github.com/gsuitedevs/PyDrive\n",
    "* https://gsuitedevs.github.io/PyDrive/docs/build/html/index.html\n",
    "* [Blog post](https://medium.com/@annissouames99/how-to-upload-files-automatically-to-drive-with-python-ee19bb13dda)\n",
    "\n",
    "Download client_secrets.json from Google API Console and OAuth2.0 is done in two lines. You can customize behavior of OAuth2 in one settings file settings.yaml."
   ]
  },
  {
   "cell_type": "code",
   "execution_count": null,
   "metadata": {},
   "outputs": [],
   "source": [
    "#!pip install PyDrive"
   ]
  },
  {
   "cell_type": "code",
   "execution_count": null,
   "metadata": {},
   "outputs": [],
   "source": [
    "from pydrive.auth import GoogleAuth\n",
    "from pydrive.drive import GoogleDrive"
   ]
  },
  {
   "cell_type": "code",
   "execution_count": null,
   "metadata": {},
   "outputs": [],
   "source": [
    "# gauth = GoogleAuth() # for load secrets from this dir "
   ]
  },
  {
   "cell_type": "markdown",
   "metadata": {},
   "source": [
    "## Settings.yaml\n",
    "We probably don't want our secrets in the working dir, so use `settings.yaml` instead"
   ]
  },
  {
   "cell_type": "code",
   "execution_count": null,
   "metadata": {},
   "outputs": [],
   "source": [
    "gauth = GoogleAuth('settings.yaml')"
   ]
  },
  {
   "cell_type": "code",
   "execution_count": null,
   "metadata": {},
   "outputs": [],
   "source": [
    "drive = GoogleDrive(gauth)"
   ]
  },
  {
   "cell_type": "code",
   "execution_count": null,
   "metadata": {},
   "outputs": [],
   "source": [
    "gauth.LocalWebserverAuth()"
   ]
  },
  {
   "cell_type": "markdown",
   "metadata": {},
   "source": [
    "List files"
   ]
  },
  {
   "cell_type": "code",
   "execution_count": null,
   "metadata": {},
   "outputs": [],
   "source": [
    "file_list = drive.ListFile({'q': \"'root' in parents and trashed=false\"}).GetList()\n",
    "for file1 in file_list:\n",
    "    print('title: %s, id: %s' % (file1['title'], file1['id']))"
   ]
  },
  {
   "cell_type": "markdown",
   "metadata": {},
   "source": [
    "Output: \n",
    "```\n",
    "title: Hello.txt, id: 1S-qEsP6ZEHhmkGsX85J5O3jr6jMHX-g5\n",
    "title: Amberwood renovations, id: 1XJeyMqmDEZzfrvTl_734gHLe1Sz2KCE_3nV5QfqhQy8\n",
    "title: deOldifyImages, id: 1J3TdUP2jQleasC1PoUlO6JV0gnsXZiv8\n",
    "title: clouderizer, id: 1kTgmEvLXQl3kDx72lgYrsY2Is7UJJBsI\n",
    "title: IFTTT, id: 1MK3wSrXoNnF1zW9yDyQuRuvjne72PbeI\n",
    "title: Colab Notebooks, id: 1y6csTPsIMyNiqvap14PxXHYAE3LEf_0i\n",
    "title: Photos, id: 0B-Quf9XRonO_V0oxQXdvMUlYZHc\n",
    "```"
   ]
  },
  {
   "cell_type": "markdown",
   "metadata": {},
   "source": [
    "Upload a file"
   ]
  },
  {
   "cell_type": "code",
   "execution_count": null,
   "metadata": {},
   "outputs": [],
   "source": [
    "filename = 'Hello_3.txt'\n",
    "file1 = drive.CreateFile({'title': filename})  # Create GoogleDriveFile instance with title 'Hello.txt'.\n",
    "file1.SetContentString('Hello World!') # Set content of the file from given string.\n",
    "file1.Upload()"
   ]
  },
  {
   "cell_type": "code",
   "execution_count": null,
   "metadata": {},
   "outputs": [],
   "source": []
  }
 ],
 "metadata": {
  "kernelspec": {
   "display_name": "Python 3",
   "language": "python",
   "name": "python3"
  },
  "language_info": {
   "codemirror_mode": {
    "name": "ipython",
    "version": 3
   },
   "file_extension": ".py",
   "mimetype": "text/x-python",
   "name": "python",
   "nbconvert_exporter": "python",
   "pygments_lexer": "ipython3",
   "version": "3.7.3"
  }
 },
 "nbformat": 4,
 "nbformat_minor": 4
}
