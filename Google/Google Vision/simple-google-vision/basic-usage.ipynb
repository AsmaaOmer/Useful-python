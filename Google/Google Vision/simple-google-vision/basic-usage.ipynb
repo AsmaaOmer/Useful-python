{
 "cells": [
  {
   "cell_type": "code",
   "execution_count": 1,
   "metadata": {},
   "outputs": [],
   "source": [
    "import gvision.core as gv\n",
    "import io"
   ]
  },
  {
   "cell_type": "code",
   "execution_count": 2,
   "metadata": {},
   "outputs": [],
   "source": [
    "api_key_file = '/Users/robin/Documents/Google_API_key.json'\n",
    "image_file = '/Users/robin/Pictures/couple.jpg'"
   ]
  },
  {
   "cell_type": "markdown",
   "metadata": {},
   "source": [
    "Init the api using you API key file, min is named `Google_API_key.json`"
   ]
  },
  {
   "cell_type": "code",
   "execution_count": 3,
   "metadata": {},
   "outputs": [],
   "source": [
    "api = gv.Vision(api_key_file)"
   ]
  },
  {
   "cell_type": "code",
   "execution_count": 4,
   "metadata": {},
   "outputs": [],
   "source": [
    "with io.open(image_file, 'rb')as img_bytes:\n",
    "    response = api.object_localization(img_bytes.read())"
   ]
  },
  {
   "cell_type": "markdown",
   "metadata": {},
   "source": [
    "Get the objects"
   ]
  },
  {
   "cell_type": "code",
   "execution_count": 5,
   "metadata": {},
   "outputs": [],
   "source": [
    "objects = response.localized_object_annotations"
   ]
  },
  {
   "cell_type": "code",
   "execution_count": 6,
   "metadata": {},
   "outputs": [
    {
     "data": {
      "text/plain": [
       "6"
      ]
     },
     "execution_count": 6,
     "metadata": {},
     "output_type": "execute_result"
    }
   ],
   "source": [
    "len(objects)"
   ]
  },
  {
   "cell_type": "code",
   "execution_count": 7,
   "metadata": {},
   "outputs": [
    {
     "data": {
      "text/plain": [
       "mid: \"/m/01g317\"\n",
       "name: \"Person\"\n",
       "score: 0.9172587990760803\n",
       "bounding_poly {\n",
       "  normalized_vertices {\n",
       "    x: 0.43618151545524597\n",
       "    y: 0.03939514234662056\n",
       "  }\n",
       "  normalized_vertices {\n",
       "    x: 0.8337361216545105\n",
       "    y: 0.03939514234662056\n",
       "  }\n",
       "  normalized_vertices {\n",
       "    x: 0.8337361216545105\n",
       "    y: 0.9554947018623352\n",
       "  }\n",
       "  normalized_vertices {\n",
       "    x: 0.43618151545524597\n",
       "    y: 0.9554947018623352\n",
       "  }\n",
       "}"
      ]
     },
     "execution_count": 7,
     "metadata": {},
     "output_type": "execute_result"
    }
   ],
   "source": [
    "objects[0]"
   ]
  },
  {
   "cell_type": "markdown",
   "metadata": {},
   "source": [
    "There are several helper functions for working with objects.\n",
    "\n",
    "Get a list of unique object classes:"
   ]
  },
  {
   "cell_type": "code",
   "execution_count": 8,
   "metadata": {},
   "outputs": [
    {
     "data": {
      "text/plain": [
       "['outerwear', 'dress', 'tie', 'person', 'pants']"
      ]
     },
     "execution_count": 8,
     "metadata": {},
     "output_type": "execute_result"
    }
   ],
   "source": [
    "gv.get_objects(objects)"
   ]
  },
  {
   "cell_type": "markdown",
   "metadata": {},
   "source": [
    "Get the list of confidences as % for a single object class:"
   ]
  },
  {
   "cell_type": "code",
   "execution_count": 9,
   "metadata": {},
   "outputs": [
    {
     "data": {
      "text/plain": [
       "[91.7, 87.8]"
      ]
     },
     "execution_count": 9,
     "metadata": {},
     "output_type": "execute_result"
    }
   ],
   "source": [
    "gv.get_object_confidences(objects, 'person')"
   ]
  },
  {
   "cell_type": "markdown",
   "metadata": {},
   "source": [
    "Get a summary of the number of each object class:"
   ]
  },
  {
   "cell_type": "code",
   "execution_count": 10,
   "metadata": {},
   "outputs": [
    {
     "data": {
      "text/plain": [
       "{'outerwear': 1, 'dress': 1, 'tie': 1, 'person': 2, 'pants': 1}"
      ]
     },
     "execution_count": 10,
     "metadata": {},
     "output_type": "execute_result"
    }
   ],
   "source": [
    "gv.get_objects_summary(objects)"
   ]
  },
  {
   "cell_type": "markdown",
   "metadata": {},
   "source": [
    "For a single box get the box coordinates, unpack the strange `normalized_vertices` data:"
   ]
  },
  {
   "cell_type": "code",
   "execution_count": 11,
   "metadata": {},
   "outputs": [
    {
     "name": "stdout",
     "output_type": "stream",
     "text": [
      "Help on function get_box in module gvision.core:\n",
      "\n",
      "get_box(normalized_vertices: List)\n",
      "    Return the relative bounxing box coordinates\n",
      "    defined by the tuple (y_min, x_min, y_max, x_max)\n",
      "    where the coordinates are floats in the range [0.0, 1.0] and\n",
      "    relative to the width and height of the image.\n",
      "\n"
     ]
    }
   ],
   "source": [
    "help(gv.get_box)"
   ]
  },
  {
   "cell_type": "code",
   "execution_count": 11,
   "metadata": {},
   "outputs": [
    {
     "data": {
      "text/plain": [
       "[0.0394, 0.43618, 0.95549, 0.83374]"
      ]
     },
     "execution_count": 11,
     "metadata": {},
     "output_type": "execute_result"
    }
   ],
   "source": [
    "gv.get_box(objects[0].bounding_poly.normalized_vertices)"
   ]
  },
  {
   "cell_type": "code",
   "execution_count": null,
   "metadata": {},
   "outputs": [],
   "source": []
  }
 ],
 "metadata": {
  "kernelspec": {
   "display_name": "Python 3",
   "language": "python",
   "name": "python3"
  },
  "language_info": {
   "codemirror_mode": {
    "name": "ipython",
    "version": 3
   },
   "file_extension": ".py",
   "mimetype": "text/x-python",
   "name": "python",
   "nbconvert_exporter": "python",
   "pygments_lexer": "ipython3",
   "version": "3.7.3"
  }
 },
 "nbformat": 4,
 "nbformat_minor": 4
}
