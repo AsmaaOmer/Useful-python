{
 "cells": [
  {
   "cell_type": "markdown",
   "metadata": {},
   "source": [
    "* https://www.kaggle.com/loveall/clicks-conversion-tracking\n",
    "* [Good notebook](https://www.kaggle.com/chrisbow/an-introduction-to-facebook-ad-analysis-using-r) -> work with client to ensure insights are relevant and actionable\n",
    "\n",
    "The data used in this project is from an anonymous organisation’s social media ad campaign. The data file can be downloaded from here. The file conversion_data.csv contains 1143 observations in 11 variables. Below are the descriptions of the variables.\n",
    "\n",
    "1.) ad_id: an unique ID for each ad.\n",
    "\n",
    "2.) xyzcampaignid: an ID associated with each ad campaign of XYZ company.\n",
    "\n",
    "3.) fbcampaignid: an ID associated with how Facebook tracks each campaign.\n",
    "\n",
    "4.) age: age of the person to whom the ad is shown.\n",
    "\n",
    "5.) gender: gender of the person to whim the add is shown\n",
    "\n",
    "6.) interest: a code specifying the category to which the person’s interest belongs (interests are as mentioned in the person’s Facebook public profile).\n",
    "\n",
    "7.) Impressions: the number of times the ad was shown.\n",
    "\n",
    "8.) Clicks: number of clicks on for that ad.\n",
    "\n",
    "9.) Spent: Amount paid by company xyz to Facebook, to show that ad.\n",
    "\n",
    "10.) Total conversion: Total number of people who enquired about the product after seeing the ad.\n",
    "\n",
    "11.) Approved conversion: Total number of people who bought the product after seeing the ad.\n",
    "\n",
    "## EDA\n",
    "Lets first explore the dataset. Initial impression is it is very small"
   ]
  },
  {
   "cell_type": "code",
   "execution_count": 1,
   "metadata": {},
   "outputs": [],
   "source": [
    "import pandas as pd\n",
    "import seaborn as sns\n",
    "sns.set()"
   ]
  },
  {
   "cell_type": "code",
   "execution_count": 2,
   "metadata": {},
   "outputs": [
    {
     "data": {
      "text/plain": [
       "'0.23.4'"
      ]
     },
     "execution_count": 2,
     "metadata": {},
     "output_type": "execute_result"
    }
   ],
   "source": [
    "pd.__version__"
   ]
  },
  {
   "cell_type": "code",
   "execution_count": 3,
   "metadata": {},
   "outputs": [
    {
     "name": "stdout",
     "output_type": "stream",
     "text": [
      "EDA.ipynb  KAG_conversion_data.csv  README.md\n"
     ]
    }
   ],
   "source": [
    "ls"
   ]
  },
  {
   "cell_type": "code",
   "execution_count": 4,
   "metadata": {},
   "outputs": [],
   "source": [
    "df = pd.read_csv('KAG_conversion_data.csv')"
   ]
  },
  {
   "cell_type": "code",
   "execution_count": 5,
   "metadata": {},
   "outputs": [
    {
     "data": {
      "text/html": [
       "<div>\n",
       "<style scoped>\n",
       "    .dataframe tbody tr th:only-of-type {\n",
       "        vertical-align: middle;\n",
       "    }\n",
       "\n",
       "    .dataframe tbody tr th {\n",
       "        vertical-align: top;\n",
       "    }\n",
       "\n",
       "    .dataframe thead th {\n",
       "        text-align: right;\n",
       "    }\n",
       "</style>\n",
       "<table border=\"1\" class=\"dataframe\">\n",
       "  <thead>\n",
       "    <tr style=\"text-align: right;\">\n",
       "      <th></th>\n",
       "      <th>ad_id</th>\n",
       "      <th>xyz_campaign_id</th>\n",
       "      <th>fb_campaign_id</th>\n",
       "      <th>age</th>\n",
       "      <th>gender</th>\n",
       "      <th>interest</th>\n",
       "      <th>Impressions</th>\n",
       "      <th>Clicks</th>\n",
       "      <th>Spent</th>\n",
       "      <th>Total_Conversion</th>\n",
       "      <th>Approved_Conversion</th>\n",
       "    </tr>\n",
       "  </thead>\n",
       "  <tbody>\n",
       "    <tr>\n",
       "      <th>0</th>\n",
       "      <td>708746</td>\n",
       "      <td>916</td>\n",
       "      <td>103916</td>\n",
       "      <td>30-34</td>\n",
       "      <td>M</td>\n",
       "      <td>15</td>\n",
       "      <td>7350</td>\n",
       "      <td>1</td>\n",
       "      <td>1.43</td>\n",
       "      <td>2</td>\n",
       "      <td>1</td>\n",
       "    </tr>\n",
       "    <tr>\n",
       "      <th>1</th>\n",
       "      <td>708749</td>\n",
       "      <td>916</td>\n",
       "      <td>103917</td>\n",
       "      <td>30-34</td>\n",
       "      <td>M</td>\n",
       "      <td>16</td>\n",
       "      <td>17861</td>\n",
       "      <td>2</td>\n",
       "      <td>1.82</td>\n",
       "      <td>2</td>\n",
       "      <td>0</td>\n",
       "    </tr>\n",
       "    <tr>\n",
       "      <th>2</th>\n",
       "      <td>708771</td>\n",
       "      <td>916</td>\n",
       "      <td>103920</td>\n",
       "      <td>30-34</td>\n",
       "      <td>M</td>\n",
       "      <td>20</td>\n",
       "      <td>693</td>\n",
       "      <td>0</td>\n",
       "      <td>0.00</td>\n",
       "      <td>1</td>\n",
       "      <td>0</td>\n",
       "    </tr>\n",
       "    <tr>\n",
       "      <th>3</th>\n",
       "      <td>708815</td>\n",
       "      <td>916</td>\n",
       "      <td>103928</td>\n",
       "      <td>30-34</td>\n",
       "      <td>M</td>\n",
       "      <td>28</td>\n",
       "      <td>4259</td>\n",
       "      <td>1</td>\n",
       "      <td>1.25</td>\n",
       "      <td>1</td>\n",
       "      <td>0</td>\n",
       "    </tr>\n",
       "    <tr>\n",
       "      <th>4</th>\n",
       "      <td>708818</td>\n",
       "      <td>916</td>\n",
       "      <td>103928</td>\n",
       "      <td>30-34</td>\n",
       "      <td>M</td>\n",
       "      <td>28</td>\n",
       "      <td>4133</td>\n",
       "      <td>1</td>\n",
       "      <td>1.29</td>\n",
       "      <td>1</td>\n",
       "      <td>1</td>\n",
       "    </tr>\n",
       "  </tbody>\n",
       "</table>\n",
       "</div>"
      ],
      "text/plain": [
       "    ad_id  xyz_campaign_id  fb_campaign_id    age gender  interest  \\\n",
       "0  708746              916          103916  30-34      M        15   \n",
       "1  708749              916          103917  30-34      M        16   \n",
       "2  708771              916          103920  30-34      M        20   \n",
       "3  708815              916          103928  30-34      M        28   \n",
       "4  708818              916          103928  30-34      M        28   \n",
       "\n",
       "   Impressions  Clicks  Spent  Total_Conversion  Approved_Conversion  \n",
       "0         7350       1   1.43                 2                    1  \n",
       "1        17861       2   1.82                 2                    0  \n",
       "2          693       0   0.00                 1                    0  \n",
       "3         4259       1   1.25                 1                    0  \n",
       "4         4133       1   1.29                 1                    1  "
      ]
     },
     "execution_count": 5,
     "metadata": {},
     "output_type": "execute_result"
    }
   ],
   "source": [
    "df.head()"
   ]
  },
  {
   "cell_type": "code",
   "execution_count": 6,
   "metadata": {},
   "outputs": [
    {
     "data": {
      "text/plain": [
       "1143"
      ]
     },
     "execution_count": 6,
     "metadata": {},
     "output_type": "execute_result"
    }
   ],
   "source": [
    "rows = df.shape[0]\n",
    "rows"
   ]
  },
  {
   "cell_type": "code",
   "execution_count": 7,
   "metadata": {},
   "outputs": [
    {
     "data": {
      "text/html": [
       "<div>\n",
       "<style scoped>\n",
       "    .dataframe tbody tr th:only-of-type {\n",
       "        vertical-align: middle;\n",
       "    }\n",
       "\n",
       "    .dataframe tbody tr th {\n",
       "        vertical-align: top;\n",
       "    }\n",
       "\n",
       "    .dataframe thead th {\n",
       "        text-align: right;\n",
       "    }\n",
       "</style>\n",
       "<table border=\"1\" class=\"dataframe\">\n",
       "  <thead>\n",
       "    <tr style=\"text-align: right;\">\n",
       "      <th></th>\n",
       "      <th>ad_id</th>\n",
       "      <th>xyz_campaign_id</th>\n",
       "      <th>fb_campaign_id</th>\n",
       "      <th>interest</th>\n",
       "      <th>Impressions</th>\n",
       "      <th>Clicks</th>\n",
       "      <th>Spent</th>\n",
       "      <th>Total_Conversion</th>\n",
       "      <th>Approved_Conversion</th>\n",
       "    </tr>\n",
       "  </thead>\n",
       "  <tbody>\n",
       "    <tr>\n",
       "      <th>count</th>\n",
       "      <td>1.143000e+03</td>\n",
       "      <td>1143.000000</td>\n",
       "      <td>1143.000000</td>\n",
       "      <td>1143.000000</td>\n",
       "      <td>1.143000e+03</td>\n",
       "      <td>1143.000000</td>\n",
       "      <td>1143.000000</td>\n",
       "      <td>1143.000000</td>\n",
       "      <td>1143.000000</td>\n",
       "    </tr>\n",
       "    <tr>\n",
       "      <th>mean</th>\n",
       "      <td>9.872611e+05</td>\n",
       "      <td>1067.382327</td>\n",
       "      <td>133783.989501</td>\n",
       "      <td>32.766404</td>\n",
       "      <td>1.867321e+05</td>\n",
       "      <td>33.390201</td>\n",
       "      <td>51.360656</td>\n",
       "      <td>2.855643</td>\n",
       "      <td>0.944007</td>\n",
       "    </tr>\n",
       "    <tr>\n",
       "      <th>std</th>\n",
       "      <td>1.939928e+05</td>\n",
       "      <td>121.629393</td>\n",
       "      <td>20500.308622</td>\n",
       "      <td>26.952131</td>\n",
       "      <td>3.127622e+05</td>\n",
       "      <td>56.892438</td>\n",
       "      <td>86.908418</td>\n",
       "      <td>4.483593</td>\n",
       "      <td>1.737708</td>\n",
       "    </tr>\n",
       "    <tr>\n",
       "      <th>min</th>\n",
       "      <td>7.087460e+05</td>\n",
       "      <td>916.000000</td>\n",
       "      <td>103916.000000</td>\n",
       "      <td>2.000000</td>\n",
       "      <td>8.700000e+01</td>\n",
       "      <td>0.000000</td>\n",
       "      <td>0.000000</td>\n",
       "      <td>0.000000</td>\n",
       "      <td>0.000000</td>\n",
       "    </tr>\n",
       "    <tr>\n",
       "      <th>25%</th>\n",
       "      <td>7.776325e+05</td>\n",
       "      <td>936.000000</td>\n",
       "      <td>115716.000000</td>\n",
       "      <td>16.000000</td>\n",
       "      <td>6.503500e+03</td>\n",
       "      <td>1.000000</td>\n",
       "      <td>1.480000</td>\n",
       "      <td>1.000000</td>\n",
       "      <td>0.000000</td>\n",
       "    </tr>\n",
       "    <tr>\n",
       "      <th>50%</th>\n",
       "      <td>1.121185e+06</td>\n",
       "      <td>1178.000000</td>\n",
       "      <td>144549.000000</td>\n",
       "      <td>25.000000</td>\n",
       "      <td>5.150900e+04</td>\n",
       "      <td>8.000000</td>\n",
       "      <td>12.370000</td>\n",
       "      <td>1.000000</td>\n",
       "      <td>1.000000</td>\n",
       "    </tr>\n",
       "    <tr>\n",
       "      <th>75%</th>\n",
       "      <td>1.121804e+06</td>\n",
       "      <td>1178.000000</td>\n",
       "      <td>144657.500000</td>\n",
       "      <td>31.000000</td>\n",
       "      <td>2.217690e+05</td>\n",
       "      <td>37.500000</td>\n",
       "      <td>60.025000</td>\n",
       "      <td>3.000000</td>\n",
       "      <td>1.000000</td>\n",
       "    </tr>\n",
       "    <tr>\n",
       "      <th>max</th>\n",
       "      <td>1.314415e+06</td>\n",
       "      <td>1178.000000</td>\n",
       "      <td>179982.000000</td>\n",
       "      <td>114.000000</td>\n",
       "      <td>3.052003e+06</td>\n",
       "      <td>421.000000</td>\n",
       "      <td>639.949998</td>\n",
       "      <td>60.000000</td>\n",
       "      <td>21.000000</td>\n",
       "    </tr>\n",
       "  </tbody>\n",
       "</table>\n",
       "</div>"
      ],
      "text/plain": [
       "              ad_id  xyz_campaign_id  fb_campaign_id     interest  \\\n",
       "count  1.143000e+03      1143.000000     1143.000000  1143.000000   \n",
       "mean   9.872611e+05      1067.382327   133783.989501    32.766404   \n",
       "std    1.939928e+05       121.629393    20500.308622    26.952131   \n",
       "min    7.087460e+05       916.000000   103916.000000     2.000000   \n",
       "25%    7.776325e+05       936.000000   115716.000000    16.000000   \n",
       "50%    1.121185e+06      1178.000000   144549.000000    25.000000   \n",
       "75%    1.121804e+06      1178.000000   144657.500000    31.000000   \n",
       "max    1.314415e+06      1178.000000   179982.000000   114.000000   \n",
       "\n",
       "        Impressions       Clicks        Spent  Total_Conversion  \\\n",
       "count  1.143000e+03  1143.000000  1143.000000       1143.000000   \n",
       "mean   1.867321e+05    33.390201    51.360656          2.855643   \n",
       "std    3.127622e+05    56.892438    86.908418          4.483593   \n",
       "min    8.700000e+01     0.000000     0.000000          0.000000   \n",
       "25%    6.503500e+03     1.000000     1.480000          1.000000   \n",
       "50%    5.150900e+04     8.000000    12.370000          1.000000   \n",
       "75%    2.217690e+05    37.500000    60.025000          3.000000   \n",
       "max    3.052003e+06   421.000000   639.949998         60.000000   \n",
       "\n",
       "       Approved_Conversion  \n",
       "count          1143.000000  \n",
       "mean              0.944007  \n",
       "std               1.737708  \n",
       "min               0.000000  \n",
       "25%               0.000000  \n",
       "50%               1.000000  \n",
       "75%               1.000000  \n",
       "max              21.000000  "
      ]
     },
     "execution_count": 7,
     "metadata": {},
     "output_type": "execute_result"
    }
   ],
   "source": [
    "df.describe()"
   ]
  },
  {
   "cell_type": "markdown",
   "metadata": {},
   "source": [
    "### Gender"
   ]
  },
  {
   "cell_type": "code",
   "execution_count": 8,
   "metadata": {},
   "outputs": [
    {
     "data": {
      "text/plain": [
       "count     1143\n",
       "unique       2\n",
       "top          M\n",
       "freq       592\n",
       "Name: gender, dtype: object"
      ]
     },
     "execution_count": 8,
     "metadata": {},
     "output_type": "execute_result"
    }
   ],
   "source": [
    "df['gender'].describe()"
   ]
  },
  {
   "cell_type": "code",
   "execution_count": 9,
   "metadata": {},
   "outputs": [
    {
     "data": {
      "text/plain": [
       "51"
      ]
     },
     "execution_count": 9,
     "metadata": {},
     "output_type": "execute_result"
    }
   ],
   "source": [
    "pct_male = int(100*df['gender'][df['gender'] == 'M'].count()/df['gender'].count())\n",
    "pct_male"
   ]
  },
  {
   "cell_type": "code",
   "execution_count": 10,
   "metadata": {},
   "outputs": [
    {
     "data": {
      "text/plain": [
       "LabelEncoder()"
      ]
     },
     "execution_count": 10,
     "metadata": {},
     "output_type": "execute_result"
    }
   ],
   "source": [
    "from sklearn import preprocessing\n",
    "le = preprocessing.LabelEncoder()\n",
    "le.fit(df['gender'])"
   ]
  },
  {
   "cell_type": "code",
   "execution_count": 11,
   "metadata": {},
   "outputs": [
    {
     "data": {
      "text/plain": [
       "array(['F', 'M'], dtype=object)"
      ]
     },
     "execution_count": 11,
     "metadata": {},
     "output_type": "execute_result"
    }
   ],
   "source": [
    "le.classes_"
   ]
  },
  {
   "cell_type": "code",
   "execution_count": 12,
   "metadata": {},
   "outputs": [],
   "source": [
    "df['gender_encoded'] = le.transform(df['gender'])"
   ]
  },
  {
   "cell_type": "code",
   "execution_count": 13,
   "metadata": {},
   "outputs": [
    {
     "data": {
      "text/html": [
       "<div>\n",
       "<style scoped>\n",
       "    .dataframe tbody tr th:only-of-type {\n",
       "        vertical-align: middle;\n",
       "    }\n",
       "\n",
       "    .dataframe tbody tr th {\n",
       "        vertical-align: top;\n",
       "    }\n",
       "\n",
       "    .dataframe thead th {\n",
       "        text-align: right;\n",
       "    }\n",
       "</style>\n",
       "<table border=\"1\" class=\"dataframe\">\n",
       "  <thead>\n",
       "    <tr style=\"text-align: right;\">\n",
       "      <th></th>\n",
       "      <th>gender_encoded</th>\n",
       "      <th>gender</th>\n",
       "    </tr>\n",
       "  </thead>\n",
       "  <tbody>\n",
       "    <tr>\n",
       "      <th>74</th>\n",
       "      <td>1</td>\n",
       "      <td>M</td>\n",
       "    </tr>\n",
       "    <tr>\n",
       "      <th>75</th>\n",
       "      <td>1</td>\n",
       "      <td>M</td>\n",
       "    </tr>\n",
       "    <tr>\n",
       "      <th>76</th>\n",
       "      <td>1</td>\n",
       "      <td>M</td>\n",
       "    </tr>\n",
       "    <tr>\n",
       "      <th>77</th>\n",
       "      <td>0</td>\n",
       "      <td>F</td>\n",
       "    </tr>\n",
       "    <tr>\n",
       "      <th>78</th>\n",
       "      <td>0</td>\n",
       "      <td>F</td>\n",
       "    </tr>\n",
       "    <tr>\n",
       "      <th>79</th>\n",
       "      <td>0</td>\n",
       "      <td>F</td>\n",
       "    </tr>\n",
       "  </tbody>\n",
       "</table>\n",
       "</div>"
      ],
      "text/plain": [
       "    gender_encoded gender\n",
       "74               1      M\n",
       "75               1      M\n",
       "76               1      M\n",
       "77               0      F\n",
       "78               0      F\n",
       "79               0      F"
      ]
     },
     "execution_count": 13,
     "metadata": {},
     "output_type": "execute_result"
    }
   ],
   "source": [
    "df[['gender_encoded', 'gender']].iloc[74:80]"
   ]
  },
  {
   "cell_type": "markdown",
   "metadata": {},
   "source": [
    "Pretty evenly balanced male/female. Encode as 0,1 using https://scikit-learn.org/stable/modules/generated/sklearn.preprocessing.LabelEncoder.html"
   ]
  },
  {
   "cell_type": "markdown",
   "metadata": {},
   "source": [
    "### Spend"
   ]
  },
  {
   "cell_type": "code",
   "execution_count": 14,
   "metadata": {},
   "outputs": [
    {
     "data": {
      "image/png": "[encoded data removed]",
      "text/plain": [
       "<Figure size 432x288 with 1 Axes>"
      ]
     },
     "metadata": {
      "needs_background": "light"
     },
     "output_type": "display_data"
    }
   ],
   "source": [
    "df['Spent'].hist(bins=50);"
   ]
  },
  {
   "cell_type": "markdown",
   "metadata": {},
   "source": [
    "large number of zero spend. How about higher spends?"
   ]
  },
  {
   "cell_type": "code",
   "execution_count": 15,
   "metadata": {},
   "outputs": [
    {
     "data": {
      "image/png": "[encoded data removed]",
      "text/plain": [
       "<Figure size 432x288 with 1 Axes>"
      ]
     },
     "metadata": {
      "needs_background": "light"
     },
     "output_type": "display_data"
    }
   ],
   "source": [
    "df['Spent'][df['Spent'] > 10].hist(bins=50);"
   ]
  },
  {
   "cell_type": "markdown",
   "metadata": {},
   "source": [
    "### Unique ads\n",
    "All adds have unique ad_id.."
   ]
  },
  {
   "cell_type": "code",
   "execution_count": 16,
   "metadata": {},
   "outputs": [
    {
     "data": {
      "text/plain": [
       "1143"
      ]
     },
     "execution_count": 16,
     "metadata": {},
     "output_type": "execute_result"
    }
   ],
   "source": [
    "unique_ads = len(df['ad_id'].unique())\n",
    "unique_ads"
   ]
  },
  {
   "cell_type": "markdown",
   "metadata": {},
   "source": [
    "## fb_campaign_id"
   ]
  },
  {
   "cell_type": "code",
   "execution_count": 17,
   "metadata": {},
   "outputs": [
    {
     "data": {
      "text/plain": [
       "691"
      ]
     },
     "execution_count": 17,
     "metadata": {},
     "output_type": "execute_result"
    }
   ],
   "source": [
    "unique_fb = len(df['fb_campaign_id'].unique())\n",
    "unique_fb"
   ]
  },
  {
   "cell_type": "markdown",
   "metadata": {},
   "source": [
    "Many campaigns, how many entries?"
   ]
  },
  {
   "cell_type": "code",
   "execution_count": 18,
   "metadata": {},
   "outputs": [
    {
     "data": {
      "image/png": "[encoded data removed]",
      "text/plain": [
       "<Figure size 432x288 with 1 Axes>"
      ]
     },
     "metadata": {
      "needs_background": "light"
     },
     "output_type": "display_data"
    }
   ],
   "source": [
    "df.groupby('fb_campaign_id').count()['age'].hist();"
   ]
  },
  {
   "cell_type": "markdown",
   "metadata": {},
   "source": [
    "Most campaigns have a single entry only"
   ]
  },
  {
   "cell_type": "markdown",
   "metadata": {},
   "source": [
    "## xyzcampaignid\n",
    "Company campaign id"
   ]
  },
  {
   "cell_type": "code",
   "execution_count": 19,
   "metadata": {},
   "outputs": [
    {
     "data": {
      "text/plain": [
       "array([ 916,  936, 1178])"
      ]
     },
     "execution_count": 19,
     "metadata": {},
     "output_type": "execute_result"
    }
   ],
   "source": [
    "df['xyz_campaign_id'].unique()"
   ]
  },
  {
   "cell_type": "markdown",
   "metadata": {},
   "source": [
    "OK so only 3 campaigns by company"
   ]
  },
  {
   "cell_type": "code",
   "execution_count": 20,
   "metadata": {},
   "outputs": [
    {
     "data": {
      "text/plain": [
       "xyz_campaign_id\n",
       "916      54\n",
       "936     464\n",
       "1178    625\n",
       "Name: age, dtype: int64"
      ]
     },
     "execution_count": 20,
     "metadata": {},
     "output_type": "execute_result"
    }
   ],
   "source": [
    "df.groupby('xyz_campaign_id').count()['age']#.hist();"
   ]
  },
  {
   "cell_type": "markdown",
   "metadata": {},
   "source": [
    "Company total spend by campaign (put in its own dataframe for results)"
   ]
  },
  {
   "cell_type": "code",
   "execution_count": 21,
   "metadata": {},
   "outputs": [
    {
     "data": {
      "text/html": [
       "<div>\n",
       "<style scoped>\n",
       "    .dataframe tbody tr th:only-of-type {\n",
       "        vertical-align: middle;\n",
       "    }\n",
       "\n",
       "    .dataframe tbody tr th {\n",
       "        vertical-align: top;\n",
       "    }\n",
       "\n",
       "    .dataframe thead th {\n",
       "        text-align: right;\n",
       "    }\n",
       "</style>\n",
       "<table border=\"1\" class=\"dataframe\">\n",
       "  <thead>\n",
       "    <tr style=\"text-align: right;\">\n",
       "      <th></th>\n",
       "      <th>Spent</th>\n",
       "    </tr>\n",
       "    <tr>\n",
       "      <th>xyz_campaign_id</th>\n",
       "      <th></th>\n",
       "    </tr>\n",
       "  </thead>\n",
       "  <tbody>\n",
       "    <tr>\n",
       "      <th>916</th>\n",
       "      <td>149.710001</td>\n",
       "    </tr>\n",
       "    <tr>\n",
       "      <th>936</th>\n",
       "      <td>2893.369999</td>\n",
       "    </tr>\n",
       "    <tr>\n",
       "      <th>1178</th>\n",
       "      <td>55662.149959</td>\n",
       "    </tr>\n",
       "  </tbody>\n",
       "</table>\n",
       "</div>"
      ],
      "text/plain": [
       "                        Spent\n",
       "xyz_campaign_id              \n",
       "916                149.710001\n",
       "936               2893.369999\n",
       "1178             55662.149959"
      ]
     },
     "execution_count": 21,
     "metadata": {},
     "output_type": "execute_result"
    }
   ],
   "source": [
    "df_xyz_campaign = df.groupby('xyz_campaign_id').sum()['Spent']\n",
    "df_xyz_campaign = df_xyz_campaign.to_frame()\n",
    "df_xyz_campaign"
   ]
  },
  {
   "cell_type": "markdown",
   "metadata": {},
   "source": [
    "Get number of ads"
   ]
  },
  {
   "cell_type": "code",
   "execution_count": 22,
   "metadata": {},
   "outputs": [],
   "source": [
    "df_xyz_campaign = df_xyz_campaign.join(df.groupby('xyz_campaign_id').count()['age'])"
   ]
  },
  {
   "cell_type": "markdown",
   "metadata": {},
   "source": [
    "Mean Conversions by campaign"
   ]
  },
  {
   "cell_type": "code",
   "execution_count": 23,
   "metadata": {},
   "outputs": [],
   "source": [
    "df_xyz_campaign = df_xyz_campaign.join(df.groupby('xyz_campaign_id').mean()['Total_Conversion'])"
   ]
  },
  {
   "cell_type": "code",
   "execution_count": 24,
   "metadata": {},
   "outputs": [],
   "source": [
    "df_xyz_campaign = df_xyz_campaign.rename(columns={\"Spent\": \"total_spend\", \"age\": \"number_of_ads\", \"Total_Conversion\":\"mean_conversion\"})"
   ]
  },
  {
   "cell_type": "code",
   "execution_count": 25,
   "metadata": {},
   "outputs": [],
   "source": [
    "df_xyz_campaign['spend_per_ad'] = df_xyz_campaign['total_spend']/df_xyz_campaign['number_of_ads']"
   ]
  },
  {
   "cell_type": "code",
   "execution_count": 26,
   "metadata": {},
   "outputs": [
    {
     "data": {
      "text/html": [
       "<div>\n",
       "<style scoped>\n",
       "    .dataframe tbody tr th:only-of-type {\n",
       "        vertical-align: middle;\n",
       "    }\n",
       "\n",
       "    .dataframe tbody tr th {\n",
       "        vertical-align: top;\n",
       "    }\n",
       "\n",
       "    .dataframe thead th {\n",
       "        text-align: right;\n",
       "    }\n",
       "</style>\n",
       "<table border=\"1\" class=\"dataframe\">\n",
       "  <thead>\n",
       "    <tr style=\"text-align: right;\">\n",
       "      <th></th>\n",
       "      <th>total_spend</th>\n",
       "      <th>number_of_ads</th>\n",
       "      <th>mean_conversion</th>\n",
       "      <th>spend_per_ad</th>\n",
       "    </tr>\n",
       "    <tr>\n",
       "      <th>xyz_campaign_id</th>\n",
       "      <th></th>\n",
       "      <th></th>\n",
       "      <th></th>\n",
       "      <th></th>\n",
       "    </tr>\n",
       "  </thead>\n",
       "  <tbody>\n",
       "    <tr>\n",
       "      <th>916</th>\n",
       "      <td>149.710001</td>\n",
       "      <td>54</td>\n",
       "      <td>1.074074</td>\n",
       "      <td>2.772407</td>\n",
       "    </tr>\n",
       "    <tr>\n",
       "      <th>936</th>\n",
       "      <td>2893.369999</td>\n",
       "      <td>464</td>\n",
       "      <td>1.157328</td>\n",
       "      <td>6.235711</td>\n",
       "    </tr>\n",
       "    <tr>\n",
       "      <th>1178</th>\n",
       "      <td>55662.149959</td>\n",
       "      <td>625</td>\n",
       "      <td>4.270400</td>\n",
       "      <td>89.059440</td>\n",
       "    </tr>\n",
       "  </tbody>\n",
       "</table>\n",
       "</div>"
      ],
      "text/plain": [
       "                  total_spend  number_of_ads  mean_conversion  spend_per_ad\n",
       "xyz_campaign_id                                                            \n",
       "916                149.710001             54         1.074074      2.772407\n",
       "936               2893.369999            464         1.157328      6.235711\n",
       "1178             55662.149959            625         4.270400     89.059440"
      ]
     },
     "execution_count": 26,
     "metadata": {},
     "output_type": "execute_result"
    }
   ],
   "source": [
    "df_xyz_campaign"
   ]
  },
  {
   "cell_type": "code",
   "execution_count": 27,
   "metadata": {},
   "outputs": [
    {
     "data": {
      "text/html": [
       "<div>\n",
       "<style scoped>\n",
       "    .dataframe tbody tr th:only-of-type {\n",
       "        vertical-align: middle;\n",
       "    }\n",
       "\n",
       "    .dataframe tbody tr th {\n",
       "        vertical-align: top;\n",
       "    }\n",
       "\n",
       "    .dataframe thead th {\n",
       "        text-align: right;\n",
       "    }\n",
       "</style>\n",
       "<table border=\"1\" class=\"dataframe\">\n",
       "  <thead>\n",
       "    <tr style=\"text-align: right;\">\n",
       "      <th></th>\n",
       "      <th>total_spend</th>\n",
       "      <th>number_of_ads</th>\n",
       "      <th>mean_conversion</th>\n",
       "      <th>spend_per_ad</th>\n",
       "      <th>ROI</th>\n",
       "    </tr>\n",
       "    <tr>\n",
       "      <th>xyz_campaign_id</th>\n",
       "      <th></th>\n",
       "      <th></th>\n",
       "      <th></th>\n",
       "      <th></th>\n",
       "      <th></th>\n",
       "    </tr>\n",
       "  </thead>\n",
       "  <tbody>\n",
       "    <tr>\n",
       "      <th>916</th>\n",
       "      <td>149.710001</td>\n",
       "      <td>54</td>\n",
       "      <td>1.074074</td>\n",
       "      <td>2.772407</td>\n",
       "      <td>0.387416</td>\n",
       "    </tr>\n",
       "    <tr>\n",
       "      <th>936</th>\n",
       "      <td>2893.369999</td>\n",
       "      <td>464</td>\n",
       "      <td>1.157328</td>\n",
       "      <td>6.235711</td>\n",
       "      <td>0.185597</td>\n",
       "    </tr>\n",
       "    <tr>\n",
       "      <th>1178</th>\n",
       "      <td>55662.149959</td>\n",
       "      <td>625</td>\n",
       "      <td>4.270400</td>\n",
       "      <td>89.059440</td>\n",
       "      <td>0.047950</td>\n",
       "    </tr>\n",
       "  </tbody>\n",
       "</table>\n",
       "</div>"
      ],
      "text/plain": [
       "                  total_spend  number_of_ads  mean_conversion  spend_per_ad  \\\n",
       "xyz_campaign_id                                                               \n",
       "916                149.710001             54         1.074074      2.772407   \n",
       "936               2893.369999            464         1.157328      6.235711   \n",
       "1178             55662.149959            625         4.270400     89.059440   \n",
       "\n",
       "                      ROI  \n",
       "xyz_campaign_id            \n",
       "916              0.387416  \n",
       "936              0.185597  \n",
       "1178             0.047950  "
      ]
     },
     "execution_count": 27,
     "metadata": {},
     "output_type": "execute_result"
    }
   ],
   "source": [
    "df_xyz_campaign['ROI'] = df_xyz_campaign['mean_conversion']/df_xyz_campaign['spend_per_ad']\n",
    "df_xyz_campaign"
   ]
  },
  {
   "cell_type": "code",
   "execution_count": 28,
   "metadata": {},
   "outputs": [
    {
     "data": {
      "image/png": "[encoded data removed]",
      "text/plain": [
       "<Figure size 432x288 with 1 Axes>"
      ]
     },
     "metadata": {
      "needs_background": "light"
     },
     "output_type": "display_data"
    }
   ],
   "source": [
    "df_xyz_campaign['ROI'].plot.bar();"
   ]
  },
  {
   "cell_type": "markdown",
   "metadata": {},
   "source": [
    "Campaign 916 was most successful from ROI but ran limited number of ads"
   ]
  },
  {
   "cell_type": "markdown",
   "metadata": {},
   "source": [
    "## age"
   ]
  },
  {
   "cell_type": "code",
   "execution_count": 29,
   "metadata": {},
   "outputs": [
    {
     "name": "stdout",
     "output_type": "stream",
     "text": [
      "['30-34' '35-39' '40-44' '45-49']\n"
     ]
    }
   ],
   "source": [
    "ages = df['age'].unique()\n",
    "print(ages)"
   ]
  },
  {
   "cell_type": "code",
   "execution_count": 30,
   "metadata": {},
   "outputs": [
    {
     "data": {
      "text/plain": [
       "age\n",
       "30-34    426\n",
       "35-39    248\n",
       "40-44    210\n",
       "45-49    259\n",
       "Name: ad_id, dtype: int64"
      ]
     },
     "execution_count": 30,
     "metadata": {},
     "output_type": "execute_result"
    }
   ],
   "source": [
    "df.groupby('age').count()['ad_id']"
   ]
  },
  {
   "cell_type": "markdown",
   "metadata": {},
   "source": [
    "More under 40s than over. Replace ranges with mean age"
   ]
  },
  {
   "cell_type": "code",
   "execution_count": 31,
   "metadata": {},
   "outputs": [],
   "source": [
    "df['age_mean'] = df['age'].replace(to_replace={'30-34': 32, '35-39':37, '40-44':42, '45-49':47})"
   ]
  },
  {
   "cell_type": "code",
   "execution_count": 32,
   "metadata": {},
   "outputs": [],
   "source": [
    "# df[['age_mean', 'age']] correct"
   ]
  },
  {
   "cell_type": "markdown",
   "metadata": {},
   "source": [
    "## Drop unencoded data\n",
    "Now we have numeric data"
   ]
  },
  {
   "cell_type": "code",
   "execution_count": 33,
   "metadata": {},
   "outputs": [
    {
     "data": {
      "text/html": [
       "<div>\n",
       "<style scoped>\n",
       "    .dataframe tbody tr th:only-of-type {\n",
       "        vertical-align: middle;\n",
       "    }\n",
       "\n",
       "    .dataframe tbody tr th {\n",
       "        vertical-align: top;\n",
       "    }\n",
       "\n",
       "    .dataframe thead th {\n",
       "        text-align: right;\n",
       "    }\n",
       "</style>\n",
       "<table border=\"1\" class=\"dataframe\">\n",
       "  <thead>\n",
       "    <tr style=\"text-align: right;\">\n",
       "      <th></th>\n",
       "      <th>ad_id</th>\n",
       "      <th>xyz_campaign_id</th>\n",
       "      <th>fb_campaign_id</th>\n",
       "      <th>interest</th>\n",
       "      <th>Impressions</th>\n",
       "      <th>Clicks</th>\n",
       "      <th>Spent</th>\n",
       "      <th>Total_Conversion</th>\n",
       "      <th>Approved_Conversion</th>\n",
       "      <th>gender_encoded</th>\n",
       "      <th>age_mean</th>\n",
       "    </tr>\n",
       "  </thead>\n",
       "  <tbody>\n",
       "    <tr>\n",
       "      <th>0</th>\n",
       "      <td>708746</td>\n",
       "      <td>916</td>\n",
       "      <td>103916</td>\n",
       "      <td>15</td>\n",
       "      <td>7350</td>\n",
       "      <td>1</td>\n",
       "      <td>1.43</td>\n",
       "      <td>2</td>\n",
       "      <td>1</td>\n",
       "      <td>1</td>\n",
       "      <td>32</td>\n",
       "    </tr>\n",
       "    <tr>\n",
       "      <th>1</th>\n",
       "      <td>708749</td>\n",
       "      <td>916</td>\n",
       "      <td>103917</td>\n",
       "      <td>16</td>\n",
       "      <td>17861</td>\n",
       "      <td>2</td>\n",
       "      <td>1.82</td>\n",
       "      <td>2</td>\n",
       "      <td>0</td>\n",
       "      <td>1</td>\n",
       "      <td>32</td>\n",
       "    </tr>\n",
       "    <tr>\n",
       "      <th>2</th>\n",
       "      <td>708771</td>\n",
       "      <td>916</td>\n",
       "      <td>103920</td>\n",
       "      <td>20</td>\n",
       "      <td>693</td>\n",
       "      <td>0</td>\n",
       "      <td>0.00</td>\n",
       "      <td>1</td>\n",
       "      <td>0</td>\n",
       "      <td>1</td>\n",
       "      <td>32</td>\n",
       "    </tr>\n",
       "    <tr>\n",
       "      <th>3</th>\n",
       "      <td>708815</td>\n",
       "      <td>916</td>\n",
       "      <td>103928</td>\n",
       "      <td>28</td>\n",
       "      <td>4259</td>\n",
       "      <td>1</td>\n",
       "      <td>1.25</td>\n",
       "      <td>1</td>\n",
       "      <td>0</td>\n",
       "      <td>1</td>\n",
       "      <td>32</td>\n",
       "    </tr>\n",
       "    <tr>\n",
       "      <th>4</th>\n",
       "      <td>708818</td>\n",
       "      <td>916</td>\n",
       "      <td>103928</td>\n",
       "      <td>28</td>\n",
       "      <td>4133</td>\n",
       "      <td>1</td>\n",
       "      <td>1.29</td>\n",
       "      <td>1</td>\n",
       "      <td>1</td>\n",
       "      <td>1</td>\n",
       "      <td>32</td>\n",
       "    </tr>\n",
       "  </tbody>\n",
       "</table>\n",
       "</div>"
      ],
      "text/plain": [
       "    ad_id  xyz_campaign_id  fb_campaign_id  interest  Impressions  Clicks  \\\n",
       "0  708746              916          103916        15         7350       1   \n",
       "1  708749              916          103917        16        17861       2   \n",
       "2  708771              916          103920        20          693       0   \n",
       "3  708815              916          103928        28         4259       1   \n",
       "4  708818              916          103928        28         4133       1   \n",
       "\n",
       "   Spent  Total_Conversion  Approved_Conversion  gender_encoded  age_mean  \n",
       "0   1.43                 2                    1               1        32  \n",
       "1   1.82                 2                    0               1        32  \n",
       "2   0.00                 1                    0               1        32  \n",
       "3   1.25                 1                    0               1        32  \n",
       "4   1.29                 1                    1               1        32  "
      ]
     },
     "execution_count": 33,
     "metadata": {},
     "output_type": "execute_result"
    }
   ],
   "source": [
    "df = df.drop(columns=['age', 'gender'])\n",
    "df.head()"
   ]
  },
  {
   "cell_type": "markdown",
   "metadata": {},
   "source": [
    "## Visualise dataset\n",
    "As per reference notebook we can vis the relationships in the data with a clustermap, but we must normalise the data first -> beware sensitivity to outliers\n",
    "* https://medium.com/@swethalakshmanan14/how-when-and-why-should-you-normalize-standardize-rescale-your-data-3f083def38ff"
   ]
  },
  {
   "cell_type": "code",
   "execution_count": 35,
   "metadata": {},
   "outputs": [],
   "source": [
    "from sklearn.preprocessing import MinMaxScaler\n",
    "scaler = MinMaxScaler() "
   ]
  },
  {
   "cell_type": "code",
   "execution_count": 39,
   "metadata": {},
   "outputs": [
    {
     "name": "stderr",
     "output_type": "stream",
     "text": [
      "/opt/conda/lib/python3.6/site-packages/sklearn/preprocessing/data.py:323: DataConversionWarning: Data with input dtype int64, float64 were all converted to float64 by MinMaxScaler.\n",
      "  return self.partial_fit(X, y)\n"
     ]
    },
    {
     "data": {
      "text/plain": [
       "numpy.ndarray"
      ]
     },
     "execution_count": 39,
     "metadata": {},
     "output_type": "execute_result"
    }
   ],
   "source": [
    "type(scaler.fit_transform(df)) ## the values are transformed but we do not get back a dataframe"
   ]
  },
  {
   "cell_type": "code",
   "execution_count": 40,
   "metadata": {},
   "outputs": [
    {
     "name": "stderr",
     "output_type": "stream",
     "text": [
      "/opt/conda/lib/python3.6/site-packages/sklearn/preprocessing/data.py:323: DataConversionWarning: Data with input dtype int64, float64 were all converted to float64 by MinMaxScaler.\n",
      "  return self.partial_fit(X, y)\n"
     ]
    }
   ],
   "source": [
    "df_norm = pd.DataFrame(scaler.fit_transform(df), columns=df.columns)"
   ]
  },
  {
   "cell_type": "code",
   "execution_count": 41,
   "metadata": {},
   "outputs": [
    {
     "data": {
      "image/png": "[encoded data removed]",
      "text/plain": [
       "<Figure size 720x720 with 4 Axes>"
      ]
     },
     "metadata": {
      "needs_background": "light"
     },
     "output_type": "display_data"
    }
   ],
   "source": [
    "sns.clustermap(df_norm);"
   ]
  },
  {
   "cell_type": "markdown",
   "metadata": {},
   "source": [
    "The clusters make sense - conversions are together, clicks and spent are together, ids are together"
   ]
  },
  {
   "cell_type": "markdown",
   "metadata": {},
   "source": [
    "## Feature engineering\n",
    "again copying our reference noteook\n",
    "\n",
    "1) Click-through-rate (CTR). This is the percentage of how many of our impressions became clicks. A high CTR is often seen as a sign of good creative being presented to a relevant audience. A low click through rate is suggestive of less-than-engaging adverts (design and / or messaging) and / or presentation of adverts to an inappropriate audience. What is seen as a good CTR will depend on the type of advert (website banner, Google Shopping ad, search network test ad etc.) and can vary across sectors, but 2% would be a reasonable benchmark.\n",
    "\n",
    "2) Conversion Rate (CR). This is the percentage of clicks that result in a 'conversion'. What a conversion is will be determined by the objectives of the campaign. It could be a sale, someone completing a contact form on a landing page, downloading an e-book, watching a video, or simply spending more than a particular amount of time or viewing over a target number of pages on a website.\n",
    "\n",
    "3) Cost Per Click (CPC). Self-explanatory this one: how much (on average) did each click cost. While it can often be seen as desirable to reduce the cost per click, the CPC needs to be considered along with other variables. For example, a campaign with an average CPC of £0.5 and a CR of 5% is likely achieving more with its budget than one with a CPC of £0.2 and a CR of 1% (assuming the conversion value is the same.\n",
    "\n",
    "4) Cost Per Conversion. Another simple metric, this figure is often more relevant than the CPC, as it combines the CPC and CR metrics, giving us an easy way to quickly get a feel for campaign effectiveness.\n"
   ]
  },
  {
   "cell_type": "code",
   "execution_count": null,
   "metadata": {},
   "outputs": [],
   "source": []
  }
 ],
 "metadata": {
  "kernelspec": {
   "display_name": "Python 3",
   "language": "python",
   "name": "python3"
  },
  "language_info": {
   "codemirror_mode": {
    "name": "ipython",
    "version": 3
   },
   "file_extension": ".py",
   "mimetype": "text/x-python",
   "name": "python",
   "nbconvert_exporter": "python",
   "pygments_lexer": "ipython3",
   "version": "3.6.7"
  }
 },
 "nbformat": 4,
 "nbformat_minor": 2
}
