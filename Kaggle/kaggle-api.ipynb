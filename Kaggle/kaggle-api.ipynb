{
 "cells": [
  {
   "cell_type": "markdown",
   "metadata": {},
   "source": [
    "https://github.com/Kaggle/kaggle-api"
   ]
  },
  {
   "cell_type": "code",
   "execution_count": 1,
   "metadata": {},
   "outputs": [
    {
     "name": "stdout",
     "output_type": "stream",
     "text": [
      "Warning: Your Kaggle API key is readable by other users on this system! To fix this, you can run 'chmod 600 /Users/robin/.kaggle/kaggle.json'\n",
      "ref                                                   title                                       size  lastUpdated          downloadCount  voteCount  usabilityRating  \n",
      "----------------------------------------------------  ------------------------------------------  ----  -------------------  -------------  ---------  ---------------  \n",
      "ikarus777/best-artworks-of-all-time                   Best Artworks of All Time                    2GB  2019-03-02 09:21:51           2686        161  0.7058824        \n",
      "metmuseum/the-metropolitan-museum-of-art-open-access  The Metropolitan Museum of Art Open Access  28MB  2017-04-07 07:57:15            386         21  0.8235294        \n",
      "rtatman/the-tate-collection                           The Tate Collection                          6MB  2017-08-18 22:16:15            416         12  0.8235294        \n",
      "momanyc/museum-collection                             Museum of Modern Art Collection              6MB  2017-02-15 14:40:59           1323         49  0.8235294        \n",
      "san-francisco/sf-sf-civic-art-collection              SF SF Civic Art Collection                  62KB  2019-01-02 22:38:46             22          0  0.7647059        \n"
     ]
    }
   ],
   "source": [
    "! kaggle datasets list -s [Artworks]"
   ]
  },
  {
   "cell_type": "code",
   "execution_count": null,
   "metadata": {},
   "outputs": [],
   "source": []
  }
 ],
 "metadata": {
  "kernelspec": {
   "display_name": "Python 3",
   "language": "python",
   "name": "python3"
  },
  "language_info": {
   "codemirror_mode": {
    "name": "ipython",
    "version": 3
   },
   "file_extension": ".py",
   "mimetype": "text/x-python",
   "name": "python",
   "nbconvert_exporter": "python",
   "pygments_lexer": "ipython3",
   "version": "3.7.3"
  }
 },
 "nbformat": 4,
 "nbformat_minor": 4
}
