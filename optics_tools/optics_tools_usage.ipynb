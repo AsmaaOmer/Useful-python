{
 "cells": [
  {
   "cell_type": "markdown",
   "metadata": {},
   "source": [
    "optics_tools is a small package for doing basic calculations on satellite optical systems"
   ]
  },
  {
   "cell_type": "code",
   "execution_count": 1,
   "metadata": {},
   "outputs": [],
   "source": [
    "import optics_tools as ot\n",
    "from optics_tools import const as const"
   ]
  },
  {
   "cell_type": "code",
   "execution_count": 2,
   "metadata": {},
   "outputs": [],
   "source": [
    "import numpy as np\n",
    "import pandas as pd\n",
    "import matplotlib.pyplot as plt\n",
    "%matplotlib inline"
   ]
  },
  {
   "cell_type": "markdown",
   "metadata": {},
   "source": [
    "Have some functions for perfoming conversions, these are prepended with `conv`, use tab completion to see these functions"
   ]
  },
  {
   "cell_type": "code",
   "execution_count": 3,
   "metadata": {},
   "outputs": [
    {
     "name": "stdout",
     "output_type": "stream",
     "text": [
      "\n",
      "    Convert Celcius to Kelvin\n",
      "\n",
      "    Returns\n",
      "    -------\n",
      "    double : Kelvin\n",
      "    \n"
     ]
    }
   ],
   "source": [
    "print(ot.conv_celcius_to_kelvin.__doc__)"
   ]
  },
  {
   "cell_type": "code",
   "execution_count": 4,
   "metadata": {},
   "outputs": [
    {
     "data": {
      "text/plain": [
       "273.15"
      ]
     },
     "execution_count": 4,
     "metadata": {},
     "output_type": "execute_result"
    }
   ],
   "source": [
    "ot.conv_celcius_to_kelvin(0)"
   ]
  },
  {
   "cell_type": "markdown",
   "metadata": {},
   "source": [
    "And also functions for doing calculations, prepended with `calc`"
   ]
  },
  {
   "cell_type": "code",
   "execution_count": 5,
   "metadata": {},
   "outputs": [
    {
     "name": "stdout",
     "output_type": "stream",
     "text": [
      "\n",
      "    ground sample distance (gsd) is the distance between pixel centers measured\n",
      "    on the ground.\n",
      "    https://en.wikipedia.org/wiki/Ground_sample_distance\n",
      "\n",
      "    Returns\n",
      "    -------\n",
      "    double : meters per pixel\n",
      "    \n"
     ]
    }
   ],
   "source": [
    "print(ot.calc_gsd_cross.__doc__)"
   ]
  },
  {
   "cell_type": "markdown",
   "metadata": {},
   "source": [
    "Each input is defined in the module docstring, which is too long to print here"
   ]
  },
  {
   "cell_type": "markdown",
   "metadata": {},
   "source": [
    "### Exploring relationships\n",
    "Lets explore how some important imager performance metrics depend on the detector and mission parameters. We use dictionaries to group variables together, being careful to use the variables defined in `optics_tools` docstring. Note that all variables have SI units. Here the detector and the satellite/imager are seperate entities, but the imager is considered part of the satellite. Values that are calculated are put in the `calculated` dict for clarity.\n",
    "\n",
    "`GSD` = ground sampling distance, smaller GSD is considered better"
   ]
  },
  {
   "cell_type": "code",
   "execution_count": 6,
   "metadata": {},
   "outputs": [],
   "source": [
    "detector = {}\n",
    "detector['pixel_pitch'] = 25e-6"
   ]
  },
  {
   "cell_type": "code",
   "execution_count": 7,
   "metadata": {},
   "outputs": [],
   "source": [
    "satellite = {}\n",
    "satellite['altitude'] = 600e3\n",
    "satellite['focal_length'] = 375e-3"
   ]
  },
  {
   "cell_type": "code",
   "execution_count": 8,
   "metadata": {},
   "outputs": [],
   "source": [
    "calculated = {}\n",
    "calculated['gsd_cross'] = ot.calc_gsd_cross(altitude=satellite['altitude'], \n",
    "                                            focal_length=satellite['focal_length'], \n",
    "                                            pixel_dim_cross=detector['pixel_pitch'])"
   ]
  },
  {
   "cell_type": "code",
   "execution_count": 9,
   "metadata": {},
   "outputs": [
    {
     "name": "stdout",
     "output_type": "stream",
     "text": [
      "{'gsd_cross': 40.0}\n"
     ]
    }
   ],
   "source": [
    "print(calculated)"
   ]
  },
  {
   "cell_type": "markdown",
   "metadata": {},
   "source": [
    "Lets see how ground sampling distance varies with pixel pitch for fixed altitude and focal length"
   ]
  },
  {
   "cell_type": "code",
   "execution_count": 10,
   "metadata": {},
   "outputs": [
    {
     "data": {
      "image/png": "[encoded data removed]",
      "text/plain": [
       "<matplotlib.figure.Figure at 0x109a2e240>"
      ]
     },
     "metadata": {},
     "output_type": "display_data"
    }
   ],
   "source": [
    "pixels_test = np.linspace(1e-6, 100e-6)\n",
    "\n",
    "gsd_calculated = ot.calc_gsd_cross(altitude=satellite['altitude'], \n",
    "                                            focal_length=satellite['focal_length'], \n",
    "                                            pixel_dim_cross=pixels_test)\n",
    "\n",
    "plt.plot(pixels_test * 1e6, gsd_calculated)\n",
    "plt.title('GSD vs pixel pitch \\n for altitude {} km and focal length {} mm'.format(\n",
    "    satellite['altitude']/1e3, satellite['focal_length']*1e3))\n",
    "plt.ylabel('GSD (m)')\n",
    "plt.xlabel('pixel pitch (microns)');"
   ]
  },
  {
   "cell_type": "markdown",
   "metadata": {},
   "source": [
    "We see the linear increase in GSD with pixel pitch/size as GSD is just the projection of the pixel on the Earth. \n",
    "\n",
    "Theres are few other simple relations to keep in mind:\n",
    "* Swath is linear in GSD, altitude and number of pixels\n",
    "* Camera input power is linear with the area of the camera aperture, but inversely proportional to the square of the altitude\n",
    "* Camera field of view (FOV) is proportinal to the size of the detector, and inversely proportional to the focal length\n",
    "* For a fixed FOV, resolution/GSD get worse with increasing altitude\n",
    "\n",
    "I want a tool to help guide imager/mission spec based on a selected detector, and the resultant GSD, swath and SNR. Assume perfect optical system with no losses. Can I assume integration_time hardly changes with altitude?"
   ]
  },
  {
   "cell_type": "code",
   "execution_count": 11,
   "metadata": {},
   "outputs": [
    {
     "name": "stdout",
     "output_type": "stream",
     "text": [
      "3.0205363249910615\n"
     ]
    }
   ],
   "source": [
    "altitude = 800e3\n",
    "integration_time = 20.0/(ot.calc_velocity_ground_track(ot.calc_earth_orbital_period(altitude)))\n",
    "print(integration_time*1000) # ms"
   ]
  },
  {
   "cell_type": "markdown",
   "metadata": {},
   "source": [
    "Yes integration time hardly changes, always around 3 ms. Therefore for SNR just take ratio of electrons generated by input power to noise current"
   ]
  },
  {
   "cell_type": "code",
   "execution_count": 14,
   "metadata": {},
   "outputs": [],
   "source": [
    "def calc_mission_performance(aperture_diameter=0.05, \n",
    "                             focal_length=375e-3, \n",
    "                             pixel_pitch=20e-6, \n",
    "                             pixels_cross=2048, \n",
    "                             noise_current=1.5e6):\n",
    "    \"\"\"Convenience for calculating important mission performance metrics.\"\"\"\n",
    "    inputs = {} # In alphabetical order\n",
    "\n",
    "    inputs['altitude'] = 600e3\n",
    "    inputs['aperture_diameter'] = aperture_diameter\n",
    "    inputs['focal_length'] = focal_length\n",
    "    inputs['noise_current'] = noise_current\n",
    "    inputs['pixel_pitch'] = pixel_pitch\n",
    "    inputs['pixels_cross'] = pixels_cross\n",
    "    inputs['quantum_efficiency'] = 0.7\n",
    "    inputs['radiance_integrated'] = 1.0 # TBD\n",
    "    inputs['wavelength'] = 1000e-9\n",
    "\n",
    "    outputs = {} # Keep the ordering\n",
    "    outputs['f_number'] = ot.calc_f_number(inputs['aperture_diameter'], inputs['focal_length'])\n",
    "    outputs['gsd_cross'] = ot.calc_gsd_cross(inputs['altitude'], inputs['focal_length'], inputs['pixel_pitch'])\n",
    "    outputs['swath_at_nadir_cross'] = ot.calc_swath_at_nadir_cross(outputs['gsd_cross'], inputs['pixels_cross'])\n",
    "    outputs['radiated_power_nadir'] = ot.calc_radiated_power_nadir(inputs['radiance_integrated'], outputs['gsd_cross'], outputs['gsd_cross'])\n",
    "    outputs['camera_input_power'] = ot.calc_camera_input_power(inputs['altitude'], inputs['aperture_diameter'], outputs['radiated_power_nadir'])\n",
    "    outputs['integration_time'] = outputs['gsd_cross']/(ot.calc_velocity_ground_track(ot.calc_earth_orbital_period(inputs['altitude'])))\n",
    "    outputs['energy_available'] = ot.calc_energy_per_integration(outputs['camera_input_power'], outputs['integration_time'])\n",
    "    outputs['photons_available'] = ot.calc_photons_from_energy(outputs['energy_available'], inputs['wavelength'])\n",
    "    outputs['signal_electrons'] = ot.calc_electrons_from_photons(outputs['photons_available'], inputs['quantum_efficiency'])\n",
    "\n",
    "    outputs['SNR'] = outputs['signal_electrons']/ (inputs['noise_current'] * outputs['integration_time'])\n",
    "    \n",
    "    return int(outputs['gsd_cross']), int(outputs['swath_at_nadir_cross']/1e3), int(outputs['SNR']), outputs['f_number']"
   ]
  },
  {
   "cell_type": "code",
   "execution_count": 18,
   "metadata": {},
   "outputs": [
    {
     "name": "stdout",
     "output_type": "stream",
     "text": [
      "GSD:20m SWATH:150km SNR:57 F_NUM:5.0\n"
     ]
    }
   ],
   "source": [
    "APERTURE_DIAMETER = 0.075\n",
    "CAMERAS = 6\n",
    "FOCAL_LENGTH = 375e-3\n",
    "PIXEL_PITCH = 12.5e-6\n",
    "PIXELS_CROSS = 1280 # Only affects swath\n",
    "NOISE_CURRENT = 0.2 * 1.5e6\n",
    "\n",
    "GSD, SWATH, SNR, F_NUM = calc_mission_performance(APERTURE_DIAMETER, FOCAL_LENGTH, PIXEL_PITCH, PIXELS_CROSS, NOISE_CURRENT)\n",
    "print(\"GSD:{}m SWATH:{}km SNR:{} F_NUM:{}\".format(GSD, SWATH * CAMERAS, SNR, F_NUM))"
   ]
  },
  {
   "cell_type": "markdown",
   "metadata": {},
   "source": [
    "If we need more swath, just get a detector with more pixels or increase number of cameras"
   ]
  },
  {
   "cell_type": "code",
   "execution_count": null,
   "metadata": {},
   "outputs": [],
   "source": []
  }
 ],
 "metadata": {
  "kernelspec": {
   "display_name": "Python 3",
   "language": "python",
   "name": "python3"
  },
  "language_info": {
   "codemirror_mode": {
    "name": "ipython",
    "version": 3
   },
   "file_extension": ".py",
   "mimetype": "text/x-python",
   "name": "python",
   "nbconvert_exporter": "python",
   "pygments_lexer": "ipython3",
   "version": "3.6.4"
  }
 },
 "nbformat": 4,
 "nbformat_minor": 2
}
