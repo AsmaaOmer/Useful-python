{
 "cells": [
  {
   "cell_type": "markdown",
   "metadata": {},
   "source": [
    "optics_tools is a small package for doing basic calculations on satellite optical systems"
   ]
  },
  {
   "cell_type": "code",
   "execution_count": 4,
   "metadata": {},
   "outputs": [],
   "source": [
    "import optics_tools as ot\n",
    "from optics_tools import const as const"
   ]
  },
  {
   "cell_type": "code",
   "execution_count": 5,
   "metadata": {},
   "outputs": [],
   "source": [
    "import numpy as np\n",
    "import pandas as pd\n",
    "import matplotlib.pyplot as plt\n",
    "%matplotlib inline"
   ]
  },
  {
   "cell_type": "markdown",
   "metadata": {},
   "source": [
    "Have some functions for perfoming conversions, these are prepended with `conv`, use tab completion to see these functions"
   ]
  },
  {
   "cell_type": "code",
   "execution_count": 11,
   "metadata": {},
   "outputs": [
    {
     "name": "stdout",
     "output_type": "stream",
     "text": [
      "\n",
      "    Convert Celcius to Kelvin\n",
      "\n",
      "    Returns\n",
      "    -------\n",
      "    double : Kelvin\n",
      "    \n"
     ]
    }
   ],
   "source": [
    "print(ot.conv_celcius_to_kelvin.__doc__)"
   ]
  },
  {
   "cell_type": "code",
   "execution_count": 6,
   "metadata": {},
   "outputs": [
    {
     "data": {
      "text/plain": [
       "273.15"
      ]
     },
     "execution_count": 6,
     "metadata": {},
     "output_type": "execute_result"
    }
   ],
   "source": [
    "ot.conv_celcius_to_kelvin(0)"
   ]
  },
  {
   "cell_type": "markdown",
   "metadata": {},
   "source": [
    "And also functions for doing calculations, prepended with `calc`"
   ]
  },
  {
   "cell_type": "code",
   "execution_count": 14,
   "metadata": {},
   "outputs": [
    {
     "name": "stdout",
     "output_type": "stream",
     "text": [
      "this function accepts inputs ('wavelength', 'temperature', 'intensity_factor', 'power_factor')\n",
      "\n",
      "    Calculate the blackbody spectral radiance. Note this is normalised over\n",
      "    4 pi.\n",
      "    https://en.wikipedia.org/wiki/Planck%27s_law\n",
      "\n",
      "    Returns\n",
      "    -------\n",
      "    double : Watts per Meter squared per Sterradian at a wavelength\n",
      "    \n"
     ]
    }
   ],
   "source": [
    "print(\"this function accepts inputs {}\".format(ot.calc_blackbody_radiance.__code__.co_varnames))\n",
    "\n",
    "print(ot.calc_blackbody_radiance.__doc__)"
   ]
  },
  {
   "cell_type": "markdown",
   "metadata": {},
   "source": [
    "Each input is defined in the module docstring, which is too long to print here"
   ]
  },
  {
   "cell_type": "code",
   "execution_count": null,
   "metadata": {},
   "outputs": [],
   "source": []
  }
 ],
 "metadata": {
  "kernelspec": {
   "display_name": "Python 3",
   "language": "python",
   "name": "python3"
  },
  "language_info": {
   "codemirror_mode": {
    "name": "ipython",
    "version": 3
   },
   "file_extension": ".py",
   "mimetype": "text/x-python",
   "name": "python",
   "nbconvert_exporter": "python",
   "pygments_lexer": "ipython3",
   "version": "3.6.4"
  }
 },
 "nbformat": 4,
 "nbformat_minor": 2
}
