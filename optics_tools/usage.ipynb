{
 "cells": [
  {
   "cell_type": "code",
   "execution_count": 1,
   "metadata": {},
   "outputs": [],
   "source": [
    "import optics_tools as ot\n",
    "from optics_tools import const as const"
   ]
  },
  {
   "cell_type": "markdown",
   "metadata": {},
   "source": [
    "The optics_tools library is for calculation of various optical system properties of a satellite imager. Units are mostly SI, but in some cases the units are indicated by the variable name. Examples to watch out for are those involving a finite number of particles, e.g. readout noise. \n",
    "\n",
    "Validate equations using formulas from book Larson 'Space missiongs analysis and design' page 290"
   ]
  },
  {
   "cell_type": "code",
   "execution_count": 2,
   "metadata": {},
   "outputs": [],
   "source": [
    "# Setup computation - these are all variables\n",
    "\n",
    "ALTITUDE = 600e3\n",
    "BITS = 12\n",
    "DARK_SIGNAL_EPS = 0 #1e3 # electrons/pixel/second\n",
    "F_NUMBER = 3.9\n",
    "FOCAL_LENGTH = 0.3\n",
    "FRAME_RATE = 30\n",
    "GSD = 20\n",
    "INTEGRATION_TIME = 24.1E-6\n",
    "OPTICAL_TRANSMISSION_FACTOR = 0.75\n",
    "PIXELS_ALONG = 1\n",
    "PIXELS_CROSS = 1024\n",
    "#PIXELS_TOTAL = PIXELS_ALONG * PIXELS_CROSS\n",
    "PIXEL_DIM_CROSS = 20e-6\n",
    "RADIANCE_INTEGRATED = 40 * 0.3 # W/m^2/sr/um x 100nm\n",
    "QUANTUM_EFFICIENCY = 0.5\n",
    "READ_OUT_NOISE_EP= 25 # electrons/pixel\n",
    "WAVELENGTH = 600e-9"
   ]
  },
  {
   "cell_type": "markdown",
   "metadata": {},
   "source": [
    "# Perform calcs"
   ]
  },
  {
   "cell_type": "code",
   "execution_count": 3,
   "metadata": {},
   "outputs": [
    {
     "data": {
      "text/plain": [
       "40.00000000000001"
      ]
     },
     "execution_count": 3,
     "metadata": {},
     "output_type": "execute_result"
    }
   ],
   "source": [
    "GSD = ot.calc_gsd(ALTITUDE, FOCAL_LENGTH, PIXEL_DIM_CROSS)\n",
    "GSD"
   ]
  },
  {
   "cell_type": "code",
   "execution_count": 4,
   "metadata": {},
   "outputs": [
    {
     "data": {
      "text/plain": [
       "40960.00000000001"
      ]
     },
     "execution_count": 4,
     "metadata": {},
     "output_type": "execute_result"
    }
   ],
   "source": [
    "SWATH = ot.calc_swath_at_nadir(GSD, PIXELS_CROSS)\n",
    "SWATH"
   ]
  },
  {
   "cell_type": "code",
   "execution_count": 5,
   "metadata": {},
   "outputs": [
    {
     "data": {
      "text/plain": [
       "0.005790360262958956"
      ]
     },
     "execution_count": 5,
     "metadata": {},
     "output_type": "execute_result"
    }
   ],
   "source": [
    "INTEGRATION_TIME = GSD/ot.calc_velocity_ground_track(ot.calc_earth_orbital_period(ALTITUDE))  \n",
    "INTEGRATION_TIME"
   ]
  },
  {
   "cell_type": "code",
   "execution_count": 6,
   "metadata": {},
   "outputs": [
    {
     "data": {
      "text/plain": [
       "0.07692307692307693"
      ]
     },
     "execution_count": 6,
     "metadata": {},
     "output_type": "execute_result"
    }
   ],
   "source": [
    "APERTURE_DIAMETER = ot.calc_aperture_diameter(F_NUMBER, FOCAL_LENGTH)\n",
    "APERTURE_DIAMETER"
   ]
  },
  {
   "cell_type": "code",
   "execution_count": 7,
   "metadata": {},
   "outputs": [],
   "source": [
    "SENSOR_INCIDENT_POWER = 4.3e-11 # W, from book"
   ]
  },
  {
   "cell_type": "code",
   "execution_count": 8,
   "metadata": {},
   "outputs": [
    {
     "data": {
      "text/plain": [
       "3.225e-11"
      ]
     },
     "execution_count": 8,
     "metadata": {},
     "output_type": "execute_result"
    }
   ],
   "source": [
    "INCIDENT_POWER_AT_PIXEL = ot.calc_pixel_incident_power(SENSOR_INCIDENT_POWER, OPTICAL_TRANSMISSION_FACTOR)\n",
    "INCIDENT_POWER_AT_PIXEL"
   ]
  },
  {
   "cell_type": "code",
   "execution_count": 9,
   "metadata": {},
   "outputs": [
    {
     "data": {
      "text/plain": [
       "564039"
      ]
     },
     "execution_count": 9,
     "metadata": {},
     "output_type": "execute_result"
    }
   ],
   "source": [
    "energy_imparted = ot.calc_energy_per_integration(INCIDENT_POWER_AT_PIXEL, INTEGRATION_TIME)\n",
    "signal_photons = ot.calc_photons_from_energy(energy_imparted, WAVELENGTH)\n",
    "signal_photons"
   ]
  },
  {
   "cell_type": "code",
   "execution_count": 10,
   "metadata": {},
   "outputs": [
    {
     "data": {
      "text/plain": [
       "282019.5"
      ]
     },
     "execution_count": 10,
     "metadata": {},
     "output_type": "execute_result"
    }
   ],
   "source": [
    "#signal_photons = ot.calc_signal_photons(ALTITUDE, APERTURE_DIAMETER, GSD, INTEGRATION_TIME, OPTICAL_TRANSMISSION_FACTOR, RADIANCE_INTEGRATED, WAVELENGTH)\n",
    "signal_electrons = signal_photons * QUANTUM_EFFICIENCY\n",
    "signal_electrons"
   ]
  },
  {
   "cell_type": "code",
   "execution_count": 11,
   "metadata": {},
   "outputs": [
    {
     "data": {
      "text/plain": [
       "531.5881864752075"
      ]
     },
     "execution_count": 11,
     "metadata": {},
     "output_type": "execute_result"
    }
   ],
   "source": [
    "signal_electrons_shott = ot.calc_shott_noise(signal_electrons)\n",
    "#dark_electrons = DARK_SIGNAL_EPS * INTEGRATION_TIME\n",
    "#dark_electrons_shott = ot.calc_shott_noise(dark_electrons)\n",
    "readout_noise = READ_OUT_NOISE_EP\n",
    "#total_noise = ot.calc_uncorrellated_noise(signal_electrons_shott, dark_electrons, dark_electrons_shott, readout_noise)\n",
    "total_noise = ot.calc_uncorrellated_noise(signal_electrons_shott, readout_noise)\n",
    "\n",
    "total_noise"
   ]
  },
  {
   "cell_type": "code",
   "execution_count": 12,
   "metadata": {},
   "outputs": [
    {
     "name": "stdout",
     "output_type": "stream",
     "text": [
      "The system SNR is 530\n"
     ]
    }
   ],
   "source": [
    "SNR = int(signal_electrons / total_noise)\n",
    "print(\"The system SNR is {}\".format(SNR))"
   ]
  },
  {
   "cell_type": "code",
   "execution_count": null,
   "metadata": {},
   "outputs": [],
   "source": []
  }
 ],
 "metadata": {
  "kernelspec": {
   "display_name": "Python 3",
   "language": "python",
   "name": "python3"
  },
  "language_info": {
   "codemirror_mode": {
    "name": "ipython",
    "version": 3
   },
   "file_extension": ".py",
   "mimetype": "text/x-python",
   "name": "python",
   "nbconvert_exporter": "python",
   "pygments_lexer": "ipython3",
   "version": "3.6.5"
  },
  "varInspector": {
   "cols": {
    "lenName": 16,
    "lenType": 16,
    "lenVar": 40
   },
   "kernels_config": {
    "python": {
     "delete_cmd_postfix": "",
     "delete_cmd_prefix": "del ",
     "library": "var_list.py",
     "varRefreshCmd": "print(var_dic_list())"
    },
    "r": {
     "delete_cmd_postfix": ") ",
     "delete_cmd_prefix": "rm(",
     "library": "var_list.r",
     "varRefreshCmd": "cat(var_dic_list()) "
    }
   },
   "types_to_exclude": [
    "module",
    "function",
    "builtin_function_or_method",
    "instance",
    "_Feature"
   ],
   "window_display": false
  }
 },
 "nbformat": 4,
 "nbformat_minor": 2
}
