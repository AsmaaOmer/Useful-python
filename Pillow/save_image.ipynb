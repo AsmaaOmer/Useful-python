{
 "cells": [
  {
   "cell_type": "markdown",
   "metadata": {},
   "source": [
    "* https://pillow.readthedocs.io/en/5.2.x/reference/Image.html?highlight=save#PIL.Image.Image.save\n",
    "* https://pillow.readthedocs.io/en/5.2.x/reference/open_files.html#file-handling"
   ]
  },
  {
   "cell_type": "code",
   "execution_count": 1,
   "metadata": {},
   "outputs": [
    {
     "name": "stdout",
     "output_type": "stream",
     "text": [
      "PIL_from_numpy.ipynb  cat_thumbnail.jpg     save_image.ipynb\n",
      "README.md             draw_box.ipynb        thumbnail.ipynb\n",
      "cat.jpg               img.jpg\n"
     ]
    }
   ],
   "source": [
    "ls"
   ]
  },
  {
   "cell_type": "code",
   "execution_count": 9,
   "metadata": {},
   "outputs": [
    {
     "name": "stdout",
     "output_type": "stream",
     "text": [
      "rm: cat_2.jpg: No such file or directory\n"
     ]
    }
   ],
   "source": [
    "!rm cat_2.jpg"
   ]
  },
  {
   "cell_type": "code",
   "execution_count": 10,
   "metadata": {},
   "outputs": [],
   "source": [
    "from PIL import Image\n",
    "import os"
   ]
  },
  {
   "cell_type": "code",
   "execution_count": 11,
   "metadata": {},
   "outputs": [],
   "source": [
    "image = Image.open('cat.jpg')"
   ]
  },
  {
   "cell_type": "code",
   "execution_count": 12,
   "metadata": {},
   "outputs": [
    {
     "name": "stdout",
     "output_type": "stream",
     "text": [
      "saved cat_2.jpg\n",
      "CPU times: user 8.88 ms, sys: 2.2 ms, total: 11.1 ms\n",
      "Wall time: 10.6 ms\n"
     ]
    }
   ],
   "source": [
    "%%time\n",
    "image.save('cat_2.jpg', format='JPEG')\n",
    "print('saved cat_2.jpg')"
   ]
  },
  {
   "cell_type": "markdown",
   "metadata": {},
   "source": [
    "## Race condition\n",
    "* http://discourse.techart.online/t/pil-wait-for-image-save/3994/4\n",
    "* https://www.geeksforgeeks.org/python-os-fsync-method/\n",
    "\n",
    "Use `flush` and `close` to ensure file is written before proceeding\n",
    "\n",
    "* Python file method `flush()` flushes the internal buffer, like stdio's fflush. This may be a no-op on some file-like objects. Python automatically flushes the files when closing them. But you may want to flush the data before closing any file.\n",
    "* `os.fsync()` method in Python is used to force write of the file associated with the given file descriptor."
   ]
  },
  {
   "cell_type": "code",
   "execution_count": 13,
   "metadata": {},
   "outputs": [],
   "source": [
    "!rm cat_2.jpg"
   ]
  },
  {
   "cell_type": "code",
   "execution_count": 14,
   "metadata": {},
   "outputs": [
    {
     "name": "stdout",
     "output_type": "stream",
     "text": [
      "saved cat_2.jpg\n",
      "CPU times: user 6.25 ms, sys: 2.59 ms, total: 8.83 ms\n",
      "Wall time: 12.2 ms\n"
     ]
    }
   ],
   "source": [
    "%%time\n",
    "output_filename = \"cat_2.jpg\"\n",
    "out_file = open(output_filename, 'wb')\n",
    "image.save(out_file, format='JPEG')  # Must specify desired format here\n",
    "out_file.flush()\n",
    "os.fsync(out_file)\n",
    "out_file.close()\n",
    "print('saved cat_2.jpg')"
   ]
  },
  {
   "cell_type": "code",
   "execution_count": 15,
   "metadata": {},
   "outputs": [],
   "source": [
    "!rm cat_2.jpg"
   ]
  },
  {
   "cell_type": "code",
   "execution_count": null,
   "metadata": {},
   "outputs": [],
   "source": []
  }
 ],
 "metadata": {
  "kernelspec": {
   "display_name": "Python 3",
   "language": "python",
   "name": "python3"
  },
  "language_info": {
   "codemirror_mode": {
    "name": "ipython",
    "version": 3
   },
   "file_extension": ".py",
   "mimetype": "text/x-python",
   "name": "python",
   "nbconvert_exporter": "python",
   "pygments_lexer": "ipython3",
   "version": "3.7.3"
  }
 },
 "nbformat": 4,
 "nbformat_minor": 4
}
