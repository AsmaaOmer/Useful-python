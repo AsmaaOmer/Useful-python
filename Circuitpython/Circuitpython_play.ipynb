{
 "cells": [
  {
   "cell_type": "markdown",
   "metadata": {},
   "source": [
    "https://learn.adafruit.com/adafruit-circuit-playground-express/circuitpython-neopixel"
   ]
  },
  {
   "cell_type": "code",
   "execution_count": 2,
   "metadata": {},
   "outputs": [
    {
     "name": "stdout",
     "output_type": "stream",
     "text": [
      "(sysname='samd21', nodename='samd21', release='3.1.1', version='3.1.1 on 2018-11-02', machine='Adafruit CircuitPlayground Express with samd21g18')\n"
     ]
    }
   ],
   "source": [
    "import os\n",
    "print(os.uname())"
   ]
  },
  {
   "cell_type": "code",
   "execution_count": 3,
   "metadata": {},
   "outputs": [],
   "source": [
    "import simpleio"
   ]
  },
  {
   "cell_type": "code",
   "execution_count": 5,
   "metadata": {},
   "outputs": [],
   "source": [
    "# CircuitPlaygroundExpress_NeoPixel\n",
    "\n",
    "import time\n",
    "\n",
    "import board\n",
    "import neopixel\n",
    "\n",
    "pixels = neopixel.NeoPixel(board.NEOPIXEL, 10, brightness=.2)\n",
    "pixels.fill((0, 0, 0))\n",
    "pixels.show()\n",
    "\n",
    "# choose which demos to play\n",
    "# 1 means play, 0 means don't!\n",
    "simpleCircleDemo = 1\n",
    "flashDemo = 1\n",
    "rainbowDemo = 1\n",
    "rainbowCycleDemo = 1"
   ]
  },
  {
   "cell_type": "code",
   "execution_count": 6,
   "metadata": {},
   "outputs": [],
   "source": [
    "def wheel(pos):\n",
    "    # Input a value 0 to 255 to get a color value.\n",
    "    # The colours are a transition r - g - b - back to r.\n",
    "    if pos < 85:\n",
    "        return (int(pos * 3), int(255 - (pos * 3)), 0)\n",
    "    elif pos < 170:\n",
    "        pos -= 85\n",
    "        return (int(255 - (pos * 3)), 0, int(pos * 3))\n",
    "    else:\n",
    "        pos -= 170\n",
    "        return (0, int(pos * 3), int(255 - pos * 3))\n",
    "\n",
    "\n",
    "def rainbow_cycle(wait):\n",
    "    for j in range(255):\n",
    "        for i in range(len(pixels)):\n",
    "            idx = int((i * 256 / len(pixels)) + j * 10)\n",
    "            pixels[i] = wheel(idx & 255)\n",
    "        pixels.show()\n",
    "        time.sleep(wait)\n",
    "\n",
    "\n",
    "def rainbow(wait):\n",
    "    for j in range(255):\n",
    "        for i in range(len(pixels)):\n",
    "            idx = int(i + j)\n",
    "            pixels[i] = wheel(idx & 255)\n",
    "        pixels.show()\n",
    "        time.sleep(wait)\n",
    "\n",
    "\n",
    "def simpleCircle(wait):\n",
    "    RED = 0x100000  # (0x10, 0, 0) also works\n",
    "    YELLOW = (0x10, 0x10, 0)\n",
    "    GREEN = (0, 0x10, 0)\n",
    "    AQUA = (0, 0x10, 0x10)\n",
    "    BLUE = (0, 0, 0x10)\n",
    "    PURPLE = (0x10, 0, 0x10)\n",
    "    BLACK = (0, 0, 0)\n",
    "\n",
    "    for i in range(len(pixels)):\n",
    "        pixels[i] = RED\n",
    "        time.sleep(wait)\n",
    "    time.sleep(1)\n",
    "\n",
    "    for i in range(len(pixels)):\n",
    "        pixels[i] = YELLOW\n",
    "        time.sleep(wait)\n",
    "    time.sleep(1)\n",
    "\n",
    "    for i in range(len(pixels)):\n",
    "        pixels[i] = GREEN\n",
    "        time.sleep(wait)\n",
    "    time.sleep(1)\n",
    "\n",
    "    for i in range(len(pixels)):\n",
    "        pixels[i] = AQUA\n",
    "        time.sleep(wait)\n",
    "    time.sleep(1)\n",
    "\n",
    "    for i in range(len(pixels)):\n",
    "        pixels[i] = BLUE\n",
    "        time.sleep(wait)\n",
    "    time.sleep(1)\n",
    "\n",
    "    for i in range(len(pixels)):\n",
    "        pixels[i] = PURPLE\n",
    "        time.sleep(wait)\n",
    "    time.sleep(1)\n",
    "\n",
    "    for i in range(len(pixels)):\n",
    "        pixels[i] = BLACK\n",
    "        time.sleep(wait)\n",
    "    time.sleep(1)"
   ]
  },
  {
   "cell_type": "code",
   "execution_count": null,
   "metadata": {},
   "outputs": [],
   "source": [
    "while True:\n",
    "    if simpleCircleDemo:\n",
    "        print('Simple Circle Demo')\n",
    "        simpleCircle(.05)\n",
    "\n",
    "    if flashDemo:  # this will play if flashDemo = 1 up above\n",
    "        print('Flash Demo')\n",
    "        pixels.fill((255, 0, 0))\n",
    "        pixels.show()\n",
    "        time.sleep(.25)\n",
    "\n",
    "        pixels.fill((0, 255, 0))\n",
    "        pixels.show()\n",
    "        time.sleep(.25)\n",
    "\n",
    "        pixels.fill((0, 0, 255))\n",
    "        pixels.show()\n",
    "        time.sleep(.25)\n",
    "\n",
    "        pixels.fill((255, 255, 255))\n",
    "        pixels.show()\n",
    "        time.sleep(.25)\n",
    "\n",
    "    if rainbowDemo:\n",
    "        print('Rainbow Demo')\n",
    "        rainbow(.001)\n",
    "\n",
    "    if rainbowCycleDemo:\n",
    "        print('Rainbow Cycle Demo')\n",
    "        rainbow_cycle(.001)"
   ]
  },
  {
   "cell_type": "markdown",
   "metadata": {},
   "source": [
    "Code working fine"
   ]
  },
  {
   "cell_type": "code",
   "execution_count": null,
   "metadata": {},
   "outputs": [],
   "source": []
  }
 ],
 "metadata": {
  "kernelspec": {
   "display_name": "CircuitPython",
   "language": "python",
   "name": "circuitpython"
  },
  "language_info": {
   "codemirror_mode": {
    "name": "python",
    "version": 3
   },
   "file_extension": ".py",
   "mimetype": "text/x-python",
   "name": "python",
   "pygments_lexer": "python3",
   "version": "3"
  }
 },
 "nbformat": 4,
 "nbformat_minor": 2
}
