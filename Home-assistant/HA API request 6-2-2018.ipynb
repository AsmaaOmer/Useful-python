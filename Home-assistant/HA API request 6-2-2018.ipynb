{
 "cells": [
  {
   "cell_type": "markdown",
   "metadata": {},
   "source": [
    "Simple notebook for testing API requests.\n",
    "\n",
    "https://home-assistant.io/developers/rest_api/"
   ]
  },
  {
   "cell_type": "code",
   "execution_count": 9,
   "metadata": {},
   "outputs": [],
   "source": [
    "from requests import get, post\n",
    "import json\n",
    "from pprint import PrettyPrinter\n",
    "\n",
    "def print_json(json_data):\n",
    "    PrettyPrinter().pprint(json_data)\n",
    "\n",
    "headers = {'content-type': 'application/json'}"
   ]
  },
  {
   "cell_type": "code",
   "execution_count": 10,
   "metadata": {},
   "outputs": [],
   "source": [
    "ip = '192.168.0.28'  # The IP adress of my test HA instance"
   ]
  },
  {
   "cell_type": "code",
   "execution_count": 18,
   "metadata": {},
   "outputs": [
    {
     "name": "stdout",
     "output_type": "stream",
     "text": [
      "http://192.168.0.28:8123/api/states/binary_sensor.front_door\n"
     ]
    }
   ],
   "source": [
    "request = 'http://{}:8123/api/states/binary_sensor.front_door'.format(ip)\n",
    "print(request)"
   ]
  },
  {
   "cell_type": "code",
   "execution_count": 19,
   "metadata": {},
   "outputs": [
    {
     "name": "stdout",
     "output_type": "stream",
     "text": [
      "{'attributes': {'friendly_name': 'Front door', 'icon': 'mdi:door'},\n",
      " 'entity_id': 'binary_sensor.front_door',\n",
      " 'last_changed': '2018-02-05T20:57:03.355253+00:00',\n",
      " 'last_updated': '2018-02-05T20:57:03.355253+00:00',\n",
      " 'state': 'off'}\n"
     ]
    }
   ],
   "source": [
    "response = get(request, headers=headers).json()\n",
    "print_json(response)"
   ]
  },
  {
   "cell_type": "code",
   "execution_count": 20,
   "metadata": {},
   "outputs": [
    {
     "data": {
      "text/plain": [
       "'off'"
      ]
     },
     "execution_count": 20,
     "metadata": {},
     "output_type": "execute_result"
    }
   ],
   "source": [
    "response['state']"
   ]
  },
  {
   "cell_type": "markdown",
   "metadata": {},
   "source": [
    "The equivalent [restful binary sensor](https://home-assistant.io/components/binary_sensor.rest/) is:\n",
    "\n",
    "```yaml\n",
    "- platform: rest\n",
    "  scan_interval: 1\n",
    "  resource: http://192.168.0.28:8123/api/states/binary_sensor.front_door\n",
    "  name: front_door\n",
    "  value_template: '{{value_json.state}}'\n",
    "```"
   ]
  },
  {
   "cell_type": "code",
   "execution_count": null,
   "metadata": {},
   "outputs": [],
   "source": []
  }
 ],
 "metadata": {
  "kernelspec": {
   "display_name": "Python 3",
   "language": "python",
   "name": "python3"
  },
  "language_info": {
   "codemirror_mode": {
    "name": "ipython",
    "version": 3
   },
   "file_extension": ".py",
   "mimetype": "text/x-python",
   "name": "python",
   "nbconvert_exporter": "python",
   "pygments_lexer": "ipython3",
   "version": "3.6.3"
  }
 },
 "nbformat": 4,
 "nbformat_minor": 2
}
