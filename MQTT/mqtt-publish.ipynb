{
 "cells": [
  {
   "cell_type": "markdown",
   "metadata": {},
   "source": [
    "* pip3 install paho-mqtt\n",
    "* Running a local broker on `192.168.1.84`\n",
    "* https://pypi.python.org/pypi/paho-mqtt\n",
    "* https://www.hackster.io/robin-cole/pi-camera-doorbell-with-notifications-408d3d\n",
    "* https://chrome.google.com/webstore/detail/mqttlens/hemojaaeigabkbcookmlgmdigohjobjm?hl=en\n",
    "* Read http://www.steves-internet-guide.com/client-connections-python-mqtt/\n",
    "* Demo broker at http://www.mqtt-dashboard.com/ and paho instructions https://www.hivemq.com/blog/mqtt-client-library-paho-python\n",
    "\n",
    "Connection Return Codes\n",
    "* 0: Connection successful\n",
    "* 1: Connection refused – incorrect protocol version\n",
    "* 2: Connection refused – invalid client identifier\n",
    "* 3: Connection refused – server unavailable\n",
    "* 4: Connection refused – bad username or password\n",
    "* 5: Connection refused – not authorised\n",
    "* 6-255: Currently unused."
   ]
  },
  {
   "cell_type": "code",
   "execution_count": 1,
   "metadata": {},
   "outputs": [],
   "source": [
    "import paho.mqtt.client as mqtt\n",
    "import paho.mqtt.publish as publish \n",
    "import time\n",
    "\n",
    "### MQTT \n",
    "broker = \"broker.hivemq.com\" # '192.168.1.84' \n",
    "#username = 'robin'\n",
    "#password = \"pass\"\n",
    "port = 8000 # 1884\n",
    "topic ='test_topic/' "
   ]
  },
  {
   "cell_type": "code",
   "execution_count": 2,
   "metadata": {},
   "outputs": [],
   "source": [
    "# The callback for when the client receives a CONNACK response from the server.\n",
    "def on_connect(client, userdata, flags, rc):\n",
    "    if rc==0:\n",
    "        client.connected_flag=True #set flag\n",
    "        print(\"connected OK Returned code=\",rc)\n",
    "    else:\n",
    "        print(\"Bad connection Returned code=\",rc)\n",
    "        \n",
    "# The callback for when a PUBLISH message is received from the server.\n",
    "def on_message(client, userdata, msg):\n",
    "    print(msg.topic+\" \"+str(msg.payload))"
   ]
  },
  {
   "cell_type": "code",
   "execution_count": null,
   "metadata": {},
   "outputs": [],
   "source": [
    "mqtt.Client.connected_flag = False #create flag in class\n",
    "\n",
    "client = mqtt.Client()\n",
    "client.on_connect = on_connect\n",
    "client.on_message = on_message\n",
    "\n",
    "#client.username_pw_set(username, password)\n",
    "client.connect(broker, port=port)\n",
    "\n",
    "while not client.connected_flag: #wait in loop\n",
    "     time.sleep(1)\n",
    "\n",
    "client.loop_start()"
   ]
  },
  {
   "cell_type": "markdown",
   "metadata": {},
   "source": [
    "MUST see \"Connected with result code 0\" for successfull connection"
   ]
  },
  {
   "cell_type": "code",
   "execution_count": 3,
   "metadata": {},
   "outputs": [
    {
     "data": {
      "text/plain": [
       "(0, 1)"
      ]
     },
     "execution_count": 3,
     "metadata": {},
     "output_type": "execute_result"
    }
   ],
   "source": [
    "client.subscribe(topic)"
   ]
  },
  {
   "cell_type": "code",
   "execution_count": 4,
   "metadata": {},
   "outputs": [
    {
     "data": {
      "text/plain": [
       "<paho.mqtt.client.MQTTMessageInfo at 0x11064ae08>"
      ]
     },
     "execution_count": 4,
     "metadata": {},
     "output_type": "execute_result"
    }
   ],
   "source": [
    "client.publish(topic, 'Capture3!')"
   ]
  },
  {
   "cell_type": "markdown",
   "metadata": {},
   "source": [
    "Should see the payload published"
   ]
  },
  {
   "cell_type": "code",
   "execution_count": null,
   "metadata": {},
   "outputs": [],
   "source": []
  }
 ],
 "metadata": {
  "kernelspec": {
   "display_name": "Python 3",
   "language": "python",
   "name": "python3"
  },
  "language_info": {
   "codemirror_mode": {
    "name": "ipython",
    "version": 3
   },
   "file_extension": ".py",
   "mimetype": "text/x-python",
   "name": "python",
   "nbconvert_exporter": "python",
   "pygments_lexer": "ipython3",
   "version": "3.6.5"
  }
 },
 "nbformat": 4,
 "nbformat_minor": 2
}
