{
 "cells": [
  {
   "cell_type": "markdown",
   "metadata": {},
   "source": [
    "* Tutorial https://www.hivemq.com/blog/mqtt-client-library-paho-python\n",
    "* Also http://www.steves-internet-guide.com/client-connections-python-mqtt/"
   ]
  },
  {
   "cell_type": "code",
   "execution_count": 2,
   "metadata": {},
   "outputs": [
    {
     "name": "stdout",
     "output_type": "stream",
     "text": [
      "CONNACK received with code 0\n",
      "connected OK\n"
     ]
    }
   ],
   "source": [
    "import paho.mqtt.client as paho\n",
    " \n",
    "def on_connect(client, userdata, flags, rc):\n",
    "    print(f\"CONNACK received with code {rc}\")\n",
    "    if rc==0:\n",
    "        print(\"connected OK\")\n",
    "    else:\n",
    "        print(\"Bad connection Returned code=\",rc)\n",
    "\n",
    "def on_publish(client, userdata, mid):\n",
    "    print(\"mid: \"+str(mid))        \n",
    "\n",
    "client = paho.Client()\n",
    "client.on_connect = on_connect\n",
    "client.on_publish = on_publish\n",
    "client.connect(\"broker.mqttdashboard.com\", 1883)\n",
    "client.loop_start()"
   ]
  },
  {
   "cell_type": "code",
   "execution_count": null,
   "metadata": {},
   "outputs": [],
   "source": []
  }
 ],
 "metadata": {
  "kernelspec": {
   "display_name": "Python 3",
   "language": "python",
   "name": "python3"
  },
  "language_info": {
   "codemirror_mode": {
    "name": "ipython",
    "version": 3
   },
   "file_extension": ".py",
   "mimetype": "text/x-python",
   "name": "python",
   "nbconvert_exporter": "python",
   "pygments_lexer": "ipython3",
   "version": "3.6.5"
  }
 },
 "nbformat": 4,
 "nbformat_minor": 2
}
