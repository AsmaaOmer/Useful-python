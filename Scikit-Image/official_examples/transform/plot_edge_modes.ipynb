{
 "cells": [
  {
   "cell_type": "code",
   "execution_count": 1,
   "metadata": {
    "collapsed": false
   },
   "outputs": [],
   "source": [
    "%matplotlib inline"
   ]
  },
  {
   "cell_type": "markdown",
   "metadata": {},
   "source": [
    "\n",
    "=========================\n",
    "Interpolation: Edge Modes\n",
    "=========================\n",
    "\n",
    "This example illustrates the different edge modes available during\n",
    "interpolation in routines such as :py:func:`skimage.transform.rescale`\n",
    "and :py:func:`skimage.transform.resize`.\n",
    "\n"
   ]
  },
  {
   "cell_type": "code",
   "execution_count": 2,
   "metadata": {
    "collapsed": false
   },
   "outputs": [
    {
     "data": {
      "image/png": "[encoded data removed]",
      "text/plain": [
       "<Figure size 432x288 with 6 Axes>"
      ]
     },
     "metadata": {},
     "output_type": "display_data"
    }
   ],
   "source": [
    "import numpy as np\n",
    "import matplotlib.pyplot as plt\n",
    "\n",
    "from skimage.util import pad\n",
    "\n",
    "\n",
    "img = np.zeros((16, 16))\n",
    "img[:8, :8] += 1\n",
    "img[:4, :4] += 1\n",
    "img[:2, :2] += 1\n",
    "img[:1, :1] += 2\n",
    "img[8, 8] = 4\n",
    "\n",
    "modes = ['constant', 'edge', 'wrap', 'reflect', 'symmetric']\n",
    "fig, axes = plt.subplots(2, 3)\n",
    "ax = axes.flatten()\n",
    "\n",
    "for n, mode in enumerate(modes):\n",
    "    img_padded = pad(img, pad_width=img.shape[0], mode=mode)\n",
    "    ax[n].imshow(img_padded, cmap=plt.cm.gray, interpolation='nearest')\n",
    "    ax[n].plot([15.5, 15.5, 31.5, 31.5, 15.5],\n",
    "               [15.5, 31.5, 31.5, 15.5, 15.5], 'y--', linewidth=0.5)\n",
    "    ax[n].set_title(mode)\n",
    "\n",
    "for a in ax:\n",
    "    a.set_axis_off()\n",
    "    a.set_aspect('equal')\n",
    "\n",
    "plt.tight_layout()\n",
    "plt.show()"
   ]
  },
  {
   "cell_type": "code",
   "execution_count": null,
   "metadata": {},
   "outputs": [],
   "source": []
  }
 ],
 "metadata": {
  "kernelspec": {
   "display_name": "Python 3",
   "language": "python",
   "name": "python3"
  },
  "language_info": {
   "codemirror_mode": {
    "name": "ipython",
    "version": 3
   },
   "file_extension": ".py",
   "mimetype": "text/x-python",
   "name": "python",
   "nbconvert_exporter": "python",
   "pygments_lexer": "ipython3",
   "version": "3.6.5"
  }
 },
 "nbformat": 4,
 "nbformat_minor": 2
}
