{
 "cells": [
  {
   "cell_type": "code",
   "execution_count": 28,
   "metadata": {},
   "outputs": [],
   "source": [
    "import asyncio\n",
    "import aiobotocore\n",
    "import json\n",
    "import datetime\n",
    "from dateutil.tz import tzutc\n",
    "\n",
    "#AWS_ACCESS_KEY_ID = \"xxx\"\n",
    "#AWS_SECRET_ACCESS_KEY = \"xxx\""
   ]
  },
  {
   "cell_type": "code",
   "execution_count": 31,
   "metadata": {},
   "outputs": [],
   "source": [
    "def load_api_secrets(filename):\n",
    "    \"\"\"Convenience to load the API key from a json file.\"\"\"\n",
    "    try:\n",
    "        with open(filename, 'r') as fp:\n",
    "            api_params = json.load(fp)\n",
    "    except Exception as e:\n",
    "        print('Failed to load API secrets key: {}'.format(e))\n",
    "        api_params = None\n",
    "    return api_params['region_name'], api_params['aws_access_key_id'], api_params['aws_secret_access_key']"
   ]
  },
  {
   "cell_type": "code",
   "execution_count": 32,
   "metadata": {},
   "outputs": [
    {
     "data": {
      "text/plain": [
       "'us-east-1'"
      ]
     },
     "execution_count": 32,
     "metadata": {},
     "output_type": "execute_result"
    }
   ],
   "source": [
    "api_key_file = \"/Users/robincole/Desktop/aws-creds.json\"\n",
    "region_name, AWS_ACCESS_KEY_ID, AWS_SECRET_ACCESS_KEY = load_api_secrets(api_key_file)\n",
    "region_name"
   ]
  },
  {
   "cell_type": "code",
   "execution_count": 43,
   "metadata": {},
   "outputs": [],
   "source": [
    "async def go(loop):\n",
    "    bucket = 'test-37fc824c-9417-46ed-a303-a519c4cfbe26'\n",
    "    filename = 'dummy.bin'\n",
    "    key = filename\n",
    "\n",
    "    session = aiobotocore.get_session(loop=loop)\n",
    "    async with session.create_client('s3', region_name=region_name,\n",
    "                                   aws_secret_access_key=AWS_SECRET_ACCESS_KEY,\n",
    "                                   aws_access_key_id=AWS_ACCESS_KEY_ID) as client:\n",
    "        # upload object to amazon s3\n",
    "        data = b'\\x01'*1024\n",
    "        resp = await client.put_object(Bucket=bucket,\n",
    "                                            Key=key,\n",
    "                                            Body=data)\n",
    "        print(resp)\n",
    "\n",
    "        # getting s3 object properties of file we just uploaded\n",
    "        resp = await client.get_object_acl(Bucket=bucket, Key=key)\n",
    "        print(resp)\n",
    "\n",
    "        # get object from s3\n",
    "        response = await client.get_object(Bucket=bucket, Key=key)\n",
    "        # this will ensure the connection is correctly re-used/closed\n",
    "        async with response['Body'] as stream:\n",
    "            assert await stream.read() == data\n",
    "\n",
    "        # list s3 objects using paginator\n",
    "        paginator = client.get_paginator('list_objects')\n",
    "        async for result in paginator.paginate(Bucket=bucket, Prefix=folder):\n",
    "            for c in result.get('Contents', []):\n",
    "                print(c)\n",
    "\n",
    "        # delete object from s3\n",
    "        resp = await client.delete_object(Bucket=bucket, Key=key)\n",
    "        print(resp)"
   ]
  },
  {
   "cell_type": "code",
   "execution_count": 44,
   "metadata": {},
   "outputs": [],
   "source": [
    "loop = asyncio.get_event_loop()"
   ]
  },
  {
   "cell_type": "code",
   "execution_count": 45,
   "metadata": {},
   "outputs": [
    {
     "ename": "RuntimeError",
     "evalue": "This event loop is already running",
     "output_type": "error",
     "traceback": [
      "\u001b[0;31m---------------------------------------------------------------------------\u001b[0m",
      "\u001b[0;31mRuntimeError\u001b[0m                              Traceback (most recent call last)",
      "\u001b[0;32m<ipython-input-45-b3cdeb0c1ca4>\u001b[0m in \u001b[0;36m<module>\u001b[0;34m\u001b[0m\n\u001b[0;32m----> 1\u001b[0;31m \u001b[0mloop\u001b[0m\u001b[0;34m.\u001b[0m\u001b[0mrun_until_complete\u001b[0m\u001b[0;34m(\u001b[0m\u001b[0mgo\u001b[0m\u001b[0;34m(\u001b[0m\u001b[0mloop\u001b[0m\u001b[0;34m)\u001b[0m\u001b[0;34m)\u001b[0m\u001b[0;34m\u001b[0m\u001b[0m\n\u001b[0m",
      "\u001b[0;32m~/anaconda3/lib/python3.6/asyncio/base_events.py\u001b[0m in \u001b[0;36mrun_until_complete\u001b[0;34m(self, future)\u001b[0m\n\u001b[1;32m    453\u001b[0m         \u001b[0mfuture\u001b[0m\u001b[0;34m.\u001b[0m\u001b[0madd_done_callback\u001b[0m\u001b[0;34m(\u001b[0m\u001b[0m_run_until_complete_cb\u001b[0m\u001b[0;34m)\u001b[0m\u001b[0;34m\u001b[0m\u001b[0m\n\u001b[1;32m    454\u001b[0m         \u001b[0;32mtry\u001b[0m\u001b[0;34m:\u001b[0m\u001b[0;34m\u001b[0m\u001b[0m\n\u001b[0;32m--> 455\u001b[0;31m             \u001b[0mself\u001b[0m\u001b[0;34m.\u001b[0m\u001b[0mrun_forever\u001b[0m\u001b[0;34m(\u001b[0m\u001b[0;34m)\u001b[0m\u001b[0;34m\u001b[0m\u001b[0m\n\u001b[0m\u001b[1;32m    456\u001b[0m         \u001b[0;32mexcept\u001b[0m\u001b[0;34m:\u001b[0m\u001b[0;34m\u001b[0m\u001b[0m\n\u001b[1;32m    457\u001b[0m             \u001b[0;32mif\u001b[0m \u001b[0mnew_task\u001b[0m \u001b[0;32mand\u001b[0m \u001b[0mfuture\u001b[0m\u001b[0;34m.\u001b[0m\u001b[0mdone\u001b[0m\u001b[0;34m(\u001b[0m\u001b[0;34m)\u001b[0m \u001b[0;32mand\u001b[0m \u001b[0;32mnot\u001b[0m \u001b[0mfuture\u001b[0m\u001b[0;34m.\u001b[0m\u001b[0mcancelled\u001b[0m\u001b[0;34m(\u001b[0m\u001b[0;34m)\u001b[0m\u001b[0;34m:\u001b[0m\u001b[0;34m\u001b[0m\u001b[0m\n",
      "\u001b[0;32m~/anaconda3/lib/python3.6/asyncio/base_events.py\u001b[0m in \u001b[0;36mrun_forever\u001b[0;34m(self)\u001b[0m\n\u001b[1;32m    407\u001b[0m         \u001b[0mself\u001b[0m\u001b[0;34m.\u001b[0m\u001b[0m_check_closed\u001b[0m\u001b[0;34m(\u001b[0m\u001b[0;34m)\u001b[0m\u001b[0;34m\u001b[0m\u001b[0m\n\u001b[1;32m    408\u001b[0m         \u001b[0;32mif\u001b[0m \u001b[0mself\u001b[0m\u001b[0;34m.\u001b[0m\u001b[0mis_running\u001b[0m\u001b[0;34m(\u001b[0m\u001b[0;34m)\u001b[0m\u001b[0;34m:\u001b[0m\u001b[0;34m\u001b[0m\u001b[0m\n\u001b[0;32m--> 409\u001b[0;31m             \u001b[0;32mraise\u001b[0m \u001b[0mRuntimeError\u001b[0m\u001b[0;34m(\u001b[0m\u001b[0;34m'This event loop is already running'\u001b[0m\u001b[0;34m)\u001b[0m\u001b[0;34m\u001b[0m\u001b[0m\n\u001b[0m\u001b[1;32m    410\u001b[0m         \u001b[0;32mif\u001b[0m \u001b[0mevents\u001b[0m\u001b[0;34m.\u001b[0m\u001b[0m_get_running_loop\u001b[0m\u001b[0;34m(\u001b[0m\u001b[0;34m)\u001b[0m \u001b[0;32mis\u001b[0m \u001b[0;32mnot\u001b[0m \u001b[0;32mNone\u001b[0m\u001b[0;34m:\u001b[0m\u001b[0;34m\u001b[0m\u001b[0m\n\u001b[1;32m    411\u001b[0m             raise RuntimeError(\n",
      "\u001b[0;31mRuntimeError\u001b[0m: This event loop is already running"
     ]
    },
    {
     "name": "stdout",
     "output_type": "stream",
     "text": [
      "{'ResponseMetadata': {'RequestId': '68D282C44DD25661', 'HostId': 'eAJXSNKA/q3AEKf6frMTz9VRUagVfjsp3WAjDf88PrivClirNzlgZJA7n9v7YNjCV6yFFtRj1vc=', 'HTTPStatusCode': 200, 'HTTPHeaders': {'x-amz-id-2': 'eAJXSNKA/q3AEKf6frMTz9VRUagVfjsp3WAjDf88PrivClirNzlgZJA7n9v7YNjCV6yFFtRj1vc=', 'x-amz-request-id': '68D282C44DD25661', 'date': 'Thu, 11 Apr 2019 06:26:08 GMT', 'etag': '\"54ac58cc1e2711a1a3d88bce15bb152d\"', 'content-length': '0', 'server': 'AmazonS3'}, 'RetryAttempts': 0}, 'ETag': '\"54ac58cc1e2711a1a3d88bce15bb152d\"'}\n",
      "{'ResponseMetadata': {'RequestId': 'BD148333735A0370', 'HostId': '+j2h75WOtAOFLqqByLitpI0cYdQMEl3Mr0ujliYix9ZhKKladAf5Z13/FauLV3gtYAy4RXqeG2g=', 'HTTPStatusCode': 200, 'HTTPHeaders': {'x-amz-id-2': '+j2h75WOtAOFLqqByLitpI0cYdQMEl3Mr0ujliYix9ZhKKladAf5Z13/FauLV3gtYAy4RXqeG2g=', 'x-amz-request-id': 'BD148333735A0370', 'date': 'Thu, 11 Apr 2019 06:26:08 GMT', 'content-type': 'application/xml', 'transfer-encoding': 'chunked', 'server': 'AmazonS3'}, 'RetryAttempts': 0}, 'Owner': {'DisplayName': 'robmarkcole', 'ID': 'cc176f1aecf6211aa974a5acbecaa26cdf169e34bf85572e687bfa6fc328de18'}, 'Grants': [{'Grantee': {'DisplayName': 'robmarkcole', 'ID': 'cc176f1aecf6211aa974a5acbecaa26cdf169e34bf85572e687bfa6fc328de18', 'Type': 'CanonicalUser'}, 'Permission': 'FULL_CONTROL'}]}\n"
     ]
    }
   ],
   "source": [
    "loop.run_until_complete(go(loop))"
   ]
  },
  {
   "cell_type": "markdown",
   "metadata": {},
   "source": [
    "Success, but note that in Jupyter we always get `RuntimeError: This event loop is already running`"
   ]
  },
  {
   "cell_type": "code",
   "execution_count": null,
   "metadata": {},
   "outputs": [],
   "source": []
  }
 ],
 "metadata": {
  "kernelspec": {
   "display_name": "Python 3",
   "language": "python",
   "name": "python3"
  },
  "language_info": {
   "codemirror_mode": {
    "name": "ipython",
    "version": 3
   },
   "file_extension": ".py",
   "mimetype": "text/x-python",
   "name": "python",
   "nbconvert_exporter": "python",
   "pygments_lexer": "ipython3",
   "version": "3.6.5"
  }
 },
 "nbformat": 4,
 "nbformat_minor": 2
}
