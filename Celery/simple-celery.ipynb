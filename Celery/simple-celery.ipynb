{
 "cells": [
  {
   "cell_type": "markdown",
   "metadata": {},
   "source": [
    "https://www.distributedpython.com/2018/07/03/simple-celery-setup/\n",
    "\n",
    "In this blog post you’ll learn how to set up an dead-simple no-frills system with Celery, Flask and nothing else.\n",
    "\n",
    "## Kombu’s file-system transport\n",
    "Celery uses Kombu to send and receive messages. Kombu itself is a messaging library that provides a high-level interface for the AMQ protocol and supports different message brokers.\n",
    "\n",
    "The message broker is the store which interacts as the transport between the producer and consumer of messages. Typically, RabbitMQ or Redis are used as message stores. But Kombu also supports a File-system transport whereby producer and consumer simply communicate via files. All you need is to ensure that both producer and consumer have access to the same folder on a local (or network) drive."
   ]
  },
  {
   "cell_type": "code",
   "execution_count": null,
   "metadata": {},
   "outputs": [],
   "source": []
  }
 ],
 "metadata": {
  "kernelspec": {
   "display_name": "Python 3",
   "language": "python",
   "name": "python3"
  },
  "language_info": {
   "codemirror_mode": {
    "name": "ipython",
    "version": 3
   },
   "file_extension": ".py",
   "mimetype": "text/x-python",
   "name": "python",
   "nbconvert_exporter": "python",
   "pygments_lexer": "ipython3",
   "version": "3.6.5"
  }
 },
 "nbformat": 4,
 "nbformat_minor": 2
}
