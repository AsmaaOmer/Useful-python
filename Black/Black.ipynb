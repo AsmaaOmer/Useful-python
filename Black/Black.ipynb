{
 "cells": [
  {
   "cell_type": "markdown",
   "metadata": {},
   "source": [
    "Uncompromising code editor"
   ]
  },
  {
   "cell_type": "markdown",
   "metadata": {},
   "source": [
    "https://github.com/ambv/black source\n",
    "    \n",
    "https://github.com/csurfer/blackcellmagic jupyter magic\n",
    "\n",
    "https://black.now.sh/ playground"
   ]
  },
  {
   "cell_type": "code",
   "execution_count": 1,
   "metadata": {},
   "outputs": [],
   "source": [
    "# !pip install black"
   ]
  },
  {
   "cell_type": "code",
   "execution_count": 2,
   "metadata": {},
   "outputs": [],
   "source": [
    "# !pip install blackcellmagic"
   ]
  },
  {
   "cell_type": "code",
   "execution_count": 7,
   "metadata": {},
   "outputs": [],
   "source": [
    "# Example cell\n",
    "import os\n",
    "x = {  'a':37,'b':42,\n",
    "\n",
    "'c':927}\n",
    "\n",
    "\n",
    "class Foo  (     object  ):\n",
    "  def f    (self   ):\n",
    "    return       37*-2\n",
    "  def g(self, x,y=42):\n",
    "      return y\n",
    "\n",
    "def very_important_function(template: str,*variables,file: os.PathLike,debug:bool=False,):\n",
    "    \"\"\"Applies `variables` to the `template` and writes to `file`.\"\"\"\n",
    "    with open(file, \"w\") as f:\n",
    "     ...\n",
    "# fmt: off\n",
    "custom_formatting = [\n",
    "    0,  1,  2,\n",
    "    3,  4,  5,\n",
    "    6,  7,  8,\n",
    "]\n",
    "# fmt: on\n",
    "regular_formatting = [\n",
    "    0,  1,  2,\n",
    "    3,  4,  5,\n",
    "    6,  7,  8,\n",
    "]"
   ]
  },
  {
   "cell_type": "markdown",
   "metadata": {},
   "source": [
    "Now apply to same cell using `%load_ext blackcellmagic`"
   ]
  },
  {
   "cell_type": "code",
   "execution_count": 8,
   "metadata": {},
   "outputs": [],
   "source": [
    "%load_ext blackcellmagic"
   ]
  },
  {
   "cell_type": "code",
   "execution_count": null,
   "metadata": {},
   "outputs": [],
   "source": [
    "import os\n",
    "\n",
    "x = {\"a\": 37, \"b\": 42, \"c\": 927}\n",
    "\n",
    "\n",
    "class Foo(object):\n",
    "    def f(self):\n",
    "        return 37 * -2\n",
    "\n",
    "    def g(self, x, y=42):\n",
    "        return y\n",
    "\n",
    "\n",
    "def very_important_function(\n",
    "    template: str, *variables, file: os.PathLike, debug: bool = False\n",
    "):\n",
    "    \"\"\"Applies `variables` to the `template` and writes to `file`.\"\"\"\n",
    "    with open(file, \"w\") as f:\n",
    "        ...\n",
    "\n",
    "\n",
    "# fmt: off\n",
    "custom_formatting = [\n",
    "    0,  1,  2,\n",
    "    3,  4,  5,\n",
    "    6,  7,  8,\n",
    "]\n",
    "# fmt: on\n",
    "regular_formatting = [0, 1, 2, 3, 4, 5, 6, 7, 8]\n"
   ]
  },
  {
   "cell_type": "code",
   "execution_count": null,
   "metadata": {},
   "outputs": [],
   "source": []
  }
 ],
 "metadata": {
  "kernelspec": {
   "display_name": "Python 3",
   "language": "python",
   "name": "python3"
  },
  "language_info": {
   "codemirror_mode": {
    "name": "ipython",
    "version": 3
   },
   "file_extension": ".py",
   "mimetype": "text/x-python",
   "name": "python",
   "nbconvert_exporter": "python",
   "pygments_lexer": "ipython3",
   "version": "3.6.5"
  }
 },
 "nbformat": 4,
 "nbformat_minor": 2
}
