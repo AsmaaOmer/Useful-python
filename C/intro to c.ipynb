{
 "cells": [
  {
   "cell_type": "markdown",
   "metadata": {},
   "source": [
    "## `printf`"
   ]
  },
  {
   "cell_type": "code",
   "execution_count": null,
   "metadata": {},
   "outputs": [],
   "source": []
  },
  {
   "cell_type": "code",
   "execution_count": 1,
   "metadata": {},
   "outputs": [
    {
     "name": "stdout",
     "output_type": "stream",
     "text": [
      "Hello world\n"
     ]
    }
   ],
   "source": [
    "#include <stdio.h>\n",
    "\n",
    "int main() {\n",
    "    printf(\"Hello world\\n\");\n",
    "}"
   ]
  },
  {
   "cell_type": "code",
   "execution_count": 2,
   "metadata": {},
   "outputs": [
    {
     "name": "stderr",
     "output_type": "stream",
     "text": [
      "/var/folders/0v/jj4cv55d7hs6mn_sn3t8b4kh0000gn/T/tmp50e67g7o.c:3:4: warning: implicitly declaring library function 'printf' with type 'int (const char *, ...)' [-Wimplicit-function-declaration]\n",
      "   printf (\"Characters: %c %c \\n\", 'a', 65);\n",
      "   ^\n",
      "/var/folders/0v/jj4cv55d7hs6mn_sn3t8b4kh0000gn/T/tmp50e67g7o.c:3:4: note: include the header <stdio.h> or explicitly provide a declaration for 'printf'\n",
      "1 warning generated.\n"
     ]
    },
    {
     "name": "stdout",
     "output_type": "stream",
     "text": [
      "Characters: a A \n",
      "Decimals: 1977 650000\n",
      "Preceding with blanks:       1977 \n",
      "Preceding with zeros: 0000001977 \n",
      "Some different radices: 100 64 144 0x64 0144 \n",
      "floats: 3.14 +3e+00 3.141600E+00 \n",
      "Width trick:    10 \n",
      "A string \n"
     ]
    }
   ],
   "source": [
    "int main()\n",
    "{\n",
    "   printf (\"Characters: %c %c \\n\", 'a', 65);\n",
    "   printf (\"Decimals: %d %ld\\n\", 1977, 650000L);\n",
    "   printf (\"Preceding with blanks: %10d \\n\", 1977);\n",
    "   printf (\"Preceding with zeros: %010d \\n\", 1977);\n",
    "   printf (\"Some different radices: %d %x %o %#x %#o \\n\", 100, 100, 100, 100, 100);\n",
    "   printf (\"floats: %4.2f %+.0e %E \\n\", 3.1416, 3.1416, 3.1416);\n",
    "   printf (\"Width trick: %*d \\n\", 5, 10);\n",
    "   printf (\"%s \\n\", \"A string\");\n",
    "   return 0;\n",
    "}"
   ]
  },
  {
   "cell_type": "markdown",
   "metadata": {},
   "source": [
    "## Function"
   ]
  },
  {
   "cell_type": "code",
   "execution_count": 3,
   "metadata": {},
   "outputs": [
    {
     "name": "stderr",
     "output_type": "stream",
     "text": [
      "/var/folders/0v/jj4cv55d7hs6mn_sn3t8b4kh0000gn/T/tmplj7rjk7z.c:10:3: warning: implicitly declaring library function 'printf' with type 'int (const char *, ...)' [-Wimplicit-function-declaration]\n",
      "  printf(\"GCD: %d\\n\",\n",
      "  ^\n",
      "/var/folders/0v/jj4cv55d7hs6mn_sn3t8b4kh0000gn/T/tmplj7rjk7z.c:10:3: note: include the header <stdio.h> or explicitly provide a declaration for 'printf'\n",
      "1 warning generated.\n"
     ]
    },
    {
     "name": "stdout",
     "output_type": "stream",
     "text": [
      "GCD: 8\n"
     ]
    }
   ],
   "source": [
    "int gcd(int a, int b) {\n",
    "  if (b == 0) {\n",
    "    return a;\n",
    "  } else {\n",
    "    return gcd(b, a % b);\n",
    "  }\n",
    "}\n",
    "\n",
    "int main() {\n",
    "  printf(\"GCD: %d\\n\",\n",
    "    gcd(24, 40));\n",
    "  return 0;\n",
    "}"
   ]
  },
  {
   "cell_type": "code",
   "execution_count": null,
   "metadata": {},
   "outputs": [],
   "source": []
  }
 ],
 "metadata": {
  "kernelspec": {
   "display_name": "C",
   "language": "c",
   "name": "c"
  },
  "language_info": {
   "file_extension": ".c",
   "mimetype": "text/plain",
   "name": "c"
  }
 },
 "nbformat": 4,
 "nbformat_minor": 4
}
