{
 "cells": [
  {
   "cell_type": "markdown",
   "metadata": {},
   "source": [
    "List of times in format `(start_time, end_time).`\n",
    "\n",
    "Write function `merge_ranges()` that takes a list of multiple meeting time ranges and returns a list of condensed ranges."
   ]
  },
  {
   "cell_type": "code",
   "execution_count": 1,
   "metadata": {},
   "outputs": [],
   "source": [
    "input_times =   [(0, 1), (3, 5), (4, 8), (10, 12), (9, 10)]\n",
    "output_times =   [(0, 1), (3, 8), (9, 12)]"
   ]
  },
  {
   "cell_type": "markdown",
   "metadata": {},
   "source": [
    "Iterate over each time range in `input_times`, if there is an overlap with another time range, merge them. First write helper to determine if two times overlap"
   ]
  },
  {
   "cell_type": "code",
   "execution_count": 2,
   "metadata": {},
   "outputs": [],
   "source": [
    "time1 = (0, 1)\n",
    "time2 = (3, 5)"
   ]
  },
  {
   "cell_type": "code",
   "execution_count": 3,
   "metadata": {},
   "outputs": [],
   "source": [
    "def sort_times(time1, time2):\n",
    "    \"\"\"Sort pair of times, returning in order.\"\"\"\n",
    "    if time2[0] < time1[0]:\n",
    "        return time2, time1\n",
    "    ## else\n",
    "    return time1, time2"
   ]
  },
  {
   "cell_type": "code",
   "execution_count": 4,
   "metadata": {},
   "outputs": [
    {
     "data": {
      "text/plain": [
       "((0, 1), (3, 5))"
      ]
     },
     "execution_count": 4,
     "metadata": {},
     "output_type": "execute_result"
    }
   ],
   "source": [
    "sort_times(time2, time1)"
   ]
  },
  {
   "cell_type": "code",
   "execution_count": 5,
   "metadata": {},
   "outputs": [],
   "source": [
    "def check_overlap(time1, time2):\n",
    "    \"\"\"If there is an overlap, return the overlapped time.\"\"\"\n",
    "    start_time = None\n",
    "    end_time = None\n",
    "    \n",
    "    # Check for overlap\n",
    "    if time2[0] <= time1[1]:\n",
    "        ## Yes there is overlap\n",
    "        return (min(time1[0], time2[0]), max(time1[1], time2[1]))\n",
    "    return None"
   ]
  },
  {
   "cell_type": "markdown",
   "metadata": {},
   "source": [
    "In this function it is critical to have `<=` to find the overlap, then we have to check the max times"
   ]
  },
  {
   "cell_type": "code",
   "execution_count": 6,
   "metadata": {},
   "outputs": [
    {
     "data": {
      "text/plain": [
       "(1, 5)"
      ]
     },
     "execution_count": 6,
     "metadata": {},
     "output_type": "execute_result"
    }
   ],
   "source": [
    "check_overlap((1, 5), (2, 3))"
   ]
  },
  {
   "cell_type": "markdown",
   "metadata": {},
   "source": [
    "Now we iterate over all pairs of times, place in order then merge if possible. Note that we might need to repeat the whole process multiple times so a recursive function will be necessary"
   ]
  },
  {
   "cell_type": "code",
   "execution_count": 7,
   "metadata": {},
   "outputs": [],
   "source": [
    "input_times =   [(0, 1), (3, 5), (4, 8), (10, 12), (9, 10)]\n",
    "\n",
    "def merge_inputs(input_times):\n",
    "    \"\"\"\n",
    "    Iterates once over all `input_times`, merges times and drops duplicates.\n",
    "    \"\"\"\n",
    "    merged_times = []\n",
    "    removed_times = []\n",
    "    times = range(len(input_times))\n",
    "    for i in times:\n",
    "        for j in times:\n",
    "            if i==j:\n",
    "                break\n",
    "            else:\n",
    "                time1, time2 = sort_times(input_times[i], input_times[j])\n",
    "                merge_result = check_overlap(time1, time2)\n",
    "                if merge_result:\n",
    "                    merged_times.append(merge_result)\n",
    "                    removed_times.append(time1)\n",
    "                    removed_times.append(time2)\n",
    "        \n",
    "    result =  list(set(merged_times) | (set(input_times) - set(removed_times))) # drop dupliactes\n",
    "    return sorted(result)"
   ]
  },
  {
   "cell_type": "code",
   "execution_count": 8,
   "metadata": {},
   "outputs": [
    {
     "data": {
      "text/plain": [
       "[(0, 1), (3, 8), (9, 12)]"
      ]
     },
     "execution_count": 8,
     "metadata": {},
     "output_type": "execute_result"
    }
   ],
   "source": [
    "merged_times = merge_inputs(input_times)\n",
    "merged_times"
   ]
  },
  {
   "cell_type": "code",
   "execution_count": 9,
   "metadata": {},
   "outputs": [
    {
     "data": {
      "text/plain": [
       "[(1, 10), (2, 6)]"
      ]
     },
     "execution_count": 9,
     "metadata": {},
     "output_type": "execute_result"
    }
   ],
   "source": [
    "merge_inputs([(1, 10), (2, 6), (3, 5), (7, 9)])"
   ]
  },
  {
   "cell_type": "markdown",
   "metadata": {},
   "source": [
    "OK my algo has failed, also it is O(n^2)"
   ]
  },
  {
   "cell_type": "markdown",
   "metadata": {},
   "source": [
    "## Official solution"
   ]
  },
  {
   "cell_type": "code",
   "execution_count": 10,
   "metadata": {},
   "outputs": [],
   "source": [
    "  def merge_ranges(meetings):\n",
    "    # Sort by start time\n",
    "    sorted_meetings = sorted(meetings)\n",
    "\n",
    "    # Initialize merged_meetings with the earliest meeting\n",
    "    merged_meetings = [sorted_meetings[0]]\n",
    "\n",
    "    # Loop over all other meetings\n",
    "    for current_meeting_start, current_meeting_end in sorted_meetings[1:]:\n",
    "        \n",
    "        # Get the start and end of the previous merged meeting\n",
    "        last_merged_meeting_start, last_merged_meeting_end = merged_meetings[-1]\n",
    "\n",
    "        # If the current meeting overlaps with the last merged meeting, use the\n",
    "        # later end time of the two\n",
    "        if (current_meeting_start <= last_merged_meeting_end):\n",
    "            merged_meetings[-1] = (last_merged_meeting_start,\n",
    "                                   max(last_merged_meeting_end,\n",
    "                                       current_meeting_end))\n",
    "        else:\n",
    "            # Add the current meeting since it doesn't overlap\n",
    "            merged_meetings.append((current_meeting_start, current_meeting_end))\n",
    "\n",
    "    return merged_meetings"
   ]
  },
  {
   "cell_type": "code",
   "execution_count": 11,
   "metadata": {},
   "outputs": [
    {
     "data": {
      "text/plain": [
       "[(0, 1), (3, 8), (9, 12)]"
      ]
     },
     "execution_count": 11,
     "metadata": {},
     "output_type": "execute_result"
    }
   ],
   "source": [
    "input_times =   [(0, 1), (3, 5), (4, 8), (10, 12), (9, 10)]\n",
    "merge_ranges(input_times)"
   ]
  },
  {
   "cell_type": "code",
   "execution_count": null,
   "metadata": {},
   "outputs": [],
   "source": []
  }
 ],
 "metadata": {
  "kernelspec": {
   "display_name": "Python 3",
   "language": "python",
   "name": "python3"
  },
  "language_info": {
   "codemirror_mode": {
    "name": "ipython",
    "version": 3
   },
   "file_extension": ".py",
   "mimetype": "text/x-python",
   "name": "python",
   "nbconvert_exporter": "python",
   "pygments_lexer": "ipython3",
   "version": "3.6.5"
  }
 },
 "nbformat": 4,
 "nbformat_minor": 2
}
