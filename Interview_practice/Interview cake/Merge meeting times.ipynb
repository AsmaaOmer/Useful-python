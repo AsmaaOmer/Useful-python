{
 "cells": [
  {
   "cell_type": "markdown",
   "metadata": {},
   "source": [
    "List of times in format `(start_time, end_time).`\n",
    "\n",
    "Write function `merge_ranges()` that takes a list of multiple meeting time ranges and returns a list of condensed ranges."
   ]
  },
  {
   "cell_type": "code",
   "execution_count": 2,
   "metadata": {},
   "outputs": [],
   "source": [
    "input_times =   [(0, 1), (3, 5), (4, 8), (10, 12), (9, 10)]\n",
    "output_times =   [(0, 1), (3, 8), (9, 12)]"
   ]
  },
  {
   "cell_type": "markdown",
   "metadata": {},
   "source": [
    "Iterate over each time range in `input_times`, if there is an overlap with another time range, merge them. First write helper to determine if two times overlap"
   ]
  },
  {
   "cell_type": "markdown",
   "metadata": {},
   "source": [
    "First check is to ensure that input_times is in order, use `sorted`"
   ]
  },
  {
   "cell_type": "code",
   "execution_count": 3,
   "metadata": {},
   "outputs": [
    {
     "data": {
      "text/plain": [
       "[(0, 1), (3, 5), (4, 8), (9, 10), (10, 12)]"
      ]
     },
     "execution_count": 3,
     "metadata": {},
     "output_type": "execute_result"
    }
   ],
   "source": [
    "input_times = sorted(input_times)\n",
    "input_times"
   ]
  },
  {
   "cell_type": "markdown",
   "metadata": {},
   "source": [
    "Starting with the smallest value, we move along and check if the next entry is a merge. If it is a merger, we merge, otherwise we add the non-overlapping value to the merge list\n",
    "\n",
    "Write a helper to perform the merge, need to catch the edge case that the second value is 'subsumed' or completely enclosed by the first, e.g. `(1, 3), (1, 5)`. Remember we can assume the are already in order"
   ]
  },
  {
   "cell_type": "code",
   "execution_count": 5,
   "metadata": {},
   "outputs": [],
   "source": [
    "def merge_times(t1, t2):\n",
    "    \"\"\"\n",
    "    Check of t2 overlaps with t1. If it does, overwrite t1 with the merged time, else return t2\n",
    "    \"\"\"\n",
    "    # Check for overlap\n",
    "    if t2[0] <= t1[1]:\n",
    "        # Yes there is overlap!\n",
    "        if t2[1] <= t1[1]:\n",
    "            # Yes t2 is subsumed\n",
    "            return t1\n",
    "        else:\n",
    "            # Generate the overlap\n",
    "            return (t1[0], t2[1])\n",
    "    else:\n",
    "        return t2\n",
    "        # there is no overlap, just return t2        "
   ]
  },
  {
   "cell_type": "code",
   "execution_count": 8,
   "metadata": {},
   "outputs": [
    {
     "data": {
      "text/plain": [
       "(5, 7)"
      ]
     },
     "execution_count": 8,
     "metadata": {},
     "output_type": "execute_result"
    }
   ],
   "source": [
    "merge_times((1,4), (5, 7))"
   ]
  },
  {
   "cell_type": "code",
   "execution_count": 10,
   "metadata": {},
   "outputs": [],
   "source": [
    "output_times = [input_times[0]] # Get the first value"
   ]
  },
  {
   "cell_type": "code",
   "execution_count": 11,
   "metadata": {},
   "outputs": [
    {
     "data": {
      "text/plain": [
       "[(0, 1)]"
      ]
     },
     "execution_count": 11,
     "metadata": {},
     "output_type": "execute_result"
    }
   ],
   "source": [
    "output_times"
   ]
  },
  {
   "cell_type": "code",
   "execution_count": 12,
   "metadata": {},
   "outputs": [
    {
     "name": "stdout",
     "output_type": "stream",
     "text": [
      "1\n",
      "2\n",
      "3\n",
      "4\n"
     ]
    }
   ],
   "source": [
    "for i in range(1, len(input_times)):\n",
    "    t1 = input_times[i-1]\n",
    "    t2 = input_times[i]\n",
    "    merge_result = merge_times(t1, t2)\n",
    "    "
   ]
  },
  {
   "cell_type": "code",
   "execution_count": null,
   "metadata": {},
   "outputs": [],
   "source": []
  },
  {
   "cell_type": "code",
   "execution_count": null,
   "metadata": {},
   "outputs": [],
   "source": []
  },
  {
   "cell_type": "code",
   "execution_count": null,
   "metadata": {},
   "outputs": [],
   "source": []
  },
  {
   "cell_type": "markdown",
   "metadata": {},
   "source": [
    "## Official solution"
   ]
  },
  {
   "cell_type": "code",
   "execution_count": 10,
   "metadata": {},
   "outputs": [],
   "source": [
    "  def merge_ranges(meetings):\n",
    "    # Sort by start time\n",
    "    sorted_meetings = sorted(meetings)\n",
    "\n",
    "    # Initialize merged_meetings with the earliest meeting\n",
    "    merged_meetings = [sorted_meetings[0]]\n",
    "\n",
    "    # Loop over all other meetings\n",
    "    for current_meeting_start, current_meeting_end in sorted_meetings[1:]:\n",
    "        \n",
    "        # Get the start and end of the previous merged meeting\n",
    "        last_merged_meeting_start, last_merged_meeting_end = merged_meetings[-1]\n",
    "\n",
    "        # If the current meeting overlaps with the last merged meeting, use the\n",
    "        # later end time of the two\n",
    "        if (current_meeting_start <= last_merged_meeting_end):\n",
    "            merged_meetings[-1] = (last_merged_meeting_start,\n",
    "                                   max(last_merged_meeting_end,\n",
    "                                       current_meeting_end))\n",
    "        else:\n",
    "            # Add the current meeting since it doesn't overlap\n",
    "            merged_meetings.append((current_meeting_start, current_meeting_end))\n",
    "\n",
    "    return merged_meetings"
   ]
  },
  {
   "cell_type": "code",
   "execution_count": 11,
   "metadata": {},
   "outputs": [
    {
     "data": {
      "text/plain": [
       "[(0, 1), (3, 8), (9, 12)]"
      ]
     },
     "execution_count": 11,
     "metadata": {},
     "output_type": "execute_result"
    }
   ],
   "source": [
    "input_times =   [(0, 1), (3, 5), (4, 8), (10, 12), (9, 10)]\n",
    "merge_ranges(input_times)"
   ]
  },
  {
   "cell_type": "code",
   "execution_count": null,
   "metadata": {},
   "outputs": [],
   "source": []
  }
 ],
 "metadata": {
  "kernelspec": {
   "display_name": "Python 3",
   "language": "python",
   "name": "python3"
  },
  "language_info": {
   "codemirror_mode": {
    "name": "ipython",
    "version": 3
   },
   "file_extension": ".py",
   "mimetype": "text/x-python",
   "name": "python",
   "nbconvert_exporter": "python",
   "pygments_lexer": "ipython3",
   "version": "3.6.5"
  }
 },
 "nbformat": 4,
 "nbformat_minor": 2
}
