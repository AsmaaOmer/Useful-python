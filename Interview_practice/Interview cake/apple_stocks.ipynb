{
 "cells": [
  {
   "cell_type": "markdown",
   "metadata": {},
   "source": [
    "https://www.interviewcake.com/question/python/stock-price"
   ]
  },
  {
   "cell_type": "markdown",
   "metadata": {},
   "source": [
    "First, I wanna know how much money I could have made yesterday if I'd been trading Apple stocks all day.\n",
    "\n",
    "So I grabbed Apple's stock prices from yesterday and put them in a list called stock_prices, where:\n",
    "\n",
    "The indices are the time (in minutes) past trade opening time, which was 9:30am local time.\n",
    "The values are the price (in US dollars) of one share of Apple stock at that time.\n",
    "So if the stock cost $500 at 10:30am, that means stock_prices[60] = 500.\n",
    "\n",
    "Write an efficient function that takes stock_prices and returns the best profit I could have made from one purchase and one sale of one share of Apple stock yesterday.\n",
    "\n",
    "For example:\n",
    "```python\n",
    "stock_prices = [10, 7, 5, 8, 11, 9]\n",
    "\n",
    "get_max_profit(stock_prices)\n",
    "# Returns 6 (buying for $5 and selling for $11)\n",
    "```"
   ]
  },
  {
   "cell_type": "markdown",
   "metadata": {},
   "source": [
    "## Generate prices"
   ]
  },
  {
   "cell_type": "code",
   "execution_count": 1,
   "metadata": {},
   "outputs": [
    {
     "data": {
      "text/plain": [
       "100000"
      ]
     },
     "execution_count": 1,
     "metadata": {},
     "output_type": "execute_result"
    }
   ],
   "source": [
    "from random import randint\n",
    "\n",
    "def gen_prices(num_prices):\n",
    "    \"\"\"Return a list of prices in range 0 - 100.\"\"\"\n",
    "    return [randint(0, 9) for p in range(0, int(num_prices))]\n",
    "\n",
    "test_prices = gen_prices(1e5)\n",
    "len(test_prices)"
   ]
  },
  {
   "cell_type": "markdown",
   "metadata": {},
   "source": [
    "## Simple solution\n",
    "RC: Iterate over each entry in the list and for each entry calculate the max profit by `profit = current_value - max(remaning_values)`."
   ]
  },
  {
   "cell_type": "code",
   "execution_count": 2,
   "metadata": {},
   "outputs": [],
   "source": [
    "stock_prices = [10, 7, 5, 8, 11, 9]"
   ]
  },
  {
   "cell_type": "code",
   "execution_count": 3,
   "metadata": {},
   "outputs": [
    {
     "name": "stdout",
     "output_type": "stream",
     "text": [
      "6\n"
     ]
    },
    {
     "data": {
      "text/plain": [
       "[1, 4, 6, 3, 0, 0]"
      ]
     },
     "execution_count": 3,
     "metadata": {},
     "output_type": "execute_result"
    }
   ],
   "source": [
    "profits = []\n",
    "for i, price in enumerate(stock_prices):\n",
    "    remaining_prices = stock_prices[i:]\n",
    "    profit = max(remaining_prices) - price\n",
    "    profits.append(profit)\n",
    "    \n",
    "print(max(profits))\n",
    "profits"
   ]
  },
  {
   "cell_type": "markdown",
   "metadata": {},
   "source": [
    "Now wrap as function and time"
   ]
  },
  {
   "cell_type": "code",
   "execution_count": 4,
   "metadata": {},
   "outputs": [],
   "source": [
    "def get_max_profit_simple(stock_prices : list):\n",
    "    \"\"\"\n",
    "    Get the max profit using simple approach iteraing\n",
    "    over every entry in the list.\n",
    "    \"\"\"\n",
    "    for i, price in enumerate(stock_prices):\n",
    "        remaining_prices = stock_prices[i:]\n",
    "        profit = max(remaining_prices) - price\n",
    "        profits.append(profit)\n",
    "    return max(profits)"
   ]
  },
  {
   "cell_type": "markdown",
   "metadata": {},
   "source": [
    "Test time efficiency"
   ]
  },
  {
   "cell_type": "code",
   "execution_count": 5,
   "metadata": {},
   "outputs": [
    {
     "name": "stdout",
     "output_type": "stream",
     "text": [
      "CPU times: user 1min 24s, sys: 363 ms, total: 1min 24s\n",
      "Wall time: 1min 25s\n"
     ]
    },
    {
     "data": {
      "text/plain": [
       "9"
      ]
     },
     "execution_count": 5,
     "metadata": {},
     "output_type": "execute_result"
    }
   ],
   "source": [
    "%%time\n",
    "get_max_profit_simple(test_prices)"
   ]
  },
  {
   "cell_type": "markdown",
   "metadata": {},
   "source": [
    "This is incredibly inefficient as we are repeately calculating the max on remaining prices which is a long array"
   ]
  },
  {
   "cell_type": "markdown",
   "metadata": {},
   "source": [
    "## Official answer\n",
    "`greedy` evaluation, only calculating max, min on two values"
   ]
  },
  {
   "cell_type": "code",
   "execution_count": 6,
   "metadata": {},
   "outputs": [],
   "source": [
    "def get_max_profit(stock_prices):\n",
    "    if len(stock_prices) < 2:\n",
    "        raise ValueError('Getting a profit requires at least 2 prices')\n",
    "\n",
    "    # We'll greedily update min_price and max_profit, so we initialize\n",
    "    # them to the first price and the first possible profit\n",
    "    min_price  = stock_prices[0]\n",
    "    max_profit = stock_prices[1] - stock_prices[0]\n",
    "\n",
    "    # Start at the second (index 1) time\n",
    "    # We can't sell at the first time, since we must buy first,\n",
    "    # and we can't buy and sell at the same time!\n",
    "    # If we started at index 0, we'd try to buy *and* sell at time 0.\n",
    "    # This would give a profit of 0, which is a problem if our\n",
    "    # max_profit is supposed to be *negative*--we'd return 0.\n",
    "    for current_time in range(1, len(stock_prices)):\n",
    "        current_price = stock_prices[current_time]\n",
    "\n",
    "        # See what our profit would be if we bought at the\n",
    "        # min price and sold at the current price\n",
    "        potential_profit = current_price - min_price\n",
    "\n",
    "        # Update max_profit if we can do better\n",
    "        max_profit = max(max_profit, potential_profit)\n",
    "\n",
    "        # Update min_price so it's always\n",
    "        # the lowest price we've seen so far\n",
    "        min_price  = min(min_price, current_price)\n",
    "\n",
    "    return max_profit"
   ]
  },
  {
   "cell_type": "code",
   "execution_count": 7,
   "metadata": {},
   "outputs": [
    {
     "name": "stdout",
     "output_type": "stream",
     "text": [
      "9\n",
      "CPU times: user 31.4 ms, sys: 1.03 ms, total: 32.5 ms\n",
      "Wall time: 31.9 ms\n"
     ]
    }
   ],
   "source": [
    "%%time\n",
    "print(get_max_profit(test_prices))"
   ]
  },
  {
   "cell_type": "markdown",
   "metadata": {},
   "source": [
    "Solution has O(n) time and O(1) space. We only loop through the list once."
   ]
  },
  {
   "cell_type": "markdown",
   "metadata": {},
   "source": [
    "## What We Learned\n",
    "This one's a good example of the greedy ↴ approach in action. Greedy approaches are great because they're fast (usually just one pass through the input). But they don't work for every problem.\n",
    "\n",
    "How do you know if a problem will lend itself to a greedy approach? Best bet is to try it out and see if it works. Trying out a greedy approach should be one of the first ways you try to break down a new question.\n",
    "\n",
    "To try it on a new problem, start by asking yourself:\n",
    "\n",
    "\"Suppose we could come up with the answer in one pass through the input, by simply updating the 'best answer so far' as we went. What additional values would we need to keep updated as we looked at each item in our input, in order to be able to update the 'best answer so far' in constant time?\"\n",
    "\n",
    "In this case:\n",
    "\n",
    "The \"best answer so far\" is, of course, the max profit that we can get based on the prices we've seen so far.\n",
    "\n",
    "The \"additional value\" is the minimum price we've seen so far. If we keep that updated, we can use it to calculate the new max profit so far in constant time. The max profit is the larger of:\n",
    "\n",
    "The previous max profit\n",
    "The max profit we can get by selling now (the current price minus the minimum price seen so far)\n",
    "Try applying this greedy methodology to future questions."
   ]
  },
  {
   "cell_type": "markdown",
   "metadata": {},
   "source": [
    "••\n",
    "\n",
    "A greedy algorithm is an algorithmic paradigm that follows the problem solving heuristic of making the locally optimal choice at each stage with the intent of finding a global optimum.••"
   ]
  },
  {
   "cell_type": "code",
   "execution_count": null,
   "metadata": {},
   "outputs": [],
   "source": []
  }
 ],
 "metadata": {
  "kernelspec": {
   "display_name": "Python 3",
   "language": "python",
   "name": "python3"
  },
  "language_info": {
   "codemirror_mode": {
    "name": "ipython",
    "version": 3
   },
   "file_extension": ".py",
   "mimetype": "text/x-python",
   "name": "python",
   "nbconvert_exporter": "python",
   "pygments_lexer": "ipython3",
   "version": "3.6.5"
  }
 },
 "nbformat": 4,
 "nbformat_minor": 2
}
