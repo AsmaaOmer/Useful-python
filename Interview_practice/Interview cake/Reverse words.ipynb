{
 "cells": [
  {
   "cell_type": "markdown",
   "metadata": {},
   "source": [
    "Write a function reverse_words() that takes a message as a list of characters and reverses the order of the words in place."
   ]
  },
  {
   "cell_type": "code",
   "execution_count": 3,
   "metadata": {},
   "outputs": [],
   "source": [
    "message = [ 'c', 'a', 'k', 'e', ' ',\n",
    "            'p', 'o', 'u', 'n', 'd', ' ',\n",
    "            's', 't', 'e', 'a', 'l' ]\n",
    "\n",
    "# reverse_words(message) \n",
    "\n",
    "# Prints: 'steal pound cake'\n",
    "# print(''.join(message))"
   ]
  },
  {
   "cell_type": "markdown",
   "metadata": {},
   "source": [
    "Working from the end of the list, we want to determine the index of word breaks, then move entries from between the break and the end to the beginning of the list, in place"
   ]
  },
  {
   "cell_type": "code",
   "execution_count": 4,
   "metadata": {},
   "outputs": [
    {
     "data": {
      "text/plain": [
       "['c',\n",
       " 'a',\n",
       " 'k',\n",
       " 'e',\n",
       " ' ',\n",
       " 'p',\n",
       " 'o',\n",
       " 'u',\n",
       " 'n',\n",
       " 'd',\n",
       " ' ',\n",
       " 's',\n",
       " 't',\n",
       " 'e',\n",
       " 'a',\n",
       " 'l']"
      ]
     },
     "execution_count": 4,
     "metadata": {},
     "output_type": "execute_result"
    }
   ],
   "source": [
    "message"
   ]
  },
  {
   "cell_type": "code",
   "execution_count": 8,
   "metadata": {},
   "outputs": [],
   "source": [
    "message_length = len(message)"
   ]
  },
  {
   "cell_type": "markdown",
   "metadata": {},
   "source": [
    "Get the index of all the word breaks"
   ]
  },
  {
   "cell_type": "code",
   "execution_count": 70,
   "metadata": {},
   "outputs": [
    {
     "data": {
      "text/plain": [
       "[0, 4, 10]"
      ]
     },
     "execution_count": 70,
     "metadata": {},
     "output_type": "execute_result"
    }
   ],
   "source": [
    "breaks = [0] # the first break is at zero!\n",
    "for i in range(message_length):\n",
    "    char = message[i] # accound for zero indexing\n",
    "    if char == ' ':\n",
    "        breaks.append(i)\n",
    "        \n",
    "breaks"
   ]
  },
  {
   "cell_type": "markdown",
   "metadata": {},
   "source": [
    "Check index of start and end chars of the final word"
   ]
  },
  {
   "cell_type": "code",
   "execution_count": 85,
   "metadata": {},
   "outputs": [
    {
     "data": {
      "text/plain": [
       "'s'"
      ]
     },
     "execution_count": 85,
     "metadata": {},
     "output_type": "execute_result"
    }
   ],
   "source": [
    "message[breaks[-1] + 1] # The final break point"
   ]
  },
  {
   "cell_type": "code",
   "execution_count": 86,
   "metadata": {},
   "outputs": [
    {
     "data": {
      "text/plain": [
       "'l'"
      ]
     },
     "execution_count": 86,
     "metadata": {},
     "output_type": "execute_result"
    }
   ],
   "source": [
    "message[message_length - 1]"
   ]
  },
  {
   "cell_type": "markdown",
   "metadata": {},
   "source": [
    "Now loop over from end of list, extract the words and place in a new list"
   ]
  },
  {
   "cell_type": "code",
   "execution_count": 96,
   "metadata": {},
   "outputs": [],
   "source": [
    "reordered_message = []\n",
    "word_end = message_length # initial the index of the end of the final word is the message_length\n",
    "\n",
    "for i in range(len(breaks)):\n",
    "    if i == len(breaks) -1: # if first word\n",
    "        word_start = 0\n",
    "    else:   \n",
    "        word_start = breaks[-1-i] + 1\n",
    "    \n",
    "    word = message[word_start:word_end]\n",
    "    reordered_message += word\n",
    "    if not i == len(breaks) -1:\n",
    "        reordered_message += ' '\n",
    "        word_end = word_start -1 # Get the end of the next word"
   ]
  },
  {
   "cell_type": "code",
   "execution_count": 97,
   "metadata": {},
   "outputs": [
    {
     "data": {
      "text/plain": [
       "['s',\n",
       " 't',\n",
       " 'e',\n",
       " 'a',\n",
       " 'l',\n",
       " ' ',\n",
       " 'p',\n",
       " 'o',\n",
       " 'u',\n",
       " 'n',\n",
       " 'd',\n",
       " ' ',\n",
       " 'c',\n",
       " 'a',\n",
       " 'k',\n",
       " 'e']"
      ]
     },
     "execution_count": 97,
     "metadata": {},
     "output_type": "execute_result"
    }
   ],
   "source": [
    "reordered_message"
   ]
  },
  {
   "cell_type": "code",
   "execution_count": 98,
   "metadata": {},
   "outputs": [
    {
     "name": "stdout",
     "output_type": "stream",
     "text": [
      "steal pound cake\n"
     ]
    }
   ],
   "source": [
    "print(''.join(reordered_message))"
   ]
  },
  {
   "cell_type": "markdown",
   "metadata": {},
   "source": [
    "But this is not in place..!\n",
    "\n",
    "OK the correct strategy involves:\n",
    "1. Reversing the list, which puts the words in order but each word is backwards\n",
    "2. Iterating and putting each word forwards"
   ]
  },
  {
   "cell_type": "code",
   "execution_count": null,
   "metadata": {},
   "outputs": [],
   "source": []
  }
 ],
 "metadata": {
  "kernelspec": {
   "display_name": "Python 3",
   "language": "python",
   "name": "python3"
  },
  "language_info": {
   "codemirror_mode": {
    "name": "ipython",
    "version": 3
   },
   "file_extension": ".py",
   "mimetype": "text/x-python",
   "name": "python",
   "nbconvert_exporter": "python",
   "pygments_lexer": "ipython3",
   "version": "3.6.5"
  }
 },
 "nbformat": 4,
 "nbformat_minor": 2
}
