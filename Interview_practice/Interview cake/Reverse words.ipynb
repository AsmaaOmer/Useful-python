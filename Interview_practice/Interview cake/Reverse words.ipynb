{
 "cells": [
  {
   "cell_type": "markdown",
   "metadata": {},
   "source": [
    "Write a function reverse_words() that takes a message as a list of characters and reverses the order of the words in place."
   ]
  },
  {
   "cell_type": "code",
   "execution_count": null,
   "metadata": {},
   "outputs": [],
   "source": [
    "message = [ 'c', 'a', 'k', 'e', ' ',\n",
    "            'p', 'o', 'u', 'n', 'd', ' ',\n",
    "            's', 't', 'e', 'a', 'l' ]\n",
    "\n",
    "# reverse_words(message) \n",
    "\n",
    "# Prints: 'steal pound cake'\n",
    "# print(''.join(message))"
   ]
  },
  {
   "cell_type": "markdown",
   "metadata": {},
   "source": [
    "Working from the end of the list, we want to determine the index of word breaks, then move entries from between the break and the end to the beginning of the list, in place"
   ]
  },
  {
   "cell_type": "code",
   "execution_count": null,
   "metadata": {},
   "outputs": [],
   "source": [
    "message"
   ]
  },
  {
   "cell_type": "markdown",
   "metadata": {},
   "source": [
    "## First effort\n",
    "Get the index of all the word breaks -> O(n)"
   ]
  },
  {
   "cell_type": "code",
   "execution_count": null,
   "metadata": {},
   "outputs": [],
   "source": [
    "breaks = [0] # the first break is at zero!\n",
    "message_length = len(message)\n",
    "for i in range(message_length):\n",
    "    char = message[i] # accound for zero indexing\n",
    "    if char == ' ':\n",
    "        breaks.append(i)\n",
    "        \n",
    "breaks"
   ]
  },
  {
   "cell_type": "markdown",
   "metadata": {},
   "source": [
    "Check index of start and end chars of the final word"
   ]
  },
  {
   "cell_type": "code",
   "execution_count": null,
   "metadata": {},
   "outputs": [],
   "source": [
    "message[breaks[-1] + 1] # The final break point"
   ]
  },
  {
   "cell_type": "code",
   "execution_count": null,
   "metadata": {},
   "outputs": [],
   "source": [
    "message[message_length - 1]"
   ]
  },
  {
   "cell_type": "markdown",
   "metadata": {},
   "source": [
    "Now loop over from end of list, extract the words and place in a new list -> O(n)"
   ]
  },
  {
   "cell_type": "code",
   "execution_count": null,
   "metadata": {},
   "outputs": [],
   "source": [
    "reordered_message = []\n",
    "word_end = message_length # initial the index of the end of the final word is the message_length\n",
    "\n",
    "for i in range(len(breaks)):\n",
    "    if i == len(breaks) -1: # if first word\n",
    "        word_start = 0\n",
    "    else:   \n",
    "        word_start = breaks[-1-i] + 1\n",
    "    \n",
    "    word = message[word_start:word_end]\n",
    "    reordered_message += word # Add to reordered_message list\n",
    "    if not i == len(breaks) -1:\n",
    "        reordered_message += ' ' # Add the space\n",
    "        word_end = word_start -1 # Get the end of the next word"
   ]
  },
  {
   "cell_type": "code",
   "execution_count": null,
   "metadata": {},
   "outputs": [],
   "source": [
    "reordered_message"
   ]
  },
  {
   "cell_type": "code",
   "execution_count": null,
   "metadata": {},
   "outputs": [],
   "source": [
    "print(''.join(reordered_message))"
   ]
  },
  {
   "cell_type": "markdown",
   "metadata": {},
   "source": [
    "But this is not in place..!"
   ]
  },
  {
   "cell_type": "markdown",
   "metadata": {},
   "source": [
    "## Effort at correct approach\n",
    "\n",
    "\n",
    "OK the correct strategy involves:\n",
    "1. Reversing the list, which puts the words in order but each word is backwards. Implement this passing the start and end index to reverse\n",
    "2. Iterating and putting each word forwards, detect each word by ' '"
   ]
  },
  {
   "cell_type": "code",
   "execution_count": null,
   "metadata": {},
   "outputs": [],
   "source": [
    "def reverse_characters(message, left_index, right_index):\n",
    "    # Walk towards the middle, from both sides\n",
    "    while left_index < right_index:\n",
    "        # Swap the left char and right char\n",
    "        message[left_index], message[right_index] = \\\n",
    "            message[right_index], message[left_index]\n",
    "        left_index  += 1\n",
    "        right_index -= 1"
   ]
  },
  {
   "cell_type": "code",
   "execution_count": 10,
   "metadata": {},
   "outputs": [
    {
     "data": {
      "text/plain": [
       "['t', 's', 'e', 't']"
      ]
     },
     "execution_count": 10,
     "metadata": {},
     "output_type": "execute_result"
    }
   ],
   "source": [
    "my_list = list('test')\n",
    "reverse_characters(my_list, 0, len(my_list)-1)\n",
    "my_list"
   ]
  },
  {
   "cell_type": "markdown",
   "metadata": {},
   "source": [
    "Get the words, seperated by ' '"
   ]
  },
  {
   "cell_type": "code",
   "execution_count": 13,
   "metadata": {},
   "outputs": [],
   "source": [
    "message = [ 'c', 'a', 'k', 'e', ' ',\n",
    "            'p', 'o', 'u', 'n', 'd', ' ',\n",
    "            's', 't', 'e', 'a', 'l' ]\n",
    "\n",
    "def reverse_words(message):\n",
    "    \"\"\"\n",
    "    Iterate through a message, detect words and reverse.\n",
    "    \"\"\"\n",
    "    reverse_characters(message, 0, len(message) - 1) # perform initial reverse\n",
    "    \n",
    "    message_length = len(message)\n",
    "    word_start_index = 0 # always start with a word.\n",
    "    \n",
    "    for i in range(message_length):\n",
    "        if message[i] == ' ' or i == message_length:\n",
    "            reverse_characters(message, word_start_index, i-1)\n",
    "            word_start_index = i + 1"
   ]
  },
  {
   "cell_type": "code",
   "execution_count": 14,
   "metadata": {},
   "outputs": [],
   "source": [
    "reverse_words(message)"
   ]
  },
  {
   "cell_type": "code",
   "execution_count": 15,
   "metadata": {},
   "outputs": [
    {
     "data": {
      "text/plain": [
       "['s',\n",
       " 't',\n",
       " 'e',\n",
       " 'a',\n",
       " 'l',\n",
       " ' ',\n",
       " 'p',\n",
       " 'o',\n",
       " 'u',\n",
       " 'n',\n",
       " 'd',\n",
       " ' ',\n",
       " 'e',\n",
       " 'k',\n",
       " 'a',\n",
       " 'c']"
      ]
     },
     "execution_count": 15,
     "metadata": {},
     "output_type": "execute_result"
    }
   ],
   "source": [
    "message"
   ]
  },
  {
   "cell_type": "code",
   "execution_count": null,
   "metadata": {},
   "outputs": [],
   "source": []
  }
 ],
 "metadata": {
  "kernelspec": {
   "display_name": "Python 3",
   "language": "python",
   "name": "python3"
  },
  "language_info": {
   "codemirror_mode": {
    "name": "ipython",
    "version": 3
   },
   "file_extension": ".py",
   "mimetype": "text/x-python",
   "name": "python",
   "nbconvert_exporter": "python",
   "pygments_lexer": "ipython3",
   "version": "3.6.5"
  }
 },
 "nbformat": 4,
 "nbformat_minor": 2
}
