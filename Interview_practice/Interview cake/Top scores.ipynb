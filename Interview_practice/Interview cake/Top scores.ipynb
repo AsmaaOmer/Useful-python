{
 "cells": [
  {
   "cell_type": "code",
   "execution_count": 1,
   "metadata": {},
   "outputs": [],
   "source": [
    "unsorted_scores = [37, 89, 41, 65, 91, 53]\n",
    "HIGHEST_POSSIBLE_SCORE = 100\n",
    "\n",
    "# Returns [91, 89, 65, 53, 41, 37]\n",
    "# sort_scores(unsorted_scores, HIGHEST_POSSIBLE_SCORE)"
   ]
  },
  {
   "cell_type": "markdown",
   "metadata": {},
   "source": [
    "This is the equivalent of\n",
    "```python\n",
    "unsorted_scores.sort(reverse=True)\n",
    "```"
   ]
  },
  {
   "cell_type": "markdown",
   "metadata": {},
   "source": [
    "## Naive solution\n",
    "Use:\n",
    "\n",
    "* list.insert(index, elem) -- inserts the element at the given index, shifting elements to the right.\n",
    "\n",
    "Lets first rank from lowest to highest"
   ]
  },
  {
   "cell_type": "markdown",
   "metadata": {},
   "source": [
    "Now loop over and insert values by using a comparison operator, `if value > previous and < next, insert`. Edge cases are if a value is equal to another (duplicates), or above the maximum."
   ]
  },
  {
   "cell_type": "code",
   "execution_count": 2,
   "metadata": {},
   "outputs": [
    {
     "name": "stdout",
     "output_type": "stream",
     "text": [
      "CPU times: user 14 µs, sys: 1 µs, total: 15 µs\n",
      "Wall time: 17.2 µs\n"
     ]
    }
   ],
   "source": [
    "%%time\n",
    "number_of_scores = len(unsorted_scores)\n",
    "\n",
    "sorted_scores = [None for i in range(number_of_scores)] # create the empty target list\n",
    "sorted_scores\n",
    "\n",
    "for i in range(number_of_scores): # iterate over unsorted\n",
    "    value_to_insert = unsorted_scores[i]\n",
    "    \n",
    "    for i in range(number_of_scores): # iterate over sorted_scores\n",
    "        sorted_scores_value = sorted_scores[i]\n",
    "        \n",
    "        if sorted_scores_value == None: # If None insert the value, this will be true if the value is higher than the highest already existing value\n",
    "            sorted_scores[i] = value_to_insert\n",
    "            break\n",
    "        \n",
    "        if value_to_insert <= sorted_scores_value: # If leq insert\n",
    "            sorted_scores.insert(i, value_to_insert)\n",
    "            break\n",
    "            \n",
    "        elif value_to_insert > sorted_scores_value: # Proceed to next value in sorted_scores\n",
    "            pass\n",
    "\n",
    "sorted_scores = sorted_scores[:number_of_scores] # drop the nones\n",
    "sorted_scores"
   ]
  },
  {
   "cell_type": "markdown",
   "metadata": {},
   "source": [
    "We can now reverse the scores"
   ]
  },
  {
   "cell_type": "code",
   "execution_count": 3,
   "metadata": {},
   "outputs": [
    {
     "name": "stdout",
     "output_type": "stream",
     "text": [
      "CPU times: user 12 µs, sys: 1 µs, total: 13 µs\n",
      "Wall time: 15.7 µs\n"
     ]
    }
   ],
   "source": [
    "%%time\n",
    "reversed_scores = [None for i in range(number_of_scores)]\n",
    "\n",
    "for i in range(number_of_scores):\n",
    "    reversed_scores[i] = sorted_scores[number_of_scores - 1 - i]\n",
    "        \n",
    "reversed_scores"
   ]
  },
  {
   "cell_type": "markdown",
   "metadata": {},
   "source": [
    "this is worst case O(2n), and took a total of 43.9 + 14.1 = 58 mu s"
   ]
  },
  {
   "cell_type": "markdown",
   "metadata": {},
   "source": [
    "## Official solution\n",
    "Use a `counting` algorithm, still O(n).., but slightly quicker?"
   ]
  },
  {
   "cell_type": "code",
   "execution_count": 4,
   "metadata": {},
   "outputs": [],
   "source": [
    "def sort_scores(unsorted_scores, highest_possible_score):\n",
    "    # List of 0s at indices 0..highest_possible_score\n",
    "    score_counts = [0] * (highest_possible_score+1)\n",
    "\n",
    "    # Populate score_counts\n",
    "    for score in unsorted_scores:\n",
    "        score_counts[score] += 1\n",
    "\n",
    "    # Populate the final sorted list\n",
    "    sorted_scores = []\n",
    "\n",
    "    # For each item in score_counts\n",
    "    for score in range(len(score_counts) - 1, -1, -1):\n",
    "        count = score_counts[score]\n",
    "\n",
    "        # For the number of times the item occurs\n",
    "        for time in range(count):\n",
    "            # Add it to the sorted list\n",
    "            sorted_scores.append(score)\n",
    "\n",
    "    return sorted_scores"
   ]
  },
  {
   "cell_type": "code",
   "execution_count": 5,
   "metadata": {},
   "outputs": [
    {
     "name": "stdout",
     "output_type": "stream",
     "text": [
      "CPU times: user 41 µs, sys: 1 µs, total: 42 µs\n",
      "Wall time: 45.8 µs\n"
     ]
    },
    {
     "data": {
      "text/plain": [
       "[91, 89, 65, 53, 41, 37]"
      ]
     },
     "execution_count": 5,
     "metadata": {},
     "output_type": "execute_result"
    }
   ],
   "source": [
    "%%time\n",
    "sort_scores(unsorted_scores, HIGHEST_POSSIBLE_SCORE)"
   ]
  },
  {
   "cell_type": "markdown",
   "metadata": {},
   "source": [
    "DON'T REALLY UNDERSTAND why we would do this, but it is a hash table approach"
   ]
  },
  {
   "cell_type": "code",
   "execution_count": null,
   "metadata": {},
   "outputs": [],
   "source": []
  }
 ],
 "metadata": {
  "kernelspec": {
   "display_name": "Python 3",
   "language": "python",
   "name": "python3"
  },
  "language_info": {
   "codemirror_mode": {
    "name": "ipython",
    "version": 3
   },
   "file_extension": ".py",
   "mimetype": "text/x-python",
   "name": "python",
   "nbconvert_exporter": "python",
   "pygments_lexer": "ipython3",
   "version": "3.6.5"
  }
 },
 "nbformat": 4,
 "nbformat_minor": 2
}
