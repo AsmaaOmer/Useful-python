{
 "cells": [
  {
   "cell_type": "markdown",
   "metadata": {},
   "source": [
    "SQL Online Test - very easy\n",
    "\n",
    "https://www.testdome.com/tests/sql-python-algorithms-online-test/93\n",
    "\n",
    "------------------------------\n",
    "Q1\n",
    "\n",
    "Given the following data definition, write a query that returns the number of students whose first name is John.\n",
    "\n",
    "```sql\n",
    "TABLE students\n",
    "   id INTEGER PRIMARY KEY,\n",
    "   firstName VARCHAR(30) NOT NULL,\n",
    "   lastName VARCHAR(30) NOT NULL\n",
    "```"
   ]
  },
  {
   "cell_type": "markdown",
   "metadata": {},
   "source": [
    "A1\n",
    "\n",
    "```sql\n",
    "SELECT COUNT(*)\n",
    "FROM students\n",
    "WHERE firstName IS 'John'\n",
    "```"
   ]
  },
  {
   "cell_type": "markdown",
   "metadata": {},
   "source": [
    "---------------------------\n",
    "\n",
    "Q2\n",
    "\n",
    "A table containing the students enrolled in a yearly course has incorrect data in records with ids between 20 and 100 (inclusive).\n",
    "```sql\n",
    "TABLE enrollments\n",
    "  id INTEGER NOT NULL PRIMARY KEY\n",
    "  year INTEGER NOT NULL\n",
    "  studentId INTEGER NOT NULL\n",
    "```\n",
    "Write a query that updates the field 'year' of every faulty record to 2015."
   ]
  },
  {
   "cell_type": "markdown",
   "metadata": {},
   "source": [
    "A2\n",
    "\n",
    "```sql\n",
    "UPDATE enrollments\n",
    "SET year = 2015\n",
    "WHERE id BETWEEN 20 AND 100\n",
    "```"
   ]
  },
  {
   "cell_type": "code",
   "execution_count": null,
   "metadata": {},
   "outputs": [],
   "source": []
  }
 ],
 "metadata": {
  "kernelspec": {
   "display_name": "Python 3",
   "language": "python",
   "name": "python3"
  },
  "language_info": {
   "codemirror_mode": {
    "name": "ipython",
    "version": 3
   },
   "file_extension": ".py",
   "mimetype": "text/x-python",
   "name": "python",
   "nbconvert_exporter": "python",
   "pygments_lexer": "ipython3",
   "version": "3.6.5"
  }
 },
 "nbformat": 4,
 "nbformat_minor": 2
}
