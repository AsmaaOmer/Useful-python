{
 "cells": [
  {
   "cell_type": "markdown",
   "metadata": {},
   "source": [
    "Python questions https://www.testdome.com/d/python-interview-questions/9\n",
    "Get tricky after Q5\n",
    "\n",
    "------------------\n",
    "Q1 - work with dicts"
   ]
  },
  {
   "cell_type": "code",
   "execution_count": 1,
   "metadata": {},
   "outputs": [
    {
     "name": "stdout",
     "output_type": "stream",
     "text": [
      "None\n"
     ]
    }
   ],
   "source": [
    "def group_by_owners(files):\n",
    "    return None\n",
    "    \n",
    "files = {\n",
    "    'Input.txt': 'Randy',\n",
    "    'Code.py': 'Stan',\n",
    "    'Output.txt': 'Randy'\n",
    "}\n",
    "\n",
    "print(group_by_owners(files))"
   ]
  },
  {
   "cell_type": "markdown",
   "metadata": {},
   "source": [
    "Simple solution"
   ]
  },
  {
   "cell_type": "code",
   "execution_count": 19,
   "metadata": {},
   "outputs": [
    {
     "data": {
      "text/plain": [
       "{'Randy': ['Input.txt', 'Output.txt'], 'Stan': ['Code.py']}"
      ]
     },
     "execution_count": 19,
     "metadata": {},
     "output_type": "execute_result"
    }
   ],
   "source": [
    "def group_by_owners(files):\n",
    "    grouped = {}\n",
    "    for k, v in files.items():\n",
    "        if v not in grouped.keys():\n",
    "            grouped[v] = [k]\n",
    "        else:\n",
    "            grouped[v].append(k)\n",
    "    return grouped\n",
    "    \n",
    "group_by_owners(files)"
   ]
  },
  {
   "cell_type": "markdown",
   "metadata": {},
   "source": [
    "There is also a more fancy solution on stack overflow, but stick to what is most simple here"
   ]
  },
  {
   "cell_type": "markdown",
   "metadata": {},
   "source": [
    "---------------------\n",
    "Q2 - nested loops"
   ]
  },
  {
   "cell_type": "code",
   "execution_count": 20,
   "metadata": {},
   "outputs": [
    {
     "name": "stdout",
     "output_type": "stream",
     "text": [
      "[['vanilla', 'chocolate sauce'], ['chocolate', 'chocolate sauce']]\n"
     ]
    }
   ],
   "source": [
    "class IceCreamMachine:\n",
    "    \n",
    "    def __init__(self, ingredients, toppings):\n",
    "        self.ingredients = ingredients\n",
    "        self.toppings = toppings\n",
    "        \n",
    "    def scoops(self):\n",
    "        combos = []\n",
    "        for i in self.ingredients:\n",
    "            for t in self.toppings:\n",
    "                combos.append([i, t])\n",
    "        return combos\n",
    "\n",
    "machine = IceCreamMachine([\"vanilla\", \"chocolate\"], [\"chocolate sauce\"])\n",
    "print(machine.scoops()) #should print[['vanilla', 'chocolate sauce'], ['chocolate', 'chocolate sauce']]"
   ]
  },
  {
   "cell_type": "markdown",
   "metadata": {},
   "source": [
    "----------------------\n",
    "Q3 - set unions, intersects, differences\n",
    "\n",
    "https://www.programiz.com/python-programming/set#operations"
   ]
  },
  {
   "cell_type": "code",
   "execution_count": 36,
   "metadata": {},
   "outputs": [
    {
     "name": "stdout",
     "output_type": "stream",
     "text": [
      "['Olivia', 'Emma', 'Ava', 'Sophia']\n"
     ]
    }
   ],
   "source": [
    "def unique_names(names1, names2):\n",
    "    intersect = set(names1) & set(names2)\n",
    "    Symmetric_Difference = set(names1).symmetric_difference(set(names2))\n",
    "    return list(set(intersect | Symmetric_Difference))\n",
    "\n",
    "names1 = [\"Ava\", \"Emma\", \"Olivia\"]\n",
    "names2 = [\"Olivia\", \"Sophia\", \"Emma\"]\n",
    "print(unique_names(names1, names2)) # should print Ava, Emma, Olivia, Sophia"
   ]
  },
  {
   "cell_type": "code",
   "execution_count": 26,
   "metadata": {},
   "outputs": [
    {
     "data": {
      "text/plain": [
       "{'Emma', 'Olivia'}"
      ]
     },
     "execution_count": 26,
     "metadata": {},
     "output_type": "execute_result"
    }
   ],
   "source": [
    "intersect = set(names1) & set(names2)\n",
    "intersect"
   ]
  },
  {
   "cell_type": "code",
   "execution_count": 27,
   "metadata": {},
   "outputs": [
    {
     "data": {
      "text/plain": [
       "{'Ava', 'Sophia'}"
      ]
     },
     "execution_count": 27,
     "metadata": {},
     "output_type": "execute_result"
    }
   ],
   "source": [
    "Symmetric_Difference = set(names1) ^ set(names2)\n",
    "Symmetric_Difference"
   ]
  },
  {
   "cell_type": "code",
   "execution_count": 30,
   "metadata": {},
   "outputs": [
    {
     "data": {
      "text/plain": [
       "{'Ava', 'Emma', 'Olivia', 'Sophia'}"
      ]
     },
     "execution_count": 30,
     "metadata": {},
     "output_type": "execute_result"
    }
   ],
   "source": [
    "union = set(intersect | Symmetric_Difference)\n",
    "union"
   ]
  },
  {
   "cell_type": "markdown",
   "metadata": {},
   "source": [
    "--------------------\n",
    "Q4 - array operations"
   ]
  },
  {
   "cell_type": "code",
   "execution_count": 46,
   "metadata": {},
   "outputs": [
    {
     "name": "stdout",
     "output_type": "stream",
     "text": [
      "True\n"
     ]
    }
   ],
   "source": [
    "def is_palindrome(word):\n",
    "    return list(word.lower()) == list(word.lower())[::-1]\n",
    "    \n",
    "print(is_palindrome('Deleveled'))"
   ]
  },
  {
   "cell_type": "markdown",
   "metadata": {},
   "source": [
    "------------------------\n",
    "Q5. Binary Search Tree"
   ]
  },
  {
   "cell_type": "code",
   "execution_count": 49,
   "metadata": {},
   "outputs": [
    {
     "name": "stdout",
     "output_type": "stream",
     "text": [
      "True\n"
     ]
    }
   ],
   "source": [
    "import collections\n",
    "\n",
    "Node = collections.namedtuple('Node', ['left', 'right', 'value'])\n",
    "\n",
    "def contains(root, value):\n",
    "    current_node = root\n",
    "    while current_node is not None:\n",
    "        if current_node.value == value:\n",
    "            return True\n",
    "        elif current_node.value < value:\n",
    "            current_node = current_node.right\n",
    "        else:\n",
    "            current_node = current_node.left\n",
    "    return False\n",
    "        \n",
    "n1 = Node(value=1, left=None, right=None)\n",
    "n3 = Node(value=3, left=None, right=None)\n",
    "n2 = Node(value=2, left=n1, right=n3)\n",
    "        \n",
    "print(contains(n2, 3))"
   ]
  },
  {
   "cell_type": "code",
   "execution_count": null,
   "metadata": {},
   "outputs": [],
   "source": []
  }
 ],
 "metadata": {
  "kernelspec": {
   "display_name": "Python 3",
   "language": "python",
   "name": "python3"
  },
  "language_info": {
   "codemirror_mode": {
    "name": "ipython",
    "version": 3
   },
   "file_extension": ".py",
   "mimetype": "text/x-python",
   "name": "python",
   "nbconvert_exporter": "python",
   "pygments_lexer": "ipython3",
   "version": "3.6.5"
  }
 },
 "nbformat": 4,
 "nbformat_minor": 2
}
