{
 "cells": [
  {
   "cell_type": "code",
   "execution_count": 1,
   "metadata": {},
   "outputs": [],
   "source": [
    "%matplotlib inline"
   ]
  },
  {
   "cell_type": "markdown",
   "metadata": {},
   "source": [
    "\n",
    "# Face classification using Haar-like feature descriptor\n",
    "\n",
    "\n",
    "Haar-like feature descriptors were successfully used to implement the first\n",
    "real-time face detector [1]_. Inspired by this application, we propose an\n",
    "example illustrating the extraction, selection, and classification of Haar-like\n",
    "features to detect faces vs. non-faces.\n",
    "\n",
    "Notes\n",
    "-----\n",
    "\n",
    "This example relies on scikit-learn to select and classify features.\n",
    "\n",
    "References\n",
    "----------\n",
    "\n",
    ".. [1] Viola, Paul, and Michael J. Jones. \"Robust real-time face\n",
    "       detection.\" International journal of computer vision 57.2\n",
    "       (2004): 137-154.\n",
    "       http://www.merl.com/publications/docs/TR2004-043.pdf\n",
    "       DOI: 10.1109/CVPR.2001.990517\n",
    "\n",
    "\n"
   ]
  },
  {
   "cell_type": "code",
   "execution_count": 1,
   "metadata": {},
   "outputs": [],
   "source": [
    "from __future__ import division, print_function\n",
    "from time import time\n",
    "\n",
    "import numpy as np\n",
    "import matplotlib.pyplot as plt\n",
    "\n",
    "from dask import delayed, threaded, multiprocessing\n",
    "\n",
    "from sklearn.ensemble import RandomForestClassifier\n",
    "from sklearn.model_selection import train_test_split\n",
    "from sklearn.metrics import roc_auc_score\n",
    "\n",
    "from skimage.data import lfw_subset\n",
    "from skimage.transform import integral_image\n",
    "from skimage.feature import haar_like_feature\n",
    "from skimage.feature import haar_like_feature_coord\n",
    "from skimage.feature import draw_haar_like_feature"
   ]
  },
  {
   "cell_type": "markdown",
   "metadata": {},
   "source": [
    "The usual feature extraction scheme\n",
    "##############################################################################\n",
    " The procedure to extract the Haar-like feature for an image is quite easy: a\n",
    " region of interest (ROI) is defined for which all possible feature will be\n",
    " extracted. The integral image of this ROI will be computed and all possible\n",
    " features will be computed.\n",
    "\n"
   ]
  },
  {
   "cell_type": "code",
   "execution_count": 2,
   "metadata": {},
   "outputs": [],
   "source": [
    "@delayed\n",
    "def extract_feature_image(img, feature_type, feature_coord=None):\n",
    "    \"\"\"Extract the haar feature for the current image\"\"\"\n",
    "    ii = integral_image(img)\n",
    "    return haar_like_feature(ii, 0, 0, ii.shape[0], ii.shape[1],\n",
    "                             feature_type=feature_type,\n",
    "                             feature_coord=feature_coord)"
   ]
  },
  {
   "cell_type": "markdown",
   "metadata": {},
   "source": [
    "We will use a subset of the CBCL which is composed of 100 face images and 100\n",
    "non-face images. Each image has been resized to a ROI of 19 by 19 pixels. We\n",
    "will keep 75 images from each group to train a classifier and check which\n",
    "extracted features are the most salient, and use the remaining 25 from each\n",
    "class to check the performance of the classifier.\n",
    "\n"
   ]
  },
  {
   "cell_type": "code",
   "execution_count": 3,
   "metadata": {},
   "outputs": [
    {
     "name": "stderr",
     "output_type": "stream",
     "text": [
      "/Users/robincole/miniconda3/lib/python3.6/site-packages/dask/base.py:835: UserWarning: The get= keyword has been deprecated. Please use the scheduler= keyword instead with the name of the desired scheduler like 'threads' or 'processes'\n",
      "  warnings.warn(\"The get= keyword has been deprecated. \"\n",
      "/Users/robincole/miniconda3/lib/python3.6/site-packages/sklearn/model_selection/_split.py:2026: FutureWarning: From version 0.21, test_size will always complement train_size unless both are specified.\n",
      "  FutureWarning)\n"
     ]
    }
   ],
   "source": [
    "images = lfw_subset()\n",
    "# For speed, only extract the two first types of features\n",
    "feature_types = ['type-2-x', 'type-2-y']\n",
    "\n",
    "# Build a computation graph using dask. This allows using multiple CPUs for\n",
    "# the computation step\n",
    "X = delayed(extract_feature_image(img, feature_types)\n",
    "            for img in images)\n",
    "# Compute the result using the \"multiprocessing\" dask backend\n",
    "t_start = time()\n",
    "X = np.array(X.compute(get=multiprocessing.get))\n",
    "time_full_feature_comp = time() - t_start\n",
    "y = np.array([1] * 100 + [0] * 100)\n",
    "X_train, X_test, y_train, y_test = train_test_split(X, y, train_size=150,\n",
    "                                                    random_state=0,\n",
    "                                                    stratify=y)\n",
    "\n",
    "# Extract all possible features to be able to select the most salient.\n",
    "feature_coord, feature_type = \\\n",
    "        haar_like_feature_coord(width=images.shape[2], height=images.shape[1],\n",
    "                                feature_type=feature_types)"
   ]
  },
  {
   "cell_type": "markdown",
   "metadata": {},
   "source": [
    "A random forest classifier can be trained in order to select the most salient\n",
    "features, specifically for face classification. The idea is to check which\n",
    "features are the most often used by the ensemble of trees. By using only\n",
    "the most salient features in subsequent steps, we can dramatically speed up\n",
    "computation, while retaining accuracy.\n",
    "\n"
   ]
  },
  {
   "cell_type": "code",
   "execution_count": 4,
   "metadata": {},
   "outputs": [
    {
     "data": {
      "text/plain": [
       "Text(0.5,0.98,'The most important features')"
      ]
     },
     "execution_count": 4,
     "metadata": {},
     "output_type": "execute_result"
    },
    {
     "data": {
      "image/png": "[encoded data removed]",
      "text/plain": [
       "<matplotlib.figure.Figure at 0x12761dc50>"
      ]
     },
     "metadata": {},
     "output_type": "display_data"
    }
   ],
   "source": [
    "# Train a random forest classifier and check performance\n",
    "clf = RandomForestClassifier(n_estimators=1000, max_depth=None,\n",
    "                             max_features=100, n_jobs=-1, random_state=0)\n",
    "t_start = time()\n",
    "clf.fit(X_train, y_train)\n",
    "time_full_train = time() - t_start\n",
    "auc_full_features = roc_auc_score(y_test, clf.predict_proba(X_test)[:, 1])\n",
    "\n",
    "# Sort features in order of importance, plot six most significant\n",
    "idx_sorted = np.argsort(clf.feature_importances_)[::-1]\n",
    "\n",
    "fig, axes = plt.subplots(3, 2)\n",
    "for idx, ax in enumerate(axes.ravel()):\n",
    "    image = images[0]\n",
    "    image = draw_haar_like_feature(image, 0, 0,\n",
    "                                   images.shape[2],\n",
    "                                   images.shape[1],\n",
    "                                   [feature_coord[idx_sorted[idx]]])\n",
    "    ax.imshow(image)\n",
    "    ax.set_xticks([])\n",
    "    ax.set_yticks([])\n",
    "\n",
    "fig.suptitle('The most important features')"
   ]
  },
  {
   "cell_type": "markdown",
   "metadata": {},
   "source": [
    "We can select the most important features by checking the cumulative sum of\n",
    "the feature importance index; below, we keep features representing 70% of the\n",
    "cumulative value which represent only 3% of the total number of features.\n",
    "\n"
   ]
  },
  {
   "cell_type": "code",
   "execution_count": 5,
   "metadata": {},
   "outputs": [
    {
     "name": "stdout",
     "output_type": "stream",
     "text": [
      "724 features, or 0.7%, account for 70% of branch points in the random forest.\n"
     ]
    },
    {
     "name": "stderr",
     "output_type": "stream",
     "text": [
      "/Users/robincole/miniconda3/lib/python3.6/site-packages/sklearn/model_selection/_split.py:2026: FutureWarning: From version 0.21, test_size will always complement train_size unless both are specified.\n",
      "  FutureWarning)\n"
     ]
    }
   ],
   "source": [
    "cdf_feature_importances = np.cumsum(clf.feature_importances_[idx_sorted])\n",
    "cdf_feature_importances /= np.max(cdf_feature_importances)\n",
    "sig_feature_count = np.count_nonzero(cdf_feature_importances < 0.7)\n",
    "sig_feature_percent = round(sig_feature_count /\n",
    "                            len(cdf_feature_importances) * 100, 1)\n",
    "print(('{} features, or {}%, account for 70% of branch points in the random '\n",
    "       'forest.').format(sig_feature_count, sig_feature_percent))\n",
    "\n",
    "# Select the most informative features\n",
    "selected_feature_coord = feature_coord[idx_sorted[:sig_feature_count]]\n",
    "selected_feature_type = feature_type[idx_sorted[:sig_feature_count]]\n",
    "# Note: we could select those features from the\n",
    "# original matrix X but we would like to emphasize the usage of `feature_coord`\n",
    "# and `feature_type` to recompute a subset of desired features.\n",
    "\n",
    "# Delay the computation and build the graph using dask\n",
    "X = delayed(extract_feature_image(img, selected_feature_type,\n",
    "                                  selected_feature_coord)\n",
    "            for img in images)\n",
    "# Compute the result using the *threaded* backend:\n",
    "# When computing all features, the Python GIL is acquired to process each ROI,\n",
    "# and this is where most of the time is spent, so multiprocessing is faster.\n",
    "# For this small subset, most of the time is spent on the feature computation\n",
    "# rather than the ROI scanning, and using threaded is *much* faster, because\n",
    "# we avoid the overhead of launching a new process.\n",
    "t_start = time()\n",
    "X = np.array(X.compute(get=threaded.get))\n",
    "time_subs_feature_comp = time() - t_start\n",
    "y = np.array([1] * 100 + [0] * 100)\n",
    "X_train, X_test, y_train, y_test = train_test_split(X, y, train_size=150,\n",
    "                                                    random_state=0,\n",
    "                                                    stratify=y)"
   ]
  },
  {
   "cell_type": "markdown",
   "metadata": {},
   "source": [
    "Once the features are extracted, we can train and test the a new classifier.\n",
    "\n"
   ]
  },
  {
   "cell_type": "code",
   "execution_count": 7,
   "metadata": {},
   "outputs": [
    {
     "name": "stdout",
     "output_type": "stream",
     "text": [
      "Computing the full feature set took 44.232s, plus 1.803s training, for an AUC of 1.00. Computing the restricted feature set took 0.160s, plus 1.305s training, for an AUC of 1.00.\n"
     ]
    }
   ],
   "source": [
    "t_start = time()\n",
    "clf.fit(X_train, y_train)\n",
    "time_subs_train = time() - t_start\n",
    "\n",
    "auc_subs_features = roc_auc_score(y_test, clf.predict_proba(X_test)[:, 1])\n",
    "\n",
    "summary = (('Computing the full feature set took {:.3f}s, plus {:.3f}s '\n",
    "            'training, for an AUC of {:.2f}. Computing the restricted feature '\n",
    "            'set took {:.3f}s, plus {:.3f}s training, for an AUC of {:.2f}.')\n",
    "           .format(time_full_feature_comp, time_full_train, auc_full_features,\n",
    "                   time_subs_feature_comp, time_subs_train, auc_subs_features))\n",
    "\n",
    "print(summary)\n",
    "plt.show()"
   ]
  },
  {
   "cell_type": "code",
   "execution_count": null,
   "metadata": {},
   "outputs": [],
   "source": []
  }
 ],
 "metadata": {
  "kernelspec": {
   "display_name": "Python 3",
   "language": "python",
   "name": "python3"
  },
  "language_info": {
   "codemirror_mode": {
    "name": "ipython",
    "version": 3
   },
   "file_extension": ".py",
   "mimetype": "text/x-python",
   "name": "python",
   "nbconvert_exporter": "python",
   "pygments_lexer": "ipython3",
   "version": "3.6.4"
  }
 },
 "nbformat": 4,
 "nbformat_minor": 1
}
