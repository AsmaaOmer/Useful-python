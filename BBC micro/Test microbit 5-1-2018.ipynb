{
 "cells": [
  {
   "cell_type": "markdown",
   "metadata": {},
   "source": [
    "Use the following kernel to control a BBC micro bit from within Jupyter https://github.com/takluyver/ubit_kernel\n",
    "\n",
    "Import the microbit module https://github.com/whaleygeek/bitio"
   ]
  },
  {
   "cell_type": "code",
   "execution_count": 1,
   "metadata": {},
   "outputs": [],
   "source": [
    "import microbit"
   ]
  },
  {
   "cell_type": "code",
   "execution_count": 2,
   "metadata": {},
   "outputs": [],
   "source": [
    "microbit.display.scroll('2345')"
   ]
  },
  {
   "cell_type": "code",
   "execution_count": 5,
   "metadata": {},
   "outputs": [
    {
     "name": "stdout",
     "output_type": "stream",
     "text": [
      "(16, 208, -976)\r\n",
      "(-224, 336, -976)\r\n",
      "(-512, 416, -560)\r\n",
      "(-560, 32, -864)\r\n",
      "(-640, 624, 240)\r\n",
      "(608, 528, -576)\r\n",
      "(96, 64, -1024)\r\n",
      "(-960, 176, -192)\r\n",
      "(-368, 928, -160)\r\n",
      "(816, 240, -560)\r\n"
     ]
    }
   ],
   "source": [
    "for i in range(10):\n",
    "    print(microbit.accelerometer.get_values())\n",
    "    microbit.sleep(1000)"
   ]
  },
  {
   "cell_type": "code",
   "execution_count": 7,
   "metadata": {},
   "outputs": [
    {
     "name": "stdout",
     "output_type": "stream",
     "text": [
      "26\r\n"
     ]
    }
   ],
   "source": [
    "print(microbit.temperature())"
   ]
  },
  {
   "cell_type": "code",
   "execution_count": 6,
   "metadata": {},
   "outputs": [
    {
     "name": "stdout",
     "output_type": "stream",
     "text": [
      "Waiting\r\n",
      "Waiting\r\n",
      "A pressed\r\n",
      "A pressed\r\n",
      "Waiting\r\n",
      "A pressed\r\n",
      "Waiting\r\n",
      "Waiting\r\n",
      "Waiting\r\n",
      "A pressed\r\n"
     ]
    }
   ],
   "source": [
    "for i in range(10):\n",
    "    if microbit.button_a.was_pressed():\n",
    "        microbit.display.show(\"A\")\n",
    "        print('A pressed')\n",
    "        microbit.sleep(1000)\n",
    "        microbit.display.clear()\n",
    "    else:\n",
    "        print('Waiting')\n",
    "    microbit.sleep(1000)"
   ]
  },
  {
   "cell_type": "code",
   "execution_count": null,
   "metadata": {},
   "outputs": [],
   "source": []
  }
 ],
 "metadata": {
  "kernelspec": {
   "display_name": "micro:bit",
   "language": "python",
   "name": "ubit"
  },
  "language_info": {
   "codemirror_mode": {
    "name": "python",
    "version": 3
   },
   "file_extension": ".py",
   "mimetype": "text/x-python",
   "name": "python",
   "pygments_lexer": "python3",
   "version": "3"
  }
 },
 "nbformat": 4,
 "nbformat_minor": 2
}
