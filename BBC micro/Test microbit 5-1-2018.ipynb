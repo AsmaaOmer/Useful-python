{
 "cells": [
  {
   "cell_type": "markdown",
   "metadata": {},
   "source": [
    "Use the following kernel to control a BBC micro bit from within Jupyter https://github.com/takluyver/ubit_kernel\n",
    "\n",
    "Import the microbit module https://github.com/whaleygeek/bitio"
   ]
  },
  {
   "cell_type": "code",
   "execution_count": 1,
   "metadata": {},
   "outputs": [],
   "source": [
    "import microbit"
   ]
  },
  {
   "cell_type": "code",
   "execution_count": 2,
   "metadata": {},
   "outputs": [],
   "source": [
    "microbit.display.scroll('2345')"
   ]
  },
  {
   "cell_type": "code",
   "execution_count": 3,
   "metadata": {},
   "outputs": [
    {
     "name": "stdout",
     "output_type": "stream",
     "text": [
      "(16, 64, -992)\r\n",
      "(32, 64, -1008)\r\n",
      "(0, 112, -1088)\r\n",
      "(640, 384, -784)\r\n",
      "(-464, 192, -832)\r\n",
      "(256, 96, -960)\r\n",
      "(192, 480, -976)\r\n",
      "(-768, 576, 208)\r\n",
      "(272, 672, -816)\r\n",
      "(16, 160, -944)\r\n"
     ]
    }
   ],
   "source": [
    "for i in range(10):\n",
    "    print(microbit.accelerometer.get_values())\n",
    "    microbit.sleep(1000)"
   ]
  },
  {
   "cell_type": "code",
   "execution_count": null,
   "metadata": {},
   "outputs": [],
   "source": [
    "print(microbit.temperature())"
   ]
  },
  {
   "cell_type": "code",
   "execution_count": 6,
   "metadata": {},
   "outputs": [
    {
     "name": "stdout",
     "output_type": "stream",
     "text": [
      "Waiting\r\n",
      "Waiting\r\n",
      "A pressed\r\n",
      "A pressed\r\n",
      "Waiting\r\n",
      "A pressed\r\n",
      "Waiting\r\n",
      "Waiting\r\n",
      "Waiting\r\n",
      "A pressed\r\n"
     ]
    }
   ],
   "source": [
    "for i in range(10):\n",
    "    if microbit.button_a.was_pressed():\n",
    "        microbit.display.show(\"A\")\n",
    "        print('A pressed')\n",
    "        microbit.sleep(1000)\n",
    "        microbit.display.clear()\n",
    "    else:\n",
    "        print('Waiting')\n",
    "    microbit.sleep(1000)"
   ]
  },
  {
   "cell_type": "code",
   "execution_count": null,
   "metadata": {},
   "outputs": [],
   "source": []
  }
 ],
 "metadata": {
  "kernelspec": {
   "display_name": "micro:bit",
   "language": "python",
   "name": "ubit"
  },
  "language_info": {
   "codemirror_mode": {
    "name": "python",
    "version": 3
   },
   "file_extension": ".py",
   "mimetype": "text/x-python",
   "name": "python",
   "pygments_lexer": "python3",
   "version": "3"
  }
 },
 "nbformat": 4,
 "nbformat_minor": 2
}
