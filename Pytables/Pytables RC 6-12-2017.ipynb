{
 "cells": [
  {
   "cell_type": "markdown",
   "metadata": {},
   "source": [
    "http://www.pytables.org/usersguide/tutorials.html\n",
    "\n",
    "There are eight kinds of types supported by PyTables:\n",
    "\n",
    "* bool: Boolean (true/false) types. Supported precisions: 8 (default) bits.\n",
    "* int: Signed integer types. Supported precisions: 8, 16, 32 (default) and 64 bits.\n",
    "* uint: Unsigned integer types. Supported precisions: 8, 16, 32 (default) and 64 bits.\n",
    "* float: Floating point types. Supported precisions: 16, 32, 64 (default) bits and extended precision floating point (see note on floating point types).\n",
    "* complex: Complex number types. Supported precisions: 64 (32+32), 128 (64+64, default) bits and extended precision complex (see note on floating point types).\n",
    "* string: Raw string types. Supported precisions: 8-bit positive multiples.\n",
    "* time: Data/time types. Supported precisions: 32 and 64 (default) bits.\n",
    "* enum: Enumerated types. Precision depends on base type."
   ]
  },
  {
   "cell_type": "code",
   "execution_count": 1,
   "metadata": {},
   "outputs": [],
   "source": [
    "from tables import *\n",
    "import numpy as np\n",
    "from array import array"
   ]
  },
  {
   "cell_type": "markdown",
   "metadata": {},
   "source": [
    "Having determined our columns and their types, we can now declare a new Particle class that will contain all this information:"
   ]
  },
  {
   "cell_type": "code",
   "execution_count": 2,
   "metadata": {},
   "outputs": [],
   "source": [
    "class Particle(IsDescription):\n",
    "    name      = StringCol(16)   # 16-character String\n",
    "    idnumber  = Int64Col()      # Signed 64-bit integer\n",
    "    ADCcount  = UInt16Col()     # Unsigned short integer\n",
    "    TDCcount  = UInt8Col()      # unsigned byte\n",
    "    grid_i    = Int32Col()      # 32-bit integer\n",
    "    grid_j    = Int32Col()      # 32-bit integer\n",
    "    pressure  = Float32Col()    # float  (single-precision)\n",
    "    energy    = Float64Col()    # double (double-precision)"
   ]
  },
  {
   "cell_type": "markdown",
   "metadata": {},
   "source": [
    "Create a file tutorial1.h5"
   ]
  },
  {
   "cell_type": "code",
   "execution_count": 3,
   "metadata": {},
   "outputs": [],
   "source": [
    "h5file = open_file(\"tutorial1.h5\", mode = \"w\", title = \"Test file\")"
   ]
  },
  {
   "cell_type": "markdown",
   "metadata": {},
   "source": [
    "Now, to better organize our data, we will create a group called detector that branches from the root node. We will save our particle data table in this group:"
   ]
  },
  {
   "cell_type": "code",
   "execution_count": 4,
   "metadata": {
    "collapsed": true
   },
   "outputs": [],
   "source": [
    "group = h5file.create_group(\"/\", 'detector', 'Detector information')"
   ]
  },
  {
   "cell_type": "markdown",
   "metadata": {},
   "source": [
    "Let’s now create a Table (see The Table class) object as a branch off the newly-created group. We do that by calling the File.create_table() method of the h5file object:"
   ]
  },
  {
   "cell_type": "code",
   "execution_count": 7,
   "metadata": {},
   "outputs": [],
   "source": [
    "table = h5file.create_table(group, 'readout', Particle, \"Readout example\")"
   ]
  },
  {
   "cell_type": "markdown",
   "metadata": {
    "collapsed": true
   },
   "source": [
    "We create the Table instance under group. We assign this table the node name “readout”. The Particle class declared before is the description parameter (to define the columns of the table) and finally we set “Readout example” as the Table title. With all this information, a new Table instance is created and assigned to the variable table."
   ]
  },
  {
   "cell_type": "code",
   "execution_count": 8,
   "metadata": {},
   "outputs": [
    {
     "name": "stdout",
     "output_type": "stream",
     "text": [
      "tutorial1.h5 (File) 'Test file'\n",
      "Last modif.: 'Tue Dec  5 09:09:07 2017'\n",
      "Object Tree: \n",
      "/ (RootGroup) 'Test file'\n",
      "/detector (Group) 'Detector information'\n",
      "/detector/readout (Table(0,)) 'Readout example'\n",
      "\n"
     ]
    }
   ],
   "source": [
    "print(h5file)"
   ]
  },
  {
   "cell_type": "code",
   "execution_count": 9,
   "metadata": {},
   "outputs": [
    {
     "data": {
      "text/plain": [
       "File(filename=tutorial1.h5, title='Test file', mode='w', root_uep='/', filters=Filters(complevel=0, shuffle=False, bitshuffle=False, fletcher32=False, least_significant_digit=None))\n",
       "/ (RootGroup) 'Test file'\n",
       "/detector (Group) 'Detector information'\n",
       "/detector/readout (Table(0,)) 'Readout example'\n",
       "  description := {\n",
       "  \"ADCcount\": UInt16Col(shape=(), dflt=0, pos=0),\n",
       "  \"TDCcount\": UInt8Col(shape=(), dflt=0, pos=1),\n",
       "  \"energy\": Float64Col(shape=(), dflt=0.0, pos=2),\n",
       "  \"grid_i\": Int32Col(shape=(), dflt=0, pos=3),\n",
       "  \"grid_j\": Int32Col(shape=(), dflt=0, pos=4),\n",
       "  \"idnumber\": Int64Col(shape=(), dflt=0, pos=5),\n",
       "  \"name\": StringCol(itemsize=16, shape=(), dflt=b'', pos=6),\n",
       "  \"pressure\": Float32Col(shape=(), dflt=0.0, pos=7)}\n",
       "  byteorder := 'little'\n",
       "  chunkshape := (1394,)"
      ]
     },
     "execution_count": 9,
     "metadata": {},
     "output_type": "execute_result"
    }
   ],
   "source": [
    "h5file"
   ]
  },
  {
   "cell_type": "markdown",
   "metadata": {},
   "source": [
    "The time has come to fill this table with some values. First we will get a pointer to the Row (see The Row class) instance of this table instance:"
   ]
  },
  {
   "cell_type": "code",
   "execution_count": 10,
   "metadata": {
    "collapsed": true
   },
   "outputs": [],
   "source": [
    "particle = table.row"
   ]
  },
  {
   "cell_type": "markdown",
   "metadata": {},
   "source": [
    "We write data simply by assigning the Row instance the values for each row as if it were a dictionary (although it is actually an extension class), using the column names as keys."
   ]
  },
  {
   "cell_type": "code",
   "execution_count": 38,
   "metadata": {},
   "outputs": [],
   "source": [
    "for i in range(10):\n",
    "    particle['name']  = 'Particle: %6d' % (i)\n",
    "    particle['TDCcount'] = i % 256\n",
    "    particle['ADCcount'] = (i * 256) % (1 << 16)\n",
    "    particle['grid_i'] = i\n",
    "    particle['grid_j'] = 10 - i\n",
    "    particle['pressure'] = float(i*i)\n",
    "    particle['energy'] = float(particle['pressure'] ** 4)\n",
    "    particle['idnumber'] = i * (2 ** 34)\n",
    "    # Insert a new particle record\n",
    "    particle.append()"
   ]
  },
  {
   "cell_type": "markdown",
   "metadata": {},
   "source": [
    "This code should be easy to understand. The lines inside the loop just assign values to the different columns in the Row instance particle (see The Row class). A call to its append() method writes this information to the table I/O buffer.\n",
    "\n",
    "After we have processed all our data, we should flush the table’s I/O buffer if we want to write all this data to disk. We achieve that by calling the table.flush() method:"
   ]
  },
  {
   "cell_type": "code",
   "execution_count": 39,
   "metadata": {
    "collapsed": true
   },
   "outputs": [],
   "source": [
    "table.flush()"
   ]
  },
  {
   "cell_type": "markdown",
   "metadata": {},
   "source": [
    "## Reading (and selecting) data in a table\n",
    "Ok. We have our data on disk, and now we need to access it and select from specific columns the values we are interested in. See the example below:"
   ]
  },
  {
   "cell_type": "code",
   "execution_count": 40,
   "metadata": {},
   "outputs": [
    {
     "data": {
      "text/plain": [
       "[25.0, 36.0, 49.0, 25.0, 36.0, 49.0]"
      ]
     },
     "execution_count": 40,
     "metadata": {},
     "output_type": "execute_result"
    }
   ],
   "source": [
    "table = h5file.root.detector.readout\n",
    "pressure = [x['pressure'] for x in table.iterrows() if x['TDCcount'] > 3 and 20 <= x['pressure'] < 50]\n",
    "pressure"
   ]
  },
  {
   "cell_type": "markdown",
   "metadata": {},
   "source": [
    "PyTables do offer other, more powerful ways of performing selections which may be more suitable if you have very large tables or if you need very high query speeds. They are called in-kernel and indexed queries, and you can use them through Table.where() and other related methods.\n",
    "\n",
    "Let’s use an in-kernel selection to query the name column for the same set of cuts:"
   ]
  },
  {
   "cell_type": "code",
   "execution_count": 41,
   "metadata": {},
   "outputs": [
    {
     "data": {
      "text/plain": [
       "[b'Particle:      5',\n",
       " b'Particle:      6',\n",
       " b'Particle:      7',\n",
       " b'Particle:      5',\n",
       " b'Particle:      6',\n",
       " b'Particle:      7']"
      ]
     },
     "execution_count": 41,
     "metadata": {},
     "output_type": "execute_result"
    }
   ],
   "source": [
    "names = [ x['name'] for x in table.where(\"\"\"(TDCcount > 3) & (20 <= pressure) & (pressure < 50)\"\"\") ]\n",
    "names"
   ]
  },
  {
   "cell_type": "markdown",
   "metadata": {},
   "source": [
    "## Creating new array objects\n",
    "In order to separate the selected data from the mass of detector data, we will create a new group columns branching off the root group. Afterwards, under this group, we will create two arrays that will contain the selected data. First, we create the group:"
   ]
  },
  {
   "cell_type": "code",
   "execution_count": 42,
   "metadata": {
    "collapsed": true
   },
   "outputs": [],
   "source": [
    "gcolumns = h5file.create_group(h5file.root, \"columns\", \"Pressure and Name\")"
   ]
  },
  {
   "cell_type": "code",
   "execution_count": 45,
   "metadata": {},
   "outputs": [
    {
     "ename": "TypeError",
     "evalue": "array() argument 1 must be a unicode character, not list",
     "output_type": "error",
     "traceback": [
      "\u001b[1;31m---------------------------------------------------------------------------\u001b[0m",
      "\u001b[1;31mTypeError\u001b[0m                                 Traceback (most recent call last)",
      "\u001b[1;32m<ipython-input-45-554cd3bdcac5>\u001b[0m in \u001b[0;36m<module>\u001b[1;34m()\u001b[0m\n\u001b[1;32m----> 1\u001b[1;33m \u001b[0mh5file\u001b[0m\u001b[1;33m.\u001b[0m\u001b[0mcreate_array\u001b[0m\u001b[1;33m(\u001b[0m\u001b[0mgcolumns\u001b[0m\u001b[1;33m,\u001b[0m \u001b[1;34m'pressure'\u001b[0m\u001b[1;33m,\u001b[0m \u001b[0marray\u001b[0m\u001b[1;33m(\u001b[0m\u001b[0mpressure\u001b[0m\u001b[1;33m)\u001b[0m\u001b[1;33m,\u001b[0m \u001b[1;34m\"Pressure column selection\"\u001b[0m\u001b[1;33m)\u001b[0m\u001b[1;33m\u001b[0m\u001b[0m\n\u001b[0m",
      "\u001b[1;31mTypeError\u001b[0m: array() argument 1 must be a unicode character, not list"
     ]
    }
   ],
   "source": [
    "h5file.create_array(gcolumns, 'pressure', array(pressure), \"Pressure column selection\")"
   ]
  },
  {
   "cell_type": "markdown",
   "metadata": {},
   "source": [
    "## Closing the file and looking at its content\n",
    "To finish this first tutorial, we use the close method of the h5file File object to close the file before exiting Python:"
   ]
  },
  {
   "cell_type": "code",
   "execution_count": 46,
   "metadata": {
    "collapsed": true
   },
   "outputs": [],
   "source": [
    "h5file.close()"
   ]
  },
  {
   "cell_type": "markdown",
   "metadata": {},
   "source": [
    "To browse data checkout https://anaconda.org/conda-forge/vitables"
   ]
  },
  {
   "cell_type": "code",
   "execution_count": null,
   "metadata": {
    "collapsed": true
   },
   "outputs": [],
   "source": []
  }
 ],
 "metadata": {
  "kernelspec": {
   "display_name": "Python 3",
   "language": "python",
   "name": "python3"
  },
  "language_info": {
   "codemirror_mode": {
    "name": "ipython",
    "version": 3
   },
   "file_extension": ".py",
   "mimetype": "text/x-python",
   "name": "python",
   "nbconvert_exporter": "python",
   "pygments_lexer": "ipython3",
   "version": "3.6.3"
  }
 },
 "nbformat": 4,
 "nbformat_minor": 2
}
