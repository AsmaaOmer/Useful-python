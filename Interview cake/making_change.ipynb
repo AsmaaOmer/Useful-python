{
 "cells": [
  {
   "cell_type": "markdown",
   "metadata": {},
   "source": [
    "https://www.interviewcake.com/question/python/coin\n",
    "\n",
    "Write a function that, given:\n",
    "\n",
    "1. an amount of money\n",
    "2. a list of coin denominations\n",
    "\n",
    "computes the number of ways to make the amount of money with coins of the available denominations.\n",
    "\n",
    "Example: for amount=4 (4¢) and denominations=[1,2,3](11¢, 22¢ and 33¢), your program would output 4—the number of ways to make 4¢ with those denominations:\n",
    "\n",
    "1¢, 1¢, 1¢, 1¢\n",
    "\n",
    "1¢, 1¢, 2¢\n",
    "\n",
    "1¢, 3¢\n",
    "\n",
    "2¢, 2¢"
   ]
  },
  {
   "cell_type": "markdown",
   "metadata": {},
   "source": [
    "Our strategy is to first check which sets consisting of all of one type of coin can yield the amount. We can then iterate over those coins to see which other coins could be substituted. CLEARLY WE NEED A RECURSIVE ALGO"
   ]
  },
  {
   "cell_type": "code",
   "execution_count": 46,
   "metadata": {},
   "outputs": [],
   "source": [
    "from itertools import combinations\n",
    "\n",
    "def rSubset(arr, r):\n",
    "    # return list of all subsets of length r \n",
    "    # to deal with duplicate subsets use  \n",
    "    # set(list(combinations(arr, r))) \n",
    "    return list(combinations(arr, r)) "
   ]
  },
  {
   "cell_type": "code",
   "execution_count": null,
   "metadata": {},
   "outputs": [],
   "source": [
    "amount=4\n",
    "coins=[1,2,3]"
   ]
  },
  {
   "cell_type": "code",
   "execution_count": 53,
   "metadata": {},
   "outputs": [
    {
     "data": {
      "text/plain": [
       "3"
      ]
     },
     "execution_count": 53,
     "metadata": {},
     "output_type": "execute_result"
    }
   ],
   "source": [
    "len(coins)"
   ]
  },
  {
   "cell_type": "code",
   "execution_count": 57,
   "metadata": {},
   "outputs": [
    {
     "name": "stdout",
     "output_type": "stream",
     "text": [
      "[(1, 2), (1, 3), (2, 3)]\n",
      "[(1, 2, 3)]\n"
     ]
    }
   ],
   "source": [
    "for i in range(2, len(coins)+1):\n",
    "    print(rSubset(coins, i))"
   ]
  },
  {
   "cell_type": "code",
   "execution_count": 64,
   "metadata": {},
   "outputs": [],
   "source": [
    "def calc_coins(amount : int, coins : list):  \n",
    "    for coin in iter(coins):\n",
    "        # Check if amount is divisble by test coin:\n",
    "        if amount % coin == 0:\n",
    "            allowed_coins = [coin for i in range(int(amount/coin))]\n",
    "            print(allowed_coins)\n",
    "    # Check possible sets\n",
    "    for i in range(1, len(set(coins))+1):\n",
    "        combos = rSubset(coins, i)\n",
    "        for combo in combos:\n",
    "            if sum(combo) == amount:\n",
    "                print(combo)"
   ]
  },
  {
   "cell_type": "code",
   "execution_count": 65,
   "metadata": {},
   "outputs": [
    {
     "name": "stdout",
     "output_type": "stream",
     "text": [
      "[1, 1, 1, 1]\n",
      "[2, 2]\n",
      "(1, 3)\n"
     ]
    }
   ],
   "source": [
    "calc_coins(amount, coins)"
   ]
  },
  {
   "cell_type": "code",
   "execution_count": null,
   "metadata": {},
   "outputs": [],
   "source": []
  }
 ],
 "metadata": {
  "kernelspec": {
   "display_name": "Python 3",
   "language": "python",
   "name": "python3"
  },
  "language_info": {
   "codemirror_mode": {
    "name": "ipython",
    "version": 3
   },
   "file_extension": ".py",
   "mimetype": "text/x-python",
   "name": "python",
   "nbconvert_exporter": "python",
   "pygments_lexer": "ipython3",
   "version": "3.6.5"
  }
 },
 "nbformat": 4,
 "nbformat_minor": 2
}
