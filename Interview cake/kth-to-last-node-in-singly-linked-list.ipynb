{
 "cells": [
  {
   "cell_type": "markdown",
   "metadata": {},
   "source": [
    "You have a linked list and want to find the kth to last node.\n",
    "\n",
    "Write a function kth_to_last_node() that takes an integer k and the head_node of a singly-linked list, and returns the kth to last node in the list.\n",
    "\n",
    "For example:\n",
    "```python\n",
    "  class LinkedListNode:\n",
    "\n",
    "    def __init__(self, value):\n",
    "        self.value = value\n",
    "        self.next  = None\n",
    "\n",
    "\n",
    "a = LinkedListNode(\"Angel Food\")\n",
    "b = LinkedListNode(\"Bundt\")\n",
    "c = LinkedListNode(\"Cheese\")\n",
    "d = LinkedListNode(\"Devil's Food\")\n",
    "e = LinkedListNode(\"Eccles\")\n",
    "\n",
    "a.next = b\n",
    "b.next = c\n",
    "c.next = d\n",
    "d.next = e\n",
    "```\n",
    "\n",
    "Returns the node with value \"Devil's Food\" (the 2nd to last node)\n",
    "\n",
    "`kth_to_last_node(2, a)`"
   ]
  },
  {
   "cell_type": "code",
   "execution_count": 1,
   "metadata": {},
   "outputs": [],
   "source": [
    "class LinkedListNode:\n",
    "\n",
    "    def __init__(self, value):\n",
    "        self.value = value\n",
    "        self.next  = None\n",
    "\n",
    "\n",
    "a = LinkedListNode(\"Angel Food\")\n",
    "b = LinkedListNode(\"Bundt\")\n",
    "c = LinkedListNode(\"Cheese\")\n",
    "d = LinkedListNode(\"Devil's Food\")\n",
    "e = LinkedListNode(\"Eccles\")\n",
    "\n",
    "a.next = b\n",
    "b.next = c\n",
    "c.next = d\n",
    "d.next = e"
   ]
  },
  {
   "cell_type": "code",
   "execution_count": 2,
   "metadata": {},
   "outputs": [
    {
     "data": {
      "text/plain": [
       "\"Devil's Food\""
      ]
     },
     "execution_count": 2,
     "metadata": {},
     "output_type": "execute_result"
    }
   ],
   "source": [
    "d.value"
   ]
  },
  {
   "cell_type": "code",
   "execution_count": 4,
   "metadata": {},
   "outputs": [
    {
     "data": {
      "text/plain": [
       "'Eccles'"
      ]
     },
     "execution_count": 4,
     "metadata": {},
     "output_type": "execute_result"
    }
   ],
   "source": [
    "d.next.value"
   ]
  },
  {
   "cell_type": "markdown",
   "metadata": {},
   "source": [
    "## Approach 1: Brute force\n",
    "Iterate over all, append to list, then return kth to last"
   ]
  },
  {
   "cell_type": "code",
   "execution_count": 16,
   "metadata": {},
   "outputs": [],
   "source": [
    "current_value = None\n",
    "next_node = None\n",
    "\n",
    "values = []\n",
    "\n",
    "start_node = a\n",
    "while True:\n",
    "    if current_value is None:\n",
    "        current_value = a.value\n",
    "        next_node = a.next \n",
    "    else:\n",
    "        try:\n",
    "            current_value = next_node.value\n",
    "            next_node = next_node.next\n",
    "        except:\n",
    "            break    \n",
    "    values.append(current_value)"
   ]
  },
  {
   "cell_type": "code",
   "execution_count": 17,
   "metadata": {},
   "outputs": [
    {
     "data": {
      "text/plain": [
       "['Angel Food', 'Bundt', 'Cheese', \"Devil's Food\", 'Eccles']"
      ]
     },
     "execution_count": 17,
     "metadata": {},
     "output_type": "execute_result"
    }
   ],
   "source": [
    "values"
   ]
  },
  {
   "cell_type": "code",
   "execution_count": 10,
   "metadata": {},
   "outputs": [
    {
     "data": {
      "text/plain": [
       "'Cheese'"
      ]
     },
     "execution_count": 10,
     "metadata": {},
     "output_type": "execute_result"
    }
   ],
   "source": [
    "values[-3]"
   ]
  },
  {
   "cell_type": "code",
   "execution_count": 18,
   "metadata": {},
   "outputs": [],
   "source": [
    "def kth_to_last_node(k=2, head_node=a):\n",
    "    \"\"\"Return kth to last node in linked node\"\"\"\n",
    "    current_value = None\n",
    "    next_node = None\n",
    "    values = []\n",
    "\n",
    "    start_node = head_node\n",
    "    while True:\n",
    "        if current_value is None:\n",
    "            current_value = a.value\n",
    "            next_node = a.next \n",
    "        else:\n",
    "            try:\n",
    "                current_value = next_node.value\n",
    "                next_node = next_node.next\n",
    "            except:\n",
    "                break    \n",
    "        values.append(current_value)\n",
    "    \n",
    "    return values[-k]"
   ]
  },
  {
   "cell_type": "code",
   "execution_count": 19,
   "metadata": {},
   "outputs": [
    {
     "data": {
      "text/plain": [
       "\"Devil's Food\""
      ]
     },
     "execution_count": 19,
     "metadata": {},
     "output_type": "execute_result"
    }
   ],
   "source": [
    "kth_to_last_node()"
   ]
  },
  {
   "cell_type": "code",
   "execution_count": null,
   "metadata": {},
   "outputs": [],
   "source": []
  }
 ],
 "metadata": {
  "kernelspec": {
   "display_name": "Python 3",
   "language": "python",
   "name": "python3"
  },
  "language_info": {
   "codemirror_mode": {
    "name": "ipython",
    "version": 3
   },
   "file_extension": ".py",
   "mimetype": "text/x-python",
   "name": "python",
   "nbconvert_exporter": "python",
   "pygments_lexer": "ipython3",
   "version": "3.6.5"
  }
 },
 "nbformat": 4,
 "nbformat_minor": 2
}
