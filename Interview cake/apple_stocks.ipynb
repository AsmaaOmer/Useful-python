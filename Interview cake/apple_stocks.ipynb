{
 "cells": [
  {
   "cell_type": "markdown",
   "metadata": {},
   "source": [
    "https://www.interviewcake.com/question/python/stock-price"
   ]
  },
  {
   "cell_type": "markdown",
   "metadata": {},
   "source": [
    "First, I wanna know how much money I could have made yesterday if I'd been trading Apple stocks all day.\n",
    "\n",
    "So I grabbed Apple's stock prices from yesterday and put them in a list called stock_prices, where:\n",
    "\n",
    "The indices are the time (in minutes) past trade opening time, which was 9:30am local time.\n",
    "The values are the price (in US dollars) of one share of Apple stock at that time.\n",
    "So if the stock cost $500 at 10:30am, that means stock_prices[60] = 500.\n",
    "\n",
    "Write an efficient function that takes stock_prices and returns the best profit I could have made from one purchase and one sale of one share of Apple stock yesterday.\n",
    "\n",
    "For example:\n",
    "```python\n",
    "stock_prices = [10, 7, 5, 8, 11, 9]\n",
    "\n",
    "get_max_profit(stock_prices)\n",
    "# Returns 6 (buying for $5 and selling for $11)\n",
    "```"
   ]
  },
  {
   "cell_type": "markdown",
   "metadata": {},
   "source": [
    "## Generate prices"
   ]
  },
  {
   "cell_type": "code",
   "execution_count": 1,
   "metadata": {},
   "outputs": [
    {
     "data": {
      "text/plain": [
       "[1]"
      ]
     },
     "execution_count": 1,
     "metadata": {},
     "output_type": "execute_result"
    }
   ],
   "source": [
    "from random import randint\n",
    "\n",
    "def gen_prices(num_prices):\n",
    "    \"\"\"Return a list of prices in range 0 - 100.\"\"\"\n",
    "    return [randint(0, 9) for p in range(0, int(num_prices))]\n",
    "\n",
    "gen_prices(1e0)"
   ]
  },
  {
   "cell_type": "markdown",
   "metadata": {},
   "source": [
    "## Simple solution\n",
    "RC: Iterate over each entry in the list (inefficient), and for each entry calculate the max profit by `profit = entry_value - min(remaning_values)`."
   ]
  },
  {
   "cell_type": "code",
   "execution_count": 2,
   "metadata": {},
   "outputs": [],
   "source": [
    "stock_prices = [10, 7, 5, 8, 11, 9]"
   ]
  },
  {
   "cell_type": "code",
   "execution_count": 3,
   "metadata": {},
   "outputs": [
    {
     "data": {
      "text/plain": [
       "[5, 2, 0, 0, 2, 0]"
      ]
     },
     "execution_count": 3,
     "metadata": {},
     "output_type": "execute_result"
    }
   ],
   "source": [
    "profits = []\n",
    "for i, price in enumerate(stock_prices):\n",
    "    remaining_prices = stock_prices[i:]\n",
    "    best_profit = max(price - min(remaining_prices), 0)\n",
    "    profits.append(best_profit)\n",
    "    \n",
    "profits"
   ]
  },
  {
   "cell_type": "markdown",
   "metadata": {},
   "source": [
    "Now wrap as function and time"
   ]
  },
  {
   "cell_type": "code",
   "execution_count": 4,
   "metadata": {},
   "outputs": [],
   "source": [
    "def get_max_profit_simple(stock_prices : list):\n",
    "    \"\"\"\n",
    "    Get the max profit using simple approach iteraing\n",
    "    over every entry in the list.\n",
    "    \"\"\"\n",
    "    for i, price in enumerate(stock_prices):\n",
    "        remaining_prices = stock_prices[i:]\n",
    "        best_profit = max(price - min(remaining_prices), 0)\n",
    "        profits.append(best_profit)\n",
    "    return max(profits)"
   ]
  },
  {
   "cell_type": "markdown",
   "metadata": {},
   "source": [
    "Test time efficiency"
   ]
  },
  {
   "cell_type": "code",
   "execution_count": 6,
   "metadata": {},
   "outputs": [
    {
     "name": "stdout",
     "output_type": "stream",
     "text": [
      "CPU times: user 739 ms, sys: 4.58 ms, total: 744 ms\n",
      "Wall time: 746 ms\n"
     ]
    },
    {
     "data": {
      "text/plain": [
       "9"
      ]
     },
     "execution_count": 6,
     "metadata": {},
     "output_type": "execute_result"
    }
   ],
   "source": [
    "%%time\n",
    "get_max_profit_simple(gen_prices(1e4))"
   ]
  },
  {
   "cell_type": "code",
   "execution_count": null,
   "metadata": {},
   "outputs": [],
   "source": []
  }
 ],
 "metadata": {
  "kernelspec": {
   "display_name": "Python 3",
   "language": "python",
   "name": "python3"
  },
  "language_info": {
   "codemirror_mode": {
    "name": "ipython",
    "version": 3
   },
   "file_extension": ".py",
   "mimetype": "text/x-python",
   "name": "python",
   "nbconvert_exporter": "python",
   "pygments_lexer": "ipython3",
   "version": "3.6.5"
  }
 },
 "nbformat": 4,
 "nbformat_minor": 2
}
