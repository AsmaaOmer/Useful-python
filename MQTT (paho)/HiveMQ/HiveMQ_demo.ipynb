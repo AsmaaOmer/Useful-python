{
 "cells": [
  {
   "cell_type": "markdown",
   "metadata": {},
   "source": [
    "* Tutorial https://www.hivemq.com/blog/mqtt-client-library-paho-python\n",
    "* Also http://www.steves-internet-guide.com/client-connections-python-mqtt/"
   ]
  },
  {
   "cell_type": "code",
   "execution_count": 1,
   "metadata": {},
   "outputs": [
    {
     "name": "stdout",
     "output_type": "stream",
     "text": [
      "CONNACK received with code 0\n",
      "connected OK\n"
     ]
    }
   ],
   "source": [
    "import paho.mqtt.client as paho\n",
    "\n",
    "# Config for broker\n",
    "topic = \"my_long_topic/temperature\"\n",
    "broker = \"broker.mqttdashboard.com\"\n",
    "port = 1883\n",
    " \n",
    "# Reqired callbacks\n",
    "def on_connect(client, userdata, flags, rc):\n",
    "    print(f\"CONNACK received with code {rc}\")\n",
    "    if rc==0:\n",
    "        print(\"connected OK\")\n",
    "    else:\n",
    "        print(\"Bad connection Returned code=\",rc)\n",
    "\n",
    "def on_publish(client, userdata, mid):\n",
    "    print(\"mid: \"+str(mid))        \n",
    "\n",
    "# The callback for when a PUBLISH message is received from the server.\n",
    "def on_message(client, userdata, msg):\n",
    "    print(msg.topic+\" \"+str(msg.payload))    \n",
    "\n",
    "# Create client, register callbacks and start loop\n",
    "client = paho.Client()\n",
    "client.on_connect = on_connect\n",
    "client.on_publish = on_publish\n",
    "client.on_message = on_message\n",
    "client.connect(broker, port=port)\n",
    "client.loop_start()"
   ]
  },
  {
   "cell_type": "code",
   "execution_count": 2,
   "metadata": {},
   "outputs": [
    {
     "data": {
      "text/plain": [
       "(0, 1)"
      ]
     },
     "execution_count": 2,
     "metadata": {},
     "output_type": "execute_result"
    }
   ],
   "source": [
    "client.subscribe(topic)"
   ]
  },
  {
   "cell_type": "code",
   "execution_count": 4,
   "metadata": {},
   "outputs": [
    {
     "data": {
      "text/plain": [
       "<paho.mqtt.client.MQTTMessageInfo at 0x10ddbe778>"
      ]
     },
     "execution_count": 4,
     "metadata": {},
     "output_type": "execute_result"
    },
    {
     "name": "stdout",
     "output_type": "stream",
     "text": [
      "mid: 3\n",
      "my_long_topic/temperature b'hello robin'\n"
     ]
    }
   ],
   "source": [
    "client.publish(topic, \"hello robin\", qos=1)"
   ]
  },
  {
   "cell_type": "code",
   "execution_count": null,
   "metadata": {},
   "outputs": [],
   "source": []
  }
 ],
 "metadata": {
  "kernelspec": {
   "display_name": "Python 3",
   "language": "python",
   "name": "python3"
  },
  "language_info": {
   "codemirror_mode": {
    "name": "ipython",
    "version": 3
   },
   "file_extension": ".py",
   "mimetype": "text/x-python",
   "name": "python",
   "nbconvert_exporter": "python",
   "pygments_lexer": "ipython3",
   "version": "3.6.5"
  }
 },
 "nbformat": 4,
 "nbformat_minor": 2
}
