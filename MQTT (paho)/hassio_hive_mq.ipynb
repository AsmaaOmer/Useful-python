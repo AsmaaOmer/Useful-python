{
 "cells": [
  {
   "cell_type": "markdown",
   "metadata": {},
   "source": [
    "https://github.com/hassio-addons/addon-mqtt/blob/v0.1.1/README.md\n",
    "\n",
    "In HA addon configu set `\"enable_mqtt\": true,`\n",
    "\n",
    "Fetch credentials from json"
   ]
  },
  {
   "cell_type": "code",
   "execution_count": 1,
   "metadata": {},
   "outputs": [],
   "source": [
    "import json\n",
    "import paho.mqtt.client as mqtt\n",
    "import paho.mqtt.publish as publish \n",
    "import time\n",
    "import os"
   ]
  },
  {
   "cell_type": "code",
   "execution_count": 2,
   "metadata": {},
   "outputs": [],
   "source": [
    "# for loading credentials    \n",
    "def load_creds(filename):\n",
    "    try:\n",
    "        with open(filename, 'r') as fp:\n",
    "            data = json.load(fp)\n",
    "            username = data['username']\n",
    "            password = data['password']\n",
    "            broker = data['broker']\n",
    "            port = data['port']\n",
    "            \n",
    "            return username, password, broker, port\n",
    "    except Exception as e:\n",
    "        print(e)"
   ]
  },
  {
   "cell_type": "code",
   "execution_count": 3,
   "metadata": {},
   "outputs": [
    {
     "name": "stdout",
     "output_type": "stream",
     "text": [
      "robin\n",
      "1883\n"
     ]
    }
   ],
   "source": [
    "filename = '/Users/robincole/Desktop/hassio_hive_mq.json'\n",
    "username, password, broker, port = load_creds(filename)\n",
    "print(username)\n",
    "print(port)"
   ]
  },
  {
   "cell_type": "markdown",
   "metadata": {},
   "source": [
    "Topic on adafruit includes your username"
   ]
  },
  {
   "cell_type": "code",
   "execution_count": 4,
   "metadata": {},
   "outputs": [],
   "source": [
    "topic = \"wipy/\""
   ]
  },
  {
   "cell_type": "code",
   "execution_count": 5,
   "metadata": {},
   "outputs": [],
   "source": [
    "# Reqired callbacks\n",
    "def on_connect(client, userdata, flags, rc):\n",
    "    print(f\"CONNACK received with code {rc}\")\n",
    "    if rc==0:\n",
    "        print(\"connected OK\")\n",
    "    else:\n",
    "        print(\"Bad connection Returned code=\",rc)\n",
    "\n",
    "def on_publish(client, userdata, mid):\n",
    "    print(\"mid: \"+str(mid))        \n",
    "\n",
    "# The callback for when a PUBLISH message is received from the server.\n",
    "def on_message(client, userdata, msg):\n",
    "    print(msg.topic+\" \"+str(msg.payload))"
   ]
  },
  {
   "cell_type": "code",
   "execution_count": 6,
   "metadata": {},
   "outputs": [],
   "source": [
    "client = mqtt.Client()\n",
    "client.on_connect = on_connect\n",
    "client.on_message = on_message\n",
    "client.on_publish = on_publish\n",
    "\n",
    "client.username_pw_set(username, password=password)\n",
    "client.connect(broker, port=port)\n",
    "client.loop_start()"
   ]
  },
  {
   "cell_type": "code",
   "execution_count": 7,
   "metadata": {},
   "outputs": [
    {
     "data": {
      "text/plain": [
       "(0, 1)"
      ]
     },
     "execution_count": 7,
     "metadata": {},
     "output_type": "execute_result"
    },
    {
     "name": "stdout",
     "output_type": "stream",
     "text": [
      "CONNACK received with code 0\n",
      "connected OK\n"
     ]
    }
   ],
   "source": [
    "client.subscribe(topic)"
   ]
  },
  {
   "cell_type": "code",
   "execution_count": 8,
   "metadata": {},
   "outputs": [
    {
     "name": "stdout",
     "output_type": "stream",
     "text": [
      "mid: 2\n"
     ]
    },
    {
     "data": {
      "text/plain": [
       "<paho.mqtt.client.MQTTMessageInfo at 0x10c2487c8>"
      ]
     },
     "execution_count": 8,
     "metadata": {},
     "output_type": "execute_result"
    },
    {
     "name": "stdout",
     "output_type": "stream",
     "text": [
      "wipy/ b'Capture3!'\n"
     ]
    }
   ],
   "source": [
    "client.publish(topic, 'Capture3!')"
   ]
  },
  {
   "cell_type": "code",
   "execution_count": null,
   "metadata": {},
   "outputs": [],
   "source": []
  }
 ],
 "metadata": {
  "kernelspec": {
   "display_name": "Python 3",
   "language": "python",
   "name": "python3"
  },
  "language_info": {
   "codemirror_mode": {
    "name": "ipython",
    "version": 3
   },
   "file_extension": ".py",
   "mimetype": "text/x-python",
   "name": "python",
   "nbconvert_exporter": "python",
   "pygments_lexer": "ipython3",
   "version": "3.6.5"
  }
 },
 "nbformat": 4,
 "nbformat_minor": 2
}
