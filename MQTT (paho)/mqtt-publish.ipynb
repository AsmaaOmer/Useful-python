{
 "cells": [
  {
   "cell_type": "markdown",
   "metadata": {},
   "source": [
    "* pip3 install paho-mqtt\n",
    "* Running a local broker on `0.0.0.0` using https://github.com/eclipse/mosquitto\n",
    "* https://pypi.python.org/pypi/paho-mqtt\n",
    "* https://www.hackster.io/robin-cole/pi-camera-doorbell-with-notifications-408d3d\n",
    "* https://chrome.google.com/webstore/detail/mqttlens/hemojaaeigabkbcookmlgmdigohjobjm?hl=en\n",
    "* Read http://www.steves-internet-guide.com/client-connections-python-mqtt/\n",
    "* Demo broker at http://www.mqtt-dashboard.com/ and paho instructions https://www.hivemq.com/blog/mqtt-client-library-paho-python\n",
    "\n",
    "Connection Return Codes\n",
    "* 0: Connection successful\n",
    "* 1: Connection refused – incorrect protocol version\n",
    "* 2: Connection refused – invalid client identifier\n",
    "* 3: Connection refused – server unavailable\n",
    "* 4: Connection refused – bad username or password\n",
    "* 5: Connection refused – not authorised\n",
    "* 6-255: Currently unused."
   ]
  },
  {
   "cell_type": "code",
   "execution_count": 1,
   "metadata": {},
   "outputs": [],
   "source": [
    "import paho.mqtt.client as mqtt\n",
    "import paho.mqtt.publish as publish \n",
    "import time\n",
    "import os\n",
    "\n",
    "### MQTT \n",
    "broker = \"localhost\"\n",
    "port = 1883\n",
    "topic ='test/'"
   ]
  },
  {
   "cell_type": "code",
   "execution_count": 2,
   "metadata": {},
   "outputs": [],
   "source": [
    "# Reqired callbacks\n",
    "def on_connect(client, userdata, flags, rc):\n",
    "    print(f\"CONNACK received with code {rc}\")\n",
    "    if rc==0:\n",
    "        print(\"connected OK\")\n",
    "    else:\n",
    "        print(\"Bad connection Returned code=\",rc)\n",
    "\n",
    "def on_publish(client, userdata, mid):\n",
    "    print(\"mid: \"+str(mid))        \n",
    "\n",
    "# The callback for when a PUBLISH message is received from the server.\n",
    "def on_message(client, userdata, msg):\n",
    "    print(msg.topic+\" \"+str(msg.payload)) "
   ]
  },
  {
   "cell_type": "code",
   "execution_count": 4,
   "metadata": {},
   "outputs": [
    {
     "name": "stdout",
     "output_type": "stream",
     "text": [
      "CONNACK received with code 0\n",
      "connected OK\n"
     ]
    }
   ],
   "source": [
    "client = mqtt.Client()\n",
    "client.on_connect = on_connect\n",
    "client.on_message = on_message\n",
    "client.on_publish = on_publish\n",
    "\n",
    "#client.username_pw_set(username, password)\n",
    "client.connect(broker, port=port)\n",
    "client.loop_start()"
   ]
  },
  {
   "cell_type": "markdown",
   "metadata": {},
   "source": [
    "MUST see \"Connected with result code 0\" for successfull connection"
   ]
  },
  {
   "cell_type": "code",
   "execution_count": 5,
   "metadata": {},
   "outputs": [
    {
     "data": {
      "text/plain": [
       "(0, 1)"
      ]
     },
     "execution_count": 5,
     "metadata": {},
     "output_type": "execute_result"
    }
   ],
   "source": [
    "client.subscribe(topic)"
   ]
  },
  {
   "cell_type": "code",
   "execution_count": 9,
   "metadata": {},
   "outputs": [
    {
     "data": {
      "text/plain": [
       "<paho.mqtt.client.MQTTMessageInfo at 0x1130f36d8>"
      ]
     },
     "execution_count": 9,
     "metadata": {},
     "output_type": "execute_result"
    },
    {
     "name": "stdout",
     "output_type": "stream",
     "text": [
      "mid: 5\n",
      "test/ b'Capture3!'\n",
      "test/ b'mqtt'\n",
      "test/ b'ha'\n",
      "test/ b'foo'\n",
      "test/ b'ha'\n"
     ]
    }
   ],
   "source": [
    "client.publish(topic, 'Capture3!')"
   ]
  },
  {
   "cell_type": "markdown",
   "metadata": {},
   "source": [
    "Should see the payload published"
   ]
  },
  {
   "cell_type": "code",
   "execution_count": null,
   "metadata": {},
   "outputs": [],
   "source": []
  }
 ],
 "metadata": {
  "kernelspec": {
   "display_name": "Python 3",
   "language": "python",
   "name": "python3"
  },
  "language_info": {
   "codemirror_mode": {
    "name": "ipython",
    "version": 3
   },
   "file_extension": ".py",
   "mimetype": "text/x-python",
   "name": "python",
   "nbconvert_exporter": "python",
   "pygments_lexer": "ipython3",
   "version": "3.6.5"
  }
 },
 "nbformat": 4,
 "nbformat_minor": 2
}
