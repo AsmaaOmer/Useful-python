{
 "cells": [
  {
   "cell_type": "markdown",
   "metadata": {},
   "source": [
    "https://www.tensorflow.org/tutorials/image_recognition\n",
    "\n",
    "Once the classifier is downloaded, classification is very quick"
   ]
  },
  {
   "cell_type": "code",
   "execution_count": 2,
   "metadata": {},
   "outputs": [
    {
     "name": "stdout",
     "output_type": "stream",
     "text": [
      "3.6.3 (default, Oct  4 2017, 06:09:38) \n",
      "[GCC 4.2.1 Compatible Apple LLVM 9.0.0 (clang-900.0.37)]\n"
     ]
    }
   ],
   "source": [
    "import sys\n",
    "import subprocess\n",
    "print(sys.version)\n",
    "import tensorflow as tf"
   ]
  },
  {
   "cell_type": "markdown",
   "metadata": {},
   "source": [
    "The following command will classify a supplied image of a panda bear."
   ]
  },
  {
   "cell_type": "code",
   "execution_count": 5,
   "metadata": {},
   "outputs": [
    {
     "name": "stdout",
     "output_type": "stream",
     "text": [
      "b'giant panda, panda, panda bear, coon bear, Ailuropoda melanoleuca (score = 0.89107)\\nindri, indris, Indri indri, Indri brevicaudatus (score = 0.00779)\\nlesser panda, red panda, panda, bear cat, cat bear, Ailurus fulgens (score = 0.00296)\\ncustard apple (score = 0.00147)\\nearthstar (score = 0.00117)\\n'\n",
      "CPU times: user 1.68 ms, sys: 4.95 ms, total: 6.62 ms\n",
      "Wall time: 4.02 s\n"
     ]
    }
   ],
   "source": [
    "%%time\n",
    "py_to_run = '/Users/robincole/Documents/Github/Tensorflow/models/tutorials/image/imagenet/classify_image.py'\n",
    "print(subprocess.check_output(['python3', py_to_run]))"
   ]
  },
  {
   "cell_type": "code",
   "execution_count": null,
   "metadata": {},
   "outputs": [],
   "source": []
  }
 ],
 "metadata": {
  "kernelspec": {
   "display_name": "Python 3",
   "language": "python",
   "name": "python3"
  },
  "language_info": {
   "codemirror_mode": {
    "name": "ipython",
    "version": 3
   },
   "file_extension": ".py",
   "mimetype": "text/x-python",
   "name": "python",
   "nbconvert_exporter": "python",
   "pygments_lexer": "ipython3",
   "version": "3.6.3"
  }
 },
 "nbformat": 4,
 "nbformat_minor": 2
}
