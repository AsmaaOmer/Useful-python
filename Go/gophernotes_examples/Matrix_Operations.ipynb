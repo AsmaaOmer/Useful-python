{
 "cells": [
  {
   "cell_type": "markdown",
   "metadata": {},
   "source": [
    "https://godoc.org/gonum.org/v1/gonum/mat"
   ]
  },
  {
   "cell_type": "code",
   "execution_count": 1,
   "metadata": {
    "collapsed": true
   },
   "outputs": [],
   "source": [
    "import (\n",
    "    \"fmt\"\n",
    "    \"math\"\n",
    "\n",
    "    \"gonum.org/v1/gonum/mat\"\n",
    ")"
   ]
  },
  {
   "cell_type": "markdown",
   "metadata": {},
   "source": [
    "# Create some matrices"
   ]
  },
  {
   "cell_type": "code",
   "execution_count": 2,
   "metadata": {
    "collapsed": true
   },
   "outputs": [],
   "source": [
    "// Create two matrices of the same size, a and b.\n",
    "a := mat.NewDense(3, 3, []float64{1, 2, 3, 0, 4, 5, 0, 0, 6})\n",
    "b := mat.NewDense(3, 3, []float64{8, 9, 10, 1, 4, 2, 9, 0, 2})\n",
    "c := mat.NewDense(3, 2, []float64{3, 2, 1, 4, 0, 8})"
   ]
  },
  {
   "cell_type": "code",
   "execution_count": 3,
   "metadata": {},
   "outputs": [
    {
     "data": {
      "text/plain": [
       "&{{3 3 [1 2 3 0 4 5 0 0 6] 3} 3 3}"
      ]
     },
     "execution_count": 3,
     "metadata": {},
     "output_type": "execute_result"
    }
   ],
   "source": [
    "a"
   ]
  },
  {
   "cell_type": "code",
   "execution_count": 4,
   "metadata": {},
   "outputs": [
    {
     "name": "stdout",
     "output_type": "stream",
     "text": [
      "\n",
      "a = ⎡1  2  3⎤\n",
      "    ⎢0  4  5⎥\n",
      "    ⎣0  0  6⎦\n",
      "\n",
      "b = ⎡ 8   9  10⎤\n",
      "    ⎢ 1   4   2⎥\n",
      "    ⎣ 9   0   2⎦\n",
      "\n"
     ]
    },
    {
     "data": {
      "text/plain": [
       "64 <nil>"
      ]
     },
     "execution_count": 4,
     "metadata": {},
     "output_type": "execute_result"
    }
   ],
   "source": [
    "fa := mat.Formatted(a, mat.Prefix(\"    \"))\n",
    "fb := mat.Formatted(b, mat.Prefix(\"    \"))\n",
    "\n",
    "fmt.Printf(\"\\na = %0.4v\\n\\n\", fa)\n",
    "fmt.Printf(\"b = %0.4v\\n\\n\", fb)"
   ]
  },
  {
   "cell_type": "markdown",
   "metadata": {},
   "source": [
    "# Matrix addition, multiplication, powers, and apply"
   ]
  },
  {
   "cell_type": "code",
   "execution_count": 5,
   "metadata": {},
   "outputs": [
    {
     "ename": "ERROR",
     "evalue": "matrix: zero length in matrix dimension",
     "output_type": "error",
     "traceback": [
      "matrix: zero length in matrix dimension"
     ]
    }
   ],
   "source": [
    "// Add a and b.\n",
    "d := mat.NewDense(0, 0, nil)\n",
    "d.Add(a, b)\n",
    "fd := mat.Formatted(d, mat.Prefix(\"            \"))\n",
    "fmt.Printf(\"d = a + b = %0.4v\\n\\n\", fd)"
   ]
  },
  {
   "cell_type": "code",
   "execution_count": 6,
   "metadata": {},
   "outputs": [
    {
     "ename": "ERROR",
     "evalue": "matrix: zero length in matrix dimension",
     "output_type": "error",
     "traceback": [
      "matrix: zero length in matrix dimension"
     ]
    }
   ],
   "source": [
    "// Multiply a and c.\n",
    "f := mat.NewDense(0, 0, nil)\n",
    "f.Mul(a, c)\n",
    "ff := mat.Formatted(f, mat.Prefix(\"          \"))\n",
    "fmt.Printf(\"f = a c = %0.4v\\n\\n\", ff)"
   ]
  },
  {
   "cell_type": "code",
   "execution_count": 7,
   "metadata": {},
   "outputs": [
    {
     "ename": "ERROR",
     "evalue": "matrix: zero length in matrix dimension",
     "output_type": "error",
     "traceback": [
      "matrix: zero length in matrix dimension"
     ]
    }
   ],
   "source": [
    "// Raising a matrix to a power.\n",
    "g := mat.NewDense(0, 0, nil)\n",
    "g.Pow(a, 5)\n",
    "fg := mat.Formatted(g, mat.Prefix(\"          \"))\n",
    "fmt.Printf(\"g = a^5 = %0.4v\\n\\n\", fg)"
   ]
  },
  {
   "cell_type": "code",
   "execution_count": 8,
   "metadata": {},
   "outputs": [
    {
     "ename": "ERROR",
     "evalue": "matrix: zero length in matrix dimension",
     "output_type": "error",
     "traceback": [
      "matrix: zero length in matrix dimension"
     ]
    }
   ],
   "source": [
    "// Apply a function to each of the elements of a.\n",
    "h := mat.NewDense(0, 0, nil)\n",
    "sqrt := func(_, _ int, v float64) float64 { return math.Sqrt(v) }\n",
    "h.Apply(sqrt, a)\n",
    "fh := mat.Formatted(h, mat.Prefix(\"              \"))\n",
    "fmt.Printf(\"h = sqrt(a) = %0.4v\\n\\n\", fh)"
   ]
  },
  {
   "cell_type": "code",
   "execution_count": null,
   "metadata": {
    "collapsed": true
   },
   "outputs": [],
   "source": []
  }
 ],
 "metadata": {
  "kernelspec": {
   "display_name": "Go",
   "language": "go",
   "name": "gophernotes"
  },
  "language_info": {
   "codemirror_mode": "",
   "file_extension": ".go",
   "mimetype": "",
   "name": "go",
   "nbconvert_exporter": "",
   "pygments_lexer": "",
   "version": "go1.10.2"
  }
 },
 "nbformat": 4,
 "nbformat_minor": 2
}
