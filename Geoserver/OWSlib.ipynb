{
 "cells": [
  {
   "cell_type": "markdown",
   "metadata": {},
   "source": [
    "https://github.com/geopython/OWSLib"
   ]
  },
  {
   "cell_type": "code",
   "execution_count": 1,
   "metadata": {},
   "outputs": [],
   "source": [
    "from owslib.wms import WebMapService"
   ]
  },
  {
   "cell_type": "code",
   "execution_count": 5,
   "metadata": {},
   "outputs": [],
   "source": [
    "wms = WebMapService(\"http://localhost:8080/geoserver/wfs\", username=\"admin\", password=\"geoserver\")"
   ]
  },
  {
   "cell_type": "code",
   "execution_count": 7,
   "metadata": {},
   "outputs": [
    {
     "data": {
      "text/plain": [
       "OrderedDict([('spearfish', <owslib.map.wms111.ContentMetadata at 0x10dac3240>),\n",
       "             ('tasmania', <owslib.map.wms111.ContentMetadata at 0x10b1ca8d0>),\n",
       "             ('tiger-ny', <owslib.map.wms111.ContentMetadata at 0x10dac4978>),\n",
       "             ('nurc:Arc_Sample',\n",
       "              <owslib.map.wms111.ContentMetadata at 0x10daa2e10>),\n",
       "             ('nurc:Img_Sample',\n",
       "              <owslib.map.wms111.ContentMetadata at 0x10dad4080>),\n",
       "             ('nurc:Pk50095',\n",
       "              <owslib.map.wms111.ContentMetadata at 0x10dad47b8>),\n",
       "             ('ncy_roads:TRIPLESAT_1_PAN_L1_20160506094728_000443VI_020_20160630009001_001001_browser',\n",
       "              <owslib.map.wms111.ContentMetadata at 0x10dad1048>),\n",
       "             ('sf:archsites',\n",
       "              <owslib.map.wms111.ContentMetadata at 0x10dad11d0>),\n",
       "             ('sf:bugsites',\n",
       "              <owslib.map.wms111.ContentMetadata at 0x10dad1438>),\n",
       "             ('tiger:giant_polygon',\n",
       "              <owslib.map.wms111.ContentMetadata at 0x10dad14a8>),\n",
       "             ('nurc:mosaic',\n",
       "              <owslib.map.wms111.ContentMetadata at 0x10dad15f8>),\n",
       "             ('ncy_roads:nyc_roads',\n",
       "              <owslib.map.wms111.ContentMetadata at 0x10dad16d8>),\n",
       "             ('tiger:poi', <owslib.map.wms111.ContentMetadata at 0x10dad1828>),\n",
       "             ('tiger:poly_landmarks',\n",
       "              <owslib.map.wms111.ContentMetadata at 0x10dad19b0>),\n",
       "             ('sf:restricted',\n",
       "              <owslib.map.wms111.ContentMetadata at 0x10dad1b00>),\n",
       "             ('sf:roads', <owslib.map.wms111.ContentMetadata at 0x10dad1c50>),\n",
       "             ('sf:sfdem', <owslib.map.wms111.ContentMetadata at 0x10dad1d68>),\n",
       "             ('topp:states',\n",
       "              <owslib.map.wms111.ContentMetadata at 0x10dad1ef0>),\n",
       "             ('sf:streams',\n",
       "              <owslib.map.wms111.ContentMetadata at 0x10dad1eb8>),\n",
       "             ('topp:tasmania_cities',\n",
       "              <owslib.map.wms111.ContentMetadata at 0x10dad7128>),\n",
       "             ('topp:tasmania_roads',\n",
       "              <owslib.map.wms111.ContentMetadata at 0x10dad7390>),\n",
       "             ('topp:tasmania_state_boundaries',\n",
       "              <owslib.map.wms111.ContentMetadata at 0x10dad7438>),\n",
       "             ('topp:tasmania_water_bodies',\n",
       "              <owslib.map.wms111.ContentMetadata at 0x10dad7588>),\n",
       "             ('tiger:tiger_roads',\n",
       "              <owslib.map.wms111.ContentMetadata at 0x10dad7630>)])"
      ]
     },
     "execution_count": 7,
     "metadata": {},
     "output_type": "execute_result"
    }
   ],
   "source": [
    "wms.contents"
   ]
  },
  {
   "cell_type": "code",
   "execution_count": 8,
   "metadata": {},
   "outputs": [
    {
     "data": {
      "text/plain": [
       "'http://localhost:8080/geoserver/wfs'"
      ]
     },
     "execution_count": 8,
     "metadata": {},
     "output_type": "execute_result"
    }
   ],
   "source": [
    "wms.url"
   ]
  },
  {
   "cell_type": "code",
   "execution_count": 10,
   "metadata": {},
   "outputs": [
    {
     "data": {
      "text/plain": [
       "[('spearfish', <owslib.map.wms111.ContentMetadata at 0x10dac3240>),\n",
       " ('tasmania', <owslib.map.wms111.ContentMetadata at 0x10b1ca8d0>),\n",
       " ('tiger-ny', <owslib.map.wms111.ContentMetadata at 0x10dac4978>),\n",
       " ('nurc:Arc_Sample', <owslib.map.wms111.ContentMetadata at 0x10daa2e10>),\n",
       " ('nurc:Img_Sample', <owslib.map.wms111.ContentMetadata at 0x10dad4080>),\n",
       " ('nurc:Pk50095', <owslib.map.wms111.ContentMetadata at 0x10dad47b8>),\n",
       " ('ncy_roads:TRIPLESAT_1_PAN_L1_20160506094728_000443VI_020_20160630009001_001001_browser',\n",
       "  <owslib.map.wms111.ContentMetadata at 0x10dad1048>),\n",
       " ('sf:archsites', <owslib.map.wms111.ContentMetadata at 0x10dad11d0>),\n",
       " ('sf:bugsites', <owslib.map.wms111.ContentMetadata at 0x10dad1438>),\n",
       " ('tiger:giant_polygon', <owslib.map.wms111.ContentMetadata at 0x10dad14a8>),\n",
       " ('nurc:mosaic', <owslib.map.wms111.ContentMetadata at 0x10dad15f8>),\n",
       " ('ncy_roads:nyc_roads', <owslib.map.wms111.ContentMetadata at 0x10dad16d8>),\n",
       " ('tiger:poi', <owslib.map.wms111.ContentMetadata at 0x10dad1828>),\n",
       " ('tiger:poly_landmarks', <owslib.map.wms111.ContentMetadata at 0x10dad19b0>),\n",
       " ('sf:restricted', <owslib.map.wms111.ContentMetadata at 0x10dad1b00>),\n",
       " ('sf:roads', <owslib.map.wms111.ContentMetadata at 0x10dad1c50>),\n",
       " ('sf:sfdem', <owslib.map.wms111.ContentMetadata at 0x10dad1d68>),\n",
       " ('topp:states', <owslib.map.wms111.ContentMetadata at 0x10dad1ef0>),\n",
       " ('sf:streams', <owslib.map.wms111.ContentMetadata at 0x10dad1eb8>),\n",
       " ('topp:tasmania_cities', <owslib.map.wms111.ContentMetadata at 0x10dad7128>),\n",
       " ('topp:tasmania_roads', <owslib.map.wms111.ContentMetadata at 0x10dad7390>),\n",
       " ('topp:tasmania_state_boundaries',\n",
       "  <owslib.map.wms111.ContentMetadata at 0x10dad7438>),\n",
       " ('topp:tasmania_water_bodies',\n",
       "  <owslib.map.wms111.ContentMetadata at 0x10dad7588>),\n",
       " ('tiger:tiger_roads', <owslib.map.wms111.ContentMetadata at 0x10dad7630>)]"
      ]
     },
     "execution_count": 10,
     "metadata": {},
     "output_type": "execute_result"
    }
   ],
   "source": [
    "wms.items()"
   ]
  },
  {
   "cell_type": "code",
   "execution_count": null,
   "metadata": {},
   "outputs": [],
   "source": []
  }
 ],
 "metadata": {
  "kernelspec": {
   "display_name": "Python 3",
   "language": "python",
   "name": "python3"
  },
  "language_info": {
   "codemirror_mode": {
    "name": "ipython",
    "version": 3
   },
   "file_extension": ".py",
   "mimetype": "text/x-python",
   "name": "python",
   "nbconvert_exporter": "python",
   "pygments_lexer": "ipython3",
   "version": "3.6.5"
  }
 },
 "nbformat": 4,
 "nbformat_minor": 2
}
