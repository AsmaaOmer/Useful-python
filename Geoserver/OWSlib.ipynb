{
 "cells": [
  {
   "cell_type": "markdown",
   "metadata": {},
   "source": [
    "https://github.com/geopython/OWSLib\n",
    "\n",
    "Use to query an OWS, e.g. Geoserver"
   ]
  },
  {
   "cell_type": "code",
   "execution_count": 1,
   "metadata": {},
   "outputs": [],
   "source": [
    "from owslib.wms import WebMapService"
   ]
  },
  {
   "cell_type": "code",
   "execution_count": 2,
   "metadata": {},
   "outputs": [],
   "source": [
    "wms = WebMapService(\"http://localhost:8080/geoserver/wfs\", username=\"admin\", password=\"geoserver\")"
   ]
  },
  {
   "cell_type": "code",
   "execution_count": 6,
   "metadata": {},
   "outputs": [
    {
     "data": {
      "text/plain": [
       "'OGC:WMS'"
      ]
     },
     "execution_count": 6,
     "metadata": {},
     "output_type": "execute_result"
    }
   ],
   "source": [
    "wms.identification.type"
   ]
  },
  {
   "cell_type": "code",
   "execution_count": 4,
   "metadata": {},
   "outputs": [
    {
     "data": {
      "text/plain": [
       "'http://localhost:8080/geoserver/wfs'"
      ]
     },
     "execution_count": 4,
     "metadata": {},
     "output_type": "execute_result"
    }
   ],
   "source": [
    "wms.url"
   ]
  },
  {
   "cell_type": "markdown",
   "metadata": {},
   "source": [
    "List available layers - these are the geoserver layers (note we have 21 layers on geoserver but 24 listed here) "
   ]
  },
  {
   "cell_type": "code",
   "execution_count": 9,
   "metadata": {},
   "outputs": [
    {
     "data": {
      "text/plain": [
       "['spearfish',\n",
       " 'tasmania',\n",
       " 'tiger-ny',\n",
       " 'nurc:Arc_Sample',\n",
       " 'nurc:Img_Sample',\n",
       " 'nurc:Pk50095',\n",
       " 'ncy_roads:TRIPLESAT_1_PAN_L1_20160506094728_000443VI_020_20160630009001_001001_browser',\n",
       " 'sf:archsites',\n",
       " 'sf:bugsites',\n",
       " 'tiger:giant_polygon',\n",
       " 'nurc:mosaic',\n",
       " 'ncy_roads:nyc_roads',\n",
       " 'tiger:poi',\n",
       " 'tiger:poly_landmarks',\n",
       " 'sf:restricted',\n",
       " 'sf:roads',\n",
       " 'sf:sfdem',\n",
       " 'topp:states',\n",
       " 'sf:streams',\n",
       " 'topp:tasmania_cities',\n",
       " 'topp:tasmania_roads',\n",
       " 'topp:tasmania_state_boundaries',\n",
       " 'topp:tasmania_water_bodies',\n",
       " 'tiger:tiger_roads']"
      ]
     },
     "execution_count": 9,
     "metadata": {},
     "output_type": "execute_result"
    }
   ],
   "source": [
    "list(wms.contents)"
   ]
  },
  {
   "cell_type": "markdown",
   "metadata": {},
   "source": [
    "Details of a layer:"
   ]
  },
  {
   "cell_type": "code",
   "execution_count": 14,
   "metadata": {},
   "outputs": [
    {
     "data": {
      "text/plain": [
       "'nyc_roads'"
      ]
     },
     "execution_count": 14,
     "metadata": {},
     "output_type": "execute_result"
    }
   ],
   "source": [
    "wms['ncy_roads:nyc_roads'].title"
   ]
  },
  {
   "cell_type": "markdown",
   "metadata": {},
   "source": [
    "Available methods, their URLs, and available formats:"
   ]
  },
  {
   "cell_type": "code",
   "execution_count": 12,
   "metadata": {},
   "outputs": [
    {
     "data": {
      "text/plain": [
       "['GetCapabilities',\n",
       " 'GetMap',\n",
       " 'GetFeatureInfo',\n",
       " 'DescribeLayer',\n",
       " 'GetLegendGraphic',\n",
       " 'GetStyles']"
      ]
     },
     "execution_count": 12,
     "metadata": {},
     "output_type": "execute_result"
    }
   ],
   "source": [
    "[op.name for op in wms.operations]"
   ]
  },
  {
   "cell_type": "code",
   "execution_count": 15,
   "metadata": {},
   "outputs": [
    {
     "data": {
      "text/plain": [
       "[{'type': 'Get', 'url': 'http://localhost:8080/geoserver/wms?SERVICE=WMS&'}]"
      ]
     },
     "execution_count": 15,
     "metadata": {},
     "output_type": "execute_result"
    }
   ],
   "source": [
    "wms.getOperationByName('GetMap').methods"
   ]
  },
  {
   "cell_type": "code",
   "execution_count": 13,
   "metadata": {},
   "outputs": [
    {
     "data": {
      "text/plain": [
       "['image/png',\n",
       " 'application/atom xml',\n",
       " 'application/atom+xml',\n",
       " 'application/json;type=utfgrid',\n",
       " 'application/openlayers',\n",
       " 'application/openlayers2',\n",
       " 'application/openlayers3',\n",
       " 'application/pdf',\n",
       " 'application/rss xml',\n",
       " 'application/rss+xml',\n",
       " 'application/vnd.google-earth.kml',\n",
       " 'application/vnd.google-earth.kml xml',\n",
       " 'application/vnd.google-earth.kml+xml',\n",
       " 'application/vnd.google-earth.kml+xml;mode=networklink',\n",
       " 'application/vnd.google-earth.kmz',\n",
       " 'application/vnd.google-earth.kmz xml',\n",
       " 'application/vnd.google-earth.kmz+xml',\n",
       " 'application/vnd.google-earth.kmz;mode=networklink',\n",
       " 'atom',\n",
       " 'image/geotiff',\n",
       " 'image/geotiff8',\n",
       " 'image/gif',\n",
       " 'image/gif;subtype=animated',\n",
       " 'image/jpeg',\n",
       " 'image/png8',\n",
       " 'image/png; mode=8bit',\n",
       " 'image/svg',\n",
       " 'image/svg xml',\n",
       " 'image/svg+xml',\n",
       " 'image/tiff',\n",
       " 'image/tiff8',\n",
       " 'image/vnd.jpeg-png',\n",
       " 'kml',\n",
       " 'kmz',\n",
       " 'openlayers',\n",
       " 'rss',\n",
       " 'text/html; subtype=openlayers',\n",
       " 'text/html; subtype=openlayers2',\n",
       " 'text/html; subtype=openlayers3',\n",
       " 'utfgrid']"
      ]
     },
     "execution_count": 13,
     "metadata": {},
     "output_type": "execute_result"
    }
   ],
   "source": [
    "wms.getOperationByName('GetMap').formatOptions"
   ]
  },
  {
   "cell_type": "code",
   "execution_count": null,
   "metadata": {},
   "outputs": [],
   "source": []
  }
 ],
 "metadata": {
  "kernelspec": {
   "display_name": "Python 3",
   "language": "python",
   "name": "python3"
  },
  "language_info": {
   "codemirror_mode": {
    "name": "ipython",
    "version": 3
   },
   "file_extension": ".py",
   "mimetype": "text/x-python",
   "name": "python",
   "nbconvert_exporter": "python",
   "pygments_lexer": "ipython3",
   "version": "3.6.5"
  }
 },
 "nbformat": 4,
 "nbformat_minor": 2
}
