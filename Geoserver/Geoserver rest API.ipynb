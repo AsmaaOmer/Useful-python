{
 "cells": [
  {
   "cell_type": "markdown",
   "metadata": {},
   "source": [
    "## Geoserver rest API\n",
    "* Useful link: curl to requests at https://curl.trillworks.com/\n",
    "* Server running at http://localhost:8080/geoserver\n",
    "\n",
    "First demo a get with CURL following [the basic docs](https://docs.geoserver.org/latest/en/user/rest/api/details.html). Note that `Content-type` can be XML, JSON, ZIP amonst others.\n",
    "\n",
    "First in XML"
   ]
  },
  {
   "cell_type": "code",
   "execution_count": 1,
   "metadata": {},
   "outputs": [
    {
     "name": "stdout",
     "output_type": "stream",
     "text": [
      "<about>\n",
      "  <resource name=\"GeoServer\">\n",
      "    <Build-Timestamp>21-Sep-2018 20:18</Build-Timestamp>\n",
      "    <Version>2.14.0</Version>\n",
      "    <Git-Revision>2ecf6413b0d5d304c7dc23d8d7e9f3cfad29f37c</Git-Revision>\n",
      "  </resource>\n",
      "  <resource name=\"GeoTools\">\n",
      "    <Build-Timestamp>21-Sep-2018 16:31</Build-Timestamp>\n",
      "    <Version>20.0</Version>\n",
      "    <Git-Revision>ffc271f317c04e714ea44a4879dd4601bd723d5e</Git-Revision>\n",
      "  </resource>\n",
      "  <resource name=\"GeoWebCache\">\n",
      "    <Version>1.14.0</Version>\n",
      "    <Git-Revision>1.14.x/775e94eb2ae59dd9b74aecc709b67d7b968a4317</Git-Revision>\n",
      "  </resource>\n",
      "</about>"
     ]
    }
   ],
   "source": [
    "!curl -u admin:geoserver -XGET -H \"Accept: text/xml\" http://localhost:8080/geoserver/rest/about/version.xml"
   ]
  },
  {
   "cell_type": "markdown",
   "metadata": {},
   "source": [
    "Alternatively using json"
   ]
  },
  {
   "cell_type": "code",
   "execution_count": 2,
   "metadata": {},
   "outputs": [
    {
     "name": "stdout",
     "output_type": "stream",
     "text": [
      "{\"about\":{\"resource\":[{\"@name\":\"GeoServer\",\"Build-Timestamp\":\"21-Sep-2018 20:18\",\"Version\":\"2.14.0\",\"Git-Revision\":\"2ecf6413b0d5d304c7dc23d8d7e9f3cfad29f37c\"},{\"@name\":\"GeoTools\",\"Build-Timestamp\":\"21-Sep-2018 16:31\",\"Version\":20,\"Git-Revision\":\"ffc271f317c04e714ea44a4879dd4601bd723d5e\"},{\"@name\":\"GeoWebCache\",\"Version\":\"1.14.0\",\"Git-Revision\":\"1.14.x\\/775e94eb2ae59dd9b74aecc709b67d7b968a4317\"}]}}"
     ]
    }
   ],
   "source": [
    "!curl -u admin:geoserver -XGET -H \"Accept: text/json\" http://localhost:8080/geoserver/rest/about/version.json"
   ]
  },
  {
   "cell_type": "markdown",
   "metadata": {},
   "source": [
    "Now use requests"
   ]
  },
  {
   "cell_type": "code",
   "execution_count": 10,
   "metadata": {},
   "outputs": [],
   "source": [
    "import requests\n",
    "\n",
    "headers = {\n",
    "    'Accept': 'text/json',\n",
    "}\n",
    "\n",
    "username = 'admin'\n",
    "password = 'geoserver'\n",
    "auth = requests.auth.HTTPBasicAuth(username, password)\n",
    "\n",
    "url = \"http://localhost:8080/geoserver/rest/about/version.json\"\n",
    "response = requests.get(url, headers=headers, auth=auth)"
   ]
  },
  {
   "cell_type": "code",
   "execution_count": 11,
   "metadata": {},
   "outputs": [
    {
     "data": {
      "text/plain": [
       "{'about': {'resource': [{'@name': 'GeoServer',\n",
       "    'Build-Timestamp': '21-Sep-2018 20:18',\n",
       "    'Version': '2.14.0',\n",
       "    'Git-Revision': '2ecf6413b0d5d304c7dc23d8d7e9f3cfad29f37c'},\n",
       "   {'@name': 'GeoTools',\n",
       "    'Build-Timestamp': '21-Sep-2018 16:31',\n",
       "    'Version': 20,\n",
       "    'Git-Revision': 'ffc271f317c04e714ea44a4879dd4601bd723d5e'},\n",
       "   {'@name': 'GeoWebCache',\n",
       "    'Version': '1.14.0',\n",
       "    'Git-Revision': '1.14.x/775e94eb2ae59dd9b74aecc709b67d7b968a4317'}]}}"
      ]
     },
     "execution_count": 11,
     "metadata": {},
     "output_type": "execute_result"
    }
   ],
   "source": [
    "response.json()"
   ]
  },
  {
   "cell_type": "code",
   "execution_count": 12,
   "metadata": {},
   "outputs": [
    {
     "data": {
      "text/plain": [
       "['GeoServer', 'GeoTools', 'GeoWebCache']"
      ]
     },
     "execution_count": 12,
     "metadata": {},
     "output_type": "execute_result"
    }
   ],
   "source": [
    "[resource['@name'] for resource in response.json()['about']['resource']]"
   ]
  },
  {
   "cell_type": "markdown",
   "metadata": {},
   "source": [
    "## Settings\n",
    "Get the geoserver settings"
   ]
  },
  {
   "cell_type": "code",
   "execution_count": 21,
   "metadata": {},
   "outputs": [
    {
     "data": {
      "text/plain": [
       "{'global': {'settings': {'id': 'SettingsInfoImpl-68f6c583:154ca420c47:-8000',\n",
       "   'contact': {'addressCity': 'Alexandria',\n",
       "    'addressCountry': 'Egypt',\n",
       "    'addressType': 'Work',\n",
       "    'contactEmail': 'claudius.ptolomaeus@gmail.com',\n",
       "    'contactOrganization': 'Squibbers',\n",
       "    'contactPerson': 'Rob',\n",
       "    'contactPosition': 'Chief Geographer'},\n",
       "   'charset': 'UTF-8',\n",
       "   'numDecimals': 8,\n",
       "   'onlineResource': 'http://geoserver.org',\n",
       "   'verbose': False,\n",
       "   'verboseExceptions': False,\n",
       "   'localWorkspaceIncludesPrefix': False},\n",
       "  'jai': {'allowInterpolation': False,\n",
       "   'recycling': False,\n",
       "   'tilePriority': 5,\n",
       "   'tileThreads': 7,\n",
       "   'memoryCapacity': 0.5,\n",
       "   'memoryThreshold': 0.75,\n",
       "   'imageIOCache': False,\n",
       "   'pngAcceleration': True,\n",
       "   'jpegAcceleration': True,\n",
       "   'allowNativeMosaic': False,\n",
       "   'allowNativeWarp': False},\n",
       "  'coverageAccess': {'maxPoolSize': 10,\n",
       "   'corePoolSize': 5,\n",
       "   'keepAliveTime': 30000,\n",
       "   'queueType': 'UNBOUNDED',\n",
       "   'imageIOCacheThreshold': 10240},\n",
       "  'updateSequence': 165,\n",
       "  'featureTypeCacheSize': 0,\n",
       "  'globalServices': True,\n",
       "  'xmlPostRequestLogBufferSize': 1024}}"
      ]
     },
     "execution_count": 21,
     "metadata": {},
     "output_type": "execute_result"
    }
   ],
   "source": [
    "url = \"http://localhost:8080/geoserver/rest/settings.json\"\n",
    "settings = requests.get(url, headers=headers, auth=auth).json()\n",
    "settings"
   ]
  },
  {
   "cell_type": "markdown",
   "metadata": {},
   "source": [
    "## Get workspaces\n",
    "* [Workspaces endpoint description](https://docs.geoserver.org/2.13.2/user/rest/api/workspaces.html)"
   ]
  },
  {
   "cell_type": "code",
   "execution_count": 14,
   "metadata": {},
   "outputs": [
    {
     "data": {
      "text/plain": [
       "{'workspaces': {'workspace': [{'name': 'cite',\n",
       "    'href': 'http://localhost:8080/geoserver/rest/workspaces/cite.json'},\n",
       "   {'name': 'tiger',\n",
       "    'href': 'http://localhost:8080/geoserver/rest/workspaces/tiger.json'},\n",
       "   {'name': 'nurc',\n",
       "    'href': 'http://localhost:8080/geoserver/rest/workspaces/nurc.json'},\n",
       "   {'name': 'sde',\n",
       "    'href': 'http://localhost:8080/geoserver/rest/workspaces/sde.json'},\n",
       "   {'name': 'it.geosolutions',\n",
       "    'href': 'http://localhost:8080/geoserver/rest/workspaces/it.geosolutions.json'},\n",
       "   {'name': 'topp',\n",
       "    'href': 'http://localhost:8080/geoserver/rest/workspaces/topp.json'},\n",
       "   {'name': 'sf',\n",
       "    'href': 'http://localhost:8080/geoserver/rest/workspaces/sf.json'},\n",
       "   {'name': 'ncy_roads',\n",
       "    'href': 'http://localhost:8080/geoserver/rest/workspaces/ncy_roads.json'}]}}"
      ]
     },
     "execution_count": 14,
     "metadata": {},
     "output_type": "execute_result"
    }
   ],
   "source": [
    "url = \"http://localhost:8080/geoserver/rest/workspaces.json\"\n",
    "workspaces = requests.get(url, headers=headers, auth=auth).json()\n",
    "workspaces"
   ]
  },
  {
   "cell_type": "code",
   "execution_count": 19,
   "metadata": {},
   "outputs": [
    {
     "data": {
      "text/plain": [
       "['cite', 'tiger', 'nurc', 'sde', 'it.geosolutions', 'topp', 'sf', 'ncy_roads']"
      ]
     },
     "execution_count": 19,
     "metadata": {},
     "output_type": "execute_result"
    }
   ],
   "source": [
    "workspaces = [workspace['name'] for workspace in workspaces['workspaces']['workspace']]\n",
    "workspaces"
   ]
  },
  {
   "cell_type": "code",
   "execution_count": 20,
   "metadata": {},
   "outputs": [
    {
     "name": "stdout",
     "output_type": "stream",
     "text": [
      "There are 8 workspaces\n"
     ]
    }
   ],
   "source": [
    "print(f\"There are { len(workspaces) } workspaces\")"
   ]
  },
  {
   "cell_type": "markdown",
   "metadata": {},
   "source": [
    "## Data stores\n",
    "[List all datastores in a workspace](https://docs.geoserver.org/2.13.2/user/rest/api/datastores.html)"
   ]
  },
  {
   "cell_type": "code",
   "execution_count": 29,
   "metadata": {},
   "outputs": [
    {
     "name": "stdout",
     "output_type": "stream",
     "text": [
      "http://localhost:8080/geoserver/rest/workspaces/ncy_roads/datastores.json\n"
     ]
    },
    {
     "data": {
      "text/plain": [
       "{'dataStores': {'dataStore': [{'name': 'NYC Roads',\n",
       "    'href': 'http://localhost:8080/geoserver/rest/workspaces/ncy_roads/datastores/NYC+Roads.json'},\n",
       "   {'name': 'nyc_buildings',\n",
       "    'href': 'http://localhost:8080/geoserver/rest/workspaces/ncy_roads/datastores/nyc_buildings.json'}]}}"
      ]
     },
     "execution_count": 29,
     "metadata": {},
     "output_type": "execute_result"
    }
   ],
   "source": [
    "workspace = 'ncy_roads'\n",
    "url = f\"http://localhost:8080/geoserver/rest/workspaces/{workspace}/datastores.json\"\n",
    "print(url)\n",
    "stores = requests.get(url, headers=headers, auth=auth).json()\n",
    "stores"
   ]
  },
  {
   "cell_type": "code",
   "execution_count": 32,
   "metadata": {},
   "outputs": [
    {
     "data": {
      "text/plain": [
       "['NYC Roads', 'nyc_buildings']"
      ]
     },
     "execution_count": 32,
     "metadata": {},
     "output_type": "execute_result"
    }
   ],
   "source": [
    "stores = [store['name'] for store in stores['dataStores']['dataStore']]\n",
    "stores"
   ]
  },
  {
   "cell_type": "markdown",
   "metadata": {},
   "source": [
    "# Post to Geoserver\n",
    "Lets now post some data to Geoserver. The [Geoserver rest examples](https://docs.geoserver.org/latest/en/user/rest/api/index.html) give some advice"
   ]
  },
  {
   "cell_type": "markdown",
   "metadata": {},
   "source": [
    "Using requests files are posted like:\n",
    "```python\n",
    "url = 'https://httpbin.org/post'\n",
    "files = {'file': open('report.xls', 'rb')}\n",
    "\n",
    "r = requests.post(url, files=files)\n",
    ">>> r.text\n",
    "```"
   ]
  },
  {
   "cell_type": "code",
   "execution_count": null,
   "metadata": {},
   "outputs": [],
   "source": []
  }
 ],
 "metadata": {
  "kernelspec": {
   "display_name": "Python 3",
   "language": "python",
   "name": "python3"
  },
  "language_info": {
   "codemirror_mode": {
    "name": "ipython",
    "version": 3
   },
   "file_extension": ".py",
   "mimetype": "text/x-python",
   "name": "python",
   "nbconvert_exporter": "python",
   "pygments_lexer": "ipython3",
   "version": "3.6.5"
  }
 },
 "nbformat": 4,
 "nbformat_minor": 2
}
