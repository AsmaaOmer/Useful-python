{
 "cells": [
  {
   "cell_type": "markdown",
   "metadata": {},
   "source": [
    "## Geoserver rest API\n",
    "* [API docs](https://docs.geoserver.org/latest/en/user/rest/index.html#rest) BROKEN\n",
    "* [API legacy](https://docs.geoserver.org/2.13.2/user/rest/api/index.html#rest-api)\n",
    "* XML :-/\n",
    "* Useful link: curl to requests at https://curl.trillworks.com/\n",
    "* Server running at http://localhost:8080/geoserver\n",
    "\n",
    "First demo a get with CURL following [the basic docs](https://docs.geoserver.org/latest/en/user/rest/api/details.html). Note that `Content-type` can be XML, JSON, ZIP amonst others"
   ]
  },
  {
   "cell_type": "code",
   "execution_count": 1,
   "metadata": {},
   "outputs": [
    {
     "name": "stdout",
     "output_type": "stream",
     "text": [
      "<about>\n",
      "  <resource name=\"GeoServer\">\n",
      "    <Build-Timestamp>21-Sep-2018 20:18</Build-Timestamp>\n",
      "    <Version>2.14.0</Version>\n",
      "    <Git-Revision>2ecf6413b0d5d304c7dc23d8d7e9f3cfad29f37c</Git-Revision>\n",
      "  </resource>\n",
      "  <resource name=\"GeoTools\">\n",
      "    <Build-Timestamp>21-Sep-2018 16:31</Build-Timestamp>\n",
      "    <Version>20.0</Version>\n",
      "    <Git-Revision>ffc271f317c04e714ea44a4879dd4601bd723d5e</Git-Revision>\n",
      "  </resource>\n",
      "  <resource name=\"GeoWebCache\">\n",
      "    <Version>1.14.0</Version>\n",
      "    <Git-Revision>1.14.x/775e94eb2ae59dd9b74aecc709b67d7b968a4317</Git-Revision>\n",
      "  </resource>\n",
      "</about>"
     ]
    }
   ],
   "source": [
    "!curl -u admin:geoserver -XGET -H \"Accept: text/xml\" http://localhost:8080/geoserver/rest/about/version.xml"
   ]
  },
  {
   "cell_type": "markdown",
   "metadata": {},
   "source": [
    "Alternatively using json"
   ]
  },
  {
   "cell_type": "code",
   "execution_count": 2,
   "metadata": {},
   "outputs": [
    {
     "name": "stdout",
     "output_type": "stream",
     "text": [
      "{\"about\":{\"resource\":[{\"@name\":\"GeoServer\",\"Build-Timestamp\":\"21-Sep-2018 20:18\",\"Version\":\"2.14.0\",\"Git-Revision\":\"2ecf6413b0d5d304c7dc23d8d7e9f3cfad29f37c\"},{\"@name\":\"GeoTools\",\"Build-Timestamp\":\"21-Sep-2018 16:31\",\"Version\":20,\"Git-Revision\":\"ffc271f317c04e714ea44a4879dd4601bd723d5e\"},{\"@name\":\"GeoWebCache\",\"Version\":\"1.14.0\",\"Git-Revision\":\"1.14.x\\/775e94eb2ae59dd9b74aecc709b67d7b968a4317\"}]}}"
     ]
    }
   ],
   "source": [
    "!curl -u admin:geoserver -XGET -H \"Accept: text/json\" http://localhost:8080/geoserver/rest/about/version.json"
   ]
  },
  {
   "cell_type": "markdown",
   "metadata": {},
   "source": [
    "Now use requests"
   ]
  },
  {
   "cell_type": "code",
   "execution_count": 3,
   "metadata": {},
   "outputs": [],
   "source": [
    "import requests\n",
    "\n",
    "headers = {\n",
    "    'Accept': 'text/json',\n",
    "}\n",
    "\n",
    "\n",
    "response = requests.get('http://localhost:8080/geoserver/rest/about/version.json', headers=headers, auth=('admin', 'geoserver'))\n",
    "\n",
    "#NB. Original query string below. It seems impossible to parse and\n",
    "#reproduce query strings 100% accurately so the one below is given\n",
    "#in case the reproduced version is not \"correct\".\n",
    "# response = requests.get('http://localhost:8080/geoserver/rest/about/manifest.xml?key=GeoServerModule', headers=headers, auth=('admin', 'geoserver'))\n"
   ]
  },
  {
   "cell_type": "code",
   "execution_count": 4,
   "metadata": {},
   "outputs": [
    {
     "name": "stdout",
     "output_type": "stream",
     "text": [
      "{\"about\":{\"resource\":[{\"@name\":\"GeoServer\",\"Build-Timestamp\":\"21-Sep-2018 20:18\",\"Version\":\"2.14.0\",\"Git-Revision\":\"2ecf6413b0d5d304c7dc23d8d7e9f3cfad29f37c\"},{\"@name\":\"GeoTools\",\"Build-Timestamp\":\"21-Sep-2018 16:31\",\"Version\":20,\"Git-Revision\":\"ffc271f317c04e714ea44a4879dd4601bd723d5e\"},{\"@name\":\"GeoWebCache\",\"Version\":\"1.14.0\",\"Git-Revision\":\"1.14.x\\/775e94eb2ae59dd9b74aecc709b67d7b968a4317\"}]}}\n"
     ]
    }
   ],
   "source": [
    "print(response.text)"
   ]
  },
  {
   "cell_type": "markdown",
   "metadata": {},
   "source": [
    "Lets convert this json string to a python dict"
   ]
  },
  {
   "cell_type": "code",
   "execution_count": 5,
   "metadata": {},
   "outputs": [],
   "source": [
    "import json"
   ]
  },
  {
   "cell_type": "code",
   "execution_count": 6,
   "metadata": {},
   "outputs": [
    {
     "data": {
      "text/plain": [
       "{'about': {'resource': [{'@name': 'GeoServer',\n",
       "    'Build-Timestamp': '21-Sep-2018 20:18',\n",
       "    'Version': '2.14.0',\n",
       "    'Git-Revision': '2ecf6413b0d5d304c7dc23d8d7e9f3cfad29f37c'},\n",
       "   {'@name': 'GeoTools',\n",
       "    'Build-Timestamp': '21-Sep-2018 16:31',\n",
       "    'Version': 20,\n",
       "    'Git-Revision': 'ffc271f317c04e714ea44a4879dd4601bd723d5e'},\n",
       "   {'@name': 'GeoWebCache',\n",
       "    'Version': '1.14.0',\n",
       "    'Git-Revision': '1.14.x/775e94eb2ae59dd9b74aecc709b67d7b968a4317'}]}}"
      ]
     },
     "execution_count": 6,
     "metadata": {},
     "output_type": "execute_result"
    }
   ],
   "source": [
    "data_dict = json.loads(response.text)\n",
    "data_dict"
   ]
  },
  {
   "cell_type": "markdown",
   "metadata": {},
   "source": [
    "Nice, so no need to use [requests-xml](https://github.com/erinxocon/requests-xml/)"
   ]
  },
  {
   "cell_type": "code",
   "execution_count": 7,
   "metadata": {},
   "outputs": [
    {
     "data": {
      "text/plain": [
       "['GeoServer', 'GeoTools', 'GeoWebCache']"
      ]
     },
     "execution_count": 7,
     "metadata": {},
     "output_type": "execute_result"
    }
   ],
   "source": [
    "[resource['@name'] for resource in data_dict['about']['resource']]"
   ]
  },
  {
   "cell_type": "markdown",
   "metadata": {},
   "source": [
    "# Post to Geoserver\n",
    "Lets now post some data to Geoserver. The [Geoserver rest examples](https://docs.geoserver.org/latest/en/user/rest/api/index.html) give some advice"
   ]
  },
  {
   "cell_type": "markdown",
   "metadata": {},
   "source": [
    "Using requests files are posted like:\n",
    "```python\n",
    "url = 'https://httpbin.org/post'\n",
    "files = {'file': open('report.xls', 'rb')}\n",
    "\n",
    "r = requests.post(url, files=files)\n",
    ">>> r.text\n",
    "```"
   ]
  },
  {
   "cell_type": "code",
   "execution_count": null,
   "metadata": {},
   "outputs": [],
   "source": []
  }
 ],
 "metadata": {
  "kernelspec": {
   "display_name": "Python 3",
   "language": "python",
   "name": "python3"
  },
  "language_info": {
   "codemirror_mode": {
    "name": "ipython",
    "version": 3
   },
   "file_extension": ".py",
   "mimetype": "text/x-python",
   "name": "python",
   "nbconvert_exporter": "python",
   "pygments_lexer": "ipython3",
   "version": "3.6.5"
  }
 },
 "nbformat": 4,
 "nbformat_minor": 2
}
