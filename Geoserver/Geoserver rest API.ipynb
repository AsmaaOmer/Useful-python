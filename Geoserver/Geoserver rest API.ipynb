{
 "cells": [
  {
   "cell_type": "markdown",
   "metadata": {},
   "source": [
    "## Geoserver rest API\n",
    "* [API docs](https://docs.geoserver.org/latest/en/user/rest/index.html#rest) BROKEN\n",
    "* [API legacy](https://docs.geoserver.org/2.13.2/user/rest/api/index.html#rest-api)\n",
    "* XML :-/\n",
    "* Useful link: curl to requests at https://curl.trillworks.com/"
   ]
  },
  {
   "cell_type": "code",
   "execution_count": 15,
   "metadata": {},
   "outputs": [
    {
     "name": "stdout",
     "output_type": "stream",
     "text": [
      "<about>\r\n",
      "  <resource name=\"GeoServer\">\r\n",
      "    <Build-Timestamp>21-Sep-2018 20:18</Build-Timestamp>\r\n",
      "    <Version>2.14.0</Version>\r\n",
      "    <Git-Revision>2ecf6413b0d5d304c7dc23d8d7e9f3cfad29f37c</Git-Revision>\r\n",
      "  </resource>\r\n",
      "  <resource name=\"GeoTools\">\r\n",
      "    <Build-Timestamp>21-Sep-2018 16:31</Build-Timestamp>\r\n",
      "    <Version>20.0</Version>\r\n",
      "    <Git-Revision>ffc271f317c04e714ea44a4879dd4601bd723d5e</Git-Revision>\r\n",
      "  </resource>\r\n",
      "  <resource name=\"GeoWebCache\">\r\n",
      "    <Version>1.14.0</Version>\r\n",
      "    <Git-Revision>1.14.x/775e94eb2ae59dd9b74aecc709b67d7b968a4317</Git-Revision>\r\n",
      "  </resource>\r\n",
      "</about>"
     ]
    }
   ],
   "source": [
    "!curl -u admin:geoserver -XGET -H \"Accept: text/xml\" http://localhost:8080/geoserver/rest/about/version.xml"
   ]
  },
  {
   "cell_type": "code",
   "execution_count": 16,
   "metadata": {},
   "outputs": [],
   "source": [
    "import requests\n",
    "\n",
    "headers = {\n",
    "    'Accept': 'text/xml',\n",
    "}\n",
    "\n",
    "\n",
    "response = requests.get('http://localhost:8080/geoserver/rest/about/version.xml', headers=headers, auth=('admin', 'geoserver'))\n",
    "\n",
    "#NB. Original query string below. It seems impossible to parse and\n",
    "#reproduce query strings 100% accurately so the one below is given\n",
    "#in case the reproduced version is not \"correct\".\n",
    "# response = requests.get('http://localhost:8080/geoserver/rest/about/manifest.xml?key=GeoServerModule', headers=headers, auth=('admin', 'geoserver'))\n"
   ]
  },
  {
   "cell_type": "code",
   "execution_count": 17,
   "metadata": {},
   "outputs": [
    {
     "data": {
      "text/plain": [
       "'<about>\\n  <resource name=\"GeoServer\">\\n    <Build-Timestamp>21-Sep-2018 20:18</Build-Timestamp>\\n    <Version>2.14.0</Version>\\n    <Git-Revision>2ecf6413b0d5d304c7dc23d8d7e9f3cfad29f37c</Git-Revision>\\n  </resource>\\n  <resource name=\"GeoTools\">\\n    <Build-Timestamp>21-Sep-2018 16:31</Build-Timestamp>\\n    <Version>20.0</Version>\\n    <Git-Revision>ffc271f317c04e714ea44a4879dd4601bd723d5e</Git-Revision>\\n  </resource>\\n  <resource name=\"GeoWebCache\">\\n    <Version>1.14.0</Version>\\n    <Git-Revision>1.14.x/775e94eb2ae59dd9b74aecc709b67d7b968a4317</Git-Revision>\\n  </resource>\\n</about>'"
      ]
     },
     "execution_count": 17,
     "metadata": {},
     "output_type": "execute_result"
    }
   ],
   "source": [
    "response.text"
   ]
  },
  {
   "cell_type": "markdown",
   "metadata": {},
   "source": [
    "Lets try [requests-xml](https://github.com/erinxocon/requests-xml/) installed with `requests-xml`, and we convert the response to json string and then to a python dict"
   ]
  },
  {
   "cell_type": "code",
   "execution_count": 4,
   "metadata": {},
   "outputs": [],
   "source": [
    "import json\n",
    "from requests_xml import XMLSession\n",
    "session = XMLSession()"
   ]
  },
  {
   "cell_type": "code",
   "execution_count": 18,
   "metadata": {},
   "outputs": [],
   "source": [
    "r = session.get('http://localhost:8080/geoserver/rest/about/version.xml', headers=headers, auth=('admin', 'geoserver'))"
   ]
  },
  {
   "cell_type": "code",
   "execution_count": 19,
   "metadata": {},
   "outputs": [],
   "source": [
    "json_data = r.xml.json()"
   ]
  },
  {
   "cell_type": "code",
   "execution_count": 20,
   "metadata": {},
   "outputs": [],
   "source": [
    "data_dict = json.loads(json_data)"
   ]
  },
  {
   "cell_type": "code",
   "execution_count": 22,
   "metadata": {},
   "outputs": [
    {
     "data": {
      "text/plain": [
       "{'about': {'resource': [{'@name': 'GeoServer',\n",
       "    'Build-Timestamp': {'$': '21-Sep-2018 20:18'},\n",
       "    'Version': {'$': '2.14.0'},\n",
       "    'Git-Revision': {'$': '2ecf6413b0d5d304c7dc23d8d7e9f3cfad29f37c'}},\n",
       "   {'@name': 'GeoTools',\n",
       "    'Build-Timestamp': {'$': '21-Sep-2018 16:31'},\n",
       "    'Version': {'$': 20.0},\n",
       "    'Git-Revision': {'$': 'ffc271f317c04e714ea44a4879dd4601bd723d5e'}},\n",
       "   {'@name': 'GeoWebCache',\n",
       "    'Version': {'$': '1.14.0'},\n",
       "    'Git-Revision': {'$': '1.14.x/775e94eb2ae59dd9b74aecc709b67d7b968a4317'}}]}}"
      ]
     },
     "execution_count": 22,
     "metadata": {},
     "output_type": "execute_result"
    }
   ],
   "source": [
    "data_dict"
   ]
  },
  {
   "cell_type": "code",
   "execution_count": 23,
   "metadata": {},
   "outputs": [
    {
     "data": {
      "text/plain": [
       "[{'@name': 'GeoServer',\n",
       "  'Build-Timestamp': {'$': '21-Sep-2018 20:18'},\n",
       "  'Version': {'$': '2.14.0'},\n",
       "  'Git-Revision': {'$': '2ecf6413b0d5d304c7dc23d8d7e9f3cfad29f37c'}},\n",
       " {'@name': 'GeoTools',\n",
       "  'Build-Timestamp': {'$': '21-Sep-2018 16:31'},\n",
       "  'Version': {'$': 20.0},\n",
       "  'Git-Revision': {'$': 'ffc271f317c04e714ea44a4879dd4601bd723d5e'}},\n",
       " {'@name': 'GeoWebCache',\n",
       "  'Version': {'$': '1.14.0'},\n",
       "  'Git-Revision': {'$': '1.14.x/775e94eb2ae59dd9b74aecc709b67d7b968a4317'}}]"
      ]
     },
     "execution_count": 23,
     "metadata": {},
     "output_type": "execute_result"
    }
   ],
   "source": [
    "data_dict['about']['resource']"
   ]
  },
  {
   "cell_type": "markdown",
   "metadata": {},
   "source": [
    "# Post to Geoserver\n",
    "The [Geoserver Cookbook](https://books.google.co.uk/books?id=oMaiBQAAQBAJ&pg=PT427&lpg=PT427&dq=geoserver+curl+csv&source=bl&ots=gXfsIuzbWA&sig=QxUba_R1xo-sdH4tfHjSAPQdk0M&hl=en&sa=X&ved=2ahUKEwj5rvqL9I_eAhXnIcAKHZhoD6AQ6AEwCHoECCkQAQ#v=onepage&q=geoserver%20curl%20csv&f=false) will be useful.\n",
    "\n",
    "Using requests files are posted like:\n",
    "```python\n",
    "url = 'https://httpbin.org/post'\n",
    "files = {'file': open('report.xls', 'rb')}\n",
    "\n",
    "r = requests.post(url, files=files)\n",
    ">>> r.text\n",
    "```"
   ]
  },
  {
   "cell_type": "code",
   "execution_count": null,
   "metadata": {},
   "outputs": [],
   "source": []
  }
 ],
 "metadata": {
  "kernelspec": {
   "display_name": "Python 3",
   "language": "python",
   "name": "python3"
  },
  "language_info": {
   "codemirror_mode": {
    "name": "ipython",
    "version": 3
   },
   "file_extension": ".py",
   "mimetype": "text/x-python",
   "name": "python",
   "nbconvert_exporter": "python",
   "pygments_lexer": "ipython3",
   "version": "3.6.5"
  }
 },
 "nbformat": 4,
 "nbformat_minor": 2
}
