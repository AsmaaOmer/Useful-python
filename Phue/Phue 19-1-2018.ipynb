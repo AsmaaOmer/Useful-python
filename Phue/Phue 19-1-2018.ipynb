{
 "cells": [
  {
   "cell_type": "markdown",
   "metadata": {},
   "source": [
    "https://github.com/studioimaginaire/phue \n",
    "\n",
    "Phue is a package for interacting with the Hue hub. \n",
    "\n",
    "I have 2 remotes, 1 tap, and 3 motion (+ temp and light) sensors. Hue also creates 'sensors' for presence ('HomeAway', 'Robins iPhone') as well as dimmer secnes."
   ]
  },
  {
   "cell_type": "code",
   "execution_count": 1,
   "metadata": {},
   "outputs": [],
   "source": [
    "from phue import Bridge\n",
    "from datetime import datetime, timedelta\n",
    "from functools import wraps"
   ]
  },
  {
   "cell_type": "markdown",
   "metadata": {},
   "source": [
    "First create dummy Throttle class stolen from https://gist.github.com/ChrisTM/5834503 as data updates will be throttled"
   ]
  },
  {
   "cell_type": "code",
   "execution_count": 2,
   "metadata": {},
   "outputs": [],
   "source": [
    "class Throttle(object):\n",
    "    \"\"\"\n",
    "    Decorator that prevents a function from being called more than once every\n",
    "    time period.\n",
    "    To create a function that cannot be called more than once a minute:\n",
    "        @throttle(minutes=1)\n",
    "        def my_fun():\n",
    "            pass\n",
    "    \"\"\"\n",
    "    def __init__(self, seconds=0, minutes=0, hours=0):\n",
    "        self.throttle_period = timedelta(\n",
    "            seconds=seconds, minutes=minutes, hours=hours\n",
    "        )\n",
    "        self.time_of_last_call = datetime.min\n",
    "\n",
    "    def __call__(self, fn):\n",
    "        @wraps(fn)\n",
    "        def wrapper(*args, **kwargs):\n",
    "            now = datetime.now()\n",
    "            time_since_last_call = now - self.time_of_last_call\n",
    "\n",
    "            if time_since_last_call > self.throttle_period:\n",
    "                self.time_of_last_call = now\n",
    "                return fn(*args, **kwargs)\n",
    "\n",
    "        return wrapper"
   ]
  },
  {
   "cell_type": "markdown",
   "metadata": {},
   "source": [
    "# Setup variables"
   ]
  },
  {
   "cell_type": "code",
   "execution_count": 3,
   "metadata": {},
   "outputs": [],
   "source": [
    "bridge_ip = '192.168.0.3'\n",
    "SCAN_INTERVAL = 1   # Seconds"
   ]
  },
  {
   "cell_type": "markdown",
   "metadata": {},
   "source": [
    "# Sensors\n",
    "Sensors are more simple than lights in some ways, as lights can be in groups. A significant part of the HA lights component is dealing with groups. \n",
    "\n",
    "For SML motion sensors we have the issue that Hue treates these device as 3 seperate sensors consisting of motion, temperature and light level. I prefer to group by device so need to have a routine which correctly ties sensors to a device. The dimmer remote has scenes but will ignore these."
   ]
  },
  {
   "cell_type": "markdown",
   "metadata": {},
   "source": [
    "Lets create a wrapper to the bridge object that throttles requests for sensor data."
   ]
  },
  {
   "cell_type": "code",
   "execution_count": 30,
   "metadata": {},
   "outputs": [],
   "source": [
    "class HueSensorData(object):\n",
    "    \"\"\"Get the latest sensor data.\"\"\"\n",
    "    # need to import phue\n",
    "    def __init__(self, bridge_ip):\n",
    "        \"\"\"Initialize the data object and count devices.\"\"\"\n",
    "        self._bridge = Bridge(bridge_ip)\n",
    "        self.update()  # Fetch data\n",
    "        \n",
    "    # Update only once in scan interval.\n",
    "    @Throttle(seconds=SCAN_INTERVAL)\n",
    "    def update(self):\n",
    "        \"\"\"Get the latest data but throttle requests.\"\"\"\n",
    "        self._data = self._bridge.get_sensor()\n",
    "        \n",
    "    @property\n",
    "    def data(self):\n",
    "        \"\"\"Return the data.\"\"\"\n",
    "        return self._data"
   ]
  },
  {
   "cell_type": "code",
   "execution_count": 31,
   "metadata": {},
   "outputs": [],
   "source": [
    "sensor_data_obj = HueSensorData(bridge_ip)"
   ]
  },
  {
   "cell_type": "markdown",
   "metadata": {},
   "source": [
    "lets get a list of the sensor id available in data"
   ]
  },
  {
   "cell_type": "code",
   "execution_count": 33,
   "metadata": {},
   "outputs": [
    {
     "data": {
      "text/plain": [
       "['1',\n",
       " '2',\n",
       " '3',\n",
       " '4',\n",
       " '5',\n",
       " '6',\n",
       " '7',\n",
       " '8',\n",
       " '9',\n",
       " '10',\n",
       " '11',\n",
       " '12',\n",
       " '13',\n",
       " '14',\n",
       " '15',\n",
       " '16',\n",
       " '18',\n",
       " '20',\n",
       " '21',\n",
       " '22',\n",
       " '23',\n",
       " '24']"
      ]
     },
     "execution_count": 33,
     "metadata": {},
     "output_type": "execute_result"
    }
   ],
   "source": [
    "sensor_id_list = list(sensor_data_obj.data.keys())\n",
    "sensor_id_list"
   ]
  },
  {
   "cell_type": "code",
   "execution_count": 34,
   "metadata": {},
   "outputs": [
    {
     "data": {
      "text/plain": [
       "{'config': {'alert': 'none',\n",
       "  'battery': 100,\n",
       "  'ledindication': False,\n",
       "  'on': True,\n",
       "  'pending': [],\n",
       "  'reachable': True,\n",
       "  'tholddark': 12853,\n",
       "  'tholdoffset': 7000,\n",
       "  'usertest': False},\n",
       " 'manufacturername': 'Philips',\n",
       " 'modelid': 'SML001',\n",
       " 'name': 'Hue ambient light sensor 2',\n",
       " 'state': {'dark': True,\n",
       "  'daylight': False,\n",
       "  'lastupdated': '2018-01-19T06:13:48',\n",
       "  'lightlevel': 0},\n",
       " 'swupdate': {'lastinstall': None, 'state': 'noupdates'},\n",
       " 'swversion': '6.1.0.18912',\n",
       " 'type': 'ZLLLightLevel',\n",
       " 'uniqueid': '00:17:88:01:02:00:b5:ce-02-0400'}"
      ]
     },
     "execution_count": 34,
     "metadata": {},
     "output_type": "execute_result"
    }
   ],
   "source": [
    "sensor_data_obj.data['10']"
   ]
  },
  {
   "cell_type": "code",
   "execution_count": 35,
   "metadata": {},
   "outputs": [
    {
     "name": "stdout",
     "output_type": "stream",
     "text": [
      "2, Remote bedroom : modelid = RWL021, device_id = dc-02\n",
      "4, Hue temperature sensor 1 : modelid = SML001, device_id = 28-02\n",
      "5, Hall Sensor : modelid = SML001, device_id = 28-02\n",
      "6, Hue ambient light sensor 1 : modelid = SML001, device_id = 28-02\n",
      "8, Hue temperature sensor 2 : modelid = SML001, device_id = ce-02\n",
      "9, Bedroom sensor : modelid = SML001, device_id = ce-02\n",
      "10, Hue ambient light sensor 2 : modelid = SML001, device_id = ce-02\n",
      "13, HomeAway : modelid = HOMEAWAY, device_id = L_01_\n",
      "14, Hue temperature sensor 3 : modelid = SML001, device_id = 9c-02\n",
      "15, Living room sensor : modelid = SML001, device_id = 9c-02\n",
      "16, Hue ambient light sensor 3 : modelid = SML001, device_id = 9c-02\n",
      "20, Living room remote : modelid = RWL021, device_id = 1e-02\n",
      "22, Hall remote : modelid = RWL021, device_id = 9c-02\n",
      "24, Hue Tap : modelid = ZGPSWITCH, device_id = 08-f2\n"
     ]
    }
   ],
   "source": [
    "for sensor_id in sensor_id_list:\n",
    "    obj = sensor_data_obj.data[sensor_id]\n",
    "    if obj['modelid'] in ['SML001', 'RWL021', 'ZGPSWITCH', 'HOMEAWAY']:\n",
    "        print(\"{}, {} : modelid = {}, device_id = {}\".format(sensor_id, obj['name'], obj['modelid'], obj['uniqueid'].split(':')[-1][0:5]))"
   ]
  },
  {
   "cell_type": "markdown",
   "metadata": {},
   "source": [
    "PHDL00 does not have a device_id"
   ]
  },
  {
   "cell_type": "markdown",
   "metadata": {},
   "source": [
    "So even though we have 1 device we have different names for its temperature and light level sensors. Associate these sensors by device_id. Lets create a HueSensor object."
   ]
  },
  {
   "cell_type": "code",
   "execution_count": 36,
   "metadata": {},
   "outputs": [],
   "source": [
    "class HueSensor(object):\n",
    "    \"\"\"Class to hold Hue Sensor basic info.\"\"\"\n",
    "\n",
    "    def __init__(self, sensor):\n",
    "        \"\"\"Initialise with a phue sensor object.\"\"\"\n",
    "        self._device_id = sensor['uniqueid'].split(':')[-1][0:5]\n",
    "        self._name = sensor['name']\n",
    "        self._model = sensor['modelid']\n",
    "        self._attributes = {}"
   ]
  },
  {
   "cell_type": "code",
   "execution_count": 37,
   "metadata": {},
   "outputs": [
    {
     "data": {
      "text/plain": [
       "{'config': {'alert': 'none',\n",
       "  'battery': 100,\n",
       "  'ledindication': False,\n",
       "  'on': True,\n",
       "  'pending': [],\n",
       "  'reachable': True,\n",
       "  'sensitivity': 2,\n",
       "  'sensitivitymax': 2,\n",
       "  'usertest': False},\n",
       " 'manufacturername': 'Philips',\n",
       " 'modelid': 'SML001',\n",
       " 'name': 'Hall Sensor',\n",
       " 'state': {'lastupdated': '2018-01-19T06:09:04', 'presence': False},\n",
       " 'swupdate': {'lastinstall': None, 'state': 'noupdates'},\n",
       " 'swversion': '6.1.0.18912',\n",
       " 'type': 'ZLLPresence',\n",
       " 'uniqueid': '00:17:88:01:02:00:af:28-02-0406'}"
      ]
     },
     "execution_count": 37,
     "metadata": {},
     "output_type": "execute_result"
    }
   ],
   "source": [
    "sensor_data_obj.data['5']"
   ]
  },
  {
   "cell_type": "code",
   "execution_count": 38,
   "metadata": {},
   "outputs": [],
   "source": [
    "hall_sensor = HueSensor(sensor_data_obj.data['5'])"
   ]
  },
  {
   "cell_type": "code",
   "execution_count": 39,
   "metadata": {},
   "outputs": [
    {
     "data": {
      "text/plain": [
       "'28-02'"
      ]
     },
     "execution_count": 39,
     "metadata": {},
     "output_type": "execute_result"
    }
   ],
   "source": [
    "hall_sensor._device_id"
   ]
  },
  {
   "cell_type": "markdown",
   "metadata": {},
   "source": [
    "Lets put the sensor objects in a list"
   ]
  },
  {
   "cell_type": "code",
   "execution_count": 28,
   "metadata": {},
   "outputs": [],
   "source": [
    "entities = []\n",
    "devices = {}  \n",
    "for sensor_id in sensor_id_list:\n",
    "    obj = sensor_data_obj.data[sensor_id]\n",
    "    if obj['modelid'][0:3] in ['SML', 'RWL', 'ZGP']:\n",
    "        entities.append(HueSensor(obj))\n",
    "        device_id = obj['uniqueid'].split(':')[-1][0:5]\n",
    "        if device_id not in devices:\n",
    "            devices.append(device_id)"
   ]
  },
  {
   "cell_type": "code",
   "execution_count": 29,
   "metadata": {},
   "outputs": [
    {
     "name": "stdout",
     "output_type": "stream",
     "text": [
      "14\n",
      "Remote bedroom\n",
      "Hue temperature sensor 1\n",
      "Hall Sensor\n",
      "Hue ambient light sensor 1\n",
      "Hue temperature sensor 2\n",
      "Bedroom sensor\n",
      "Hue ambient light sensor 2\n",
      "HomeAway\n",
      "Hue temperature sensor 3\n",
      "Living room sensor\n",
      "Hue ambient light sensor 3\n",
      "Living room remote\n",
      "Hall remote\n",
      "Hue Tap\n"
     ]
    }
   ],
   "source": [
    "print(len(entities))\n",
    "for e in entities:\n",
    "    print(e._name)"
   ]
  },
  {
   "cell_type": "markdown",
   "metadata": {},
   "source": [
    "My unique devices"
   ]
  },
  {
   "cell_type": "code",
   "execution_count": 16,
   "metadata": {},
   "outputs": [
    {
     "name": "stdout",
     "output_type": "stream",
     "text": [
      "7\n",
      "['dc-02', '28-02', 'ce-02', 'L_01_', '9c-02', '1e-02', '08-f2']\n"
     ]
    }
   ],
   "source": [
    "print(len(devices))\n",
    "print(devices)"
   ]
  },
  {
   "cell_type": "code",
   "execution_count": null,
   "metadata": {},
   "outputs": [],
   "source": [
    "        self._devices = []  # List to keep valid devices\n",
    "        for key, obj in self._data.items():\n",
    "            if obj.get('modelid') in ['SML001', 'RWL021', 'ZGPSWITCH', 'HOMEAWAY']:\n",
    "                self._devices.append(obj['uniqueid'].split(':')[-1][0:5])\n",
    "        self._devices = set(self._devices)  # Keep only uniques"
   ]
  }
 ],
 "metadata": {
  "kernelspec": {
   "display_name": "Python 3",
   "language": "python",
   "name": "python3"
  },
  "language_info": {
   "codemirror_mode": {
    "name": "ipython",
    "version": 3
   },
   "file_extension": ".py",
   "mimetype": "text/x-python",
   "name": "python",
   "nbconvert_exporter": "python",
   "pygments_lexer": "ipython3",
   "version": "3.6.3"
  }
 },
 "nbformat": 4,
 "nbformat_minor": 2
}
