{
 "cells": [
  {
   "cell_type": "markdown",
   "metadata": {},
   "source": [
    "https://github.com/studioimaginaire/phue \n",
    "\n",
    "Phue is a package for interacting with the Hue hub. \n",
    "\n",
    "I have 2 remotes, 1 tap, and 3 motion (+ temp and light) sensors. Hue also creates 'sensors' for presence ('HomeAway', 'Robins iPhone') as well as dimmer secnes."
   ]
  },
  {
   "cell_type": "code",
   "execution_count": 1,
   "metadata": {},
   "outputs": [],
   "source": [
    "from phue import Bridge"
   ]
  },
  {
   "cell_type": "code",
   "execution_count": 2,
   "metadata": {},
   "outputs": [],
   "source": [
    "bridge_ip = '192.168.0.3'"
   ]
  },
  {
   "cell_type": "code",
   "execution_count": 3,
   "metadata": {},
   "outputs": [],
   "source": [
    "b = Bridge(bridge_ip)"
   ]
  },
  {
   "cell_type": "markdown",
   "metadata": {},
   "source": [
    "# Sensors\n",
    "Sensors are more simple than lights in some ways, as lights can be in groups. A significant part of the HA lights component is dealing with groups. Instead we have the issue that Hue treates a motion sensor device as 3 seperate sensors consisting of motion, temperature and light level. I prefer to group by device so need to have a routine which correctly ties sensors to a device."
   ]
  },
  {
   "cell_type": "code",
   "execution_count": 4,
   "metadata": {},
   "outputs": [],
   "source": [
    "response = b.get_sensor_objects('name')"
   ]
  },
  {
   "cell_type": "markdown",
   "metadata": {},
   "source": [
    "get_sensor_objects() is a method on the bridge object which requests data for ALL sensors.\n",
    "\n",
    "Lets request the response by sensor name - we are returned a list of sensor objects indexed by name"
   ]
  },
  {
   "cell_type": "code",
   "execution_count": 5,
   "metadata": {},
   "outputs": [
    {
     "data": {
      "text/plain": [
       "{'Bedroom sensor': <phue.Sensor object \"Bedroom sensor\" at 0x1110d07f0>,\n",
       " 'Daylight': <phue.Sensor object \"Daylight\" at 0x1110e3a58>,\n",
       " 'Dimmer Switch 2 SceneCycle': <phue.Sensor object \"Dimmer Switch 2 SceneCycle\" at 0x1110e3b38>,\n",
       " 'Dimmer Switch 20 SceneCycle': <phue.Sensor object \"Dimmer Switch 20 SceneCycle\" at 0x1110f5e10>,\n",
       " 'Dimmer Switch 22 SceneCycle': <phue.Sensor object \"Dimmer Switch 22 SceneCycle\" at 0x1110f5e80>,\n",
       " 'Hall Sensor': <phue.Sensor object \"Hall Sensor\" at 0x1110e3ac8>,\n",
       " 'Hall remote': <phue.Sensor object \"Hall remote\" at 0x1110f5e48>,\n",
       " 'HomeAway': <phue.Sensor object \"HomeAway\" at 0x1110f5cc0>,\n",
       " 'Hue Tap': <phue.Sensor object \"Hue Tap\" at 0x1110f5eb8>,\n",
       " 'Hue ambient light sensor 1': <phue.Sensor object \"Hue ambient light sensor 1\" at 0x1110e3be0>,\n",
       " 'Hue ambient light sensor 2': <phue.Sensor object \"Hue ambient light sensor 2\" at 0x1110f5c18>,\n",
       " 'Hue ambient light sensor 3': <phue.Sensor object \"Hue ambient light sensor 3\" at 0x1110f5d68>,\n",
       " 'Hue temperature sensor 1': <phue.Sensor object \"Hue temperature sensor 1\" at 0x1110e3b70>,\n",
       " 'Hue temperature sensor 2': <phue.Sensor object \"Hue temperature sensor 2\" at 0x1110d0ba8>,\n",
       " 'Hue temperature sensor 3': <phue.Sensor object \"Hue temperature sensor 3\" at 0x1110f5cf8>,\n",
       " 'Living room remote': <phue.Sensor object \"Living room remote\" at 0x1110f5dd8>,\n",
       " 'Living room sensor': <phue.Sensor object \"Living room sensor\" at 0x1110f5d30>,\n",
       " 'MotionSensor 15.Companion': <phue.Sensor object \"MotionSensor 15.Companion\" at 0x1110f5da0>,\n",
       " 'MotionSensor 5.Companion': <phue.Sensor object \"MotionSensor 5.Companion\" at 0x1110d0828>,\n",
       " 'MotionSensor 9.Companion': <phue.Sensor object \"MotionSensor 9.Companion\" at 0x1110f5c50>,\n",
       " 'Remote bedroom': <phue.Sensor object \"Remote bedroom\" at 0x1110e3b00>,\n",
       " 'Robins iPhone': <phue.Sensor object \"Robins iPhone\" at 0x1110f5c88>}"
      ]
     },
     "execution_count": 5,
     "metadata": {},
     "output_type": "execute_result"
    }
   ],
   "source": [
    "response"
   ]
  },
  {
   "cell_type": "markdown",
   "metadata": {},
   "source": [
    "Print the attributes of a sensor"
   ]
  },
  {
   "cell_type": "code",
   "execution_count": 6,
   "metadata": {},
   "outputs": [
    {
     "name": "stdout",
     "output_type": "stream",
     "text": [
      "name : Bedroom sensor\n",
      "state : {'presence': False, 'lastupdated': '2018-01-18T07:04:35'}\n",
      "type : ZLLPresence\n",
      "manufacturername : Philips\n",
      "modelid : SML001\n",
      "uniqueid : 00:17:88:01:02:00:b5:ce-02-0406\n",
      "sensor_id : 9\n",
      "config : {'on': True, 'battery': 100, 'reachable': True, 'alert': 'none', 'ledindication': False, 'usertest': False, 'sensitivity': 2, 'sensitivitymax': 2, 'pending': []}\n"
     ]
    }
   ],
   "source": [
    "def print_sensor_attrs(sensor):\n",
    "    \"\"\"Helper to print sensor attributes. pass a sensor name.\"\"\"\n",
    "    assert type(sensor) == str\n",
    "    print(\"name : {}\".format(response[sensor].name))\n",
    "    print(\"state : {}\".format(response[sensor].state))\n",
    "    print(\"type : {}\".format(response[sensor].type))\n",
    "    print(\"manufacturername : {}\".format(response[sensor].manufacturername))\n",
    "    print(\"modelid : {}\".format(response[sensor].modelid))\n",
    "    print(\"uniqueid : {}\".format(response[sensor].uniqueid))\n",
    "    print(\"sensor_id : {}\".format(response[sensor].sensor_id))\n",
    "    print(\"config : {}\".format(response[sensor].config))\n",
    "    return\n",
    "    \n",
    "print_sensor_attrs('Bedroom sensor')"
   ]
  },
  {
   "cell_type": "code",
   "execution_count": 7,
   "metadata": {},
   "outputs": [
    {
     "data": {
      "text/plain": [
       "\"<class 'phue.Sensor'>\""
      ]
     },
     "execution_count": 7,
     "metadata": {},
     "output_type": "execute_result"
    }
   ],
   "source": [
    "str(type(response['Hue Tap']))"
   ]
  },
  {
   "cell_type": "markdown",
   "metadata": {},
   "source": [
    "lets create a unique device id, where for a motion sensor the device includes both temperature and light level sensors"
   ]
  },
  {
   "cell_type": "code",
   "execution_count": 8,
   "metadata": {},
   "outputs": [],
   "source": [
    "def device_id(sensor_obj):\n",
    "    \"\"\"Helper that takes a sensor object and returns its unique device id.\"\"\"\n",
    "    assert str(type(sensor_obj)) == \"<class 'phue.Sensor'>\"\n",
    "    return sensor_obj.uniqueid.split(':')[-1][0:5]"
   ]
  },
  {
   "cell_type": "code",
   "execution_count": 9,
   "metadata": {},
   "outputs": [
    {
     "data": {
      "text/plain": [
       "'ce-02'"
      ]
     },
     "execution_count": 9,
     "metadata": {},
     "output_type": "execute_result"
    }
   ],
   "source": [
    "device_id(response['Bedroom sensor'])"
   ]
  },
  {
   "cell_type": "code",
   "execution_count": 10,
   "metadata": {},
   "outputs": [
    {
     "data": {
      "text/plain": [
       "'ce-02'"
      ]
     },
     "execution_count": 10,
     "metadata": {},
     "output_type": "execute_result"
    }
   ],
   "source": [
    "device_id(response['Hue ambient light sensor 2'])"
   ]
  },
  {
   "cell_type": "code",
   "execution_count": 11,
   "metadata": {},
   "outputs": [
    {
     "data": {
      "text/plain": [
       "'ce-02'"
      ]
     },
     "execution_count": 11,
     "metadata": {},
     "output_type": "execute_result"
    }
   ],
   "source": [
    "device_id(response['Hue temperature sensor 2'])"
   ]
  },
  {
   "cell_type": "code",
   "execution_count": 12,
   "metadata": {},
   "outputs": [
    {
     "name": "stdout",
     "output_type": "stream",
     "text": [
      "name : Robins iPhone\n",
      "state : {'presence': False, 'lastupdated': '2018-01-17T09:26:14'}\n",
      "type : Geofence\n",
      "manufacturername : Philips\n",
      "modelid : HA_GEOFENCE\n",
      "uniqueid : L_02_IYwHM\n",
      "sensor_id : 12\n",
      "config : {'on': True, 'reachable': True}\n"
     ]
    }
   ],
   "source": [
    "print_sensor_attrs('Robins iPhone')"
   ]
  },
  {
   "cell_type": "code",
   "execution_count": 13,
   "metadata": {},
   "outputs": [
    {
     "name": "stdout",
     "output_type": "stream",
     "text": [
      "name : Bedroom sensor\n",
      "state : {'presence': False, 'lastupdated': '2018-01-18T07:04:35'}\n",
      "type : ZLLPresence\n",
      "manufacturername : Philips\n",
      "modelid : SML001\n",
      "uniqueid : 00:17:88:01:02:00:b5:ce-02-0406\n",
      "sensor_id : 9\n",
      "config : {'on': True, 'battery': 100, 'reachable': True, 'alert': 'none', 'ledindication': False, 'usertest': False, 'sensitivity': 2, 'sensitivitymax': 2, 'pending': []}\n"
     ]
    }
   ],
   "source": [
    "print_sensor_attrs('Bedroom sensor')"
   ]
  },
  {
   "cell_type": "markdown",
   "metadata": {},
   "source": [
    "print_sensor_attrs('Daylight') # Keeps trakc of whether the sun is up or not"
   ]
  },
  {
   "cell_type": "code",
   "execution_count": 14,
   "metadata": {},
   "outputs": [
    {
     "name": "stdout",
     "output_type": "stream",
     "text": [
      "name : HomeAway\n",
      "state : {'presence': False, 'lastupdated': '2018-01-17T09:26:14'}\n",
      "type : CLIPPresence\n",
      "manufacturername : Philips\n",
      "modelid : HOMEAWAY\n",
      "uniqueid : L_01_9rQ8A\n",
      "sensor_id : 13\n",
      "config : {'on': True, 'reachable': True}\n"
     ]
    }
   ],
   "source": [
    "print_sensor_attrs('HomeAway') # Not sure what this is"
   ]
  },
  {
   "cell_type": "code",
   "execution_count": 15,
   "metadata": {},
   "outputs": [
    {
     "name": "stdout",
     "output_type": "stream",
     "text": [
      "name : Hall remote\n",
      "state : {'buttonevent': 4002, 'lastupdated': '2018-01-15T19:37:31'}\n",
      "type : ZLLSwitch\n",
      "manufacturername : Philips\n",
      "modelid : RWL021\n",
      "uniqueid : 00:17:88:01:02:c0:e1:9c-02-fc00\n",
      "sensor_id : 22\n",
      "config : {'on': True, 'battery': 100, 'reachable': True, 'pending': []}\n"
     ]
    }
   ],
   "source": [
    "print_sensor_attrs('Hall remote')"
   ]
  },
  {
   "cell_type": "markdown",
   "metadata": {},
   "source": [
    "id and names can be related using the method get_sensor_id_by_name()"
   ]
  },
  {
   "cell_type": "code",
   "execution_count": 16,
   "metadata": {},
   "outputs": [
    {
     "data": {
      "text/plain": [
       "'22'"
      ]
     },
     "execution_count": 16,
     "metadata": {},
     "output_type": "execute_result"
    }
   ],
   "source": [
    "b.get_sensor_id_by_name('Hall remote')"
   ]
  },
  {
   "cell_type": "markdown",
   "metadata": {},
   "source": [
    "Lets check what response by id returns - sensors are indexed 1-24 as they appear listed from the sensors API return"
   ]
  },
  {
   "cell_type": "code",
   "execution_count": 17,
   "metadata": {},
   "outputs": [
    {
     "data": {
      "text/plain": [
       "{1: <phue.Sensor object \"Daylight\" at 0x1110e3a58>,\n",
       " 2: <phue.Sensor object \"Remote bedroom\" at 0x1110e3b00>,\n",
       " 3: <phue.Sensor object \"Dimmer Switch 2 SceneCycle\" at 0x1110e3b38>,\n",
       " 4: <phue.Sensor object \"Hue temperature sensor 1\" at 0x1110e3b70>,\n",
       " 5: <phue.Sensor object \"Hall Sensor\" at 0x1110e3ac8>,\n",
       " 6: <phue.Sensor object \"Hue ambient light sensor 1\" at 0x1110e3be0>,\n",
       " 7: <phue.Sensor object \"MotionSensor 5.Companion\" at 0x1110d0828>,\n",
       " 8: <phue.Sensor object \"Hue temperature sensor 2\" at 0x1110d0ba8>,\n",
       " 9: <phue.Sensor object \"Bedroom sensor\" at 0x1110d07f0>,\n",
       " 10: <phue.Sensor object \"Hue ambient light sensor 2\" at 0x1110f5c18>,\n",
       " 11: <phue.Sensor object \"MotionSensor 9.Companion\" at 0x1110f5c50>,\n",
       " 12: <phue.Sensor object \"Robins iPhone\" at 0x1110f5c88>,\n",
       " 13: <phue.Sensor object \"HomeAway\" at 0x1110f5cc0>,\n",
       " 14: <phue.Sensor object \"Hue temperature sensor 3\" at 0x1110f5cf8>,\n",
       " 15: <phue.Sensor object \"Living room sensor\" at 0x1110f5d30>,\n",
       " 16: <phue.Sensor object \"Hue ambient light sensor 3\" at 0x1110f5d68>,\n",
       " 18: <phue.Sensor object \"MotionSensor 15.Companion\" at 0x1110f5da0>,\n",
       " 20: <phue.Sensor object \"Living room remote\" at 0x1110f5dd8>,\n",
       " 21: <phue.Sensor object \"Dimmer Switch 20 SceneCycle\" at 0x1110f5e10>,\n",
       " 22: <phue.Sensor object \"Hall remote\" at 0x1110f5e48>,\n",
       " 23: <phue.Sensor object \"Dimmer Switch 22 SceneCycle\" at 0x1110f5e80>,\n",
       " 24: <phue.Sensor object \"Hue Tap\" at 0x1110f5eb8>}"
      ]
     },
     "execution_count": 17,
     "metadata": {},
     "output_type": "execute_result"
    }
   ],
   "source": [
    "response_id = b.get_sensor_objects('id')\n",
    "response_id"
   ]
  },
  {
   "cell_type": "markdown",
   "metadata": {},
   "source": [
    "Probably accessing sensors via id is more useful than name. I need an init method that groups id by devices"
   ]
  },
  {
   "cell_type": "markdown",
   "metadata": {},
   "source": [
    "# Lights\n",
    "\n",
    "The HA component [adds the wrapper class](https://github.com/home-assistant/home-assistant/blob/aad14b8b87e23f61300f31b96b8a92769527516c/homeassistant/components/light/hue.py#L210) HueLight(Light).\n",
    "\n",
    "Lights can be in groups and groups have info. I don't have any groups so access light objects directly"
   ]
  },
  {
   "cell_type": "code",
   "execution_count": 18,
   "metadata": {},
   "outputs": [
    {
     "data": {
      "text/plain": [
       "[<phue.Light object \"Hallway\" at 0x1110a32b0>,\n",
       " <phue.Light object \"Bedroom light\" at 0x1111104a8>,\n",
       " <phue.Light object \"Lamp\" at 0x111110908>,\n",
       " <phue.Light object \"Kitchen light\" at 0x1111106d8>]"
      ]
     },
     "execution_count": 18,
     "metadata": {},
     "output_type": "execute_result"
    }
   ],
   "source": [
    "b.lights"
   ]
  },
  {
   "cell_type": "code",
   "execution_count": 19,
   "metadata": {},
   "outputs": [
    {
     "name": "stdout",
     "output_type": "stream",
     "text": [
      "name : Hallway\n",
      "brightness : 1\n",
      "on : False\n"
     ]
    }
   ],
   "source": [
    "def print_light_attrs(light_index):\n",
    "    \"\"\"Helper to print light attributes. Pass the index of light\"\"\"\n",
    "    assert type(light_index) == int\n",
    "    print(\"name : {}\".format(b.lights[light_index].name))\n",
    "    print(\"brightness : {}\".format(b.lights[light_index].brightness))\n",
    "    print(\"on : {}\".format(b.lights[light_index].on))\n",
    "    \n",
    "light_index = 0\n",
    "print_light_attrs(light_index)"
   ]
  },
  {
   "cell_type": "code",
   "execution_count": null,
   "metadata": {},
   "outputs": [],
   "source": []
  }
 ],
 "metadata": {
  "kernelspec": {
   "display_name": "Python 3",
   "language": "python",
   "name": "python3"
  },
  "language_info": {
   "codemirror_mode": {
    "name": "ipython",
    "version": 3
   },
   "file_extension": ".py",
   "mimetype": "text/x-python",
   "name": "python",
   "nbconvert_exporter": "python",
   "pygments_lexer": "ipython3",
   "version": "3.6.3"
  }
 },
 "nbformat": 4,
 "nbformat_minor": 2
}
