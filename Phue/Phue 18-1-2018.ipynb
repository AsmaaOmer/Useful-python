{
 "cells": [
  {
   "cell_type": "markdown",
   "metadata": {},
   "source": [
    "https://github.com/studioimaginaire/phue \n",
    "\n",
    "Phue is a package for interacting with the Hue hub. \n",
    "\n",
    "I have 2 remotes, 1 tap, and 3 motion (+ temp and light) sensors. Hue also creates 'sensors' for presence ('HomeAway', 'Robins iPhone') as well as dimmer secnes."
   ]
  },
  {
   "cell_type": "code",
   "execution_count": 1,
   "metadata": {},
   "outputs": [],
   "source": [
    "from phue import Bridge\n",
    "from datetime import datetime, timedelta\n",
    "from functools import wraps"
   ]
  },
  {
   "cell_type": "markdown",
   "metadata": {},
   "source": [
    "First create dummy Throttle class stolen from https://gist.github.com/ChrisTM/5834503 as data updates will be throttled"
   ]
  },
  {
   "cell_type": "code",
   "execution_count": 2,
   "metadata": {},
   "outputs": [],
   "source": [
    "class Throttle(object):\n",
    "    \"\"\"\n",
    "    Decorator that prevents a function from being called more than once every\n",
    "    time period.\n",
    "    To create a function that cannot be called more than once a minute:\n",
    "        @throttle(minutes=1)\n",
    "        def my_fun():\n",
    "            pass\n",
    "    \"\"\"\n",
    "    def __init__(self, seconds=0, minutes=0, hours=0):\n",
    "        self.throttle_period = timedelta(\n",
    "            seconds=seconds, minutes=minutes, hours=hours\n",
    "        )\n",
    "        self.time_of_last_call = datetime.min\n",
    "\n",
    "    def __call__(self, fn):\n",
    "        @wraps(fn)\n",
    "        def wrapper(*args, **kwargs):\n",
    "            now = datetime.now()\n",
    "            time_since_last_call = now - self.time_of_last_call\n",
    "\n",
    "            if time_since_last_call > self.throttle_period:\n",
    "                self.time_of_last_call = now\n",
    "                return fn(*args, **kwargs)\n",
    "\n",
    "        return wrapper"
   ]
  },
  {
   "cell_type": "markdown",
   "metadata": {},
   "source": [
    "# Setup variables"
   ]
  },
  {
   "cell_type": "code",
   "execution_count": 3,
   "metadata": {},
   "outputs": [],
   "source": [
    "bridge_ip = '192.168.0.3'\n",
    "SCAN_INTERVAL = 1   # Seconds"
   ]
  },
  {
   "cell_type": "markdown",
   "metadata": {},
   "source": [
    "# Sensors\n",
    "Sensors are more simple than lights in some ways, as lights can be in groups. A significant part of the HA lights component is dealing with groups. \n",
    "\n",
    "For SML motion sensors we have the issue that Hue treates these device as 3 seperate sensors consisting of motion, temperature and light level. I prefer to group by device so need to have a routine which correctly ties sensors to a device. The dimmer remote has scenes but will ignore these."
   ]
  },
  {
   "cell_type": "markdown",
   "metadata": {},
   "source": [
    "Lets create a wrapper to the bridge object that throttles requests for sensor data."
   ]
  },
  {
   "cell_type": "code",
   "execution_count": 4,
   "metadata": {},
   "outputs": [],
   "source": [
    "class HueSensorData(object):\n",
    "    \"\"\"Get the latest sensor data.\"\"\"\n",
    "    # need to import phue\n",
    "    def __init__(self, bridge_ip):\n",
    "        \"\"\"Initialize the data object.\"\"\"\n",
    "        self._bridge = Bridge(bridge_ip)\n",
    "        self.update()\n",
    "\n",
    "    # Update only once in scan interval.\n",
    "    @Throttle(seconds=SCAN_INTERVAL)\n",
    "    def update(self):\n",
    "        \"\"\"Get the latest data but throttle requests.\"\"\"\n",
    "        self._data = self._bridge.get_sensor()\n",
    "        \n",
    "    @property\n",
    "    def data(self):\n",
    "        \"\"\"Return the data.\"\"\"\n",
    "        return self._data"
   ]
  },
  {
   "cell_type": "code",
   "execution_count": 5,
   "metadata": {},
   "outputs": [],
   "source": [
    "sensor_data_obj = HueSensorData(bridge_ip)"
   ]
  },
  {
   "cell_type": "markdown",
   "metadata": {},
   "source": [
    "lets get a list of the sensor id available in data"
   ]
  },
  {
   "cell_type": "code",
   "execution_count": 7,
   "metadata": {},
   "outputs": [
    {
     "data": {
      "text/plain": [
       "['1',\n",
       " '2',\n",
       " '3',\n",
       " '4',\n",
       " '5',\n",
       " '6',\n",
       " '7',\n",
       " '8',\n",
       " '9',\n",
       " '10',\n",
       " '11',\n",
       " '12',\n",
       " '13',\n",
       " '14',\n",
       " '15',\n",
       " '16',\n",
       " '18',\n",
       " '20',\n",
       " '21',\n",
       " '22',\n",
       " '23',\n",
       " '24']"
      ]
     },
     "execution_count": 7,
     "metadata": {},
     "output_type": "execute_result"
    }
   ],
   "source": [
    "sensor_id_list = list(sensor_data_obj.data.keys())\n",
    "sensor_id_list"
   ]
  },
  {
   "cell_type": "code",
   "execution_count": 7,
   "metadata": {},
   "outputs": [
    {
     "data": {
      "text/plain": [
       "{'config': {'alert': 'none',\n",
       "  'battery': 100,\n",
       "  'ledindication': False,\n",
       "  'on': True,\n",
       "  'pending': [],\n",
       "  'reachable': True,\n",
       "  'tholddark': 12853,\n",
       "  'tholdoffset': 7000,\n",
       "  'usertest': False},\n",
       " 'manufacturername': 'Philips',\n",
       " 'modelid': 'SML001',\n",
       " 'name': 'Hue ambient light sensor 2',\n",
       " 'state': {'dark': True,\n",
       "  'daylight': False,\n",
       "  'lastupdated': '2018-01-18T08:14:50',\n",
       "  'lightlevel': 4225},\n",
       " 'swupdate': {'lastinstall': None, 'state': 'noupdates'},\n",
       " 'swversion': '6.1.0.18912',\n",
       " 'type': 'ZLLLightLevel',\n",
       " 'uniqueid': '00:17:88:01:02:00:b5:ce-02-0400'}"
      ]
     },
     "execution_count": 7,
     "metadata": {},
     "output_type": "execute_result"
    }
   ],
   "source": [
    "sensor_data_obj.data['10']"
   ]
  },
  {
   "cell_type": "code",
   "execution_count": 11,
   "metadata": {},
   "outputs": [
    {
     "name": "stdout",
     "output_type": "stream",
     "text": [
      "Daylight : modelid = PHDL00\n",
      "Remote bedroom : modelid = RWL021\n",
      "Dimmer Switch 2 SceneCycle : modelid = PHWA01\n",
      "Hue temperature sensor 1 : modelid = SML001\n",
      "Hall Sensor : modelid = SML001\n",
      "Hue ambient light sensor 1 : modelid = SML001\n",
      "MotionSensor 5.Companion : modelid = PHA_STATE\n",
      "Hue temperature sensor 2 : modelid = SML001\n",
      "Bedroom sensor : modelid = SML001\n",
      "Hue ambient light sensor 2 : modelid = SML001\n",
      "MotionSensor 9.Companion : modelid = PHA_STATE\n",
      "Robins iPhone : modelid = HA_GEOFENCE\n",
      "HomeAway : modelid = HOMEAWAY\n",
      "Hue temperature sensor 3 : modelid = SML001\n",
      "Living room sensor : modelid = SML001\n",
      "Hue ambient light sensor 3 : modelid = SML001\n",
      "MotionSensor 15.Companion : modelid = PHA_STATE\n",
      "Living room remote : modelid = RWL021\n",
      "Dimmer Switch 20 SceneCycle : modelid = PHWA01\n",
      "Hall remote : modelid = RWL021\n",
      "Dimmer Switch 22 SceneCycle : modelid = PHWA01\n",
      "Hue Tap : modelid = ZGPSWITCH\n"
     ]
    }
   ],
   "source": [
    "for sensor_id in sensor_id_list:\n",
    "    obj = sensor_data_obj.data[sensor_id]\n",
    "    print(\"{} : modelid = {}\".format(obj['name'], obj['modelid']))"
   ]
  },
  {
   "cell_type": "markdown",
   "metadata": {},
   "source": [
    "### Sensor device id\n",
    "\n",
    "lets create a unique device id, where for a motion sensor the device includes both temperature and light level sensors"
   ]
  },
  {
   "cell_type": "code",
   "execution_count": 26,
   "metadata": {},
   "outputs": [],
   "source": [
    "def device_id(sensor_obj):\n",
    "    \"\"\"Helper that takes a sensor object and returns its unique device id.\"\"\"\n",
    "    assert str(type(sensor_obj)) == \"<class 'phue.Sensor'>\"\n",
    "    return sensor_obj.uniqueid.split(':')[-1][0:5]"
   ]
  },
  {
   "cell_type": "code",
   "execution_count": 13,
   "metadata": {},
   "outputs": [
    {
     "data": {
      "text/plain": [
       "'ce-02'"
      ]
     },
     "execution_count": 13,
     "metadata": {},
     "output_type": "execute_result"
    }
   ],
   "source": [
    "device_id(response['Bedroom sensor'])"
   ]
  },
  {
   "cell_type": "code",
   "execution_count": 14,
   "metadata": {},
   "outputs": [
    {
     "data": {
      "text/plain": [
       "'ce-02'"
      ]
     },
     "execution_count": 14,
     "metadata": {},
     "output_type": "execute_result"
    }
   ],
   "source": [
    "device_id(response['Hue ambient light sensor 2'])"
   ]
  },
  {
   "cell_type": "code",
   "execution_count": 15,
   "metadata": {},
   "outputs": [
    {
     "data": {
      "text/plain": [
       "'ce-02'"
      ]
     },
     "execution_count": 15,
     "metadata": {},
     "output_type": "execute_result"
    }
   ],
   "source": [
    "device_id(response['Hue temperature sensor 2'])"
   ]
  },
  {
   "cell_type": "code",
   "execution_count": 16,
   "metadata": {},
   "outputs": [
    {
     "name": "stdout",
     "output_type": "stream",
     "text": [
      "name : Hue ambient light sensor 2\n",
      "state : {'lightlevel': 3433, 'dark': True, 'daylight': False, 'lastupdated': '2018-01-18T08:09:50'}\n",
      "type : ZLLLightLevel\n",
      "manufacturername : Philips\n",
      "modelid : SML001\n",
      "uniqueid : 00:17:88:01:02:00:b5:ce-02-0400\n",
      "sensor_id : 10\n",
      "config : {'on': True, 'battery': 100, 'reachable': True, 'alert': 'none', 'tholddark': 12853, 'tholdoffset': 7000, 'ledindication': False, 'usertest': False, 'pending': []}\n"
     ]
    }
   ],
   "source": [
    "print_sensor_attrs('Hue ambient light sensor 2')"
   ]
  },
  {
   "cell_type": "markdown",
   "metadata": {},
   "source": [
    "So even though we have 1 device we have different names for its temperature and light level sensors. Associate these sensors by device_id. Lets create a HueSensor object."
   ]
  },
  {
   "cell_type": "code",
   "execution_count": 17,
   "metadata": {},
   "outputs": [],
   "source": [
    "class HueSensor(object):\n",
    "    \"\"\"Class to hold Hue Sensor basic info.\"\"\"\n",
    "\n",
    "    def __init__(self, sensor_obj):\n",
    "        \"\"\"Initialise the sensor object.\"\"\"\n",
    "        self._device_id = sensor_obj.uniqueid.split(':')[-1][0:5]\n",
    "        self._data = data_obj    # data is in .data\n",
    "        self._name = self._data.data[self._hue_id]['name']\n",
    "        self._model = self._data.data[self._hue_id]['model']\n",
    "        self._state = self._data.data[self._hue_id]['state']\n",
    "        self._attributes = {}"
   ]
  },
  {
   "cell_type": "code",
   "execution_count": null,
   "metadata": {},
   "outputs": [],
   "source": []
  },
  {
   "cell_type": "code",
   "execution_count": null,
   "metadata": {},
   "outputs": [],
   "source": []
  },
  {
   "cell_type": "markdown",
   "metadata": {},
   "source": [
    "id and names can be related using the method get_sensor_id_by_name()"
   ]
  },
  {
   "cell_type": "code",
   "execution_count": 18,
   "metadata": {},
   "outputs": [
    {
     "data": {
      "text/plain": [
       "'22'"
      ]
     },
     "execution_count": 18,
     "metadata": {},
     "output_type": "execute_result"
    }
   ],
   "source": [
    "b.get_sensor_id_by_name('Hall remote')"
   ]
  },
  {
   "cell_type": "markdown",
   "metadata": {},
   "source": [
    "Lets check what response by id returns - sensors are indexed 1-24 as they appear listed from the sensors API return"
   ]
  },
  {
   "cell_type": "code",
   "execution_count": 19,
   "metadata": {},
   "outputs": [
    {
     "data": {
      "text/plain": [
       "{1: <phue.Sensor object \"Daylight\" at 0x10988d2b0>,\n",
       " 2: <phue.Sensor object \"Remote bedroom\" at 0x10989e080>,\n",
       " 3: <phue.Sensor object \"Dimmer Switch 2 SceneCycle\" at 0x10989e128>,\n",
       " 4: <phue.Sensor object \"Hue temperature sensor 1\" at 0x10989e160>,\n",
       " 5: <phue.Sensor object \"Hall Sensor\" at 0x10989e198>,\n",
       " 6: <phue.Sensor object \"Hue ambient light sensor 1\" at 0x10989e0f0>,\n",
       " 7: <phue.Sensor object \"MotionSensor 5.Companion\" at 0x10989e208>,\n",
       " 8: <phue.Sensor object \"Hue temperature sensor 2\" at 0x109884b00>,\n",
       " 9: <phue.Sensor object \"Bedroom sensor\" at 0x109884e80>,\n",
       " 10: <phue.Sensor object \"Hue ambient light sensor 2\" at 0x1098a6240>,\n",
       " 11: <phue.Sensor object \"MotionSensor 9.Companion\" at 0x1098a6278>,\n",
       " 12: <phue.Sensor object \"Robins iPhone\" at 0x1098a62b0>,\n",
       " 13: <phue.Sensor object \"HomeAway\" at 0x1098a62e8>,\n",
       " 14: <phue.Sensor object \"Hue temperature sensor 3\" at 0x1098a6320>,\n",
       " 15: <phue.Sensor object \"Living room sensor\" at 0x1098a6358>,\n",
       " 16: <phue.Sensor object \"Hue ambient light sensor 3\" at 0x1098a6390>,\n",
       " 18: <phue.Sensor object \"MotionSensor 15.Companion\" at 0x1098a63c8>,\n",
       " 20: <phue.Sensor object \"Living room remote\" at 0x1098a6400>,\n",
       " 21: <phue.Sensor object \"Dimmer Switch 20 SceneCycle\" at 0x1098a6438>,\n",
       " 22: <phue.Sensor object \"Hall remote\" at 0x1098a6470>,\n",
       " 23: <phue.Sensor object \"Dimmer Switch 22 SceneCycle\" at 0x1098a64a8>,\n",
       " 24: <phue.Sensor object \"Hue Tap\" at 0x1098a64e0>}"
      ]
     },
     "execution_count": 19,
     "metadata": {},
     "output_type": "execute_result"
    }
   ],
   "source": [
    "response_id = b.get_sensor_objects('id')\n",
    "response_id"
   ]
  },
  {
   "cell_type": "markdown",
   "metadata": {},
   "source": [
    "Probably accessing sensors via id is more useful than name. I need an init method that groups id by devices"
   ]
  },
  {
   "cell_type": "markdown",
   "metadata": {},
   "source": [
    "# Lights\n",
    "\n",
    "The HA component [adds the wrapper class](https://github.com/home-assistant/home-assistant/blob/aad14b8b87e23f61300f31b96b8a92769527516c/homeassistant/components/light/hue.py#L210) HueLight(Light).\n",
    "\n",
    "Lights can be in groups and groups have info. I don't have any groups so access light objects directly"
   ]
  },
  {
   "cell_type": "code",
   "execution_count": 20,
   "metadata": {},
   "outputs": [
    {
     "data": {
      "text/plain": [
       "[<phue.Light object \"Hallway\" at 0x1098cf6a0>,\n",
       " <phue.Light object \"Bedroom light\" at 0x1098cf390>,\n",
       " <phue.Light object \"Lamp\" at 0x1098cfba8>,\n",
       " <phue.Light object \"Kitchen light\" at 0x1098cfa20>]"
      ]
     },
     "execution_count": 20,
     "metadata": {},
     "output_type": "execute_result"
    }
   ],
   "source": [
    "b.lights"
   ]
  },
  {
   "cell_type": "code",
   "execution_count": 21,
   "metadata": {},
   "outputs": [
    {
     "name": "stdout",
     "output_type": "stream",
     "text": [
      "name : Hallway\n",
      "brightness : 1\n",
      "on : False\n"
     ]
    }
   ],
   "source": [
    "def print_light_attrs(light_index):\n",
    "    \"\"\"Helper to print light attributes. Pass the index of light\"\"\"\n",
    "    assert type(light_index) == int\n",
    "    print(\"name : {}\".format(b.lights[light_index].name))\n",
    "    print(\"brightness : {}\".format(b.lights[light_index].brightness))\n",
    "    print(\"on : {}\".format(b.lights[light_index].on))\n",
    "    \n",
    "light_index = 0\n",
    "print_light_attrs(light_index)"
   ]
  },
  {
   "cell_type": "code",
   "execution_count": null,
   "metadata": {},
   "outputs": [],
   "source": []
  }
 ],
 "metadata": {
  "kernelspec": {
   "display_name": "Python 3",
   "language": "python",
   "name": "python3"
  },
  "language_info": {
   "codemirror_mode": {
    "name": "ipython",
    "version": 3
   },
   "file_extension": ".py",
   "mimetype": "text/x-python",
   "name": "python",
   "nbconvert_exporter": "python",
   "pygments_lexer": "ipython3",
   "version": "3.6.3"
  }
 },
 "nbformat": 4,
 "nbformat_minor": 2
}
