{
 "cells": [
  {
   "cell_type": "markdown",
   "metadata": {},
   "source": [
    "Lets create a small db with paths to photos. Ideally want ot display using https://github.com/coleifer/sqlite-web"
   ]
  },
  {
   "cell_type": "code",
   "execution_count": 1,
   "metadata": {},
   "outputs": [],
   "source": [
    "import os"
   ]
  },
  {
   "cell_type": "code",
   "execution_count": 2,
   "metadata": {},
   "outputs": [
    {
     "data": {
      "text/plain": [
       "['dog.jpg',\n",
       " '.DS_Store',\n",
       " 'mydb.db',\n",
       " 'sqlite_web_photo_db.ipynb',\n",
       " 'bird.jpg',\n",
       " 'SQLite tutorial 26-12-2017.ipynb',\n",
       " 'README.md',\n",
       " '.ipynb_checkpoints']"
      ]
     },
     "execution_count": 2,
     "metadata": {},
     "output_type": "execute_result"
    }
   ],
   "source": [
    "os.listdir()"
   ]
  },
  {
   "cell_type": "code",
   "execution_count": 3,
   "metadata": {},
   "outputs": [
    {
     "data": {
      "text/plain": [
       "'/Users/robincole/Documents/Github/Useful-python/SQLite'"
      ]
     },
     "execution_count": 3,
     "metadata": {},
     "output_type": "execute_result"
    }
   ],
   "source": [
    "cwd = os.getcwd()\n",
    "cwd"
   ]
  },
  {
   "cell_type": "code",
   "execution_count": 4,
   "metadata": {},
   "outputs": [],
   "source": [
    "import sqlite3"
   ]
  },
  {
   "cell_type": "code",
   "execution_count": 5,
   "metadata": {},
   "outputs": [],
   "source": [
    "db = sqlite3.connect('photos.db')"
   ]
  },
  {
   "cell_type": "code",
   "execution_count": 6,
   "metadata": {},
   "outputs": [],
   "source": [
    "cursor = db.cursor()"
   ]
  },
  {
   "cell_type": "code",
   "execution_count": 7,
   "metadata": {},
   "outputs": [],
   "source": [
    "sql = \"\"\" CREATE TABLE files(id INTEGER PRIMARY KEY, name TEXT, url TEXT)\"\"\"\n",
    "cursor.execute(sql)\n",
    "db.commit()"
   ]
  },
  {
   "cell_type": "markdown",
   "metadata": {},
   "source": [
    "Insert first photo"
   ]
  },
  {
   "cell_type": "code",
   "execution_count": 8,
   "metadata": {},
   "outputs": [],
   "source": [
    "name1 = 'dog'\n",
    "url1 = '/Users/robincole/Documents/Github/Useful-python/SQLite/dog.jpg'\n",
    " \n",
    "# Insert photo 1\n",
    "cursor.execute('''INSERT INTO files(name, url) VALUES(?,?)''', (name1, url1))\n",
    "db.commit()"
   ]
  },
  {
   "cell_type": "markdown",
   "metadata": {},
   "source": [
    "Insert second photo"
   ]
  },
  {
   "cell_type": "code",
   "execution_count": 9,
   "metadata": {},
   "outputs": [],
   "source": [
    "name2 = 'bird'\n",
    "url2 = '/Users/robincole/Documents/Github/Useful-python/SQLite/bird.jpg'\n",
    " \n",
    "# Insert photo 1\n",
    "cursor.execute('''INSERT INTO files(name, url) VALUES(?,?)''', (name2, url2))\n",
    "db.commit()"
   ]
  },
  {
   "cell_type": "markdown",
   "metadata": {},
   "source": [
    "Print db contents"
   ]
  },
  {
   "cell_type": "code",
   "execution_count": 10,
   "metadata": {},
   "outputs": [
    {
     "data": {
      "text/plain": [
       "[(1, 'dog', '/Users/robincole/Documents/Github/Useful-python/SQLite/dog.jpg'),\n",
       " (2,\n",
       "  'bird',\n",
       "  '/Users/robincole/Documents/Github/Useful-python/SQLite/bird.jpg')]"
      ]
     },
     "execution_count": 10,
     "metadata": {},
     "output_type": "execute_result"
    }
   ],
   "source": [
    "cursor.execute('''SELECT * FROM files''')\n",
    "cursor.fetchall()"
   ]
  },
  {
   "cell_type": "code",
   "execution_count": 11,
   "metadata": {},
   "outputs": [],
   "source": [
    "db.close()"
   ]
  },
  {
   "cell_type": "markdown",
   "metadata": {},
   "source": [
    "## SQLite-web\n",
    "Now lets browse the db via web interface"
   ]
  },
  {
   "cell_type": "code",
   "execution_count": null,
   "metadata": {},
   "outputs": [
    {
     "name": "stdout",
     "output_type": "stream",
     "text": [
      " * Running on http://127.0.0.1:8080/ (Press CTRL+C to quit)\n",
      "127.0.0.1 - - [26/Oct/2018 08:17:36] \"\u001b[37mGET / HTTP/1.1\u001b[0m\" 200 -\n",
      "127.0.0.1 - - [26/Oct/2018 08:17:36] \"\u001b[37mGET /static/css/bootstrap.min.css HTTP/1.1\u001b[0m\" 200 -\n",
      "127.0.0.1 - - [26/Oct/2018 08:17:36] \"\u001b[37mGET /static/css/sqlbrowse.css HTTP/1.1\u001b[0m\" 200 -\n",
      "127.0.0.1 - - [26/Oct/2018 08:17:36] \"\u001b[37mGET /static/css/syntax-highlight.css HTTP/1.1\u001b[0m\" 200 -\n",
      "127.0.0.1 - - [26/Oct/2018 08:17:36] \"\u001b[37mGET /static/js/jquery-1.11.0.min.js HTTP/1.1\u001b[0m\" 200 -\n",
      "127.0.0.1 - - [26/Oct/2018 08:17:36] \"\u001b[37mGET /static/js/bootstrap.bundle.min.js HTTP/1.1\u001b[0m\" 200 -\n",
      "127.0.0.1 - - [26/Oct/2018 08:17:36] \"\u001b[32mGET /favicon.ico HTTP/1.1\u001b[0m\" 301 -\n",
      "127.0.0.1 - - [26/Oct/2018 08:17:37] \"\u001b[33mGET /favicon.ico/ HTTP/1.1\u001b[0m\" 404 -\n",
      "127.0.0.1 - - [26/Oct/2018 08:17:43] \"\u001b[37mGET /files/ HTTP/1.1\u001b[0m\" 200 -\n",
      "127.0.0.1 - - [26/Oct/2018 08:17:46] \"\u001b[37mGET /files/content/ HTTP/1.1\u001b[0m\" 200 -\n"
     ]
    }
   ],
   "source": [
    "!sqlite_web photos.db"
   ]
  },
  {
   "cell_type": "code",
   "execution_count": null,
   "metadata": {},
   "outputs": [],
   "source": []
  }
 ],
 "metadata": {
  "kernelspec": {
   "display_name": "Python 3",
   "language": "python",
   "name": "python3"
  },
  "language_info": {
   "codemirror_mode": {
    "name": "ipython",
    "version": 3
   },
   "file_extension": ".py",
   "mimetype": "text/x-python",
   "name": "python",
   "nbconvert_exporter": "python",
   "pygments_lexer": "ipython3",
   "version": "3.6.5"
  }
 },
 "nbformat": 4,
 "nbformat_minor": 2
}
