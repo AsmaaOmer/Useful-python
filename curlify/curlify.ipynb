{
 "cells": [
  {
   "cell_type": "markdown",
   "metadata": {},
   "source": [
    "https://github.com/ofw/curlify\n",
    "\n",
    "A library to convert python requests request object to curl command.\n",
    "\n",
    "To go the other way we have https://curl.trillworks.com/"
   ]
  },
  {
   "cell_type": "code",
   "execution_count": 3,
   "metadata": {},
   "outputs": [
    {
     "name": "stdout",
     "output_type": "stream",
     "text": [
      "curl -X 'GET' -H 'Accept: */*' -H 'Accept-Encoding: gzip, deflate' -H 'Connection: keep-alive' -H 'User-Agent: python-requests/2.18.4' 'http://www.google.ru/'\n"
     ]
    }
   ],
   "source": [
    "import curlify\n",
    "import requests\n",
    "\n",
    "response = requests.get(\"http://google.ru\")\n",
    "print(curlify.to_curl(response.request)) # prints all headers too"
   ]
  },
  {
   "cell_type": "code",
   "execution_count": 7,
   "metadata": {},
   "outputs": [
    {
     "name": "stdout",
     "output_type": "stream",
     "text": [
      "curlify.ipynb  test.txt\r\n"
     ]
    }
   ],
   "source": [
    "ls"
   ]
  },
  {
   "cell_type": "code",
   "execution_count": 29,
   "metadata": {},
   "outputs": [],
   "source": [
    "url = \"http://localhost:8080/facebox/teach\" # robinvision\n",
    "# url = \"http://localhost:8081/facebox/teach\" # facebox\n",
    "username = None # 'username'\n",
    "password = None # 'password'\n",
    "name = 'superman'\n",
    "file_path = 'superman.png'\n",
    "ATTR_NAME = 'name'\n",
    "\n",
    "with open(file_path, 'rb') as open_file:\n",
    "    response = requests.post(\n",
    "                url,\n",
    "                auth=requests.auth.HTTPBasicAuth(username, password),\n",
    "                data={ATTR_NAME: name, 'id': file_path},\n",
    "                files={'file': open_file})"
   ]
  },
  {
   "cell_type": "code",
   "execution_count": 30,
   "metadata": {},
   "outputs": [
    {
     "data": {
      "text/plain": [
       "<Response [200]>"
      ]
     },
     "execution_count": 30,
     "metadata": {},
     "output_type": "execute_result"
    }
   ],
   "source": [
    "response"
   ]
  },
  {
   "cell_type": "code",
   "execution_count": 31,
   "metadata": {},
   "outputs": [
    {
     "data": {
      "text/plain": [
       "'{\"success\":true}\\n'"
      ]
     },
     "execution_count": 31,
     "metadata": {},
     "output_type": "execute_result"
    }
   ],
   "source": [
    "response.text"
   ]
  },
  {
   "cell_type": "code",
   "execution_count": null,
   "metadata": {},
   "outputs": [],
   "source": [
    "print(curlify.to_curl(response.request)) "
   ]
  }
 ],
 "metadata": {
  "kernelspec": {
   "display_name": "Python 3",
   "language": "python",
   "name": "python3"
  },
  "language_info": {
   "codemirror_mode": {
    "name": "ipython",
    "version": 3
   },
   "file_extension": ".py",
   "mimetype": "text/x-python",
   "name": "python",
   "nbconvert_exporter": "python",
   "pygments_lexer": "ipython3",
   "version": "3.6.4"
  }
 },
 "nbformat": 4,
 "nbformat_minor": 2
}
