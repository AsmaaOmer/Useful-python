{
 "cells": [
  {
   "cell_type": "markdown",
   "metadata": {},
   "source": [
    "http://pandas.pydata.org/pandas-docs/stable/10min.html#min\n",
    "\n",
    "https://www.oreilly.com/learning/introducing-pandas-objects  basic intro\n",
    "\n",
    "http://stackoverflow.com/questions/13226029/benefits-of-pandas-multiindex multiindex\n",
    "\n",
    "Think of a dataframe as a specialization of a dictionary. Where a dictionary maps a key to a value, a data frame maps a column name to a Series of column data."
   ]
  },
  {
   "cell_type": "code",
   "execution_count": 80,
   "metadata": {},
   "outputs": [],
   "source": [
    "import pandas as pd\n",
    "import numpy as np\n",
    "import matplotlib.pyplot as plt\n",
    "%matplotlib inline\n",
    "import time\n",
    "from datetime import datetime, timedelta"
   ]
  },
  {
   "cell_type": "markdown",
   "metadata": {},
   "source": [
    "# From dict"
   ]
  },
  {
   "cell_type": "code",
   "execution_count": 2,
   "metadata": {},
   "outputs": [
    {
     "data": {
      "text/plain": [
       "California    38332521\n",
       "Florida       19552860\n",
       "Illinois      12882135\n",
       "New York      19651127\n",
       "Texas         26448193\n",
       "dtype: int64"
      ]
     },
     "execution_count": 2,
     "metadata": {},
     "output_type": "execute_result"
    }
   ],
   "source": [
    "population_dict = {'California': 38332521,\n",
    "'Texas': 26448193,\n",
    "'New York': 19651127,\n",
    "'Florida': 19552860,\n",
    "'Illinois': 12882135}\n",
    "population = pd.Series(population_dict)\n",
    "population"
   ]
  },
  {
   "cell_type": "code",
   "execution_count": 3,
   "metadata": {},
   "outputs": [
    {
     "data": {
      "text/plain": [
       "38332521"
      ]
     },
     "execution_count": 3,
     "metadata": {},
     "output_type": "execute_result"
    }
   ],
   "source": [
    "population.California"
   ]
  },
  {
   "cell_type": "markdown",
   "metadata": {},
   "source": [
    "# Time series"
   ]
  },
  {
   "cell_type": "code",
   "execution_count": 4,
   "metadata": {},
   "outputs": [
    {
     "data": {
      "text/plain": [
       "0    1.0\n",
       "1    3.0\n",
       "2    5.0\n",
       "3    NaN\n",
       "4    6.0\n",
       "5    8.0\n",
       "dtype: float64"
      ]
     },
     "execution_count": 4,
     "metadata": {},
     "output_type": "execute_result"
    }
   ],
   "source": [
    "s = pd.Series([1,3,5,np.nan,6,8])   # create a series\n",
    "s"
   ]
  },
  {
   "cell_type": "code",
   "execution_count": 5,
   "metadata": {},
   "outputs": [
    {
     "data": {
      "text/plain": [
       "DatetimeIndex(['2013-01-01', '2013-01-02', '2013-01-03', '2013-01-04',\n",
       "               '2013-01-05', '2013-01-06'],\n",
       "              dtype='datetime64[ns]', freq='D')"
      ]
     },
     "execution_count": 5,
     "metadata": {},
     "output_type": "execute_result"
    }
   ],
   "source": [
    "dates = pd.date_range('20130101', periods=6)   # create index dates\n",
    "dates"
   ]
  },
  {
   "cell_type": "code",
   "execution_count": 6,
   "metadata": {},
   "outputs": [
    {
     "data": {
      "text/plain": [
       "Timestamp('2013-01-01 00:00:00', freq='D')"
      ]
     },
     "execution_count": 6,
     "metadata": {},
     "output_type": "execute_result"
    }
   ],
   "source": [
    "dates[0]"
   ]
  },
  {
   "cell_type": "code",
   "execution_count": 7,
   "metadata": {},
   "outputs": [
    {
     "data": {
      "text/html": [
       "<div>\n",
       "<style>\n",
       "    .dataframe thead tr:only-child th {\n",
       "        text-align: right;\n",
       "    }\n",
       "\n",
       "    .dataframe thead th {\n",
       "        text-align: left;\n",
       "    }\n",
       "\n",
       "    .dataframe tbody tr th {\n",
       "        vertical-align: top;\n",
       "    }\n",
       "</style>\n",
       "<table border=\"1\" class=\"dataframe\">\n",
       "  <thead>\n",
       "    <tr style=\"text-align: right;\">\n",
       "      <th></th>\n",
       "      <th>A</th>\n",
       "      <th>B</th>\n",
       "      <th>C</th>\n",
       "      <th>D</th>\n",
       "    </tr>\n",
       "  </thead>\n",
       "  <tbody>\n",
       "    <tr>\n",
       "      <th>2013-01-01</th>\n",
       "      <td>-0.005950</td>\n",
       "      <td>-2.457328</td>\n",
       "      <td>1.240994</td>\n",
       "      <td>-0.927758</td>\n",
       "    </tr>\n",
       "    <tr>\n",
       "      <th>2013-01-02</th>\n",
       "      <td>1.400725</td>\n",
       "      <td>0.140462</td>\n",
       "      <td>0.326028</td>\n",
       "      <td>0.592748</td>\n",
       "    </tr>\n",
       "    <tr>\n",
       "      <th>2013-01-03</th>\n",
       "      <td>-0.365139</td>\n",
       "      <td>-0.921090</td>\n",
       "      <td>1.324970</td>\n",
       "      <td>1.064424</td>\n",
       "    </tr>\n",
       "    <tr>\n",
       "      <th>2013-01-04</th>\n",
       "      <td>-0.386419</td>\n",
       "      <td>-0.231153</td>\n",
       "      <td>1.365123</td>\n",
       "      <td>0.910923</td>\n",
       "    </tr>\n",
       "    <tr>\n",
       "      <th>2013-01-05</th>\n",
       "      <td>0.614433</td>\n",
       "      <td>-0.797826</td>\n",
       "      <td>0.114828</td>\n",
       "      <td>2.078910</td>\n",
       "    </tr>\n",
       "    <tr>\n",
       "      <th>2013-01-06</th>\n",
       "      <td>-1.408968</td>\n",
       "      <td>0.010321</td>\n",
       "      <td>0.998909</td>\n",
       "      <td>-0.703205</td>\n",
       "    </tr>\n",
       "  </tbody>\n",
       "</table>\n",
       "</div>"
      ],
      "text/plain": [
       "                   A         B         C         D\n",
       "2013-01-01 -0.005950 -2.457328  1.240994 -0.927758\n",
       "2013-01-02  1.400725  0.140462  0.326028  0.592748\n",
       "2013-01-03 -0.365139 -0.921090  1.324970  1.064424\n",
       "2013-01-04 -0.386419 -0.231153  1.365123  0.910923\n",
       "2013-01-05  0.614433 -0.797826  0.114828  2.078910\n",
       "2013-01-06 -1.408968  0.010321  0.998909 -0.703205"
      ]
     },
     "execution_count": 7,
     "metadata": {},
     "output_type": "execute_result"
    }
   ],
   "source": [
    "df = pd.DataFrame(np.random.randn(6,4), index=dates, columns=list('ABCD')) # create a dataframe\n",
    "df"
   ]
  },
  {
   "cell_type": "code",
   "execution_count": 8,
   "metadata": {},
   "outputs": [
    {
     "data": {
      "text/plain": [
       "A   -0.005950\n",
       "B   -2.457328\n",
       "C    1.240994\n",
       "D   -0.927758\n",
       "Name: 2013-01-01 00:00:00, dtype: float64"
      ]
     },
     "execution_count": 8,
     "metadata": {},
     "output_type": "execute_result"
    }
   ],
   "source": [
    "df.iloc[0]"
   ]
  },
  {
   "cell_type": "code",
   "execution_count": 9,
   "metadata": {},
   "outputs": [
    {
     "data": {
      "text/plain": [
       "A    2.809693\n",
       "B    2.597790\n",
       "C    1.250295\n",
       "D    3.006667\n",
       "dtype: float64"
      ]
     },
     "execution_count": 9,
     "metadata": {},
     "output_type": "execute_result"
    }
   ],
   "source": [
    "df.apply(lambda x: x.max() - x.min())"
   ]
  },
  {
   "cell_type": "code",
   "execution_count": 10,
   "metadata": {},
   "outputs": [
    {
     "data": {
      "text/plain": [
       "<matplotlib.axes._subplots.AxesSubplot at 0x10b450748>"
      ]
     },
     "execution_count": 10,
     "metadata": {},
     "output_type": "execute_result"
    },
    {
     "data": {
      "image/png": "[encoded data removed]",
      "text/plain": [
       "<matplotlib.figure.Figure at 0x10b3c49b0>"
      ]
     },
     "metadata": {},
     "output_type": "display_data"
    }
   ],
   "source": [
    "df.plot()"
   ]
  },
  {
   "cell_type": "code",
   "execution_count": 11,
   "metadata": {},
   "outputs": [
    {
     "data": {
      "text/plain": [
       "array([[<matplotlib.axes._subplots.AxesSubplot object at 0x10b589fd0>,\n",
       "        <matplotlib.axes._subplots.AxesSubplot object at 0x10b6780f0>],\n",
       "       [<matplotlib.axes._subplots.AxesSubplot object at 0x10b5a8e80>,\n",
       "        <matplotlib.axes._subplots.AxesSubplot object at 0x10b734ac8>]], dtype=object)"
      ]
     },
     "execution_count": 11,
     "metadata": {},
     "output_type": "execute_result"
    },
    {
     "data": {
      "image/png": "[encoded data removed]",
      "text/plain": [
       "<matplotlib.figure.Figure at 0x10b4db748>"
      ]
     },
     "metadata": {},
     "output_type": "display_data"
    }
   ],
   "source": [
    "df.hist()"
   ]
  },
  {
   "cell_type": "code",
   "execution_count": 12,
   "metadata": {},
   "outputs": [
    {
     "data": {
      "text/plain": [
       "DatetimeIndex(['2013-01-01', '2013-01-02', '2013-01-03', '2013-01-04',\n",
       "               '2013-01-05', '2013-01-06'],\n",
       "              dtype='datetime64[ns]', freq='D')"
      ]
     },
     "execution_count": 12,
     "metadata": {},
     "output_type": "execute_result"
    }
   ],
   "source": [
    "df.index"
   ]
  },
  {
   "cell_type": "code",
   "execution_count": 13,
   "metadata": {},
   "outputs": [
    {
     "data": {
      "text/plain": [
       "Index(['A', 'B', 'C', 'D'], dtype='object')"
      ]
     },
     "execution_count": 13,
     "metadata": {},
     "output_type": "execute_result"
    }
   ],
   "source": [
    "df.columns"
   ]
  },
  {
   "cell_type": "code",
   "execution_count": 14,
   "metadata": {},
   "outputs": [
    {
     "data": {
      "text/plain": [
       "array([[-0.0059499 , -2.45732804,  1.24099372, -0.92775768],\n",
       "       [ 1.40072452,  0.14046157,  0.3260277 ,  0.59274832],\n",
       "       [-0.36513912, -0.92109008,  1.32496997,  1.06442448],\n",
       "       [-0.38641865, -0.23115327,  1.36512295,  0.91092319],\n",
       "       [ 0.6144332 , -0.79782573,  0.11482824,  2.07890976],\n",
       "       [-1.40896838,  0.01032141,  0.99890904, -0.70320537]])"
      ]
     },
     "execution_count": 14,
     "metadata": {},
     "output_type": "execute_result"
    }
   ],
   "source": [
    "df.values  # underlying numpy data"
   ]
  },
  {
   "cell_type": "code",
   "execution_count": 15,
   "metadata": {},
   "outputs": [
    {
     "data": {
      "text/html": [
       "<div>\n",
       "<style>\n",
       "    .dataframe thead tr:only-child th {\n",
       "        text-align: right;\n",
       "    }\n",
       "\n",
       "    .dataframe thead th {\n",
       "        text-align: left;\n",
       "    }\n",
       "\n",
       "    .dataframe tbody tr th {\n",
       "        vertical-align: top;\n",
       "    }\n",
       "</style>\n",
       "<table border=\"1\" class=\"dataframe\">\n",
       "  <thead>\n",
       "    <tr style=\"text-align: right;\">\n",
       "      <th></th>\n",
       "      <th>A</th>\n",
       "      <th>B</th>\n",
       "      <th>C</th>\n",
       "      <th>D</th>\n",
       "    </tr>\n",
       "  </thead>\n",
       "  <tbody>\n",
       "    <tr>\n",
       "      <th>count</th>\n",
       "      <td>6.000000</td>\n",
       "      <td>6.000000</td>\n",
       "      <td>6.000000</td>\n",
       "      <td>6.000000</td>\n",
       "    </tr>\n",
       "    <tr>\n",
       "      <th>mean</th>\n",
       "      <td>-0.025220</td>\n",
       "      <td>-0.709436</td>\n",
       "      <td>0.895142</td>\n",
       "      <td>0.502674</td>\n",
       "    </tr>\n",
       "    <tr>\n",
       "      <th>std</th>\n",
       "      <td>0.959543</td>\n",
       "      <td>0.956752</td>\n",
       "      <td>0.541996</td>\n",
       "      <td>1.137993</td>\n",
       "    </tr>\n",
       "    <tr>\n",
       "      <th>min</th>\n",
       "      <td>-1.408968</td>\n",
       "      <td>-2.457328</td>\n",
       "      <td>0.114828</td>\n",
       "      <td>-0.927758</td>\n",
       "    </tr>\n",
       "    <tr>\n",
       "      <th>25%</th>\n",
       "      <td>-0.381099</td>\n",
       "      <td>-0.890274</td>\n",
       "      <td>0.494248</td>\n",
       "      <td>-0.379217</td>\n",
       "    </tr>\n",
       "    <tr>\n",
       "      <th>50%</th>\n",
       "      <td>-0.185545</td>\n",
       "      <td>-0.514490</td>\n",
       "      <td>1.119951</td>\n",
       "      <td>0.751836</td>\n",
       "    </tr>\n",
       "    <tr>\n",
       "      <th>75%</th>\n",
       "      <td>0.459337</td>\n",
       "      <td>-0.050047</td>\n",
       "      <td>1.303976</td>\n",
       "      <td>1.026049</td>\n",
       "    </tr>\n",
       "    <tr>\n",
       "      <th>max</th>\n",
       "      <td>1.400725</td>\n",
       "      <td>0.140462</td>\n",
       "      <td>1.365123</td>\n",
       "      <td>2.078910</td>\n",
       "    </tr>\n",
       "  </tbody>\n",
       "</table>\n",
       "</div>"
      ],
      "text/plain": [
       "              A         B         C         D\n",
       "count  6.000000  6.000000  6.000000  6.000000\n",
       "mean  -0.025220 -0.709436  0.895142  0.502674\n",
       "std    0.959543  0.956752  0.541996  1.137993\n",
       "min   -1.408968 -2.457328  0.114828 -0.927758\n",
       "25%   -0.381099 -0.890274  0.494248 -0.379217\n",
       "50%   -0.185545 -0.514490  1.119951  0.751836\n",
       "75%    0.459337 -0.050047  1.303976  1.026049\n",
       "max    1.400725  0.140462  1.365123  2.078910"
      ]
     },
     "execution_count": 15,
     "metadata": {},
     "output_type": "execute_result"
    }
   ],
   "source": [
    "df.describe()  # summary stats"
   ]
  },
  {
   "cell_type": "code",
   "execution_count": 16,
   "metadata": {},
   "outputs": [
    {
     "data": {
      "text/html": [
       "<div>\n",
       "<style>\n",
       "    .dataframe thead tr:only-child th {\n",
       "        text-align: right;\n",
       "    }\n",
       "\n",
       "    .dataframe thead th {\n",
       "        text-align: left;\n",
       "    }\n",
       "\n",
       "    .dataframe tbody tr th {\n",
       "        vertical-align: top;\n",
       "    }\n",
       "</style>\n",
       "<table border=\"1\" class=\"dataframe\">\n",
       "  <thead>\n",
       "    <tr style=\"text-align: right;\">\n",
       "      <th></th>\n",
       "      <th>D</th>\n",
       "      <th>C</th>\n",
       "      <th>B</th>\n",
       "      <th>A</th>\n",
       "    </tr>\n",
       "  </thead>\n",
       "  <tbody>\n",
       "    <tr>\n",
       "      <th>2013-01-01</th>\n",
       "      <td>-0.927758</td>\n",
       "      <td>1.240994</td>\n",
       "      <td>-2.457328</td>\n",
       "      <td>-0.005950</td>\n",
       "    </tr>\n",
       "    <tr>\n",
       "      <th>2013-01-02</th>\n",
       "      <td>0.592748</td>\n",
       "      <td>0.326028</td>\n",
       "      <td>0.140462</td>\n",
       "      <td>1.400725</td>\n",
       "    </tr>\n",
       "    <tr>\n",
       "      <th>2013-01-03</th>\n",
       "      <td>1.064424</td>\n",
       "      <td>1.324970</td>\n",
       "      <td>-0.921090</td>\n",
       "      <td>-0.365139</td>\n",
       "    </tr>\n",
       "    <tr>\n",
       "      <th>2013-01-04</th>\n",
       "      <td>0.910923</td>\n",
       "      <td>1.365123</td>\n",
       "      <td>-0.231153</td>\n",
       "      <td>-0.386419</td>\n",
       "    </tr>\n",
       "    <tr>\n",
       "      <th>2013-01-05</th>\n",
       "      <td>2.078910</td>\n",
       "      <td>0.114828</td>\n",
       "      <td>-0.797826</td>\n",
       "      <td>0.614433</td>\n",
       "    </tr>\n",
       "    <tr>\n",
       "      <th>2013-01-06</th>\n",
       "      <td>-0.703205</td>\n",
       "      <td>0.998909</td>\n",
       "      <td>0.010321</td>\n",
       "      <td>-1.408968</td>\n",
       "    </tr>\n",
       "  </tbody>\n",
       "</table>\n",
       "</div>"
      ],
      "text/plain": [
       "                   D         C         B         A\n",
       "2013-01-01 -0.927758  1.240994 -2.457328 -0.005950\n",
       "2013-01-02  0.592748  0.326028  0.140462  1.400725\n",
       "2013-01-03  1.064424  1.324970 -0.921090 -0.365139\n",
       "2013-01-04  0.910923  1.365123 -0.231153 -0.386419\n",
       "2013-01-05  2.078910  0.114828 -0.797826  0.614433\n",
       "2013-01-06 -0.703205  0.998909  0.010321 -1.408968"
      ]
     },
     "execution_count": 16,
     "metadata": {},
     "output_type": "execute_result"
    }
   ],
   "source": [
    "df.sort_index(axis=1, ascending=False) # sort the index"
   ]
  },
  {
   "cell_type": "code",
   "execution_count": 17,
   "metadata": {},
   "outputs": [
    {
     "data": {
      "text/html": [
       "<div>\n",
       "<style>\n",
       "    .dataframe thead tr:only-child th {\n",
       "        text-align: right;\n",
       "    }\n",
       "\n",
       "    .dataframe thead th {\n",
       "        text-align: left;\n",
       "    }\n",
       "\n",
       "    .dataframe tbody tr th {\n",
       "        vertical-align: top;\n",
       "    }\n",
       "</style>\n",
       "<table border=\"1\" class=\"dataframe\">\n",
       "  <thead>\n",
       "    <tr style=\"text-align: right;\">\n",
       "      <th></th>\n",
       "      <th>A</th>\n",
       "      <th>B</th>\n",
       "      <th>C</th>\n",
       "      <th>D</th>\n",
       "    </tr>\n",
       "  </thead>\n",
       "  <tbody>\n",
       "    <tr>\n",
       "      <th>2013-01-01</th>\n",
       "      <td>-0.005950</td>\n",
       "      <td>-2.457328</td>\n",
       "      <td>1.240994</td>\n",
       "      <td>-0.927758</td>\n",
       "    </tr>\n",
       "    <tr>\n",
       "      <th>2013-01-03</th>\n",
       "      <td>-0.365139</td>\n",
       "      <td>-0.921090</td>\n",
       "      <td>1.324970</td>\n",
       "      <td>1.064424</td>\n",
       "    </tr>\n",
       "    <tr>\n",
       "      <th>2013-01-05</th>\n",
       "      <td>0.614433</td>\n",
       "      <td>-0.797826</td>\n",
       "      <td>0.114828</td>\n",
       "      <td>2.078910</td>\n",
       "    </tr>\n",
       "    <tr>\n",
       "      <th>2013-01-04</th>\n",
       "      <td>-0.386419</td>\n",
       "      <td>-0.231153</td>\n",
       "      <td>1.365123</td>\n",
       "      <td>0.910923</td>\n",
       "    </tr>\n",
       "    <tr>\n",
       "      <th>2013-01-06</th>\n",
       "      <td>-1.408968</td>\n",
       "      <td>0.010321</td>\n",
       "      <td>0.998909</td>\n",
       "      <td>-0.703205</td>\n",
       "    </tr>\n",
       "    <tr>\n",
       "      <th>2013-01-02</th>\n",
       "      <td>1.400725</td>\n",
       "      <td>0.140462</td>\n",
       "      <td>0.326028</td>\n",
       "      <td>0.592748</td>\n",
       "    </tr>\n",
       "  </tbody>\n",
       "</table>\n",
       "</div>"
      ],
      "text/plain": [
       "                   A         B         C         D\n",
       "2013-01-01 -0.005950 -2.457328  1.240994 -0.927758\n",
       "2013-01-03 -0.365139 -0.921090  1.324970  1.064424\n",
       "2013-01-05  0.614433 -0.797826  0.114828  2.078910\n",
       "2013-01-04 -0.386419 -0.231153  1.365123  0.910923\n",
       "2013-01-06 -1.408968  0.010321  0.998909 -0.703205\n",
       "2013-01-02  1.400725  0.140462  0.326028  0.592748"
      ]
     },
     "execution_count": 17,
     "metadata": {},
     "output_type": "execute_result"
    }
   ],
   "source": [
    "df.sort_values(by='B')  # sort values"
   ]
  },
  {
   "cell_type": "code",
   "execution_count": 18,
   "metadata": {},
   "outputs": [
    {
     "data": {
      "text/plain": [
       "2013-01-01   -0.005950\n",
       "2013-01-02    1.400725\n",
       "2013-01-03   -0.365139\n",
       "2013-01-04   -0.386419\n",
       "2013-01-05    0.614433\n",
       "2013-01-06   -1.408968\n",
       "Freq: D, Name: A, dtype: float64"
      ]
     },
     "execution_count": 18,
     "metadata": {},
     "output_type": "execute_result"
    }
   ],
   "source": [
    "df['A']  # get a single col"
   ]
  },
  {
   "cell_type": "code",
   "execution_count": 19,
   "metadata": {},
   "outputs": [
    {
     "data": {
      "text/plain": [
       "2013-01-01   -0.005950\n",
       "2013-01-02    1.400725\n",
       "2013-01-03   -0.365139\n",
       "2013-01-04   -0.386419\n",
       "2013-01-05    0.614433\n",
       "2013-01-06   -1.408968\n",
       "Freq: D, Name: A, dtype: float64"
      ]
     },
     "execution_count": 19,
     "metadata": {},
     "output_type": "execute_result"
    }
   ],
   "source": [
    "df.A"
   ]
  },
  {
   "cell_type": "markdown",
   "metadata": {},
   "source": [
    "Indexing http://pandas.pydata.org/pandas-docs/stable/indexing.html#different-choices-for-indexing\n",
    "\n",
    ".loc is primarily label based\n",
    "\n",
    ".iloc is primarily integer position based \n",
    "\n",
    ".ix supports mixed integer and label based access. I\n",
    "\n"
   ]
  },
  {
   "cell_type": "code",
   "execution_count": 20,
   "metadata": {},
   "outputs": [
    {
     "data": {
      "text/html": [
       "<div>\n",
       "<style>\n",
       "    .dataframe thead tr:only-child th {\n",
       "        text-align: right;\n",
       "    }\n",
       "\n",
       "    .dataframe thead th {\n",
       "        text-align: left;\n",
       "    }\n",
       "\n",
       "    .dataframe tbody tr th {\n",
       "        vertical-align: top;\n",
       "    }\n",
       "</style>\n",
       "<table border=\"1\" class=\"dataframe\">\n",
       "  <thead>\n",
       "    <tr style=\"text-align: right;\">\n",
       "      <th></th>\n",
       "      <th>A</th>\n",
       "      <th>B</th>\n",
       "      <th>C</th>\n",
       "      <th>D</th>\n",
       "    </tr>\n",
       "  </thead>\n",
       "  <tbody>\n",
       "    <tr>\n",
       "      <th>2013-01-01</th>\n",
       "      <td>-0.005950</td>\n",
       "      <td>-2.457328</td>\n",
       "      <td>1.240994</td>\n",
       "      <td>-0.927758</td>\n",
       "    </tr>\n",
       "    <tr>\n",
       "      <th>2013-01-02</th>\n",
       "      <td>1.400725</td>\n",
       "      <td>0.140462</td>\n",
       "      <td>0.326028</td>\n",
       "      <td>0.592748</td>\n",
       "    </tr>\n",
       "    <tr>\n",
       "      <th>2013-01-03</th>\n",
       "      <td>-0.365139</td>\n",
       "      <td>-0.921090</td>\n",
       "      <td>1.324970</td>\n",
       "      <td>1.064424</td>\n",
       "    </tr>\n",
       "  </tbody>\n",
       "</table>\n",
       "</div>"
      ],
      "text/plain": [
       "                   A         B         C         D\n",
       "2013-01-01 -0.005950 -2.457328  1.240994 -0.927758\n",
       "2013-01-02  1.400725  0.140462  0.326028  0.592748\n",
       "2013-01-03 -0.365139 -0.921090  1.324970  1.064424"
      ]
     },
     "execution_count": 20,
     "metadata": {},
     "output_type": "execute_result"
    }
   ],
   "source": [
    "df[:3]   # get first 3 rows"
   ]
  },
  {
   "cell_type": "code",
   "execution_count": 21,
   "metadata": {},
   "outputs": [
    {
     "data": {
      "text/plain": [
       "A   -0.005950\n",
       "B   -2.457328\n",
       "C    1.240994\n",
       "D   -0.927758\n",
       "Name: 2013-01-01 00:00:00, dtype: float64"
      ]
     },
     "execution_count": 21,
     "metadata": {},
     "output_type": "execute_result"
    }
   ],
   "source": [
    "df.loc[dates[0]]  # select by label"
   ]
  },
  {
   "cell_type": "code",
   "execution_count": 22,
   "metadata": {},
   "outputs": [
    {
     "data": {
      "text/html": [
       "<div>\n",
       "<style>\n",
       "    .dataframe thead tr:only-child th {\n",
       "        text-align: right;\n",
       "    }\n",
       "\n",
       "    .dataframe thead th {\n",
       "        text-align: left;\n",
       "    }\n",
       "\n",
       "    .dataframe tbody tr th {\n",
       "        vertical-align: top;\n",
       "    }\n",
       "</style>\n",
       "<table border=\"1\" class=\"dataframe\">\n",
       "  <thead>\n",
       "    <tr style=\"text-align: right;\">\n",
       "      <th></th>\n",
       "      <th>A</th>\n",
       "      <th>B</th>\n",
       "    </tr>\n",
       "  </thead>\n",
       "  <tbody>\n",
       "    <tr>\n",
       "      <th>2013-01-01</th>\n",
       "      <td>-0.005950</td>\n",
       "      <td>-2.457328</td>\n",
       "    </tr>\n",
       "    <tr>\n",
       "      <th>2013-01-02</th>\n",
       "      <td>1.400725</td>\n",
       "      <td>0.140462</td>\n",
       "    </tr>\n",
       "    <tr>\n",
       "      <th>2013-01-03</th>\n",
       "      <td>-0.365139</td>\n",
       "      <td>-0.921090</td>\n",
       "    </tr>\n",
       "    <tr>\n",
       "      <th>2013-01-04</th>\n",
       "      <td>-0.386419</td>\n",
       "      <td>-0.231153</td>\n",
       "    </tr>\n",
       "    <tr>\n",
       "      <th>2013-01-05</th>\n",
       "      <td>0.614433</td>\n",
       "      <td>-0.797826</td>\n",
       "    </tr>\n",
       "    <tr>\n",
       "      <th>2013-01-06</th>\n",
       "      <td>-1.408968</td>\n",
       "      <td>0.010321</td>\n",
       "    </tr>\n",
       "  </tbody>\n",
       "</table>\n",
       "</div>"
      ],
      "text/plain": [
       "                   A         B\n",
       "2013-01-01 -0.005950 -2.457328\n",
       "2013-01-02  1.400725  0.140462\n",
       "2013-01-03 -0.365139 -0.921090\n",
       "2013-01-04 -0.386419 -0.231153\n",
       "2013-01-05  0.614433 -0.797826\n",
       "2013-01-06 -1.408968  0.010321"
      ]
     },
     "execution_count": 22,
     "metadata": {},
     "output_type": "execute_result"
    }
   ],
   "source": [
    "df.loc[:,['A','B']]  # Selecting on a multi-axis by label, indexing    df.loc[row_indexer,column_indexer]"
   ]
  },
  {
   "cell_type": "markdown",
   "metadata": {},
   "source": [
    "http://pandas.pydata.org/pandas-docs/stable/indexing.html#the-lookup-method\n",
    "\n",
    "http://stackoverflow.com/questions/34519402/lookup-table-errors\n",
    "\n",
    "df.lookup: must pass iterables, row and col lookup lists. Returns an array. use pd.DataFrame() to return a dataframe"
   ]
  },
  {
   "cell_type": "code",
   "execution_count": 23,
   "metadata": {},
   "outputs": [
    {
     "data": {
      "text/plain": [
       "array([-2.45732804])"
      ]
     },
     "execution_count": 23,
     "metadata": {},
     "output_type": "execute_result"
    }
   ],
   "source": [
    "df.lookup([dates[0]], ['B'])    # index, column"
   ]
  },
  {
   "cell_type": "markdown",
   "metadata": {},
   "source": [
    "# Merging"
   ]
  },
  {
   "cell_type": "markdown",
   "metadata": {},
   "source": [
    "http://pandas.pydata.org/pandas-docs/stable/10min.html#merge"
   ]
  },
  {
   "cell_type": "code",
   "execution_count": 24,
   "metadata": {},
   "outputs": [
    {
     "data": {
      "text/html": [
       "<div>\n",
       "<style>\n",
       "    .dataframe thead tr:only-child th {\n",
       "        text-align: right;\n",
       "    }\n",
       "\n",
       "    .dataframe thead th {\n",
       "        text-align: left;\n",
       "    }\n",
       "\n",
       "    .dataframe tbody tr th {\n",
       "        vertical-align: top;\n",
       "    }\n",
       "</style>\n",
       "<table border=\"1\" class=\"dataframe\">\n",
       "  <thead>\n",
       "    <tr style=\"text-align: right;\">\n",
       "      <th></th>\n",
       "      <th>0</th>\n",
       "      <th>1</th>\n",
       "      <th>2</th>\n",
       "      <th>3</th>\n",
       "    </tr>\n",
       "  </thead>\n",
       "  <tbody>\n",
       "    <tr>\n",
       "      <th>0</th>\n",
       "      <td>0.434881</td>\n",
       "      <td>0.450341</td>\n",
       "      <td>0.501017</td>\n",
       "      <td>-2.047165</td>\n",
       "    </tr>\n",
       "    <tr>\n",
       "      <th>1</th>\n",
       "      <td>0.490225</td>\n",
       "      <td>0.803843</td>\n",
       "      <td>0.218887</td>\n",
       "      <td>2.707867</td>\n",
       "    </tr>\n",
       "    <tr>\n",
       "      <th>2</th>\n",
       "      <td>1.080542</td>\n",
       "      <td>0.095069</td>\n",
       "      <td>-0.429396</td>\n",
       "      <td>0.368730</td>\n",
       "    </tr>\n",
       "    <tr>\n",
       "      <th>3</th>\n",
       "      <td>0.081142</td>\n",
       "      <td>-0.387710</td>\n",
       "      <td>0.361697</td>\n",
       "      <td>-1.661738</td>\n",
       "    </tr>\n",
       "    <tr>\n",
       "      <th>4</th>\n",
       "      <td>-0.585519</td>\n",
       "      <td>0.056537</td>\n",
       "      <td>0.002353</td>\n",
       "      <td>-0.457005</td>\n",
       "    </tr>\n",
       "    <tr>\n",
       "      <th>5</th>\n",
       "      <td>0.854795</td>\n",
       "      <td>0.551679</td>\n",
       "      <td>-0.206239</td>\n",
       "      <td>-0.371167</td>\n",
       "    </tr>\n",
       "    <tr>\n",
       "      <th>6</th>\n",
       "      <td>1.768296</td>\n",
       "      <td>-0.888486</td>\n",
       "      <td>-0.412970</td>\n",
       "      <td>-0.069210</td>\n",
       "    </tr>\n",
       "    <tr>\n",
       "      <th>7</th>\n",
       "      <td>0.717109</td>\n",
       "      <td>0.403935</td>\n",
       "      <td>-1.483216</td>\n",
       "      <td>0.652358</td>\n",
       "    </tr>\n",
       "    <tr>\n",
       "      <th>8</th>\n",
       "      <td>-1.086130</td>\n",
       "      <td>0.026754</td>\n",
       "      <td>-0.277015</td>\n",
       "      <td>-0.297871</td>\n",
       "    </tr>\n",
       "    <tr>\n",
       "      <th>9</th>\n",
       "      <td>0.628527</td>\n",
       "      <td>0.442433</td>\n",
       "      <td>-0.073528</td>\n",
       "      <td>-0.616032</td>\n",
       "    </tr>\n",
       "  </tbody>\n",
       "</table>\n",
       "</div>"
      ],
      "text/plain": [
       "          0         1         2         3\n",
       "0  0.434881  0.450341  0.501017 -2.047165\n",
       "1  0.490225  0.803843  0.218887  2.707867\n",
       "2  1.080542  0.095069 -0.429396  0.368730\n",
       "3  0.081142 -0.387710  0.361697 -1.661738\n",
       "4 -0.585519  0.056537  0.002353 -0.457005\n",
       "5  0.854795  0.551679 -0.206239 -0.371167\n",
       "6  1.768296 -0.888486 -0.412970 -0.069210\n",
       "7  0.717109  0.403935 -1.483216  0.652358\n",
       "8 -1.086130  0.026754 -0.277015 -0.297871\n",
       "9  0.628527  0.442433 -0.073528 -0.616032"
      ]
     },
     "execution_count": 24,
     "metadata": {},
     "output_type": "execute_result"
    }
   ],
   "source": [
    "df = pd.DataFrame(np.random.randn(10, 4))\n",
    "df"
   ]
  },
  {
   "cell_type": "code",
   "execution_count": 25,
   "metadata": {},
   "outputs": [
    {
     "data": {
      "text/plain": [
       "[          0         1         2         3\n",
       " 0  0.434881  0.450341  0.501017 -2.047165\n",
       " 1  0.490225  0.803843  0.218887  2.707867\n",
       " 2  1.080542  0.095069 -0.429396  0.368730,\n",
       "           0         1         2         3\n",
       " 3  0.081142 -0.387710  0.361697 -1.661738\n",
       " 4 -0.585519  0.056537  0.002353 -0.457005\n",
       " 5  0.854795  0.551679 -0.206239 -0.371167\n",
       " 6  1.768296 -0.888486 -0.412970 -0.069210,\n",
       "           0         1         2         3\n",
       " 7  0.717109  0.403935 -1.483216  0.652358\n",
       " 8 -1.086130  0.026754 -0.277015 -0.297871\n",
       " 9  0.628527  0.442433 -0.073528 -0.616032]"
      ]
     },
     "execution_count": 25,
     "metadata": {},
     "output_type": "execute_result"
    }
   ],
   "source": [
    "pieces = [df[:3], df[3:7], df[7:]]    # list of dataframes\n",
    "pieces"
   ]
  },
  {
   "cell_type": "code",
   "execution_count": 26,
   "metadata": {},
   "outputs": [
    {
     "data": {
      "text/html": [
       "<div>\n",
       "<style>\n",
       "    .dataframe thead tr:only-child th {\n",
       "        text-align: right;\n",
       "    }\n",
       "\n",
       "    .dataframe thead th {\n",
       "        text-align: left;\n",
       "    }\n",
       "\n",
       "    .dataframe tbody tr th {\n",
       "        vertical-align: top;\n",
       "    }\n",
       "</style>\n",
       "<table border=\"1\" class=\"dataframe\">\n",
       "  <thead>\n",
       "    <tr style=\"text-align: right;\">\n",
       "      <th></th>\n",
       "      <th>0</th>\n",
       "      <th>1</th>\n",
       "      <th>2</th>\n",
       "      <th>3</th>\n",
       "    </tr>\n",
       "  </thead>\n",
       "  <tbody>\n",
       "    <tr>\n",
       "      <th>0</th>\n",
       "      <td>0.434881</td>\n",
       "      <td>0.450341</td>\n",
       "      <td>0.501017</td>\n",
       "      <td>-2.047165</td>\n",
       "    </tr>\n",
       "    <tr>\n",
       "      <th>1</th>\n",
       "      <td>0.490225</td>\n",
       "      <td>0.803843</td>\n",
       "      <td>0.218887</td>\n",
       "      <td>2.707867</td>\n",
       "    </tr>\n",
       "    <tr>\n",
       "      <th>2</th>\n",
       "      <td>1.080542</td>\n",
       "      <td>0.095069</td>\n",
       "      <td>-0.429396</td>\n",
       "      <td>0.368730</td>\n",
       "    </tr>\n",
       "    <tr>\n",
       "      <th>3</th>\n",
       "      <td>0.081142</td>\n",
       "      <td>-0.387710</td>\n",
       "      <td>0.361697</td>\n",
       "      <td>-1.661738</td>\n",
       "    </tr>\n",
       "    <tr>\n",
       "      <th>4</th>\n",
       "      <td>-0.585519</td>\n",
       "      <td>0.056537</td>\n",
       "      <td>0.002353</td>\n",
       "      <td>-0.457005</td>\n",
       "    </tr>\n",
       "    <tr>\n",
       "      <th>5</th>\n",
       "      <td>0.854795</td>\n",
       "      <td>0.551679</td>\n",
       "      <td>-0.206239</td>\n",
       "      <td>-0.371167</td>\n",
       "    </tr>\n",
       "    <tr>\n",
       "      <th>6</th>\n",
       "      <td>1.768296</td>\n",
       "      <td>-0.888486</td>\n",
       "      <td>-0.412970</td>\n",
       "      <td>-0.069210</td>\n",
       "    </tr>\n",
       "    <tr>\n",
       "      <th>7</th>\n",
       "      <td>0.717109</td>\n",
       "      <td>0.403935</td>\n",
       "      <td>-1.483216</td>\n",
       "      <td>0.652358</td>\n",
       "    </tr>\n",
       "    <tr>\n",
       "      <th>8</th>\n",
       "      <td>-1.086130</td>\n",
       "      <td>0.026754</td>\n",
       "      <td>-0.277015</td>\n",
       "      <td>-0.297871</td>\n",
       "    </tr>\n",
       "    <tr>\n",
       "      <th>9</th>\n",
       "      <td>0.628527</td>\n",
       "      <td>0.442433</td>\n",
       "      <td>-0.073528</td>\n",
       "      <td>-0.616032</td>\n",
       "    </tr>\n",
       "  </tbody>\n",
       "</table>\n",
       "</div>"
      ],
      "text/plain": [
       "          0         1         2         3\n",
       "0  0.434881  0.450341  0.501017 -2.047165\n",
       "1  0.490225  0.803843  0.218887  2.707867\n",
       "2  1.080542  0.095069 -0.429396  0.368730\n",
       "3  0.081142 -0.387710  0.361697 -1.661738\n",
       "4 -0.585519  0.056537  0.002353 -0.457005\n",
       "5  0.854795  0.551679 -0.206239 -0.371167\n",
       "6  1.768296 -0.888486 -0.412970 -0.069210\n",
       "7  0.717109  0.403935 -1.483216  0.652358\n",
       "8 -1.086130  0.026754 -0.277015 -0.297871\n",
       "9  0.628527  0.442433 -0.073528 -0.616032"
      ]
     },
     "execution_count": 26,
     "metadata": {},
     "output_type": "execute_result"
    }
   ],
   "source": [
    "pd.concat(pieces)"
   ]
  },
  {
   "cell_type": "markdown",
   "metadata": {},
   "source": [
    "# SQL type Joining"
   ]
  },
  {
   "cell_type": "code",
   "execution_count": 27,
   "metadata": {},
   "outputs": [
    {
     "data": {
      "text/html": [
       "<div>\n",
       "<style>\n",
       "    .dataframe thead tr:only-child th {\n",
       "        text-align: right;\n",
       "    }\n",
       "\n",
       "    .dataframe thead th {\n",
       "        text-align: left;\n",
       "    }\n",
       "\n",
       "    .dataframe tbody tr th {\n",
       "        vertical-align: top;\n",
       "    }\n",
       "</style>\n",
       "<table border=\"1\" class=\"dataframe\">\n",
       "  <thead>\n",
       "    <tr style=\"text-align: right;\">\n",
       "      <th></th>\n",
       "      <th>key</th>\n",
       "      <th>lval</th>\n",
       "    </tr>\n",
       "  </thead>\n",
       "  <tbody>\n",
       "    <tr>\n",
       "      <th>0</th>\n",
       "      <td>foo</td>\n",
       "      <td>1</td>\n",
       "    </tr>\n",
       "    <tr>\n",
       "      <th>1</th>\n",
       "      <td>bar</td>\n",
       "      <td>2</td>\n",
       "    </tr>\n",
       "    <tr>\n",
       "      <th>2</th>\n",
       "      <td>paz</td>\n",
       "      <td>3</td>\n",
       "    </tr>\n",
       "  </tbody>\n",
       "</table>\n",
       "</div>"
      ],
      "text/plain": [
       "   key  lval\n",
       "0  foo     1\n",
       "1  bar     2\n",
       "2  paz     3"
      ]
     },
     "execution_count": 27,
     "metadata": {},
     "output_type": "execute_result"
    }
   ],
   "source": [
    "left = pd.DataFrame({'key': ['foo', 'bar', 'paz'], 'lval': [1, 2, 3]})\n",
    "left"
   ]
  },
  {
   "cell_type": "code",
   "execution_count": 28,
   "metadata": {},
   "outputs": [
    {
     "data": {
      "text/html": [
       "<div>\n",
       "<style>\n",
       "    .dataframe thead tr:only-child th {\n",
       "        text-align: right;\n",
       "    }\n",
       "\n",
       "    .dataframe thead th {\n",
       "        text-align: left;\n",
       "    }\n",
       "\n",
       "    .dataframe tbody tr th {\n",
       "        vertical-align: top;\n",
       "    }\n",
       "</style>\n",
       "<table border=\"1\" class=\"dataframe\">\n",
       "  <thead>\n",
       "    <tr style=\"text-align: right;\">\n",
       "      <th></th>\n",
       "      <th>key</th>\n",
       "      <th>rval</th>\n",
       "    </tr>\n",
       "  </thead>\n",
       "  <tbody>\n",
       "    <tr>\n",
       "      <th>0</th>\n",
       "      <td>paz</td>\n",
       "      <td>4</td>\n",
       "    </tr>\n",
       "    <tr>\n",
       "      <th>1</th>\n",
       "      <td>bar</td>\n",
       "      <td>5</td>\n",
       "    </tr>\n",
       "    <tr>\n",
       "      <th>2</th>\n",
       "      <td>foo</td>\n",
       "      <td>6</td>\n",
       "    </tr>\n",
       "  </tbody>\n",
       "</table>\n",
       "</div>"
      ],
      "text/plain": [
       "   key  rval\n",
       "0  paz     4\n",
       "1  bar     5\n",
       "2  foo     6"
      ]
     },
     "execution_count": 28,
     "metadata": {},
     "output_type": "execute_result"
    }
   ],
   "source": [
    "right = pd.DataFrame({'key': [ 'paz', 'bar', 'foo'], 'rval': [4, 5, 6]})\n",
    "right"
   ]
  },
  {
   "cell_type": "code",
   "execution_count": 29,
   "metadata": {},
   "outputs": [
    {
     "data": {
      "text/html": [
       "<div>\n",
       "<style>\n",
       "    .dataframe thead tr:only-child th {\n",
       "        text-align: right;\n",
       "    }\n",
       "\n",
       "    .dataframe thead th {\n",
       "        text-align: left;\n",
       "    }\n",
       "\n",
       "    .dataframe tbody tr th {\n",
       "        vertical-align: top;\n",
       "    }\n",
       "</style>\n",
       "<table border=\"1\" class=\"dataframe\">\n",
       "  <thead>\n",
       "    <tr style=\"text-align: right;\">\n",
       "      <th></th>\n",
       "      <th>key</th>\n",
       "      <th>lval</th>\n",
       "      <th>rval</th>\n",
       "    </tr>\n",
       "  </thead>\n",
       "  <tbody>\n",
       "    <tr>\n",
       "      <th>0</th>\n",
       "      <td>foo</td>\n",
       "      <td>1</td>\n",
       "      <td>6</td>\n",
       "    </tr>\n",
       "    <tr>\n",
       "      <th>1</th>\n",
       "      <td>bar</td>\n",
       "      <td>2</td>\n",
       "      <td>5</td>\n",
       "    </tr>\n",
       "    <tr>\n",
       "      <th>2</th>\n",
       "      <td>paz</td>\n",
       "      <td>3</td>\n",
       "      <td>4</td>\n",
       "    </tr>\n",
       "  </tbody>\n",
       "</table>\n",
       "</div>"
      ],
      "text/plain": [
       "   key  lval  rval\n",
       "0  foo     1     6\n",
       "1  bar     2     5\n",
       "2  paz     3     4"
      ]
     },
     "execution_count": 29,
     "metadata": {},
     "output_type": "execute_result"
    }
   ],
   "source": [
    " pd.merge(left, right, on='key')"
   ]
  },
  {
   "cell_type": "markdown",
   "metadata": {
    "collapsed": true
   },
   "source": [
    "# Multiindex"
   ]
  },
  {
   "cell_type": "code",
   "execution_count": 30,
   "metadata": {},
   "outputs": [
    {
     "data": {
      "text/html": [
       "<div>\n",
       "<style>\n",
       "    .dataframe thead tr:only-child th {\n",
       "        text-align: right;\n",
       "    }\n",
       "\n",
       "    .dataframe thead th {\n",
       "        text-align: left;\n",
       "    }\n",
       "\n",
       "    .dataframe tbody tr th {\n",
       "        vertical-align: top;\n",
       "    }\n",
       "</style>\n",
       "<table border=\"1\" class=\"dataframe\">\n",
       "  <thead>\n",
       "    <tr style=\"text-align: right;\">\n",
       "      <th></th>\n",
       "      <th></th>\n",
       "      <th>A</th>\n",
       "      <th>B</th>\n",
       "    </tr>\n",
       "  </thead>\n",
       "  <tbody>\n",
       "    <tr>\n",
       "      <th rowspan=\"3\" valign=\"top\">one</th>\n",
       "      <th>1</th>\n",
       "      <td>-0.091092</td>\n",
       "      <td>-0.003711</td>\n",
       "    </tr>\n",
       "    <tr>\n",
       "      <th>2</th>\n",
       "      <td>0.373894</td>\n",
       "      <td>1.771611</td>\n",
       "    </tr>\n",
       "    <tr>\n",
       "      <th>3</th>\n",
       "      <td>1.716596</td>\n",
       "      <td>0.714716</td>\n",
       "    </tr>\n",
       "    <tr>\n",
       "      <th rowspan=\"3\" valign=\"top\">two</th>\n",
       "      <th>1</th>\n",
       "      <td>-0.300821</td>\n",
       "      <td>1.155177</td>\n",
       "    </tr>\n",
       "    <tr>\n",
       "      <th>2</th>\n",
       "      <td>-0.490407</td>\n",
       "      <td>0.788400</td>\n",
       "    </tr>\n",
       "    <tr>\n",
       "      <th>3</th>\n",
       "      <td>0.593308</td>\n",
       "      <td>0.209093</td>\n",
       "    </tr>\n",
       "  </tbody>\n",
       "</table>\n",
       "</div>"
      ],
      "text/plain": [
       "              A         B\n",
       "one 1 -0.091092 -0.003711\n",
       "    2  0.373894  1.771611\n",
       "    3  1.716596  0.714716\n",
       "two 1 -0.300821  1.155177\n",
       "    2 -0.490407  0.788400\n",
       "    3  0.593308  0.209093"
      ]
     },
     "execution_count": 30,
     "metadata": {},
     "output_type": "execute_result"
    }
   ],
   "source": [
    "np.arrays = [['one','one','one','two','two','two'],[1,2,3,1,2,3]]\n",
    "\n",
    "df = pd.DataFrame(np.random.randn(6,2),index=pd.MultiIndex.from_tuples(list(zip(*np.arrays))),columns=['A','B'])\n",
    "\n",
    "df  # This is the dataframe we have generated"
   ]
  },
  {
   "cell_type": "markdown",
   "metadata": {
    "collapsed": true
   },
   "source": [
    "## Dicts to df"
   ]
  },
  {
   "cell_type": "markdown",
   "metadata": {},
   "source": [
    "Test how to generate a dataframe from a loop"
   ]
  },
  {
   "cell_type": "code",
   "execution_count": 31,
   "metadata": {},
   "outputs": [],
   "source": [
    "def get_now():\n",
    "    \"\"\"Convenience to get the current time, in ms to 3 dp\"\"\"\n",
    "    return datetime.now().strftime('%Y-%m-%d %H:%M:%S.%f')[:-3] # Milliseconds to 3 dp"
   ]
  },
  {
   "cell_type": "code",
   "execution_count": 32,
   "metadata": {},
   "outputs": [
    {
     "data": {
      "text/plain": [
       "'2017-11-09 06:33:27.185'"
      ]
     },
     "execution_count": 32,
     "metadata": {},
     "output_type": "execute_result"
    }
   ],
   "source": [
    "get_now()"
   ]
  },
  {
   "cell_type": "code",
   "execution_count": 114,
   "metadata": {},
   "outputs": [
    {
     "name": "stdout",
     "output_type": "stream",
     "text": [
      "0 2017-11-09 07:14:39.305779 0.059901293240380404 dummy_0\n",
      "1 2017-11-09 07:14:39.511143 0.09481942944329635 dummy_1\n",
      "2 2017-11-09 07:14:39.717954 0.3264565424762932 dummy_2\n",
      "3 2017-11-09 07:14:39.923601 0.44467727719811845 dummy_3\n",
      "4 2017-11-09 07:14:40.130433 0.011855931756308058 dummy_4\n",
      "5 2017-11-09 07:14:40.333094 0.5673557793200492 dummy_5\n",
      "6 2017-11-09 07:14:40.539667 0.7119625744726542 dummy_6\n",
      "7 2017-11-09 07:14:40.746656 0.521147982738405 dummy_7\n",
      "8 2017-11-09 07:14:40.951513 0.4716532667764314 dummy_8\n",
      "9 2017-11-09 07:14:41.158597 0.5452076303040431 dummy_9\n"
     ]
    }
   ],
   "source": [
    "frames = []  # hold generated dataframes in a list\n",
    "for i in range(10):\n",
    "    data = np.random.rand()\n",
    "    #now = get_now()\n",
    "    now = datetime.now()\n",
    "    filename = \"dummy_\" + str(i)\n",
    "    print(i, now, data, filename)\n",
    "    temp_df = pd.Series({'Time':now, 'Sample':i, 'State':data, 'File name':filename})\n",
    "    frames.append(temp_df)\n",
    "    time.sleep(0.2)"
   ]
  },
  {
   "cell_type": "code",
   "execution_count": 115,
   "metadata": {},
   "outputs": [
    {
     "data": {
      "text/plain": [
       "File name                       dummy_0\n",
       "Sample                                0\n",
       "State                         0.0599013\n",
       "Time         2017-11-09 07:14:39.305779\n",
       "dtype: object"
      ]
     },
     "execution_count": 115,
     "metadata": {},
     "output_type": "execute_result"
    }
   ],
   "source": [
    "frames[0] # Show a single series"
   ]
  },
  {
   "cell_type": "code",
   "execution_count": 116,
   "metadata": {},
   "outputs": [
    {
     "data": {
      "text/html": [
       "<div>\n",
       "<style>\n",
       "    .dataframe thead tr:only-child th {\n",
       "        text-align: right;\n",
       "    }\n",
       "\n",
       "    .dataframe thead th {\n",
       "        text-align: left;\n",
       "    }\n",
       "\n",
       "    .dataframe tbody tr th {\n",
       "        vertical-align: top;\n",
       "    }\n",
       "</style>\n",
       "<table border=\"1\" class=\"dataframe\">\n",
       "  <thead>\n",
       "    <tr style=\"text-align: right;\">\n",
       "      <th></th>\n",
       "      <th>File name</th>\n",
       "      <th>State</th>\n",
       "    </tr>\n",
       "    <tr>\n",
       "      <th>Time</th>\n",
       "      <th></th>\n",
       "      <th></th>\n",
       "    </tr>\n",
       "  </thead>\n",
       "  <tbody>\n",
       "    <tr>\n",
       "      <th>2017-11-09 07:14:39.305779</th>\n",
       "      <td>dummy_0</td>\n",
       "      <td>0.059901</td>\n",
       "    </tr>\n",
       "    <tr>\n",
       "      <th>2017-11-09 07:14:39.511143</th>\n",
       "      <td>dummy_1</td>\n",
       "      <td>0.094819</td>\n",
       "    </tr>\n",
       "    <tr>\n",
       "      <th>2017-11-09 07:14:39.717954</th>\n",
       "      <td>dummy_2</td>\n",
       "      <td>0.326457</td>\n",
       "    </tr>\n",
       "    <tr>\n",
       "      <th>2017-11-09 07:14:39.923601</th>\n",
       "      <td>dummy_3</td>\n",
       "      <td>0.444677</td>\n",
       "    </tr>\n",
       "    <tr>\n",
       "      <th>2017-11-09 07:14:40.130433</th>\n",
       "      <td>dummy_4</td>\n",
       "      <td>0.011856</td>\n",
       "    </tr>\n",
       "    <tr>\n",
       "      <th>2017-11-09 07:14:40.333094</th>\n",
       "      <td>dummy_5</td>\n",
       "      <td>0.567356</td>\n",
       "    </tr>\n",
       "    <tr>\n",
       "      <th>2017-11-09 07:14:40.539667</th>\n",
       "      <td>dummy_6</td>\n",
       "      <td>0.711963</td>\n",
       "    </tr>\n",
       "    <tr>\n",
       "      <th>2017-11-09 07:14:40.746656</th>\n",
       "      <td>dummy_7</td>\n",
       "      <td>0.521148</td>\n",
       "    </tr>\n",
       "    <tr>\n",
       "      <th>2017-11-09 07:14:40.951513</th>\n",
       "      <td>dummy_8</td>\n",
       "      <td>0.471653</td>\n",
       "    </tr>\n",
       "    <tr>\n",
       "      <th>2017-11-09 07:14:41.158597</th>\n",
       "      <td>dummy_9</td>\n",
       "      <td>0.545208</td>\n",
       "    </tr>\n",
       "  </tbody>\n",
       "</table>\n",
       "</div>"
      ],
      "text/plain": [
       "                           File name     State\n",
       "Time                                          \n",
       "2017-11-09 07:14:39.305779   dummy_0  0.059901\n",
       "2017-11-09 07:14:39.511143   dummy_1  0.094819\n",
       "2017-11-09 07:14:39.717954   dummy_2  0.326457\n",
       "2017-11-09 07:14:39.923601   dummy_3  0.444677\n",
       "2017-11-09 07:14:40.130433   dummy_4  0.011856\n",
       "2017-11-09 07:14:40.333094   dummy_5  0.567356\n",
       "2017-11-09 07:14:40.539667   dummy_6  0.711963\n",
       "2017-11-09 07:14:40.746656   dummy_7  0.521148\n",
       "2017-11-09 07:14:40.951513   dummy_8  0.471653\n",
       "2017-11-09 07:14:41.158597   dummy_9  0.545208"
      ]
     },
     "execution_count": 116,
     "metadata": {},
     "output_type": "execute_result"
    }
   ],
   "source": [
    "my_df = pd.DataFrame(frames).set_index('Sample')\n",
    "my_df.set_index('Time', inplace=True)\n",
    "my_df"
   ]
  },
  {
   "cell_type": "code",
   "execution_count": 126,
   "metadata": {},
   "outputs": [
    {
     "data": {
      "text/plain": [
       "numpy.datetime64('2017-11-09T07:14:40.305779000')"
      ]
     },
     "execution_count": 126,
     "metadata": {},
     "output_type": "execute_result"
    }
   ],
   "source": [
    "test_time = my_df.index.values[0] + np.timedelta64(1,'s') # Add a second \n",
    "test_time"
   ]
  },
  {
   "cell_type": "markdown",
   "metadata": {},
   "source": [
    "Get the first data after this time"
   ]
  },
  {
   "cell_type": "code",
   "execution_count": 127,
   "metadata": {},
   "outputs": [
    {
     "data": {
      "text/plain": [
       "Timestamp('2017-11-09 07:14:40.130433')"
      ]
     },
     "execution_count": 127,
     "metadata": {},
     "output_type": "execute_result"
    }
   ],
   "source": [
    "found_index = my_df.index.asof(test_time)  # Returns the timestamp before the test - time\n",
    "found_index"
   ]
  },
  {
   "cell_type": "code",
   "execution_count": 129,
   "metadata": {},
   "outputs": [
    {
     "data": {
      "text/plain": [
       "0.011855931756308058"
      ]
     },
     "execution_count": 129,
     "metadata": {},
     "output_type": "execute_result"
    }
   ],
   "source": [
    "my_df.loc[found_index]['State']  # The data at that timestamp"
   ]
  },
  {
   "cell_type": "code",
   "execution_count": 165,
   "metadata": {},
   "outputs": [
    {
     "data": {
      "text/plain": [
       "0.011855931756308058"
      ]
     },
     "execution_count": 165,
     "metadata": {},
     "output_type": "execute_result"
    }
   ],
   "source": [
    "def state_at_time(df, dtObj):\n",
    "    \"\"\"Check the last registered state at some time using asof.\n",
    "    Passed df needs to be time indexed\"\"\"\n",
    "    found_index = df.index.asof(dtObj) # Find the closest index asof time test_time\n",
    "    if pd.isnull(found_index):             # If dtObj is before the first index of dt, will return NaT\n",
    "        return float('nan')\n",
    "    else:\n",
    "        state = df.loc[found_index]['State']      # Get the state at the found_index\n",
    "        return state\n",
    "\n",
    "\n",
    "state_at_time(my_df, test_time)"
   ]
  },
  {
   "cell_type": "code",
   "execution_count": 166,
   "metadata": {},
   "outputs": [
    {
     "data": {
      "text/plain": [
       "Timestamp('2017-11-09 07:14:40.130433')"
      ]
     },
     "execution_count": 166,
     "metadata": {},
     "output_type": "execute_result"
    }
   ],
   "source": [
    "my_df.index.asof(test_time) "
   ]
  },
  {
   "cell_type": "code",
   "execution_count": 167,
   "metadata": {},
   "outputs": [
    {
     "data": {
      "text/plain": [
       "nan"
      ]
     },
     "execution_count": 167,
     "metadata": {},
     "output_type": "execute_result"
    }
   ],
   "source": [
    "test_time2 = test_time - np.timedelta64(1,'D')\n",
    "state_at_time(my_df, test_time2) "
   ]
  },
  {
   "cell_type": "markdown",
   "metadata": {},
   "source": [
    "## Plot"
   ]
  },
  {
   "cell_type": "code",
   "execution_count": 45,
   "metadata": {},
   "outputs": [
    {
     "data": {
      "text/plain": [
       "<matplotlib.axes._subplots.AxesSubplot at 0x10c3b8550>"
      ]
     },
     "execution_count": 45,
     "metadata": {},
     "output_type": "execute_result"
    },
    {
     "data": {
      "image/png": "[encoded data removed]",
      "text/plain": [
       "<matplotlib.figure.Figure at 0x10b666b38>"
      ]
     },
     "metadata": {},
     "output_type": "display_data"
    }
   ],
   "source": [
    "my_df.plot()"
   ]
  },
  {
   "cell_type": "code",
   "execution_count": 37,
   "metadata": {},
   "outputs": [
    {
     "data": {
      "text/plain": [
       "count    10.000000\n",
       "mean      0.389191\n",
       "std       0.333158\n",
       "min       0.004617\n",
       "25%       0.066462\n",
       "50%       0.362163\n",
       "75%       0.675276\n",
       "max       0.876525\n",
       "Name: Data, dtype: float64"
      ]
     },
     "execution_count": 37,
     "metadata": {},
     "output_type": "execute_result"
    }
   ],
   "source": [
    "my_df['Data'].describe()"
   ]
  },
  {
   "cell_type": "code",
   "execution_count": 38,
   "metadata": {},
   "outputs": [],
   "source": [
    "my_df.to_csv('my_df.csv')"
   ]
  },
  {
   "cell_type": "code",
   "execution_count": 39,
   "metadata": {},
   "outputs": [],
   "source": [
    "my_df.to_pickle('my_df.p')  # Lets also pickle the object"
   ]
  },
  {
   "cell_type": "markdown",
   "metadata": {},
   "source": [
    "## Dict to csv\n",
    "Bit ugly but this works."
   ]
  },
  {
   "cell_type": "code",
   "execution_count": 40,
   "metadata": {},
   "outputs": [],
   "source": [
    "my_dict = {'start':1, 'name':'test', 'val':3.134}"
   ]
  },
  {
   "cell_type": "code",
   "execution_count": 41,
   "metadata": {},
   "outputs": [],
   "source": [
    "pd.DataFrame(list(my_dict.items())).to_csv('my_dict.csv')"
   ]
  },
  {
   "cell_type": "code",
   "execution_count": null,
   "metadata": {},
   "outputs": [],
   "source": []
  }
 ],
 "metadata": {
  "anaconda-cloud": {},
  "kernelspec": {
   "display_name": "Python 3",
   "language": "python",
   "name": "python3"
  },
  "language_info": {
   "codemirror_mode": {
    "name": "ipython",
    "version": 3
   },
   "file_extension": ".py",
   "mimetype": "text/x-python",
   "name": "python",
   "nbconvert_exporter": "python",
   "pygments_lexer": "ipython3",
   "version": "3.6.3"
  }
 },
 "nbformat": 4,
 "nbformat_minor": 1
}
