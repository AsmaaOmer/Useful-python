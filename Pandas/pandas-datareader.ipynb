{
 "cells": [
  {
   "cell_type": "markdown",
   "metadata": {},
   "source": [
    "https://pydata.github.io/pandas-datareader/\n",
    "\n",
    "Need a data source - [Tiingo](https://www.tiingo.com/) is a financial research platform that provides data including news, fundamentals and prices. \n",
    "\n",
    "Having headache getting API key read from env so paste below"
   ]
  },
  {
   "cell_type": "code",
   "execution_count": null,
   "metadata": {},
   "outputs": [],
   "source": [
    "# !pip install pandas-datareader"
   ]
  },
  {
   "cell_type": "code",
   "execution_count": 6,
   "metadata": {},
   "outputs": [],
   "source": [
    "%matplotlib inline"
   ]
  },
  {
   "cell_type": "code",
   "execution_count": 4,
   "metadata": {},
   "outputs": [
    {
     "data": {
      "text/html": [
       "<div>\n",
       "<style scoped>\n",
       "    .dataframe tbody tr th:only-of-type {\n",
       "        vertical-align: middle;\n",
       "    }\n",
       "\n",
       "    .dataframe tbody tr th {\n",
       "        vertical-align: top;\n",
       "    }\n",
       "\n",
       "    .dataframe thead th {\n",
       "        text-align: right;\n",
       "    }\n",
       "</style>\n",
       "<table border=\"1\" class=\"dataframe\">\n",
       "  <thead>\n",
       "    <tr style=\"text-align: right;\">\n",
       "      <th></th>\n",
       "      <th></th>\n",
       "      <th>close</th>\n",
       "      <th>high</th>\n",
       "      <th>low</th>\n",
       "      <th>open</th>\n",
       "      <th>volume</th>\n",
       "      <th>adjClose</th>\n",
       "      <th>adjHigh</th>\n",
       "      <th>adjLow</th>\n",
       "      <th>adjOpen</th>\n",
       "      <th>adjVolume</th>\n",
       "      <th>divCash</th>\n",
       "      <th>splitFactor</th>\n",
       "    </tr>\n",
       "    <tr>\n",
       "      <th>symbol</th>\n",
       "      <th>date</th>\n",
       "      <th></th>\n",
       "      <th></th>\n",
       "      <th></th>\n",
       "      <th></th>\n",
       "      <th></th>\n",
       "      <th></th>\n",
       "      <th></th>\n",
       "      <th></th>\n",
       "      <th></th>\n",
       "      <th></th>\n",
       "      <th></th>\n",
       "      <th></th>\n",
       "    </tr>\n",
       "  </thead>\n",
       "  <tbody>\n",
       "    <tr>\n",
       "      <th rowspan=\"5\" valign=\"top\">GOOG</th>\n",
       "      <th>2014-12-22 00:00:00+00:00</th>\n",
       "      <td>524.87</td>\n",
       "      <td>526.460</td>\n",
       "      <td>516.080</td>\n",
       "      <td>516.08</td>\n",
       "      <td>2723599</td>\n",
       "      <td>524.87</td>\n",
       "      <td>526.460</td>\n",
       "      <td>516.080</td>\n",
       "      <td>516.08</td>\n",
       "      <td>2723599</td>\n",
       "      <td>0.0</td>\n",
       "      <td>1.0</td>\n",
       "    </tr>\n",
       "    <tr>\n",
       "      <th>2014-12-23 00:00:00+00:00</th>\n",
       "      <td>530.59</td>\n",
       "      <td>534.560</td>\n",
       "      <td>526.290</td>\n",
       "      <td>527.00</td>\n",
       "      <td>2191567</td>\n",
       "      <td>530.59</td>\n",
       "      <td>534.560</td>\n",
       "      <td>526.290</td>\n",
       "      <td>527.00</td>\n",
       "      <td>2191567</td>\n",
       "      <td>0.0</td>\n",
       "      <td>1.0</td>\n",
       "    </tr>\n",
       "    <tr>\n",
       "      <th>2014-12-24 00:00:00+00:00</th>\n",
       "      <td>528.77</td>\n",
       "      <td>531.759</td>\n",
       "      <td>527.020</td>\n",
       "      <td>530.51</td>\n",
       "      <td>704035</td>\n",
       "      <td>528.77</td>\n",
       "      <td>531.759</td>\n",
       "      <td>527.020</td>\n",
       "      <td>530.51</td>\n",
       "      <td>704035</td>\n",
       "      <td>0.0</td>\n",
       "      <td>1.0</td>\n",
       "    </tr>\n",
       "    <tr>\n",
       "      <th>2014-12-26 00:00:00+00:00</th>\n",
       "      <td>534.03</td>\n",
       "      <td>534.250</td>\n",
       "      <td>527.310</td>\n",
       "      <td>528.77</td>\n",
       "      <td>1037727</td>\n",
       "      <td>534.03</td>\n",
       "      <td>534.250</td>\n",
       "      <td>527.310</td>\n",
       "      <td>528.77</td>\n",
       "      <td>1037727</td>\n",
       "      <td>0.0</td>\n",
       "      <td>1.0</td>\n",
       "    </tr>\n",
       "    <tr>\n",
       "      <th>2014-12-29 00:00:00+00:00</th>\n",
       "      <td>530.33</td>\n",
       "      <td>535.480</td>\n",
       "      <td>530.011</td>\n",
       "      <td>532.19</td>\n",
       "      <td>2276104</td>\n",
       "      <td>530.33</td>\n",
       "      <td>535.480</td>\n",
       "      <td>530.011</td>\n",
       "      <td>532.19</td>\n",
       "      <td>2276104</td>\n",
       "      <td>0.0</td>\n",
       "      <td>1.0</td>\n",
       "    </tr>\n",
       "  </tbody>\n",
       "</table>\n",
       "</div>"
      ],
      "text/plain": [
       "                                   close     high      low    open   volume  \\\n",
       "symbol date                                                                   \n",
       "GOOG   2014-12-22 00:00:00+00:00  524.87  526.460  516.080  516.08  2723599   \n",
       "       2014-12-23 00:00:00+00:00  530.59  534.560  526.290  527.00  2191567   \n",
       "       2014-12-24 00:00:00+00:00  528.77  531.759  527.020  530.51   704035   \n",
       "       2014-12-26 00:00:00+00:00  534.03  534.250  527.310  528.77  1037727   \n",
       "       2014-12-29 00:00:00+00:00  530.33  535.480  530.011  532.19  2276104   \n",
       "\n",
       "                                  adjClose  adjHigh   adjLow  adjOpen  \\\n",
       "symbol date                                                             \n",
       "GOOG   2014-12-22 00:00:00+00:00    524.87  526.460  516.080   516.08   \n",
       "       2014-12-23 00:00:00+00:00    530.59  534.560  526.290   527.00   \n",
       "       2014-12-24 00:00:00+00:00    528.77  531.759  527.020   530.51   \n",
       "       2014-12-26 00:00:00+00:00    534.03  534.250  527.310   528.77   \n",
       "       2014-12-29 00:00:00+00:00    530.33  535.480  530.011   532.19   \n",
       "\n",
       "                                  adjVolume  divCash  splitFactor  \n",
       "symbol date                                                        \n",
       "GOOG   2014-12-22 00:00:00+00:00    2723599      0.0          1.0  \n",
       "       2014-12-23 00:00:00+00:00    2191567      0.0          1.0  \n",
       "       2014-12-24 00:00:00+00:00     704035      0.0          1.0  \n",
       "       2014-12-26 00:00:00+00:00    1037727      0.0          1.0  \n",
       "       2014-12-29 00:00:00+00:00    2276104      0.0          1.0  "
      ]
     },
     "execution_count": 4,
     "metadata": {},
     "output_type": "execute_result"
    }
   ],
   "source": [
    "import os\n",
    "import pandas_datareader as pdr\n",
    "\n",
    "TIINGO_API_KEY = 'replace'\n",
    "\n",
    "df = pdr.get_data_tiingo('GOOG', api_key=TIINGO_API_KEY)\n",
    "df.head()"
   ]
  },
  {
   "cell_type": "code",
   "execution_count": 7,
   "metadata": {},
   "outputs": [
    {
     "data": {
      "image/png": "[encoded data removed]",
      "text/plain": [
       "<Figure size 432x288 with 1 Axes>"
      ]
     },
     "metadata": {
      "needs_background": "light"
     },
     "output_type": "display_data"
    }
   ],
   "source": [
    "df['close'].plot();"
   ]
  },
  {
   "cell_type": "code",
   "execution_count": null,
   "metadata": {},
   "outputs": [],
   "source": []
  }
 ],
 "metadata": {
  "kernelspec": {
   "display_name": "Python 3",
   "language": "python",
   "name": "python3"
  },
  "language_info": {
   "codemirror_mode": {
    "name": "ipython",
    "version": 3
   },
   "file_extension": ".py",
   "mimetype": "text/x-python",
   "name": "python",
   "nbconvert_exporter": "python",
   "pygments_lexer": "ipython3",
   "version": "3.7.3"
  }
 },
 "nbformat": 4,
 "nbformat_minor": 4
}
