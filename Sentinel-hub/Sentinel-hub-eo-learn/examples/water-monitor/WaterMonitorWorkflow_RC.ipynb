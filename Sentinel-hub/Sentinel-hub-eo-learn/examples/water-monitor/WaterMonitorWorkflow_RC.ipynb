{
 "cells": [
  {
   "cell_type": "markdown",
   "metadata": {},
   "source": [
    "# Measuring the water level of a Theewaterskloof Dam in South Africa\n",
    "\n",
    "Natebook showcases an example Earth observation processing chain that determines water levels of any water body (dam, reservoir, lake, ...) from satellite imagery. The entire processing chain is performed using the `eo-learn` library. The user simply needs to provide a polygon with water body's nominal water extent."
   ]
  },
  {
   "cell_type": "code",
   "execution_count": 1,
   "metadata": {},
   "outputs": [],
   "source": [
    "%reload_ext autoreload\n",
    "%autoreload 2\n",
    "%matplotlib inline"
   ]
  },
  {
   "cell_type": "markdown",
   "metadata": {},
   "source": [
    "#### Imports - eolearn "
   ]
  },
  {
   "cell_type": "code",
   "execution_count": 2,
   "metadata": {},
   "outputs": [],
   "source": [
    "from eolearn.core import EOTask, EOPatch, EOWorkflow, Dependency, FeatureType\n",
    "\n",
    "# We'll use Sentinel-2 imagery (Level 1C) provided through SentinelHub\n",
    "# If you don't know what `Level 1C` means, don't worry. It doesn't matter.\n",
    "from eolearn.io import S2L1CWCSInput, AddS2L1CFeature, LoadFromDisk, SaveToDisk\n",
    "\n",
    "# cloud detection\n",
    "from eolearn.mask import AddCloudMaskTask, get_s2_pixel_cloud_detector\n",
    "from eolearn.mask import AddValidDataMaskTask\n",
    "\n",
    "# filtering of scenes\n",
    "from eolearn.features import SimpleFilterTask\n",
    "\n",
    "# burning the vectorised polygon to raster\n",
    "from eolearn.geometry import VectorToRaster"
   ]
  },
  {
   "cell_type": "markdown",
   "metadata": {},
   "source": [
    "#### Imports - other "
   ]
  },
  {
   "cell_type": "code",
   "execution_count": 3,
   "metadata": {},
   "outputs": [],
   "source": [
    "# The golden standard: numpy and matplotlib\n",
    "import numpy as np\n",
    "\n",
    "import matplotlib\n",
    "import matplotlib.pyplot as plt\n",
    "from mpl_toolkits.axes_grid1 import make_axes_locatable\n",
    "\n",
    "# For manipulating geo-spatial vector dataset (polygons of nominal water extent)\n",
    "import geopandas as gpd\n",
    "\n",
    "# Image manipulations\n",
    "# Our water detector is going to be based on a simple threshold \n",
    "# of Normalised Difference Water Index (NDWI) grayscale image\n",
    "from skimage.filters import threshold_otsu\n",
    "\n",
    "# Loading polygon of nominal water extent\n",
    "from shapely.wkt import loads\n",
    "from shapely.geometry import Polygon\n",
    "\n",
    "# Sentinel Hub\n",
    "from sentinelhub import BBox, CRS"
   ]
  },
  {
   "cell_type": "markdown",
   "metadata": {},
   "source": [
    "## Water level extraction EOWorkflow\n",
    "\n",
    "Our basic logic of the example workflow is:\n",
    "1. Download all available Sentinel-2 sattelite imagery of Theewaterskloof Dam from beginning of 2016 and today\n",
    "    * the following *layers* will be downloaded:\n",
    "        * `TRUE_COLOR` for nicer visualisations\n",
    "        * `NDWI` for water detection\n",
    "2. Clouds are very often obscuring the view of the ground. In order to correctly determine the water level of the dam all images with clouds need to be filtered out.\n",
    "4. Apply adaptive thresholding to `NDWI` grayscale images\n",
    "5. Extract water level from a comparison of measured water extent from step 4. with the nominal one\n",
    "\n",
    "Each step in the above overview of the workflow is accomplished by adding an `EOTask` to the `EOWorkflow`"
   ]
  },
  {
   "cell_type": "markdown",
   "metadata": {},
   "source": [
    "#### Load the Polygon of nominal water extent and define a BBOX\n",
    "\n",
    "The BBOX defines an area of interest and will be used to create an EOPatch."
   ]
  },
  {
   "cell_type": "code",
   "execution_count": 4,
   "metadata": {},
   "outputs": [],
   "source": [
    "# The polygon of the dam is written in wkt format (CRS=WGS84)\n",
    "with open('theewaterskloof_dam_nominal.wkt','r') as f:\n",
    "    dam_wkt = f.read()\n",
    "\n",
    "dam_nominal = loads(dam_wkt)\n",
    "\n",
    "# inflate the BBOX \n",
    "inflate_bbox = 0.1\n",
    "minx, miny, maxx, maxy = dam_nominal.bounds\n",
    "delx=maxx-minx\n",
    "dely=maxy-miny\n",
    "\n",
    "minx=minx-delx*inflate_bbox\n",
    "maxx=maxx+delx*inflate_bbox\n",
    "miny=miny-dely*inflate_bbox\n",
    "maxy=maxy+dely*inflate_bbox\n",
    "    \n",
    "dam_bbox = BBox(bbox=[minx, miny, maxx, maxy], crs=CRS.WGS84)"
   ]
  },
  {
   "cell_type": "code",
   "execution_count": 5,
   "metadata": {},
   "outputs": [
    {
     "data": {
      "text/plain": [
       "BBox(((19.10818927, -34.08851246), (19.30962163, -33.977424140000004)), crs=EPSG:4326)"
      ]
     },
     "execution_count": 5,
     "metadata": {},
     "output_type": "execute_result"
    }
   ],
   "source": [
    "dam_bbox"
   ]
  },
  {
   "cell_type": "markdown",
   "metadata": {},
   "source": [
    "### Step 1: Intialize (and implement workflow specific) EOTasks"
   ]
  },
  {
   "cell_type": "markdown",
   "metadata": {},
   "source": [
    "#### Create an EOPatch and add all EO features (satellite imagery data)"
   ]
  },
  {
   "cell_type": "code",
   "execution_count": 6,
   "metadata": {},
   "outputs": [],
   "source": [
    "input_task = S2L1CWCSInput('TRUE_COLOR', resx='20m', resy='20m', maxcc=0.5,instance_id=None)\n",
    "add_ndwi = AddS2L1CFeature('NDWI')"
   ]
  },
  {
   "cell_type": "markdown",
   "metadata": {},
   "source": [
    "#### Burn in the nominal water extent\n",
    "\n",
    "The `VectorToRaster` task expects the vectorised dataset in geopandas dataframe."
   ]
  },
  {
   "cell_type": "code",
   "execution_count": 7,
   "metadata": {},
   "outputs": [],
   "source": [
    "gdf = gpd.GeoDataFrame(crs={'init':'epsg:4326'},geometry=[dam_nominal])"
   ]
  },
  {
   "cell_type": "code",
   "execution_count": 8,
   "metadata": {},
   "outputs": [
    {
     "data": {
      "text/plain": [
       "<matplotlib.axes._subplots.AxesSubplot at 0x1c231d0978>"
      ]
     },
     "execution_count": 8,
     "metadata": {},
     "output_type": "execute_result"
    },
    {
     "data": {
      "image/png": "[encoded data removed]",
      "text/plain": [
       "<Figure size 432x288 with 1 Axes>"
      ]
     },
     "metadata": {},
     "output_type": "display_data"
    }
   ],
   "source": [
    "gdf.plot()"
   ]
  },
  {
   "cell_type": "code",
   "execution_count": 9,
   "metadata": {},
   "outputs": [],
   "source": [
    "add_nominal_water = VectorToRaster(FeatureType.MASK_TIMELESS, 'NOMINAL_WATER', gdf, 1, np.uint8)"
   ]
  },
  {
   "cell_type": "markdown",
   "metadata": {},
   "source": [
    "#### Run s2cloudless cloud detector and filter out scenes with cloud coverage >20%\n",
    "\n",
    "To speed up the process hte cloud detection is executed at lower resolution (160m). The resulting cloud probability map and binary mask are stored as `CLP` and `CLM` features in EOPatch."
   ]
  },
  {
   "cell_type": "code",
   "execution_count": 10,
   "metadata": {},
   "outputs": [],
   "source": [
    "cloud_classifier = get_s2_pixel_cloud_detector(average_over=2, dilation_size=1, all_bands=False)\n",
    "cloud_det = AddCloudMaskTask(cloud_classifier, 'BANDS-S2CLOUDLESS', cm_size_y='160m', cm_size_x='160m', \n",
    "                           cmask_field='CLM', cprobs_field='CLP', instance_id=None)"
   ]
  },
  {
   "cell_type": "markdown",
   "metadata": {},
   "source": [
    "Define a `VALID_DATA` layer: pixel has to contain data and should be classified as clear sky by the cloud detector (`CLM` equals 0)"
   ]
  },
  {
   "cell_type": "code",
   "execution_count": 11,
   "metadata": {},
   "outputs": [],
   "source": [
    "class ValidDataPredicate:\n",
    "    def __call__(self, eopatch):        \n",
    "        return np.logical_and(eopatch.mask['IS_DATA'].astype(np.bool), \n",
    "                              np.logical_not(eopatch.mask['CLM'].astype(np.bool)))"
   ]
  },
  {
   "cell_type": "code",
   "execution_count": 12,
   "metadata": {},
   "outputs": [],
   "source": [
    "add_valmask = AddValidDataMaskTask(predicate=ValidDataPredicate())"
   ]
  },
  {
   "cell_type": "markdown",
   "metadata": {},
   "source": [
    "Calculate fraction of valid pixels per frame and store it as `SCALAR` feature"
   ]
  },
  {
   "cell_type": "code",
   "execution_count": 13,
   "metadata": {},
   "outputs": [],
   "source": [
    "def coverage(array):\n",
    "    return 1.0 - np.count_nonzero(array)/np.size(array)"
   ]
  },
  {
   "cell_type": "code",
   "execution_count": 14,
   "metadata": {},
   "outputs": [],
   "source": [
    "class AddValidDataCoverage(EOTask):\n",
    "    def execute(self, eopatch):\n",
    "        \n",
    "        vld = eopatch.get_feature(FeatureType.MASK, 'VALID_DATA')\n",
    "        \n",
    "        cvrg = np.apply_along_axis(coverage, 1, np.reshape(vld, (vld.shape[0], vld.shape[1]*vld.shape[2])))\n",
    "        \n",
    "        eopatch.add_feature(FeatureType.SCALAR, 'COVERAGE', cvrg[:,np.newaxis])\n",
    "        return eopatch"
   ]
  },
  {
   "cell_type": "code",
   "execution_count": 15,
   "metadata": {},
   "outputs": [],
   "source": [
    "add_coverage = AddValidDataCoverage()"
   ]
  },
  {
   "cell_type": "markdown",
   "metadata": {},
   "source": [
    "Filter out too cloudy scenes"
   ]
  },
  {
   "cell_type": "code",
   "execution_count": 16,
   "metadata": {},
   "outputs": [],
   "source": [
    "class ValidDataCoveragePredicate:\n",
    "    def __init__(self, threshold):\n",
    "        self.threshold = threshold\n",
    "        \n",
    "    def __call__(self, array):\n",
    "        coverage = 1.0 - np.count_nonzero(array)/np.size(array)\n",
    "        return coverage < self.threshold"
   ]
  },
  {
   "cell_type": "code",
   "execution_count": 17,
   "metadata": {},
   "outputs": [],
   "source": [
    "remove_cloudy_scenes = SimpleFilterTask(ValidDataCoveragePredicate(0.2), FeatureType.MASK, 'VALID_DATA')"
   ]
  },
  {
   "cell_type": "markdown",
   "metadata": {},
   "source": [
    "#### Apply Water Detection\n",
    "\n"
   ]
  },
  {
   "cell_type": "code",
   "execution_count": 18,
   "metadata": {},
   "outputs": [],
   "source": [
    "def water_detection(ndwi):\n",
    "    \"\"\"\n",
    "    Very simple water detector based on Otsu thresholding method of NDWI.\n",
    "    \"\"\"\n",
    "    otsu_thr = 1.0\n",
    "    if len(np.unique(ndwi)) > 1:\n",
    "        otsu_thr = threshold_otsu(ndwi)\n",
    "    \n",
    "    return ndwi>otsu_thr"
   ]
  },
  {
   "cell_type": "code",
   "execution_count": 19,
   "metadata": {},
   "outputs": [],
   "source": [
    "class WaterDetector(EOTask):\n",
    "    def execute(self, eopatch):\n",
    "        water_masks = np.asarray([water_detection(ndwi[...,0]) for ndwi in eopatch.data['NDWI']])\n",
    "        \n",
    "        # we're only interested in the water within the dam borders\n",
    "        water_masks = water_masks[...,np.newaxis] * eopatch.mask_timeless['NOMINAL_WATER']\n",
    "        \n",
    "        water_levels = np.asarray([np.count_nonzero(mask)/np.count_nonzero(eopatch.mask_timeless['NOMINAL_WATER']) for mask in water_masks])\n",
    "        \n",
    "        eopatch.add_feature(FeatureType.MASK, 'WATER_MASK', water_masks)\n",
    "        eopatch.add_feature(FeatureType.SCALAR, 'WATER_LEVEL', water_levels[...,np.newaxis])\n",
    "        \n",
    "        return eopatch"
   ]
  },
  {
   "cell_type": "code",
   "execution_count": 20,
   "metadata": {},
   "outputs": [],
   "source": [
    "water_det = WaterDetector()"
   ]
  },
  {
   "cell_type": "markdown",
   "metadata": {},
   "source": [
    "### Step 2: Define the EOWorkflow"
   ]
  },
  {
   "cell_type": "code",
   "execution_count": 21,
   "metadata": {},
   "outputs": [],
   "source": [
    "workflow = EOWorkflow(dependencies=[Dependency(transform=input_task, inputs=[]),\n",
    "                                    Dependency(transform=add_ndwi, inputs=[input_task]),\n",
    "                                    Dependency(transform=cloud_det, inputs=[add_ndwi]),\n",
    "                                    Dependency(transform=add_nominal_water, inputs=[cloud_det]),\n",
    "                                    Dependency(transform=add_valmask, inputs=[add_nominal_water]),\n",
    "                                    Dependency(transform=add_coverage, inputs=[add_valmask]),\n",
    "                                    Dependency(transform=remove_cloudy_scenes, inputs=[add_coverage]),\n",
    "                                    Dependency(transform=water_det, inputs=[remove_cloudy_scenes]),\n",
    "                                    ])"
   ]
  },
  {
   "cell_type": "markdown",
   "metadata": {},
   "source": [
    "### Step 3: Run the workflow\n",
    "\n",
    "Process all Sentinel-2 acquisitions from beginning of 2016 and until end of May 2018."
   ]
  },
  {
   "cell_type": "code",
   "execution_count": 22,
   "metadata": {},
   "outputs": [],
   "source": [
    "time_interval = ['2016-01-01','2018-05-31']"
   ]
  },
  {
   "cell_type": "code",
   "execution_count": 23,
   "metadata": {},
   "outputs": [
    {
     "ename": "ValueError",
     "evalue": "Instance ID is not set. Set it either in request initialization or in configuration file. Check http://sentinelhub-py.readthedocs.io/en/latest/configure.html for more info.",
     "output_type": "error",
     "traceback": [
      "\u001b[0;31m---------------------------------------------------------------------------\u001b[0m",
      "\u001b[0;31mValueError\u001b[0m                                Traceback (most recent call last)",
      "\u001b[0;32m<ipython-input-23-643ac18faa0d>\u001b[0m in \u001b[0;36m<module>\u001b[0;34m()\u001b[0m\n\u001b[0;32m----> 1\u001b[0;31m result = workflow.execute({input_task:{'bbox':dam_bbox, 'time_interval':time_interval},\n\u001b[0m\u001b[1;32m      2\u001b[0m                           })\n",
      "\u001b[0;32m~/anaconda3/lib/python3.6/site-packages/eolearn/core/eoworkflow.py\u001b[0m in \u001b[0;36mexecute\u001b[0;34m(self, input_args)\u001b[0m\n\u001b[1;32m    280\u001b[0m         \u001b[0minput_args\u001b[0m \u001b[0;34m=\u001b[0m \u001b[0;34m{\u001b[0m\u001b[0mWorkflowResult\u001b[0m\u001b[0;34m.\u001b[0m\u001b[0mget_key\u001b[0m\u001b[0;34m(\u001b[0m\u001b[0mk\u001b[0m\u001b[0;34m)\u001b[0m\u001b[0;34m:\u001b[0m \u001b[0mv\u001b[0m \u001b[0;32mfor\u001b[0m \u001b[0mk\u001b[0m\u001b[0;34m,\u001b[0m \u001b[0mv\u001b[0m \u001b[0;32min\u001b[0m \u001b[0minput_args\u001b[0m\u001b[0;34m.\u001b[0m\u001b[0mitems\u001b[0m\u001b[0;34m(\u001b[0m\u001b[0;34m)\u001b[0m\u001b[0;34m}\u001b[0m \u001b[0;32mif\u001b[0m \u001b[0minput_args\u001b[0m \u001b[0;32melse\u001b[0m \u001b[0;34m{\u001b[0m\u001b[0;34m}\u001b[0m\u001b[0;34m\u001b[0m\u001b[0m\n\u001b[1;32m    281\u001b[0m \u001b[0;34m\u001b[0m\u001b[0m\n\u001b[0;32m--> 282\u001b[0;31m         \u001b[0m_\u001b[0m\u001b[0;34m,\u001b[0m \u001b[0mintermediate_results\u001b[0m \u001b[0;34m=\u001b[0m \u001b[0mself\u001b[0m\u001b[0;34m.\u001b[0m\u001b[0m_execute_tasks\u001b[0m\u001b[0;34m(\u001b[0m\u001b[0minput_args\u001b[0m\u001b[0;34m=\u001b[0m\u001b[0minput_args\u001b[0m\u001b[0;34m,\u001b[0m \u001b[0moutdegs\u001b[0m\u001b[0;34m=\u001b[0m\u001b[0moutdegs\u001b[0m\u001b[0;34m)\u001b[0m\u001b[0;34m\u001b[0m\u001b[0m\n\u001b[0m\u001b[1;32m    283\u001b[0m \u001b[0;34m\u001b[0m\u001b[0m\n\u001b[1;32m    284\u001b[0m         \u001b[0;32mreturn\u001b[0m \u001b[0mWorkflowResult\u001b[0m\u001b[0;34m(\u001b[0m\u001b[0mintermediate_results\u001b[0m\u001b[0;34m)\u001b[0m\u001b[0;34m\u001b[0m\u001b[0m\n",
      "\u001b[0;32m~/anaconda3/lib/python3.6/site-packages/eolearn/core/eoworkflow.py\u001b[0m in \u001b[0;36m_execute_tasks\u001b[0;34m(self, input_args, outdegs)\u001b[0m\n\u001b[1;32m    303\u001b[0m             result = self._execute_task(input_args=input_args,\n\u001b[1;32m    304\u001b[0m                                         \u001b[0mintermediate_results\u001b[0m\u001b[0;34m=\u001b[0m\u001b[0mintermediate_results\u001b[0m\u001b[0;34m,\u001b[0m\u001b[0;34m\u001b[0m\u001b[0m\n\u001b[0;32m--> 305\u001b[0;31m                                         task_id=t_id)\n\u001b[0m\u001b[1;32m    306\u001b[0m \u001b[0;34m\u001b[0m\u001b[0m\n\u001b[1;32m    307\u001b[0m             \u001b[0mintermediate_results\u001b[0m\u001b[0;34m[\u001b[0m\u001b[0mt_id\u001b[0m\u001b[0;34m]\u001b[0m \u001b[0;34m=\u001b[0m \u001b[0mresult\u001b[0m\u001b[0;34m\u001b[0m\u001b[0m\n",
      "\u001b[0;32m~/anaconda3/lib/python3.6/site-packages/eolearn/core/eoworkflow.py\u001b[0m in \u001b[0;36m_execute_task\u001b[0;34m(self, input_args, intermediate_results, task_id)\u001b[0m\n\u001b[1;32m    331\u001b[0m         \u001b[0minputs\u001b[0m \u001b[0;34m=\u001b[0m \u001b[0mtuple\u001b[0m\u001b[0;34m(\u001b[0m\u001b[0mintermediate_results\u001b[0m\u001b[0;34m[\u001b[0m\u001b[0mt_dep\u001b[0m\u001b[0;34m]\u001b[0m \u001b[0;32mfor\u001b[0m \u001b[0mt_dep\u001b[0m \u001b[0;32min\u001b[0m \u001b[0mself\u001b[0m\u001b[0;34m.\u001b[0m\u001b[0mdeps\u001b[0m\u001b[0;34m[\u001b[0m\u001b[0mtask_id\u001b[0m\u001b[0;34m]\u001b[0m\u001b[0;34m)\u001b[0m\u001b[0;34m\u001b[0m\u001b[0m\n\u001b[1;32m    332\u001b[0m         \u001b[0mLOGGER\u001b[0m\u001b[0;34m.\u001b[0m\u001b[0mdebug\u001b[0m\u001b[0;34m(\u001b[0m\u001b[0;34m\"Computing %s(*%s, **%s)\"\u001b[0m\u001b[0;34m,\u001b[0m \u001b[0mstr\u001b[0m\u001b[0;34m(\u001b[0m\u001b[0mtask\u001b[0m\u001b[0;34m)\u001b[0m\u001b[0;34m,\u001b[0m \u001b[0mstr\u001b[0m\u001b[0;34m(\u001b[0m\u001b[0minputs\u001b[0m\u001b[0;34m)\u001b[0m\u001b[0;34m,\u001b[0m \u001b[0mstr\u001b[0m\u001b[0;34m(\u001b[0m\u001b[0mkw_inputs\u001b[0m\u001b[0;34m)\u001b[0m\u001b[0;34m)\u001b[0m\u001b[0;34m\u001b[0m\u001b[0m\n\u001b[0;32m--> 333\u001b[0;31m         \u001b[0;32mreturn\u001b[0m \u001b[0mtask\u001b[0m\u001b[0;34m(\u001b[0m\u001b[0;34m*\u001b[0m\u001b[0minputs\u001b[0m\u001b[0;34m,\u001b[0m \u001b[0;34m**\u001b[0m\u001b[0mkw_inputs\u001b[0m\u001b[0;34m)\u001b[0m\u001b[0;34m\u001b[0m\u001b[0m\n\u001b[0m\u001b[1;32m    334\u001b[0m \u001b[0;34m\u001b[0m\u001b[0m\n\u001b[1;32m    335\u001b[0m     \u001b[0;32mdef\u001b[0m \u001b[0m_relax_dependencies\u001b[0m\u001b[0;34m(\u001b[0m\u001b[0mself\u001b[0m\u001b[0;34m,\u001b[0m \u001b[0;34m*\u001b[0m\u001b[0;34m,\u001b[0m \u001b[0mintermediate_results\u001b[0m\u001b[0;34m,\u001b[0m \u001b[0mout_degrees\u001b[0m\u001b[0;34m,\u001b[0m \u001b[0mcurrent_task_id\u001b[0m\u001b[0;34m)\u001b[0m\u001b[0;34m:\u001b[0m\u001b[0;34m\u001b[0m\u001b[0m\n",
      "\u001b[0;32m~/anaconda3/lib/python3.6/site-packages/eolearn/core/eotask.py\u001b[0m in \u001b[0;36m__call__\u001b[0;34m(self, *eopatches, **kwargs)\u001b[0m\n\u001b[1;32m     39\u001b[0m \u001b[0;34m\u001b[0m\u001b[0m\n\u001b[1;32m     40\u001b[0m     \u001b[0;32mdef\u001b[0m \u001b[0m__call__\u001b[0m\u001b[0;34m(\u001b[0m\u001b[0mself\u001b[0m\u001b[0;34m,\u001b[0m \u001b[0;34m*\u001b[0m\u001b[0meopatches\u001b[0m\u001b[0;34m,\u001b[0m \u001b[0;34m**\u001b[0m\u001b[0mkwargs\u001b[0m\u001b[0;34m)\u001b[0m\u001b[0;34m:\u001b[0m\u001b[0;34m\u001b[0m\u001b[0m\n\u001b[0;32m---> 41\u001b[0;31m         \u001b[0;32mreturn\u001b[0m \u001b[0mself\u001b[0m\u001b[0;34m.\u001b[0m\u001b[0mexecute\u001b[0m\u001b[0;34m(\u001b[0m\u001b[0;34m*\u001b[0m\u001b[0meopatches\u001b[0m\u001b[0;34m,\u001b[0m \u001b[0;34m**\u001b[0m\u001b[0mkwargs\u001b[0m\u001b[0;34m)\u001b[0m\u001b[0;34m\u001b[0m\u001b[0m\n\u001b[0m\u001b[1;32m     42\u001b[0m \u001b[0;34m\u001b[0m\u001b[0m\n\u001b[1;32m     43\u001b[0m \u001b[0;34m\u001b[0m\u001b[0m\n",
      "\u001b[0;32m~/anaconda3/lib/python3.6/site-packages/eolearn/io/sh_input.py\u001b[0m in \u001b[0;36mexecute\u001b[0;34m(self, bbox, time_interval)\u001b[0m\n\u001b[1;32m    127\u001b[0m         \"\"\"\n\u001b[1;32m    128\u001b[0m         request = {ServiceType.WMS: self._get_wms_request,\n\u001b[0;32m--> 129\u001b[0;31m                    ServiceType.WCS: self._get_wcs_request}[self.service_type](bbox, time_interval)\n\u001b[0m\u001b[1;32m    130\u001b[0m \u001b[0;34m\u001b[0m\u001b[0m\n\u001b[1;32m    131\u001b[0m         \u001b[0mrequest_return\u001b[0m \u001b[0;34m=\u001b[0m \u001b[0mrequest\u001b[0m\u001b[0;34m.\u001b[0m\u001b[0mget_data\u001b[0m\u001b[0;34m(\u001b[0m\u001b[0mraise_download_errors\u001b[0m\u001b[0;34m=\u001b[0m\u001b[0;32mFalse\u001b[0m\u001b[0;34m)\u001b[0m\u001b[0;34m\u001b[0m\u001b[0m\n",
      "\u001b[0;32m~/anaconda3/lib/python3.6/site-packages/eolearn/io/sh_input.py\u001b[0m in \u001b[0;36m_get_wcs_request\u001b[0;34m(self, bbox, time_interval)\u001b[0m\n\u001b[1;32m    107\u001b[0m                           \u001b[0mtime_difference\u001b[0m\u001b[0;34m=\u001b[0m\u001b[0mself\u001b[0m\u001b[0;34m.\u001b[0m\u001b[0mtime_difference\u001b[0m\u001b[0;34m,\u001b[0m\u001b[0;34m\u001b[0m\u001b[0m\n\u001b[1;32m    108\u001b[0m                           \u001b[0mdata_source\u001b[0m\u001b[0;34m=\u001b[0m\u001b[0mself\u001b[0m\u001b[0;34m.\u001b[0m\u001b[0mdata_source\u001b[0m\u001b[0;34m,\u001b[0m\u001b[0;34m\u001b[0m\u001b[0m\n\u001b[0;32m--> 109\u001b[0;31m                           instance_id=self.instance_id)\n\u001b[0m\u001b[1;32m    110\u001b[0m \u001b[0;34m\u001b[0m\u001b[0m\n\u001b[1;32m    111\u001b[0m     \u001b[0;32mdef\u001b[0m \u001b[0mexecute\u001b[0m\u001b[0;34m(\u001b[0m\u001b[0mself\u001b[0m\u001b[0;34m,\u001b[0m \u001b[0mbbox\u001b[0m\u001b[0;34m,\u001b[0m \u001b[0mtime_interval\u001b[0m\u001b[0;34m)\u001b[0m\u001b[0;34m:\u001b[0m\u001b[0;34m\u001b[0m\u001b[0m\n",
      "\u001b[0;32m~/anaconda3/lib/python3.6/site-packages/sentinelhub/data_request.py\u001b[0m in \u001b[0;36m__init__\u001b[0;34m(self, resx, resy, **kwargs)\u001b[0m\n\u001b[1;32m    466\u001b[0m     \"\"\"\n\u001b[1;32m    467\u001b[0m     \u001b[0;32mdef\u001b[0m \u001b[0m__init__\u001b[0m\u001b[0;34m(\u001b[0m\u001b[0mself\u001b[0m\u001b[0;34m,\u001b[0m \u001b[0;34m*\u001b[0m\u001b[0;34m,\u001b[0m \u001b[0mresx\u001b[0m\u001b[0;34m=\u001b[0m\u001b[0;34m'10m'\u001b[0m\u001b[0;34m,\u001b[0m \u001b[0mresy\u001b[0m\u001b[0;34m=\u001b[0m\u001b[0;34m'10m'\u001b[0m\u001b[0;34m,\u001b[0m \u001b[0;34m**\u001b[0m\u001b[0mkwargs\u001b[0m\u001b[0;34m)\u001b[0m\u001b[0;34m:\u001b[0m\u001b[0;34m\u001b[0m\u001b[0m\n\u001b[0;32m--> 468\u001b[0;31m         \u001b[0msuper\u001b[0m\u001b[0;34m(\u001b[0m\u001b[0mWcsRequest\u001b[0m\u001b[0;34m,\u001b[0m \u001b[0mself\u001b[0m\u001b[0;34m)\u001b[0m\u001b[0;34m.\u001b[0m\u001b[0m__init__\u001b[0m\u001b[0;34m(\u001b[0m\u001b[0mservice_type\u001b[0m\u001b[0;34m=\u001b[0m\u001b[0mServiceType\u001b[0m\u001b[0;34m.\u001b[0m\u001b[0mWCS\u001b[0m\u001b[0;34m,\u001b[0m \u001b[0msize_x\u001b[0m\u001b[0;34m=\u001b[0m\u001b[0mresx\u001b[0m\u001b[0;34m,\u001b[0m \u001b[0msize_y\u001b[0m\u001b[0;34m=\u001b[0m\u001b[0mresy\u001b[0m\u001b[0;34m,\u001b[0m \u001b[0;34m**\u001b[0m\u001b[0mkwargs\u001b[0m\u001b[0;34m)\u001b[0m\u001b[0;34m\u001b[0m\u001b[0m\n\u001b[0m\u001b[1;32m    469\u001b[0m \u001b[0;34m\u001b[0m\u001b[0m\n\u001b[1;32m    470\u001b[0m \u001b[0;34m\u001b[0m\u001b[0m\n",
      "\u001b[0;32m~/anaconda3/lib/python3.6/site-packages/sentinelhub/data_request.py\u001b[0m in \u001b[0;36m__init__\u001b[0;34m(self, layer, bbox, time, service_type, data_source, size_x, size_y, maxcc, image_format, instance_id, custom_url_params, time_difference, **kwargs)\u001b[0m\n\u001b[1;32m    303\u001b[0m         \u001b[0mself\u001b[0m\u001b[0;34m.\u001b[0m\u001b[0mwfs_iterator\u001b[0m \u001b[0;34m=\u001b[0m \u001b[0;32mNone\u001b[0m\u001b[0;34m\u001b[0m\u001b[0m\n\u001b[1;32m    304\u001b[0m \u001b[0;34m\u001b[0m\u001b[0m\n\u001b[0;32m--> 305\u001b[0;31m         \u001b[0msuper\u001b[0m\u001b[0;34m(\u001b[0m\u001b[0mOgcRequest\u001b[0m\u001b[0;34m,\u001b[0m \u001b[0mself\u001b[0m\u001b[0;34m)\u001b[0m\u001b[0;34m.\u001b[0m\u001b[0m__init__\u001b[0m\u001b[0;34m(\u001b[0m\u001b[0;34m**\u001b[0m\u001b[0mkwargs\u001b[0m\u001b[0;34m)\u001b[0m\u001b[0;34m\u001b[0m\u001b[0m\n\u001b[0m\u001b[1;32m    306\u001b[0m \u001b[0;34m\u001b[0m\u001b[0m\n\u001b[1;32m    307\u001b[0m     \u001b[0;32mdef\u001b[0m \u001b[0m_check_custom_url_parameters\u001b[0m\u001b[0;34m(\u001b[0m\u001b[0mself\u001b[0m\u001b[0;34m)\u001b[0m\u001b[0;34m:\u001b[0m\u001b[0;34m\u001b[0m\u001b[0m\n",
      "\u001b[0;32m~/anaconda3/lib/python3.6/site-packages/sentinelhub/data_request.py\u001b[0m in \u001b[0;36m__init__\u001b[0;34m(self, data_folder)\u001b[0m\n\u001b[1;32m     39\u001b[0m         \u001b[0mself\u001b[0m\u001b[0;34m.\u001b[0m\u001b[0mdownload_list\u001b[0m \u001b[0;34m=\u001b[0m \u001b[0;34m[\u001b[0m\u001b[0;34m]\u001b[0m\u001b[0;34m\u001b[0m\u001b[0m\n\u001b[1;32m     40\u001b[0m         \u001b[0mself\u001b[0m\u001b[0;34m.\u001b[0m\u001b[0mfolder_list\u001b[0m \u001b[0;34m=\u001b[0m \u001b[0;34m[\u001b[0m\u001b[0;34m]\u001b[0m\u001b[0;34m\u001b[0m\u001b[0m\n\u001b[0;32m---> 41\u001b[0;31m         \u001b[0mself\u001b[0m\u001b[0;34m.\u001b[0m\u001b[0mcreate_request\u001b[0m\u001b[0;34m(\u001b[0m\u001b[0;34m)\u001b[0m\u001b[0;34m\u001b[0m\u001b[0m\n\u001b[0m\u001b[1;32m     42\u001b[0m \u001b[0;34m\u001b[0m\u001b[0m\n\u001b[1;32m     43\u001b[0m     \u001b[0;34m@\u001b[0m\u001b[0mabstractmethod\u001b[0m\u001b[0;34m\u001b[0m\u001b[0m\n",
      "\u001b[0;32m~/anaconda3/lib/python3.6/site-packages/sentinelhub/data_request.py\u001b[0m in \u001b[0;36mcreate_request\u001b[0;34m(self)\u001b[0m\n\u001b[1;32m    320\u001b[0m         \u001b[0macceptable\u001b[0m \u001b[0mcloud\u001b[0m \u001b[0mcoverage\u001b[0m\u001b[0;34m.\u001b[0m\u001b[0;34m\u001b[0m\u001b[0m\n\u001b[1;32m    321\u001b[0m         \"\"\"\n\u001b[0;32m--> 322\u001b[0;31m         \u001b[0mogc_service\u001b[0m \u001b[0;34m=\u001b[0m \u001b[0mOgcImageService\u001b[0m\u001b[0;34m(\u001b[0m\u001b[0minstance_id\u001b[0m\u001b[0;34m=\u001b[0m\u001b[0mself\u001b[0m\u001b[0;34m.\u001b[0m\u001b[0minstance_id\u001b[0m\u001b[0;34m)\u001b[0m\u001b[0;34m\u001b[0m\u001b[0m\n\u001b[0m\u001b[1;32m    323\u001b[0m         \u001b[0mself\u001b[0m\u001b[0;34m.\u001b[0m\u001b[0mdownload_list\u001b[0m \u001b[0;34m=\u001b[0m \u001b[0mogc_service\u001b[0m\u001b[0;34m.\u001b[0m\u001b[0mget_request\u001b[0m\u001b[0;34m(\u001b[0m\u001b[0mself\u001b[0m\u001b[0;34m)\u001b[0m\u001b[0;34m\u001b[0m\u001b[0m\n\u001b[1;32m    324\u001b[0m         \u001b[0mself\u001b[0m\u001b[0;34m.\u001b[0m\u001b[0mwfs_iterator\u001b[0m \u001b[0;34m=\u001b[0m \u001b[0mogc_service\u001b[0m\u001b[0;34m.\u001b[0m\u001b[0mget_wfs_iterator\u001b[0m\u001b[0;34m(\u001b[0m\u001b[0;34m)\u001b[0m\u001b[0;34m\u001b[0m\u001b[0m\n",
      "\u001b[0;32m~/anaconda3/lib/python3.6/site-packages/sentinelhub/ogc.py\u001b[0m in \u001b[0;36m__init__\u001b[0;34m(self, **kwargs)\u001b[0m\n\u001b[1;32m    137\u001b[0m     \"\"\"\n\u001b[1;32m    138\u001b[0m     \u001b[0;32mdef\u001b[0m \u001b[0m__init__\u001b[0m\u001b[0;34m(\u001b[0m\u001b[0mself\u001b[0m\u001b[0;34m,\u001b[0m \u001b[0;34m**\u001b[0m\u001b[0mkwargs\u001b[0m\u001b[0;34m)\u001b[0m\u001b[0;34m:\u001b[0m\u001b[0;34m\u001b[0m\u001b[0m\n\u001b[0;32m--> 139\u001b[0;31m         \u001b[0msuper\u001b[0m\u001b[0;34m(\u001b[0m\u001b[0mOgcImageService\u001b[0m\u001b[0;34m,\u001b[0m \u001b[0mself\u001b[0m\u001b[0;34m)\u001b[0m\u001b[0;34m.\u001b[0m\u001b[0m__init__\u001b[0m\u001b[0;34m(\u001b[0m\u001b[0;34m**\u001b[0m\u001b[0mkwargs\u001b[0m\u001b[0;34m)\u001b[0m\u001b[0;34m\u001b[0m\u001b[0m\n\u001b[0m\u001b[1;32m    140\u001b[0m \u001b[0;34m\u001b[0m\u001b[0m\n\u001b[1;32m    141\u001b[0m         \u001b[0mself\u001b[0m\u001b[0;34m.\u001b[0m\u001b[0mwfs_iterator\u001b[0m \u001b[0;34m=\u001b[0m \u001b[0;32mNone\u001b[0m\u001b[0;34m\u001b[0m\u001b[0m\n",
      "\u001b[0;32m~/anaconda3/lib/python3.6/site-packages/sentinelhub/ogc.py\u001b[0m in \u001b[0;36m__init__\u001b[0;34m(self, base_url, instance_id)\u001b[0m\n\u001b[1;32m     34\u001b[0m \u001b[0;34m\u001b[0m\u001b[0m\n\u001b[1;32m     35\u001b[0m         \u001b[0;32mif\u001b[0m \u001b[0;32mnot\u001b[0m \u001b[0mself\u001b[0m\u001b[0;34m.\u001b[0m\u001b[0minstance_id\u001b[0m\u001b[0;34m:\u001b[0m\u001b[0;34m\u001b[0m\u001b[0m\n\u001b[0;32m---> 36\u001b[0;31m             raise ValueError('Instance ID is not set. '\n\u001b[0m\u001b[1;32m     37\u001b[0m                              \u001b[0;34m'Set it either in request initialization or in configuration file. '\u001b[0m\u001b[0;34m\u001b[0m\u001b[0m\n\u001b[1;32m     38\u001b[0m                              'Check http://sentinelhub-py.readthedocs.io/en/latest/configure.html for more info.')\n",
      "\u001b[0;31mValueError\u001b[0m: Instance ID is not set. Set it either in request initialization or in configuration file. Check http://sentinelhub-py.readthedocs.io/en/latest/configure.html for more info."
     ]
    }
   ],
   "source": [
    "result = workflow.execute({input_task:{'bbox':dam_bbox, 'time_interval':time_interval},\n",
    "                          })"
   ]
  },
  {
   "cell_type": "code",
   "execution_count": null,
   "metadata": {},
   "outputs": [],
   "source": [
    "patch=list(result.values())[-1]"
   ]
  },
  {
   "cell_type": "markdown",
   "metadata": {},
   "source": [
    "Print content of eopatch at the end of the workflow execution"
   ]
  },
  {
   "cell_type": "code",
   "execution_count": null,
   "metadata": {},
   "outputs": [],
   "source": [
    "patch.get_features()"
   ]
  },
  {
   "cell_type": "code",
   "execution_count": null,
   "metadata": {},
   "outputs": [],
   "source": [
    "patch.bbox.max_x"
   ]
  },
  {
   "cell_type": "markdown",
   "metadata": {},
   "source": [
    "# Plot results"
   ]
  },
  {
   "cell_type": "code",
   "execution_count": null,
   "metadata": {},
   "outputs": [],
   "source": [
    "from skimage.filters import sobel\n",
    "from skimage.morphology import disk\n",
    "from skimage.morphology import erosion, dilation, opening, closing, white_tophat"
   ]
  },
  {
   "cell_type": "code",
   "execution_count": null,
   "metadata": {},
   "outputs": [],
   "source": [
    "def plot_rgb_w_water(eopatch, idx):\n",
    "    ratio = np.abs(eopatch.bbox.max_x - eopatch.bbox.min_x)/np.abs(eopatch.bbox.max_y - eopatch.bbox.min_y)\n",
    "    fig, ax = plt.subplots(figsize=(ratio*10,10))\n",
    "    \n",
    "    ax.imshow(eopatch.data['TRUE_COLOR'][idx])\n",
    "    \n",
    "    observed = closing(eopatch.mask['WATER_MASK'][idx,...,0], disk(1))\n",
    "    nominal = sobel(eopatch.mask_timeless['NOMINAL_WATER'][...,0])\n",
    "    observed = sobel(observed)\n",
    "    nominal = np.ma.masked_where(nominal == False, nominal)\n",
    "    observed = np.ma.masked_where(observed == False, observed)\n",
    "    \n",
    "    ax.imshow(nominal,cmap=plt.cm.Reds)\n",
    "    ax.imshow(observed,cmap=plt.cm.Blues)\n",
    "    ax.axis('off')"
   ]
  },
  {
   "cell_type": "code",
   "execution_count": null,
   "metadata": {},
   "outputs": [],
   "source": [
    "plot_rgb_w_water(patch, 0)"
   ]
  },
  {
   "cell_type": "code",
   "execution_count": null,
   "metadata": {},
   "outputs": [],
   "source": [
    "plot_rgb_w_water(patch, -2)"
   ]
  },
  {
   "cell_type": "code",
   "execution_count": null,
   "metadata": {},
   "outputs": [],
   "source": [
    "def plot_water_levels(eopatch, max_coverage=1.0):\n",
    "    fig, ax = plt.subplots(figsize=(20,7))\n",
    "\n",
    "    dates = np.asarray(eopatch.timestamp)\n",
    "    ax.plot(dates[eopatch.scalar['COVERAGE'][...,0]<max_coverage],\n",
    "            eopatch.scalar['WATER_LEVEL'][eopatch.scalar['COVERAGE'][...,0]<max_coverage],\n",
    "            'bo-',alpha=0.7)\n",
    "    ax.set_ylim(0.0,1.1)\n",
    "    ax.set_xlabel('Date')\n",
    "    ax.set_ylabel('Water level')\n",
    "    ax.set_title('Theewaterskloof Dam Water Levels')\n",
    "    ax.grid(axis='y')\n",
    "    return ax"
   ]
  },
  {
   "cell_type": "code",
   "execution_count": null,
   "metadata": {},
   "outputs": [],
   "source": [
    "ax = plot_water_levels(patch, 0.05)"
   ]
  }
 ],
 "metadata": {
  "kernelspec": {
   "display_name": "Python 3",
   "language": "python",
   "name": "python3"
  },
  "language_info": {
   "codemirror_mode": {
    "name": "ipython",
    "version": 3
   },
   "file_extension": ".py",
   "mimetype": "text/x-python",
   "name": "python",
   "nbconvert_exporter": "python",
   "pygments_lexer": "ipython3",
   "version": "3.6.5"
  }
 },
 "nbformat": 4,
 "nbformat_minor": 2
}
