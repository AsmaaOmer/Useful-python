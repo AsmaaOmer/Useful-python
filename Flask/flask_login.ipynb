{
  "nbformat": 4,
  "nbformat_minor": 0,
  "metadata": {
    "colab": {
      "name": "flask-login.ipynb",
      "provenance": [],
      "authorship_tag": "ABX9TyOsfG5Bs3z24Tdr+weO+I5Z",
      "include_colab_link": true
    },
    "kernelspec": {
      "name": "python3",
      "display_name": "Python 3"
    }
  },
  "cells": [
    {
      "cell_type": "markdown",
      "metadata": {
        "id": "view-in-github",
        "colab_type": "text"
      },
      "source": [
        "<a href=\"https://colab.research.google.com/github/robmarkcole/Useful-python/blob/master/Flask/flask_login.ipynb\" target=\"_parent\"><img src=\"https://colab.research.google.com/assets/colab-badge.svg\" alt=\"Open In Colab\"/></a>"
      ]
    },
    {
      "cell_type": "code",
      "metadata": {
        "id": "PiC3C1ley2xG",
        "colab_type": "code",
        "colab": {}
      },
      "source": [
        ""
      ],
      "execution_count": 0,
      "outputs": []
    },
    {
      "cell_type": "markdown",
      "metadata": {
        "id": "3IB7JpjPy6jQ",
        "colab_type": "text"
      },
      "source": [
        "https://realpython.com/using-flask-login-for-user-management-with-flask/"
      ]
    },
    {
      "cell_type": "code",
      "metadata": {
        "id": "y-aMsxGSy7ON",
        "colab_type": "code",
        "colab": {}
      },
      "source": [
        ""
      ],
      "execution_count": 0,
      "outputs": []
    }
  ]
}