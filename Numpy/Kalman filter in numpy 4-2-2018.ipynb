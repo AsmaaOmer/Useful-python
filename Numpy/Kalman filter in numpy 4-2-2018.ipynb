{
 "cells": [
  {
   "cell_type": "markdown",
   "metadata": {},
   "source": [
    "https://arxiv.org/ftp/arxiv/papers/1204/1204.0375.pdf\n",
    "\n",
    "Attempt to reproduce the kalman filter from this paper."
   ]
  },
  {
   "cell_type": "code",
   "execution_count": 40,
   "metadata": {},
   "outputs": [],
   "source": [
    "import numpy as np\n",
    "import matplotlib.pyplot as plt\n",
    "%matplotlib inline"
   ]
  },
  {
   "cell_type": "code",
   "execution_count": 41,
   "metadata": {},
   "outputs": [],
   "source": [
    "def gauss_pdf(X, M, S):\n",
    "    \"\"\"\n",
    "    Return a \n",
    "    \"\"\"\n",
    "    if M.shape[1] == 1:\n",
    "        DX = X - np.tile(M, X.shape[1])\n",
    "        E = 0.5 * np.sum(DX * (np.dot(np.linalg.inv(S), DX)), axis=0)\n",
    "        E = E + 0.5 * M.shape[0] * np.log(2 * np.pi) + 0.5 * np.log(np.linalg.det(S))\n",
    "        P = np.exp(-E)\n",
    "    elif X.shape[1] == 1:\n",
    "        DX = np.tile(X, M.shape[1])- M\n",
    "        E = 0.5 * sum(DX * (np.dot(np.linalg.inv(S), DX)), axis=0)\n",
    "        E = E + 0.5 * M.shape[0] * np.log(2 * np.pi) + 0.5 * np.log(np.linalg.det(S))\n",
    "        P = np.exp(-E)\n",
    "    else:\n",
    "        DX = X-M\n",
    "        E = 0.5 * np.dot(DX.T, np.dot(np.linalg.inv(S), DX))\n",
    "        E = E + 0.5 * M.shape[0] * np.log(2 * np.pi) + 0.5 * np.log(np.linalg.det(S))\n",
    "        P = np.exp(-E)\n",
    "    return (P[0],E[0]) "
   ]
  },
  {
   "cell_type": "code",
   "execution_count": 42,
   "metadata": {},
   "outputs": [],
   "source": [
    "def kf_predict(X, P, A, Q, B, U):\n",
    "    \"\"\"\n",
    "    Predict the mean X and covariance P of the system state at\n",
    "    time step k.\n",
    "    \"\"\"\n",
    "    X = np.dot(A, X) + np.dot(B, U)\n",
    "    P = np.dot(A, np.dot(P, A.T)) + Q\n",
    "    return(X,P)"
   ]
  },
  {
   "cell_type": "code",
   "execution_count": 43,
   "metadata": {},
   "outputs": [],
   "source": [
    "def kf_update(X, P, Y, H, R):\n",
    "    \"\"\"\n",
    "    Compute the posterior mean X and covariance P given a \n",
    "    new measurement Y.\n",
    "    \"\"\"\n",
    "    IM = np.dot(H, X)\n",
    "    IS = R + np.dot(H, np.dot(P, H.T))\n",
    "    K = np.dot(P, np.dot(H.T, np.linalg.inv(IS)))\n",
    "    X = X + np.dot(K, (Y-IM))\n",
    "    P = P - np.dot(K, np.dot(IS, K.T))\n",
    "    LH = gauss_pdf(Y, IM, IS)\n",
    "    return (X,P,K,IM,IS,LH)"
   ]
  },
  {
   "cell_type": "code",
   "execution_count": 44,
   "metadata": {},
   "outputs": [],
   "source": [
    "#time step of mobile movement\n",
    "dt = 0.1\n",
    "\n",
    "# Initialization of state matrices\n",
    "X = np.array([[0.0], [0.0], [0.1], [0.1]])\n",
    "P = np.diag((0.01, 0.01, 0.01, 0.01))\n",
    "A = np.array([[1, 0, dt , 0], [0, 1, 0, dt], [0, 0, 1, 0], [0, 0, 0, 1]])\n",
    "Q = np.eye(X.shape[0])\n",
    "B = np.eye(X.shape[0])\n",
    "U = np.zeros((X.shape[0],1)) \n",
    "\n",
    "# Measurement matrices\n",
    "Y = np.array([[X[0,0] + abs(np.random.randn(1)[0])], [X[1,0] + abs(np.random.randn(1)[0])]])\n",
    "H = np.array([[1, 0, 0, 0], [0, 1, 0, 0]])\n",
    "R = np.eye(Y.shape[0])"
   ]
  },
  {
   "cell_type": "code",
   "execution_count": 45,
   "metadata": {},
   "outputs": [],
   "source": [
    "# Number of i\n",
    "N_iter = 50\n",
    "Y_path = []\n",
    "Y_path_2 = []\n",
    "\n",
    "# Applying the Kalman Filter\n",
    "for i in np.arange(0, N_iter):\n",
    "    (X, P) = kf_predict(X, P, A, Q, B, U)\n",
    "    (X, P, K, IM, IS, LH) = kf_update(X, P, Y, H, R)\n",
    "    Y = np.array([[X[0,0] + np.abs(0.1 * np.random.randn(1)[0])],[X[1, 0] + np.abs(0.1 * np.random.randn(1)[0])]])\n",
    "    Y_path.append(Y[0][0])\n",
    "    Y_path_2.append(Y[1][0])"
   ]
  },
  {
   "cell_type": "code",
   "execution_count": 46,
   "metadata": {},
   "outputs": [
    {
     "data": {
      "text/plain": [
       "[<matplotlib.lines.Line2D at 0x10c2d5390>]"
      ]
     },
     "execution_count": 46,
     "metadata": {},
     "output_type": "execute_result"
    },
    {
     "data": {
      "image/png": "[encoded data removed]",
      "text/plain": [
       "<matplotlib.figure.Figure at 0x10c2d53c8>"
      ]
     },
     "metadata": {},
     "output_type": "display_data"
    }
   ],
   "source": [
    "plt.plot(Y_path, 'r')\n",
    "plt.plot(Y_path_2, 'b')"
   ]
  },
  {
   "cell_type": "code",
   "execution_count": null,
   "metadata": {},
   "outputs": [],
   "source": []
  }
 ],
 "metadata": {
  "kernelspec": {
   "display_name": "Python 3",
   "language": "python",
   "name": "python3"
  },
  "language_info": {
   "codemirror_mode": {
    "name": "ipython",
    "version": 3
   },
   "file_extension": ".py",
   "mimetype": "text/x-python",
   "name": "python",
   "nbconvert_exporter": "python",
   "pygments_lexer": "ipython3",
   "version": "3.6.3"
  }
 },
 "nbformat": 4,
 "nbformat_minor": 2
}
