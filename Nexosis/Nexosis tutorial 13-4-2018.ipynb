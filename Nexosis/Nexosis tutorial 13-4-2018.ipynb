{
 "cells": [
  {
   "cell_type": "markdown",
   "metadata": {},
   "source": [
    "https://docs.nexosis.com/clients/python"
   ]
  },
  {
   "cell_type": "code",
   "execution_count": 80,
   "metadata": {},
   "outputs": [],
   "source": [
    "import datetime as datetime\n",
    "import json\n",
    "import nexosisapi\n",
    "from nexosisapi.column_metadata import ColumnMetadata\n",
    "from nexosisapi.time_interval import TimeInterval\n",
    "import dateutil.parser as date_parser\n",
    "import pandas as pd\n",
    "import seaborn as sns\n",
    "import iso8601\n",
    "%matplotlib inline\n",
    "\n",
    "def load_api_secrets(filename):\n",
    "    \"\"\"Convenience to load the API key from a json file.\"\"\"\n",
    "    try:\n",
    "        with open(filename, 'r') as fp:\n",
    "            api_params = json.load(fp)\n",
    "    except Exception as e:\n",
    "        print('Failed to load API secrets key: {}'.format(e))\n",
    "        api_params = None\n",
    "    return api_params['key']"
   ]
  },
  {
   "cell_type": "markdown",
   "metadata": {},
   "source": [
    "I will load my API key from a local JSON file to keep my credentials secure."
   ]
  },
  {
   "cell_type": "code",
   "execution_count": 81,
   "metadata": {},
   "outputs": [],
   "source": [
    "API_key_filepath = '/Users/robincole/Desktop/Nexosis_API_key.json'\n",
    "API_key = load_api_secrets(API_key_filepath)"
   ]
  },
  {
   "cell_type": "markdown",
   "metadata": {},
   "source": [
    "Lets download the .csv data locally"
   ]
  },
  {
   "cell_type": "code",
   "execution_count": 82,
   "metadata": {},
   "outputs": [],
   "source": [
    "data_url = \"https://raw.githubusercontent.com/Nexosis/sampledata/master/LocationA.csv\""
   ]
  },
  {
   "cell_type": "markdown",
   "metadata": {},
   "source": [
    "Lets have a look at the data using Pandas"
   ]
  },
  {
   "cell_type": "code",
   "execution_count": 83,
   "metadata": {},
   "outputs": [
    {
     "data": {
      "text/html": [
       "<div>\n",
       "<style scoped>\n",
       "    .dataframe tbody tr th:only-of-type {\n",
       "        vertical-align: middle;\n",
       "    }\n",
       "\n",
       "    .dataframe tbody tr th {\n",
       "        vertical-align: top;\n",
       "    }\n",
       "\n",
       "    .dataframe thead th {\n",
       "        text-align: right;\n",
       "    }\n",
       "</style>\n",
       "<table border=\"1\" class=\"dataframe\">\n",
       "  <thead>\n",
       "    <tr style=\"text-align: right;\">\n",
       "      <th></th>\n",
       "      <th>sales</th>\n",
       "      <th>transactions</th>\n",
       "    </tr>\n",
       "    <tr>\n",
       "      <th>timeStamp</th>\n",
       "      <th></th>\n",
       "      <th></th>\n",
       "    </tr>\n",
       "  </thead>\n",
       "  <tbody>\n",
       "    <tr>\n",
       "      <th>2012-12-31 00:00:00</th>\n",
       "      <td>2922.13</td>\n",
       "      <td>459</td>\n",
       "    </tr>\n",
       "    <tr>\n",
       "      <th>2013-01-01 00:00:00</th>\n",
       "      <td>1500.56</td>\n",
       "      <td>195</td>\n",
       "    </tr>\n",
       "    <tr>\n",
       "      <th>2013-01-02 00:00:00</th>\n",
       "      <td>4078.52</td>\n",
       "      <td>696</td>\n",
       "    </tr>\n",
       "    <tr>\n",
       "      <th>2013-01-03 00:00:00</th>\n",
       "      <td>4545.69</td>\n",
       "      <td>743</td>\n",
       "    </tr>\n",
       "    <tr>\n",
       "      <th>2013-01-04 00:00:00</th>\n",
       "      <td>4872.63</td>\n",
       "      <td>797</td>\n",
       "    </tr>\n",
       "  </tbody>\n",
       "</table>\n",
       "</div>"
      ],
      "text/plain": [
       "                       sales  transactions\n",
       "timeStamp                                 \n",
       "2012-12-31 00:00:00  2922.13           459\n",
       "2013-01-01 00:00:00  1500.56           195\n",
       "2013-01-02 00:00:00  4078.52           696\n",
       "2013-01-03 00:00:00  4545.69           743\n",
       "2013-01-04 00:00:00  4872.63           797"
      ]
     },
     "execution_count": 83,
     "metadata": {},
     "output_type": "execute_result"
    }
   ],
   "source": [
    "df = pd.read_csv(data_url, index_col=0)\n",
    "df.head()"
   ]
  },
  {
   "cell_type": "code",
   "execution_count": 84,
   "metadata": {},
   "outputs": [
    {
     "data": {
      "text/plain": [
       "'2012-12-31 00:00:00'"
      ]
     },
     "execution_count": 84,
     "metadata": {},
     "output_type": "execute_result"
    }
   ],
   "source": [
    "df.index[0] # Our index data is a string timestamp, and not in ISO-8601 format"
   ]
  },
  {
   "cell_type": "markdown",
   "metadata": {},
   "source": [
    "Lets convert the index to a datetime object"
   ]
  },
  {
   "cell_type": "code",
   "execution_count": 85,
   "metadata": {},
   "outputs": [],
   "source": [
    "df.index = pd.to_datetime(df.index)"
   ]
  },
  {
   "cell_type": "code",
   "execution_count": 86,
   "metadata": {},
   "outputs": [
    {
     "data": {
      "text/html": [
       "<div>\n",
       "<style scoped>\n",
       "    .dataframe tbody tr th:only-of-type {\n",
       "        vertical-align: middle;\n",
       "    }\n",
       "\n",
       "    .dataframe tbody tr th {\n",
       "        vertical-align: top;\n",
       "    }\n",
       "\n",
       "    .dataframe thead th {\n",
       "        text-align: right;\n",
       "    }\n",
       "</style>\n",
       "<table border=\"1\" class=\"dataframe\">\n",
       "  <thead>\n",
       "    <tr style=\"text-align: right;\">\n",
       "      <th></th>\n",
       "      <th>sales</th>\n",
       "      <th>transactions</th>\n",
       "    </tr>\n",
       "    <tr>\n",
       "      <th>timeStamp</th>\n",
       "      <th></th>\n",
       "      <th></th>\n",
       "    </tr>\n",
       "  </thead>\n",
       "  <tbody>\n",
       "    <tr>\n",
       "      <th>2012-12-31</th>\n",
       "      <td>2922.13</td>\n",
       "      <td>459</td>\n",
       "    </tr>\n",
       "    <tr>\n",
       "      <th>2013-01-01</th>\n",
       "      <td>1500.56</td>\n",
       "      <td>195</td>\n",
       "    </tr>\n",
       "    <tr>\n",
       "      <th>2013-01-02</th>\n",
       "      <td>4078.52</td>\n",
       "      <td>696</td>\n",
       "    </tr>\n",
       "    <tr>\n",
       "      <th>2013-01-03</th>\n",
       "      <td>4545.69</td>\n",
       "      <td>743</td>\n",
       "    </tr>\n",
       "    <tr>\n",
       "      <th>2013-01-04</th>\n",
       "      <td>4872.63</td>\n",
       "      <td>797</td>\n",
       "    </tr>\n",
       "  </tbody>\n",
       "</table>\n",
       "</div>"
      ],
      "text/plain": [
       "              sales  transactions\n",
       "timeStamp                        \n",
       "2012-12-31  2922.13           459\n",
       "2013-01-01  1500.56           195\n",
       "2013-01-02  4078.52           696\n",
       "2013-01-03  4545.69           743\n",
       "2013-01-04  4872.63           797"
      ]
     },
     "execution_count": 86,
     "metadata": {},
     "output_type": "execute_result"
    }
   ],
   "source": [
    "df.head()"
   ]
  },
  {
   "cell_type": "code",
   "execution_count": 87,
   "metadata": {},
   "outputs": [
    {
     "data": {
      "text/plain": [
       "'The data has 1477 entries'"
      ]
     },
     "execution_count": 87,
     "metadata": {},
     "output_type": "execute_result"
    }
   ],
   "source": [
    "\"The data has {} entries\".format(df.shape[0])"
   ]
  },
  {
   "cell_type": "code",
   "execution_count": 88,
   "metadata": {},
   "outputs": [
    {
     "data": {
      "text/plain": [
       "2922.13"
      ]
     },
     "execution_count": 88,
     "metadata": {},
     "output_type": "execute_result"
    }
   ],
   "source": [
    "df['sales'][0] # Sales are floats"
   ]
  },
  {
   "cell_type": "code",
   "execution_count": 89,
   "metadata": {},
   "outputs": [
    {
     "data": {
      "text/plain": [
       "459"
      ]
     },
     "execution_count": 89,
     "metadata": {},
     "output_type": "execute_result"
    }
   ],
   "source": [
    "df['transactions'][0] # transactions are int"
   ]
  },
  {
   "cell_type": "markdown",
   "metadata": {},
   "source": [
    "OK so we have on each day, a record of the value of sales (guess dollars) and the number of transactions"
   ]
  },
  {
   "cell_type": "code",
   "execution_count": 90,
   "metadata": {},
   "outputs": [
    {
     "data": {
      "text/plain": [
       "'We have 4.0 years of data'"
      ]
     },
     "execution_count": 90,
     "metadata": {},
     "output_type": "execute_result"
    }
   ],
   "source": [
    "\"We have {} years of data\".format(round((df.index[-1] - df.index[0]).days/365, 0))"
   ]
  },
  {
   "cell_type": "code",
   "execution_count": 92,
   "metadata": {},
   "outputs": [
    {
     "data": {
      "image/png": "[encoded data removed]",
      "text/plain": [
       "<Figure size 1296x360 with 1 Axes>"
      ]
     },
     "metadata": {},
     "output_type": "display_data"
    }
   ],
   "source": [
    "df['transactions'][-50:].plot(figsize=(18,5));"
   ]
  },
  {
   "cell_type": "code",
   "execution_count": 93,
   "metadata": {},
   "outputs": [
    {
     "data": {
      "image/png": "[encoded data removed]",
      "text/plain": [
       "<Figure size 360x360 with 6 Axes>"
      ]
     },
     "metadata": {},
     "output_type": "display_data"
    }
   ],
   "source": [
    "sns.pairplot(df);"
   ]
  },
  {
   "cell_type": "markdown",
   "metadata": {},
   "source": [
    "OK so we have a bimodal distribution, likely weekday and weekend sales.\n",
    "\n",
    "## Nexosis\n",
    "We will upload our data to nexosis and create a new model. It requires that timestamps are in [ISO-8601 format](https://docs.nexosis.com/guides/working-with-dates) - use `date.isoformat()`. Note that when uploading data to nexosis, the contents of the columns are automatically inferred."
   ]
  },
  {
   "cell_type": "code",
   "execution_count": 14,
   "metadata": {},
   "outputs": [],
   "source": [
    "dataset_name = 'widget-sales'"
   ]
  },
  {
   "cell_type": "code",
   "execution_count": 15,
   "metadata": {},
   "outputs": [
    {
     "name": "stdout",
     "output_type": "stream",
     "text": [
      "CPU times: user 35 µs, sys: 1 µs, total: 36 µs\n",
      "Wall time: 39.8 µs\n"
     ]
    }
   ],
   "source": [
    "%%time\n",
    "client = nexosisapi.Client(API_key)"
   ]
  },
  {
   "cell_type": "code",
   "execution_count": 16,
   "metadata": {},
   "outputs": [
    {
     "data": {
      "text/plain": [
       "0.0"
      ]
     },
     "execution_count": 16,
     "metadata": {},
     "output_type": "execute_result"
    }
   ],
   "source": [
    "client.get_account_balance() "
   ]
  },
  {
   "cell_type": "markdown",
   "metadata": {},
   "source": [
    "Lets download and save the data csv"
   ]
  },
  {
   "cell_type": "code",
   "execution_count": 17,
   "metadata": {},
   "outputs": [],
   "source": [
    "filename = 'LocationA.csv'\n",
    "pd.read_csv(data_url).to_csv(filename)"
   ]
  },
  {
   "cell_type": "markdown",
   "metadata": {},
   "source": [
    "Lets check what models are on the server"
   ]
  },
  {
   "cell_type": "code",
   "execution_count": 18,
   "metadata": {},
   "outputs": [
    {
     "name": "stdout",
     "output_type": "stream",
     "text": [
      "widget-sales\n",
      "classification-kddcup\n",
      "classification-csgo\n",
      "regression-housing\n",
      "anomalies-lympho\n",
      "impact-store\n",
      "forecast-store\n",
      "classification-iris\n"
     ]
    }
   ],
   "source": [
    "for dataset in client.datasets.list():\n",
    "    print(dataset.name)"
   ]
  },
  {
   "cell_type": "markdown",
   "metadata": {},
   "source": [
    "OK we already have a `widget-sales` dataset so lets delete that and start fresh"
   ]
  },
  {
   "cell_type": "code",
   "execution_count": 19,
   "metadata": {},
   "outputs": [],
   "source": [
    "client.datasets.remove(dataset_name) "
   ]
  },
  {
   "cell_type": "markdown",
   "metadata": {},
   "source": [
    "Check that was successful"
   ]
  },
  {
   "cell_type": "code",
   "execution_count": 20,
   "metadata": {},
   "outputs": [
    {
     "name": "stdout",
     "output_type": "stream",
     "text": [
      "classification-kddcup\n",
      "classification-csgo\n",
      "regression-housing\n",
      "anomalies-lympho\n",
      "impact-store\n",
      "forecast-store\n",
      "classification-iris\n"
     ]
    }
   ],
   "source": [
    "for dataset in client.datasets.list():\n",
    "    print(dataset.name)"
   ]
  },
  {
   "cell_type": "markdown",
   "metadata": {},
   "source": [
    "OK great it's gone, lets upload our data\n",
    "\n",
    "### Data upload"
   ]
  },
  {
   "cell_type": "code",
   "execution_count": 21,
   "metadata": {},
   "outputs": [],
   "source": [
    "with open(filename) as f:\n",
    "    result = client.datasets.create_csv(dataset_name, f)"
   ]
  },
  {
   "cell_type": "markdown",
   "metadata": {},
   "source": [
    "`result` is a `datasetsummary` object https://github.com/Nexosis/nexosisclient-py/blob/master/nexosisapi/dataset_summary.py"
   ]
  },
  {
   "cell_type": "code",
   "execution_count": 22,
   "metadata": {},
   "outputs": [
    {
     "data": {
      "text/plain": [
       "Dataset({\n",
       "    'dataSetName': widget-sales\n",
       "    'columns': {'': ColumnMetadata({'dataType': 'numericMeasure', 'role': 'feature', 'aggregation': 'mean', 'imputation': 'mean'}), 'timeStamp': ColumnMetadata({'dataType': 'date', 'role': 'timestamp'}), 'sales': ColumnMetadata({'dataType': 'numericMeasure', 'role': 'feature', 'aggregation': 'mean', 'imputation': 'mean'}), 'transactions': ColumnMetadata({'dataType': 'numericMeasure', 'role': 'feature', 'aggregation': 'mean', 'imputation': 'mean'})},\n",
       "})"
      ]
     },
     "execution_count": 22,
     "metadata": {},
     "output_type": "execute_result"
    }
   ],
   "source": [
    "result"
   ]
  },
  {
   "cell_type": "markdown",
   "metadata": {},
   "source": [
    "OK lets get back the dataset just to check whats been uploaded"
   ]
  },
  {
   "cell_type": "code",
   "execution_count": 23,
   "metadata": {},
   "outputs": [],
   "source": [
    "my_dataset = client.datasets.get(dataset_name)"
   ]
  },
  {
   "cell_type": "code",
   "execution_count": 24,
   "metadata": {},
   "outputs": [
    {
     "data": {
      "text/plain": [
       "dict_keys(['', 'sales', 'timeStamp', 'transactions'])"
      ]
     },
     "execution_count": 24,
     "metadata": {},
     "output_type": "execute_result"
    }
   ],
   "source": [
    "my_dataset.metadata.keys()"
   ]
  },
  {
   "cell_type": "code",
   "execution_count": 25,
   "metadata": {},
   "outputs": [
    {
     "data": {
      "text/plain": [
       "1477"
      ]
     },
     "execution_count": 25,
     "metadata": {},
     "output_type": "execute_result"
    }
   ],
   "source": [
    "my_dataset.item_total"
   ]
  },
  {
   "cell_type": "code",
   "execution_count": 26,
   "metadata": {},
   "outputs": [
    {
     "data": {
      "text/plain": [
       "30"
      ]
     },
     "execution_count": 26,
     "metadata": {},
     "output_type": "execute_result"
    }
   ],
   "source": [
    "my_dataset.total_pages"
   ]
  },
  {
   "cell_type": "code",
   "execution_count": 27,
   "metadata": {},
   "outputs": [
    {
     "data": {
      "text/plain": [
       "1500"
      ]
     },
     "execution_count": 27,
     "metadata": {},
     "output_type": "execute_result"
    }
   ],
   "source": [
    "my_dataset.total_pages*my_dataset.page_size"
   ]
  },
  {
   "cell_type": "code",
   "execution_count": 28,
   "metadata": {},
   "outputs": [
    {
     "data": {
      "text/plain": [
       "'OK so my data is spread over 50 pages'"
      ]
     },
     "execution_count": 28,
     "metadata": {},
     "output_type": "execute_result"
    }
   ],
   "source": [
    "\"OK so my data is spread over {} pages\".format(my_dataset.page_size)"
   ]
  },
  {
   "cell_type": "code",
   "execution_count": 29,
   "metadata": {},
   "outputs": [
    {
     "data": {
      "text/plain": [
       "{'': '0',\n",
       " 'sales': '2922.13',\n",
       " 'timeStamp': '2012-12-31 00:00:00',\n",
       " 'transactions': '459'}"
      ]
     },
     "execution_count": 29,
     "metadata": {},
     "output_type": "execute_result"
    }
   ],
   "source": [
    "my_dataset.data[0]"
   ]
  },
  {
   "cell_type": "markdown",
   "metadata": {},
   "source": [
    "OK data upload looks good.\n",
    "\n",
    "### Forecasting\n",
    "Lets make a forecast."
   ]
  },
  {
   "cell_type": "code",
   "execution_count": 97,
   "metadata": {},
   "outputs": [
    {
     "name": "stdout",
     "output_type": "stream",
     "text": [
      "CPU times: user 22.2 ms, sys: 45.4 ms, total: 67.5 ms\n",
      "Wall time: 2.34 s\n"
     ]
    }
   ],
   "source": [
    "%%time\n",
    "\n",
    "start_date = datetime.date(2017, 1, 22)\n",
    "end_date = datetime.date(2017, 2, 22)\n",
    "\n",
    "session = client.sessions.create_forecast(dataset_name, 'transactions', start_date, end_date)"
   ]
  },
  {
   "cell_type": "code",
   "execution_count": 98,
   "metadata": {},
   "outputs": [
    {
     "data": {
      "text/plain": [
       "Session({\n",
       "    'sessionId': '0162bd6a-aad0-4033-b2a6-53b0f902baa2',\n",
       "    'type': 'forecast',\n",
       "    'status': 'requested',\n",
       "    'statusHistory': [{'date': '2018-04-13T05:11:47.109811+00:00', 'status': 'requested'}],\n",
       "    'dataSourceName': 'widget-sales',\n",
       "    'targetColumn': 'transactions',\n",
       "    'modelId': 'None',\n",
       "    'startDate': '2017-01-22 00:00:00+00:00',\n",
       "    'endDate': '2017-02-22 00:00:00+00:00',\n",
       "    'resultInterval': 'day',\n",
       "    'metadata': {}\n",
       "    'requestedDate': '2018-04-13 05:11:47.109811+00:00',\n",
       "    'availablePredictionIntervals': '['0.5']',\n",
       "    'extraParameters': {},\n",
       "    'links': [{'rel': 'self', 'href': 'https://ml.nexosis.com/v1/sessions/0162bd6a-aad0-4033-b2a6-53b0f902baa2'}]\n",
       "})"
      ]
     },
     "execution_count": 98,
     "metadata": {},
     "output_type": "execute_result"
    }
   ],
   "source": [
    "session"
   ]
  },
  {
   "cell_type": "markdown",
   "metadata": {},
   "source": [
    "Initially `session.status` is `requested`"
   ]
  },
  {
   "cell_type": "code",
   "execution_count": 105,
   "metadata": {},
   "outputs": [],
   "source": [
    "# after some time passes you can get results...\n",
    "results = client.sessions.get_results(session.session_id)"
   ]
  },
  {
   "cell_type": "code",
   "execution_count": 106,
   "metadata": {},
   "outputs": [
    {
     "data": {
      "text/plain": [
       "[{'timeStamp': '2017-01-22T00:00:00.0000000Z',\n",
       "  'transactions': '242.222103807462'},\n",
       " {'timeStamp': '2017-01-23T00:00:00.0000000Z',\n",
       "  'transactions': '620.833065679952'},\n",
       " {'timeStamp': '2017-01-24T00:00:00.0000000Z',\n",
       "  'transactions': '646.024703803875'},\n",
       " {'timeStamp': '2017-01-25T00:00:00.0000000Z',\n",
       "  'transactions': '658.351103908873'},\n",
       " {'timeStamp': '2017-01-26T00:00:00.0000000Z',\n",
       "  'transactions': '675.825752701109'},\n",
       " {'timeStamp': '2017-01-27T00:00:00.0000000Z',\n",
       "  'transactions': '705.406937671688'},\n",
       " {'timeStamp': '2017-01-28T00:00:00.0000000Z',\n",
       "  'transactions': '349.182068540989'},\n",
       " {'timeStamp': '2017-01-29T00:00:00.0000000Z',\n",
       "  'transactions': '222.82164094788'},\n",
       " {'timeStamp': '2017-01-30T00:00:00.0000000Z',\n",
       "  'transactions': '622.225404122597'},\n",
       " {'timeStamp': '2017-01-31T00:00:00.0000000Z',\n",
       "  'transactions': '655.131488441104'}]"
      ]
     },
     "execution_count": 106,
     "metadata": {},
     "output_type": "execute_result"
    }
   ],
   "source": [
    "results.data[0:10]"
   ]
  },
  {
   "cell_type": "markdown",
   "metadata": {},
   "source": [
    "OK about 10 mins later there are results to get"
   ]
  },
  {
   "cell_type": "code",
   "execution_count": 107,
   "metadata": {},
   "outputs": [
    {
     "data": {
      "image/png": "[encoded data removed]",
      "text/plain": [
       "<Figure size 1296x360 with 1 Axes>"
      ]
     },
     "metadata": {},
     "output_type": "display_data"
    }
   ],
   "source": [
    "results_df = pd.DataFrame(results.data)\n",
    "results_df = results_df.set_index('timeStamp')\n",
    "results_df.index = pd.to_datetime(results_df.index)\n",
    "results_df = results_df.apply(pd.to_numeric)\n",
    "results_df.plot(figsize=(18,5));\n",
    "df['transactions'][-150:].plot(figsize=(18,5));"
   ]
  },
  {
   "cell_type": "markdown",
   "metadata": {},
   "source": [
    "The prediction (in blue) doesn't look right"
   ]
  },
  {
   "cell_type": "code",
   "execution_count": null,
   "metadata": {},
   "outputs": [],
   "source": []
  }
 ],
 "metadata": {
  "kernelspec": {
   "display_name": "Python 3",
   "language": "python",
   "name": "python3"
  },
  "language_info": {
   "codemirror_mode": {
    "name": "ipython",
    "version": 3
   },
   "file_extension": ".py",
   "mimetype": "text/x-python",
   "name": "python",
   "nbconvert_exporter": "python",
   "pygments_lexer": "ipython3",
   "version": "3.6.3"
  }
 },
 "nbformat": 4,
 "nbformat_minor": 2
}
