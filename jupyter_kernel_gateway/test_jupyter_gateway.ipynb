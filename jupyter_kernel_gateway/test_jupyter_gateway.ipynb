{
 "cells": [
  {
   "cell_type": "markdown",
   "metadata": {},
   "source": [
    "https://ndres.me/post/jupyter-notebook-rest-api/"
   ]
  },
  {
   "cell_type": "code",
   "execution_count": 2,
   "metadata": {},
   "outputs": [],
   "source": [
    "import math\n",
    "import json"
   ]
  },
  {
   "cell_type": "code",
   "execution_count": 3,
   "metadata": {},
   "outputs": [],
   "source": [
    "REQUEST = json.dumps({\n",
    "    'path' : {},\n",
    "    'args' : {}\n",
    "})"
   ]
  },
  {
   "cell_type": "code",
   "execution_count": 4,
   "metadata": {},
   "outputs": [
    {
     "name": "stdout",
     "output_type": "stream",
     "text": [
      "{\"convertedAngle\": null}\n"
     ]
    }
   ],
   "source": [
    "# GET /convert\n",
    "req = json.loads(REQUEST)\n",
    "args = req['args']\n",
    "\n",
    "if 'angle' not in args:\n",
    "  print(json.dumps({'convertedAngle': None}))\n",
    "else:\n",
    "  # Note the [0] when retrieving the argument.\n",
    "  # This is because you could potentially pass multiple angles.\n",
    "  angle = int(args['angle'][0])\n",
    "  converted = math.radians(angle)\n",
    "  print(json.dumps({'convertedAngle': converted}))"
   ]
  },
  {
   "cell_type": "markdown",
   "metadata": {},
   "source": [
    "From within this folder run:\n",
    "```\n",
    "Robins-MacBook-Air:jupyter_kernel_gateway robincole$ jupyter kernelgateway --KernelGatewayApp.api='kernel_gateway.notebook_http' --KernelGatewayApp.seed_uri='test_jupyter_gateway.ipynb'\n",
    "\n",
    "[KernelGatewayApp] Kernel started: 9236b077-3290-43f1-99e3-ad204ff105ee\n",
    "[KernelGatewayApp] Registering resource: /convert, methods: (['GET'])\n",
    "[KernelGatewayApp] Registering resource: /_api/spec/swagger.json, methods: (GET)\n",
    "[KernelGatewayApp] The port 8888 is already in use, trying another port.\n",
    "[KernelGatewayApp] Jupyter Kernel Gateway at http://127.0.0.1:8889\n",
    "INFO:tornado.access:200 GET /convert?angle=180 (127.0.0.1) 30.91ms\n",
    "```"
   ]
  },
  {
   "cell_type": "markdown",
   "metadata": {},
   "source": [
    "Then perform a request:\n",
    "```\n",
    "Robins-MacBook-Air:~ robincole$ curl \"http://localhost:8889/convert?angle=180\"\n",
    "{\"convertedAngle\": 3.141592653589793}\n",
    "```"
   ]
  },
  {
   "cell_type": "code",
   "execution_count": null,
   "metadata": {},
   "outputs": [],
   "source": []
  }
 ],
 "metadata": {
  "kernelspec": {
   "display_name": "Python 3",
   "language": "python",
   "name": "python3"
  },
  "language_info": {
   "codemirror_mode": {
    "name": "ipython",
    "version": 3
   },
   "file_extension": ".py",
   "mimetype": "text/x-python",
   "name": "python",
   "nbconvert_exporter": "python",
   "pygments_lexer": "ipython3",
   "version": "3.6.5"
  }
 },
 "nbformat": 4,
 "nbformat_minor": 2
}
