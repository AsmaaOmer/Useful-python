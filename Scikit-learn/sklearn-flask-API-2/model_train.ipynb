{
 "cells": [
  {
   "cell_type": "markdown",
   "metadata": {},
   "source": [
    "This is the linked Jupyter notebook from https://drive.google.com/file/d/1pswXNPhlEovm9dzohup9cXhvGODQ6utz/view?usp=sharing\n",
    "\n",
    "Dataset https://www.kaggle.com/marklvl/bike-sharing-dataset"
   ]
  },
  {
   "cell_type": "code",
   "execution_count": 17,
   "metadata": {},
   "outputs": [],
   "source": [
    "import pandas as pd\n",
    "import numpy as np\n",
    "from datetime import date\n",
    "from sklearn.ensemble import RandomForestRegressor\n",
    "from sklearn.metrics import mean_squared_error\n",
    "import matplotlib.pyplot as plt\n",
    "import pickle\n",
    "%matplotlib inline"
   ]
  },
  {
   "cell_type": "code",
   "execution_count": 2,
   "metadata": {},
   "outputs": [
    {
     "name": "stdout",
     "output_type": "stream",
     "text": [
      "\u001b[34mBike-Sharing-Dataset 2\u001b[m\u001b[m/ README.md               model_train.ipynb\r\n"
     ]
    }
   ],
   "source": [
    "ls"
   ]
  },
  {
   "cell_type": "code",
   "execution_count": 3,
   "metadata": {},
   "outputs": [],
   "source": [
    "data = pd.read_csv('Bike-Sharing-Dataset 2/day.csv', parse_dates=['dteday'])"
   ]
  },
  {
   "cell_type": "code",
   "execution_count": 4,
   "metadata": {},
   "outputs": [
    {
     "data": {
      "text/html": [
       "<div>\n",
       "<style scoped>\n",
       "    .dataframe tbody tr th:only-of-type {\n",
       "        vertical-align: middle;\n",
       "    }\n",
       "\n",
       "    .dataframe tbody tr th {\n",
       "        vertical-align: top;\n",
       "    }\n",
       "\n",
       "    .dataframe thead th {\n",
       "        text-align: right;\n",
       "    }\n",
       "</style>\n",
       "<table border=\"1\" class=\"dataframe\">\n",
       "  <thead>\n",
       "    <tr style=\"text-align: right;\">\n",
       "      <th></th>\n",
       "      <th>instant</th>\n",
       "      <th>dteday</th>\n",
       "      <th>season</th>\n",
       "      <th>yr</th>\n",
       "      <th>mnth</th>\n",
       "      <th>holiday</th>\n",
       "      <th>weekday</th>\n",
       "      <th>workingday</th>\n",
       "      <th>weathersit</th>\n",
       "      <th>temp</th>\n",
       "      <th>atemp</th>\n",
       "      <th>hum</th>\n",
       "      <th>windspeed</th>\n",
       "      <th>casual</th>\n",
       "      <th>registered</th>\n",
       "      <th>cnt</th>\n",
       "    </tr>\n",
       "  </thead>\n",
       "  <tbody>\n",
       "    <tr>\n",
       "      <th>0</th>\n",
       "      <td>1</td>\n",
       "      <td>2011-01-01</td>\n",
       "      <td>1</td>\n",
       "      <td>0</td>\n",
       "      <td>1</td>\n",
       "      <td>0</td>\n",
       "      <td>6</td>\n",
       "      <td>0</td>\n",
       "      <td>2</td>\n",
       "      <td>0.344167</td>\n",
       "      <td>0.363625</td>\n",
       "      <td>0.805833</td>\n",
       "      <td>0.160446</td>\n",
       "      <td>331</td>\n",
       "      <td>654</td>\n",
       "      <td>985</td>\n",
       "    </tr>\n",
       "    <tr>\n",
       "      <th>1</th>\n",
       "      <td>2</td>\n",
       "      <td>2011-01-02</td>\n",
       "      <td>1</td>\n",
       "      <td>0</td>\n",
       "      <td>1</td>\n",
       "      <td>0</td>\n",
       "      <td>0</td>\n",
       "      <td>0</td>\n",
       "      <td>2</td>\n",
       "      <td>0.363478</td>\n",
       "      <td>0.353739</td>\n",
       "      <td>0.696087</td>\n",
       "      <td>0.248539</td>\n",
       "      <td>131</td>\n",
       "      <td>670</td>\n",
       "      <td>801</td>\n",
       "    </tr>\n",
       "    <tr>\n",
       "      <th>2</th>\n",
       "      <td>3</td>\n",
       "      <td>2011-01-03</td>\n",
       "      <td>1</td>\n",
       "      <td>0</td>\n",
       "      <td>1</td>\n",
       "      <td>0</td>\n",
       "      <td>1</td>\n",
       "      <td>1</td>\n",
       "      <td>1</td>\n",
       "      <td>0.196364</td>\n",
       "      <td>0.189405</td>\n",
       "      <td>0.437273</td>\n",
       "      <td>0.248309</td>\n",
       "      <td>120</td>\n",
       "      <td>1229</td>\n",
       "      <td>1349</td>\n",
       "    </tr>\n",
       "    <tr>\n",
       "      <th>3</th>\n",
       "      <td>4</td>\n",
       "      <td>2011-01-04</td>\n",
       "      <td>1</td>\n",
       "      <td>0</td>\n",
       "      <td>1</td>\n",
       "      <td>0</td>\n",
       "      <td>2</td>\n",
       "      <td>1</td>\n",
       "      <td>1</td>\n",
       "      <td>0.200000</td>\n",
       "      <td>0.212122</td>\n",
       "      <td>0.590435</td>\n",
       "      <td>0.160296</td>\n",
       "      <td>108</td>\n",
       "      <td>1454</td>\n",
       "      <td>1562</td>\n",
       "    </tr>\n",
       "    <tr>\n",
       "      <th>4</th>\n",
       "      <td>5</td>\n",
       "      <td>2011-01-05</td>\n",
       "      <td>1</td>\n",
       "      <td>0</td>\n",
       "      <td>1</td>\n",
       "      <td>0</td>\n",
       "      <td>3</td>\n",
       "      <td>1</td>\n",
       "      <td>1</td>\n",
       "      <td>0.226957</td>\n",
       "      <td>0.229270</td>\n",
       "      <td>0.436957</td>\n",
       "      <td>0.186900</td>\n",
       "      <td>82</td>\n",
       "      <td>1518</td>\n",
       "      <td>1600</td>\n",
       "    </tr>\n",
       "  </tbody>\n",
       "</table>\n",
       "</div>"
      ],
      "text/plain": [
       "   instant     dteday  season  yr  mnth  holiday  weekday  workingday  \\\n",
       "0        1 2011-01-01       1   0     1        0        6           0   \n",
       "1        2 2011-01-02       1   0     1        0        0           0   \n",
       "2        3 2011-01-03       1   0     1        0        1           1   \n",
       "3        4 2011-01-04       1   0     1        0        2           1   \n",
       "4        5 2011-01-05       1   0     1        0        3           1   \n",
       "\n",
       "   weathersit      temp     atemp       hum  windspeed  casual  registered  \\\n",
       "0           2  0.344167  0.363625  0.805833   0.160446     331         654   \n",
       "1           2  0.363478  0.353739  0.696087   0.248539     131         670   \n",
       "2           1  0.196364  0.189405  0.437273   0.248309     120        1229   \n",
       "3           1  0.200000  0.212122  0.590435   0.160296     108        1454   \n",
       "4           1  0.226957  0.229270  0.436957   0.186900      82        1518   \n",
       "\n",
       "    cnt  \n",
       "0   985  \n",
       "1   801  \n",
       "2  1349  \n",
       "3  1562  \n",
       "4  1600  "
      ]
     },
     "execution_count": 4,
     "metadata": {},
     "output_type": "execute_result"
    }
   ],
   "source": [
    "data.head()"
   ]
  },
  {
   "cell_type": "markdown",
   "metadata": {},
   "source": [
    "Create a feature day of year to include month + day information"
   ]
  },
  {
   "cell_type": "code",
   "execution_count": 5,
   "metadata": {},
   "outputs": [],
   "source": [
    "data['dayofyear']=(data['dteday']-data['dteday'].apply(lambda x: date(x.year,1,1)).astype('datetime64[ns]')).apply(lambda x: x.days)"
   ]
  },
  {
   "cell_type": "code",
   "execution_count": 6,
   "metadata": {},
   "outputs": [],
   "source": [
    "offset = int(len(data)*0.8)"
   ]
  },
  {
   "cell_type": "markdown",
   "metadata": {},
   "source": [
    "Create variables and remove unused columns"
   ]
  },
  {
   "cell_type": "code",
   "execution_count": 7,
   "metadata": {},
   "outputs": [],
   "source": [
    "X = np.array(data.drop(['dteday','mnth','casual','registered','cnt'],axis=1))\n",
    "Y = np.array(data['cnt'])"
   ]
  },
  {
   "cell_type": "markdown",
   "metadata": {},
   "source": [
    "Split train and test"
   ]
  },
  {
   "cell_type": "code",
   "execution_count": 10,
   "metadata": {},
   "outputs": [],
   "source": [
    "X_train, X_test = X[:offset], X[offset:]\n",
    "Y_train, Y_test = Y[:offset], Y[offset:]"
   ]
  },
  {
   "cell_type": "markdown",
   "metadata": {},
   "source": [
    "Set up and learn a RF regressor"
   ]
  },
  {
   "cell_type": "code",
   "execution_count": 11,
   "metadata": {},
   "outputs": [],
   "source": [
    "RF = RandomForestRegressor()"
   ]
  },
  {
   "cell_type": "code",
   "execution_count": 12,
   "metadata": {},
   "outputs": [
    {
     "data": {
      "text/plain": [
       "RandomForestRegressor(bootstrap=True, criterion='mse', max_depth=None,\n",
       "           max_features='auto', max_leaf_nodes=None,\n",
       "           min_impurity_decrease=0.0, min_impurity_split=None,\n",
       "           min_samples_leaf=1, min_samples_split=2,\n",
       "           min_weight_fraction_leaf=0.0, n_estimators=10, n_jobs=1,\n",
       "           oob_score=False, random_state=None, verbose=0, warm_start=False)"
      ]
     },
     "execution_count": 12,
     "metadata": {},
     "output_type": "execute_result"
    }
   ],
   "source": [
    "RF.fit(X_train,Y_train)"
   ]
  },
  {
   "cell_type": "markdown",
   "metadata": {},
   "source": [
    "MSE compared with predicting the median"
   ]
  },
  {
   "cell_type": "code",
   "execution_count": 13,
   "metadata": {},
   "outputs": [
    {
     "name": "stdout",
     "output_type": "stream",
     "text": [
      "1492724.5066666666\n"
     ]
    }
   ],
   "source": [
    "print(mean_squared_error(Y_test,RF.predict(X_test)))"
   ]
  },
  {
   "cell_type": "code",
   "execution_count": 14,
   "metadata": {},
   "outputs": [
    {
     "name": "stdout",
     "output_type": "stream",
     "text": [
      "6396734.80952381\n"
     ]
    }
   ],
   "source": [
    "print(mean_squared_error(Y_test,np.median(Y_train)*np.ones(len(Y_test))))"
   ]
  },
  {
   "cell_type": "markdown",
   "metadata": {},
   "source": [
    "Check predictions with ground truth"
   ]
  },
  {
   "cell_type": "code",
   "execution_count": 15,
   "metadata": {},
   "outputs": [
    {
     "data": {
      "text/plain": [
       "array([[7007.9, 7273. ],\n",
       "       [6935.5, 7534. ],\n",
       "       [6870.1, 7286. ],\n",
       "       [6669.9, 5786. ],\n",
       "       [6667.2, 6299. ],\n",
       "       [7331.6, 6544. ],\n",
       "       [7164.1, 6883. ],\n",
       "       [7259.4, 6784. ],\n",
       "       [7093.2, 7347. ],\n",
       "       [7635.3, 7605. ],\n",
       "       [5854.7, 7148. ],\n",
       "       [7261.9, 7865. ],\n",
       "       [6981.2, 4549. ],\n",
       "       [6997.3, 6530. ],\n",
       "       [7368.7, 7006. ],\n",
       "       [7312. , 7375. ],\n",
       "       [7252.8, 7765. ],\n",
       "       [7323.5, 7582. ],\n",
       "       [6596.9, 6053. ],\n",
       "       [4848.8, 5255. ],\n",
       "       [7024.6, 6917. ],\n",
       "       [7030. , 7040. ],\n",
       "       [7585.8, 7697. ],\n",
       "       [7252.8, 7713. ],\n",
       "       [6375.3, 7350. ],\n",
       "       [6940.5, 6140. ],\n",
       "       [6034.2, 5810. ],\n",
       "       [6117.6, 6034. ],\n",
       "       [5696.6, 6864. ],\n",
       "       [6806.2, 7112. ],\n",
       "       [6064.4, 6203. ],\n",
       "       [6869.5, 7504. ],\n",
       "       [5138.5, 5976. ],\n",
       "       [7081.5, 8227. ],\n",
       "       [7275.9, 7525. ],\n",
       "       [7191.6, 7767. ],\n",
       "       [7446.6, 7870. ],\n",
       "       [7249.9, 7804. ],\n",
       "       [7531.6, 8009. ],\n",
       "       [7547.1, 8714. ],\n",
       "       [7252.5, 7333. ],\n",
       "       [6577.4, 6869. ],\n",
       "       [4504.4, 4073. ],\n",
       "       [7272.5, 7591. ],\n",
       "       [7373.7, 7720. ],\n",
       "       [7547.7, 8167. ],\n",
       "       [7254.2, 8395. ],\n",
       "       [7207. , 7907. ],\n",
       "       [7194.1, 7436. ],\n",
       "       [6916.8, 7538. ],\n",
       "       [7269.2, 7733. ],\n",
       "       [7271.1, 7393. ],\n",
       "       [7264.2, 7415. ],\n",
       "       [7423. , 8555. ],\n",
       "       [7192.1, 6889. ],\n",
       "       [7067.7, 6778. ],\n",
       "       [5323. , 4639. ],\n",
       "       [5803.3, 7572. ],\n",
       "       [6913.6, 7328. ],\n",
       "       [7448.1, 8156. ],\n",
       "       [7460.4, 7965. ],\n",
       "       [6298.1, 3510. ],\n",
       "       [4880.7, 5478. ],\n",
       "       [5171.5, 6392. ],\n",
       "       [7229.5, 7691. ],\n",
       "       [6235.6, 7570. ],\n",
       "       [6200.8, 7282. ],\n",
       "       [4737.4, 7109. ],\n",
       "       [7005.2, 6639. ],\n",
       "       [6628.4, 5875. ],\n",
       "       [6058.8, 7534. ],\n",
       "       [6422.4, 7461. ],\n",
       "       [6398.9, 7509. ],\n",
       "       [6355.3, 5424. ],\n",
       "       [6037.3, 8090. ],\n",
       "       [5658.8, 6824. ],\n",
       "       [6223.8, 7058. ],\n",
       "       [7262.1, 7466. ],\n",
       "       [7394.1, 7693. ],\n",
       "       [6263.8, 7359. ],\n",
       "       [6400.3, 7444. ],\n",
       "       [6382.2, 7852. ],\n",
       "       [6128. , 4459. ],\n",
       "       [3618.8,   22. ],\n",
       "       [3726.2, 1096. ],\n",
       "       [5173.7, 5566. ],\n",
       "       [4981.5, 5986. ],\n",
       "       [5106.7, 5847. ],\n",
       "       [4987.8, 5138. ],\n",
       "       [5331.1, 5107. ],\n",
       "       [5147.7, 5259. ],\n",
       "       [5281.9, 5686. ],\n",
       "       [5116.9, 5035. ],\n",
       "       [5262.4, 5315. ],\n",
       "       [5223.6, 5992. ],\n",
       "       [5038. , 6536. ],\n",
       "       [6347.1, 6852. ],\n",
       "       [5604.7, 6269. ],\n",
       "       [5095.6, 4094. ],\n",
       "       [5251.1, 5495. ],\n",
       "       [5168.3, 5445. ],\n",
       "       [5228.6, 5698. ],\n",
       "       [5083.2, 5629. ],\n",
       "       [5160.3, 4669. ],\n",
       "       [5190.8, 5499. ],\n",
       "       [5237. , 5634. ],\n",
       "       [5243. , 5146. ],\n",
       "       [5027.2, 2425. ],\n",
       "       [4981.5, 3910. ],\n",
       "       [5127.1, 2277. ],\n",
       "       [5149.6, 2424. ],\n",
       "       [5099.6, 5087. ],\n",
       "       [3548. , 3959. ],\n",
       "       [5251.1, 5260. ],\n",
       "       [5049.3, 5323. ],\n",
       "       [5341.1, 5668. ],\n",
       "       [4300.9, 5191. ],\n",
       "       [4434.8, 4649. ],\n",
       "       [5630.5, 6234. ],\n",
       "       [5981.5, 6606. ],\n",
       "       [6103.3, 5729. ],\n",
       "       [5228.6, 5375. ],\n",
       "       [4988.2, 5008. ],\n",
       "       [4064.2, 5582. ],\n",
       "       [4015.2, 3228. ],\n",
       "       [4828.5, 5170. ],\n",
       "       [5190.8, 5501. ],\n",
       "       [5004. , 5319. ],\n",
       "       [5228.6, 5532. ],\n",
       "       [5103.4, 5611. ],\n",
       "       [5133.3, 5047. ],\n",
       "       [4249.6, 3786. ],\n",
       "       [4263.2, 4585. ],\n",
       "       [6181.4, 5557. ],\n",
       "       [5294.2, 5267. ],\n",
       "       [5103.4, 4128. ],\n",
       "       [4888. , 3623. ],\n",
       "       [5044.7, 1749. ],\n",
       "       [5120.4, 1787. ],\n",
       "       [4533.9,  920. ],\n",
       "       [4627.7, 1013. ],\n",
       "       [2996.1,  441. ],\n",
       "       [4948.2, 2114. ],\n",
       "       [5168.3, 3095. ],\n",
       "       [4413.2, 1341. ],\n",
       "       [5002.2, 1796. ],\n",
       "       [5076.4, 2729. ]])"
      ]
     },
     "execution_count": 15,
     "metadata": {},
     "output_type": "execute_result"
    }
   ],
   "source": [
    "np.vstack((RF.predict(X_test),Y_test)).T"
   ]
  },
  {
   "cell_type": "markdown",
   "metadata": {},
   "source": [
    "Test set expected distribution"
   ]
  },
  {
   "cell_type": "code",
   "execution_count": 18,
   "metadata": {},
   "outputs": [
    {
     "data": {
      "text/plain": [
       "<matplotlib.axes._subplots.AxesSubplot at 0x10155f518>"
      ]
     },
     "execution_count": 18,
     "metadata": {},
     "output_type": "execute_result"
    },
    {
     "data": {
      "image/png": "[encoded data removed]",
      "text/plain": [
       "<Figure size 432x288 with 1 Axes>"
      ]
     },
     "metadata": {},
     "output_type": "display_data"
    }
   ],
   "source": [
    "pd.DataFrame(Y_test).plot(kind='hist',bins=20)"
   ]
  },
  {
   "cell_type": "markdown",
   "metadata": {},
   "source": [
    "Test set predicted distribution"
   ]
  },
  {
   "cell_type": "code",
   "execution_count": 19,
   "metadata": {},
   "outputs": [
    {
     "data": {
      "text/plain": [
       "<matplotlib.axes._subplots.AxesSubplot at 0x102253828>"
      ]
     },
     "execution_count": 19,
     "metadata": {},
     "output_type": "execute_result"
    },
    {
     "data": {
      "image/png": "[encoded data removed]",
      "text/plain": [
       "<Figure size 432x288 with 1 Axes>"
      ]
     },
     "metadata": {},
     "output_type": "display_data"
    }
   ],
   "source": [
    "pd.DataFrame(RF.predict(X_test)).plot(kind='hist',bins=20)"
   ]
  },
  {
   "cell_type": "markdown",
   "metadata": {},
   "source": [
    "Test set error distribution"
   ]
  },
  {
   "cell_type": "code",
   "execution_count": 20,
   "metadata": {},
   "outputs": [
    {
     "data": {
      "text/plain": [
       "<matplotlib.axes._subplots.AxesSubplot at 0x1a08bf14a8>"
      ]
     },
     "execution_count": 20,
     "metadata": {},
     "output_type": "execute_result"
    },
    {
     "data": {
      "image/png": "[encoded data removed]",
      "text/plain": [
       "<Figure size 432x288 with 1 Axes>"
      ]
     },
     "metadata": {},
     "output_type": "display_data"
    }
   ],
   "source": [
    "pd.DataFrame(Y_test-RF.predict(X_test)).plot(kind='hist',bins=20)"
   ]
  },
  {
   "cell_type": "markdown",
   "metadata": {},
   "source": [
    "Dump model file to a pickle object"
   ]
  },
  {
   "cell_type": "code",
   "execution_count": 21,
   "metadata": {},
   "outputs": [],
   "source": [
    "with open(\"modelfile.pickle\", 'wb') as handle:\n",
    "    pickle.dump(RF, handle, protocol=pickle.HIGHEST_PROTOCOL)"
   ]
  },
  {
   "cell_type": "code",
   "execution_count": 22,
   "metadata": {},
   "outputs": [
    {
     "name": "stdout",
     "output_type": "stream",
     "text": [
      "\u001b[34mBike-Sharing-Dataset 2\u001b[m\u001b[m/ model_train.ipynb\r\n",
      "README.md               modelfile.pickle\r\n"
     ]
    }
   ],
   "source": [
    "ls"
   ]
  },
  {
   "cell_type": "code",
   "execution_count": 23,
   "metadata": {},
   "outputs": [],
   "source": [
    "import os\n",
    "filesize = os.path.getsize(\"modelfile.pickle\")"
   ]
  },
  {
   "cell_type": "code",
   "execution_count": 26,
   "metadata": {},
   "outputs": [
    {
     "data": {
      "text/plain": [
       "0.46848"
      ]
     },
     "execution_count": 26,
     "metadata": {},
     "output_type": "execute_result"
    }
   ],
   "source": [
    "filesize/1e6 # MB"
   ]
  },
  {
   "cell_type": "code",
   "execution_count": null,
   "metadata": {},
   "outputs": [],
   "source": []
  }
 ],
 "metadata": {
  "kernelspec": {
   "display_name": "Python 3",
   "language": "python",
   "name": "python3"
  },
  "language_info": {
   "codemirror_mode": {
    "name": "ipython",
    "version": 3
   },
   "file_extension": ".py",
   "mimetype": "text/x-python",
   "name": "python",
   "nbconvert_exporter": "python",
   "pygments_lexer": "ipython3",
   "version": "3.6.5"
  }
 },
 "nbformat": 4,
 "nbformat_minor": 2
}
