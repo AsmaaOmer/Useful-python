{
 "cells": [
  {
   "cell_type": "markdown",
   "metadata": {},
   "source": [
    "`$ python3 full_api.py`\n",
    "\n",
    "Make a prediction "
   ]
  },
  {
   "cell_type": "code",
   "execution_count": 9,
   "metadata": {},
   "outputs": [],
   "source": [
    "import requests, json\n",
    "\n",
    "url = 'http://127.0.0.1:5000/api/makecalc/'\n",
    "text = json.dumps({\"0\":{\"instant\":1,\"dteday\":\"2011-01-01T00:00:00.000Z\",\"season\":1,\"yr\":0,\"mnth\":1,\"holiday\":0,\"weekday\":6,\"workingday\":0,\"weathersit\":2,\"temp\":0.344167,\"atemp\":0.363625,\"hum\":0.805833,\"windspeed\":0.160446},\n",
    "                   \"1\":{\"instant\":2,\"dteday\":\"2011-01-02T00:00:00.000Z\",\"season\":1,\"yr\":0,\"mnth\":1,\"holiday\":0,\"weekday\":3,\"workingday\":0,\"weathersit\":2,\"temp\":0.363478,\"atemp\":0.353739,\"hum\":0.696087,\"windspeed\":0.248539},\n",
    "                   \"2\":{\"instant\":3,\"dteday\":\"2011-01-03T00:00:00.000Z\",\"season\":1,\"yr\":0,\"mnth\":1,\"holiday\":0,\"weekday\":1,\"workingday\":1,\"weathersit\":1,\"temp\":0.196364,\"atemp\":0.189405,\"hum\":0.437273,\"windspeed\":0.248309}})"
   ]
  },
  {
   "cell_type": "code",
   "execution_count": 10,
   "metadata": {},
   "outputs": [
    {
     "name": "stdout",
     "output_type": "stream",
     "text": [
      "<Response [200]> {\n",
      "  \"0\": 1122.5, \n",
      "  \"1\": 1028.5, \n",
      "  \"2\": 1522.5\n",
      "}\n",
      "\n"
     ]
    }
   ],
   "source": [
    "headers = {'content-type': 'application/json', 'Accept-Charset': 'UTF-8'}\n",
    "r = requests.post(url, data=text, headers=headers)\n",
    "print(r,r.text)"
   ]
  },
  {
   "cell_type": "code",
   "execution_count": null,
   "metadata": {},
   "outputs": [],
   "source": []
  }
 ],
 "metadata": {
  "kernelspec": {
   "display_name": "Python 3",
   "language": "python",
   "name": "python3"
  },
  "language_info": {
   "codemirror_mode": {
    "name": "ipython",
    "version": 3
   },
   "file_extension": ".py",
   "mimetype": "text/x-python",
   "name": "python",
   "nbconvert_exporter": "python",
   "pygments_lexer": "ipython3",
   "version": "3.6.5"
  }
 },
 "nbformat": 4,
 "nbformat_minor": 2
}
