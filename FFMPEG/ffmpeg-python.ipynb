{
 "cells": [
  {
   "cell_type": "markdown",
   "metadata": {},
   "source": [
    "* https://github.com/kkroening/ffmpeg-python\n",
    "* Jupyter stream example https://github.com/kkroening/ffmpeg-python/blob/master/examples/ffmpeg-numpy.ipynb\n",
    "\n",
    "List usb devices"
   ]
  },
  {
   "cell_type": "code",
   "execution_count": 1,
   "metadata": {},
   "outputs": [
    {
     "name": "stdout",
     "output_type": "stream",
     "text": [
      "Bus 020 Device 023: ID 2109:2813 VIA Labs, Inc. USB2.0 Hub \n",
      "Bus 020 Device 024: ID 058f:3841 Alcor Micro, Corp. USB 2.0 PC Camera \n",
      "Bus 020 Device 025: ID 2109:0100 VIA Labs, Inc. USB 2.0 BILLBOARD  Serial: 0000000000000001\n",
      "Bus 000 Device 001: ID 2109:0813 VIA Labs, Inc. USB3.0 Hub \n",
      "Bus 000 Device 002: ID 05e3:0749 Genesys Logic, Inc. USB3.0 Card Reader  Serial: 000000001534\n",
      "Bus 000 Device 001: ID 1d6b:PTLP Linux Foundation USB 3.0 Bus \n",
      "Bus 000 Device 001: ID 1d6b:CIAR Linux Foundation USB 3.1 Bus \n"
     ]
    }
   ],
   "source": [
    "!lsusb"
   ]
  },
  {
   "cell_type": "markdown",
   "metadata": {},
   "source": [
    "Use ffmpeg to check devices - see https://trac.ffmpeg.org/wiki/Capture/Webcam"
   ]
  },
  {
   "cell_type": "code",
   "execution_count": 2,
   "metadata": {},
   "outputs": [
    {
     "name": "stdout",
     "output_type": "stream",
     "text": [
      "ffmpeg version 3.4 Copyright (c) 2000-2017 the FFmpeg developers\n",
      "  built with Apple LLVM version 9.0.0 (clang-900.0.37)\n",
      "  configuration: --prefix=/usr/local/Cellar/ffmpeg/3.4 --enable-shared --enable-pthreads --enable-version3 --enable-hardcoded-tables --enable-avresample --cc=clang --host-cflags= --host-ldflags= --enable-gpl --enable-libmp3lame --enable-libx264 --enable-libxvid --enable-opencl --enable-videotoolbox --disable-lzma\n",
      "  libavutil      55. 78.100 / 55. 78.100\n",
      "  libavcodec     57.107.100 / 57.107.100\n",
      "  libavformat    57. 83.100 / 57. 83.100\n",
      "  libavdevice    57. 10.100 / 57. 10.100\n",
      "  libavfilter     6.107.100 /  6.107.100\n",
      "  libavresample   3.  7.  0 /  3.  7.  0\n",
      "  libswscale      4.  8.100 /  4.  8.100\n",
      "  libswresample   2.  9.100 /  2.  9.100\n",
      "  libpostproc    54.  7.100 / 54.  7.100\n",
      "\u001b[0;35m[AVFoundation input device @ 0x7f93aec0d340] \u001b[0mAVFoundation video devices:\n",
      "\u001b[0;35m[AVFoundation input device @ 0x7f93aec0d340] \u001b[0m[0] USB 2.0 PC Camera\n",
      "\u001b[0;35m[AVFoundation input device @ 0x7f93aec0d340] \u001b[0m[1] FaceTime HD Camera\n",
      "\u001b[0;35m[AVFoundation input device @ 0x7f93aec0d340] \u001b[0m[2] Capture screen 0\n",
      "\u001b[0;35m[AVFoundation input device @ 0x7f93aec0d340] \u001b[0mAVFoundation audio devices:\n",
      "\u001b[0;35m[AVFoundation input device @ 0x7f93aec0d340] \u001b[0m[0] Magic Sound\n",
      "\u001b[0;35m[AVFoundation input device @ 0x7f93aec0d340] \u001b[0m[1] Built-in Microphone\n",
      "\u001b[1;31m: Input/output error\n",
      "\u001b[0m"
     ]
    }
   ],
   "source": [
    "# To list the supported, connected capture devices:\n",
    "\n",
    "!ffmpeg -f avfoundation -list_devices true -i \"\""
   ]
  },
  {
   "cell_type": "code",
   "execution_count": 3,
   "metadata": {},
   "outputs": [
    {
     "name": "stdout",
     "output_type": "stream",
     "text": [
      "README.md            ffmpeg-python.ipynb  \u001b[34mofficial_examples\u001b[m\u001b[m/\n"
     ]
    }
   ],
   "source": [
    "ls"
   ]
  },
  {
   "cell_type": "code",
   "execution_count": 4,
   "metadata": {},
   "outputs": [
    {
     "name": "stdout",
     "output_type": "stream",
     "text": [
      "ffmpeg version 3.4 Copyright (c) 2000-2017 the FFmpeg developers\n",
      "  built with Apple LLVM version 9.0.0 (clang-900.0.37)\n",
      "  configuration: --prefix=/usr/local/Cellar/ffmpeg/3.4 --enable-shared --enable-pthreads --enable-version3 --enable-hardcoded-tables --enable-avresample --cc=clang --host-cflags= --host-ldflags= --enable-gpl --enable-libmp3lame --enable-libx264 --enable-libxvid --enable-opencl --enable-videotoolbox --disable-lzma\n",
      "  libavutil      55. 78.100 / 55. 78.100\n",
      "  libavcodec     57.107.100 / 57.107.100\n",
      "  libavformat    57. 83.100 / 57. 83.100\n",
      "  libavdevice    57. 10.100 / 57. 10.100\n",
      "  libavfilter     6.107.100 /  6.107.100\n",
      "  libavresample   3.  7.  0 /  3.  7.  0\n",
      "  libswscale      4.  8.100 /  4.  8.100\n",
      "  libswresample   2.  9.100 /  2.  9.100\n",
      "  libpostproc    54.  7.100 / 54.  7.100\n",
      "\u001b[0;35m[avfoundation @ 0x7f9f07800000] \u001b[0m\u001b[1;31mSelected pixel format (yuv420p) is not supported by the input device.\n",
      "\u001b[0m\u001b[0;35m[avfoundation @ 0x7f9f07800000] \u001b[0m\u001b[1;31mSupported pixel formats:\n",
      "\u001b[0m\u001b[0;35m[avfoundation @ 0x7f9f07800000] \u001b[0m\u001b[1;31m  uyvy422\n",
      "\u001b[0m\u001b[0;35m[avfoundation @ 0x7f9f07800000] \u001b[0m\u001b[1;31m  yuyv422\n",
      "\u001b[0m\u001b[0;35m[avfoundation @ 0x7f9f07800000] \u001b[0m\u001b[1;31m  nv12\n",
      "\u001b[0m\u001b[0;35m[avfoundation @ 0x7f9f07800000] \u001b[0m\u001b[1;31m  0rgb\n",
      "\u001b[0m\u001b[0;35m[avfoundation @ 0x7f9f07800000] \u001b[0m\u001b[1;31m  bgr0\n",
      "\u001b[0m\u001b[0;35m[avfoundation @ 0x7f9f07800000] \u001b[0m\u001b[0;33mOverriding selected pixel format to use uyvy422 instead.\n",
      "\u001b[0mInput #0, avfoundation, from '0':\n",
      "  Duration: N/A, start: 91426.263000, bitrate: N/A\n",
      "    Stream #0:0: Video: rawvideo (UYVY / 0x59565955), uyvy422, 1280x720, 29.97 tbr, 1000k tbn, 1000k tbc\n",
      "Stream mapping:\n",
      "  Stream #0:0 -> #0:0 (rawvideo (native) -> mpeg1video (native))\n",
      "Press [q] to stop, [?] for help\n",
      "\u001b[1;35m[mpeg @ 0x7f9f0781b000] \u001b[0m\u001b[0;33mVBV buffer size not set, using default size of 130KB\n",
      "If you want the mpeg file to be compliant to some specification\n",
      "Like DVD, VCD or others, make sure you set the correct buffer size\n",
      "\u001b[0mOutput #0, mpeg, to 'out.mpg':\n",
      "  Metadata:\n",
      "    encoder         : Lavf57.83.100\n",
      "    Stream #0:0: Video: mpeg1video, yuv420p, 1280x720, q=2-31, 200 kb/s, 29.97 fps, 90k tbn, 29.97 tbc\n",
      "    Metadata:\n",
      "      encoder         : Lavc57.107.100 mpeg1video\n",
      "    Side data:\n",
      "      cpb: bitrate max/min/avg: 0/0/200000 buffer size: 0 vbv_delay: -1\n",
      "frame=   89 fps= 33 q=31.0 Lsize=     328kB time=00:00:02.90 bitrate= 925.6kbits/s dup=59 drop=0 speed=1.06x    \n",
      "video:325kB audio:0kB subtitle:0kB other streams:0kB global headers:0kB muxing overhead: 0.974657%\n"
     ]
    }
   ],
   "source": [
    "#Web capture from source 0\n",
    "#Screen capture from source 2\n",
    "!ffmpeg -f avfoundation -framerate 30 -i \"0\" out.mpg"
   ]
  },
  {
   "cell_type": "code",
   "execution_count": 7,
   "metadata": {},
   "outputs": [
    {
     "name": "stdout",
     "output_type": "stream",
     "text": [
      "/bin/sh: v4l2-ctl: command not found\n"
     ]
    }
   ],
   "source": [
    "!v4l2-ctl --list-devices"
   ]
  },
  {
   "cell_type": "markdown",
   "metadata": {},
   "source": [
    "## Python bindings"
   ]
  },
  {
   "cell_type": "code",
   "execution_count": 6,
   "metadata": {},
   "outputs": [],
   "source": [
    "import ffmpeg"
   ]
  }
 ],
 "metadata": {
  "kernelspec": {
   "display_name": "Python 3",
   "language": "python",
   "name": "python3"
  },
  "language_info": {
   "codemirror_mode": {
    "name": "ipython",
    "version": 3
   },
   "file_extension": ".py",
   "mimetype": "text/x-python",
   "name": "python",
   "nbconvert_exporter": "python",
   "pygments_lexer": "ipython3",
   "version": "3.6.5"
  }
 },
 "nbformat": 4,
 "nbformat_minor": 2
}
