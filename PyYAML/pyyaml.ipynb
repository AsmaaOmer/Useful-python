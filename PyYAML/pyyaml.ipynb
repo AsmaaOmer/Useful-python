{
 "cells": [
  {
   "cell_type": "code",
   "execution_count": 2,
   "metadata": {},
   "outputs": [],
   "source": [
    "# !pip install pyyaml"
   ]
  },
  {
   "cell_type": "code",
   "execution_count": 3,
   "metadata": {},
   "outputs": [],
   "source": [
    "import yaml"
   ]
  },
  {
   "cell_type": "code",
   "execution_count": 6,
   "metadata": {},
   "outputs": [],
   "source": [
    "with open('config.yml') as f:\n",
    "    CONFIG = yaml.safe_load(f)"
   ]
  },
  {
   "cell_type": "code",
   "execution_count": 7,
   "metadata": {},
   "outputs": [
    {
     "data": {
      "text/plain": [
       "dict"
      ]
     },
     "execution_count": 7,
     "metadata": {},
     "output_type": "execute_result"
    }
   ],
   "source": [
    "type(CONFIG)"
   ]
  },
  {
   "cell_type": "code",
   "execution_count": 8,
   "metadata": {},
   "outputs": [
    {
     "data": {
      "text/plain": [
       "{'web_port': 5000,\n",
       " 'mqtt': {'host': 'mqtt.server.com', 'topic_prefix': 'frigate'},\n",
       " 'cameras': {'back': {'rtsp': {'user': 'viewer',\n",
       "    'host': '10.0.10.10',\n",
       "    'port': 554,\n",
       "    'password': '$RTSP_PASSWORD',\n",
       "    'path': '/cam/realmonitor?channel=1&subtype=2'},\n",
       "   'mask': 'back-mask.bmp',\n",
       "   'regions': [{'size': 350,\n",
       "     'x_offset': 0,\n",
       "     'y_offset': 300,\n",
       "     'min_person_area': 5000,\n",
       "     'threshold': 0.5},\n",
       "    {'size': 400,\n",
       "     'x_offset': 350,\n",
       "     'y_offset': 250,\n",
       "     'min_person_area': 2000,\n",
       "     'threshold': 0.5},\n",
       "    {'size': 400,\n",
       "     'x_offset': 750,\n",
       "     'y_offset': 250,\n",
       "     'min_person_area': 2000,\n",
       "     'threshold': 0.5}]}}}"
      ]
     },
     "execution_count": 8,
     "metadata": {},
     "output_type": "execute_result"
    }
   ],
   "source": [
    "CONFIG"
   ]
  },
  {
   "cell_type": "code",
   "execution_count": null,
   "metadata": {},
   "outputs": [],
   "source": []
  }
 ],
 "metadata": {
  "kernelspec": {
   "display_name": "Python 3",
   "language": "python",
   "name": "python3"
  },
  "language_info": {
   "codemirror_mode": {
    "name": "ipython",
    "version": 3
   },
   "file_extension": ".py",
   "mimetype": "text/x-python",
   "name": "python",
   "nbconvert_exporter": "python",
   "pygments_lexer": "ipython3",
   "version": "3.6.5"
  }
 },
 "nbformat": 4,
 "nbformat_minor": 2
}
