{
 "cells": [
  {
   "cell_type": "markdown",
   "metadata": {},
   "source": [
    "- ruamel.yaml is a YAML 1.2 loader/dumper package for Python. -> https://yaml.readthedocs.io/en/latest/overview.html\n",
    "- [article](https://medium.com/@deepak7093/dynamic-code-generator-using-yaml-config-and-jinja2-templates-31d8b9663fb0) on using yaml and jinja templating"
   ]
  },
  {
   "cell_type": "markdown",
   "metadata": {},
   "source": [
    "Load a yaml file"
   ]
  },
  {
   "cell_type": "code",
   "execution_count": 1,
   "metadata": {},
   "outputs": [
    {
     "name": "stdout",
     "output_type": "stream",
     "text": [
      "config.yaml\n"
     ]
    }
   ],
   "source": [
    "ls *.yaml"
   ]
  },
  {
   "cell_type": "code",
   "execution_count": 2,
   "metadata": {},
   "outputs": [],
   "source": [
    "from ruamel.yaml import YAML\n",
    "\n",
    "yaml=YAML(typ='safe')   # default, if not specfied, is 'rt' (round-trip)"
   ]
  },
  {
   "cell_type": "code",
   "execution_count": 3,
   "metadata": {},
   "outputs": [
    {
     "name": "stdout",
     "output_type": "stream",
     "text": [
      "{'countries': [{'name': 'India', 'capital': 'Delhi'}, {'name': 'Singapore', 'capital': 'Singapore'}]}\n"
     ]
    }
   ],
   "source": [
    "config_data = yaml.load(open('config.yaml'))\n",
    "print(config_data)"
   ]
  },
  {
   "cell_type": "markdown",
   "metadata": {},
   "source": [
    "Dump python classes to Yaml -> https://yaml.readthedocs.io/en/latest/dumpcls.html"
   ]
  },
  {
   "cell_type": "code",
   "execution_count": 4,
   "metadata": {},
   "outputs": [
    {
     "name": "stdout",
     "output_type": "stream",
     "text": [
      "- !User\n",
      "  name: Anthon\n",
      "  age: 18\n"
     ]
    }
   ],
   "source": [
    "import sys\n",
    "import ruamel.yaml\n",
    "\n",
    "\n",
    "class User(object):\n",
    "    def __init__(self, name, age):\n",
    "        self.name = name\n",
    "        self.age = age\n",
    "\n",
    "\n",
    "yaml = ruamel.yaml.YAML()\n",
    "yaml.register_class(User)\n",
    "yaml.dump([User('Anthon', 18)], sys.stdout)"
   ]
  },
  {
   "cell_type": "code",
   "execution_count": null,
   "metadata": {},
   "outputs": [],
   "source": []
  }
 ],
 "metadata": {
  "kernelspec": {
   "display_name": "Python 3",
   "language": "python",
   "name": "python3"
  },
  "language_info": {
   "codemirror_mode": {
    "name": "ipython",
    "version": 3
   },
   "file_extension": ".py",
   "mimetype": "text/x-python",
   "name": "python",
   "nbconvert_exporter": "python",
   "pygments_lexer": "ipython3",
   "version": "3.7.3"
  }
 },
 "nbformat": 4,
 "nbformat_minor": 4
}
