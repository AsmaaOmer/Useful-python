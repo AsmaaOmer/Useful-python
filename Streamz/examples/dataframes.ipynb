{
 "cells": [
  {
   "cell_type": "code",
   "execution_count": 1,
   "metadata": {},
   "outputs": [],
   "source": [
    "from streamz.dataframe import Random, DataFrame"
   ]
  },
  {
   "cell_type": "code",
   "execution_count": 2,
   "metadata": {},
   "outputs": [
    {
     "data": {
      "application/vnd.jupyter.widget-view+json": {
       "model_id": "5d99e4c4e51e41bc860c810df687ec26",
       "version_major": 2,
       "version_minor": 0
      },
      "text/plain": [
       "Output()"
      ]
     },
     "metadata": {},
     "output_type": "display_data"
    }
   ],
   "source": [
    "source = Random(freq='5ms', interval='100ms')\n",
    "source.x.sum()"
   ]
  },
  {
   "cell_type": "code",
   "execution_count": 3,
   "metadata": {},
   "outputs": [
    {
     "data": {
      "application/vnd.jupyter.widget-view+json": {
       "model_id": "38304815a2814ffaae96aa2edaea94ba",
       "version_major": 2,
       "version_minor": 0
      },
      "text/plain": [
       "Output()"
      ]
     },
     "metadata": {},
     "output_type": "display_data"
    }
   ],
   "source": [
    "sdf = (source - 0.5).cumsum()\n",
    "sdf.tail()"
   ]
  },
  {
   "cell_type": "code",
   "execution_count": 4,
   "metadata": {},
   "outputs": [
    {
     "data": {
      "text/html": [
       "<div>\n",
       "<style scoped>\n",
       "    .dataframe tbody tr th:only-of-type {\n",
       "        vertical-align: middle;\n",
       "    }\n",
       "\n",
       "    .dataframe tbody tr th {\n",
       "        vertical-align: top;\n",
       "    }\n",
       "\n",
       "    .dataframe thead th {\n",
       "        text-align: right;\n",
       "    }\n",
       "</style>\n",
       "<table border=\"1\" class=\"dataframe\">\n",
       "  <thead>\n",
       "    <tr style=\"text-align: right;\">\n",
       "      <th></th>\n",
       "      <th>x</th>\n",
       "      <th>y</th>\n",
       "      <th>z</th>\n",
       "    </tr>\n",
       "  </thead>\n",
       "  <tbody>\n",
       "    <tr>\n",
       "      <th>2019-01-23 20:17:57.426944128</th>\n",
       "      <td>5.899404</td>\n",
       "      <td>4126.5</td>\n",
       "      <td>-4295.275451</td>\n",
       "    </tr>\n",
       "    <tr>\n",
       "      <th>2019-01-23 20:17:57.431944128</th>\n",
       "      <td>5.614123</td>\n",
       "      <td>4126.0</td>\n",
       "      <td>-4295.944949</td>\n",
       "    </tr>\n",
       "    <tr>\n",
       "      <th>2019-01-23 20:17:57.436944128</th>\n",
       "      <td>5.351276</td>\n",
       "      <td>4126.5</td>\n",
       "      <td>-4297.285790</td>\n",
       "    </tr>\n",
       "    <tr>\n",
       "      <th>2019-01-23 20:17:57.441944128</th>\n",
       "      <td>5.169048</td>\n",
       "      <td>4126.0</td>\n",
       "      <td>-4298.892271</td>\n",
       "    </tr>\n",
       "    <tr>\n",
       "      <th>2019-01-23 20:17:57.446944128</th>\n",
       "      <td>5.461185</td>\n",
       "      <td>4127.5</td>\n",
       "      <td>-4299.541866</td>\n",
       "    </tr>\n",
       "  </tbody>\n",
       "</table>\n",
       "</div>"
      ],
      "text/plain": [
       "                                      x       y            z\n",
       "2019-01-23 20:17:57.426944128  5.899404  4126.5 -4295.275451\n",
       "2019-01-23 20:17:57.431944128  5.614123  4126.0 -4295.944949\n",
       "2019-01-23 20:17:57.436944128  5.351276  4126.5 -4297.285790\n",
       "2019-01-23 20:17:57.441944128  5.169048  4126.0 -4298.892271\n",
       "2019-01-23 20:17:57.446944128  5.461185  4127.5 -4299.541866"
      ]
     },
     "metadata": {},
     "output_type": "display_data"
    }
   ],
   "source": [
    "p = (DataFrame({'raw': sdf.x,\n",
    "                        'smooth': sdf.x.rolling('100ms').mean(),\n",
    "                        'very-smooth': sdf.x.rolling('500ms').mean()})\n",
    "     .plot(width=700)\n",
    "    )"
   ]
  },
  {
   "cell_type": "code",
   "execution_count": 5,
   "metadata": {},
   "outputs": [
    {
     "data": {
      "text/html": [
       "<div>\n",
       "<style scoped>\n",
       "    .dataframe tbody tr th:only-of-type {\n",
       "        vertical-align: middle;\n",
       "    }\n",
       "\n",
       "    .dataframe tbody tr th {\n",
       "        vertical-align: top;\n",
       "    }\n",
       "\n",
       "    .dataframe thead th {\n",
       "        text-align: right;\n",
       "    }\n",
       "</style>\n",
       "<table border=\"1\" class=\"dataframe\">\n",
       "  <thead>\n",
       "    <tr style=\"text-align: right;\">\n",
       "      <th></th>\n",
       "      <th>x</th>\n",
       "      <th>y</th>\n",
       "      <th>z</th>\n",
       "    </tr>\n",
       "  </thead>\n",
       "  <tbody>\n",
       "    <tr>\n",
       "      <th>2019-01-23 20:18:14.887802240</th>\n",
       "      <td>20.625558</td>\n",
       "      <td>5869.0</td>\n",
       "      <td>-6073.295987</td>\n",
       "    </tr>\n",
       "    <tr>\n",
       "      <th>2019-01-23 20:18:14.892802240</th>\n",
       "      <td>20.366605</td>\n",
       "      <td>5869.5</td>\n",
       "      <td>-6073.005789</td>\n",
       "    </tr>\n",
       "    <tr>\n",
       "      <th>2019-01-23 20:18:14.897802240</th>\n",
       "      <td>19.877952</td>\n",
       "      <td>5871.0</td>\n",
       "      <td>-6074.372774</td>\n",
       "    </tr>\n",
       "    <tr>\n",
       "      <th>2019-01-23 20:18:14.902802240</th>\n",
       "      <td>19.992786</td>\n",
       "      <td>5870.5</td>\n",
       "      <td>-6074.258570</td>\n",
       "    </tr>\n",
       "    <tr>\n",
       "      <th>2019-01-23 20:18:14.907802240</th>\n",
       "      <td>20.357527</td>\n",
       "      <td>5871.0</td>\n",
       "      <td>-6075.797383</td>\n",
       "    </tr>\n",
       "  </tbody>\n",
       "</table>\n",
       "</div>"
      ],
      "text/plain": [
       "                                       x       y            z\n",
       "2019-01-23 20:18:14.887802240  20.625558  5869.0 -6073.295987\n",
       "2019-01-23 20:18:14.892802240  20.366605  5869.5 -6073.005789\n",
       "2019-01-23 20:18:14.897802240  19.877952  5871.0 -6074.372774\n",
       "2019-01-23 20:18:14.902802240  19.992786  5870.5 -6074.258570\n",
       "2019-01-23 20:18:14.907802240  20.357527  5871.0 -6075.797383"
      ]
     },
     "metadata": {},
     "output_type": "display_data"
    }
   ],
   "source": [
    "DataFrame({'raw': sdf.x, 'smooth': sdf.x.rolling('100ms').mean(), 'very-smooth': sdf.x.rolling('500ms').mean()}).hvplot(width=700)"
   ]
  },
  {
   "cell_type": "code",
   "execution_count": null,
   "metadata": {},
   "outputs": [],
   "source": []
  }
 ],
 "metadata": {
  "kernelspec": {
   "display_name": "Python 3",
   "language": "python",
   "name": "python3"
  },
  "language_info": {
   "codemirror_mode": {
    "name": "ipython",
    "version": 3
   },
   "file_extension": ".py",
   "mimetype": "text/x-python",
   "name": "python",
   "nbconvert_exporter": "python",
   "pygments_lexer": "ipython3",
   "version": "3.6.5"
  }
 },
 "nbformat": 4,
 "nbformat_minor": 2
}
